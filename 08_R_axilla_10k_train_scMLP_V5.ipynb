{
 "cells": [
  {
   "cell_type": "markdown",
   "id": "1a742115",
   "metadata": {},
   "source": [
    "# Train scMLP, a multi layer perceptron-based classifier on an axilla 10k cells dataset\n",
    "\n",
    "- Train a MLP classifier\n",
    "- Format the classifier to use it with adverSCarial\n",
    "- Run a single-gene attack"
   ]
  },
  {
   "cell_type": "code",
   "execution_count": 1,
   "id": "c8178359",
   "metadata": {
    "execution": {
     "iopub.execute_input": "2024-10-07T04:52:17.404947Z",
     "iopub.status.busy": "2024-10-07T04:52:17.403151Z",
     "iopub.status.idle": "2024-10-07T04:52:18.612818Z",
     "shell.execute_reply": "2024-10-07T04:52:18.611390Z"
    }
   },
   "outputs": [],
   "source": [
    "library(reticulate)\n",
    "use_python(\"/usr/bin/python3\", required = TRUE)"
   ]
  },
  {
   "cell_type": "code",
   "execution_count": 2,
   "id": "11b05ec0",
   "metadata": {
    "execution": {
     "iopub.execute_input": "2024-10-07T04:52:18.639854Z",
     "iopub.status.busy": "2024-10-07T04:52:18.616031Z",
     "iopub.status.idle": "2024-10-07T04:52:18.919596Z",
     "shell.execute_reply": "2024-10-07T04:52:18.918171Z"
    }
   },
   "outputs": [
    {
     "name": "stderr",
     "output_type": "stream",
     "text": [
      "\n",
      "Attaching package: ‘dplyr’\n",
      "\n",
      "\n",
      "The following objects are masked from ‘package:stats’:\n",
      "\n",
      "    filter, lag\n",
      "\n",
      "\n",
      "The following objects are masked from ‘package:base’:\n",
      "\n",
      "    intersect, setdiff, setequal, union\n",
      "\n",
      "\n"
     ]
    }
   ],
   "source": [
    "library(keras)\n",
    "library(dplyr)\n",
    "library(adverSCarial)"
   ]
  },
  {
   "cell_type": "code",
   "execution_count": null,
   "id": "6a5354de",
   "metadata": {},
   "outputs": [],
   "source": []
  },
  {
   "cell_type": "code",
   "execution_count": 3,
   "id": "70ca0c89",
   "metadata": {
    "execution": {
     "iopub.execute_input": "2024-10-07T04:52:18.923970Z",
     "iopub.status.busy": "2024-10-07T04:52:18.922927Z",
     "iopub.status.idle": "2024-10-07T04:52:18.935593Z",
     "shell.execute_reply": "2024-10-07T04:52:18.934312Z"
    }
   },
   "outputs": [
    {
     "data": {
      "text/plain": [
       "[1] ‘2.15.0’"
      ]
     },
     "metadata": {},
     "output_type": "display_data"
    }
   ],
   "source": [
    "packageVersion(\"keras\")"
   ]
  },
  {
   "cell_type": "code",
   "execution_count": 4,
   "id": "7aee9554",
   "metadata": {
    "execution": {
     "iopub.execute_input": "2024-10-07T04:52:18.939765Z",
     "iopub.status.busy": "2024-10-07T04:52:18.938693Z",
     "iopub.status.idle": "2024-10-07T04:52:18.947509Z",
     "shell.execute_reply": "2024-10-07T04:52:18.946233Z"
    }
   },
   "outputs": [],
   "source": [
    "c_basen = c(\"hgnc_axilla_10k\", \"hgnc_brain_7k\", \"hgnc_liver_6k\")"
   ]
  },
  {
   "cell_type": "markdown",
   "id": "d2648163",
   "metadata": {},
   "source": [
    "# Load data"
   ]
  },
  {
   "cell_type": "code",
   "execution_count": 5,
   "id": "0cfe9ea5",
   "metadata": {
    "execution": {
     "iopub.execute_input": "2024-10-07T04:52:18.951676Z",
     "iopub.status.busy": "2024-10-07T04:52:18.950675Z",
     "iopub.status.idle": "2024-10-07T04:56:23.605948Z",
     "shell.execute_reply": "2024-10-07T04:56:23.604595Z"
    }
   },
   "outputs": [],
   "source": [
    "basen = c_basen[1]\n",
    "df_train_boot <- read.table(paste0(\"data//v5/data//sc//\",basen,\"_train_balanced.txt\"))\n",
    "df_test <- read.table(paste0(\"data//v5/data//sc//\",basen,\"_test.txt\"))"
   ]
  },
  {
   "cell_type": "code",
   "execution_count": 6,
   "id": "49df2a78",
   "metadata": {
    "execution": {
     "iopub.execute_input": "2024-10-07T04:56:23.626266Z",
     "iopub.status.busy": "2024-10-07T04:56:23.625199Z",
     "iopub.status.idle": "2024-10-07T04:56:23.637969Z",
     "shell.execute_reply": "2024-10-07T04:56:23.636733Z"
    }
   },
   "outputs": [
    {
     "data": {
      "text/plain": [
       "\n",
       "  blood vessel endothelial cell blood vessel smooth muscle cell \n",
       "                            100                             100 \n",
       "                     fibroblast                      macrophage \n",
       "                            100                             100 \n",
       "                 malignant cell                          T cell \n",
       "                            100                             100 "
      ]
     },
     "metadata": {},
     "output_type": "display_data"
    }
   ],
   "source": [
    "# Unbalanced data\n",
    "table(df_train_boot$y)"
   ]
  },
  {
   "cell_type": "code",
   "execution_count": 7,
   "id": "e0e1c376",
   "metadata": {
    "execution": {
     "iopub.execute_input": "2024-10-07T04:56:23.641999Z",
     "iopub.status.busy": "2024-10-07T04:56:23.640991Z",
     "iopub.status.idle": "2024-10-07T04:56:26.673477Z",
     "shell.execute_reply": "2024-10-07T04:56:26.656079Z"
    }
   },
   "outputs": [],
   "source": [
    "# Prepare data\n",
    "x_train <- as.matrix(df_train_boot[, -which(names(df_train_boot) == \"y\")])\n",
    "x_test <- as.matrix(df_test[, -which(names(df_test) == \"y\")])\n",
    "\n",
    "\n",
    "# One hot encoding\n",
    "y_train <- model.matrix(~ df_train_boot$y - 1)\n",
    "y_test <- model.matrix(~ df_test$y - 1)"
   ]
  },
  {
   "cell_type": "code",
   "execution_count": 8,
   "id": "86ff0fbf",
   "metadata": {
    "execution": {
     "iopub.execute_input": "2024-10-07T04:56:26.682756Z",
     "iopub.status.busy": "2024-10-07T04:56:26.681807Z",
     "iopub.status.idle": "2024-10-07T04:56:43.943118Z",
     "shell.execute_reply": "2024-10-07T04:56:43.938559Z"
    }
   },
   "outputs": [],
   "source": [
    "# Architecture of the model\n",
    "model <- keras_model_sequential() %>%\n",
    "  layer_dense(units = 128, activation = 'relu', input_shape = c(ncol(df_train_boot)-1)) %>%\n",
    "  layer_dropout(rate = 0.5) %>%\n",
    "  layer_dense(units = 64, activation = 'relu') %>%\n",
    "  layer_dropout(rate = 0.5) %>%\n",
    "  layer_dense(units = length(unique(df_train_boot$y)), activation = 'softmax')\n",
    "\n",
    "# Compilation\n",
    "model %>% compile(\n",
    "  loss = 'categorical_crossentropy',\n",
    "  optimizer = optimizer_adam(),\n",
    "  metrics = c('accuracy')\n",
    ")\n"
   ]
  },
  {
   "cell_type": "code",
   "execution_count": 9,
   "id": "5b220e96",
   "metadata": {
    "execution": {
     "iopub.execute_input": "2024-10-07T04:56:43.969288Z",
     "iopub.status.busy": "2024-10-07T04:56:43.967955Z",
     "iopub.status.idle": "2024-10-07T04:57:04.558347Z",
     "shell.execute_reply": "2024-10-07T04:57:04.523669Z"
    }
   },
   "outputs": [],
   "source": [
    "# Train the model\n",
    "history <- model %>% fit(\n",
    "  x_train, y_train,\n",
    "  epochs = 20,\n",
    "  batch_size = 32,\n",
    "  validation_split = 0.2\n",
    ")"
   ]
  },
  {
   "cell_type": "code",
   "execution_count": 10,
   "id": "6b0573c3",
   "metadata": {
    "execution": {
     "iopub.execute_input": "2024-10-07T04:57:04.749984Z",
     "iopub.status.busy": "2024-10-07T04:57:04.703404Z",
     "iopub.status.idle": "2024-10-07T04:57:16.072275Z",
     "shell.execute_reply": "2024-10-07T04:57:15.997694Z"
    }
   },
   "outputs": [],
   "source": [
    "# Faire des prédictions\n",
    "predictions <- model %>% predict(x_test)"
   ]
  },
  {
   "cell_type": "code",
   "execution_count": 11,
   "id": "b97291d7",
   "metadata": {
    "execution": {
     "iopub.execute_input": "2024-10-07T04:57:16.233844Z",
     "iopub.status.busy": "2024-10-07T04:57:16.188783Z",
     "iopub.status.idle": "2024-10-07T04:57:17.932125Z",
     "shell.execute_reply": "2024-10-07T04:57:17.883032Z"
    }
   },
   "outputs": [],
   "source": [
    "save_model_hdf5(model, paste0(\"repr_data/classifiers/scMLP/\",basen,\"_dl_model.h5\"))"
   ]
  },
  {
   "cell_type": "code",
   "execution_count": null,
   "id": "64137b45",
   "metadata": {},
   "outputs": [],
   "source": []
  },
  {
   "cell_type": "code",
   "execution_count": 12,
   "id": "2c26dbc8",
   "metadata": {
    "execution": {
     "iopub.execute_input": "2024-10-07T04:57:18.058091Z",
     "iopub.status.busy": "2024-10-07T04:57:18.015744Z",
     "iopub.status.idle": "2024-10-07T04:57:18.462547Z",
     "shell.execute_reply": "2024-10-07T04:57:18.335624Z"
    }
   },
   "outputs": [],
   "source": [
    "write.table(sub(\"df_train_boot\\\\$y\",\"\",unique(colnames(y_train))),\n",
    "            paste0(\"repr_data/classifiers/scMLP/\",basen,\"_new_colnames.txt\"), row.names=F, col.names=F)"
   ]
  },
  {
   "cell_type": "code",
   "execution_count": null,
   "id": "3c55931b",
   "metadata": {},
   "outputs": [],
   "source": []
  },
  {
   "cell_type": "markdown",
   "id": "4056c3eb",
   "metadata": {},
   "source": [
    "# Format the Classifier\n",
    "To work with adverSCarial the classifier needs to be formated in a certain way."
   ]
  },
  {
   "cell_type": "code",
   "execution_count": 13,
   "id": "2c4b2b1c",
   "metadata": {
    "execution": {
     "iopub.execute_input": "2024-10-07T04:57:18.831229Z",
     "iopub.status.busy": "2024-10-07T04:57:18.546816Z",
     "iopub.status.idle": "2024-10-07T04:57:20.617110Z",
     "shell.execute_reply": "2024-10-07T04:57:20.575242Z"
    }
   },
   "outputs": [],
   "source": [
    "scMLP_classifier <- function(expr, clusters, target){\n",
    "    expr = as.matrix(expr)\n",
    "    message(\"load model\")\n",
    "    library(reticulate)\n",
    "    use_python(\"/usr/bin/python3\", required = TRUE)\n",
    "    library(keras)\n",
    "    mlpModel <<- load_model_hdf5(paste0(\"repr_data/classifiers/scMLP/\",basen,\"_dl_model.h5\"))\n",
    "    newColnames <<- read.table(paste0(\"repr_data/classifiers/scMLP/\",basen,\"_new_colnames.txt\"))$V1\n",
    "    \n",
    "    predictions <- predict(mlpModel, expr)\n",
    "    colnames(predictions) <- newColnames\n",
    "    rownames(predictions) <- rownames(expr)\n",
    "    predictions <- as.data.frame(predictions)\n",
    "    \n",
    "    if (sum(clusters == target) == 0 ){\n",
    "        return( c(\"UNDETERMINED\",1))\n",
    "    }\n",
    "    \n",
    "    cell_types <- apply(predictions[clusters == target,], 1, function(x){\n",
    "        names(x[x == max(x)])[1]\n",
    "    })\n",
    "    table_cell_type <<- table(cell_types)\n",
    "    str_class <- names(table_cell_type[order(table_cell_type, decreasing=T)][1])\n",
    "    resSCMLP <- list(\n",
    "        # Cell type prediction for the cluster\n",
    "        prediction=str_class,\n",
    "        # Score of the predicted cell type\n",
    "        odd=1,\n",
    "        # Score for each cell type for each cell\n",
    "        typePredictions=as.data.frame(t(predictions)),\n",
    "        # Cell type for each cell\n",
    "        cellTypes=cell_types)\n",
    "\n",
    "    return(resSCMLP)\n",
    "}\n"
   ]
  },
  {
   "cell_type": "code",
   "execution_count": 14,
   "id": "23b7b687",
   "metadata": {
    "execution": {
     "iopub.execute_input": "2024-10-07T04:57:20.751885Z",
     "iopub.status.busy": "2024-10-07T04:57:20.709403Z",
     "iopub.status.idle": "2024-10-07T04:57:22.197825Z",
     "shell.execute_reply": "2024-10-07T04:57:22.145745Z"
    }
   },
   "outputs": [],
   "source": [
    "expr_df <- df_test[, -which(names(df_test) == \"y\")]\n",
    "clusters_df <- df_test$y\n",
    "names(clusters_df) <- rownames(df_test)"
   ]
  },
  {
   "cell_type": "markdown",
   "id": "fa9610ce",
   "metadata": {},
   "source": [
    "Classification of a cluster."
   ]
  },
  {
   "cell_type": "code",
   "execution_count": 15,
   "id": "f81ddbcb",
   "metadata": {
    "execution": {
     "iopub.execute_input": "2024-10-07T04:57:22.312291Z",
     "iopub.status.busy": "2024-10-07T04:57:22.272161Z",
     "iopub.status.idle": "2024-10-07T04:57:53.914419Z",
     "shell.execute_reply": "2024-10-07T04:57:53.891301Z"
    }
   },
   "outputs": [
    {
     "name": "stderr",
     "output_type": "stream",
     "text": [
      "load model\n",
      "\n"
     ]
    }
   ],
   "source": [
    "myPreds <- scMLP_classifier(expr_df, clusters_df, \"fibroblast\")"
   ]
  },
  {
   "cell_type": "code",
   "execution_count": 16,
   "id": "843a94e4",
   "metadata": {
    "execution": {
     "iopub.execute_input": "2024-10-07T04:57:53.988783Z",
     "iopub.status.busy": "2024-10-07T04:57:53.977416Z",
     "iopub.status.idle": "2024-10-07T04:57:54.167387Z",
     "shell.execute_reply": "2024-10-07T04:57:54.159309Z"
    }
   },
   "outputs": [
    {
     "data": {
      "text/html": [
       "'fibroblast'"
      ],
      "text/latex": [
       "'fibroblast'"
      ],
      "text/markdown": [
       "'fibroblast'"
      ],
      "text/plain": [
       "[1] \"fibroblast\""
      ]
     },
     "metadata": {},
     "output_type": "display_data"
    }
   ],
   "source": [
    "# Cell type prediction for the cluster\n",
    "myPreds$prediction"
   ]
  },
  {
   "cell_type": "code",
   "execution_count": null,
   "id": "33428744",
   "metadata": {},
   "outputs": [],
   "source": []
  },
  {
   "cell_type": "code",
   "execution_count": 17,
   "id": "52445f50",
   "metadata": {
    "execution": {
     "iopub.execute_input": "2024-10-07T04:57:54.181517Z",
     "iopub.status.busy": "2024-10-07T04:57:54.177577Z",
     "iopub.status.idle": "2024-10-07T04:57:54.356792Z",
     "shell.execute_reply": "2024-10-07T04:57:54.351311Z"
    }
   },
   "outputs": [
    {
     "data": {
      "text/html": [
       "<table class=\"dataframe\">\n",
       "<caption>A data.frame: 5 × 5</caption>\n",
       "<thead>\n",
       "\t<tr><th></th><th scope=col>HTAPP-878-SMP-7149-TST-channel1_GATGTTGCAAACGTGG-1</th><th scope=col>HTAPP-878-SMP-7149-TST-channel1_CTTTCAAGTAGGTACG-1</th><th scope=col>HTAPP-878-SMP-7149-TST-channel1_CACCGTTGTTCTGACA-1</th><th scope=col>HTAPP-878-SMP-7149-TST-channel1_GAGTTTGCACAACGTT-1</th><th scope=col>HTAPP-878-SMP-7149-TST-channel1_GATGACTTCTTTGCTA-1</th></tr>\n",
       "\t<tr><th></th><th scope=col>&lt;dbl&gt;</th><th scope=col>&lt;dbl&gt;</th><th scope=col>&lt;dbl&gt;</th><th scope=col>&lt;dbl&gt;</th><th scope=col>&lt;dbl&gt;</th></tr>\n",
       "</thead>\n",
       "<tbody>\n",
       "\t<tr><th scope=row>blood vessel endothelial cell</th><td>2.961845e-21</td><td>3.226679e-19</td><td>1.697210e-26</td><td>4.006229e-25</td><td>1.380013e-25</td></tr>\n",
       "\t<tr><th scope=row>blood vessel smooth muscle cell</th><td>3.215563e-24</td><td>7.448658e-22</td><td>4.302244e-30</td><td>1.432534e-28</td><td>2.952323e-29</td></tr>\n",
       "\t<tr><th scope=row>fibroblast</th><td>7.702401e-27</td><td>6.385542e-26</td><td>2.809415e-33</td><td>3.601892e-31</td><td>5.312436e-32</td></tr>\n",
       "\t<tr><th scope=row>macrophage</th><td>1.922037e-29</td><td>3.273949e-30</td><td>1.888648e-36</td><td>1.591556e-34</td><td>9.483943e-36</td></tr>\n",
       "\t<tr><th scope=row>malignant cell</th><td>9.999999e-01</td><td>9.999999e-01</td><td>9.999999e-01</td><td>9.999999e-01</td><td>9.999999e-01</td></tr>\n",
       "</tbody>\n",
       "</table>\n"
      ],
      "text/latex": [
       "A data.frame: 5 × 5\n",
       "\\begin{tabular}{r|lllll}\n",
       "  & HTAPP-878-SMP-7149-TST-channel1\\_GATGTTGCAAACGTGG-1 & HTAPP-878-SMP-7149-TST-channel1\\_CTTTCAAGTAGGTACG-1 & HTAPP-878-SMP-7149-TST-channel1\\_CACCGTTGTTCTGACA-1 & HTAPP-878-SMP-7149-TST-channel1\\_GAGTTTGCACAACGTT-1 & HTAPP-878-SMP-7149-TST-channel1\\_GATGACTTCTTTGCTA-1\\\\\n",
       "  & <dbl> & <dbl> & <dbl> & <dbl> & <dbl>\\\\\n",
       "\\hline\n",
       "\tblood vessel endothelial cell & 2.961845e-21 & 3.226679e-19 & 1.697210e-26 & 4.006229e-25 & 1.380013e-25\\\\\n",
       "\tblood vessel smooth muscle cell & 3.215563e-24 & 7.448658e-22 & 4.302244e-30 & 1.432534e-28 & 2.952323e-29\\\\\n",
       "\tfibroblast & 7.702401e-27 & 6.385542e-26 & 2.809415e-33 & 3.601892e-31 & 5.312436e-32\\\\\n",
       "\tmacrophage & 1.922037e-29 & 3.273949e-30 & 1.888648e-36 & 1.591556e-34 & 9.483943e-36\\\\\n",
       "\tmalignant cell & 9.999999e-01 & 9.999999e-01 & 9.999999e-01 & 9.999999e-01 & 9.999999e-01\\\\\n",
       "\\end{tabular}\n"
      ],
      "text/markdown": [
       "\n",
       "A data.frame: 5 × 5\n",
       "\n",
       "| <!--/--> | HTAPP-878-SMP-7149-TST-channel1_GATGTTGCAAACGTGG-1 &lt;dbl&gt; | HTAPP-878-SMP-7149-TST-channel1_CTTTCAAGTAGGTACG-1 &lt;dbl&gt; | HTAPP-878-SMP-7149-TST-channel1_CACCGTTGTTCTGACA-1 &lt;dbl&gt; | HTAPP-878-SMP-7149-TST-channel1_GAGTTTGCACAACGTT-1 &lt;dbl&gt; | HTAPP-878-SMP-7149-TST-channel1_GATGACTTCTTTGCTA-1 &lt;dbl&gt; |\n",
       "|---|---|---|---|---|---|\n",
       "| blood vessel endothelial cell | 2.961845e-21 | 3.226679e-19 | 1.697210e-26 | 4.006229e-25 | 1.380013e-25 |\n",
       "| blood vessel smooth muscle cell | 3.215563e-24 | 7.448658e-22 | 4.302244e-30 | 1.432534e-28 | 2.952323e-29 |\n",
       "| fibroblast | 7.702401e-27 | 6.385542e-26 | 2.809415e-33 | 3.601892e-31 | 5.312436e-32 |\n",
       "| macrophage | 1.922037e-29 | 3.273949e-30 | 1.888648e-36 | 1.591556e-34 | 9.483943e-36 |\n",
       "| malignant cell | 9.999999e-01 | 9.999999e-01 | 9.999999e-01 | 9.999999e-01 | 9.999999e-01 |\n",
       "\n"
      ],
      "text/plain": [
       "                                HTAPP-878-SMP-7149-TST-channel1_GATGTTGCAAACGTGG-1\n",
       "blood vessel endothelial cell   2.961845e-21                                      \n",
       "blood vessel smooth muscle cell 3.215563e-24                                      \n",
       "fibroblast                      7.702401e-27                                      \n",
       "macrophage                      1.922037e-29                                      \n",
       "malignant cell                  9.999999e-01                                      \n",
       "                                HTAPP-878-SMP-7149-TST-channel1_CTTTCAAGTAGGTACG-1\n",
       "blood vessel endothelial cell   3.226679e-19                                      \n",
       "blood vessel smooth muscle cell 7.448658e-22                                      \n",
       "fibroblast                      6.385542e-26                                      \n",
       "macrophage                      3.273949e-30                                      \n",
       "malignant cell                  9.999999e-01                                      \n",
       "                                HTAPP-878-SMP-7149-TST-channel1_CACCGTTGTTCTGACA-1\n",
       "blood vessel endothelial cell   1.697210e-26                                      \n",
       "blood vessel smooth muscle cell 4.302244e-30                                      \n",
       "fibroblast                      2.809415e-33                                      \n",
       "macrophage                      1.888648e-36                                      \n",
       "malignant cell                  9.999999e-01                                      \n",
       "                                HTAPP-878-SMP-7149-TST-channel1_GAGTTTGCACAACGTT-1\n",
       "blood vessel endothelial cell   4.006229e-25                                      \n",
       "blood vessel smooth muscle cell 1.432534e-28                                      \n",
       "fibroblast                      3.601892e-31                                      \n",
       "macrophage                      1.591556e-34                                      \n",
       "malignant cell                  9.999999e-01                                      \n",
       "                                HTAPP-878-SMP-7149-TST-channel1_GATGACTTCTTTGCTA-1\n",
       "blood vessel endothelial cell   1.380013e-25                                      \n",
       "blood vessel smooth muscle cell 2.952323e-29                                      \n",
       "fibroblast                      5.312436e-32                                      \n",
       "macrophage                      9.483943e-36                                      \n",
       "malignant cell                  9.999999e-01                                      "
      ]
     },
     "metadata": {},
     "output_type": "display_data"
    }
   ],
   "source": [
    "# Score for each cell type for each cell\n",
    "myPreds$typePredictions[1:5,1:5]"
   ]
  },
  {
   "cell_type": "code",
   "execution_count": null,
   "id": "b6a1075a",
   "metadata": {},
   "outputs": [],
   "source": []
  },
  {
   "cell_type": "code",
   "execution_count": 18,
   "id": "598f7eeb",
   "metadata": {
    "execution": {
     "iopub.execute_input": "2024-10-07T04:57:54.371421Z",
     "iopub.status.busy": "2024-10-07T04:57:54.366508Z",
     "iopub.status.idle": "2024-10-07T04:57:54.415939Z",
     "shell.execute_reply": "2024-10-07T04:57:54.412132Z"
    }
   },
   "outputs": [
    {
     "data": {
      "text/html": [
       "<style>\n",
       ".dl-inline {width: auto; margin:0; padding: 0}\n",
       ".dl-inline>dt, .dl-inline>dd {float: none; width: auto; display: inline-block}\n",
       ".dl-inline>dt::after {content: \":\\0020\"; padding-right: .5ex}\n",
       ".dl-inline>dt:not(:first-of-type) {padding-left: .5ex}\n",
       "</style><dl class=dl-inline><dt>HTAPP-878-SMP-7149-TST-channel1_CGAGGAAGTTAGGCTT-1</dt><dd>'fibroblast'</dd><dt>HTAPP-878-SMP-7149-TST-channel1_TTACAGGTCAATCTCT-1</dt><dd>'fibroblast'</dd><dt>HTAPP-878-SMP-7149-TST-channel1_ATCTTCACAGCCATTA-1</dt><dd>'fibroblast'</dd><dt>HTAPP-878-SMP-7149-TST-channel1_CAGTTCCCATCTCCCA-1</dt><dd>'blood vessel endothelial cell'</dd><dt>HTAPP-878-SMP-7149-TST-channel1_CTGTCGTCAGTTGTTG-1</dt><dd>'malignant cell'</dd><dt>HTAPP-878-SMP-7149-TST-channel1_CACCGTTTCGGACTGC-1</dt><dd>'fibroblast'</dd></dl>\n"
      ],
      "text/latex": [
       "\\begin{description*}\n",
       "\\item[HTAPP-878-SMP-7149-TST-channel1\\textbackslash{}\\_CGAGGAAGTTAGGCTT-1] 'fibroblast'\n",
       "\\item[HTAPP-878-SMP-7149-TST-channel1\\textbackslash{}\\_TTACAGGTCAATCTCT-1] 'fibroblast'\n",
       "\\item[HTAPP-878-SMP-7149-TST-channel1\\textbackslash{}\\_ATCTTCACAGCCATTA-1] 'fibroblast'\n",
       "\\item[HTAPP-878-SMP-7149-TST-channel1\\textbackslash{}\\_CAGTTCCCATCTCCCA-1] 'blood vessel endothelial cell'\n",
       "\\item[HTAPP-878-SMP-7149-TST-channel1\\textbackslash{}\\_CTGTCGTCAGTTGTTG-1] 'malignant cell'\n",
       "\\item[HTAPP-878-SMP-7149-TST-channel1\\textbackslash{}\\_CACCGTTTCGGACTGC-1] 'fibroblast'\n",
       "\\end{description*}\n"
      ],
      "text/markdown": [
       "HTAPP-878-SMP-7149-TST-channel1_CGAGGAAGTTAGGCTT-1\n",
       ":   'fibroblast'HTAPP-878-SMP-7149-TST-channel1_TTACAGGTCAATCTCT-1\n",
       ":   'fibroblast'HTAPP-878-SMP-7149-TST-channel1_ATCTTCACAGCCATTA-1\n",
       ":   'fibroblast'HTAPP-878-SMP-7149-TST-channel1_CAGTTCCCATCTCCCA-1\n",
       ":   'blood vessel endothelial cell'HTAPP-878-SMP-7149-TST-channel1_CTGTCGTCAGTTGTTG-1\n",
       ":   'malignant cell'HTAPP-878-SMP-7149-TST-channel1_CACCGTTTCGGACTGC-1\n",
       ":   'fibroblast'\n",
       "\n"
      ],
      "text/plain": [
       "HTAPP-878-SMP-7149-TST-channel1_CGAGGAAGTTAGGCTT-1 \n",
       "                                      \"fibroblast\" \n",
       "HTAPP-878-SMP-7149-TST-channel1_TTACAGGTCAATCTCT-1 \n",
       "                                      \"fibroblast\" \n",
       "HTAPP-878-SMP-7149-TST-channel1_ATCTTCACAGCCATTA-1 \n",
       "                                      \"fibroblast\" \n",
       "HTAPP-878-SMP-7149-TST-channel1_CAGTTCCCATCTCCCA-1 \n",
       "                   \"blood vessel endothelial cell\" \n",
       "HTAPP-878-SMP-7149-TST-channel1_CTGTCGTCAGTTGTTG-1 \n",
       "                                  \"malignant cell\" \n",
       "HTAPP-878-SMP-7149-TST-channel1_CACCGTTTCGGACTGC-1 \n",
       "                                      \"fibroblast\" "
      ]
     },
     "metadata": {},
     "output_type": "display_data"
    }
   ],
   "source": [
    "# Cell type for each cell\n",
    "head(myPreds$cellTypes)"
   ]
  },
  {
   "cell_type": "code",
   "execution_count": 19,
   "id": "24ef0f03",
   "metadata": {
    "execution": {
     "iopub.execute_input": "2024-10-07T04:57:54.429403Z",
     "iopub.status.busy": "2024-10-07T04:57:54.425147Z",
     "iopub.status.idle": "2024-10-07T05:02:32.226480Z",
     "shell.execute_reply": "2024-10-07T05:02:32.182767Z"
    }
   },
   "outputs": [
    {
     "name": "stderr",
     "output_type": "stream",
     "text": [
      "load model\n",
      "\n",
      "Cell type: malignant cell, prediction: malignant cell\n",
      "\n",
      "load model\n",
      "\n",
      "Cell type: blood vessel endothelial cell, prediction: blood vessel endothelial cell\n",
      "\n",
      "load model\n",
      "\n",
      "Cell type: fibroblast, prediction: fibroblast\n",
      "\n",
      "load model\n",
      "\n",
      "Cell type: macrophage, prediction: macrophage\n",
      "\n",
      "load model\n",
      "\n",
      "Cell type: blood vessel smooth muscle cell, prediction: blood vessel smooth muscle cell\n",
      "\n",
      "load model\n",
      "\n",
      "Cell type: T cell, prediction: macrophage\n",
      "\n"
     ]
    }
   ],
   "source": [
    "for ( myClust in unique(clusters_df)){\n",
    "    myPreds <- scMLP_classifier(expr_df, clusters_df, myClust)\n",
    "    message(\"Cell type: \", myClust, \", prediction: \", myPreds$prediction)\n",
    "}\n"
   ]
  },
  {
   "cell_type": "markdown",
   "id": "4e911b58",
   "metadata": {},
   "source": [
    "## The function scMLP_classifier can be used as classifier with the adverSCarial package functions"
   ]
  },
  {
   "cell_type": "markdown",
   "id": "56c787c9",
   "metadata": {},
   "source": [
    "# Run a single-gene attack\n",
    "Example of single-gene attack with the positive-aberrant modification on the fibroblast cluster.\n",
    "The argument returnFirstFound=T indicates that the process should stop the attack when a successful attack is detected and return the corresponding gene"
   ]
  },
  {
   "cell_type": "code",
   "execution_count": 20,
   "id": "8ba03b8e",
   "metadata": {
    "execution": {
     "iopub.execute_input": "2024-10-07T05:02:32.549261Z",
     "iopub.status.busy": "2024-10-07T05:02:32.532659Z",
     "iopub.status.idle": "2024-10-07T05:02:32.894066Z",
     "shell.execute_reply": "2024-10-07T05:02:32.870577Z"
    }
   },
   "outputs": [],
   "source": [
    "start_time <- Sys.time()"
   ]
  },
  {
   "cell_type": "code",
   "execution_count": 21,
   "id": "b61eaa3d",
   "metadata": {
    "execution": {
     "iopub.execute_input": "2024-10-07T05:02:32.952852Z",
     "iopub.status.busy": "2024-10-07T05:02:32.933990Z",
     "iopub.status.idle": "2024-10-07T05:08:54.232609Z",
     "shell.execute_reply": "2024-10-07T05:08:54.222082Z"
    }
   },
   "outputs": [
    {
     "name": "stderr",
     "output_type": "stream",
     "text": [
      "predictWithNewValue data.frame data.frame\n",
      "\n",
      "load model\n",
      "\n",
      "Split number: 1/100\n",
      "\n",
      "predictWithNewValue data.frame data.frame\n",
      "\n",
      "load model\n",
      "\n",
      "cellType: blood vessel endothelial cell\n",
      "\n",
      "classifTarget: fibroblast\n",
      "\n",
      "target: fibroblast\n",
      "\n",
      "predictWithNewValue data.frame data.frame\n",
      "\n",
      "load model\n",
      "\n",
      "cellType: blood vessel endothelial cell\n",
      "\n",
      "classifTarget: fibroblast\n",
      "\n",
      "target: fibroblast\n",
      "\n",
      "predictWithNewValue data.frame data.frame\n",
      "\n",
      "load model\n",
      "\n",
      "cellType: blood vessel smooth muscle cell\n",
      "\n",
      "classifTarget: fibroblast\n",
      "\n",
      "target: fibroblast\n",
      "\n",
      "predictWithNewValue data.frame data.frame\n",
      "\n",
      "load model\n",
      "\n",
      "cellType: blood vessel endothelial cell\n",
      "\n",
      "classifTarget: fibroblast\n",
      "\n",
      "target: fibroblast\n",
      "\n",
      "predictWithNewValue data.frame data.frame\n",
      "\n",
      "load model\n",
      "\n",
      "cellType: malignant cell\n",
      "\n",
      "classifTarget: fibroblast\n",
      "\n",
      "target: fibroblast\n",
      "\n",
      "predictWithNewValue data.frame data.frame\n",
      "\n",
      "load model\n",
      "\n",
      "cellType: malignant cell\n",
      "\n",
      "classifTarget: fibroblast\n",
      "\n",
      "target: fibroblast\n",
      "\n",
      "predictWithNewValue data.frame data.frame\n",
      "\n",
      "load model\n",
      "\n",
      "cellType: malignant cell\n",
      "\n",
      "classifTarget: fibroblast\n",
      "\n",
      "target: fibroblast\n",
      "\n",
      "predictWithNewValue data.frame data.frame\n",
      "\n",
      "load model\n",
      "\n",
      "cellType: blood vessel endothelial cell\n",
      "\n",
      "classifTarget: fibroblast\n",
      "\n",
      "target: fibroblast\n",
      "\n"
     ]
    }
   ],
   "source": [
    "myAttack <- advSingleGene(expr_df, clusters_df, \"fibroblast\", scMLP_classifier, returnFirstFound = T, advMethod = \"positive_aberrant\")"
   ]
  },
  {
   "cell_type": "markdown",
   "id": "0b6efa6e",
   "metadata": {},
   "source": [
    "### Computation time"
   ]
  },
  {
   "cell_type": "code",
   "execution_count": 22,
   "id": "cd399307",
   "metadata": {
    "execution": {
     "iopub.execute_input": "2024-10-07T05:08:54.366271Z",
     "iopub.status.busy": "2024-10-07T05:08:54.362819Z",
     "iopub.status.idle": "2024-10-07T05:08:54.479421Z",
     "shell.execute_reply": "2024-10-07T05:08:54.477438Z"
    }
   },
   "outputs": [
    {
     "data": {
      "text/plain": [
       "Time difference of 6.360108 mins"
      ]
     },
     "metadata": {},
     "output_type": "display_data"
    }
   ],
   "source": [
    "Sys.time() - start_time"
   ]
  },
  {
   "cell_type": "code",
   "execution_count": null,
   "id": "fc1e83cd",
   "metadata": {},
   "outputs": [],
   "source": []
  },
  {
   "cell_type": "code",
   "execution_count": 23,
   "id": "55cae40f",
   "metadata": {
    "execution": {
     "iopub.execute_input": "2024-10-07T05:08:54.486860Z",
     "iopub.status.busy": "2024-10-07T05:08:54.485478Z",
     "iopub.status.idle": "2024-10-07T05:08:54.536185Z",
     "shell.execute_reply": "2024-10-07T05:08:54.534065Z"
    }
   },
   "outputs": [
    {
     "data": {
      "text/plain": [
       "$ENSG00000238009\n",
       "[1] \"blood vessel endothelial cell\" \"1\"                            \n"
      ]
     },
     "metadata": {},
     "output_type": "display_data"
    }
   ],
   "source": [
    "myAttack"
   ]
  },
  {
   "cell_type": "markdown",
   "id": "580ccfef",
   "metadata": {},
   "source": [
    "Build the modified RNA expression matrix."
   ]
  },
  {
   "cell_type": "code",
   "execution_count": 24,
   "id": "0e1a9d71",
   "metadata": {
    "execution": {
     "iopub.execute_input": "2024-10-07T05:08:54.549155Z",
     "iopub.status.busy": "2024-10-07T05:08:54.543432Z",
     "iopub.status.idle": "2024-10-07T05:09:07.867091Z",
     "shell.execute_reply": "2024-10-07T05:09:07.865768Z"
    }
   },
   "outputs": [],
   "source": [
    "mod_expr_df <- advModifications(expr_df, clusters=clusters_df, target=\"fibroblast\", genes=names(myAttack@values)[1], advMethod = \"positive_aberrant\")"
   ]
  },
  {
   "cell_type": "markdown",
   "id": "babc52dd",
   "metadata": {},
   "source": [
    "Check if the attack was successful."
   ]
  },
  {
   "cell_type": "code",
   "execution_count": 25,
   "id": "b77fb5aa",
   "metadata": {
    "execution": {
     "iopub.execute_input": "2024-10-07T05:09:07.873160Z",
     "iopub.status.busy": "2024-10-07T05:09:07.870970Z",
     "iopub.status.idle": "2024-10-07T05:09:44.480697Z",
     "shell.execute_reply": "2024-10-07T05:09:44.422448Z"
    }
   },
   "outputs": [
    {
     "name": "stderr",
     "output_type": "stream",
     "text": [
      "load model\n",
      "\n"
     ]
    },
    {
     "data": {
      "text/html": [
       "'blood vessel endothelial cell'"
      ],
      "text/latex": [
       "'blood vessel endothelial cell'"
      ],
      "text/markdown": [
       "'blood vessel endothelial cell'"
      ],
      "text/plain": [
       "[1] \"blood vessel endothelial cell\""
      ]
     },
     "metadata": {},
     "output_type": "display_data"
    }
   ],
   "source": [
    "mod_myPreds <- scMLP_classifier(mod_expr_df, clusters_df, \"fibroblast\")\n",
    "mod_myPreds$prediction"
   ]
  },
  {
   "cell_type": "code",
   "execution_count": null,
   "id": "a6bdf79e",
   "metadata": {},
   "outputs": [],
   "source": []
  },
  {
   "cell_type": "code",
   "execution_count": null,
   "id": "e4ba333a",
   "metadata": {},
   "outputs": [],
   "source": []
  },
  {
   "cell_type": "code",
   "execution_count": null,
   "id": "d606b722",
   "metadata": {},
   "outputs": [],
   "source": []
  },
  {
   "cell_type": "code",
   "execution_count": 26,
   "id": "5492f4a2",
   "metadata": {
    "execution": {
     "iopub.execute_input": "2024-10-07T05:09:44.534257Z",
     "iopub.status.busy": "2024-10-07T05:09:44.525958Z",
     "iopub.status.idle": "2024-10-07T05:09:45.587553Z",
     "shell.execute_reply": "2024-10-07T05:09:45.579149Z"
    }
   },
   "outputs": [
    {
     "data": {
      "text/plain": [
       "R version 4.3.3 (2024-02-29)\n",
       "Platform: x86_64-pc-linux-gnu (64-bit)\n",
       "Running under: Ubuntu 20.04.4 LTS\n",
       "\n",
       "Matrix products: default\n",
       "BLAS:   /usr/lib/x86_64-linux-gnu/blas/libblas.so.3.9.0 \n",
       "LAPACK: /usr/lib/x86_64-linux-gnu/lapack/liblapack.so.3.9.0\n",
       "\n",
       "locale:\n",
       " [1] LC_CTYPE=en_US.UTF-8       LC_NUMERIC=C              \n",
       " [3] LC_TIME=fr_FR.UTF-8        LC_COLLATE=en_US.UTF-8    \n",
       " [5] LC_MONETARY=fr_FR.UTF-8    LC_MESSAGES=en_US.UTF-8   \n",
       " [7] LC_PAPER=fr_FR.UTF-8       LC_NAME=C                 \n",
       " [9] LC_ADDRESS=C               LC_TELEPHONE=C            \n",
       "[11] LC_MEASUREMENT=fr_FR.UTF-8 LC_IDENTIFICATION=C       \n",
       "\n",
       "time zone: Europe/Paris\n",
       "tzcode source: system (glibc)\n",
       "\n",
       "attached base packages:\n",
       "[1] stats     graphics  grDevices utils     datasets  methods   base     \n",
       "\n",
       "other attached packages:\n",
       "[1] adverSCarial_1.3.6 dplyr_1.1.4        keras_2.15.0       reticulate_1.36.1 \n",
       "\n",
       "loaded via a namespace (and not attached):\n",
       " [1] Matrix_1.6-5          jsonlite_1.8.8        compiler_4.3.3       \n",
       " [4] crayon_1.5.3          tidyselect_1.2.1      Rcpp_1.0.13          \n",
       " [7] zeallot_0.1.0         IRdisplay_1.1         tensorflow_2.16.0    \n",
       "[10] IRanges_2.35.1        tfruns_1.5.3          png_0.1-8            \n",
       "[13] uuid_1.1-0            fastmap_1.2.0         IRkernel_1.3.2       \n",
       "[16] lattice_0.21-8        XVector_0.41.1        R6_2.5.1             \n",
       "[19] S4Arrays_1.1.4        generics_0.1.3        BiocGenerics_0.47.0  \n",
       "[22] tibble_3.2.1          DelayedArray_0.27.5   MatrixGenerics_1.13.0\n",
       "[25] pillar_1.9.0          rlang_1.1.4           utf8_1.2.4           \n",
       "[28] repr_1.1.6            SparseArray_1.1.10    cli_3.6.3            \n",
       "[31] magrittr_2.0.3        zlibbioc_1.47.0       digest_0.6.37        \n",
       "[34] grid_4.3.3            base64enc_0.1-3       pbdZMQ_0.3-9         \n",
       "[37] lifecycle_1.0.4       S4Vectors_0.39.1      vctrs_0.6.5          \n",
       "[40] evaluate_0.24.0       glue_1.7.0            whisker_0.4.1        \n",
       "[43] stats4_4.3.3          fansi_1.0.6           matrixStats_1.4.1    \n",
       "[46] tools_4.3.3           pkgconfig_2.0.3       htmltools_0.5.8.1    "
      ]
     },
     "metadata": {},
     "output_type": "display_data"
    }
   ],
   "source": [
    "sessionInfo()"
   ]
  },
  {
   "cell_type": "code",
   "execution_count": null,
   "id": "b915e6ce",
   "metadata": {},
   "outputs": [],
   "source": []
  }
 ],
 "metadata": {
  "kernelspec": {
   "display_name": "R",
   "language": "R",
   "name": "ir"
  },
  "language_info": {
   "codemirror_mode": "r",
   "file_extension": ".r",
   "mimetype": "text/x-r-source",
   "name": "R",
   "pygments_lexer": "r",
   "version": "4.3.3"
  }
 },
 "nbformat": 4,
 "nbformat_minor": 5
}
