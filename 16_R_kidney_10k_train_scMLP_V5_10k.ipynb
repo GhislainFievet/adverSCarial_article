{
 "cells": [
  {
   "cell_type": "markdown",
   "id": "1a742115",
   "metadata": {},
   "source": [
    "# Train scMLP, a multi layer perceptron-based classifier on a kidney 10k cells dataset\n",
    "\n",
    "- Train a MLP classifier\n",
    "- Format the classifier to use it with adverSCarial\n",
    "- Run a single-gene attack"
   ]
  },
  {
   "cell_type": "code",
   "execution_count": 3,
   "id": "c8178359",
   "metadata": {
    "execution": {
     "iopub.execute_input": "2024-10-07T06:58:36.430773Z",
     "iopub.status.busy": "2024-10-07T06:58:36.424192Z",
     "iopub.status.idle": "2024-10-07T06:58:37.614145Z",
     "shell.execute_reply": "2024-10-07T06:58:37.612719Z"
    }
   },
   "outputs": [],
   "source": [
    "library(reticulate)\n",
    "use_python(\"/usr/bin/python3\", required = TRUE)"
   ]
  },
  {
   "cell_type": "code",
   "execution_count": 4,
   "id": "11b05ec0",
   "metadata": {
    "execution": {
     "iopub.execute_input": "2024-10-07T06:58:37.640663Z",
     "iopub.status.busy": "2024-10-07T06:58:37.617372Z",
     "iopub.status.idle": "2024-10-07T06:58:37.906919Z",
     "shell.execute_reply": "2024-10-07T06:58:37.905556Z"
    }
   },
   "outputs": [
    {
     "name": "stderr",
     "output_type": "stream",
     "text": [
      "\n",
      "Attaching package: ‘dplyr’\n",
      "\n",
      "\n",
      "The following objects are masked from ‘package:stats’:\n",
      "\n",
      "    filter, lag\n",
      "\n",
      "\n",
      "The following objects are masked from ‘package:base’:\n",
      "\n",
      "    intersect, setdiff, setequal, union\n",
      "\n",
      "\n"
     ]
    }
   ],
   "source": [
    "library(keras)\n",
    "library(dplyr)\n",
    "library(adverSCarial)"
   ]
  },
  {
   "cell_type": "code",
   "execution_count": null,
   "id": "6a5354de",
   "metadata": {},
   "outputs": [],
   "source": []
  },
  {
   "cell_type": "code",
   "execution_count": 3,
   "id": "70ca0c89",
   "metadata": {
    "execution": {
     "iopub.execute_input": "2024-10-07T06:58:37.911648Z",
     "iopub.status.busy": "2024-10-07T06:58:37.910618Z",
     "iopub.status.idle": "2024-10-07T06:58:37.924155Z",
     "shell.execute_reply": "2024-10-07T06:58:37.922582Z"
    }
   },
   "outputs": [
    {
     "data": {
      "text/plain": [
       "[1] ‘2.15.0’"
      ]
     },
     "metadata": {},
     "output_type": "display_data"
    }
   ],
   "source": [
    "packageVersion(\"keras\")"
   ]
  },
  {
   "cell_type": "code",
   "execution_count": 5,
   "id": "7aee9554",
   "metadata": {
    "execution": {
     "iopub.execute_input": "2024-10-07T06:58:37.928562Z",
     "iopub.status.busy": "2024-10-07T06:58:37.927514Z",
     "iopub.status.idle": "2024-10-07T06:58:37.937359Z",
     "shell.execute_reply": "2024-10-07T06:58:37.936077Z"
    }
   },
   "outputs": [],
   "source": [
    "c_basen = c(\"hgnc_axilla_10k\", \"hgnc_kidney_10k\", \"hgnc_liver_10k\")\n",
    "basen = c_basen[2]"
   ]
  },
  {
   "cell_type": "markdown",
   "id": "d2648163",
   "metadata": {},
   "source": [
    "# Load data"
   ]
  },
  {
   "cell_type": "code",
   "execution_count": 6,
   "id": "0cfe9ea5",
   "metadata": {
    "execution": {
     "iopub.execute_input": "2024-10-07T06:58:37.942023Z",
     "iopub.status.busy": "2024-10-07T06:58:37.941025Z",
     "iopub.status.idle": "2024-10-07T07:01:35.244504Z",
     "shell.execute_reply": "2024-10-07T07:01:35.243154Z"
    }
   },
   "outputs": [],
   "source": [
    "df_train_boot <- read.table(paste0(\"data//v5/data//sc//\",basen,\"_train_balanced.txt\"))\n",
    "df_test <- read.table(paste0(\"data//v5/data//sc//\",basen,\"_test.txt\"))"
   ]
  },
  {
   "cell_type": "code",
   "execution_count": 6,
   "id": "49df2a78",
   "metadata": {
    "execution": {
     "iopub.execute_input": "2024-10-07T07:01:35.264899Z",
     "iopub.status.busy": "2024-10-07T07:01:35.263924Z",
     "iopub.status.idle": "2024-10-07T07:01:35.277761Z",
     "shell.execute_reply": "2024-10-07T07:01:35.276427Z"
    }
   },
   "outputs": [
    {
     "data": {
      "text/plain": [
       "\n",
       "  epithelial cell of proximal tubule                          kidney cell \n",
       "                                 100                                  100 \n",
       "              kidney epithelial cell kidney loop of Henle epithelial cell \n",
       "                                 100                                  100 \n",
       "                    mesenchymal cell                             podocyte \n",
       "                                 100                                  100 "
      ]
     },
     "metadata": {},
     "output_type": "display_data"
    }
   ],
   "source": [
    "# Unbalanced data\n",
    "table(df_train_boot$y)"
   ]
  },
  {
   "cell_type": "code",
   "execution_count": 7,
   "id": "e0e1c376",
   "metadata": {
    "execution": {
     "iopub.execute_input": "2024-10-07T07:01:35.281826Z",
     "iopub.status.busy": "2024-10-07T07:01:35.280941Z",
     "iopub.status.idle": "2024-10-07T07:01:36.949081Z",
     "shell.execute_reply": "2024-10-07T07:01:36.947858Z"
    }
   },
   "outputs": [],
   "source": [
    "# Prepare data\n",
    "x_train <- as.matrix(df_train_boot[, -which(names(df_train_boot) == \"y\")])\n",
    "x_test <- as.matrix(df_test[, -which(names(df_test) == \"y\")])\n",
    "\n",
    "\n",
    "# One hot encoding\n",
    "y_train <- model.matrix(~ df_train_boot$y - 1)\n",
    "y_test <- model.matrix(~ df_test$y - 1)"
   ]
  },
  {
   "cell_type": "code",
   "execution_count": 8,
   "id": "86ff0fbf",
   "metadata": {
    "execution": {
     "iopub.execute_input": "2024-10-07T07:01:36.953350Z",
     "iopub.status.busy": "2024-10-07T07:01:36.952435Z",
     "iopub.status.idle": "2024-10-07T07:01:43.556686Z",
     "shell.execute_reply": "2024-10-07T07:01:43.554842Z"
    }
   },
   "outputs": [],
   "source": [
    "# Architecture of the model\n",
    "model <- keras_model_sequential() %>%\n",
    "  layer_dense(units = 128, activation = 'relu', input_shape = c(ncol(df_train_boot)-1)) %>%\n",
    "  layer_dropout(rate = 0.5) %>%\n",
    "  layer_dense(units = 64, activation = 'relu') %>%\n",
    "  layer_dropout(rate = 0.5) %>%\n",
    "  layer_dense(units = length(unique(df_train_boot$y)), activation = 'softmax')\n",
    "\n",
    "# Compilation\n",
    "model %>% compile(\n",
    "  loss = 'categorical_crossentropy',\n",
    "  optimizer = optimizer_adam(),\n",
    "  metrics = c('accuracy')\n",
    ")\n"
   ]
  },
  {
   "cell_type": "code",
   "execution_count": 9,
   "id": "5b220e96",
   "metadata": {
    "execution": {
     "iopub.execute_input": "2024-10-07T07:01:43.561367Z",
     "iopub.status.busy": "2024-10-07T07:01:43.560137Z",
     "iopub.status.idle": "2024-10-07T07:01:55.310975Z",
     "shell.execute_reply": "2024-10-07T07:01:55.308871Z"
    }
   },
   "outputs": [],
   "source": [
    "# Train the model\n",
    "history <- model %>% fit(\n",
    "  x_train, y_train,\n",
    "  epochs = 20,\n",
    "  batch_size = 32,\n",
    "  validation_split = 0.2\n",
    ")"
   ]
  },
  {
   "cell_type": "code",
   "execution_count": 10,
   "id": "6b0573c3",
   "metadata": {
    "execution": {
     "iopub.execute_input": "2024-10-07T07:01:55.318456Z",
     "iopub.status.busy": "2024-10-07T07:01:55.316079Z",
     "iopub.status.idle": "2024-10-07T07:01:57.820593Z",
     "shell.execute_reply": "2024-10-07T07:01:57.819013Z"
    }
   },
   "outputs": [],
   "source": [
    "# Faire des prédictions\n",
    "predictions <- model %>% predict(x_test)"
   ]
  },
  {
   "cell_type": "code",
   "execution_count": 11,
   "id": "b97291d7",
   "metadata": {
    "execution": {
     "iopub.execute_input": "2024-10-07T07:01:57.825745Z",
     "iopub.status.busy": "2024-10-07T07:01:57.824574Z",
     "iopub.status.idle": "2024-10-07T07:01:58.310018Z",
     "shell.execute_reply": "2024-10-07T07:01:58.307772Z"
    }
   },
   "outputs": [],
   "source": [
    "save_model_hdf5(model, paste0(\"repr_data/classifiers/scMLP/\",basen,\"_dl_model.h5\"))"
   ]
  },
  {
   "cell_type": "code",
   "execution_count": null,
   "id": "64137b45",
   "metadata": {},
   "outputs": [],
   "source": []
  },
  {
   "cell_type": "code",
   "execution_count": 12,
   "id": "2c26dbc8",
   "metadata": {
    "execution": {
     "iopub.execute_input": "2024-10-07T07:01:58.316144Z",
     "iopub.status.busy": "2024-10-07T07:01:58.314392Z",
     "iopub.status.idle": "2024-10-07T07:01:58.328319Z",
     "shell.execute_reply": "2024-10-07T07:01:58.326638Z"
    }
   },
   "outputs": [],
   "source": [
    "write.table(sub(\"df_train_boot\\\\$y\",\"\",unique(colnames(y_train))),\n",
    "            paste0(\"repr_data/classifiers/scMLP/\",basen,\"_new_colnames.txt\"), row.names=F, col.names=F)"
   ]
  },
  {
   "cell_type": "code",
   "execution_count": null,
   "id": "3c55931b",
   "metadata": {},
   "outputs": [],
   "source": []
  },
  {
   "cell_type": "markdown",
   "id": "4056c3eb",
   "metadata": {},
   "source": [
    "# Format the Classifier\n",
    "To work with adverSCarial the classifier needs to be formated in a certain way."
   ]
  },
  {
   "cell_type": "code",
   "execution_count": 7,
   "id": "2c4b2b1c",
   "metadata": {
    "execution": {
     "iopub.execute_input": "2024-10-07T07:01:58.333282Z",
     "iopub.status.busy": "2024-10-07T07:01:58.332023Z",
     "iopub.status.idle": "2024-10-07T07:01:58.342713Z",
     "shell.execute_reply": "2024-10-07T07:01:58.341310Z"
    }
   },
   "outputs": [],
   "source": [
    "scMLP_classifier <- function(expr, clusters, target){\n",
    "    expr = as.matrix(expr)\n",
    "    message(\"load model\")\n",
    "    library(reticulate)\n",
    "    use_python(\"/usr/bin/python3\", required = TRUE)\n",
    "    library(keras)\n",
    "    mlpModel <<- load_model_hdf5(paste0(\"repr_data/classifiers/scMLP/\",basen,\"_dl_model.h5\"))\n",
    "    newColnames <<- read.table(paste0(\"repr_data/classifiers/scMLP/\",basen,\"_new_colnames.txt\"))$V1\n",
    "    \n",
    "    predictions <- predict(mlpModel, expr)\n",
    "    colnames(predictions) <- newColnames\n",
    "    rownames(predictions) <- rownames(expr)\n",
    "    predictions <- as.data.frame(predictions)\n",
    "    \n",
    "    if (sum(clusters == target) == 0 ){\n",
    "        return( c(\"UNDETERMINED\",1))\n",
    "    }\n",
    "    \n",
    "    cell_types <- apply(predictions[clusters == target,], 1, function(x){\n",
    "        names(x[x == max(x)])[1]\n",
    "    })\n",
    "    table_cell_type <<- table(cell_types)\n",
    "    str_class <- names(table_cell_type[order(table_cell_type, decreasing=T)][1])\n",
    "    resSCMLP <- list(\n",
    "        # Cell type prediction for the cluster\n",
    "        prediction=str_class,\n",
    "        # Score of the predicted cell type\n",
    "        odd=1,\n",
    "        # Score for each cell type for each cell\n",
    "        typePredictions=as.data.frame(t(predictions)),\n",
    "        # Cell type for each cell\n",
    "        cellTypes=cell_types)\n",
    "\n",
    "    return(resSCMLP)\n",
    "}\n"
   ]
  },
  {
   "cell_type": "code",
   "execution_count": 8,
   "id": "23b7b687",
   "metadata": {
    "execution": {
     "iopub.execute_input": "2024-10-07T07:01:58.347077Z",
     "iopub.status.busy": "2024-10-07T07:01:58.345930Z",
     "iopub.status.idle": "2024-10-07T07:01:58.382015Z",
     "shell.execute_reply": "2024-10-07T07:01:58.380606Z"
    }
   },
   "outputs": [],
   "source": [
    "expr_df <- df_test[, -which(names(df_test) == \"y\")]\n",
    "clusters_df <- df_test$y\n",
    "names(clusters_df) <- rownames(df_test)"
   ]
  },
  {
   "cell_type": "markdown",
   "id": "fa9610ce",
   "metadata": {},
   "source": [
    "Classification of a cluster."
   ]
  },
  {
   "cell_type": "code",
   "execution_count": 17,
   "id": "f81ddbcb",
   "metadata": {
    "execution": {
     "iopub.execute_input": "2024-10-07T07:01:58.386202Z",
     "iopub.status.busy": "2024-10-07T07:01:58.385151Z",
     "iopub.status.idle": "2024-10-07T07:02:02.457314Z",
     "shell.execute_reply": "2024-10-07T07:02:02.456008Z"
    }
   },
   "outputs": [
    {
     "name": "stderr",
     "output_type": "stream",
     "text": [
      "load model\n",
      "\n"
     ]
    }
   ],
   "source": [
    "myPreds <- scMLP_classifier(expr_df, clusters_df, 'kidney cell')"
   ]
  },
  {
   "cell_type": "code",
   "execution_count": 18,
   "id": "80ae4ba6",
   "metadata": {
    "execution": {
     "iopub.execute_input": "2024-10-07T07:02:02.461532Z",
     "iopub.status.busy": "2024-10-07T07:02:02.460311Z",
     "iopub.status.idle": "2024-10-07T07:02:02.474124Z",
     "shell.execute_reply": "2024-10-07T07:02:02.472889Z"
    }
   },
   "outputs": [
    {
     "data": {
      "text/html": [
       "'kidney cell'"
      ],
      "text/latex": [
       "'kidney cell'"
      ],
      "text/markdown": [
       "'kidney cell'"
      ],
      "text/plain": [
       "[1] \"kidney cell\""
      ]
     },
     "metadata": {},
     "output_type": "display_data"
    }
   ],
   "source": [
    "# Cell type prediction for the cluster\n",
    "myPreds$prediction"
   ]
  },
  {
   "cell_type": "code",
   "execution_count": null,
   "id": "33428744",
   "metadata": {},
   "outputs": [],
   "source": []
  },
  {
   "cell_type": "code",
   "execution_count": 19,
   "id": "52445f50",
   "metadata": {
    "execution": {
     "iopub.execute_input": "2024-10-07T07:02:02.478154Z",
     "iopub.status.busy": "2024-10-07T07:02:02.477167Z",
     "iopub.status.idle": "2024-10-07T07:02:02.509516Z",
     "shell.execute_reply": "2024-10-07T07:02:02.507512Z"
    }
   },
   "outputs": [
    {
     "data": {
      "text/html": [
       "<table class=\"dataframe\">\n",
       "<caption>A data.frame: 5 × 5</caption>\n",
       "<thead>\n",
       "\t<tr><th></th><th scope=col>4834STDY7002875_F16_KI_45P_CAGAATCTCGCCCTTA-1</th><th scope=col>4834STDY7002875_F16_KI_45P_CCTTCCCTCTGAGGGA-1</th><th scope=col>4834STDY7002875_F16_KI_45P_CGCGTTTAGGTGATTA-1</th><th scope=col>4834STDY7002875_F16_KI_45P_CTACCCAAGCTTATCG-1</th><th scope=col>4834STDY7002875_F16_KI_45P_TTCTCCTTCGAGAGCA-1</th></tr>\n",
       "\t<tr><th></th><th scope=col>&lt;dbl&gt;</th><th scope=col>&lt;dbl&gt;</th><th scope=col>&lt;dbl&gt;</th><th scope=col>&lt;dbl&gt;</th><th scope=col>&lt;dbl&gt;</th></tr>\n",
       "</thead>\n",
       "<tbody>\n",
       "\t<tr><th scope=row>epithelial cell of proximal tubule</th><td>2.870023e-07</td><td>5.449362e-04</td><td>9.369884e-01</td><td>2.297257e-04</td><td>2.057816e-11</td></tr>\n",
       "\t<tr><th scope=row>kidney cell</th><td>4.372414e-06</td><td>4.750591e-06</td><td>5.101459e-02</td><td>9.547377e-04</td><td>2.800552e-01</td></tr>\n",
       "\t<tr><th scope=row>kidney epithelial cell</th><td>9.999946e-01</td><td>4.431158e-03</td><td>1.118730e-02</td><td>9.986643e-01</td><td>7.199416e-01</td></tr>\n",
       "\t<tr><th scope=row>kidney loop of Henle epithelial cell</th><td>2.068693e-09</td><td>2.303834e-05</td><td>1.995790e-04</td><td>1.029187e-05</td><td>2.785402e-16</td></tr>\n",
       "\t<tr><th scope=row>mesenchymal cell</th><td>7.293742e-08</td><td>9.949893e-01</td><td>3.633398e-05</td><td>9.632940e-06</td><td>7.214583e-11</td></tr>\n",
       "</tbody>\n",
       "</table>\n"
      ],
      "text/latex": [
       "A data.frame: 5 × 5\n",
       "\\begin{tabular}{r|lllll}\n",
       "  & 4834STDY7002875\\_F16\\_KI\\_45P\\_CAGAATCTCGCCCTTA-1 & 4834STDY7002875\\_F16\\_KI\\_45P\\_CCTTCCCTCTGAGGGA-1 & 4834STDY7002875\\_F16\\_KI\\_45P\\_CGCGTTTAGGTGATTA-1 & 4834STDY7002875\\_F16\\_KI\\_45P\\_CTACCCAAGCTTATCG-1 & 4834STDY7002875\\_F16\\_KI\\_45P\\_TTCTCCTTCGAGAGCA-1\\\\\n",
       "  & <dbl> & <dbl> & <dbl> & <dbl> & <dbl>\\\\\n",
       "\\hline\n",
       "\tepithelial cell of proximal tubule & 2.870023e-07 & 5.449362e-04 & 9.369884e-01 & 2.297257e-04 & 2.057816e-11\\\\\n",
       "\tkidney cell & 4.372414e-06 & 4.750591e-06 & 5.101459e-02 & 9.547377e-04 & 2.800552e-01\\\\\n",
       "\tkidney epithelial cell & 9.999946e-01 & 4.431158e-03 & 1.118730e-02 & 9.986643e-01 & 7.199416e-01\\\\\n",
       "\tkidney loop of Henle epithelial cell & 2.068693e-09 & 2.303834e-05 & 1.995790e-04 & 1.029187e-05 & 2.785402e-16\\\\\n",
       "\tmesenchymal cell & 7.293742e-08 & 9.949893e-01 & 3.633398e-05 & 9.632940e-06 & 7.214583e-11\\\\\n",
       "\\end{tabular}\n"
      ],
      "text/markdown": [
       "\n",
       "A data.frame: 5 × 5\n",
       "\n",
       "| <!--/--> | 4834STDY7002875_F16_KI_45P_CAGAATCTCGCCCTTA-1 &lt;dbl&gt; | 4834STDY7002875_F16_KI_45P_CCTTCCCTCTGAGGGA-1 &lt;dbl&gt; | 4834STDY7002875_F16_KI_45P_CGCGTTTAGGTGATTA-1 &lt;dbl&gt; | 4834STDY7002875_F16_KI_45P_CTACCCAAGCTTATCG-1 &lt;dbl&gt; | 4834STDY7002875_F16_KI_45P_TTCTCCTTCGAGAGCA-1 &lt;dbl&gt; |\n",
       "|---|---|---|---|---|---|\n",
       "| epithelial cell of proximal tubule | 2.870023e-07 | 5.449362e-04 | 9.369884e-01 | 2.297257e-04 | 2.057816e-11 |\n",
       "| kidney cell | 4.372414e-06 | 4.750591e-06 | 5.101459e-02 | 9.547377e-04 | 2.800552e-01 |\n",
       "| kidney epithelial cell | 9.999946e-01 | 4.431158e-03 | 1.118730e-02 | 9.986643e-01 | 7.199416e-01 |\n",
       "| kidney loop of Henle epithelial cell | 2.068693e-09 | 2.303834e-05 | 1.995790e-04 | 1.029187e-05 | 2.785402e-16 |\n",
       "| mesenchymal cell | 7.293742e-08 | 9.949893e-01 | 3.633398e-05 | 9.632940e-06 | 7.214583e-11 |\n",
       "\n"
      ],
      "text/plain": [
       "                                     4834STDY7002875_F16_KI_45P_CAGAATCTCGCCCTTA-1\n",
       "epithelial cell of proximal tubule   2.870023e-07                                 \n",
       "kidney cell                          4.372414e-06                                 \n",
       "kidney epithelial cell               9.999946e-01                                 \n",
       "kidney loop of Henle epithelial cell 2.068693e-09                                 \n",
       "mesenchymal cell                     7.293742e-08                                 \n",
       "                                     4834STDY7002875_F16_KI_45P_CCTTCCCTCTGAGGGA-1\n",
       "epithelial cell of proximal tubule   5.449362e-04                                 \n",
       "kidney cell                          4.750591e-06                                 \n",
       "kidney epithelial cell               4.431158e-03                                 \n",
       "kidney loop of Henle epithelial cell 2.303834e-05                                 \n",
       "mesenchymal cell                     9.949893e-01                                 \n",
       "                                     4834STDY7002875_F16_KI_45P_CGCGTTTAGGTGATTA-1\n",
       "epithelial cell of proximal tubule   9.369884e-01                                 \n",
       "kidney cell                          5.101459e-02                                 \n",
       "kidney epithelial cell               1.118730e-02                                 \n",
       "kidney loop of Henle epithelial cell 1.995790e-04                                 \n",
       "mesenchymal cell                     3.633398e-05                                 \n",
       "                                     4834STDY7002875_F16_KI_45P_CTACCCAAGCTTATCG-1\n",
       "epithelial cell of proximal tubule   2.297257e-04                                 \n",
       "kidney cell                          9.547377e-04                                 \n",
       "kidney epithelial cell               9.986643e-01                                 \n",
       "kidney loop of Henle epithelial cell 1.029187e-05                                 \n",
       "mesenchymal cell                     9.632940e-06                                 \n",
       "                                     4834STDY7002875_F16_KI_45P_TTCTCCTTCGAGAGCA-1\n",
       "epithelial cell of proximal tubule   2.057816e-11                                 \n",
       "kidney cell                          2.800552e-01                                 \n",
       "kidney epithelial cell               7.199416e-01                                 \n",
       "kidney loop of Henle epithelial cell 2.785402e-16                                 \n",
       "mesenchymal cell                     7.214583e-11                                 "
      ]
     },
     "metadata": {},
     "output_type": "display_data"
    }
   ],
   "source": [
    "# Score for each cell type for each cell\n",
    "myPreds$typePredictions[1:5,1:5]"
   ]
  },
  {
   "cell_type": "code",
   "execution_count": null,
   "id": "b6a1075a",
   "metadata": {},
   "outputs": [],
   "source": []
  },
  {
   "cell_type": "code",
   "execution_count": 20,
   "id": "598f7eeb",
   "metadata": {
    "execution": {
     "iopub.execute_input": "2024-10-07T07:02:02.515162Z",
     "iopub.status.busy": "2024-10-07T07:02:02.513782Z",
     "iopub.status.idle": "2024-10-07T07:02:02.527205Z",
     "shell.execute_reply": "2024-10-07T07:02:02.525842Z"
    }
   },
   "outputs": [
    {
     "data": {
      "text/html": [
       "<style>\n",
       ".dl-inline {width: auto; margin:0; padding: 0}\n",
       ".dl-inline>dt, .dl-inline>dd {float: none; width: auto; display: inline-block}\n",
       ".dl-inline>dt::after {content: \":\\0020\"; padding-right: .5ex}\n",
       ".dl-inline>dt:not(:first-of-type) {padding-left: .5ex}\n",
       "</style><dl class=dl-inline><dt>4834STDY7002875_F16_KI_45P_CAACCTCAGGAGCGAG-1</dt><dd>'kidney cell'</dd><dt>4834STDY7002875_F16_KI_45P_CCACCTATCGCATGGC-1</dt><dd>'podocyte'</dd><dt>4834STDY7002875_F16_KI_45P_CTCGTCAAGGGCATGT-1</dt><dd>'kidney cell'</dd><dt>4834STDY7002875_F16_KI_45P_GAAGCAGCATCCTTGC-1</dt><dd>'podocyte'</dd><dt>4834STDY7002875_F16_KI_45P_GACACGCGTCGCTTTC-1</dt><dd>'epithelial cell of proximal tubule'</dd><dt>4834STDY7002875_F16_KI_45P_GATCGATAGATGCCTT-1</dt><dd>'epithelial cell of proximal tubule'</dd></dl>\n"
      ],
      "text/latex": [
       "\\begin{description*}\n",
       "\\item[4834STDY7002875\\textbackslash{}\\_F16\\textbackslash{}\\_KI\\textbackslash{}\\_45P\\textbackslash{}\\_CAACCTCAGGAGCGAG-1] 'kidney cell'\n",
       "\\item[4834STDY7002875\\textbackslash{}\\_F16\\textbackslash{}\\_KI\\textbackslash{}\\_45P\\textbackslash{}\\_CCACCTATCGCATGGC-1] 'podocyte'\n",
       "\\item[4834STDY7002875\\textbackslash{}\\_F16\\textbackslash{}\\_KI\\textbackslash{}\\_45P\\textbackslash{}\\_CTCGTCAAGGGCATGT-1] 'kidney cell'\n",
       "\\item[4834STDY7002875\\textbackslash{}\\_F16\\textbackslash{}\\_KI\\textbackslash{}\\_45P\\textbackslash{}\\_GAAGCAGCATCCTTGC-1] 'podocyte'\n",
       "\\item[4834STDY7002875\\textbackslash{}\\_F16\\textbackslash{}\\_KI\\textbackslash{}\\_45P\\textbackslash{}\\_GACACGCGTCGCTTTC-1] 'epithelial cell of proximal tubule'\n",
       "\\item[4834STDY7002875\\textbackslash{}\\_F16\\textbackslash{}\\_KI\\textbackslash{}\\_45P\\textbackslash{}\\_GATCGATAGATGCCTT-1] 'epithelial cell of proximal tubule'\n",
       "\\end{description*}\n"
      ],
      "text/markdown": [
       "4834STDY7002875_F16_KI_45P_CAACCTCAGGAGCGAG-1\n",
       ":   'kidney cell'4834STDY7002875_F16_KI_45P_CCACCTATCGCATGGC-1\n",
       ":   'podocyte'4834STDY7002875_F16_KI_45P_CTCGTCAAGGGCATGT-1\n",
       ":   'kidney cell'4834STDY7002875_F16_KI_45P_GAAGCAGCATCCTTGC-1\n",
       ":   'podocyte'4834STDY7002875_F16_KI_45P_GACACGCGTCGCTTTC-1\n",
       ":   'epithelial cell of proximal tubule'4834STDY7002875_F16_KI_45P_GATCGATAGATGCCTT-1\n",
       ":   'epithelial cell of proximal tubule'\n",
       "\n"
      ],
      "text/plain": [
       "4834STDY7002875_F16_KI_45P_CAACCTCAGGAGCGAG-1 \n",
       "                                \"kidney cell\" \n",
       "4834STDY7002875_F16_KI_45P_CCACCTATCGCATGGC-1 \n",
       "                                   \"podocyte\" \n",
       "4834STDY7002875_F16_KI_45P_CTCGTCAAGGGCATGT-1 \n",
       "                                \"kidney cell\" \n",
       "4834STDY7002875_F16_KI_45P_GAAGCAGCATCCTTGC-1 \n",
       "                                   \"podocyte\" \n",
       "4834STDY7002875_F16_KI_45P_GACACGCGTCGCTTTC-1 \n",
       "         \"epithelial cell of proximal tubule\" \n",
       "4834STDY7002875_F16_KI_45P_GATCGATAGATGCCTT-1 \n",
       "         \"epithelial cell of proximal tubule\" "
      ]
     },
     "metadata": {},
     "output_type": "display_data"
    }
   ],
   "source": [
    "# Cell type for each cell\n",
    "head(myPreds$cellTypes)"
   ]
  },
  {
   "cell_type": "code",
   "execution_count": 21,
   "id": "24ef0f03",
   "metadata": {
    "execution": {
     "iopub.execute_input": "2024-10-07T07:02:02.531005Z",
     "iopub.status.busy": "2024-10-07T07:02:02.530017Z",
     "iopub.status.idle": "2024-10-07T07:03:26.220132Z",
     "shell.execute_reply": "2024-10-07T07:03:26.191899Z"
    }
   },
   "outputs": [
    {
     "name": "stderr",
     "output_type": "stream",
     "text": [
      "load model\n",
      "\n",
      "Cell type: kidney epithelial cell, prediction: kidney epithelial cell\n",
      "\n",
      "load model\n",
      "\n",
      "Cell type: kidney cell, prediction: kidney cell\n",
      "\n",
      "load model\n",
      "\n",
      "Cell type: podocyte, prediction: podocyte\n",
      "\n",
      "load model\n",
      "\n",
      "Cell type: epithelial cell of proximal tubule, prediction: epithelial cell of proximal tubule\n",
      "\n",
      "load model\n",
      "\n",
      "Cell type: mesenchymal cell, prediction: mesenchymal cell\n",
      "\n",
      "load model\n",
      "\n",
      "Cell type: kidney loop of Henle epithelial cell, prediction: kidney cell\n",
      "\n"
     ]
    }
   ],
   "source": [
    "for ( myClust in unique(clusters_df)){\n",
    "    myPreds <- scMLP_classifier(expr_df, clusters_df, myClust)\n",
    "    message(\"Cell type: \", myClust, \", prediction: \", myPreds$prediction)\n",
    "}\n"
   ]
  },
  {
   "cell_type": "markdown",
   "id": "4e911b58",
   "metadata": {},
   "source": [
    "## The function scMLP_classifier can be used as classifier with the adverSCarial package functions"
   ]
  },
  {
   "cell_type": "markdown",
   "id": "56c787c9",
   "metadata": {},
   "source": [
    "# Run a single-gene attack\n",
    "Example of single-gene attack with the positive-aberrant modification on the fibroblast cluster.\n",
    "The argument returnFirstFound=T indicates that the process should stop the attack when a successful attack is detected and return the corresponding gene"
   ]
  },
  {
   "cell_type": "code",
   "execution_count": 9,
   "id": "faa63dbd",
   "metadata": {
    "execution": {
     "iopub.execute_input": "2024-10-07T07:03:26.291452Z",
     "iopub.status.busy": "2024-10-07T07:03:26.284841Z",
     "iopub.status.idle": "2024-10-07T07:03:26.413939Z",
     "shell.execute_reply": "2024-10-07T07:03:26.406872Z"
    }
   },
   "outputs": [],
   "source": [
    "start_time <- Sys.time()"
   ]
  },
  {
   "cell_type": "code",
   "execution_count": 10,
   "id": "b61eaa3d",
   "metadata": {
    "execution": {
     "iopub.execute_input": "2024-10-07T07:03:26.454083Z",
     "iopub.status.busy": "2024-10-07T07:03:26.447270Z",
     "iopub.status.idle": "2024-10-07T07:07:10.744764Z",
     "shell.execute_reply": "2024-10-07T07:07:10.737575Z"
    }
   },
   "outputs": [
    {
     "name": "stderr",
     "output_type": "stream",
     "text": [
      "predictWithNewValue data.frame data.frame\n",
      "\n",
      "load model\n",
      "\n",
      "Split number: 1/100\n",
      "\n",
      "predictWithNewValue data.frame data.frame\n",
      "\n",
      "load model\n",
      "\n",
      "cellType: kidney cell\n",
      "\n",
      "classifTarget: mesenchymal cell\n",
      "\n",
      "target: mesenchymal cell\n",
      "\n",
      "predictWithNewValue data.frame data.frame\n",
      "\n",
      "load model\n",
      "\n",
      "cellType: kidney cell\n",
      "\n",
      "classifTarget: mesenchymal cell\n",
      "\n",
      "target: mesenchymal cell\n",
      "\n",
      "predictWithNewValue data.frame data.frame\n",
      "\n",
      "load model\n",
      "\n",
      "cellType: kidney cell\n",
      "\n",
      "classifTarget: mesenchymal cell\n",
      "\n",
      "target: mesenchymal cell\n",
      "\n",
      "predictWithNewValue data.frame data.frame\n",
      "\n",
      "load model\n",
      "\n",
      "cellType: kidney cell\n",
      "\n",
      "classifTarget: mesenchymal cell\n",
      "\n",
      "target: mesenchymal cell\n",
      "\n",
      "predictWithNewValue data.frame data.frame\n",
      "\n",
      "load model\n",
      "\n",
      "cellType: kidney epithelial cell\n",
      "\n",
      "classifTarget: mesenchymal cell\n",
      "\n",
      "target: mesenchymal cell\n",
      "\n",
      "predictWithNewValue data.frame data.frame\n",
      "\n",
      "load model\n",
      "\n",
      "cellType: kidney epithelial cell\n",
      "\n",
      "classifTarget: mesenchymal cell\n",
      "\n",
      "target: mesenchymal cell\n",
      "\n",
      "predictWithNewValue data.frame data.frame\n",
      "\n",
      "load model\n",
      "\n",
      "cellType: kidney epithelial cell\n",
      "\n",
      "classifTarget: mesenchymal cell\n",
      "\n",
      "target: mesenchymal cell\n",
      "\n",
      "predictWithNewValue data.frame data.frame\n",
      "\n",
      "load model\n",
      "\n",
      "cellType: kidney epithelial cell\n",
      "\n",
      "classifTarget: mesenchymal cell\n",
      "\n",
      "target: mesenchymal cell\n",
      "\n",
      "predictWithNewValue data.frame data.frame\n",
      "\n",
      "load model\n",
      "\n",
      "cellType: kidney cell\n",
      "\n",
      "classifTarget: mesenchymal cell\n",
      "\n",
      "target: mesenchymal cell\n",
      "\n"
     ]
    }
   ],
   "source": [
    "myAttack <- advSingleGene(expr_df, clusters_df, 'mesenchymal cell', scMLP_classifier, returnFirstFound = T, advMethod = \"positive_aberrant\")"
   ]
  },
  {
   "cell_type": "markdown",
   "id": "5171376d",
   "metadata": {},
   "source": [
    "### Computation time"
   ]
  },
  {
   "cell_type": "code",
   "execution_count": 11,
   "id": "5a7df4a5",
   "metadata": {
    "execution": {
     "iopub.execute_input": "2024-10-07T07:07:10.853351Z",
     "iopub.status.busy": "2024-10-07T07:07:10.851012Z",
     "iopub.status.idle": "2024-10-07T07:07:10.934456Z",
     "shell.execute_reply": "2024-10-07T07:07:10.932942Z"
    }
   },
   "outputs": [
    {
     "data": {
      "text/plain": [
       "Time difference of 12.44148 mins"
      ]
     },
     "metadata": {},
     "output_type": "display_data"
    }
   ],
   "source": [
    "Sys.time() - start_time"
   ]
  },
  {
   "cell_type": "code",
   "execution_count": null,
   "id": "da445e24",
   "metadata": {},
   "outputs": [],
   "source": []
  },
  {
   "cell_type": "code",
   "execution_count": 12,
   "id": "55cae40f",
   "metadata": {
    "execution": {
     "iopub.execute_input": "2024-10-07T07:07:10.941908Z",
     "iopub.status.busy": "2024-10-07T07:07:10.940490Z",
     "iopub.status.idle": "2024-10-07T07:07:10.980005Z",
     "shell.execute_reply": "2024-10-07T07:07:10.974763Z"
    }
   },
   "outputs": [
    {
     "data": {
      "text/plain": [
       "$MIR1302.2HG\n",
       "[1] \"kidney cell\" \"1\"          \n"
      ]
     },
     "metadata": {},
     "output_type": "display_data"
    }
   ],
   "source": [
    "myAttack"
   ]
  },
  {
   "cell_type": "markdown",
   "id": "580ccfef",
   "metadata": {},
   "source": [
    "Build the modified RNA expression matrix."
   ]
  },
  {
   "cell_type": "code",
   "execution_count": 15,
   "id": "0e1a9d71",
   "metadata": {
    "execution": {
     "iopub.execute_input": "2024-10-07T07:07:10.998641Z",
     "iopub.status.busy": "2024-10-07T07:07:10.993818Z",
     "iopub.status.idle": "2024-10-07T07:07:20.495501Z",
     "shell.execute_reply": "2024-10-07T07:07:20.494120Z"
    }
   },
   "outputs": [],
   "source": [
    "mod_expr_df <- advModifications(expr_df, clusters=clusters_df, target='mesenchymal cell', genes=names(myAttack@values)[1], advMethod = \"positive_aberrant\")"
   ]
  },
  {
   "cell_type": "markdown",
   "id": "babc52dd",
   "metadata": {},
   "source": [
    "Check if the attack was successful."
   ]
  },
  {
   "cell_type": "code",
   "execution_count": 16,
   "id": "b77fb5aa",
   "metadata": {
    "execution": {
     "iopub.execute_input": "2024-10-07T07:07:20.500720Z",
     "iopub.status.busy": "2024-10-07T07:07:20.499361Z",
     "iopub.status.idle": "2024-10-07T07:07:27.295716Z",
     "shell.execute_reply": "2024-10-07T07:07:27.294384Z"
    }
   },
   "outputs": [
    {
     "name": "stderr",
     "output_type": "stream",
     "text": [
      "load model\n",
      "\n"
     ]
    },
    {
     "data": {
      "text/html": [
       "'kidney cell'"
      ],
      "text/latex": [
       "'kidney cell'"
      ],
      "text/markdown": [
       "'kidney cell'"
      ],
      "text/plain": [
       "[1] \"kidney cell\""
      ]
     },
     "metadata": {},
     "output_type": "display_data"
    }
   ],
   "source": [
    "mod_myPreds <- scMLP_classifier(mod_expr_df, clusters_df, 'mesenchymal cell')\n",
    "mod_myPreds$prediction"
   ]
  },
  {
   "cell_type": "code",
   "execution_count": null,
   "id": "a6bdf79e",
   "metadata": {},
   "outputs": [],
   "source": []
  },
  {
   "cell_type": "code",
   "execution_count": null,
   "id": "e4ba333a",
   "metadata": {},
   "outputs": [],
   "source": []
  },
  {
   "cell_type": "code",
   "execution_count": null,
   "id": "d606b722",
   "metadata": {},
   "outputs": [],
   "source": []
  },
  {
   "cell_type": "code",
   "execution_count": 17,
   "id": "5492f4a2",
   "metadata": {
    "execution": {
     "iopub.execute_input": "2024-10-07T07:07:27.301877Z",
     "iopub.status.busy": "2024-10-07T07:07:27.300774Z",
     "iopub.status.idle": "2024-10-07T07:07:28.000934Z",
     "shell.execute_reply": "2024-10-07T07:07:27.995988Z"
    }
   },
   "outputs": [
    {
     "data": {
      "text/plain": [
       "R version 4.3.3 (2024-02-29)\n",
       "Platform: x86_64-pc-linux-gnu (64-bit)\n",
       "Running under: Ubuntu 20.04.4 LTS\n",
       "\n",
       "Matrix products: default\n",
       "BLAS:   /usr/lib/x86_64-linux-gnu/blas/libblas.so.3.9.0 \n",
       "LAPACK: /usr/lib/x86_64-linux-gnu/lapack/liblapack.so.3.9.0\n",
       "\n",
       "locale:\n",
       " [1] LC_CTYPE=en_US.UTF-8       LC_NUMERIC=C              \n",
       " [3] LC_TIME=fr_FR.UTF-8        LC_COLLATE=en_US.UTF-8    \n",
       " [5] LC_MONETARY=fr_FR.UTF-8    LC_MESSAGES=en_US.UTF-8   \n",
       " [7] LC_PAPER=fr_FR.UTF-8       LC_NAME=C                 \n",
       " [9] LC_ADDRESS=C               LC_TELEPHONE=C            \n",
       "[11] LC_MEASUREMENT=fr_FR.UTF-8 LC_IDENTIFICATION=C       \n",
       "\n",
       "time zone: Europe/Paris\n",
       "tzcode source: system (glibc)\n",
       "\n",
       "attached base packages:\n",
       "[1] stats     graphics  grDevices utils     datasets  methods   base     \n",
       "\n",
       "other attached packages:\n",
       "[1] adverSCarial_1.3.6 dplyr_1.1.4        keras_2.15.0       reticulate_1.36.1 \n",
       "\n",
       "loaded via a namespace (and not attached):\n",
       " [1] Matrix_1.6-5          jsonlite_1.8.8        compiler_4.3.3       \n",
       " [4] crayon_1.5.3          tidyselect_1.2.1      Rcpp_1.0.13          \n",
       " [7] zeallot_0.1.0         IRdisplay_1.1         tensorflow_2.16.0    \n",
       "[10] IRanges_2.35.1        tfruns_1.5.3          png_0.1-8            \n",
       "[13] uuid_1.1-0            fastmap_1.2.0         IRkernel_1.3.2       \n",
       "[16] lattice_0.21-8        XVector_0.41.1        R6_2.5.1             \n",
       "[19] S4Arrays_1.1.4        generics_0.1.3        BiocGenerics_0.47.0  \n",
       "[22] tibble_3.2.1          DelayedArray_0.27.5   MatrixGenerics_1.13.0\n",
       "[25] pillar_1.9.0          rlang_1.1.4           utf8_1.2.4           \n",
       "[28] repr_1.1.6            SparseArray_1.1.10    cli_3.6.3            \n",
       "[31] magrittr_2.0.3        zlibbioc_1.47.0       digest_0.6.37        \n",
       "[34] grid_4.3.3            base64enc_0.1-3       pbdZMQ_0.3-9         \n",
       "[37] lifecycle_1.0.4       S4Vectors_0.39.1      vctrs_0.6.5          \n",
       "[40] evaluate_0.24.0       glue_1.7.0            whisker_0.4.1        \n",
       "[43] stats4_4.3.3          fansi_1.0.6           matrixStats_1.4.1    \n",
       "[46] tools_4.3.3           pkgconfig_2.0.3       htmltools_0.5.8.1    "
      ]
     },
     "metadata": {},
     "output_type": "display_data"
    }
   ],
   "source": [
    "sessionInfo()"
   ]
  },
  {
   "cell_type": "code",
   "execution_count": null,
   "id": "b915e6ce",
   "metadata": {},
   "outputs": [],
   "source": []
  },
  {
   "cell_type": "code",
   "execution_count": null,
   "id": "6172a0b8",
   "metadata": {},
   "outputs": [],
   "source": []
  },
  {
   "cell_type": "code",
   "execution_count": null,
   "id": "91073378",
   "metadata": {},
   "outputs": [],
   "source": []
  }
 ],
 "metadata": {
  "kernelspec": {
   "display_name": "R",
   "language": "R",
   "name": "ir"
  },
  "language_info": {
   "codemirror_mode": "r",
   "file_extension": ".r",
   "mimetype": "text/x-r-source",
   "name": "R",
   "pygments_lexer": "r",
   "version": "4.3.3"
  }
 },
 "nbformat": 4,
 "nbformat_minor": 5
}
