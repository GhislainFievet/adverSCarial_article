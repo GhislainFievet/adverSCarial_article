{
 "cells": [
  {
   "cell_type": "markdown",
   "id": "0531c3da",
   "metadata": {},
   "source": [
    "# Attack on scAnnotatR on liver 10k cells dataset\n",
    "\n",
    "- How to train a scAnnotatR classifier\n",
    "- How to format the classifier to use it with adverSCarial\n",
    "- How to run an IGD4C attack\n",
    "\n",
    "Nguyen, V., Griss, J. scAnnotatR: framework to accurately classify cell types in single-cell RNA-sequencing data. BMC Bioinformatics, 2022. 23(44) https://doi.org/10.1186/s12859-022-04574-5 "
   ]
  },
  {
   "cell_type": "code",
   "execution_count": 1,
   "id": "1f739233",
   "metadata": {
    "execution": {
     "iopub.execute_input": "2024-10-09T18:51:27.894190Z",
     "iopub.status.busy": "2024-10-09T18:51:27.892141Z",
     "iopub.status.idle": "2024-10-09T18:51:40.937299Z",
     "shell.execute_reply": "2024-10-09T18:51:40.935552Z"
    },
    "vscode": {
     "languageId": "r"
    }
   },
   "outputs": [
    {
     "name": "stderr",
     "output_type": "stream",
     "text": [
      "Loading required package: Seurat\n",
      "\n",
      "Loading required package: SeuratObject\n",
      "\n",
      "Loading required package: sp\n",
      "\n",
      "The legacy packages maptools, rgdal, and rgeos, underpinning the sp package,\n",
      "which was just loaded, will retire in October 2023.\n",
      "Please refer to R-spatial evolution reports for details, especially\n",
      "https://r-spatial.org/r/2023/05/15/evolution4.html.\n",
      "It may be desirable to make the sf package available;\n",
      "package maintainers should consider adding sf to Suggests:.\n",
      "The sp package is now running under evolution status 2\n",
      "     (status 2 uses the sf package in place of rgdal)\n",
      "\n",
      "\n",
      "Attaching package: ‘SeuratObject’\n",
      "\n",
      "\n",
      "The following objects are masked from ‘package:base’:\n",
      "\n",
      "    intersect, t\n",
      "\n",
      "\n",
      "Loading required package: SingleCellExperiment\n",
      "\n",
      "Loading required package: SummarizedExperiment\n",
      "\n",
      "Loading required package: MatrixGenerics\n",
      "\n",
      "Loading required package: matrixStats\n",
      "\n",
      "\n",
      "Attaching package: ‘MatrixGenerics’\n",
      "\n",
      "\n",
      "The following objects are masked from ‘package:matrixStats’:\n",
      "\n",
      "    colAlls, colAnyNAs, colAnys, colAvgsPerRowSet, colCollapse,\n",
      "    colCounts, colCummaxs, colCummins, colCumprods, colCumsums,\n",
      "    colDiffs, colIQRDiffs, colIQRs, colLogSumExps, colMadDiffs,\n",
      "    colMads, colMaxs, colMeans2, colMedians, colMins, colOrderStats,\n",
      "    colProds, colQuantiles, colRanges, colRanks, colSdDiffs, colSds,\n",
      "    colSums2, colTabulates, colVarDiffs, colVars, colWeightedMads,\n",
      "    colWeightedMeans, colWeightedMedians, colWeightedSds,\n",
      "    colWeightedVars, rowAlls, rowAnyNAs, rowAnys, rowAvgsPerColSet,\n",
      "    rowCollapse, rowCounts, rowCummaxs, rowCummins, rowCumprods,\n",
      "    rowCumsums, rowDiffs, rowIQRDiffs, rowIQRs, rowLogSumExps,\n",
      "    rowMadDiffs, rowMads, rowMaxs, rowMeans2, rowMedians, rowMins,\n",
      "    rowOrderStats, rowProds, rowQuantiles, rowRanges, rowRanks,\n",
      "    rowSdDiffs, rowSds, rowSums2, rowTabulates, rowVarDiffs, rowVars,\n",
      "    rowWeightedMads, rowWeightedMeans, rowWeightedMedians,\n",
      "    rowWeightedSds, rowWeightedVars\n",
      "\n",
      "\n",
      "Loading required package: GenomicRanges\n",
      "\n",
      "Loading required package: stats4\n",
      "\n",
      "Loading required package: BiocGenerics\n",
      "\n",
      "\n",
      "Attaching package: ‘BiocGenerics’\n",
      "\n",
      "\n",
      "The following object is masked from ‘package:SeuratObject’:\n",
      "\n",
      "    intersect\n",
      "\n",
      "\n",
      "The following objects are masked from ‘package:stats’:\n",
      "\n",
      "    IQR, mad, sd, var, xtabs\n",
      "\n",
      "\n",
      "The following objects are masked from ‘package:base’:\n",
      "\n",
      "    anyDuplicated, aperm, append, as.data.frame, basename, cbind,\n",
      "    colnames, dirname, do.call, duplicated, eval, evalq, Filter, Find,\n",
      "    get, grep, grepl, intersect, is.unsorted, lapply, Map, mapply,\n",
      "    match, mget, order, paste, pmax, pmax.int, pmin, pmin.int,\n",
      "    Position, rank, rbind, Reduce, rownames, sapply, setdiff, sort,\n",
      "    table, tapply, union, unique, unsplit, which.max, which.min\n",
      "\n",
      "\n",
      "Loading required package: S4Vectors\n",
      "\n",
      "\n",
      "Attaching package: ‘S4Vectors’\n",
      "\n",
      "\n",
      "The following object is masked from ‘package:utils’:\n",
      "\n",
      "    findMatches\n",
      "\n",
      "\n",
      "The following objects are masked from ‘package:base’:\n",
      "\n",
      "    expand.grid, I, unname\n",
      "\n",
      "\n",
      "Loading required package: IRanges\n",
      "\n",
      "\n",
      "Attaching package: ‘IRanges’\n",
      "\n",
      "\n",
      "The following object is masked from ‘package:sp’:\n",
      "\n",
      "    %over%\n",
      "\n",
      "\n",
      "Loading required package: GenomeInfoDb\n",
      "\n",
      "Loading required package: Biobase\n",
      "\n",
      "Welcome to Bioconductor\n",
      "\n",
      "    Vignettes contain introductory material; view with\n",
      "    'browseVignettes()'. To cite Bioconductor, see\n",
      "    'citation(\"Biobase\")', and for packages 'citation(\"pkgname\")'.\n",
      "\n",
      "\n",
      "\n",
      "Attaching package: ‘Biobase’\n",
      "\n",
      "\n",
      "The following object is masked from ‘package:MatrixGenerics’:\n",
      "\n",
      "    rowMedians\n",
      "\n",
      "\n",
      "The following objects are masked from ‘package:matrixStats’:\n",
      "\n",
      "    anyMissing, rowMedians\n",
      "\n",
      "\n",
      "\n",
      "Attaching package: ‘SummarizedExperiment’\n",
      "\n",
      "\n",
      "The following object is masked from ‘package:Seurat’:\n",
      "\n",
      "    Assays\n",
      "\n",
      "\n",
      "The following object is masked from ‘package:SeuratObject’:\n",
      "\n",
      "    Assays\n",
      "\n",
      "\n",
      "Warning message:\n",
      "“replacing previous import ‘ape::where’ by ‘dplyr::where’ when loading ‘scAnnotatR’”\n"
     ]
    }
   ],
   "source": [
    "library(scAnnotatR)\n",
    "library(IRdisplay)\n",
    "library(adverSCarial)"
   ]
  },
  {
   "cell_type": "markdown",
   "id": "678bb943",
   "metadata": {},
   "source": [
    "# scAnnotatR classifier training\n",
    "\n",
    "Load previously splitted train/test pbmc3k dataset\n",
    "https://cf.10xgenomics.com/samples/cell/pbmc3k/pbmc3k_filtered_gene_bc_matrices.tar.gz\n",
    "\n",
    "annotated from the Seurat tutorial method\n",
    "https://satijalab.org/seurat/articles/pbmc3k_tutorial"
   ]
  },
  {
   "cell_type": "code",
   "execution_count": 2,
   "id": "2d9e91a6",
   "metadata": {
    "execution": {
     "iopub.execute_input": "2024-10-09T18:51:40.967543Z",
     "iopub.status.busy": "2024-10-09T18:51:40.941530Z",
     "iopub.status.idle": "2024-10-09T18:51:40.977499Z",
     "shell.execute_reply": "2024-10-09T18:51:40.976272Z"
    }
   },
   "outputs": [],
   "source": [
    "c_basen = c(\"hgnc_axilla_10k\", \"hgnc_kidney_10k\", \"hgnc_liver_10k\")\n",
    "basen = c_basen[3]"
   ]
  },
  {
   "cell_type": "code",
   "execution_count": 3,
   "id": "8ea49383",
   "metadata": {
    "execution": {
     "iopub.execute_input": "2024-10-09T18:51:40.981540Z",
     "iopub.status.busy": "2024-10-09T18:51:40.980532Z",
     "iopub.status.idle": "2024-10-09T18:51:59.863028Z",
     "shell.execute_reply": "2024-10-09T18:51:59.861890Z"
    },
    "vscode": {
     "languageId": "r"
    }
   },
   "outputs": [],
   "source": [
    "se_train <- readRDS(paste0(\"data//v5/data//sc//\",basen,\"_train.rds\"))\n",
    "se_test <- readRDS(paste0(\"data//v5/data//sc//\",basen,\"_test.rds\"))"
   ]
  },
  {
   "cell_type": "code",
   "execution_count": 4,
   "id": "a48c75c0",
   "metadata": {
    "execution": {
     "iopub.execute_input": "2024-10-09T18:51:59.866802Z",
     "iopub.status.busy": "2024-10-09T18:51:59.865927Z",
     "iopub.status.idle": "2024-10-09T18:51:59.879119Z",
     "shell.execute_reply": "2024-10-09T18:51:59.878067Z"
    }
   },
   "outputs": [
    {
     "data": {
      "text/html": [
       "<style>\n",
       ".list-inline {list-style: none; margin:0; padding: 0}\n",
       ".list-inline>li {display: inline-block}\n",
       ".list-inline>li:not(:last-child)::after {content: \"\\00b7\"; padding: 0 .5ex}\n",
       "</style>\n",
       "<ol class=list-inline><li>malignant cell</li><li>endothelial cell</li><li>blood vessel smooth muscle cell</li><li>macrophage</li><li>monocyte</li><li>mature NK T cell</li></ol>\n",
       "\n",
       "<details>\n",
       "\t<summary style=display:list-item;cursor:pointer>\n",
       "\t\t<strong>Levels</strong>:\n",
       "\t</summary>\n",
       "\t<style>\n",
       "\t.list-inline {list-style: none; margin:0; padding: 0}\n",
       "\t.list-inline>li {display: inline-block}\n",
       "\t.list-inline>li:not(:last-child)::after {content: \"\\00b7\"; padding: 0 .5ex}\n",
       "\t</style>\n",
       "\t<ol class=list-inline><li>'malignant cell'</li><li>'endothelial cell'</li><li>'blood vessel endothelial cell'</li><li>'fibroblast'</li><li>'blood vessel smooth muscle cell'</li><li>'macrophage'</li><li>'monocyte'</li><li>'mature NK T cell'</li></ol>\n",
       "</details>"
      ],
      "text/latex": [
       "\\begin{enumerate*}\n",
       "\\item malignant cell\n",
       "\\item endothelial cell\n",
       "\\item blood vessel smooth muscle cell\n",
       "\\item macrophage\n",
       "\\item monocyte\n",
       "\\item mature NK T cell\n",
       "\\end{enumerate*}\n",
       "\n",
       "\\emph{Levels}: \\begin{enumerate*}\n",
       "\\item 'malignant cell'\n",
       "\\item 'endothelial cell'\n",
       "\\item 'blood vessel endothelial cell'\n",
       "\\item 'fibroblast'\n",
       "\\item 'blood vessel smooth muscle cell'\n",
       "\\item 'macrophage'\n",
       "\\item 'monocyte'\n",
       "\\item 'mature NK T cell'\n",
       "\\end{enumerate*}\n"
      ],
      "text/markdown": [
       "1. malignant cell\n",
       "2. endothelial cell\n",
       "3. blood vessel smooth muscle cell\n",
       "4. macrophage\n",
       "5. monocyte\n",
       "6. mature NK T cell\n",
       "\n",
       "\n",
       "\n",
       "**Levels**: 1. 'malignant cell'\n",
       "2. 'endothelial cell'\n",
       "3. 'blood vessel endothelial cell'\n",
       "4. 'fibroblast'\n",
       "5. 'blood vessel smooth muscle cell'\n",
       "6. 'macrophage'\n",
       "7. 'monocyte'\n",
       "8. 'mature NK T cell'\n",
       "\n",
       "\n"
      ],
      "text/plain": [
       "[1] malignant cell                  endothelial cell               \n",
       "[3] blood vessel smooth muscle cell macrophage                     \n",
       "[5] monocyte                        mature NK T cell               \n",
       "8 Levels: malignant cell < ... < mature NK T cell"
      ]
     },
     "metadata": {},
     "output_type": "display_data"
    }
   ],
   "source": [
    "unique(se_train@meta.data[['chr_seurat_cluster']])"
   ]
  },
  {
   "cell_type": "code",
   "execution_count": null,
   "id": "1e2dd2fe",
   "metadata": {},
   "outputs": [],
   "source": []
  },
  {
   "cell_type": "code",
   "execution_count": null,
   "id": "b066d62a",
   "metadata": {},
   "outputs": [],
   "source": []
  },
  {
   "cell_type": "code",
   "execution_count": null,
   "id": "38c3e5a4",
   "metadata": {},
   "outputs": [],
   "source": []
  },
  {
   "cell_type": "code",
   "execution_count": 5,
   "id": "b9def834",
   "metadata": {
    "execution": {
     "iopub.execute_input": "2024-10-09T18:51:59.883308Z",
     "iopub.status.busy": "2024-10-09T18:51:59.882330Z",
     "iopub.status.idle": "2024-10-09T18:51:59.926391Z",
     "shell.execute_reply": "2024-10-09T18:51:59.925216Z"
    }
   },
   "outputs": [],
   "source": [
    "Idents(se_train) <- \"chr_seurat_cluster\"\n",
    "Idents(se_test) <- \"chr_seurat_cluster\""
   ]
  },
  {
   "cell_type": "code",
   "execution_count": 6,
   "id": "8fdd272a",
   "metadata": {
    "execution": {
     "iopub.execute_input": "2024-10-09T18:51:59.930083Z",
     "iopub.status.busy": "2024-10-09T18:51:59.929181Z",
     "iopub.status.idle": "2024-10-09T18:51:59.954286Z",
     "shell.execute_reply": "2024-10-09T18:51:59.953204Z"
    }
   },
   "outputs": [
    {
     "data": {
      "text/html": [
       "<table class=\"dataframe\">\n",
       "<caption>A data.frame: 6 × 40</caption>\n",
       "<thead>\n",
       "\t<tr><th></th><th scope=col>orig.ident</th><th scope=col>nCount_RNA</th><th scope=col>nFeature_RNA</th><th scope=col>replicate</th><th scope=col>condition</th><th scope=col>labels_unif</th><th scope=col>labels_cl_unif</th><th scope=col>labels_cl_unif2_broad</th><th scope=col>compartments</th><th scope=col>cnv_pass_mal</th><th scope=col>⋯</th><th scope=col>cell_type</th><th scope=col>assay</th><th scope=col>disease</th><th scope=col>organism</th><th scope=col>sex</th><th scope=col>tissue</th><th scope=col>self_reported_ethnicity</th><th scope=col>development_stage</th><th scope=col>observation_joinid</th><th scope=col>chr_seurat_cluster</th></tr>\n",
       "\t<tr><th></th><th scope=col>&lt;fct&gt;</th><th scope=col>&lt;dbl&gt;</th><th scope=col>&lt;int&gt;</th><th scope=col>&lt;fct&gt;</th><th scope=col>&lt;fct&gt;</th><th scope=col>&lt;fct&gt;</th><th scope=col>&lt;fct&gt;</th><th scope=col>&lt;fct&gt;</th><th scope=col>&lt;fct&gt;</th><th scope=col>&lt;fct&gt;</th><th scope=col>⋯</th><th scope=col>&lt;ord&gt;</th><th scope=col>&lt;fct&gt;</th><th scope=col>&lt;fct&gt;</th><th scope=col>&lt;fct&gt;</th><th scope=col>&lt;fct&gt;</th><th scope=col>&lt;fct&gt;</th><th scope=col>&lt;fct&gt;</th><th scope=col>&lt;fct&gt;</th><th scope=col>&lt;chr&gt;</th><th scope=col>&lt;ord&gt;</th></tr>\n",
       "</thead>\n",
       "<tbody>\n",
       "\t<tr><th scope=row>HTAPP-944-SMP-7479-TST-channel1_CACAACACATCGTTCC-1</th><td>HTAPP-944-SMP-7479-TST-channel1</td><td>10284</td><td>5095</td><td>1</td><td>TST</td><td>Epithelial </td><td><span style=white-space:pre-wrap>Epithelial     </span></td><td>Epithelial_neuro</td><td>Malignant</td><td>True </td><td>⋯</td><td><span style=white-space:pre-wrap>malignant cell  </span></td><td>10x 3' v3</td><td>breast cancer</td><td>Homo sapiens</td><td>female</td><td>liver</td><td>European</td><td>46-year-old stage</td><td>@60N2&amp;n{|#</td><td><span style=white-space:pre-wrap>malignant cell  </span></td></tr>\n",
       "\t<tr><th scope=row>HTAPP-944-SMP-7479-TST-channel1_TAACTTCAGCAACTCT-1</th><td>HTAPP-944-SMP-7479-TST-channel1</td><td> 9907</td><td>6055</td><td>1</td><td>TST</td><td>Neurons    </td><td>Mesangial cells</td><td>Epithelial_neuro</td><td>Malignant</td><td>True </td><td>⋯</td><td>malignant cell  </td><td>10x 3' v3</td><td>breast cancer</td><td>Homo sapiens</td><td>female</td><td>liver</td><td>European</td><td>46-year-old stage</td><td>SK498wkiE8</td><td>malignant cell  </td></tr>\n",
       "\t<tr><th scope=row>HTAPP-944-SMP-7479-TST-channel1_AACGAAAGTCTCTCCA-1</th><td>HTAPP-944-SMP-7479-TST-channel1</td><td>19862</td><td>7590</td><td>1</td><td>TST</td><td>Epithelial </td><td>Epithelial     </td><td>Epithelial_neuro</td><td>Malignant</td><td>True </td><td>⋯</td><td>malignant cell  </td><td>10x 3' v3</td><td>breast cancer</td><td>Homo sapiens</td><td>female</td><td>liver</td><td>European</td><td>46-year-old stage</td><td>JP$p}wXdg0</td><td>malignant cell  </td></tr>\n",
       "\t<tr><th scope=row>HTAPP-944-SMP-7479-TST-channel1_TGGTAGTTCTTACGGA-1</th><td>HTAPP-944-SMP-7479-TST-channel1</td><td>19169</td><td>7672</td><td>1</td><td>TST</td><td>Endothelial</td><td>Endothelial    </td><td>Endothelial     </td><td>Stromal  </td><td>False</td><td>⋯</td><td>endothelial cell</td><td>10x 3' v3</td><td>breast cancer</td><td>Homo sapiens</td><td>female</td><td>liver</td><td>European</td><td>46-year-old stage</td><td>rhaxk3B9!C</td><td>endothelial cell</td></tr>\n",
       "\t<tr><th scope=row>HTAPP-944-SMP-7479-TST-channel1_TTGTTTGCAGACACCC-1</th><td>HTAPP-944-SMP-7479-TST-channel1</td><td>19005</td><td>6660</td><td>1</td><td>TST</td><td>Epithelial </td><td>Epithelial     </td><td>Epithelial_neuro</td><td>Malignant</td><td>True </td><td>⋯</td><td>malignant cell  </td><td>10x 3' v3</td><td>breast cancer</td><td>Homo sapiens</td><td>female</td><td>liver</td><td>European</td><td>46-year-old stage</td><td>v!j2{U6mqJ</td><td>malignant cell  </td></tr>\n",
       "\t<tr><th scope=row>HTAPP-944-SMP-7479-TST-channel1_GGCTTTCGTTTCACTT-1</th><td>HTAPP-944-SMP-7479-TST-channel1</td><td>19107</td><td>7349</td><td>1</td><td>TST</td><td>Epithelial </td><td><span style=white-space:pre-wrap>Epithelial     </span></td><td>Epithelial_neuro</td><td>Malignant</td><td>True </td><td>⋯</td><td><span style=white-space:pre-wrap>malignant cell  </span></td><td>10x 3' v3</td><td>breast cancer</td><td>Homo sapiens</td><td>female</td><td>liver</td><td>European</td><td>46-year-old stage</td><td>#?`|gL34x&lt;</td><td><span style=white-space:pre-wrap>malignant cell  </span></td></tr>\n",
       "</tbody>\n",
       "</table>\n"
      ],
      "text/latex": [
       "A data.frame: 6 × 40\n",
       "\\begin{tabular}{r|lllllllllllllllllllll}\n",
       "  & orig.ident & nCount\\_RNA & nFeature\\_RNA & replicate & condition & labels\\_unif & labels\\_cl\\_unif & labels\\_cl\\_unif2\\_broad & compartments & cnv\\_pass\\_mal & ⋯ & cell\\_type & assay & disease & organism & sex & tissue & self\\_reported\\_ethnicity & development\\_stage & observation\\_joinid & chr\\_seurat\\_cluster\\\\\n",
       "  & <fct> & <dbl> & <int> & <fct> & <fct> & <fct> & <fct> & <fct> & <fct> & <fct> & ⋯ & <ord> & <fct> & <fct> & <fct> & <fct> & <fct> & <fct> & <fct> & <chr> & <ord>\\\\\n",
       "\\hline\n",
       "\tHTAPP-944-SMP-7479-TST-channel1\\_CACAACACATCGTTCC-1 & HTAPP-944-SMP-7479-TST-channel1 & 10284 & 5095 & 1 & TST & Epithelial  & Epithelial      & Epithelial\\_neuro & Malignant & True  & ⋯ & malignant cell   & 10x 3' v3 & breast cancer & Homo sapiens & female & liver & European & 46-year-old stage & @60N2\\&n\\{\\textbar{}\\# & malignant cell  \\\\\n",
       "\tHTAPP-944-SMP-7479-TST-channel1\\_TAACTTCAGCAACTCT-1 & HTAPP-944-SMP-7479-TST-channel1 &  9907 & 6055 & 1 & TST & Neurons     & Mesangial cells & Epithelial\\_neuro & Malignant & True  & ⋯ & malignant cell   & 10x 3' v3 & breast cancer & Homo sapiens & female & liver & European & 46-year-old stage & SK498wkiE8 & malignant cell  \\\\\n",
       "\tHTAPP-944-SMP-7479-TST-channel1\\_AACGAAAGTCTCTCCA-1 & HTAPP-944-SMP-7479-TST-channel1 & 19862 & 7590 & 1 & TST & Epithelial  & Epithelial      & Epithelial\\_neuro & Malignant & True  & ⋯ & malignant cell   & 10x 3' v3 & breast cancer & Homo sapiens & female & liver & European & 46-year-old stage & JP\\$p\\}wXdg0 & malignant cell  \\\\\n",
       "\tHTAPP-944-SMP-7479-TST-channel1\\_TGGTAGTTCTTACGGA-1 & HTAPP-944-SMP-7479-TST-channel1 & 19169 & 7672 & 1 & TST & Endothelial & Endothelial     & Endothelial      & Stromal   & False & ⋯ & endothelial cell & 10x 3' v3 & breast cancer & Homo sapiens & female & liver & European & 46-year-old stage & rhaxk3B9!C & endothelial cell\\\\\n",
       "\tHTAPP-944-SMP-7479-TST-channel1\\_TTGTTTGCAGACACCC-1 & HTAPP-944-SMP-7479-TST-channel1 & 19005 & 6660 & 1 & TST & Epithelial  & Epithelial      & Epithelial\\_neuro & Malignant & True  & ⋯ & malignant cell   & 10x 3' v3 & breast cancer & Homo sapiens & female & liver & European & 46-year-old stage & v!j2\\{U6mqJ & malignant cell  \\\\\n",
       "\tHTAPP-944-SMP-7479-TST-channel1\\_GGCTTTCGTTTCACTT-1 & HTAPP-944-SMP-7479-TST-channel1 & 19107 & 7349 & 1 & TST & Epithelial  & Epithelial      & Epithelial\\_neuro & Malignant & True  & ⋯ & malignant cell   & 10x 3' v3 & breast cancer & Homo sapiens & female & liver & European & 46-year-old stage & \\#?`\\textbar{}gL34x< & malignant cell  \\\\\n",
       "\\end{tabular}\n"
      ],
      "text/markdown": [
       "\n",
       "A data.frame: 6 × 40\n",
       "\n",
       "| <!--/--> | orig.ident &lt;fct&gt; | nCount_RNA &lt;dbl&gt; | nFeature_RNA &lt;int&gt; | replicate &lt;fct&gt; | condition &lt;fct&gt; | labels_unif &lt;fct&gt; | labels_cl_unif &lt;fct&gt; | labels_cl_unif2_broad &lt;fct&gt; | compartments &lt;fct&gt; | cnv_pass_mal &lt;fct&gt; | ⋯ ⋯ | cell_type &lt;ord&gt; | assay &lt;fct&gt; | disease &lt;fct&gt; | organism &lt;fct&gt; | sex &lt;fct&gt; | tissue &lt;fct&gt; | self_reported_ethnicity &lt;fct&gt; | development_stage &lt;fct&gt; | observation_joinid &lt;chr&gt; | chr_seurat_cluster &lt;ord&gt; |\n",
       "|---|---|---|---|---|---|---|---|---|---|---|---|---|---|---|---|---|---|---|---|---|---|\n",
       "| HTAPP-944-SMP-7479-TST-channel1_CACAACACATCGTTCC-1 | HTAPP-944-SMP-7479-TST-channel1 | 10284 | 5095 | 1 | TST | Epithelial  | Epithelial      | Epithelial_neuro | Malignant | True  | ⋯ | malignant cell   | 10x 3' v3 | breast cancer | Homo sapiens | female | liver | European | 46-year-old stage | @60N2&amp;n{|# | malignant cell   |\n",
       "| HTAPP-944-SMP-7479-TST-channel1_TAACTTCAGCAACTCT-1 | HTAPP-944-SMP-7479-TST-channel1 |  9907 | 6055 | 1 | TST | Neurons     | Mesangial cells | Epithelial_neuro | Malignant | True  | ⋯ | malignant cell   | 10x 3' v3 | breast cancer | Homo sapiens | female | liver | European | 46-year-old stage | SK498wkiE8 | malignant cell   |\n",
       "| HTAPP-944-SMP-7479-TST-channel1_AACGAAAGTCTCTCCA-1 | HTAPP-944-SMP-7479-TST-channel1 | 19862 | 7590 | 1 | TST | Epithelial  | Epithelial      | Epithelial_neuro | Malignant | True  | ⋯ | malignant cell   | 10x 3' v3 | breast cancer | Homo sapiens | female | liver | European | 46-year-old stage | JP$p}wXdg0 | malignant cell   |\n",
       "| HTAPP-944-SMP-7479-TST-channel1_TGGTAGTTCTTACGGA-1 | HTAPP-944-SMP-7479-TST-channel1 | 19169 | 7672 | 1 | TST | Endothelial | Endothelial     | Endothelial      | Stromal   | False | ⋯ | endothelial cell | 10x 3' v3 | breast cancer | Homo sapiens | female | liver | European | 46-year-old stage | rhaxk3B9!C | endothelial cell |\n",
       "| HTAPP-944-SMP-7479-TST-channel1_TTGTTTGCAGACACCC-1 | HTAPP-944-SMP-7479-TST-channel1 | 19005 | 6660 | 1 | TST | Epithelial  | Epithelial      | Epithelial_neuro | Malignant | True  | ⋯ | malignant cell   | 10x 3' v3 | breast cancer | Homo sapiens | female | liver | European | 46-year-old stage | v!j2{U6mqJ | malignant cell   |\n",
       "| HTAPP-944-SMP-7479-TST-channel1_GGCTTTCGTTTCACTT-1 | HTAPP-944-SMP-7479-TST-channel1 | 19107 | 7349 | 1 | TST | Epithelial  | Epithelial      | Epithelial_neuro | Malignant | True  | ⋯ | malignant cell   | 10x 3' v3 | breast cancer | Homo sapiens | female | liver | European | 46-year-old stage | #?`|gL34x&lt; | malignant cell   |\n",
       "\n"
      ],
      "text/plain": [
       "                                                   orig.ident                     \n",
       "HTAPP-944-SMP-7479-TST-channel1_CACAACACATCGTTCC-1 HTAPP-944-SMP-7479-TST-channel1\n",
       "HTAPP-944-SMP-7479-TST-channel1_TAACTTCAGCAACTCT-1 HTAPP-944-SMP-7479-TST-channel1\n",
       "HTAPP-944-SMP-7479-TST-channel1_AACGAAAGTCTCTCCA-1 HTAPP-944-SMP-7479-TST-channel1\n",
       "HTAPP-944-SMP-7479-TST-channel1_TGGTAGTTCTTACGGA-1 HTAPP-944-SMP-7479-TST-channel1\n",
       "HTAPP-944-SMP-7479-TST-channel1_TTGTTTGCAGACACCC-1 HTAPP-944-SMP-7479-TST-channel1\n",
       "HTAPP-944-SMP-7479-TST-channel1_GGCTTTCGTTTCACTT-1 HTAPP-944-SMP-7479-TST-channel1\n",
       "                                                   nCount_RNA nFeature_RNA\n",
       "HTAPP-944-SMP-7479-TST-channel1_CACAACACATCGTTCC-1 10284      5095        \n",
       "HTAPP-944-SMP-7479-TST-channel1_TAACTTCAGCAACTCT-1  9907      6055        \n",
       "HTAPP-944-SMP-7479-TST-channel1_AACGAAAGTCTCTCCA-1 19862      7590        \n",
       "HTAPP-944-SMP-7479-TST-channel1_TGGTAGTTCTTACGGA-1 19169      7672        \n",
       "HTAPP-944-SMP-7479-TST-channel1_TTGTTTGCAGACACCC-1 19005      6660        \n",
       "HTAPP-944-SMP-7479-TST-channel1_GGCTTTCGTTTCACTT-1 19107      7349        \n",
       "                                                   replicate condition\n",
       "HTAPP-944-SMP-7479-TST-channel1_CACAACACATCGTTCC-1 1         TST      \n",
       "HTAPP-944-SMP-7479-TST-channel1_TAACTTCAGCAACTCT-1 1         TST      \n",
       "HTAPP-944-SMP-7479-TST-channel1_AACGAAAGTCTCTCCA-1 1         TST      \n",
       "HTAPP-944-SMP-7479-TST-channel1_TGGTAGTTCTTACGGA-1 1         TST      \n",
       "HTAPP-944-SMP-7479-TST-channel1_TTGTTTGCAGACACCC-1 1         TST      \n",
       "HTAPP-944-SMP-7479-TST-channel1_GGCTTTCGTTTCACTT-1 1         TST      \n",
       "                                                   labels_unif labels_cl_unif \n",
       "HTAPP-944-SMP-7479-TST-channel1_CACAACACATCGTTCC-1 Epithelial  Epithelial     \n",
       "HTAPP-944-SMP-7479-TST-channel1_TAACTTCAGCAACTCT-1 Neurons     Mesangial cells\n",
       "HTAPP-944-SMP-7479-TST-channel1_AACGAAAGTCTCTCCA-1 Epithelial  Epithelial     \n",
       "HTAPP-944-SMP-7479-TST-channel1_TGGTAGTTCTTACGGA-1 Endothelial Endothelial    \n",
       "HTAPP-944-SMP-7479-TST-channel1_TTGTTTGCAGACACCC-1 Epithelial  Epithelial     \n",
       "HTAPP-944-SMP-7479-TST-channel1_GGCTTTCGTTTCACTT-1 Epithelial  Epithelial     \n",
       "                                                   labels_cl_unif2_broad\n",
       "HTAPP-944-SMP-7479-TST-channel1_CACAACACATCGTTCC-1 Epithelial_neuro     \n",
       "HTAPP-944-SMP-7479-TST-channel1_TAACTTCAGCAACTCT-1 Epithelial_neuro     \n",
       "HTAPP-944-SMP-7479-TST-channel1_AACGAAAGTCTCTCCA-1 Epithelial_neuro     \n",
       "HTAPP-944-SMP-7479-TST-channel1_TGGTAGTTCTTACGGA-1 Endothelial          \n",
       "HTAPP-944-SMP-7479-TST-channel1_TTGTTTGCAGACACCC-1 Epithelial_neuro     \n",
       "HTAPP-944-SMP-7479-TST-channel1_GGCTTTCGTTTCACTT-1 Epithelial_neuro     \n",
       "                                                   compartments cnv_pass_mal ⋯\n",
       "HTAPP-944-SMP-7479-TST-channel1_CACAACACATCGTTCC-1 Malignant    True         ⋯\n",
       "HTAPP-944-SMP-7479-TST-channel1_TAACTTCAGCAACTCT-1 Malignant    True         ⋯\n",
       "HTAPP-944-SMP-7479-TST-channel1_AACGAAAGTCTCTCCA-1 Malignant    True         ⋯\n",
       "HTAPP-944-SMP-7479-TST-channel1_TGGTAGTTCTTACGGA-1 Stromal      False        ⋯\n",
       "HTAPP-944-SMP-7479-TST-channel1_TTGTTTGCAGACACCC-1 Malignant    True         ⋯\n",
       "HTAPP-944-SMP-7479-TST-channel1_GGCTTTCGTTTCACTT-1 Malignant    True         ⋯\n",
       "                                                   cell_type        assay    \n",
       "HTAPP-944-SMP-7479-TST-channel1_CACAACACATCGTTCC-1 malignant cell   10x 3' v3\n",
       "HTAPP-944-SMP-7479-TST-channel1_TAACTTCAGCAACTCT-1 malignant cell   10x 3' v3\n",
       "HTAPP-944-SMP-7479-TST-channel1_AACGAAAGTCTCTCCA-1 malignant cell   10x 3' v3\n",
       "HTAPP-944-SMP-7479-TST-channel1_TGGTAGTTCTTACGGA-1 endothelial cell 10x 3' v3\n",
       "HTAPP-944-SMP-7479-TST-channel1_TTGTTTGCAGACACCC-1 malignant cell   10x 3' v3\n",
       "HTAPP-944-SMP-7479-TST-channel1_GGCTTTCGTTTCACTT-1 malignant cell   10x 3' v3\n",
       "                                                   disease       organism    \n",
       "HTAPP-944-SMP-7479-TST-channel1_CACAACACATCGTTCC-1 breast cancer Homo sapiens\n",
       "HTAPP-944-SMP-7479-TST-channel1_TAACTTCAGCAACTCT-1 breast cancer Homo sapiens\n",
       "HTAPP-944-SMP-7479-TST-channel1_AACGAAAGTCTCTCCA-1 breast cancer Homo sapiens\n",
       "HTAPP-944-SMP-7479-TST-channel1_TGGTAGTTCTTACGGA-1 breast cancer Homo sapiens\n",
       "HTAPP-944-SMP-7479-TST-channel1_TTGTTTGCAGACACCC-1 breast cancer Homo sapiens\n",
       "HTAPP-944-SMP-7479-TST-channel1_GGCTTTCGTTTCACTT-1 breast cancer Homo sapiens\n",
       "                                                   sex    tissue\n",
       "HTAPP-944-SMP-7479-TST-channel1_CACAACACATCGTTCC-1 female liver \n",
       "HTAPP-944-SMP-7479-TST-channel1_TAACTTCAGCAACTCT-1 female liver \n",
       "HTAPP-944-SMP-7479-TST-channel1_AACGAAAGTCTCTCCA-1 female liver \n",
       "HTAPP-944-SMP-7479-TST-channel1_TGGTAGTTCTTACGGA-1 female liver \n",
       "HTAPP-944-SMP-7479-TST-channel1_TTGTTTGCAGACACCC-1 female liver \n",
       "HTAPP-944-SMP-7479-TST-channel1_GGCTTTCGTTTCACTT-1 female liver \n",
       "                                                   self_reported_ethnicity\n",
       "HTAPP-944-SMP-7479-TST-channel1_CACAACACATCGTTCC-1 European               \n",
       "HTAPP-944-SMP-7479-TST-channel1_TAACTTCAGCAACTCT-1 European               \n",
       "HTAPP-944-SMP-7479-TST-channel1_AACGAAAGTCTCTCCA-1 European               \n",
       "HTAPP-944-SMP-7479-TST-channel1_TGGTAGTTCTTACGGA-1 European               \n",
       "HTAPP-944-SMP-7479-TST-channel1_TTGTTTGCAGACACCC-1 European               \n",
       "HTAPP-944-SMP-7479-TST-channel1_GGCTTTCGTTTCACTT-1 European               \n",
       "                                                   development_stage\n",
       "HTAPP-944-SMP-7479-TST-channel1_CACAACACATCGTTCC-1 46-year-old stage\n",
       "HTAPP-944-SMP-7479-TST-channel1_TAACTTCAGCAACTCT-1 46-year-old stage\n",
       "HTAPP-944-SMP-7479-TST-channel1_AACGAAAGTCTCTCCA-1 46-year-old stage\n",
       "HTAPP-944-SMP-7479-TST-channel1_TGGTAGTTCTTACGGA-1 46-year-old stage\n",
       "HTAPP-944-SMP-7479-TST-channel1_TTGTTTGCAGACACCC-1 46-year-old stage\n",
       "HTAPP-944-SMP-7479-TST-channel1_GGCTTTCGTTTCACTT-1 46-year-old stage\n",
       "                                                   observation_joinid\n",
       "HTAPP-944-SMP-7479-TST-channel1_CACAACACATCGTTCC-1 @60N2&n{|#        \n",
       "HTAPP-944-SMP-7479-TST-channel1_TAACTTCAGCAACTCT-1 SK498wkiE8        \n",
       "HTAPP-944-SMP-7479-TST-channel1_AACGAAAGTCTCTCCA-1 JP$p}wXdg0        \n",
       "HTAPP-944-SMP-7479-TST-channel1_TGGTAGTTCTTACGGA-1 rhaxk3B9!C        \n",
       "HTAPP-944-SMP-7479-TST-channel1_TTGTTTGCAGACACCC-1 v!j2{U6mqJ        \n",
       "HTAPP-944-SMP-7479-TST-channel1_GGCTTTCGTTTCACTT-1 #?`|gL34x<        \n",
       "                                                   chr_seurat_cluster\n",
       "HTAPP-944-SMP-7479-TST-channel1_CACAACACATCGTTCC-1 malignant cell    \n",
       "HTAPP-944-SMP-7479-TST-channel1_TAACTTCAGCAACTCT-1 malignant cell    \n",
       "HTAPP-944-SMP-7479-TST-channel1_AACGAAAGTCTCTCCA-1 malignant cell    \n",
       "HTAPP-944-SMP-7479-TST-channel1_TGGTAGTTCTTACGGA-1 endothelial cell  \n",
       "HTAPP-944-SMP-7479-TST-channel1_TTGTTTGCAGACACCC-1 malignant cell    \n",
       "HTAPP-944-SMP-7479-TST-channel1_GGCTTTCGTTTCACTT-1 malignant cell    "
      ]
     },
     "metadata": {},
     "output_type": "display_data"
    }
   ],
   "source": [
    "head(se_train@meta.data)"
   ]
  },
  {
   "cell_type": "markdown",
   "id": "9b8f3d1f",
   "metadata": {},
   "source": [
    "## Function to get the most significant genes between a cluster and the other cells"
   ]
  },
  {
   "cell_type": "code",
   "execution_count": 7,
   "id": "46db0599",
   "metadata": {
    "execution": {
     "iopub.execute_input": "2024-10-09T18:51:59.958109Z",
     "iopub.status.busy": "2024-10-09T18:51:59.957205Z",
     "iopub.status.idle": "2024-10-09T18:51:59.965684Z",
     "shell.execute_reply": "2024-10-09T18:51:59.964617Z"
    }
   },
   "outputs": [],
   "source": [
    "getSignGenesNot <- function(expr, clusters, target, method=\"wilcox\", adjMethod=\"BH\", verbose=FALSE){\n",
    "        if (verbose) {message(\"Cluster \",target,\" vs all the other clusters\")}\n",
    "        pvals <- apply(t(expr), 1, function(x){\n",
    "            c1 <- x[clusters == target]\n",
    "            c1 <- c1[!is.na(c1)]\n",
    "            c2 <- x[clusters != target]\n",
    "            c2 <- c2[!is.na(c2)]\n",
    "            if ( length(c1) == 0 || length(c2) == 0){\n",
    "                return(1)\n",
    "            }\n",
    "            if (length(unique(c1))==1){\n",
    "                c1[1] = c1[1] + 0.00001\n",
    "            }\n",
    "            if (length(unique(c2))==1){\n",
    "                c2[1] = c2[1] + 0.00001\n",
    "            }\n",
    "            if (method==\"wilcox\"){\n",
    "                return(wilcox.test(c1, c2)$p.value)\n",
    "            }\n",
    "            if (method==\"ttest\"){\n",
    "                return(t.test(c1, c2)$p.value)\n",
    "            }\n",
    "        })\n",
    "        means <- apply(t(expr), 1, function(x){\n",
    "                c1 <- x[clusters == target]\n",
    "                c1 <- c1[!is.na(c1)]\n",
    "                c2 <- x[clusters != target]\n",
    "                c2 <- c2[!is.na(c2)]\n",
    "                if (length(c1) == 0){\n",
    "                    c1 = c(0)\n",
    "                }\n",
    "                if (length(c2) == 0){\n",
    "                    c2 = c(0)\n",
    "                }\n",
    "                return(mean(c1)-mean(c2))\n",
    "        })  \n",
    "        dfPvals <- data.frame(gene=colnames(expr), pval=unname(pvals), mean=means)\n",
    "        rownames(dfPvals) <- dfPvals$gene\n",
    "\n",
    "        for (clustInt in setdiff(unique(clusters), target)){\n",
    "            if(verbose){message(\"Cluster \", target, \" vs cluster \", clustInt)}\n",
    "            newPvals <- pvals <- apply(t(expr), 1, function(x){\n",
    "                c1 <- x[clusters == target]\n",
    "                c1 <- c1[!is.na(c1)]\n",
    "                c2 <- x[clusters == clustInt]\n",
    "                c2 <- c2[!is.na(c2)]\n",
    "                if ( length(c1) == 0 || length(c2) == 0){\n",
    "                    return(1)\n",
    "                }\n",
    "                if (length(unique(c1))==1){\n",
    "                    c1[1] = c1[1] + 0.001\n",
    "                }\n",
    "                if (length(unique(c2))==1){\n",
    "                    c2[1] = c2[1] + 0.001\n",
    "                }\n",
    "                if (method==\"wilcox\"){\n",
    "                    return(wilcox.test(c1, c2)$p.value)\n",
    "                }\n",
    "                if (method==\"ttest\"){\n",
    "                    return(t.test(c1, c2)$p.value)\n",
    "                }    \n",
    "            })\n",
    "            newMeans <- pvals <- apply(t(expr), 1, function(x){\n",
    "                c1 <- x[clusters == target]\n",
    "                c1 <- c1[!is.na(c1)]\n",
    "                c2 <- x[clusters == clustInt]\n",
    "                c2 <- c2[!is.na(c2)]\n",
    "                if (length(c1) == 0){\n",
    "                    c1 = c(0)\n",
    "                }\n",
    "                if (length(c2) == 0){\n",
    "                    c2 = c(0)\n",
    "                }\n",
    "                return(mean(c1)-mean(c2))\n",
    "            })  \n",
    "            if(verbose){message(sum(unname(newPvals) < dfPvals$pval),\" pvalues replaced by lower values\")}\n",
    "            dfPvals[unname(newPvals) < dfPvals$pval, \"pval\"] <- newPvals[unname(newPvals) < dfPvals$pval]\n",
    "            dfPvals[unname(newPvals) < dfPvals$pval, \"mean\"] <- newMeans[unname(newPvals) < dfPvals$pval]\n",
    "    }\n",
    "    dfPvals$adjPval <- p.adjust(dfPvals$pval, method=adjMethod)\n",
    "    dfPvals <- dfPvals[order(dfPvals$pval),]\n",
    "    return(dfPvals)\n",
    "}"
   ]
  },
  {
   "cell_type": "code",
   "execution_count": null,
   "id": "199e5725",
   "metadata": {},
   "outputs": [],
   "source": []
  },
  {
   "cell_type": "code",
   "execution_count": 8,
   "id": "12ce1a1c",
   "metadata": {
    "execution": {
     "iopub.execute_input": "2024-10-09T18:51:59.969484Z",
     "iopub.status.busy": "2024-10-09T18:51:59.968583Z",
     "iopub.status.idle": "2024-10-09T18:52:14.898244Z",
     "shell.execute_reply": "2024-10-09T18:52:14.805151Z"
    }
   },
   "outputs": [],
   "source": [
    "dfScaled <- as.data.frame(se_train@assays$RNA@layers$scale.data)\n",
    "colnames(dfScaled) <- rownames(se_train@assays$RNA@cells)\n",
    "rownames(dfScaled) <- rownames(se_train@assays$RNA@features)\n",
    "dfScaled <- as.data.frame(t(dfScaled))"
   ]
  },
  {
   "cell_type": "markdown",
   "id": "c63941ae",
   "metadata": {},
   "source": [
    "The scAnnotatR will build one classifier to predict each cell type, so we one-hot encode the cell type by adding a meta.data column for each cell type with binary information: cell type or \"unknown\"."
   ]
  },
  {
   "cell_type": "code",
   "execution_count": 9,
   "id": "74311bb0",
   "metadata": {
    "execution": {
     "iopub.execute_input": "2024-10-09T18:52:14.954962Z",
     "iopub.status.busy": "2024-10-09T18:52:14.951141Z",
     "iopub.status.idle": "2024-10-09T18:52:15.124329Z",
     "shell.execute_reply": "2024-10-09T18:52:15.122745Z"
    }
   },
   "outputs": [],
   "source": [
    "for (cellType in unique(se_train@meta.data$chr_seurat_cluster)){\n",
    "    se_train@meta.data[[cellType]] <- unlist(lapply(se_train@meta.data$chr_seurat_cluster, function(x){\n",
    "        if (x == cellType){\n",
    "            return(cellType)\n",
    "        } else {\n",
    "            return(\"unknown\")\n",
    "        }\n",
    "    }))\n",
    "}"
   ]
  },
  {
   "cell_type": "markdown",
   "id": "1945da64",
   "metadata": {},
   "source": [
    "## Train and export one classifier for each cell type"
   ]
  },
  {
   "cell_type": "code",
   "execution_count": 10,
   "id": "7bfd0f08",
   "metadata": {
    "execution": {
     "iopub.execute_input": "2024-10-09T18:52:15.129272Z",
     "iopub.status.busy": "2024-10-09T18:52:15.128216Z",
     "iopub.status.idle": "2024-10-09T19:12:03.984910Z",
     "shell.execute_reply": "2024-10-09T19:12:03.982166Z"
    }
   },
   "outputs": [
    {
     "data": {
      "text/html": [
       "'malignant cell'"
      ],
      "text/latex": [
       "'malignant cell'"
      ],
      "text/markdown": [
       "'malignant cell'"
      ],
      "text/plain": [
       "[1] \"malignant cell\""
      ]
     },
     "metadata": {},
     "output_type": "display_data"
    },
    {
     "name": "stderr",
     "output_type": "stream",
     "text": [
      "Loading required package: ggplot2\n",
      "\n",
      "Loading required package: lattice\n",
      "\n",
      "Saving new models to repr_data/classifiers/scAnnotatR/trainedClass_hgnc_liver_10k/new_models.rda...\n",
      "\n",
      "Finished saving new model\n",
      "\n"
     ]
    },
    {
     "data": {
      "text/html": [
       "'endothelial cell'"
      ],
      "text/latex": [
       "'endothelial cell'"
      ],
      "text/markdown": [
       "'endothelial cell'"
      ],
      "text/plain": [
       "[1] \"endothelial cell\""
      ]
     },
     "metadata": {},
     "output_type": "display_data"
    },
    {
     "name": "stderr",
     "output_type": "stream",
     "text": [
      "Saving new models to repr_data/classifiers/scAnnotatR/trainedClass_hgnc_liver_10k/new_models.rda...\n",
      "\n",
      "Finished saving new model\n",
      "\n"
     ]
    },
    {
     "data": {
      "text/html": [
       "'blood vessel smooth muscle cell'"
      ],
      "text/latex": [
       "'blood vessel smooth muscle cell'"
      ],
      "text/markdown": [
       "'blood vessel smooth muscle cell'"
      ],
      "text/plain": [
       "[1] \"blood vessel smooth muscle cell\""
      ]
     },
     "metadata": {},
     "output_type": "display_data"
    },
    {
     "name": "stderr",
     "output_type": "stream",
     "text": [
      "Saving new models to repr_data/classifiers/scAnnotatR/trainedClass_hgnc_liver_10k/new_models.rda...\n",
      "\n",
      "Finished saving new model\n",
      "\n"
     ]
    },
    {
     "data": {
      "text/html": [
       "'macrophage'"
      ],
      "text/latex": [
       "'macrophage'"
      ],
      "text/markdown": [
       "'macrophage'"
      ],
      "text/plain": [
       "[1] \"macrophage\""
      ]
     },
     "metadata": {},
     "output_type": "display_data"
    },
    {
     "name": "stderr",
     "output_type": "stream",
     "text": [
      "Saving new models to repr_data/classifiers/scAnnotatR/trainedClass_hgnc_liver_10k/new_models.rda...\n",
      "\n",
      "Finished saving new model\n",
      "\n"
     ]
    },
    {
     "data": {
      "text/html": [
       "'monocyte'"
      ],
      "text/latex": [
       "'monocyte'"
      ],
      "text/markdown": [
       "'monocyte'"
      ],
      "text/plain": [
       "[1] \"monocyte\""
      ]
     },
     "metadata": {},
     "output_type": "display_data"
    },
    {
     "name": "stderr",
     "output_type": "stream",
     "text": [
      "Saving new models to repr_data/classifiers/scAnnotatR/trainedClass_hgnc_liver_10k/new_models.rda...\n",
      "\n",
      "Finished saving new model\n",
      "\n"
     ]
    },
    {
     "data": {
      "text/html": [
       "'mature NK T cell'"
      ],
      "text/latex": [
       "'mature NK T cell'"
      ],
      "text/markdown": [
       "'mature NK T cell'"
      ],
      "text/plain": [
       "[1] \"mature NK T cell\""
      ]
     },
     "metadata": {},
     "output_type": "display_data"
    },
    {
     "name": "stderr",
     "output_type": "stream",
     "text": [
      "Saving new models to repr_data/classifiers/scAnnotatR/trainedClass_hgnc_liver_10k/new_models.rda...\n",
      "\n",
      "Finished saving new model\n",
      "\n"
     ]
    },
    {
     "data": {
      "text/plain": [
       "An object of class scAnnotatR for mature NK T cell \n",
       "* 20 marker genes applied: RUNX3, CD2, PYHIN1, FCRL6, FCGR3A, CD247, PTPRC, GNLY, ARHGAP15, CX3CR1, CD38, FGFBP2, DTHD1, TXK, FYB1, GZMA, ITK, SCML4, SAMD3, AOAH \n",
       "* Predicting probability threshold: 0.5 \n",
       "* No parent model"
      ]
     },
     "metadata": {},
     "output_type": "display_data"
    }
   ],
   "source": [
    "listClassifiers <- list()\n",
    "for (cellType in unique(se_train@meta.data$chr_seurat_cluster)){\n",
    "    display(cellType)\n",
    "    sg <- getSignGenesNot(dfScaled,\n",
    "                   se_train@meta.data$chr_seurat_cluster,\n",
    "                   cellType)\n",
    "    # Selection of the 20 most significants with a minimum mean difference of 0.5 for the SVM\n",
    "    selectedMarkers <- rownames(sg[abs(sg$mean)>0.5,])[1:20]\n",
    "    classifier <- train_classifier(train_obj = se_train, cell_type = cellType, \n",
    "                                 marker_genes = selectedMarkers,\n",
    "                                 assay = 'RNA', tag_slot = cellType)\n",
    "    listClassifiers[[cellType]] <- classifier\n",
    "    \n",
    "    save_new_model(new_model = classifier,\n",
    "                   path_to_models = paste0(\"repr_data/classifiers/scAnnotatR/trainedClass_\", basen),\n",
    "               include.default = FALSE) \n",
    "}\n",
    "listClassifiers[[cellType]]"
   ]
  },
  {
   "cell_type": "markdown",
   "id": "e1522de4",
   "metadata": {},
   "source": [
    "# Format the Classifier\n",
    "To work with adverSCarial the classifier needs to be formated in a certain way."
   ]
  },
  {
   "cell_type": "code",
   "execution_count": 11,
   "id": "75460d09",
   "metadata": {
    "execution": {
     "iopub.execute_input": "2024-10-09T19:12:04.630419Z",
     "iopub.status.busy": "2024-10-09T19:12:04.628973Z",
     "iopub.status.idle": "2024-10-09T19:12:05.832584Z",
     "shell.execute_reply": "2024-10-09T19:12:05.829913Z"
    }
   },
   "outputs": [],
   "source": [
    "scAnnotatR_classifier = function(expr, clusters, target){\n",
    "    if (!\"scAnnotatR\" %in% loadedNamespaces()){\n",
    "        library(scAnnotatR)\n",
    "    }\n",
    "    if ( !exists(\"sca_default_models\")){\n",
    "        sca_default_models <<- load_models(paste0(\"repr_data/classifiers/scAnnotatR/trainedClass_\", basen))\n",
    "        sca_cell_types <<- names(sca_default_models)\n",
    "    }\n",
    "    \n",
    "    seurat.obj <- classify_cells(classify_obj = expr, \n",
    "                             assay = 'RNA', slot = 'scale.data',\n",
    "                             cell_types = sca_cell_types, \n",
    "                             path_to_models = paste0(\"repr_data/classifiers/scAnnotatR/trainedClass_\", basen))\n",
    "    typePredictions <- seurat.obj@meta.data[, stringr::str_replace_all( paste0(sca_cell_types, \"_p\"), \" \", \"_\")]\n",
    "    \n",
    "    pred_table <- table(seurat.obj@meta.data[clusters == target, \"most_probable_cell_type\"])\n",
    "    cluster_pred <- names(pred_table[order(pred_table, decreasing = TRUE)])[1]\n",
    "    odd <- unname(pred_table[cluster_pred]/sum(pred_table))\n",
    "    colnames(typePredictions) <- unlist(lapply(colnames(typePredictions), function(x){\n",
    "        unlist(strsplit(x,\"_p$\"))[1]\n",
    "    }))\n",
    "    typePredictions <- as.data.frame(t(typePredictions))\n",
    "    \n",
    "    result <- list(\n",
    "        # Cell type prediction for the cluster\n",
    "        prediction=stringr::str_replace_all(cluster_pred,\" \",\"_\"),\n",
    "        # Score of the predicted cell type\n",
    "        odd=odd, \n",
    "        # Score for each cell type for each cell\n",
    "        typePredictions=typePredictions,\n",
    "        # Cell type for each cell\n",
    "        cellTypes=seurat.obj@meta.data$most_probable_cell_type)\n",
    "    return(result)\n",
    "}"
   ]
  },
  {
   "cell_type": "markdown",
   "id": "41329ee4",
   "metadata": {},
   "source": [
    "# Adversarial attack of the microglial cell cells cluster"
   ]
  },
  {
   "cell_type": "code",
   "execution_count": 12,
   "id": "5fe01eb4",
   "metadata": {
    "execution": {
     "iopub.execute_input": "2024-10-09T19:12:05.872660Z",
     "iopub.status.busy": "2024-10-09T19:12:05.871419Z",
     "iopub.status.idle": "2024-10-09T19:12:05.884851Z",
     "shell.execute_reply": "2024-10-09T19:12:05.883428Z"
    }
   },
   "outputs": [],
   "source": [
    "so_pbmc_test <- se_test\n",
    "clusters_so = so_pbmc_test@meta.data$chr_seurat_cluster\n",
    "names(clusters_so) <- rownames(so_pbmc_test@meta.data)"
   ]
  },
  {
   "cell_type": "markdown",
   "id": "b505ee93",
   "metadata": {},
   "source": [
    "cell types clusters"
   ]
  },
  {
   "cell_type": "code",
   "execution_count": 13,
   "id": "c6210693",
   "metadata": {
    "execution": {
     "iopub.execute_input": "2024-10-09T19:12:05.892959Z",
     "iopub.status.busy": "2024-10-09T19:12:05.891494Z",
     "iopub.status.idle": "2024-10-09T19:12:05.905019Z",
     "shell.execute_reply": "2024-10-09T19:12:05.903804Z"
    }
   },
   "outputs": [
    {
     "data": {
      "text/html": [
       "<style>\n",
       ".list-inline {list-style: none; margin:0; padding: 0}\n",
       ".list-inline>li {display: inline-block}\n",
       ".list-inline>li:not(:last-child)::after {content: \"\\00b7\"; padding: 0 .5ex}\n",
       "</style>\n",
       "<ol class=list-inline><li>malignant cell</li><li>endothelial cell</li><li>blood vessel smooth muscle cell</li><li>macrophage</li><li>monocyte</li><li>mature NK T cell</li></ol>\n",
       "\n",
       "<details>\n",
       "\t<summary style=display:list-item;cursor:pointer>\n",
       "\t\t<strong>Levels</strong>:\n",
       "\t</summary>\n",
       "\t<style>\n",
       "\t.list-inline {list-style: none; margin:0; padding: 0}\n",
       "\t.list-inline>li {display: inline-block}\n",
       "\t.list-inline>li:not(:last-child)::after {content: \"\\00b7\"; padding: 0 .5ex}\n",
       "\t</style>\n",
       "\t<ol class=list-inline><li>'malignant cell'</li><li>'endothelial cell'</li><li>'blood vessel endothelial cell'</li><li>'fibroblast'</li><li>'blood vessel smooth muscle cell'</li><li>'macrophage'</li><li>'monocyte'</li><li>'mature NK T cell'</li></ol>\n",
       "</details>"
      ],
      "text/latex": [
       "\\begin{enumerate*}\n",
       "\\item malignant cell\n",
       "\\item endothelial cell\n",
       "\\item blood vessel smooth muscle cell\n",
       "\\item macrophage\n",
       "\\item monocyte\n",
       "\\item mature NK T cell\n",
       "\\end{enumerate*}\n",
       "\n",
       "\\emph{Levels}: \\begin{enumerate*}\n",
       "\\item 'malignant cell'\n",
       "\\item 'endothelial cell'\n",
       "\\item 'blood vessel endothelial cell'\n",
       "\\item 'fibroblast'\n",
       "\\item 'blood vessel smooth muscle cell'\n",
       "\\item 'macrophage'\n",
       "\\item 'monocyte'\n",
       "\\item 'mature NK T cell'\n",
       "\\end{enumerate*}\n"
      ],
      "text/markdown": [
       "1. malignant cell\n",
       "2. endothelial cell\n",
       "3. blood vessel smooth muscle cell\n",
       "4. macrophage\n",
       "5. monocyte\n",
       "6. mature NK T cell\n",
       "\n",
       "\n",
       "\n",
       "**Levels**: 1. 'malignant cell'\n",
       "2. 'endothelial cell'\n",
       "3. 'blood vessel endothelial cell'\n",
       "4. 'fibroblast'\n",
       "5. 'blood vessel smooth muscle cell'\n",
       "6. 'macrophage'\n",
       "7. 'monocyte'\n",
       "8. 'mature NK T cell'\n",
       "\n",
       "\n"
      ],
      "text/plain": [
       "[1] malignant cell                  endothelial cell               \n",
       "[3] blood vessel smooth muscle cell macrophage                     \n",
       "[5] monocyte                        mature NK T cell               \n",
       "8 Levels: malignant cell < ... < mature NK T cell"
      ]
     },
     "metadata": {},
     "output_type": "display_data"
    }
   ],
   "source": [
    "unique(clusters_so)"
   ]
  },
  {
   "cell_type": "markdown",
   "id": "7d92d4f6",
   "metadata": {},
   "source": [
    "We check if the classifier is working properly, it predicts the blood vessel endothelial cells cluster as blood vessel endothelial cells."
   ]
  },
  {
   "cell_type": "code",
   "execution_count": 14,
   "id": "c0243451",
   "metadata": {
    "execution": {
     "iopub.execute_input": "2024-10-09T19:12:05.910204Z",
     "iopub.status.busy": "2024-10-09T19:12:05.909211Z",
     "iopub.status.idle": "2024-10-09T19:12:49.749154Z",
     "shell.execute_reply": "2024-10-09T19:12:49.729454Z"
    }
   },
   "outputs": [],
   "source": [
    "class_results <- scAnnotatR_classifier(so_pbmc_test, clusters_so, 'monocyte')"
   ]
  },
  {
   "cell_type": "code",
   "execution_count": 15,
   "id": "bc6e9e4f",
   "metadata": {
    "execution": {
     "iopub.execute_input": "2024-10-09T19:12:49.787835Z",
     "iopub.status.busy": "2024-10-09T19:12:49.783220Z",
     "iopub.status.idle": "2024-10-09T19:12:49.831248Z",
     "shell.execute_reply": "2024-10-09T19:12:49.828618Z"
    }
   },
   "outputs": [
    {
     "data": {
      "text/html": [
       "'monocyte'"
      ],
      "text/latex": [
       "'monocyte'"
      ],
      "text/markdown": [
       "'monocyte'"
      ],
      "text/plain": [
       "[1] \"monocyte\""
      ]
     },
     "metadata": {},
     "output_type": "display_data"
    }
   ],
   "source": [
    "class_results$prediction"
   ]
  },
  {
   "cell_type": "code",
   "execution_count": 16,
   "id": "e88fd8c6",
   "metadata": {
    "execution": {
     "iopub.execute_input": "2024-10-09T19:12:49.841080Z",
     "iopub.status.busy": "2024-10-09T19:12:49.839161Z",
     "iopub.status.idle": "2024-10-09T19:12:59.206641Z",
     "shell.execute_reply": "2024-10-09T19:12:59.190732Z"
    }
   },
   "outputs": [],
   "source": [
    "dfScaled <- as.data.frame(so_pbmc_test@assays$RNA@layers$scale.data)\n",
    "colnames(dfScaled) <- rownames(so_pbmc_test@assays$RNA@cells)\n",
    "rownames(dfScaled) <- rownames(so_pbmc_test@assays$RNA@features)\n",
    "dfScaled <- t(dfScaled)"
   ]
  },
  {
   "cell_type": "code",
   "execution_count": 17,
   "id": "211db708",
   "metadata": {
    "execution": {
     "iopub.execute_input": "2024-10-09T19:12:59.251949Z",
     "iopub.status.busy": "2024-10-09T19:12:59.247898Z",
     "iopub.status.idle": "2024-10-09T19:12:59.295090Z",
     "shell.execute_reply": "2024-10-09T19:12:59.293788Z"
    }
   },
   "outputs": [
    {
     "data": {
      "text/html": [
       "<table class=\"dataframe\">\n",
       "<caption>A matrix: 5 × 5 of type dbl</caption>\n",
       "<thead>\n",
       "\t<tr><th></th><th scope=col>ENSG00000238009</th><th scope=col>ENSG00000241599</th><th scope=col>ENSG00000235146</th><th scope=col>LINC01409</th><th scope=col>FAM87B</th></tr>\n",
       "</thead>\n",
       "<tbody>\n",
       "\t<tr><th scope=row>HTAPP-944-SMP-7479-TST-channel1_ACCTACCGTTCCTAAG-1</th><td> 1.7450717</td><td>-0.01717637</td><td>-0.04188288</td><td> 0.2710382</td><td>-0.03529206</td></tr>\n",
       "\t<tr><th scope=row>HTAPP-944-SMP-7479-TST-channel1_CATGCCTAGAGCCCAA-1</th><td>-0.1656401</td><td>-0.01717637</td><td>-0.04188288</td><td> 0.2823981</td><td>-0.03529206</td></tr>\n",
       "\t<tr><th scope=row>HTAPP-944-SMP-7479-TST-channel1_ATTTCTGTCGCCAATA-1</th><td>-0.1656401</td><td>-0.01717637</td><td>-0.04188288</td><td> 0.2896639</td><td>-0.03529206</td></tr>\n",
       "\t<tr><th scope=row>HTAPP-944-SMP-7479-TST-channel1_TTGAGTGTCTAGACCA-1</th><td>-0.1656401</td><td>-0.01717637</td><td>-0.04188288</td><td> 0.2896639</td><td>-0.03529206</td></tr>\n",
       "\t<tr><th scope=row>HTAPP-944-SMP-7479-TST-channel1_AGACACTGTCTCGACG-1</th><td>-0.1656401</td><td>-0.01717637</td><td>-0.04188288</td><td>-0.4820482</td><td>-0.03529206</td></tr>\n",
       "</tbody>\n",
       "</table>\n"
      ],
      "text/latex": [
       "A matrix: 5 × 5 of type dbl\n",
       "\\begin{tabular}{r|lllll}\n",
       "  & ENSG00000238009 & ENSG00000241599 & ENSG00000235146 & LINC01409 & FAM87B\\\\\n",
       "\\hline\n",
       "\tHTAPP-944-SMP-7479-TST-channel1\\_ACCTACCGTTCCTAAG-1 &  1.7450717 & -0.01717637 & -0.04188288 &  0.2710382 & -0.03529206\\\\\n",
       "\tHTAPP-944-SMP-7479-TST-channel1\\_CATGCCTAGAGCCCAA-1 & -0.1656401 & -0.01717637 & -0.04188288 &  0.2823981 & -0.03529206\\\\\n",
       "\tHTAPP-944-SMP-7479-TST-channel1\\_ATTTCTGTCGCCAATA-1 & -0.1656401 & -0.01717637 & -0.04188288 &  0.2896639 & -0.03529206\\\\\n",
       "\tHTAPP-944-SMP-7479-TST-channel1\\_TTGAGTGTCTAGACCA-1 & -0.1656401 & -0.01717637 & -0.04188288 &  0.2896639 & -0.03529206\\\\\n",
       "\tHTAPP-944-SMP-7479-TST-channel1\\_AGACACTGTCTCGACG-1 & -0.1656401 & -0.01717637 & -0.04188288 & -0.4820482 & -0.03529206\\\\\n",
       "\\end{tabular}\n"
      ],
      "text/markdown": [
       "\n",
       "A matrix: 5 × 5 of type dbl\n",
       "\n",
       "| <!--/--> | ENSG00000238009 | ENSG00000241599 | ENSG00000235146 | LINC01409 | FAM87B |\n",
       "|---|---|---|---|---|---|\n",
       "| HTAPP-944-SMP-7479-TST-channel1_ACCTACCGTTCCTAAG-1 |  1.7450717 | -0.01717637 | -0.04188288 |  0.2710382 | -0.03529206 |\n",
       "| HTAPP-944-SMP-7479-TST-channel1_CATGCCTAGAGCCCAA-1 | -0.1656401 | -0.01717637 | -0.04188288 |  0.2823981 | -0.03529206 |\n",
       "| HTAPP-944-SMP-7479-TST-channel1_ATTTCTGTCGCCAATA-1 | -0.1656401 | -0.01717637 | -0.04188288 |  0.2896639 | -0.03529206 |\n",
       "| HTAPP-944-SMP-7479-TST-channel1_TTGAGTGTCTAGACCA-1 | -0.1656401 | -0.01717637 | -0.04188288 |  0.2896639 | -0.03529206 |\n",
       "| HTAPP-944-SMP-7479-TST-channel1_AGACACTGTCTCGACG-1 | -0.1656401 | -0.01717637 | -0.04188288 | -0.4820482 | -0.03529206 |\n",
       "\n"
      ],
      "text/plain": [
       "                                                   ENSG00000238009\n",
       "HTAPP-944-SMP-7479-TST-channel1_ACCTACCGTTCCTAAG-1  1.7450717     \n",
       "HTAPP-944-SMP-7479-TST-channel1_CATGCCTAGAGCCCAA-1 -0.1656401     \n",
       "HTAPP-944-SMP-7479-TST-channel1_ATTTCTGTCGCCAATA-1 -0.1656401     \n",
       "HTAPP-944-SMP-7479-TST-channel1_TTGAGTGTCTAGACCA-1 -0.1656401     \n",
       "HTAPP-944-SMP-7479-TST-channel1_AGACACTGTCTCGACG-1 -0.1656401     \n",
       "                                                   ENSG00000241599\n",
       "HTAPP-944-SMP-7479-TST-channel1_ACCTACCGTTCCTAAG-1 -0.01717637    \n",
       "HTAPP-944-SMP-7479-TST-channel1_CATGCCTAGAGCCCAA-1 -0.01717637    \n",
       "HTAPP-944-SMP-7479-TST-channel1_ATTTCTGTCGCCAATA-1 -0.01717637    \n",
       "HTAPP-944-SMP-7479-TST-channel1_TTGAGTGTCTAGACCA-1 -0.01717637    \n",
       "HTAPP-944-SMP-7479-TST-channel1_AGACACTGTCTCGACG-1 -0.01717637    \n",
       "                                                   ENSG00000235146 LINC01409 \n",
       "HTAPP-944-SMP-7479-TST-channel1_ACCTACCGTTCCTAAG-1 -0.04188288      0.2710382\n",
       "HTAPP-944-SMP-7479-TST-channel1_CATGCCTAGAGCCCAA-1 -0.04188288      0.2823981\n",
       "HTAPP-944-SMP-7479-TST-channel1_ATTTCTGTCGCCAATA-1 -0.04188288      0.2896639\n",
       "HTAPP-944-SMP-7479-TST-channel1_TTGAGTGTCTAGACCA-1 -0.04188288      0.2896639\n",
       "HTAPP-944-SMP-7479-TST-channel1_AGACACTGTCTCGACG-1 -0.04188288     -0.4820482\n",
       "                                                   FAM87B     \n",
       "HTAPP-944-SMP-7479-TST-channel1_ACCTACCGTTCCTAAG-1 -0.03529206\n",
       "HTAPP-944-SMP-7479-TST-channel1_CATGCCTAGAGCCCAA-1 -0.03529206\n",
       "HTAPP-944-SMP-7479-TST-channel1_ATTTCTGTCGCCAATA-1 -0.03529206\n",
       "HTAPP-944-SMP-7479-TST-channel1_TTGAGTGTCTAGACCA-1 -0.03529206\n",
       "HTAPP-944-SMP-7479-TST-channel1_AGACACTGTCTCGACG-1 -0.03529206"
      ]
     },
     "metadata": {},
     "output_type": "display_data"
    }
   ],
   "source": [
    "dfScaled[1:5,1:5]"
   ]
  },
  {
   "cell_type": "markdown",
   "id": "11901e25",
   "metadata": {},
   "source": [
    "We use the adverSCarial getSignGenes function to get the most significant genes between clusters, ensuring that all pairs of clusters are equivalently representated."
   ]
  },
  {
   "cell_type": "code",
   "execution_count": 18,
   "id": "ffc37c13",
   "metadata": {
    "execution": {
     "iopub.execute_input": "2024-10-09T19:19:59.261130Z",
     "iopub.status.busy": "2024-10-09T19:19:59.257407Z",
     "iopub.status.idle": "2024-10-09T19:19:59.287585Z",
     "shell.execute_reply": "2024-10-09T19:19:59.284523Z"
    }
   },
   "outputs": [],
   "source": [
    "start_time <- Sys.time()"
   ]
  },
  {
   "cell_type": "code",
   "execution_count": 19,
   "id": "9e8a90a3",
   "metadata": {
    "execution": {
     "iopub.execute_input": "2024-10-09T19:12:59.301400Z",
     "iopub.status.busy": "2024-10-09T19:12:59.300286Z",
     "iopub.status.idle": "2024-10-09T19:19:59.009628Z",
     "shell.execute_reply": "2024-10-09T19:19:58.992077Z"
    }
   },
   "outputs": [],
   "source": [
    "sign_genes <- getSignGenes(dfScaled, clusters_so)"
   ]
  },
  {
   "cell_type": "code",
   "execution_count": 20,
   "id": "4b190a5b",
   "metadata": {
    "execution": {
     "iopub.execute_input": "2024-10-09T19:45:25.660410Z",
     "iopub.status.busy": "2024-10-09T19:45:25.658720Z",
     "iopub.status.idle": "2024-10-09T19:45:25.759017Z",
     "shell.execute_reply": "2024-10-09T19:45:25.756416Z"
    }
   },
   "outputs": [
    {
     "data": {
      "text/plain": [
       "Time difference of 17.69299 mins"
      ]
     },
     "metadata": {},
     "output_type": "display_data"
    }
   ],
   "source": [
    "Sys.time() - start_time"
   ]
  },
  {
   "cell_type": "code",
   "execution_count": 21,
   "id": "bd97e2f5",
   "metadata": {
    "execution": {
     "iopub.execute_input": "2024-10-09T19:19:59.144395Z",
     "iopub.status.busy": "2024-10-09T19:19:59.143116Z",
     "iopub.status.idle": "2024-10-09T19:19:59.208045Z",
     "shell.execute_reply": "2024-10-09T19:19:59.206775Z"
    }
   },
   "outputs": [
    {
     "data": {
      "text/html": [
       "<table class=\"dataframe\">\n",
       "<caption>A data.frame: 6 × 2</caption>\n",
       "<thead>\n",
       "\t<tr><th></th><th scope=col>gene</th><th scope=col>pval</th></tr>\n",
       "\t<tr><th></th><th scope=col>&lt;chr&gt;</th><th scope=col>&lt;dbl&gt;</th></tr>\n",
       "</thead>\n",
       "<tbody>\n",
       "\t<tr><th scope=row>VWA1</th><td>VWA1 </td><td> 0.000000e+00</td></tr>\n",
       "\t<tr><th scope=row>AOAH</th><td>AOAH </td><td>1.230170e-128</td></tr>\n",
       "\t<tr><th scope=row>CD247</th><td>CD247</td><td> 6.170864e-55</td></tr>\n",
       "\t<tr><th scope=row>AKT3</th><td>AKT3 </td><td> 0.000000e+00</td></tr>\n",
       "\t<tr><th scope=row>PTPRC</th><td>PTPRC</td><td> 0.000000e+00</td></tr>\n",
       "\t<tr><th scope=row>LST1</th><td>LST1 </td><td>8.826905e-144</td></tr>\n",
       "</tbody>\n",
       "</table>\n"
      ],
      "text/latex": [
       "A data.frame: 6 × 2\n",
       "\\begin{tabular}{r|ll}\n",
       "  & gene & pval\\\\\n",
       "  & <chr> & <dbl>\\\\\n",
       "\\hline\n",
       "\tVWA1 & VWA1  &  0.000000e+00\\\\\n",
       "\tAOAH & AOAH  & 1.230170e-128\\\\\n",
       "\tCD247 & CD247 &  6.170864e-55\\\\\n",
       "\tAKT3 & AKT3  &  0.000000e+00\\\\\n",
       "\tPTPRC & PTPRC &  0.000000e+00\\\\\n",
       "\tLST1 & LST1  & 8.826905e-144\\\\\n",
       "\\end{tabular}\n"
      ],
      "text/markdown": [
       "\n",
       "A data.frame: 6 × 2\n",
       "\n",
       "| <!--/--> | gene &lt;chr&gt; | pval &lt;dbl&gt; |\n",
       "|---|---|---|\n",
       "| VWA1 | VWA1  |  0.000000e+00 |\n",
       "| AOAH | AOAH  | 1.230170e-128 |\n",
       "| CD247 | CD247 |  6.170864e-55 |\n",
       "| AKT3 | AKT3  |  0.000000e+00 |\n",
       "| PTPRC | PTPRC |  0.000000e+00 |\n",
       "| LST1 | LST1  | 8.826905e-144 |\n",
       "\n"
      ],
      "text/plain": [
       "      gene  pval         \n",
       "VWA1  VWA1   0.000000e+00\n",
       "AOAH  AOAH  1.230170e-128\n",
       "CD247 CD247  6.170864e-55\n",
       "AKT3  AKT3   0.000000e+00\n",
       "PTPRC PTPRC  0.000000e+00\n",
       "LST1  LST1  8.826905e-144"
      ]
     },
     "metadata": {},
     "output_type": "display_data"
    }
   ],
   "source": [
    "head(sign_genes$results)"
   ]
  },
  {
   "cell_type": "markdown",
   "id": "36a916f6",
   "metadata": {},
   "source": [
    "We launch the attack with the advCGD function with alpha=2 and epsilon=2 parameters, which lead to a big modification on a few genes. You can try with alpha=1 and epsilon=1 to have small modifications of more genes."
   ]
  },
  {
   "cell_type": "code",
   "execution_count": 22,
   "id": "0adf26d7",
   "metadata": {
    "execution": {
     "iopub.execute_input": "2024-10-09T19:19:59.261130Z",
     "iopub.status.busy": "2024-10-09T19:19:59.257407Z",
     "iopub.status.idle": "2024-10-09T19:19:59.287585Z",
     "shell.execute_reply": "2024-10-09T19:19:59.284523Z"
    }
   },
   "outputs": [],
   "source": [
    "start_time <- Sys.time()"
   ]
  },
  {
   "cell_type": "code",
   "execution_count": 23,
   "id": "d17b3e12",
   "metadata": {
    "execution": {
     "iopub.execute_input": "2024-10-09T19:19:59.297647Z",
     "iopub.status.busy": "2024-10-09T19:19:59.295715Z",
     "iopub.status.idle": "2024-10-09T19:45:24.959590Z",
     "shell.execute_reply": "2024-10-09T19:45:24.913310Z"
    }
   },
   "outputs": [
    {
     "name": "stderr",
     "output_type": "stream",
     "text": [
      "monocyte\n",
      "\n",
      "50006\n",
      "\n",
      "5000\n",
      "\n",
      "175\n",
      "\n",
      "New cluster target: macrophage\n",
      "\n",
      "VWA1 1\n",
      "\n",
      "Number of original annot monocyte : 91\n",
      "\n",
      " mean 0.997460120659876 delt 0\n",
      "\n",
      "Number of macrophage : 84\n",
      "\n",
      " mean 0.998245809077059 delt 0\n",
      "\n",
      "Number of modified cells 0\n",
      "\n",
      "AOAH 2\n",
      "\n",
      "Number of original annot monocyte : 91\n",
      "\n",
      " mean 0.997460120659876 delt 0\n",
      "\n",
      "Number of macrophage : 84\n",
      "\n",
      " mean 0.998245809077059 delt 0\n",
      "\n",
      "Number of modified cells 91\n",
      "\n"
     ]
    }
   ],
   "source": [
    "igd4c_results <- advCGD(so_pbmc_test, clusters_so, 'monocyte',\n",
    "                          scAnnotatR_classifier, alpha=2,\n",
    "                          epsilon=2, slot=\"scale.data\",\n",
    "                          genes=sign_genes$results$gene[1:500],\n",
    "                         verbose=T)"
   ]
  },
  {
   "cell_type": "markdown",
   "id": "ace92c46",
   "metadata": {},
   "source": [
    "# Computation time"
   ]
  },
  {
   "cell_type": "code",
   "execution_count": 24,
   "id": "12d68a4e",
   "metadata": {
    "execution": {
     "iopub.execute_input": "2024-10-09T19:45:25.660410Z",
     "iopub.status.busy": "2024-10-09T19:45:25.658720Z",
     "iopub.status.idle": "2024-10-09T19:45:25.759017Z",
     "shell.execute_reply": "2024-10-09T19:45:25.756416Z"
    }
   },
   "outputs": [
    {
     "data": {
      "text/plain": [
       "Time difference of 54.82041 secs"
      ]
     },
     "metadata": {},
     "output_type": "display_data"
    }
   ],
   "source": [
    "Sys.time() - start_time"
   ]
  },
  {
   "cell_type": "markdown",
   "id": "d5896fe8",
   "metadata": {},
   "source": [
    "We can see the genes that have been modified"
   ]
  },
  {
   "cell_type": "code",
   "execution_count": 25,
   "id": "7b919c8f",
   "metadata": {
    "execution": {
     "iopub.execute_input": "2024-10-09T19:45:25.882269Z",
     "iopub.status.busy": "2024-10-09T19:45:25.878156Z",
     "iopub.status.idle": "2024-10-09T19:45:25.909955Z",
     "shell.execute_reply": "2024-10-09T19:45:25.907659Z"
    }
   },
   "outputs": [
    {
     "data": {
      "text/html": [
       "'AOAH'"
      ],
      "text/latex": [
       "'AOAH'"
      ],
      "text/markdown": [
       "'AOAH'"
      ],
      "text/plain": [
       "[1] \"AOAH\""
      ]
     },
     "metadata": {},
     "output_type": "display_data"
    }
   ],
   "source": [
    "igd4c_results$modGenes"
   ]
  },
  {
   "cell_type": "markdown",
   "id": "8dd443b1",
   "metadata": {},
   "source": [
    "And the modified Seurat object"
   ]
  },
  {
   "cell_type": "code",
   "execution_count": 26,
   "id": "3461ddcb",
   "metadata": {
    "execution": {
     "iopub.execute_input": "2024-10-09T19:45:25.919977Z",
     "iopub.status.busy": "2024-10-09T19:45:25.918754Z",
     "iopub.status.idle": "2024-10-09T19:45:25.968961Z",
     "shell.execute_reply": "2024-10-09T19:45:25.964668Z"
    }
   },
   "outputs": [
    {
     "data": {
      "text/plain": [
       "An object of class Seurat \n",
       "25571 features across 5000 samples within 1 assay \n",
       "Active assay: RNA (25571 features, 0 variable features)\n",
       " 3 layers present: counts, data, scale.data"
      ]
     },
     "metadata": {},
     "output_type": "display_data"
    }
   ],
   "source": [
    "igd4c_results$expr"
   ]
  },
  {
   "cell_type": "markdown",
   "id": "6893b0e6",
   "metadata": {},
   "source": [
    "The blood vessel endothelial cell cluster is now classified as CD8 T cells"
   ]
  },
  {
   "cell_type": "code",
   "execution_count": 27,
   "id": "80e16f78",
   "metadata": {
    "execution": {
     "iopub.execute_input": "2024-10-09T19:45:25.978498Z",
     "iopub.status.busy": "2024-10-09T19:45:25.976958Z",
     "iopub.status.idle": "2024-10-09T19:45:32.548601Z",
     "shell.execute_reply": "2024-10-09T19:45:32.547353Z"
    }
   },
   "outputs": [
    {
     "data": {
      "text/html": [
       "'macrophage'"
      ],
      "text/latex": [
       "'macrophage'"
      ],
      "text/markdown": [
       "'macrophage'"
      ],
      "text/plain": [
       "[1] \"macrophage\""
      ]
     },
     "metadata": {},
     "output_type": "display_data"
    }
   ],
   "source": [
    "new_classification <- scAnnotatR_classifier(igd4c_results$expr, clusters_so, 'monocyte')\n",
    "new_classification$prediction"
   ]
  },
  {
   "cell_type": "code",
   "execution_count": null,
   "id": "2c5a24b2",
   "metadata": {},
   "outputs": [],
   "source": []
  },
  {
   "cell_type": "code",
   "execution_count": null,
   "id": "a52ca7b9",
   "metadata": {},
   "outputs": [],
   "source": []
  },
  {
   "cell_type": "code",
   "execution_count": 28,
   "id": "e0762f1b",
   "metadata": {
    "execution": {
     "iopub.execute_input": "2024-10-09T19:45:32.555948Z",
     "iopub.status.busy": "2024-10-09T19:45:32.554734Z",
     "iopub.status.idle": "2024-10-09T19:45:33.195875Z",
     "shell.execute_reply": "2024-10-09T19:45:33.193741Z"
    }
   },
   "outputs": [
    {
     "data": {
      "text/plain": [
       "R version 4.3.0 (2023-04-21)\n",
       "Platform: x86_64-pc-linux-gnu (64-bit)\n",
       "Running under: Ubuntu 22.04.1 LTS\n",
       "\n",
       "Matrix products: default\n",
       "BLAS:   /usr/lib/x86_64-linux-gnu/blas/libblas.so.3.10.0 \n",
       "LAPACK: /usr/lib/x86_64-linux-gnu/lapack/liblapack.so.3.10.0\n",
       "\n",
       "locale:\n",
       " [1] LC_CTYPE=en_US.UTF-8       LC_NUMERIC=C              \n",
       " [3] LC_TIME=fr_FR.UTF-8        LC_COLLATE=en_US.UTF-8    \n",
       " [5] LC_MONETARY=fr_FR.UTF-8    LC_MESSAGES=en_US.UTF-8   \n",
       " [7] LC_PAPER=fr_FR.UTF-8       LC_NAME=C                 \n",
       " [9] LC_ADDRESS=C               LC_TELEPHONE=C            \n",
       "[11] LC_MEASUREMENT=fr_FR.UTF-8 LC_IDENTIFICATION=C       \n",
       "\n",
       "time zone: Europe/Paris\n",
       "tzcode source: system (glibc)\n",
       "\n",
       "attached base packages:\n",
       "[1] stats4    stats     graphics  grDevices utils     datasets  methods  \n",
       "[8] base     \n",
       "\n",
       "other attached packages:\n",
       " [1] caret_6.0-94                lattice_0.21-8             \n",
       " [3] ggplot2_3.4.2               adverSCarial_1.3.6         \n",
       " [5] IRdisplay_1.1               scAnnotatR_1.8.0           \n",
       " [7] SingleCellExperiment_1.23.0 SummarizedExperiment_1.31.1\n",
       " [9] Biobase_2.61.0              GenomicRanges_1.53.1       \n",
       "[11] GenomeInfoDb_1.37.2         IRanges_2.35.2             \n",
       "[13] S4Vectors_0.39.1            BiocGenerics_0.47.0        \n",
       "[15] MatrixGenerics_1.13.0       matrixStats_1.0.0          \n",
       "[17] Seurat_5.1.0                SeuratObject_5.0.2         \n",
       "[19] sp_2.0-0                   \n",
       "\n",
       "loaded via a namespace (and not attached):\n",
       "  [1] RcppAnnoy_0.0.20              splines_4.3.0                \n",
       "  [3] later_1.3.1                   pbdZMQ_0.3-9                 \n",
       "  [5] bitops_1.0-7                  filelock_1.0.2               \n",
       "  [7] tibble_3.2.1                  polyclip_1.10-4              \n",
       "  [9] hardhat_1.3.1                 pROC_1.18.5                  \n",
       " [11] rpart_4.1.19                  fastDummies_1.7.4            \n",
       " [13] lifecycle_1.0.3               globals_0.16.2               \n",
       " [15] MASS_7.3-60                   magrittr_2.0.3               \n",
       " [17] plotly_4.10.2                 yaml_2.3.7                   \n",
       " [19] httpuv_1.6.11                 sctransform_0.4.1            \n",
       " [21] spam_2.11-0                   spatstat.sparse_3.0-2        \n",
       " [23] reticulate_1.36.1             cowplot_1.1.1                \n",
       " [25] pbapply_1.7-2                 DBI_1.1.3                    \n",
       " [27] RColorBrewer_1.1-3            lubridate_1.9.3              \n",
       " [29] abind_1.4-5                   zlibbioc_1.47.0              \n",
       " [31] Rtsne_0.16                    purrr_1.0.1                  \n",
       " [33] RCurl_1.98-1.12               nnet_7.3-19                  \n",
       " [35] rappdirs_0.3.3                ipred_0.9-14                 \n",
       " [37] lava_1.8.0                    GenomeInfoDbData_1.2.10      \n",
       " [39] data.tree_1.1.0               ggrepel_0.9.3                \n",
       " [41] irlba_2.3.5.1                 listenv_0.9.0                \n",
       " [43] spatstat.utils_3.0-3          goftest_1.2-3                \n",
       " [45] RSpectra_0.16-2               spatstat.random_3.1-5        \n",
       " [47] fitdistrplus_1.1-11           parallelly_1.36.0            \n",
       " [49] leiden_0.4.3                  codetools_0.2-19             \n",
       " [51] DelayedArray_0.27.5           tidyselect_1.2.0             \n",
       " [53] BiocFileCache_2.9.0           base64enc_0.1-3              \n",
       " [55] spatstat.explore_3.2-1        jsonlite_1.8.5               \n",
       " [57] e1071_1.7-14                  ellipsis_0.3.2               \n",
       " [59] progressr_0.13.0              iterators_1.0.14             \n",
       " [61] ggridges_0.5.4                survival_3.5-5               \n",
       " [63] foreach_1.5.2                 tools_4.3.0                  \n",
       " [65] ica_1.0-3                     Rcpp_1.0.10                  \n",
       " [67] glue_1.6.2                    prodlim_2023.08.28           \n",
       " [69] gridExtra_2.3                 SparseArray_1.1.10           \n",
       " [71] dplyr_1.1.2                   withr_2.5.0                  \n",
       " [73] BiocManager_1.30.21           fastmap_1.1.1                \n",
       " [75] fansi_1.0.4                   digest_0.6.32                \n",
       " [77] timechange_0.3.0              R6_2.5.1                     \n",
       " [79] mime_0.12                     colorspace_2.1-0             \n",
       " [81] scattermore_1.2               tensor_1.5                   \n",
       " [83] spatstat.data_3.0-1           RSQLite_2.3.1                \n",
       " [85] utf8_1.2.3                    tidyr_1.3.0                  \n",
       " [87] generics_0.1.3                recipes_1.0.10               \n",
       " [89] data.table_1.14.8             class_7.3-22                 \n",
       " [91] httr_1.4.6                    htmlwidgets_1.6.2            \n",
       " [93] S4Arrays_1.1.4                ModelMetrics_1.2.2.2         \n",
       " [95] uwot_0.1.15                   pkgconfig_2.0.3              \n",
       " [97] gtable_0.3.3                  timeDate_4032.109            \n",
       " [99] blob_1.2.4                    lmtest_0.9-40                \n",
       "[101] XVector_0.41.1                htmltools_0.5.5              \n",
       "[103] dotCall64_1.2                 scales_1.2.1                 \n",
       "[105] png_0.1-8                     gower_1.0.1                  \n",
       "[107] reshape2_1.4.4                uuid_1.1-0                   \n",
       "[109] nlme_3.1-162                  curl_5.0.1                   \n",
       "[111] proxy_0.4-27                  repr_1.1.6                   \n",
       "[113] zoo_1.8-12                    cachem_1.0.8                 \n",
       "[115] stringr_1.5.0                 BiocVersion_3.18.0           \n",
       "[117] KernSmooth_2.23-21            parallel_4.3.0               \n",
       "[119] miniUI_0.1.1.1                AnnotationDbi_1.63.1         \n",
       "[121] pillar_1.9.0                  grid_4.3.0                   \n",
       "[123] vctrs_0.6.3                   RANN_2.6.1                   \n",
       "[125] promises_1.2.0.1              dbplyr_2.3.2                 \n",
       "[127] xtable_1.8-4                  cluster_2.1.4                \n",
       "[129] evaluate_0.21                 cli_3.6.1                    \n",
       "[131] compiler_4.3.0                rlang_1.1.1                  \n",
       "[133] crayon_1.5.2                  future.apply_1.11.0          \n",
       "[135] plyr_1.8.8                    stringi_1.7.12               \n",
       "[137] viridisLite_0.4.2             deldir_1.0-9                 \n",
       "[139] Biostrings_2.69.1             munsell_0.5.0                \n",
       "[141] lazyeval_0.2.2                spatstat.geom_3.2-1          \n",
       "[143] Matrix_1.6-4                  IRkernel_1.3.2               \n",
       "[145] RcppHNSW_0.4.1                patchwork_1.1.2              \n",
       "[147] bit64_4.0.5                   future_1.32.0                \n",
       "[149] KEGGREST_1.41.0               shiny_1.7.4                  \n",
       "[151] interactiveDisplayBase_1.39.0 AnnotationHub_3.9.1          \n",
       "[153] kernlab_0.9-32                ROCR_1.0-11                  \n",
       "[155] igraph_1.5.0                  memoise_2.0.1                \n",
       "[157] bit_4.0.5                     ape_5.8                      "
      ]
     },
     "metadata": {},
     "output_type": "display_data"
    }
   ],
   "source": [
    "sessionInfo()"
   ]
  }
 ],
 "metadata": {
  "kernelspec": {
   "display_name": "R",
   "language": "R",
   "name": "ir"
  },
  "language_info": {
   "codemirror_mode": "r",
   "file_extension": ".r",
   "mimetype": "text/x-r-source",
   "name": "R",
   "pygments_lexer": "r",
   "version": "4.3.3"
  }
 },
 "nbformat": 4,
 "nbformat_minor": 5
}
