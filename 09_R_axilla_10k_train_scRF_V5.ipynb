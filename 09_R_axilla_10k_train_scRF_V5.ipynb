{
 "cells": [
  {
   "cell_type": "markdown",
   "id": "3e0c6407",
   "metadata": {},
   "source": [
    "# Train scRF, a random forest-based classifier on an axilla 10k cells dataset\n",
    "\n",
    "- Train a random forest classifier\n",
    "- Format the classifier to use it with adverSCarial\n",
    "- Run a max-change attack"
   ]
  },
  {
   "cell_type": "code",
   "execution_count": 1,
   "id": "11b05ec0",
   "metadata": {
    "execution": {
     "iopub.execute_input": "2024-10-07T05:09:53.415994Z",
     "iopub.status.busy": "2024-10-07T05:09:53.414266Z",
     "iopub.status.idle": "2024-10-07T05:09:53.664877Z",
     "shell.execute_reply": "2024-10-07T05:09:53.663521Z"
    }
   },
   "outputs": [
    {
     "name": "stderr",
     "output_type": "stream",
     "text": [
      "randomForest 4.7-1.1\n",
      "\n",
      "Type rfNews() to see new features/changes/bug fixes.\n",
      "\n",
      "\n",
      "Attaching package: ‘dplyr’\n",
      "\n",
      "\n",
      "The following object is masked from ‘package:randomForest’:\n",
      "\n",
      "    combine\n",
      "\n",
      "\n",
      "The following objects are masked from ‘package:stats’:\n",
      "\n",
      "    filter, lag\n",
      "\n",
      "\n",
      "The following objects are masked from ‘package:base’:\n",
      "\n",
      "    intersect, setdiff, setequal, union\n",
      "\n",
      "\n"
     ]
    }
   ],
   "source": [
    "library(randomForest)\n",
    "library(dplyr)\n",
    "library(adverSCarial)"
   ]
  },
  {
   "cell_type": "code",
   "execution_count": null,
   "id": "0a0dbe65",
   "metadata": {},
   "outputs": [],
   "source": []
  },
  {
   "cell_type": "code",
   "execution_count": 2,
   "id": "bef22ea3",
   "metadata": {
    "execution": {
     "iopub.execute_input": "2024-10-07T05:09:53.695639Z",
     "iopub.status.busy": "2024-10-07T05:09:53.668090Z",
     "iopub.status.idle": "2024-10-07T05:09:53.706222Z",
     "shell.execute_reply": "2024-10-07T05:09:53.704991Z"
    }
   },
   "outputs": [
    {
     "data": {
      "text/plain": [
       "[1] ‘4.7.1.1’"
      ]
     },
     "metadata": {},
     "output_type": "display_data"
    }
   ],
   "source": [
    "packageVersion(\"randomForest\")"
   ]
  },
  {
   "cell_type": "code",
   "execution_count": 3,
   "id": "58e7f53f",
   "metadata": {
    "execution": {
     "iopub.execute_input": "2024-10-07T05:09:53.710307Z",
     "iopub.status.busy": "2024-10-07T05:09:53.709312Z",
     "iopub.status.idle": "2024-10-07T05:09:53.717836Z",
     "shell.execute_reply": "2024-10-07T05:09:53.716606Z"
    }
   },
   "outputs": [],
   "source": [
    "c_basen = c(\"hgnc_axilla_10k\", \"hgnc_brain_7k\", \"hgnc_liver_6k\")"
   ]
  },
  {
   "cell_type": "code",
   "execution_count": 4,
   "id": "0cfe9ea5",
   "metadata": {
    "execution": {
     "iopub.execute_input": "2024-10-07T05:09:53.721823Z",
     "iopub.status.busy": "2024-10-07T05:09:53.720834Z",
     "iopub.status.idle": "2024-10-07T05:14:02.630524Z",
     "shell.execute_reply": "2024-10-07T05:14:02.629121Z"
    }
   },
   "outputs": [],
   "source": [
    "basen = c_basen[1]\n",
    "df_train_boot <- read.table(paste0(\"data//v5/data//sc//\",basen,\"_train_balanced.txt\"))\n",
    "df_test <- read.table(paste0(\"data//v5/data//sc//\",basen,\"_test.txt\"))"
   ]
  },
  {
   "cell_type": "code",
   "execution_count": 5,
   "id": "b1ede439",
   "metadata": {
    "execution": {
     "iopub.execute_input": "2024-10-07T05:14:02.651086Z",
     "iopub.status.busy": "2024-10-07T05:14:02.650039Z",
     "iopub.status.idle": "2024-10-07T05:14:02.661221Z",
     "shell.execute_reply": "2024-10-07T05:14:02.660051Z"
    }
   },
   "outputs": [
    {
     "data": {
      "text/html": [
       "<style>\n",
       ".list-inline {list-style: none; margin:0; padding: 0}\n",
       ".list-inline>li {display: inline-block}\n",
       ".list-inline>li:not(:last-child)::after {content: \"\\00b7\"; padding: 0 .5ex}\n",
       "</style>\n",
       "<ol class=list-inline><li>600</li><li>25346</li></ol>\n"
      ],
      "text/latex": [
       "\\begin{enumerate*}\n",
       "\\item 600\n",
       "\\item 25346\n",
       "\\end{enumerate*}\n"
      ],
      "text/markdown": [
       "1. 600\n",
       "2. 25346\n",
       "\n",
       "\n"
      ],
      "text/plain": [
       "[1]   600 25346"
      ]
     },
     "metadata": {},
     "output_type": "display_data"
    }
   ],
   "source": [
    "dim(df_train_boot)"
   ]
  },
  {
   "cell_type": "code",
   "execution_count": 1,
   "id": "6981cae0",
   "metadata": {},
   "outputs": [
    {
     "data": {
      "text/html": [
       "159.204271299485"
      ],
      "text/latex": [
       "159.204271299485"
      ],
      "text/markdown": [
       "159.204271299485"
      ],
      "text/plain": [
       "[1] 159.2043"
      ]
     },
     "metadata": {},
     "output_type": "display_data"
    }
   ],
   "source": [
    "sqrt(25346)"
   ]
  },
  {
   "cell_type": "code",
   "execution_count": null,
   "id": "6a749a6d",
   "metadata": {},
   "outputs": [],
   "source": []
  },
  {
   "cell_type": "code",
   "execution_count": 6,
   "id": "e0e1c376",
   "metadata": {
    "execution": {
     "iopub.execute_input": "2024-10-07T05:14:02.665081Z",
     "iopub.status.busy": "2024-10-07T05:14:02.664103Z",
     "iopub.status.idle": "2024-10-07T05:14:05.791740Z",
     "shell.execute_reply": "2024-10-07T05:14:05.790501Z"
    }
   },
   "outputs": [],
   "source": [
    "# Prepare data\n",
    "x_train <- as.matrix(df_train_boot[, -which(names(df_train_boot) == \"y\")])\n",
    "x_test <- as.matrix(df_test[, -which(names(df_test) == \"y\")])"
   ]
  },
  {
   "cell_type": "code",
   "execution_count": 7,
   "id": "503560a4",
   "metadata": {
    "execution": {
     "iopub.execute_input": "2024-10-07T05:14:05.795579Z",
     "iopub.status.busy": "2024-10-07T05:14:05.794619Z",
     "iopub.status.idle": "2024-10-07T05:14:05.805384Z",
     "shell.execute_reply": "2024-10-07T05:14:05.804163Z"
    }
   },
   "outputs": [],
   "source": [
    "y_train <- as.factor(df_train_boot$y)\n",
    "y_test <- as.factor(df_test$y)"
   ]
  },
  {
   "cell_type": "code",
   "execution_count": 8,
   "id": "d4a4b5bf",
   "metadata": {
    "execution": {
     "iopub.execute_input": "2024-10-07T05:14:05.809219Z",
     "iopub.status.busy": "2024-10-07T05:14:05.808291Z",
     "iopub.status.idle": "2024-10-07T05:14:05.819448Z",
     "shell.execute_reply": "2024-10-07T05:14:05.818316Z"
    }
   },
   "outputs": [
    {
     "data": {
      "text/plain": [
       "y_train\n",
       "  blood vessel endothelial cell blood vessel smooth muscle cell \n",
       "                            100                             100 \n",
       "                     fibroblast                      macrophage \n",
       "                            100                             100 \n",
       "                 malignant cell                          T cell \n",
       "                            100                             100 "
      ]
     },
     "metadata": {},
     "output_type": "display_data"
    }
   ],
   "source": [
    "# Balanced training set\n",
    "table(y_train)"
   ]
  },
  {
   "cell_type": "markdown",
   "id": "ae36d82b",
   "metadata": {},
   "source": [
    "Train model with default values"
   ]
  },
  {
   "cell_type": "code",
   "execution_count": 9,
   "id": "081b90f5",
   "metadata": {
    "execution": {
     "iopub.execute_input": "2024-10-07T05:14:05.823385Z",
     "iopub.status.busy": "2024-10-07T05:14:05.822450Z",
     "iopub.status.idle": "2024-10-07T05:18:28.623327Z",
     "shell.execute_reply": "2024-10-07T05:18:28.622020Z"
    }
   },
   "outputs": [],
   "source": [
    "rf_model <- randomForest(x_train, y_train)"
   ]
  },
  {
   "cell_type": "code",
   "execution_count": 10,
   "id": "6ce1ac9a",
   "metadata": {
    "execution": {
     "iopub.execute_input": "2024-10-07T05:18:28.644994Z",
     "iopub.status.busy": "2024-10-07T05:18:28.644042Z",
     "iopub.status.idle": "2024-10-07T05:18:29.142335Z",
     "shell.execute_reply": "2024-10-07T05:18:29.141095Z"
    }
   },
   "outputs": [],
   "source": [
    "saveRDS(rf_model, paste0(\"repr_data/classifiers/scRF/\",basen,\"_random_forest_model.rds\"))"
   ]
  },
  {
   "cell_type": "code",
   "execution_count": 11,
   "id": "3b79e48e",
   "metadata": {
    "execution": {
     "iopub.execute_input": "2024-10-07T05:18:29.146334Z",
     "iopub.status.busy": "2024-10-07T05:18:29.145470Z",
     "iopub.status.idle": "2024-10-07T05:18:29.187804Z",
     "shell.execute_reply": "2024-10-07T05:18:29.186645Z"
    }
   },
   "outputs": [],
   "source": [
    "rfModel <- readRDS(paste0(\"repr_data/classifiers/scRF/\",basen,\"_random_forest_model.rds\"))"
   ]
  },
  {
   "cell_type": "markdown",
   "id": "ae7f24ce",
   "metadata": {},
   "source": [
    "# Format the Classifier\n",
    "To work with adverSCarial the classifier needs to be formated in a certain way."
   ]
  },
  {
   "cell_type": "code",
   "execution_count": 12,
   "id": "4229b008",
   "metadata": {
    "execution": {
     "iopub.execute_input": "2024-10-07T05:18:29.192011Z",
     "iopub.status.busy": "2024-10-07T05:18:29.191134Z",
     "iopub.status.idle": "2024-10-07T05:18:29.199613Z",
     "shell.execute_reply": "2024-10-07T05:18:29.198517Z"
    }
   },
   "outputs": [],
   "source": [
    "scRF_classifier <- function(expr, clusters, target){\n",
    "    library(randomForest)\n",
    "    # Load the model\n",
    "    rfModel <- readRDS(paste0(\"repr_data/classifiers/scRF/\",basen,\"_random_forest_model.rds\"))\n",
    "    # Predict with the model\n",
    "    predictions <- predict(rfModel, expr, type=\"prob\")\n",
    "    if (sum(clusters == target) == 0 ){\n",
    "        return( c(\"UNDETERMINED\",1))\n",
    "    }\n",
    "    # Get the cell type with the highest odds\n",
    "    cell_types <- apply(predictions[clusters == target,], 1, function(x){\n",
    "        names(x[x == max(x)])[1]\n",
    "    })\n",
    "    table_cell_type <<- table(cell_types)\n",
    "    str_class <- names(table_cell_type[order(table_cell_type, decreasing=T)][1])\n",
    "    resSCtype <- list(\n",
    "        # Cell type prediction for the cluster\n",
    "        prediction=str_class,\n",
    "        # Score of the predicted cell type\n",
    "        odd=1,\n",
    "        # Score for each cell type for each cell\n",
    "        typePredictions=as.data.frame(t(predictions)),\n",
    "        # Cell type for each cell\n",
    "        cellTypes=cell_types)\n",
    "\n",
    "    return(resSCtype)\n",
    "}"
   ]
  },
  {
   "cell_type": "code",
   "execution_count": 13,
   "id": "8c40b6e9",
   "metadata": {
    "execution": {
     "iopub.execute_input": "2024-10-07T05:18:29.203613Z",
     "iopub.status.busy": "2024-10-07T05:18:29.202750Z",
     "iopub.status.idle": "2024-10-07T05:18:29.217497Z",
     "shell.execute_reply": "2024-10-07T05:18:29.216216Z"
    }
   },
   "outputs": [],
   "source": [
    "df_pbmc_test <- df_test\n",
    "expr_df <- df_pbmc_test[, -which(names(df_pbmc_test) == \"y\")]\n",
    "clusters_df <- df_pbmc_test$y\n",
    "names(clusters_df) <- rownames(df_pbmc_test)"
   ]
  },
  {
   "cell_type": "markdown",
   "id": "43d9a73a",
   "metadata": {},
   "source": [
    "Classification of a cluster."
   ]
  },
  {
   "cell_type": "code",
   "execution_count": 14,
   "id": "3e3911c6",
   "metadata": {
    "execution": {
     "iopub.execute_input": "2024-10-07T05:18:29.222087Z",
     "iopub.status.busy": "2024-10-07T05:18:29.221118Z",
     "iopub.status.idle": "2024-10-07T05:19:02.692698Z",
     "shell.execute_reply": "2024-10-07T05:19:02.671771Z"
    }
   },
   "outputs": [],
   "source": [
    "myPreds <- scRF_classifier(expr_df, clusters_df, \"macrophage\")"
   ]
  },
  {
   "cell_type": "code",
   "execution_count": 15,
   "id": "de6d395d",
   "metadata": {
    "execution": {
     "iopub.execute_input": "2024-10-07T05:19:02.933998Z",
     "iopub.status.busy": "2024-10-07T05:19:02.932970Z",
     "iopub.status.idle": "2024-10-07T05:19:03.045373Z",
     "shell.execute_reply": "2024-10-07T05:19:03.044179Z"
    }
   },
   "outputs": [
    {
     "data": {
      "text/html": [
       "'macrophage'"
      ],
      "text/latex": [
       "'macrophage'"
      ],
      "text/markdown": [
       "'macrophage'"
      ],
      "text/plain": [
       "[1] \"macrophage\""
      ]
     },
     "metadata": {},
     "output_type": "display_data"
    }
   ],
   "source": [
    "# Cell type prediction for the cluster\n",
    "myPreds$prediction"
   ]
  },
  {
   "cell_type": "code",
   "execution_count": 16,
   "id": "257b7d3b",
   "metadata": {
    "execution": {
     "iopub.execute_input": "2024-10-07T05:19:03.083873Z",
     "iopub.status.busy": "2024-10-07T05:19:03.082702Z",
     "iopub.status.idle": "2024-10-07T05:19:03.273830Z",
     "shell.execute_reply": "2024-10-07T05:19:03.271842Z"
    }
   },
   "outputs": [
    {
     "data": {
      "text/html": [
       "<table class=\"dataframe\">\n",
       "<caption>A data.frame: 5 × 5</caption>\n",
       "<thead>\n",
       "\t<tr><th></th><th scope=col>HTAPP-878-SMP-7149-TST-channel1_GATGTTGCAAACGTGG-1</th><th scope=col>HTAPP-878-SMP-7149-TST-channel1_CTTTCAAGTAGGTACG-1</th><th scope=col>HTAPP-878-SMP-7149-TST-channel1_CACCGTTGTTCTGACA-1</th><th scope=col>HTAPP-878-SMP-7149-TST-channel1_GAGTTTGCACAACGTT-1</th><th scope=col>HTAPP-878-SMP-7149-TST-channel1_GATGACTTCTTTGCTA-1</th></tr>\n",
       "\t<tr><th></th><th scope=col>&lt;dbl&gt;</th><th scope=col>&lt;dbl&gt;</th><th scope=col>&lt;dbl&gt;</th><th scope=col>&lt;dbl&gt;</th><th scope=col>&lt;dbl&gt;</th></tr>\n",
       "</thead>\n",
       "<tbody>\n",
       "\t<tr><th scope=row>blood vessel endothelial cell</th><td>0.000</td><td>0.056</td><td>0.002</td><td>0.002</td><td>0.002</td></tr>\n",
       "\t<tr><th scope=row>blood vessel smooth muscle cell</th><td>0.002</td><td>0.024</td><td>0.000</td><td>0.000</td><td>0.000</td></tr>\n",
       "\t<tr><th scope=row>fibroblast</th><td>0.000</td><td>0.026</td><td>0.000</td><td>0.000</td><td>0.000</td></tr>\n",
       "\t<tr><th scope=row>macrophage</th><td>0.004</td><td>0.026</td><td>0.000</td><td>0.000</td><td>0.000</td></tr>\n",
       "\t<tr><th scope=row>malignant cell</th><td>0.990</td><td>0.862</td><td>0.998</td><td>0.998</td><td>0.998</td></tr>\n",
       "</tbody>\n",
       "</table>\n"
      ],
      "text/latex": [
       "A data.frame: 5 × 5\n",
       "\\begin{tabular}{r|lllll}\n",
       "  & HTAPP-878-SMP-7149-TST-channel1\\_GATGTTGCAAACGTGG-1 & HTAPP-878-SMP-7149-TST-channel1\\_CTTTCAAGTAGGTACG-1 & HTAPP-878-SMP-7149-TST-channel1\\_CACCGTTGTTCTGACA-1 & HTAPP-878-SMP-7149-TST-channel1\\_GAGTTTGCACAACGTT-1 & HTAPP-878-SMP-7149-TST-channel1\\_GATGACTTCTTTGCTA-1\\\\\n",
       "  & <dbl> & <dbl> & <dbl> & <dbl> & <dbl>\\\\\n",
       "\\hline\n",
       "\tblood vessel endothelial cell & 0.000 & 0.056 & 0.002 & 0.002 & 0.002\\\\\n",
       "\tblood vessel smooth muscle cell & 0.002 & 0.024 & 0.000 & 0.000 & 0.000\\\\\n",
       "\tfibroblast & 0.000 & 0.026 & 0.000 & 0.000 & 0.000\\\\\n",
       "\tmacrophage & 0.004 & 0.026 & 0.000 & 0.000 & 0.000\\\\\n",
       "\tmalignant cell & 0.990 & 0.862 & 0.998 & 0.998 & 0.998\\\\\n",
       "\\end{tabular}\n"
      ],
      "text/markdown": [
       "\n",
       "A data.frame: 5 × 5\n",
       "\n",
       "| <!--/--> | HTAPP-878-SMP-7149-TST-channel1_GATGTTGCAAACGTGG-1 &lt;dbl&gt; | HTAPP-878-SMP-7149-TST-channel1_CTTTCAAGTAGGTACG-1 &lt;dbl&gt; | HTAPP-878-SMP-7149-TST-channel1_CACCGTTGTTCTGACA-1 &lt;dbl&gt; | HTAPP-878-SMP-7149-TST-channel1_GAGTTTGCACAACGTT-1 &lt;dbl&gt; | HTAPP-878-SMP-7149-TST-channel1_GATGACTTCTTTGCTA-1 &lt;dbl&gt; |\n",
       "|---|---|---|---|---|---|\n",
       "| blood vessel endothelial cell | 0.000 | 0.056 | 0.002 | 0.002 | 0.002 |\n",
       "| blood vessel smooth muscle cell | 0.002 | 0.024 | 0.000 | 0.000 | 0.000 |\n",
       "| fibroblast | 0.000 | 0.026 | 0.000 | 0.000 | 0.000 |\n",
       "| macrophage | 0.004 | 0.026 | 0.000 | 0.000 | 0.000 |\n",
       "| malignant cell | 0.990 | 0.862 | 0.998 | 0.998 | 0.998 |\n",
       "\n"
      ],
      "text/plain": [
       "                                HTAPP-878-SMP-7149-TST-channel1_GATGTTGCAAACGTGG-1\n",
       "blood vessel endothelial cell   0.000                                             \n",
       "blood vessel smooth muscle cell 0.002                                             \n",
       "fibroblast                      0.000                                             \n",
       "macrophage                      0.004                                             \n",
       "malignant cell                  0.990                                             \n",
       "                                HTAPP-878-SMP-7149-TST-channel1_CTTTCAAGTAGGTACG-1\n",
       "blood vessel endothelial cell   0.056                                             \n",
       "blood vessel smooth muscle cell 0.024                                             \n",
       "fibroblast                      0.026                                             \n",
       "macrophage                      0.026                                             \n",
       "malignant cell                  0.862                                             \n",
       "                                HTAPP-878-SMP-7149-TST-channel1_CACCGTTGTTCTGACA-1\n",
       "blood vessel endothelial cell   0.002                                             \n",
       "blood vessel smooth muscle cell 0.000                                             \n",
       "fibroblast                      0.000                                             \n",
       "macrophage                      0.000                                             \n",
       "malignant cell                  0.998                                             \n",
       "                                HTAPP-878-SMP-7149-TST-channel1_GAGTTTGCACAACGTT-1\n",
       "blood vessel endothelial cell   0.002                                             \n",
       "blood vessel smooth muscle cell 0.000                                             \n",
       "fibroblast                      0.000                                             \n",
       "macrophage                      0.000                                             \n",
       "malignant cell                  0.998                                             \n",
       "                                HTAPP-878-SMP-7149-TST-channel1_GATGACTTCTTTGCTA-1\n",
       "blood vessel endothelial cell   0.002                                             \n",
       "blood vessel smooth muscle cell 0.000                                             \n",
       "fibroblast                      0.000                                             \n",
       "macrophage                      0.000                                             \n",
       "malignant cell                  0.998                                             "
      ]
     },
     "metadata": {},
     "output_type": "display_data"
    }
   ],
   "source": [
    "# Score for each cell type for each cell\n",
    "myPreds$typePredictions[1:5,1:5]"
   ]
  },
  {
   "cell_type": "code",
   "execution_count": 17,
   "id": "f5a46814",
   "metadata": {
    "execution": {
     "iopub.execute_input": "2024-10-07T05:19:03.289510Z",
     "iopub.status.busy": "2024-10-07T05:19:03.288254Z",
     "iopub.status.idle": "2024-10-07T05:19:03.322962Z",
     "shell.execute_reply": "2024-10-07T05:19:03.321290Z"
    }
   },
   "outputs": [
    {
     "data": {
      "text/html": [
       "<style>\n",
       ".dl-inline {width: auto; margin:0; padding: 0}\n",
       ".dl-inline>dt, .dl-inline>dd {float: none; width: auto; display: inline-block}\n",
       ".dl-inline>dt::after {content: \":\\0020\"; padding-right: .5ex}\n",
       ".dl-inline>dt:not(:first-of-type) {padding-left: .5ex}\n",
       "</style><dl class=dl-inline><dt>HTAPP-878-SMP-7149-TST-channel1_TCACTCGAGACGTCCC-1</dt><dd>'malignant cell'</dd><dt>HTAPP-878-SMP-7149-TST-channel1_ATGCCTCCAGGTCCCA-1</dt><dd>'macrophage'</dd><dt>HTAPP-878-SMP-7149-TST-channel1_CTGGCAGCAAGTGGTG-1</dt><dd>'malignant cell'</dd><dt>HTAPP-878-SMP-7149-TST-channel1_TCTTTGACATCTATCT-1</dt><dd>'macrophage'</dd><dt>HTAPP-878-SMP-7149-TST-channel1_ACTTCCGGTAGCTGCC-1</dt><dd>'malignant cell'</dd><dt>HTAPP-878-SMP-7149-TST-channel1_GTAATGCAGACCGCCT-1</dt><dd>'macrophage'</dd></dl>\n"
      ],
      "text/latex": [
       "\\begin{description*}\n",
       "\\item[HTAPP-878-SMP-7149-TST-channel1\\textbackslash{}\\_TCACTCGAGACGTCCC-1] 'malignant cell'\n",
       "\\item[HTAPP-878-SMP-7149-TST-channel1\\textbackslash{}\\_ATGCCTCCAGGTCCCA-1] 'macrophage'\n",
       "\\item[HTAPP-878-SMP-7149-TST-channel1\\textbackslash{}\\_CTGGCAGCAAGTGGTG-1] 'malignant cell'\n",
       "\\item[HTAPP-878-SMP-7149-TST-channel1\\textbackslash{}\\_TCTTTGACATCTATCT-1] 'macrophage'\n",
       "\\item[HTAPP-878-SMP-7149-TST-channel1\\textbackslash{}\\_ACTTCCGGTAGCTGCC-1] 'malignant cell'\n",
       "\\item[HTAPP-878-SMP-7149-TST-channel1\\textbackslash{}\\_GTAATGCAGACCGCCT-1] 'macrophage'\n",
       "\\end{description*}\n"
      ],
      "text/markdown": [
       "HTAPP-878-SMP-7149-TST-channel1_TCACTCGAGACGTCCC-1\n",
       ":   'malignant cell'HTAPP-878-SMP-7149-TST-channel1_ATGCCTCCAGGTCCCA-1\n",
       ":   'macrophage'HTAPP-878-SMP-7149-TST-channel1_CTGGCAGCAAGTGGTG-1\n",
       ":   'malignant cell'HTAPP-878-SMP-7149-TST-channel1_TCTTTGACATCTATCT-1\n",
       ":   'macrophage'HTAPP-878-SMP-7149-TST-channel1_ACTTCCGGTAGCTGCC-1\n",
       ":   'malignant cell'HTAPP-878-SMP-7149-TST-channel1_GTAATGCAGACCGCCT-1\n",
       ":   'macrophage'\n",
       "\n"
      ],
      "text/plain": [
       "HTAPP-878-SMP-7149-TST-channel1_TCACTCGAGACGTCCC-1 \n",
       "                                  \"malignant cell\" \n",
       "HTAPP-878-SMP-7149-TST-channel1_ATGCCTCCAGGTCCCA-1 \n",
       "                                      \"macrophage\" \n",
       "HTAPP-878-SMP-7149-TST-channel1_CTGGCAGCAAGTGGTG-1 \n",
       "                                  \"malignant cell\" \n",
       "HTAPP-878-SMP-7149-TST-channel1_TCTTTGACATCTATCT-1 \n",
       "                                      \"macrophage\" \n",
       "HTAPP-878-SMP-7149-TST-channel1_ACTTCCGGTAGCTGCC-1 \n",
       "                                  \"malignant cell\" \n",
       "HTAPP-878-SMP-7149-TST-channel1_GTAATGCAGACCGCCT-1 \n",
       "                                      \"macrophage\" "
      ]
     },
     "metadata": {},
     "output_type": "display_data"
    }
   ],
   "source": [
    "# Cell type for each cell\n",
    "head(myPreds$cellTypes)"
   ]
  },
  {
   "cell_type": "markdown",
   "id": "6ee433b8",
   "metadata": {},
   "source": [
    "## Check the prediction for each cell type"
   ]
  },
  {
   "cell_type": "code",
   "execution_count": 18,
   "id": "6e5d6c09",
   "metadata": {
    "execution": {
     "iopub.execute_input": "2024-10-07T05:19:03.328585Z",
     "iopub.status.busy": "2024-10-07T05:19:03.327406Z",
     "iopub.status.idle": "2024-10-07T05:24:32.089489Z",
     "shell.execute_reply": "2024-10-07T05:24:32.082195Z"
    }
   },
   "outputs": [
    {
     "name": "stderr",
     "output_type": "stream",
     "text": [
      "Cell type: malignant cell, prediction: malignant cell\n",
      "\n",
      "Cell type: blood vessel endothelial cell, prediction: blood vessel endothelial cell\n",
      "\n",
      "Cell type: fibroblast, prediction: fibroblast\n",
      "\n",
      "Cell type: macrophage, prediction: macrophage\n",
      "\n",
      "Cell type: blood vessel smooth muscle cell, prediction: blood vessel smooth muscle cell\n",
      "\n",
      "Cell type: T cell, prediction: T cell\n",
      "\n"
     ]
    }
   ],
   "source": [
    "for ( myClust in unique(clusters_df)){\n",
    "    myPreds <- scRF_classifier(expr_df, clusters_df, myClust)\n",
    "    message(\"Cell type: \", myClust, \", prediction: \", myPreds$prediction)\n",
    "}\n"
   ]
  },
  {
   "cell_type": "markdown",
   "id": "bb681e0f",
   "metadata": {},
   "source": [
    "## The function RF_classifier can be used as classifier with the adverSCarial package functions"
   ]
  },
  {
   "cell_type": "markdown",
   "id": "436bd5a3",
   "metadata": {},
   "source": [
    "# Run a max-change attack\n",
    "Example of max-change attack with the positive-aberrant modification on the macrophage cluster."
   ]
  },
  {
   "cell_type": "code",
   "execution_count": 19,
   "id": "085a532f",
   "metadata": {
    "execution": {
     "iopub.execute_input": "2024-10-07T05:24:32.213133Z",
     "iopub.status.busy": "2024-10-07T05:24:32.211903Z",
     "iopub.status.idle": "2024-10-07T05:24:32.271513Z",
     "shell.execute_reply": "2024-10-07T05:24:32.269828Z"
    }
   },
   "outputs": [],
   "source": [
    "start_time <- Sys.time()"
   ]
  },
  {
   "cell_type": "code",
   "execution_count": 20,
   "id": "d9c039f6",
   "metadata": {
    "execution": {
     "iopub.execute_input": "2024-10-07T05:24:32.278898Z",
     "iopub.status.busy": "2024-10-07T05:24:32.277445Z",
     "iopub.status.idle": "2024-10-07T06:31:36.896972Z",
     "shell.execute_reply": "2024-10-07T06:31:36.865495Z"
    }
   },
   "outputs": [
    {
     "name": "stderr",
     "output_type": "stream",
     "text": [
      "predictWithNewValue data.frame data.frame\n",
      "\n",
      "predictWithNewValue data.frame data.frame\n",
      "\n",
      "predictWithNewValue data.frame data.frame\n",
      "\n",
      "predictWithNewValue data.frame data.frame\n",
      "\n",
      "predictWithNewValue data.frame data.frame\n",
      "\n",
      "predictWithNewValue data.frame data.frame\n",
      "\n",
      "predictWithNewValue data.frame data.frame\n",
      "\n",
      "predictWithNewValue data.frame data.frame\n",
      "\n",
      "result length: 15841\n",
      "\n",
      "predictWithNewValue data.frame data.frame\n",
      "\n",
      "predictWithNewValue data.frame data.frame\n",
      "\n",
      "predictWithNewValue data.frame data.frame\n",
      "\n",
      "predictWithNewValue data.frame data.frame\n",
      "\n",
      "predictWithNewValue data.frame data.frame\n",
      "\n",
      "predictWithNewValue data.frame data.frame\n",
      "\n",
      "predictWithNewValue data.frame data.frame\n",
      "\n",
      "predictWithNewValue data.frame data.frame\n",
      "\n",
      "predictWithNewValue data.frame data.frame\n",
      "\n",
      "predictWithNewValue data.frame data.frame\n",
      "\n",
      "predictWithNewValue data.frame data.frame\n",
      "\n",
      "predictWithNewValue data.frame data.frame\n",
      "\n",
      "predictWithNewValue data.frame data.frame\n",
      "\n",
      "predictWithNewValue data.frame data.frame\n",
      "\n",
      "predictWithNewValue data.frame data.frame\n",
      "\n",
      "predictWithNewValue data.frame data.frame\n",
      "\n",
      "predictWithNewValue data.frame data.frame\n",
      "\n",
      "predictWithNewValue data.frame data.frame\n",
      "\n",
      "predictWithNewValue data.frame data.frame\n",
      "\n",
      "predictWithNewValue data.frame data.frame\n",
      "\n",
      "predictWithNewValue data.frame data.frame\n",
      "\n",
      "predictWithNewValue data.frame data.frame\n",
      "\n",
      "predictWithNewValue data.frame data.frame\n",
      "\n",
      "predictWithNewValue data.frame data.frame\n",
      "\n",
      "result length: 16633\n",
      "\n",
      "predictWithNewValue data.frame data.frame\n",
      "\n",
      "predictWithNewValue data.frame data.frame\n",
      "\n",
      "predictWithNewValue data.frame data.frame\n",
      "\n",
      "predictWithNewValue data.frame data.frame\n",
      "\n",
      "result length: 17425\n",
      "\n",
      "predictWithNewValue data.frame data.frame\n",
      "\n",
      "predictWithNewValue data.frame data.frame\n",
      "\n",
      "predictWithNewValue data.frame data.frame\n",
      "\n",
      "predictWithNewValue data.frame data.frame\n",
      "\n",
      "predictWithNewValue data.frame data.frame\n",
      "\n",
      "predictWithNewValue data.frame data.frame\n",
      "\n",
      "predictWithNewValue data.frame data.frame\n",
      "\n",
      "predictWithNewValue data.frame data.frame\n",
      "\n",
      "predictWithNewValue data.frame data.frame\n",
      "\n",
      "predictWithNewValue data.frame data.frame\n",
      "\n",
      "predictWithNewValue data.frame data.frame\n",
      "\n",
      "predictWithNewValue data.frame data.frame\n",
      "\n",
      "predictWithNewValue data.frame data.frame\n",
      "\n",
      "predictWithNewValue data.frame data.frame\n",
      "\n",
      "predictWithNewValue data.frame data.frame\n",
      "\n",
      "predictWithNewValue data.frame data.frame\n",
      "\n"
     ]
    }
   ],
   "source": [
    "myAttack <- advMaxChange(expr_df, clusters_df, \"macrophage\", scRF_classifier, advMethod = \"perc99\", maxSplitSize=1000)"
   ]
  },
  {
   "cell_type": "markdown",
   "id": "cd5f9d62",
   "metadata": {},
   "source": [
    "### Computation time"
   ]
  },
  {
   "cell_type": "code",
   "execution_count": 21,
   "id": "fdb53c05",
   "metadata": {
    "execution": {
     "iopub.execute_input": "2024-10-07T06:31:43.813240Z",
     "iopub.status.busy": "2024-10-07T06:31:43.811819Z",
     "iopub.status.idle": "2024-10-07T06:31:43.883176Z",
     "shell.execute_reply": "2024-10-07T06:31:43.881967Z"
    }
   },
   "outputs": [
    {
     "data": {
      "text/plain": [
       "Time difference of 1.119891 hours"
      ]
     },
     "metadata": {},
     "output_type": "display_data"
    }
   ],
   "source": [
    "Sys.time() - start_time"
   ]
  },
  {
   "cell_type": "code",
   "execution_count": 22,
   "id": "1822d32f",
   "metadata": {
    "execution": {
     "iopub.execute_input": "2024-10-07T06:31:44.154239Z",
     "iopub.status.busy": "2024-10-07T06:31:44.153259Z",
     "iopub.status.idle": "2024-10-07T06:31:44.171395Z",
     "shell.execute_reply": "2024-10-07T06:31:44.169893Z"
    }
   },
   "outputs": [
    {
     "data": {
      "text/html": [
       "1"
      ],
      "text/latex": [
       "1"
      ],
      "text/markdown": [
       "1"
      ],
      "text/plain": [
       "[1] 1"
      ]
     },
     "metadata": {},
     "output_type": "display_data"
    }
   ],
   "source": [
    "length(myAttack)"
   ]
  },
  {
   "cell_type": "markdown",
   "id": "894a12bb",
   "metadata": {},
   "source": [
    "Check if the attack was successful."
   ]
  },
  {
   "cell_type": "code",
   "execution_count": 23,
   "id": "5fd4aad6",
   "metadata": {
    "execution": {
     "iopub.execute_input": "2024-10-07T06:31:44.179225Z",
     "iopub.status.busy": "2024-10-07T06:31:44.177984Z",
     "iopub.status.idle": "2024-10-07T06:32:30.090232Z",
     "shell.execute_reply": "2024-10-07T06:32:30.088898Z"
    }
   },
   "outputs": [],
   "source": [
    "mod_expr_df <- advModifications(expr_df, clusters=clusters_df, target=\"macrophage\", genes=myAttack@values, advMethod = \"perc99\")"
   ]
  },
  {
   "cell_type": "code",
   "execution_count": 24,
   "id": "c107cfa4",
   "metadata": {
    "execution": {
     "iopub.execute_input": "2024-10-07T06:32:30.096878Z",
     "iopub.status.busy": "2024-10-07T06:32:30.095507Z",
     "iopub.status.idle": "2024-10-07T06:33:20.765419Z",
     "shell.execute_reply": "2024-10-07T06:33:20.763611Z"
    }
   },
   "outputs": [
    {
     "data": {
      "text/html": [
       "'macrophage'"
      ],
      "text/latex": [
       "'macrophage'"
      ],
      "text/markdown": [
       "'macrophage'"
      ],
      "text/plain": [
       "[1] \"macrophage\""
      ]
     },
     "metadata": {},
     "output_type": "display_data"
    }
   ],
   "source": [
    "mod_myPreds <- scRF_classifier(mod_expr_df, clusters_df, \"macrophage\")\n",
    "mod_myPreds$prediction"
   ]
  },
  {
   "cell_type": "markdown",
   "id": "c1739dae",
   "metadata": {},
   "source": [
    "The cluster is still classified as \"macrophage\" after the modification of the 13714 genes."
   ]
  },
  {
   "cell_type": "code",
   "execution_count": null,
   "id": "643ca3ff",
   "metadata": {},
   "outputs": [],
   "source": []
  },
  {
   "cell_type": "code",
   "execution_count": 25,
   "id": "22be808a",
   "metadata": {
    "execution": {
     "iopub.execute_input": "2024-10-07T06:33:20.929223Z",
     "iopub.status.busy": "2024-10-07T06:33:20.925398Z",
     "iopub.status.idle": "2024-10-07T06:33:23.953708Z",
     "shell.execute_reply": "2024-10-07T06:33:23.948929Z"
    }
   },
   "outputs": [
    {
     "data": {
      "text/plain": [
       "R version 4.3.3 (2024-02-29)\n",
       "Platform: x86_64-pc-linux-gnu (64-bit)\n",
       "Running under: Ubuntu 20.04.4 LTS\n",
       "\n",
       "Matrix products: default\n",
       "BLAS:   /usr/lib/x86_64-linux-gnu/blas/libblas.so.3.9.0 \n",
       "LAPACK: /usr/lib/x86_64-linux-gnu/lapack/liblapack.so.3.9.0\n",
       "\n",
       "locale:\n",
       " [1] LC_CTYPE=en_US.UTF-8       LC_NUMERIC=C              \n",
       " [3] LC_TIME=fr_FR.UTF-8        LC_COLLATE=en_US.UTF-8    \n",
       " [5] LC_MONETARY=fr_FR.UTF-8    LC_MESSAGES=en_US.UTF-8   \n",
       " [7] LC_PAPER=fr_FR.UTF-8       LC_NAME=C                 \n",
       " [9] LC_ADDRESS=C               LC_TELEPHONE=C            \n",
       "[11] LC_MEASUREMENT=fr_FR.UTF-8 LC_IDENTIFICATION=C       \n",
       "\n",
       "time zone: Europe/Paris\n",
       "tzcode source: system (glibc)\n",
       "\n",
       "attached base packages:\n",
       "[1] stats     graphics  grDevices utils     datasets  methods   base     \n",
       "\n",
       "other attached packages:\n",
       "[1] adverSCarial_1.3.6   dplyr_1.1.4          randomForest_4.7-1.1\n",
       "\n",
       "loaded via a namespace (and not attached):\n",
       " [1] Matrix_1.6-5          jsonlite_1.8.8        compiler_4.3.3       \n",
       " [4] crayon_1.5.3          tidyselect_1.2.1      IRdisplay_1.1        \n",
       " [7] IRanges_2.35.1        uuid_1.1-0            fastmap_1.2.0        \n",
       "[10] IRkernel_1.3.2        lattice_0.21-8        XVector_0.41.1       \n",
       "[13] R6_2.5.1              S4Arrays_1.1.4        generics_0.1.3       \n",
       "[16] BiocGenerics_0.47.0   tibble_3.2.1          DelayedArray_0.27.5  \n",
       "[19] MatrixGenerics_1.13.0 pillar_1.9.0          rlang_1.1.4          \n",
       "[22] utf8_1.2.4            repr_1.1.6            SparseArray_1.1.10   \n",
       "[25] cli_3.6.3             magrittr_2.0.3        zlibbioc_1.47.0      \n",
       "[28] digest_0.6.37         grid_4.3.3            base64enc_0.1-3      \n",
       "[31] pbdZMQ_0.3-9          lifecycle_1.0.4       S4Vectors_0.39.1     \n",
       "[34] vctrs_0.6.5           evaluate_0.24.0       glue_1.7.0           \n",
       "[37] stats4_4.3.3          fansi_1.0.6           matrixStats_1.4.1    \n",
       "[40] tools_4.3.3           pkgconfig_2.0.3       htmltools_0.5.8.1    "
      ]
     },
     "metadata": {},
     "output_type": "display_data"
    }
   ],
   "source": [
    "sessionInfo()"
   ]
  }
 ],
 "metadata": {
  "kernelspec": {
   "display_name": "R",
   "language": "R",
   "name": "ir"
  },
  "language_info": {
   "codemirror_mode": "r",
   "file_extension": ".r",
   "mimetype": "text/x-r-source",
   "name": "R",
   "pygments_lexer": "r",
   "version": "4.3.3"
  }
 },
 "nbformat": 4,
 "nbformat_minor": 5
}
