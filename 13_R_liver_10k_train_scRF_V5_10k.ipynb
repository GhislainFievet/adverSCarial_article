{
 "cells": [
  {
   "cell_type": "markdown",
   "id": "3e0c6407",
   "metadata": {},
   "source": [
    "# Train scRF, a random forest-based classifier on a liver 10k cells dataset\n",
    "\n",
    "- Train a random forest classifier\n",
    "- Format the classifier to use it with adverSCarial\n",
    "- Run a max-change attack"
   ]
  },
  {
   "cell_type": "code",
   "execution_count": 1,
   "id": "11b05ec0",
   "metadata": {
    "execution": {
     "iopub.execute_input": "2024-10-07T07:07:36.787726Z",
     "iopub.status.busy": "2024-10-07T07:07:36.784974Z",
     "iopub.status.idle": "2024-10-07T07:07:37.035090Z",
     "shell.execute_reply": "2024-10-07T07:07:37.033745Z"
    }
   },
   "outputs": [
    {
     "name": "stderr",
     "output_type": "stream",
     "text": [
      "randomForest 4.7-1.1\n",
      "\n",
      "Type rfNews() to see new features/changes/bug fixes.\n",
      "\n",
      "\n",
      "Attaching package: ‘dplyr’\n",
      "\n",
      "\n",
      "The following object is masked from ‘package:randomForest’:\n",
      "\n",
      "    combine\n",
      "\n",
      "\n",
      "The following objects are masked from ‘package:stats’:\n",
      "\n",
      "    filter, lag\n",
      "\n",
      "\n",
      "The following objects are masked from ‘package:base’:\n",
      "\n",
      "    intersect, setdiff, setequal, union\n",
      "\n",
      "\n"
     ]
    }
   ],
   "source": [
    "library(randomForest)\n",
    "library(dplyr)\n",
    "library(adverSCarial)"
   ]
  },
  {
   "cell_type": "code",
   "execution_count": null,
   "id": "0a0dbe65",
   "metadata": {},
   "outputs": [],
   "source": []
  },
  {
   "cell_type": "code",
   "execution_count": 2,
   "id": "bef22ea3",
   "metadata": {
    "execution": {
     "iopub.execute_input": "2024-10-07T07:07:37.064421Z",
     "iopub.status.busy": "2024-10-07T07:07:37.038345Z",
     "iopub.status.idle": "2024-10-07T07:07:37.075441Z",
     "shell.execute_reply": "2024-10-07T07:07:37.074216Z"
    }
   },
   "outputs": [
    {
     "data": {
      "text/plain": [
       "[1] ‘4.7.1.1’"
      ]
     },
     "metadata": {},
     "output_type": "display_data"
    }
   ],
   "source": [
    "packageVersion(\"randomForest\")"
   ]
  },
  {
   "cell_type": "code",
   "execution_count": 3,
   "id": "58e7f53f",
   "metadata": {
    "execution": {
     "iopub.execute_input": "2024-10-07T07:07:37.079373Z",
     "iopub.status.busy": "2024-10-07T07:07:37.078382Z",
     "iopub.status.idle": "2024-10-07T07:07:37.086888Z",
     "shell.execute_reply": "2024-10-07T07:07:37.085636Z"
    }
   },
   "outputs": [],
   "source": [
    "c_basen = c(\"hgnc_axilla_10k\", \"hgnc_kidney_10k\", \"hgnc_liver_10k\")\n",
    "basen = c_basen[3]"
   ]
  },
  {
   "cell_type": "code",
   "execution_count": 4,
   "id": "0cfe9ea5",
   "metadata": {
    "execution": {
     "iopub.execute_input": "2024-10-07T07:07:37.090899Z",
     "iopub.status.busy": "2024-10-07T07:07:37.089896Z",
     "iopub.status.idle": "2024-10-07T07:10:37.630290Z",
     "shell.execute_reply": "2024-10-07T07:10:37.628995Z"
    }
   },
   "outputs": [],
   "source": [
    "df_train_boot <- read.table(paste0(\"data//v5/data//sc//\",basen,\"_train_balanced.txt\"))\n",
    "df_test <- read.table(paste0(\"data//v5/data//sc//\",basen,\"_test.txt\"))"
   ]
  },
  {
   "cell_type": "code",
   "execution_count": 5,
   "id": "b1ede439",
   "metadata": {
    "execution": {
     "iopub.execute_input": "2024-10-07T07:10:37.743449Z",
     "iopub.status.busy": "2024-10-07T07:10:37.742008Z",
     "iopub.status.idle": "2024-10-07T07:10:37.758183Z",
     "shell.execute_reply": "2024-10-07T07:10:37.756009Z"
    }
   },
   "outputs": [
    {
     "data": {
      "text/html": [
       "<style>\n",
       ".list-inline {list-style: none; margin:0; padding: 0}\n",
       ".list-inline>li {display: inline-block}\n",
       ".list-inline>li:not(:last-child)::after {content: \"\\00b7\"; padding: 0 .5ex}\n",
       "</style>\n",
       "<ol class=list-inline><li>600</li><li>25572</li></ol>\n"
      ],
      "text/latex": [
       "\\begin{enumerate*}\n",
       "\\item 600\n",
       "\\item 25572\n",
       "\\end{enumerate*}\n"
      ],
      "text/markdown": [
       "1. 600\n",
       "2. 25572\n",
       "\n",
       "\n"
      ],
      "text/plain": [
       "[1]   600 25572"
      ]
     },
     "metadata": {},
     "output_type": "display_data"
    }
   ],
   "source": [
    "dim(df_train_boot)"
   ]
  },
  {
   "cell_type": "code",
   "execution_count": 1,
   "id": "f560e932",
   "metadata": {},
   "outputs": [
    {
     "data": {
      "text/html": [
       "159.912476061125"
      ],
      "text/latex": [
       "159.912476061125"
      ],
      "text/markdown": [
       "159.912476061125"
      ],
      "text/plain": [
       "[1] 159.9125"
      ]
     },
     "metadata": {},
     "output_type": "display_data"
    }
   ],
   "source": [
    "sqrt(25572)"
   ]
  },
  {
   "cell_type": "code",
   "execution_count": null,
   "id": "1cc3cc61",
   "metadata": {},
   "outputs": [],
   "source": []
  },
  {
   "cell_type": "code",
   "execution_count": 6,
   "id": "e0e1c376",
   "metadata": {
    "execution": {
     "iopub.execute_input": "2024-10-07T07:10:37.763800Z",
     "iopub.status.busy": "2024-10-07T07:10:37.762595Z",
     "iopub.status.idle": "2024-10-07T07:10:39.158421Z",
     "shell.execute_reply": "2024-10-07T07:10:39.157174Z"
    }
   },
   "outputs": [],
   "source": [
    "# Prepare data\n",
    "x_train <- as.matrix(df_train_boot[, -which(names(df_train_boot) == \"y\")])\n",
    "x_test <- as.matrix(df_test[, -which(names(df_test) == \"y\")])"
   ]
  },
  {
   "cell_type": "code",
   "execution_count": 7,
   "id": "503560a4",
   "metadata": {
    "execution": {
     "iopub.execute_input": "2024-10-07T07:10:39.162733Z",
     "iopub.status.busy": "2024-10-07T07:10:39.161793Z",
     "iopub.status.idle": "2024-10-07T07:10:39.174298Z",
     "shell.execute_reply": "2024-10-07T07:10:39.173040Z"
    }
   },
   "outputs": [],
   "source": [
    "y_train <- as.factor(df_train_boot$y)\n",
    "y_test <- as.factor(df_test$y)"
   ]
  },
  {
   "cell_type": "code",
   "execution_count": 8,
   "id": "d4a4b5bf",
   "metadata": {
    "execution": {
     "iopub.execute_input": "2024-10-07T07:10:39.178639Z",
     "iopub.status.busy": "2024-10-07T07:10:39.177706Z",
     "iopub.status.idle": "2024-10-07T07:10:39.190258Z",
     "shell.execute_reply": "2024-10-07T07:10:39.188872Z"
    }
   },
   "outputs": [
    {
     "data": {
      "text/plain": [
       "y_train\n",
       "blood vessel smooth muscle cell                endothelial cell \n",
       "                            100                             100 \n",
       "                     macrophage                  malignant cell \n",
       "                            100                             100 \n",
       "               mature NK T cell                        monocyte \n",
       "                            100                             100 "
      ]
     },
     "metadata": {},
     "output_type": "display_data"
    }
   ],
   "source": [
    "# Balanced training set\n",
    "table(y_train)"
   ]
  },
  {
   "cell_type": "markdown",
   "id": "ae36d82b",
   "metadata": {},
   "source": [
    "Train model with default values"
   ]
  },
  {
   "cell_type": "code",
   "execution_count": 9,
   "id": "081b90f5",
   "metadata": {
    "execution": {
     "iopub.execute_input": "2024-10-07T07:10:39.194499Z",
     "iopub.status.busy": "2024-10-07T07:10:39.193577Z",
     "iopub.status.idle": "2024-10-07T07:13:54.153862Z",
     "shell.execute_reply": "2024-10-07T07:13:54.152493Z"
    }
   },
   "outputs": [],
   "source": [
    "rf_model <- randomForest(x_train, y_train)"
   ]
  },
  {
   "cell_type": "code",
   "execution_count": 10,
   "id": "6ce1ac9a",
   "metadata": {
    "execution": {
     "iopub.execute_input": "2024-10-07T07:13:54.170317Z",
     "iopub.status.busy": "2024-10-07T07:13:54.169360Z",
     "iopub.status.idle": "2024-10-07T07:13:54.476893Z",
     "shell.execute_reply": "2024-10-07T07:13:54.474768Z"
    }
   },
   "outputs": [],
   "source": [
    "saveRDS(rf_model, paste0(\"repr_data/classifiers/scRF/\",basen,\"_random_forest_model.rds\"))"
   ]
  },
  {
   "cell_type": "code",
   "execution_count": 11,
   "id": "3b79e48e",
   "metadata": {
    "execution": {
     "iopub.execute_input": "2024-10-07T07:13:54.482416Z",
     "iopub.status.busy": "2024-10-07T07:13:54.481127Z",
     "iopub.status.idle": "2024-10-07T07:13:54.531341Z",
     "shell.execute_reply": "2024-10-07T07:13:54.530073Z"
    }
   },
   "outputs": [],
   "source": [
    "rfModel <- readRDS(paste0(\"repr_data/classifiers/scRF/\",basen,\"_random_forest_model.rds\"))"
   ]
  },
  {
   "cell_type": "markdown",
   "id": "ae7f24ce",
   "metadata": {},
   "source": [
    "# Format the Classifier\n",
    "To work with adverSCarial the classifier needs to be formated in a certain way."
   ]
  },
  {
   "cell_type": "code",
   "execution_count": 12,
   "id": "4229b008",
   "metadata": {
    "execution": {
     "iopub.execute_input": "2024-10-07T07:13:54.535250Z",
     "iopub.status.busy": "2024-10-07T07:13:54.534253Z",
     "iopub.status.idle": "2024-10-07T07:13:54.542681Z",
     "shell.execute_reply": "2024-10-07T07:13:54.541477Z"
    }
   },
   "outputs": [],
   "source": [
    "scRF_classifier <- function(expr, clusters, target){\n",
    "    library(randomForest)\n",
    "    # Load the model\n",
    "    rfModel <- readRDS(paste0(\"repr_data/classifiers/scRF/\",basen,\"_random_forest_model.rds\"))\n",
    "    # Predict with the model\n",
    "    predictions <- predict(rfModel, expr, type=\"prob\")\n",
    "    if (sum(clusters == target) == 0 ){\n",
    "        return( c(\"UNDETERMINED\",1))\n",
    "    }\n",
    "    # Get the cell type with the highest odds\n",
    "    cell_types <- apply(predictions[clusters == target,], 1, function(x){\n",
    "        names(x[x == max(x)])[1]\n",
    "    })\n",
    "    table_cell_type <<- table(cell_types)\n",
    "    str_class <- names(table_cell_type[order(table_cell_type, decreasing=T)][1])\n",
    "    resSCtype <- list(\n",
    "        # Cell type prediction for the cluster\n",
    "        prediction=str_class,\n",
    "        # Score of the predicted cell type\n",
    "        odd=1,\n",
    "        # Score for each cell type for each cell\n",
    "        typePredictions=as.data.frame(t(predictions)),\n",
    "        # Cell type for each cell\n",
    "        cellTypes=cell_types)\n",
    "\n",
    "    return(resSCtype)\n",
    "}"
   ]
  },
  {
   "cell_type": "code",
   "execution_count": 13,
   "id": "8c40b6e9",
   "metadata": {
    "execution": {
     "iopub.execute_input": "2024-10-07T07:13:54.546632Z",
     "iopub.status.busy": "2024-10-07T07:13:54.545554Z",
     "iopub.status.idle": "2024-10-07T07:13:54.561094Z",
     "shell.execute_reply": "2024-10-07T07:13:54.559745Z"
    }
   },
   "outputs": [],
   "source": [
    "df_pbmc_test <- df_test\n",
    "expr_df <- df_pbmc_test[, -which(names(df_pbmc_test) == \"y\")]\n",
    "clusters_df <- df_pbmc_test$y\n",
    "names(clusters_df) <- rownames(df_pbmc_test)"
   ]
  },
  {
   "cell_type": "markdown",
   "id": "43d9a73a",
   "metadata": {},
   "source": [
    "Classification of a cluster."
   ]
  },
  {
   "cell_type": "code",
   "execution_count": 14,
   "id": "3e3911c6",
   "metadata": {
    "execution": {
     "iopub.execute_input": "2024-10-07T07:13:54.565471Z",
     "iopub.status.busy": "2024-10-07T07:13:54.564402Z",
     "iopub.status.idle": "2024-10-07T07:13:59.914221Z",
     "shell.execute_reply": "2024-10-07T07:13:59.912381Z"
    }
   },
   "outputs": [],
   "source": [
    "myPreds <- scRF_classifier(expr_df, clusters_df, 'macrophage')"
   ]
  },
  {
   "cell_type": "code",
   "execution_count": 15,
   "id": "de6d395d",
   "metadata": {
    "execution": {
     "iopub.execute_input": "2024-10-07T07:13:59.919514Z",
     "iopub.status.busy": "2024-10-07T07:13:59.918192Z",
     "iopub.status.idle": "2024-10-07T07:13:59.933031Z",
     "shell.execute_reply": "2024-10-07T07:13:59.931365Z"
    }
   },
   "outputs": [
    {
     "data": {
      "text/html": [
       "'macrophage'"
      ],
      "text/latex": [
       "'macrophage'"
      ],
      "text/markdown": [
       "'macrophage'"
      ],
      "text/plain": [
       "[1] \"macrophage\""
      ]
     },
     "metadata": {},
     "output_type": "display_data"
    }
   ],
   "source": [
    "# Cell type prediction for the cluster\n",
    "myPreds$prediction"
   ]
  },
  {
   "cell_type": "code",
   "execution_count": 16,
   "id": "257b7d3b",
   "metadata": {
    "execution": {
     "iopub.execute_input": "2024-10-07T07:13:59.938358Z",
     "iopub.status.busy": "2024-10-07T07:13:59.937108Z",
     "iopub.status.idle": "2024-10-07T07:13:59.959493Z",
     "shell.execute_reply": "2024-10-07T07:13:59.958165Z"
    }
   },
   "outputs": [
    {
     "data": {
      "text/html": [
       "<table class=\"dataframe\">\n",
       "<caption>A data.frame: 5 × 5</caption>\n",
       "<thead>\n",
       "\t<tr><th></th><th scope=col>HTAPP-944-SMP-7479-TST-channel1_ACCTACCGTTCCTAAG-1</th><th scope=col>HTAPP-944-SMP-7479-TST-channel1_CATGCCTAGAGCCCAA-1</th><th scope=col>HTAPP-944-SMP-7479-TST-channel1_ATTTCTGTCGCCAATA-1</th><th scope=col>HTAPP-944-SMP-7479-TST-channel1_TTGAGTGTCTAGACCA-1</th><th scope=col>HTAPP-944-SMP-7479-TST-channel1_AGACACTGTCTCGACG-1</th></tr>\n",
       "\t<tr><th></th><th scope=col>&lt;dbl&gt;</th><th scope=col>&lt;dbl&gt;</th><th scope=col>&lt;dbl&gt;</th><th scope=col>&lt;dbl&gt;</th><th scope=col>&lt;dbl&gt;</th></tr>\n",
       "</thead>\n",
       "<tbody>\n",
       "\t<tr><th scope=row>blood vessel smooth muscle cell</th><td>0</td><td>0</td><td>0</td><td>0.012</td><td>0.016</td></tr>\n",
       "\t<tr><th scope=row>endothelial cell</th><td>0</td><td>0</td><td>0</td><td>0.004</td><td>0.004</td></tr>\n",
       "\t<tr><th scope=row>macrophage</th><td>0</td><td>0</td><td>0</td><td>0.028</td><td>0.014</td></tr>\n",
       "\t<tr><th scope=row>malignant cell</th><td>1</td><td>1</td><td>1</td><td>0.948</td><td>0.954</td></tr>\n",
       "\t<tr><th scope=row>mature NK T cell</th><td>0</td><td>0</td><td>0</td><td>0.004</td><td>0.006</td></tr>\n",
       "</tbody>\n",
       "</table>\n"
      ],
      "text/latex": [
       "A data.frame: 5 × 5\n",
       "\\begin{tabular}{r|lllll}\n",
       "  & HTAPP-944-SMP-7479-TST-channel1\\_ACCTACCGTTCCTAAG-1 & HTAPP-944-SMP-7479-TST-channel1\\_CATGCCTAGAGCCCAA-1 & HTAPP-944-SMP-7479-TST-channel1\\_ATTTCTGTCGCCAATA-1 & HTAPP-944-SMP-7479-TST-channel1\\_TTGAGTGTCTAGACCA-1 & HTAPP-944-SMP-7479-TST-channel1\\_AGACACTGTCTCGACG-1\\\\\n",
       "  & <dbl> & <dbl> & <dbl> & <dbl> & <dbl>\\\\\n",
       "\\hline\n",
       "\tblood vessel smooth muscle cell & 0 & 0 & 0 & 0.012 & 0.016\\\\\n",
       "\tendothelial cell & 0 & 0 & 0 & 0.004 & 0.004\\\\\n",
       "\tmacrophage & 0 & 0 & 0 & 0.028 & 0.014\\\\\n",
       "\tmalignant cell & 1 & 1 & 1 & 0.948 & 0.954\\\\\n",
       "\tmature NK T cell & 0 & 0 & 0 & 0.004 & 0.006\\\\\n",
       "\\end{tabular}\n"
      ],
      "text/markdown": [
       "\n",
       "A data.frame: 5 × 5\n",
       "\n",
       "| <!--/--> | HTAPP-944-SMP-7479-TST-channel1_ACCTACCGTTCCTAAG-1 &lt;dbl&gt; | HTAPP-944-SMP-7479-TST-channel1_CATGCCTAGAGCCCAA-1 &lt;dbl&gt; | HTAPP-944-SMP-7479-TST-channel1_ATTTCTGTCGCCAATA-1 &lt;dbl&gt; | HTAPP-944-SMP-7479-TST-channel1_TTGAGTGTCTAGACCA-1 &lt;dbl&gt; | HTAPP-944-SMP-7479-TST-channel1_AGACACTGTCTCGACG-1 &lt;dbl&gt; |\n",
       "|---|---|---|---|---|---|\n",
       "| blood vessel smooth muscle cell | 0 | 0 | 0 | 0.012 | 0.016 |\n",
       "| endothelial cell | 0 | 0 | 0 | 0.004 | 0.004 |\n",
       "| macrophage | 0 | 0 | 0 | 0.028 | 0.014 |\n",
       "| malignant cell | 1 | 1 | 1 | 0.948 | 0.954 |\n",
       "| mature NK T cell | 0 | 0 | 0 | 0.004 | 0.006 |\n",
       "\n"
      ],
      "text/plain": [
       "                                HTAPP-944-SMP-7479-TST-channel1_ACCTACCGTTCCTAAG-1\n",
       "blood vessel smooth muscle cell 0                                                 \n",
       "endothelial cell                0                                                 \n",
       "macrophage                      0                                                 \n",
       "malignant cell                  1                                                 \n",
       "mature NK T cell                0                                                 \n",
       "                                HTAPP-944-SMP-7479-TST-channel1_CATGCCTAGAGCCCAA-1\n",
       "blood vessel smooth muscle cell 0                                                 \n",
       "endothelial cell                0                                                 \n",
       "macrophage                      0                                                 \n",
       "malignant cell                  1                                                 \n",
       "mature NK T cell                0                                                 \n",
       "                                HTAPP-944-SMP-7479-TST-channel1_ATTTCTGTCGCCAATA-1\n",
       "blood vessel smooth muscle cell 0                                                 \n",
       "endothelial cell                0                                                 \n",
       "macrophage                      0                                                 \n",
       "malignant cell                  1                                                 \n",
       "mature NK T cell                0                                                 \n",
       "                                HTAPP-944-SMP-7479-TST-channel1_TTGAGTGTCTAGACCA-1\n",
       "blood vessel smooth muscle cell 0.012                                             \n",
       "endothelial cell                0.004                                             \n",
       "macrophage                      0.028                                             \n",
       "malignant cell                  0.948                                             \n",
       "mature NK T cell                0.004                                             \n",
       "                                HTAPP-944-SMP-7479-TST-channel1_AGACACTGTCTCGACG-1\n",
       "blood vessel smooth muscle cell 0.016                                             \n",
       "endothelial cell                0.004                                             \n",
       "macrophage                      0.014                                             \n",
       "malignant cell                  0.954                                             \n",
       "mature NK T cell                0.006                                             "
      ]
     },
     "metadata": {},
     "output_type": "display_data"
    }
   ],
   "source": [
    "# Score for each cell type for each cell\n",
    "myPreds$typePredictions[1:5,1:5]"
   ]
  },
  {
   "cell_type": "code",
   "execution_count": 17,
   "id": "f5a46814",
   "metadata": {
    "execution": {
     "iopub.execute_input": "2024-10-07T07:13:59.963598Z",
     "iopub.status.busy": "2024-10-07T07:13:59.962498Z",
     "iopub.status.idle": "2024-10-07T07:13:59.975346Z",
     "shell.execute_reply": "2024-10-07T07:13:59.973939Z"
    }
   },
   "outputs": [
    {
     "data": {
      "text/html": [
       "<style>\n",
       ".dl-inline {width: auto; margin:0; padding: 0}\n",
       ".dl-inline>dt, .dl-inline>dd {float: none; width: auto; display: inline-block}\n",
       ".dl-inline>dt::after {content: \":\\0020\"; padding-right: .5ex}\n",
       ".dl-inline>dt:not(:first-of-type) {padding-left: .5ex}\n",
       "</style><dl class=dl-inline><dt>HTAPP-944-SMP-7479-TST-channel1_CCGTTCAAGTCTTCCC-1</dt><dd>'macrophage'</dd><dt>HTAPP-944-SMP-7479-TST-channel1_TCAGGGCCAATTTCCT-1</dt><dd>'macrophage'</dd><dt>HTAPP-944-SMP-7479-TST-channel1_GAGTGAGTCCGTTTCG-1</dt><dd>'macrophage'</dd><dt>HTAPP-944-SMP-7479-TST-channel1_TAATCTCTCTCGCAGG-1</dt><dd>'macrophage'</dd><dt>HTAPP-944-SMP-7479-TST-channel1_GCTTGGGTCACCCTGT-1</dt><dd>'macrophage'</dd><dt>HTAPP-944-SMP-7479-TST-channel1_ACTTTCACACGGTCTG-1</dt><dd>'macrophage'</dd></dl>\n"
      ],
      "text/latex": [
       "\\begin{description*}\n",
       "\\item[HTAPP-944-SMP-7479-TST-channel1\\textbackslash{}\\_CCGTTCAAGTCTTCCC-1] 'macrophage'\n",
       "\\item[HTAPP-944-SMP-7479-TST-channel1\\textbackslash{}\\_TCAGGGCCAATTTCCT-1] 'macrophage'\n",
       "\\item[HTAPP-944-SMP-7479-TST-channel1\\textbackslash{}\\_GAGTGAGTCCGTTTCG-1] 'macrophage'\n",
       "\\item[HTAPP-944-SMP-7479-TST-channel1\\textbackslash{}\\_TAATCTCTCTCGCAGG-1] 'macrophage'\n",
       "\\item[HTAPP-944-SMP-7479-TST-channel1\\textbackslash{}\\_GCTTGGGTCACCCTGT-1] 'macrophage'\n",
       "\\item[HTAPP-944-SMP-7479-TST-channel1\\textbackslash{}\\_ACTTTCACACGGTCTG-1] 'macrophage'\n",
       "\\end{description*}\n"
      ],
      "text/markdown": [
       "HTAPP-944-SMP-7479-TST-channel1_CCGTTCAAGTCTTCCC-1\n",
       ":   'macrophage'HTAPP-944-SMP-7479-TST-channel1_TCAGGGCCAATTTCCT-1\n",
       ":   'macrophage'HTAPP-944-SMP-7479-TST-channel1_GAGTGAGTCCGTTTCG-1\n",
       ":   'macrophage'HTAPP-944-SMP-7479-TST-channel1_TAATCTCTCTCGCAGG-1\n",
       ":   'macrophage'HTAPP-944-SMP-7479-TST-channel1_GCTTGGGTCACCCTGT-1\n",
       ":   'macrophage'HTAPP-944-SMP-7479-TST-channel1_ACTTTCACACGGTCTG-1\n",
       ":   'macrophage'\n",
       "\n"
      ],
      "text/plain": [
       "HTAPP-944-SMP-7479-TST-channel1_CCGTTCAAGTCTTCCC-1 \n",
       "                                      \"macrophage\" \n",
       "HTAPP-944-SMP-7479-TST-channel1_TCAGGGCCAATTTCCT-1 \n",
       "                                      \"macrophage\" \n",
       "HTAPP-944-SMP-7479-TST-channel1_GAGTGAGTCCGTTTCG-1 \n",
       "                                      \"macrophage\" \n",
       "HTAPP-944-SMP-7479-TST-channel1_TAATCTCTCTCGCAGG-1 \n",
       "                                      \"macrophage\" \n",
       "HTAPP-944-SMP-7479-TST-channel1_GCTTGGGTCACCCTGT-1 \n",
       "                                      \"macrophage\" \n",
       "HTAPP-944-SMP-7479-TST-channel1_ACTTTCACACGGTCTG-1 \n",
       "                                      \"macrophage\" "
      ]
     },
     "metadata": {},
     "output_type": "display_data"
    }
   ],
   "source": [
    "# Cell type for each cell\n",
    "head(myPreds$cellTypes)"
   ]
  },
  {
   "cell_type": "markdown",
   "id": "6ee433b8",
   "metadata": {},
   "source": [
    "## Check the prediction for each cell type"
   ]
  },
  {
   "cell_type": "code",
   "execution_count": 18,
   "id": "6e5d6c09",
   "metadata": {
    "execution": {
     "iopub.execute_input": "2024-10-07T07:13:59.979756Z",
     "iopub.status.busy": "2024-10-07T07:13:59.978613Z",
     "iopub.status.idle": "2024-10-07T07:14:24.518607Z",
     "shell.execute_reply": "2024-10-07T07:14:24.512925Z"
    }
   },
   "outputs": [
    {
     "name": "stderr",
     "output_type": "stream",
     "text": [
      "Cell type: malignant cell, prediction: malignant cell\n",
      "\n",
      "Cell type: endothelial cell, prediction: endothelial cell\n",
      "\n",
      "Cell type: blood vessel smooth muscle cell, prediction: blood vessel smooth muscle cell\n",
      "\n",
      "Cell type: macrophage, prediction: macrophage\n",
      "\n",
      "Cell type: monocyte, prediction: monocyte\n",
      "\n",
      "Cell type: mature NK T cell, prediction: mature NK T cell\n",
      "\n"
     ]
    }
   ],
   "source": [
    "for ( myClust in unique(clusters_df)){\n",
    "    myPreds <- scRF_classifier(expr_df, clusters_df, myClust)\n",
    "    message(\"Cell type: \", myClust, \", prediction: \", myPreds$prediction)\n",
    "}\n"
   ]
  },
  {
   "cell_type": "markdown",
   "id": "bb681e0f",
   "metadata": {},
   "source": [
    "## The function RF_classifier can be used as classifier with the adverSCarial package functions"
   ]
  },
  {
   "cell_type": "markdown",
   "id": "436bd5a3",
   "metadata": {},
   "source": [
    "# Run a max-change attack\n",
    "Example of max-change attack with the positive-aberrant modification on the macrophage cluster."
   ]
  },
  {
   "cell_type": "code",
   "execution_count": 19,
   "id": "2aee1b31",
   "metadata": {
    "execution": {
     "iopub.execute_input": "2024-10-07T07:14:24.598978Z",
     "iopub.status.busy": "2024-10-07T07:14:24.595259Z",
     "iopub.status.idle": "2024-10-07T07:14:24.691945Z",
     "shell.execute_reply": "2024-10-07T07:14:24.690520Z"
    }
   },
   "outputs": [],
   "source": [
    "start_time <- Sys.time()"
   ]
  },
  {
   "cell_type": "code",
   "execution_count": 20,
   "id": "d9c039f6",
   "metadata": {
    "execution": {
     "iopub.execute_input": "2024-10-07T07:14:24.745748Z",
     "iopub.status.busy": "2024-10-07T07:14:24.744777Z",
     "iopub.status.idle": "2024-10-07T07:23:01.251412Z",
     "shell.execute_reply": "2024-10-07T07:23:01.248474Z"
    }
   },
   "outputs": [
    {
     "name": "stderr",
     "output_type": "stream",
     "text": [
      "predictWithNewValue data.frame data.frame\n",
      "\n",
      "predictWithNewValue data.frame data.frame\n",
      "\n",
      "predictWithNewValue data.frame data.frame\n",
      "\n",
      "predictWithNewValue data.frame data.frame\n",
      "\n",
      "predictWithNewValue data.frame data.frame\n",
      "\n",
      "predictWithNewValue data.frame data.frame\n",
      "\n",
      "predictWithNewValue data.frame data.frame\n",
      "\n",
      "predictWithNewValue data.frame data.frame\n",
      "\n",
      "result length: 15981\n",
      "\n",
      "predictWithNewValue data.frame data.frame\n",
      "\n",
      "predictWithNewValue data.frame data.frame\n",
      "\n",
      "predictWithNewValue data.frame data.frame\n",
      "\n",
      "predictWithNewValue data.frame data.frame\n",
      "\n",
      "predictWithNewValue data.frame data.frame\n",
      "\n",
      "predictWithNewValue data.frame data.frame\n",
      "\n",
      "predictWithNewValue data.frame data.frame\n",
      "\n",
      "predictWithNewValue data.frame data.frame\n",
      "\n",
      "predictWithNewValue data.frame data.frame\n",
      "\n",
      "predictWithNewValue data.frame data.frame\n",
      "\n",
      "predictWithNewValue data.frame data.frame\n",
      "\n",
      "predictWithNewValue data.frame data.frame\n",
      "\n",
      "result length: 16781\n",
      "\n",
      "predictWithNewValue data.frame data.frame\n",
      "\n",
      "predictWithNewValue data.frame data.frame\n",
      "\n",
      "predictWithNewValue data.frame data.frame\n",
      "\n",
      "predictWithNewValue data.frame data.frame\n",
      "\n",
      "predictWithNewValue data.frame data.frame\n",
      "\n",
      "predictWithNewValue data.frame data.frame\n",
      "\n",
      "predictWithNewValue data.frame data.frame\n",
      "\n",
      "predictWithNewValue data.frame data.frame\n",
      "\n",
      "predictWithNewValue data.frame data.frame\n",
      "\n",
      "predictWithNewValue data.frame data.frame\n",
      "\n",
      "predictWithNewValue data.frame data.frame\n",
      "\n",
      "predictWithNewValue data.frame data.frame\n",
      "\n",
      "predictWithNewValue data.frame data.frame\n",
      "\n",
      "predictWithNewValue data.frame data.frame\n",
      "\n",
      "predictWithNewValue data.frame data.frame\n",
      "\n",
      "predictWithNewValue data.frame data.frame\n",
      "\n",
      "predictWithNewValue data.frame data.frame\n",
      "\n",
      "predictWithNewValue data.frame data.frame\n",
      "\n",
      "result length: 17580\n",
      "\n",
      "predictWithNewValue data.frame data.frame\n",
      "\n",
      "predictWithNewValue data.frame data.frame\n",
      "\n",
      "predictWithNewValue data.frame data.frame\n",
      "\n",
      "predictWithNewValue data.frame data.frame\n",
      "\n",
      "predictWithNewValue data.frame data.frame\n",
      "\n",
      "predictWithNewValue data.frame data.frame\n",
      "\n",
      "predictWithNewValue data.frame data.frame\n",
      "\n",
      "predictWithNewValue data.frame data.frame\n",
      "\n",
      "result length: 18379\n",
      "\n",
      "predictWithNewValue data.frame data.frame\n",
      "\n",
      "predictWithNewValue data.frame data.frame\n",
      "\n",
      "predictWithNewValue data.frame data.frame\n",
      "\n",
      "predictWithNewValue data.frame data.frame\n",
      "\n",
      "predictWithNewValue data.frame data.frame\n",
      "\n",
      "predictWithNewValue data.frame data.frame\n",
      "\n",
      "result length: 19178\n",
      "\n"
     ]
    }
   ],
   "source": [
    "myAttack <- advMaxChange(expr_df, clusters_df, 'macrophage', scRF_classifier, advMethod = \"perc99\", maxSplitSize=1000)"
   ]
  },
  {
   "cell_type": "markdown",
   "id": "a3c353e5",
   "metadata": {},
   "source": [
    "### Computation time"
   ]
  },
  {
   "cell_type": "code",
   "execution_count": 21,
   "id": "ef5ca7c6",
   "metadata": {
    "execution": {
     "iopub.execute_input": "2024-10-07T07:23:01.306196Z",
     "iopub.status.busy": "2024-10-07T07:23:01.305128Z",
     "iopub.status.idle": "2024-10-07T07:23:01.325555Z",
     "shell.execute_reply": "2024-10-07T07:23:01.324260Z"
    }
   },
   "outputs": [
    {
     "data": {
      "text/plain": [
       "Time difference of 9.347185 mins"
      ]
     },
     "metadata": {},
     "output_type": "display_data"
    }
   ],
   "source": [
    "Sys.time() - start_time"
   ]
  },
  {
   "cell_type": "code",
   "execution_count": 26,
   "id": "1822d32f",
   "metadata": {
    "execution": {
     "iopub.execute_input": "2024-10-07T07:23:01.332700Z",
     "iopub.status.busy": "2024-10-07T07:23:01.331500Z",
     "iopub.status.idle": "2024-10-07T07:23:01.344416Z",
     "shell.execute_reply": "2024-10-07T07:23:01.342447Z"
    }
   },
   "outputs": [
    {
     "data": {
      "text/html": [
       "19178"
      ],
      "text/latex": [
       "19178"
      ],
      "text/markdown": [
       "19178"
      ],
      "text/plain": [
       "[1] 19178"
      ]
     },
     "metadata": {},
     "output_type": "display_data"
    }
   ],
   "source": [
    "length(myAttack@values)"
   ]
  },
  {
   "cell_type": "markdown",
   "id": "894a12bb",
   "metadata": {},
   "source": [
    "Check if the attack was successful."
   ]
  },
  {
   "cell_type": "code",
   "execution_count": 23,
   "id": "5fd4aad6",
   "metadata": {
    "execution": {
     "iopub.execute_input": "2024-10-07T07:23:01.351092Z",
     "iopub.status.busy": "2024-10-07T07:23:01.350006Z",
     "iopub.status.idle": "2024-10-07T07:23:21.030992Z",
     "shell.execute_reply": "2024-10-07T07:23:21.029596Z"
    }
   },
   "outputs": [],
   "source": [
    "mod_expr_df <- advModifications(expr_df, clusters=clusters_df, target='macrophage', genes=myAttack@values, advMethod = \"perc99\")"
   ]
  },
  {
   "cell_type": "code",
   "execution_count": 24,
   "id": "c107cfa4",
   "metadata": {
    "execution": {
     "iopub.execute_input": "2024-10-07T07:23:21.036425Z",
     "iopub.status.busy": "2024-10-07T07:23:21.035051Z",
     "iopub.status.idle": "2024-10-07T07:23:31.321501Z",
     "shell.execute_reply": "2024-10-07T07:23:31.319807Z"
    }
   },
   "outputs": [
    {
     "data": {
      "text/html": [
       "'macrophage'"
      ],
      "text/latex": [
       "'macrophage'"
      ],
      "text/markdown": [
       "'macrophage'"
      ],
      "text/plain": [
       "[1] \"macrophage\""
      ]
     },
     "metadata": {},
     "output_type": "display_data"
    }
   ],
   "source": [
    "mod_myPreds <- scRF_classifier(mod_expr_df, clusters_df, 'macrophage')\n",
    "mod_myPreds$prediction"
   ]
  },
  {
   "cell_type": "markdown",
   "id": "c1739dae",
   "metadata": {},
   "source": [
    "The cluster is still classified as \"macrophage\" after the modification of the 13714 genes."
   ]
  },
  {
   "cell_type": "code",
   "execution_count": null,
   "id": "643ca3ff",
   "metadata": {},
   "outputs": [],
   "source": []
  },
  {
   "cell_type": "code",
   "execution_count": 25,
   "id": "22be808a",
   "metadata": {
    "execution": {
     "iopub.execute_input": "2024-10-07T07:23:31.363112Z",
     "iopub.status.busy": "2024-10-07T07:23:31.361721Z",
     "iopub.status.idle": "2024-10-07T07:23:32.457275Z",
     "shell.execute_reply": "2024-10-07T07:23:32.455606Z"
    }
   },
   "outputs": [
    {
     "data": {
      "text/plain": [
       "R version 4.3.0 (2023-04-21)\n",
       "Platform: x86_64-pc-linux-gnu (64-bit)\n",
       "Running under: Ubuntu 22.04.1 LTS\n",
       "\n",
       "Matrix products: default\n",
       "BLAS:   /usr/lib/x86_64-linux-gnu/blas/libblas.so.3.10.0 \n",
       "LAPACK: /usr/lib/x86_64-linux-gnu/lapack/liblapack.so.3.10.0\n",
       "\n",
       "locale:\n",
       " [1] LC_CTYPE=en_US.UTF-8       LC_NUMERIC=C              \n",
       " [3] LC_TIME=fr_FR.UTF-8        LC_COLLATE=en_US.UTF-8    \n",
       " [5] LC_MONETARY=fr_FR.UTF-8    LC_MESSAGES=en_US.UTF-8   \n",
       " [7] LC_PAPER=fr_FR.UTF-8       LC_NAME=C                 \n",
       " [9] LC_ADDRESS=C               LC_TELEPHONE=C            \n",
       "[11] LC_MEASUREMENT=fr_FR.UTF-8 LC_IDENTIFICATION=C       \n",
       "\n",
       "time zone: Europe/Paris\n",
       "tzcode source: system (glibc)\n",
       "\n",
       "attached base packages:\n",
       "[1] stats     graphics  grDevices utils     datasets  methods   base     \n",
       "\n",
       "other attached packages:\n",
       "[1] adverSCarial_1.3.6   dplyr_1.1.2          randomForest_4.7-1.1\n",
       "\n",
       "loaded via a namespace (and not attached):\n",
       " [1] Matrix_1.6-4          jsonlite_1.8.5        compiler_4.3.0       \n",
       " [4] crayon_1.5.2          tidyselect_1.2.0      IRdisplay_1.1        \n",
       " [7] IRanges_2.35.2        uuid_1.1-0            fastmap_1.1.1        \n",
       "[10] IRkernel_1.3.2        lattice_0.21-8        XVector_0.41.1       \n",
       "[13] R6_2.5.1              S4Arrays_1.1.4        generics_0.1.3       \n",
       "[16] BiocGenerics_0.47.0   tibble_3.2.1          DelayedArray_0.27.5  \n",
       "[19] MatrixGenerics_1.13.0 pillar_1.9.0          rlang_1.1.1          \n",
       "[22] utf8_1.2.3            repr_1.1.6            SparseArray_1.1.10   \n",
       "[25] cli_3.6.1             magrittr_2.0.3        zlibbioc_1.47.0      \n",
       "[28] digest_0.6.32         grid_4.3.0            base64enc_0.1-3      \n",
       "[31] pbdZMQ_0.3-9          lifecycle_1.0.3       S4Vectors_0.39.1     \n",
       "[34] vctrs_0.6.3           evaluate_0.21         glue_1.6.2           \n",
       "[37] stats4_4.3.0          fansi_1.0.4           matrixStats_1.0.0    \n",
       "[40] tools_4.3.0           pkgconfig_2.0.3       htmltools_0.5.5      "
      ]
     },
     "metadata": {},
     "output_type": "display_data"
    }
   ],
   "source": [
    "sessionInfo()"
   ]
  }
 ],
 "metadata": {
  "kernelspec": {
   "display_name": "R",
   "language": "R",
   "name": "ir"
  },
  "language_info": {
   "codemirror_mode": "r",
   "file_extension": ".r",
   "mimetype": "text/x-r-source",
   "name": "R",
   "pygments_lexer": "r",
   "version": "4.3.3"
  }
 },
 "nbformat": 4,
 "nbformat_minor": 5
}
