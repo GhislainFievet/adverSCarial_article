{
 "cells": [
  {
   "cell_type": "markdown",
   "id": "621c6354",
   "metadata": {},
   "source": [
    "# Build png tables of single gene and max change number of attacks from previously computed data"
   ]
  },
  {
   "cell_type": "code",
   "execution_count": 1,
   "id": "2af68e72",
   "metadata": {
    "scrolled": true
   },
   "outputs": [
    {
     "name": "stderr",
     "output_type": "stream",
     "text": [
      "\n",
      "Attaching package: ‘dplyr’\n",
      "\n",
      "\n",
      "The following objects are masked from ‘package:stats’:\n",
      "\n",
      "    filter, lag\n",
      "\n",
      "\n",
      "The following objects are masked from ‘package:base’:\n",
      "\n",
      "    intersect, setdiff, setequal, union\n",
      "\n",
      "\n",
      "The legacy packages maptools, rgdal, and rgeos, underpinning this package\n",
      "will retire shortly. Please refer to R-spatial evolution reports on\n",
      "https://r-spatial.org/r/2023/05/15/evolution4.html for details.\n",
      "This package is now running under evolution status 0 \n",
      "\n",
      "Attaching SeuratObject\n",
      "\n",
      "\n",
      "Attaching package: ‘gridExtra’\n",
      "\n",
      "\n",
      "The following object is masked from ‘package:dplyr’:\n",
      "\n",
      "    combine\n",
      "\n",
      "\n"
     ]
    },
    {
     "data": {
      "text/html": [
       "<ol>\n",
       "\t<li><style>\n",
       ".list-inline {list-style: none; margin:0; padding: 0}\n",
       ".list-inline>li {display: inline-block}\n",
       ".list-inline>li:not(:last-child)::after {content: \"\\00b7\"; padding: 0 .5ex}\n",
       "</style>\n",
       "<ol class=list-inline><li>'dplyr'</li><li>'stats'</li><li>'graphics'</li><li>'grDevices'</li><li>'utils'</li><li>'datasets'</li><li>'methods'</li><li>'base'</li></ol>\n",
       "</li>\n",
       "\t<li><style>\n",
       ".list-inline {list-style: none; margin:0; padding: 0}\n",
       ".list-inline>li {display: inline-block}\n",
       ".list-inline>li:not(:last-child)::after {content: \"\\00b7\"; padding: 0 .5ex}\n",
       "</style>\n",
       "<ol class=list-inline><li>'SeuratObject'</li><li>'Seurat'</li><li>'dplyr'</li><li>'stats'</li><li>'graphics'</li><li>'grDevices'</li><li>'utils'</li><li>'datasets'</li><li>'methods'</li><li>'base'</li></ol>\n",
       "</li>\n",
       "\t<li><style>\n",
       ".list-inline {list-style: none; margin:0; padding: 0}\n",
       ".list-inline>li {display: inline-block}\n",
       ".list-inline>li:not(:last-child)::after {content: \"\\00b7\"; padding: 0 .5ex}\n",
       "</style>\n",
       "<ol class=list-inline><li>'HGNChelper'</li><li>'SeuratObject'</li><li>'Seurat'</li><li>'dplyr'</li><li>'stats'</li><li>'graphics'</li><li>'grDevices'</li><li>'utils'</li><li>'datasets'</li><li>'methods'</li><li>'base'</li></ol>\n",
       "</li>\n",
       "\t<li><style>\n",
       ".list-inline {list-style: none; margin:0; padding: 0}\n",
       ".list-inline>li {display: inline-block}\n",
       ".list-inline>li:not(:last-child)::after {content: \"\\00b7\"; padding: 0 .5ex}\n",
       "</style>\n",
       "<ol class=list-inline><li>'adverSCarial'</li><li>'HGNChelper'</li><li>'SeuratObject'</li><li>'Seurat'</li><li>'dplyr'</li><li>'stats'</li><li>'graphics'</li><li>'grDevices'</li><li>'utils'</li><li>'datasets'</li><li>'methods'</li><li>'base'</li></ol>\n",
       "</li>\n",
       "\t<li><style>\n",
       ".list-inline {list-style: none; margin:0; padding: 0}\n",
       ".list-inline>li {display: inline-block}\n",
       ".list-inline>li:not(:last-child)::after {content: \"\\00b7\"; padding: 0 .5ex}\n",
       "</style>\n",
       "<ol class=list-inline><li>'IRdisplay'</li><li>'adverSCarial'</li><li>'HGNChelper'</li><li>'SeuratObject'</li><li>'Seurat'</li><li>'dplyr'</li><li>'stats'</li><li>'graphics'</li><li>'grDevices'</li><li>'utils'</li><li>'datasets'</li><li>'methods'</li><li>'base'</li></ol>\n",
       "</li>\n",
       "\t<li><style>\n",
       ".list-inline {list-style: none; margin:0; padding: 0}\n",
       ".list-inline>li {display: inline-block}\n",
       ".list-inline>li:not(:last-child)::after {content: \"\\00b7\"; padding: 0 .5ex}\n",
       "</style>\n",
       "<ol class=list-inline><li>'gridExtra'</li><li>'IRdisplay'</li><li>'adverSCarial'</li><li>'HGNChelper'</li><li>'SeuratObject'</li><li>'Seurat'</li><li>'dplyr'</li><li>'stats'</li><li>'graphics'</li><li>'grDevices'</li><li>'utils'</li><li>'datasets'</li><li>'methods'</li><li>'base'</li></ol>\n",
       "</li>\n",
       "</ol>\n"
      ],
      "text/latex": [
       "\\begin{enumerate}\n",
       "\\item \\begin{enumerate*}\n",
       "\\item 'dplyr'\n",
       "\\item 'stats'\n",
       "\\item 'graphics'\n",
       "\\item 'grDevices'\n",
       "\\item 'utils'\n",
       "\\item 'datasets'\n",
       "\\item 'methods'\n",
       "\\item 'base'\n",
       "\\end{enumerate*}\n",
       "\n",
       "\\item \\begin{enumerate*}\n",
       "\\item 'SeuratObject'\n",
       "\\item 'Seurat'\n",
       "\\item 'dplyr'\n",
       "\\item 'stats'\n",
       "\\item 'graphics'\n",
       "\\item 'grDevices'\n",
       "\\item 'utils'\n",
       "\\item 'datasets'\n",
       "\\item 'methods'\n",
       "\\item 'base'\n",
       "\\end{enumerate*}\n",
       "\n",
       "\\item \\begin{enumerate*}\n",
       "\\item 'HGNChelper'\n",
       "\\item 'SeuratObject'\n",
       "\\item 'Seurat'\n",
       "\\item 'dplyr'\n",
       "\\item 'stats'\n",
       "\\item 'graphics'\n",
       "\\item 'grDevices'\n",
       "\\item 'utils'\n",
       "\\item 'datasets'\n",
       "\\item 'methods'\n",
       "\\item 'base'\n",
       "\\end{enumerate*}\n",
       "\n",
       "\\item \\begin{enumerate*}\n",
       "\\item 'adverSCarial'\n",
       "\\item 'HGNChelper'\n",
       "\\item 'SeuratObject'\n",
       "\\item 'Seurat'\n",
       "\\item 'dplyr'\n",
       "\\item 'stats'\n",
       "\\item 'graphics'\n",
       "\\item 'grDevices'\n",
       "\\item 'utils'\n",
       "\\item 'datasets'\n",
       "\\item 'methods'\n",
       "\\item 'base'\n",
       "\\end{enumerate*}\n",
       "\n",
       "\\item \\begin{enumerate*}\n",
       "\\item 'IRdisplay'\n",
       "\\item 'adverSCarial'\n",
       "\\item 'HGNChelper'\n",
       "\\item 'SeuratObject'\n",
       "\\item 'Seurat'\n",
       "\\item 'dplyr'\n",
       "\\item 'stats'\n",
       "\\item 'graphics'\n",
       "\\item 'grDevices'\n",
       "\\item 'utils'\n",
       "\\item 'datasets'\n",
       "\\item 'methods'\n",
       "\\item 'base'\n",
       "\\end{enumerate*}\n",
       "\n",
       "\\item \\begin{enumerate*}\n",
       "\\item 'gridExtra'\n",
       "\\item 'IRdisplay'\n",
       "\\item 'adverSCarial'\n",
       "\\item 'HGNChelper'\n",
       "\\item 'SeuratObject'\n",
       "\\item 'Seurat'\n",
       "\\item 'dplyr'\n",
       "\\item 'stats'\n",
       "\\item 'graphics'\n",
       "\\item 'grDevices'\n",
       "\\item 'utils'\n",
       "\\item 'datasets'\n",
       "\\item 'methods'\n",
       "\\item 'base'\n",
       "\\end{enumerate*}\n",
       "\n",
       "\\end{enumerate}\n"
      ],
      "text/markdown": [
       "1. 1. 'dplyr'\n",
       "2. 'stats'\n",
       "3. 'graphics'\n",
       "4. 'grDevices'\n",
       "5. 'utils'\n",
       "6. 'datasets'\n",
       "7. 'methods'\n",
       "8. 'base'\n",
       "\n",
       "\n",
       "\n",
       "2. 1. 'SeuratObject'\n",
       "2. 'Seurat'\n",
       "3. 'dplyr'\n",
       "4. 'stats'\n",
       "5. 'graphics'\n",
       "6. 'grDevices'\n",
       "7. 'utils'\n",
       "8. 'datasets'\n",
       "9. 'methods'\n",
       "10. 'base'\n",
       "\n",
       "\n",
       "\n",
       "3. 1. 'HGNChelper'\n",
       "2. 'SeuratObject'\n",
       "3. 'Seurat'\n",
       "4. 'dplyr'\n",
       "5. 'stats'\n",
       "6. 'graphics'\n",
       "7. 'grDevices'\n",
       "8. 'utils'\n",
       "9. 'datasets'\n",
       "10. 'methods'\n",
       "11. 'base'\n",
       "\n",
       "\n",
       "\n",
       "4. 1. 'adverSCarial'\n",
       "2. 'HGNChelper'\n",
       "3. 'SeuratObject'\n",
       "4. 'Seurat'\n",
       "5. 'dplyr'\n",
       "6. 'stats'\n",
       "7. 'graphics'\n",
       "8. 'grDevices'\n",
       "9. 'utils'\n",
       "10. 'datasets'\n",
       "11. 'methods'\n",
       "12. 'base'\n",
       "\n",
       "\n",
       "\n",
       "5. 1. 'IRdisplay'\n",
       "2. 'adverSCarial'\n",
       "3. 'HGNChelper'\n",
       "4. 'SeuratObject'\n",
       "5. 'Seurat'\n",
       "6. 'dplyr'\n",
       "7. 'stats'\n",
       "8. 'graphics'\n",
       "9. 'grDevices'\n",
       "10. 'utils'\n",
       "11. 'datasets'\n",
       "12. 'methods'\n",
       "13. 'base'\n",
       "\n",
       "\n",
       "\n",
       "6. 1. 'gridExtra'\n",
       "2. 'IRdisplay'\n",
       "3. 'adverSCarial'\n",
       "4. 'HGNChelper'\n",
       "5. 'SeuratObject'\n",
       "6. 'Seurat'\n",
       "7. 'dplyr'\n",
       "8. 'stats'\n",
       "9. 'graphics'\n",
       "10. 'grDevices'\n",
       "11. 'utils'\n",
       "12. 'datasets'\n",
       "13. 'methods'\n",
       "14. 'base'\n",
       "\n",
       "\n",
       "\n",
       "\n",
       "\n"
      ],
      "text/plain": [
       "[[1]]\n",
       "[1] \"dplyr\"     \"stats\"     \"graphics\"  \"grDevices\" \"utils\"     \"datasets\" \n",
       "[7] \"methods\"   \"base\"     \n",
       "\n",
       "[[2]]\n",
       " [1] \"SeuratObject\" \"Seurat\"       \"dplyr\"        \"stats\"        \"graphics\"    \n",
       " [6] \"grDevices\"    \"utils\"        \"datasets\"     \"methods\"      \"base\"        \n",
       "\n",
       "[[3]]\n",
       " [1] \"HGNChelper\"   \"SeuratObject\" \"Seurat\"       \"dplyr\"        \"stats\"       \n",
       " [6] \"graphics\"     \"grDevices\"    \"utils\"        \"datasets\"     \"methods\"     \n",
       "[11] \"base\"        \n",
       "\n",
       "[[4]]\n",
       " [1] \"adverSCarial\" \"HGNChelper\"   \"SeuratObject\" \"Seurat\"       \"dplyr\"       \n",
       " [6] \"stats\"        \"graphics\"     \"grDevices\"    \"utils\"        \"datasets\"    \n",
       "[11] \"methods\"      \"base\"        \n",
       "\n",
       "[[5]]\n",
       " [1] \"IRdisplay\"    \"adverSCarial\" \"HGNChelper\"   \"SeuratObject\" \"Seurat\"      \n",
       " [6] \"dplyr\"        \"stats\"        \"graphics\"     \"grDevices\"    \"utils\"       \n",
       "[11] \"datasets\"     \"methods\"      \"base\"        \n",
       "\n",
       "[[6]]\n",
       " [1] \"gridExtra\"    \"IRdisplay\"    \"adverSCarial\" \"HGNChelper\"   \"SeuratObject\"\n",
       " [6] \"Seurat\"       \"dplyr\"        \"stats\"        \"graphics\"     \"grDevices\"   \n",
       "[11] \"utils\"        \"datasets\"     \"methods\"      \"base\"        \n"
      ]
     },
     "metadata": {},
     "output_type": "display_data"
    }
   ],
   "source": [
    "lapply(c(\"dplyr\",\"Seurat\",\"HGNChelper\", \"adverSCarial\", \"IRdisplay\",\"gridExtra\"), library, character.only = T)"
   ]
  },
  {
   "cell_type": "code",
   "execution_count": 2,
   "id": "22ab7f6f",
   "metadata": {},
   "outputs": [
    {
     "data": {
      "text/html": [
       "<style>\n",
       ".list-inline {list-style: none; margin:0; padding: 0}\n",
       ".list-inline>li {display: inline-block}\n",
       ".list-inline>li:not(:last-child)::after {content: \"\\00b7\"; padding: 0 .5ex}\n",
       "</style>\n",
       "<ol class=list-inline><li>'decile+5'</li><li>'fctAbbNeg'</li><li>'fctAbbPos'</li><li>'fctRand'</li><li>'perc1'</li><li>'perc99'</li></ol>\n"
      ],
      "text/latex": [
       "\\begin{enumerate*}\n",
       "\\item 'decile+5'\n",
       "\\item 'fctAbbNeg'\n",
       "\\item 'fctAbbPos'\n",
       "\\item 'fctRand'\n",
       "\\item 'perc1'\n",
       "\\item 'perc99'\n",
       "\\end{enumerate*}\n"
      ],
      "text/markdown": [
       "1. 'decile+5'\n",
       "2. 'fctAbbNeg'\n",
       "3. 'fctAbbPos'\n",
       "4. 'fctRand'\n",
       "5. 'perc1'\n",
       "6. 'perc99'\n",
       "\n",
       "\n"
      ],
      "text/plain": [
       "[1] \"decile+5\"  \"fctAbbNeg\" \"fctAbbPos\" \"fctRand\"   \"perc1\"     \"perc99\"   "
      ]
     },
     "metadata": {},
     "output_type": "display_data"
    }
   ],
   "source": [
    "c_modifs = unique(unlist(lapply(list.files(\"results\"), function(x){\n",
    "    unlist(strsplit(x,\"_\"))[1]\n",
    "})))\n",
    "c_modifs"
   ]
  },
  {
   "cell_type": "code",
   "execution_count": 3,
   "id": "95c81e02",
   "metadata": {},
   "outputs": [
    {
     "data": {
      "text/html": [
       "<style>\n",
       ".list-inline {list-style: none; margin:0; padding: 0}\n",
       ".list-inline>li {display: inline-block}\n",
       ".list-inline>li:not(:last-child)::after {content: \"\\00b7\"; padding: 0 .5ex}\n",
       "</style>\n",
       "<ol class=list-inline><li>'CD8+ NKT-like cells'</li><li>'Classical Monocytes'</li><li>'Myeloid Dendritic cells'</li><li>'Naive B cells'</li><li>'Naive CD4+ T cells'</li><li><span style=white-space:pre-wrap>'Natural killer  cells'</span></li><li>'Non-classical monocytes'</li><li>'Platelets'</li></ol>\n"
      ],
      "text/latex": [
       "\\begin{enumerate*}\n",
       "\\item 'CD8+ NKT-like cells'\n",
       "\\item 'Classical Monocytes'\n",
       "\\item 'Myeloid Dendritic cells'\n",
       "\\item 'Naive B cells'\n",
       "\\item 'Naive CD4+ T cells'\n",
       "\\item 'Natural killer  cells'\n",
       "\\item 'Non-classical monocytes'\n",
       "\\item 'Platelets'\n",
       "\\end{enumerate*}\n"
      ],
      "text/markdown": [
       "1. 'CD8+ NKT-like cells'\n",
       "2. 'Classical Monocytes'\n",
       "3. 'Myeloid Dendritic cells'\n",
       "4. 'Naive B cells'\n",
       "5. 'Naive CD4+ T cells'\n",
       "6. <span style=white-space:pre-wrap>'Natural killer  cells'</span>\n",
       "7. 'Non-classical monocytes'\n",
       "8. 'Platelets'\n",
       "\n",
       "\n"
      ],
      "text/plain": [
       "[1] \"CD8+ NKT-like cells\"     \"Classical Monocytes\"    \n",
       "[3] \"Myeloid Dendritic cells\" \"Naive B cells\"          \n",
       "[5] \"Naive CD4+ T cells\"      \"Natural killer  cells\"  \n",
       "[7] \"Non-classical monocytes\" \"Platelets\"              "
      ]
     },
     "metadata": {},
     "output_type": "display_data"
    }
   ],
   "source": [
    "c_cell_type = unique(unlist(lapply(list.files(\"results\"), function(x){\n",
    "    temp_str = unlist(strsplit(x,\"_\"))[4]\n",
    "    unlist(strsplit(temp_str,\"\\\\.\"))[1]\n",
    "})))\n",
    "c_cell_type"
   ]
  },
  {
   "cell_type": "code",
   "execution_count": null,
   "id": "0d36531b",
   "metadata": {},
   "outputs": [],
   "source": []
  },
  {
   "cell_type": "markdown",
   "id": "4c215070",
   "metadata": {},
   "source": [
    "## Table of single gene attacks"
   ]
  },
  {
   "cell_type": "code",
   "execution_count": 4,
   "id": "92681198",
   "metadata": {},
   "outputs": [
    {
     "data": {
      "text/html": [
       "<strong>png:</strong> 2"
      ],
      "text/latex": [
       "\\textbf{png:} 2"
      ],
      "text/markdown": [
       "**png:** 2"
      ],
      "text/plain": [
       "png \n",
       "  2 "
      ]
     },
     "metadata": {},
     "output_type": "display_data"
    }
   ],
   "source": [
    "df_results = data.frame(matrix(nrow=length(c_cell_type), ncol=length(c_modifs)))\n",
    "colnames(df_results) = c_modifs\n",
    "rownames(df_results) = c_cell_type\n",
    "df_results[,] = 0\n",
    "for ( str_ct in c_cell_type){\n",
    "    for ( str_mod in c_modifs){\n",
    "        str_path = paste0(\"results/\",str_mod, \"_min_change_\", str_ct,\".txt\")\n",
    "        if (file.info(str_path)$size>3){\n",
    "            df_temp = read.table(str_path)\n",
    "            df_results[str_ct, str_mod] = length(df_temp$genes)\n",
    "        }\n",
    "    }\n",
    "}\n",
    "\n",
    "df_results = df_results[,c(\"perc1\", \"perc99\", \"fctRand\", \"fctAbbPos\",  \"fctAbbNeg\", \"decile+5\")]\n",
    "colnames(df_results) = c(\"perc1\", \"perc99\", \"random\", \"aberrant_pos\", \"aberrant_neg\", \"decile+5\")\n",
    "\n",
    "png(\"im/overview_scale_min_change_table.png\", height = 50*nrow(df_results), width = 200*ncol(df_results))\n",
    "grid.table(df_results)\n",
    "dev.off()"
   ]
  },
  {
   "cell_type": "code",
   "execution_count": 5,
   "id": "997e6a71",
   "metadata": {},
   "outputs": [
    {
     "data": {
      "text/html": [
       "<table class=\"dataframe\">\n",
       "<caption>A data.frame: 8 × 6</caption>\n",
       "<thead>\n",
       "\t<tr><th></th><th scope=col>perc1</th><th scope=col>perc99</th><th scope=col>random</th><th scope=col>aberrant_pos</th><th scope=col>aberrant_neg</th><th scope=col>decile+5</th></tr>\n",
       "\t<tr><th></th><th scope=col>&lt;dbl&gt;</th><th scope=col>&lt;dbl&gt;</th><th scope=col>&lt;dbl&gt;</th><th scope=col>&lt;dbl&gt;</th><th scope=col>&lt;dbl&gt;</th><th scope=col>&lt;dbl&gt;</th></tr>\n",
       "</thead>\n",
       "<tbody>\n",
       "\t<tr><th scope=row>CD8+ NKT-like cells</th><td>5</td><td>23</td><td>27</td><td>158</td><td>33</td><td>2</td></tr>\n",
       "\t<tr><th scope=row>Classical Monocytes</th><td>0</td><td>11</td><td> 6</td><td>152</td><td>30</td><td>0</td></tr>\n",
       "\t<tr><th scope=row>Myeloid Dendritic cells</th><td>1</td><td> 2</td><td> 3</td><td>145</td><td>34</td><td>0</td></tr>\n",
       "\t<tr><th scope=row>Naive B cells</th><td>1</td><td> 9</td><td> 5</td><td>151</td><td>33</td><td>0</td></tr>\n",
       "\t<tr><th scope=row>Naive CD4+ T cells</th><td>1</td><td>40</td><td>47</td><td>149</td><td>29</td><td>1</td></tr>\n",
       "\t<tr><th scope=row>Natural killer  cells</th><td>0</td><td> 5</td><td> 2</td><td>144</td><td>27</td><td>1</td></tr>\n",
       "\t<tr><th scope=row>Non-classical monocytes</th><td>0</td><td> 5</td><td> 1</td><td>154</td><td>34</td><td>0</td></tr>\n",
       "\t<tr><th scope=row>Platelets</th><td>0</td><td> 0</td><td> 0</td><td>155</td><td>26</td><td>0</td></tr>\n",
       "</tbody>\n",
       "</table>\n"
      ],
      "text/latex": [
       "A data.frame: 8 × 6\n",
       "\\begin{tabular}{r|llllll}\n",
       "  & perc1 & perc99 & random & aberrant\\_pos & aberrant\\_neg & decile+5\\\\\n",
       "  & <dbl> & <dbl> & <dbl> & <dbl> & <dbl> & <dbl>\\\\\n",
       "\\hline\n",
       "\tCD8+ NKT-like cells & 5 & 23 & 27 & 158 & 33 & 2\\\\\n",
       "\tClassical Monocytes & 0 & 11 &  6 & 152 & 30 & 0\\\\\n",
       "\tMyeloid Dendritic cells & 1 &  2 &  3 & 145 & 34 & 0\\\\\n",
       "\tNaive B cells & 1 &  9 &  5 & 151 & 33 & 0\\\\\n",
       "\tNaive CD4+ T cells & 1 & 40 & 47 & 149 & 29 & 1\\\\\n",
       "\tNatural killer  cells & 0 &  5 &  2 & 144 & 27 & 1\\\\\n",
       "\tNon-classical monocytes & 0 &  5 &  1 & 154 & 34 & 0\\\\\n",
       "\tPlatelets & 0 &  0 &  0 & 155 & 26 & 0\\\\\n",
       "\\end{tabular}\n"
      ],
      "text/markdown": [
       "\n",
       "A data.frame: 8 × 6\n",
       "\n",
       "| <!--/--> | perc1 &lt;dbl&gt; | perc99 &lt;dbl&gt; | random &lt;dbl&gt; | aberrant_pos &lt;dbl&gt; | aberrant_neg &lt;dbl&gt; | decile+5 &lt;dbl&gt; |\n",
       "|---|---|---|---|---|---|---|\n",
       "| CD8+ NKT-like cells | 5 | 23 | 27 | 158 | 33 | 2 |\n",
       "| Classical Monocytes | 0 | 11 |  6 | 152 | 30 | 0 |\n",
       "| Myeloid Dendritic cells | 1 |  2 |  3 | 145 | 34 | 0 |\n",
       "| Naive B cells | 1 |  9 |  5 | 151 | 33 | 0 |\n",
       "| Naive CD4+ T cells | 1 | 40 | 47 | 149 | 29 | 1 |\n",
       "| Natural killer  cells | 0 |  5 |  2 | 144 | 27 | 1 |\n",
       "| Non-classical monocytes | 0 |  5 |  1 | 154 | 34 | 0 |\n",
       "| Platelets | 0 |  0 |  0 | 155 | 26 | 0 |\n",
       "\n"
      ],
      "text/plain": [
       "                        perc1 perc99 random aberrant_pos aberrant_neg decile+5\n",
       "CD8+ NKT-like cells     5     23     27     158          33           2       \n",
       "Classical Monocytes     0     11      6     152          30           0       \n",
       "Myeloid Dendritic cells 1      2      3     145          34           0       \n",
       "Naive B cells           1      9      5     151          33           0       \n",
       "Naive CD4+ T cells      1     40     47     149          29           1       \n",
       "Natural killer  cells   0      5      2     144          27           1       \n",
       "Non-classical monocytes 0      5      1     154          34           0       \n",
       "Platelets               0      0      0     155          26           0       "
      ]
     },
     "metadata": {},
     "output_type": "display_data"
    }
   ],
   "source": [
    "df_results"
   ]
  },
  {
   "cell_type": "code",
   "execution_count": 6,
   "id": "3eef65bf",
   "metadata": {},
   "outputs": [
    {
     "data": {
      "text/html": [
       "<table class=\"dataframe\">\n",
       "<caption>A data.frame: 9 × 7</caption>\n",
       "<thead>\n",
       "\t<tr><th></th><th scope=col>perc1</th><th scope=col>perc99</th><th scope=col>random</th><th scope=col>aberrant_pos</th><th scope=col>aberrant_neg</th><th scope=col>decile+5</th><th scope=col>total</th></tr>\n",
       "\t<tr><th></th><th scope=col>&lt;dbl&gt;</th><th scope=col>&lt;dbl&gt;</th><th scope=col>&lt;dbl&gt;</th><th scope=col>&lt;dbl&gt;</th><th scope=col>&lt;dbl&gt;</th><th scope=col>&lt;dbl&gt;</th><th scope=col>&lt;dbl&gt;</th></tr>\n",
       "</thead>\n",
       "<tbody>\n",
       "\t<tr><th scope=row>CD8+ NKT-like cells</th><td>5</td><td>23</td><td>27</td><td> 158</td><td> 33</td><td>2</td><td> 248</td></tr>\n",
       "\t<tr><th scope=row>Classical Monocytes</th><td>0</td><td>11</td><td> 6</td><td> 152</td><td> 30</td><td>0</td><td> 199</td></tr>\n",
       "\t<tr><th scope=row>Myeloid Dendritic cells</th><td>1</td><td> 2</td><td> 3</td><td> 145</td><td> 34</td><td>0</td><td> 185</td></tr>\n",
       "\t<tr><th scope=row>Naive B cells</th><td>1</td><td> 9</td><td> 5</td><td> 151</td><td> 33</td><td>0</td><td> 199</td></tr>\n",
       "\t<tr><th scope=row>Naive CD4+ T cells</th><td>1</td><td>40</td><td>47</td><td> 149</td><td> 29</td><td>1</td><td> 267</td></tr>\n",
       "\t<tr><th scope=row>Natural killer  cells</th><td>0</td><td> 5</td><td> 2</td><td> 144</td><td> 27</td><td>1</td><td> 179</td></tr>\n",
       "\t<tr><th scope=row>Non-classical monocytes</th><td>0</td><td> 5</td><td> 1</td><td> 154</td><td> 34</td><td>0</td><td> 194</td></tr>\n",
       "\t<tr><th scope=row>Platelets</th><td>0</td><td> 0</td><td> 0</td><td> 155</td><td> 26</td><td>0</td><td> 181</td></tr>\n",
       "\t<tr><th scope=row>total</th><td>8</td><td>95</td><td>91</td><td>1208</td><td>246</td><td>4</td><td>1652</td></tr>\n",
       "</tbody>\n",
       "</table>\n"
      ],
      "text/latex": [
       "A data.frame: 9 × 7\n",
       "\\begin{tabular}{r|lllllll}\n",
       "  & perc1 & perc99 & random & aberrant\\_pos & aberrant\\_neg & decile+5 & total\\\\\n",
       "  & <dbl> & <dbl> & <dbl> & <dbl> & <dbl> & <dbl> & <dbl>\\\\\n",
       "\\hline\n",
       "\tCD8+ NKT-like cells & 5 & 23 & 27 &  158 &  33 & 2 &  248\\\\\n",
       "\tClassical Monocytes & 0 & 11 &  6 &  152 &  30 & 0 &  199\\\\\n",
       "\tMyeloid Dendritic cells & 1 &  2 &  3 &  145 &  34 & 0 &  185\\\\\n",
       "\tNaive B cells & 1 &  9 &  5 &  151 &  33 & 0 &  199\\\\\n",
       "\tNaive CD4+ T cells & 1 & 40 & 47 &  149 &  29 & 1 &  267\\\\\n",
       "\tNatural killer  cells & 0 &  5 &  2 &  144 &  27 & 1 &  179\\\\\n",
       "\tNon-classical monocytes & 0 &  5 &  1 &  154 &  34 & 0 &  194\\\\\n",
       "\tPlatelets & 0 &  0 &  0 &  155 &  26 & 0 &  181\\\\\n",
       "\ttotal & 8 & 95 & 91 & 1208 & 246 & 4 & 1652\\\\\n",
       "\\end{tabular}\n"
      ],
      "text/markdown": [
       "\n",
       "A data.frame: 9 × 7\n",
       "\n",
       "| <!--/--> | perc1 &lt;dbl&gt; | perc99 &lt;dbl&gt; | random &lt;dbl&gt; | aberrant_pos &lt;dbl&gt; | aberrant_neg &lt;dbl&gt; | decile+5 &lt;dbl&gt; | total &lt;dbl&gt; |\n",
       "|---|---|---|---|---|---|---|---|\n",
       "| CD8+ NKT-like cells | 5 | 23 | 27 |  158 |  33 | 2 |  248 |\n",
       "| Classical Monocytes | 0 | 11 |  6 |  152 |  30 | 0 |  199 |\n",
       "| Myeloid Dendritic cells | 1 |  2 |  3 |  145 |  34 | 0 |  185 |\n",
       "| Naive B cells | 1 |  9 |  5 |  151 |  33 | 0 |  199 |\n",
       "| Naive CD4+ T cells | 1 | 40 | 47 |  149 |  29 | 1 |  267 |\n",
       "| Natural killer  cells | 0 |  5 |  2 |  144 |  27 | 1 |  179 |\n",
       "| Non-classical monocytes | 0 |  5 |  1 |  154 |  34 | 0 |  194 |\n",
       "| Platelets | 0 |  0 |  0 |  155 |  26 | 0 |  181 |\n",
       "| total | 8 | 95 | 91 | 1208 | 246 | 4 | 1652 |\n",
       "\n"
      ],
      "text/plain": [
       "                        perc1 perc99 random aberrant_pos aberrant_neg decile+5\n",
       "CD8+ NKT-like cells     5     23     27      158          33          2       \n",
       "Classical Monocytes     0     11      6      152          30          0       \n",
       "Myeloid Dendritic cells 1      2      3      145          34          0       \n",
       "Naive B cells           1      9      5      151          33          0       \n",
       "Naive CD4+ T cells      1     40     47      149          29          1       \n",
       "Natural killer  cells   0      5      2      144          27          1       \n",
       "Non-classical monocytes 0      5      1      154          34          0       \n",
       "Platelets               0      0      0      155          26          0       \n",
       "total                   8     95     91     1208         246          4       \n",
       "                        total\n",
       "CD8+ NKT-like cells      248 \n",
       "Classical Monocytes      199 \n",
       "Myeloid Dendritic cells  185 \n",
       "Naive B cells            199 \n",
       "Naive CD4+ T cells       267 \n",
       "Natural killer  cells    179 \n",
       "Non-classical monocytes  194 \n",
       "Platelets                181 \n",
       "total                   1652 "
      ]
     },
     "metadata": {},
     "output_type": "display_data"
    }
   ],
   "source": [
    "# Add Total columns and rows\n",
    "df_4publi = df_results\n",
    "df_4publi$total = unlist(apply(df_4publi, 1, sum))\n",
    "df_4publi[\"total\", ] = unlist(apply(t(df_4publi), 1, sum))\n",
    "df_4publi"
   ]
  },
  {
   "cell_type": "code",
   "execution_count": null,
   "id": "6891e551",
   "metadata": {},
   "outputs": [],
   "source": []
  },
  {
   "cell_type": "code",
   "execution_count": 7,
   "id": "0929cd63",
   "metadata": {},
   "outputs": [
    {
     "data": {
      "text/html": [
       "151"
      ],
      "text/latex": [
       "151"
      ],
      "text/markdown": [
       "151"
      ],
      "text/plain": [
       "[1] 151"
      ]
     },
     "metadata": {},
     "output_type": "display_data"
    }
   ],
   "source": [
    "mean(df_results$aberrant_pos)"
   ]
  },
  {
   "cell_type": "code",
   "execution_count": 8,
   "id": "2e679b0f",
   "metadata": {},
   "outputs": [
    {
     "data": {
      "text/html": [
       "30.75"
      ],
      "text/latex": [
       "30.75"
      ],
      "text/markdown": [
       "30.75"
      ],
      "text/plain": [
       "[1] 30.75"
      ]
     },
     "metadata": {},
     "output_type": "display_data"
    }
   ],
   "source": [
    "mean(df_results$aberrant_neg)"
   ]
  },
  {
   "cell_type": "code",
   "execution_count": 9,
   "id": "e160c985",
   "metadata": {},
   "outputs": [
    {
     "data": {
      "text/html": [
       "1"
      ],
      "text/latex": [
       "1"
      ],
      "text/markdown": [
       "1"
      ],
      "text/plain": [
       "[1] 1"
      ]
     },
     "metadata": {},
     "output_type": "display_data"
    }
   ],
   "source": [
    "mean(df_results$perc1)"
   ]
  },
  {
   "cell_type": "code",
   "execution_count": 10,
   "id": "ac0dde2d",
   "metadata": {},
   "outputs": [
    {
     "data": {
      "text/html": [
       "11.875"
      ],
      "text/latex": [
       "11.875"
      ],
      "text/markdown": [
       "11.875"
      ],
      "text/plain": [
       "[1] 11.875"
      ]
     },
     "metadata": {},
     "output_type": "display_data"
    }
   ],
   "source": [
    "mean(df_results$perc99)"
   ]
  },
  {
   "cell_type": "code",
   "execution_count": 11,
   "id": "83671b29",
   "metadata": {},
   "outputs": [
    {
     "name": "stderr",
     "output_type": "stream",
     "text": [
      "Warning message in mean.default(df_results$fctRand):\n",
      "“argument is not numeric or logical: returning NA”\n"
     ]
    },
    {
     "data": {
      "text/html": [
       "&lt;NA&gt;"
      ],
      "text/latex": [
       "<NA>"
      ],
      "text/markdown": [
       "&lt;NA&gt;"
      ],
      "text/plain": [
       "[1] NA"
      ]
     },
     "metadata": {},
     "output_type": "display_data"
    }
   ],
   "source": [
    "mean(df_results$fctRand)"
   ]
  },
  {
   "cell_type": "code",
   "execution_count": 12,
   "id": "e120611a",
   "metadata": {},
   "outputs": [
    {
     "data": {
      "text/html": [
       "158"
      ],
      "text/latex": [
       "158"
      ],
      "text/markdown": [
       "158"
      ],
      "text/plain": [
       "[1] 158"
      ]
     },
     "metadata": {},
     "output_type": "display_data"
    }
   ],
   "source": [
    "max(df_results)"
   ]
  },
  {
   "cell_type": "markdown",
   "id": "24138404",
   "metadata": {},
   "source": [
    "## Tables of max change and signature of max change attacks"
   ]
  },
  {
   "cell_type": "code",
   "execution_count": 13,
   "id": "25d2e110",
   "metadata": {},
   "outputs": [
    {
     "data": {
      "text/html": [
       "<strong>png:</strong> 2"
      ],
      "text/latex": [
       "\\textbf{png:} 2"
      ],
      "text/markdown": [
       "**png:** 2"
      ],
      "text/plain": [
       "png \n",
       "  2 "
      ]
     },
     "metadata": {},
     "output_type": "display_data"
    },
    {
     "data": {
      "text/html": [
       "<strong>png:</strong> 2"
      ],
      "text/latex": [
       "\\textbf{png:} 2"
      ],
      "text/markdown": [
       "**png:** 2"
      ],
      "text/plain": [
       "png \n",
       "  2 "
      ]
     },
     "metadata": {},
     "output_type": "display_data"
    }
   ],
   "source": [
    "df_results = data.frame(matrix(nrow=length(c_cell_type), ncol=length(c_modifs)))\n",
    "colnames(df_results) = c_modifs\n",
    "rownames(df_results) = c_cell_type\n",
    "df_results[,] = 0\n",
    "for ( str_ct in c_cell_type){\n",
    "    for ( str_mod in c_modifs){\n",
    "        str_path = paste0(\"results/\",str_mod, \"_max_change_\", str_ct,\".txt\")\n",
    "        if (file.info(str_path)$size>3){\n",
    "            df_temp = read.table(str_path)\n",
    "            df_results[str_ct, str_mod] = length(df_temp$x)\n",
    "        }\n",
    "    }\n",
    "}\n",
    "df_results = df_results[,c(\"perc1\", \"perc99\", \"fctRand\", \"fctAbbPos\",  \"fctAbbNeg\", \"decile+5\")]\n",
    "colnames(df_results) = c(\"perc1\", \"perc99\", \"random\", \"aberrant_pos\", \"aberrant_neg\", \"decile+5\")\n",
    "\n",
    "png(\"im/overview_scale_max_change_table.png\", height = 50*nrow(df_results), width = 200*ncol(df_results))\n",
    "grid.table(df_results)\n",
    "dev.off()\n",
    "\n",
    "max_genes = max(df_results)\n",
    "df_results = data.frame(matrix(nrow=length(c_cell_type), ncol=length(c_modifs)))\n",
    "colnames(df_results) = c_modifs\n",
    "rownames(df_results) = c_cell_type\n",
    "df_results[,] = 0\n",
    "for ( str_ct in c_cell_type){\n",
    "    for ( str_mod in c_modifs){\n",
    "        str_path = paste0(\"results/\",str_mod, \"_max_change_\", str_ct,\".txt\")\n",
    "        if (file.info(str_path)$size>3){\n",
    "            df_temp = read.table(str_path)\n",
    "            df_results[str_ct, str_mod] = max_genes - length(df_temp$x)\n",
    "        }\n",
    "    }\n",
    "}\n",
    "df_results = df_results[,c(\"perc1\", \"perc99\", \"fctRand\", \"fctAbbPos\",  \"fctAbbNeg\", \"decile+5\")]\n",
    "colnames(df_results) = c(\"perc1\", \"perc99\", \"random\", \"aberrant_pos\", \"aberrant_neg\", \"decile+5\")\n",
    "png(\"im/overview_scale_max_change_signature_table.png\", height = 50*nrow(df_results), width = 200*ncol(df_results))\n",
    "grid.table(df_results)\n",
    "dev.off()"
   ]
  },
  {
   "cell_type": "code",
   "execution_count": 14,
   "id": "74782ca5",
   "metadata": {},
   "outputs": [
    {
     "data": {
      "text/html": [
       "<table class=\"dataframe\">\n",
       "<caption>A data.frame: 8 × 6</caption>\n",
       "<thead>\n",
       "\t<tr><th></th><th scope=col>perc1</th><th scope=col>perc99</th><th scope=col>random</th><th scope=col>aberrant_pos</th><th scope=col>aberrant_neg</th><th scope=col>decile+5</th></tr>\n",
       "\t<tr><th></th><th scope=col>&lt;dbl&gt;</th><th scope=col>&lt;dbl&gt;</th><th scope=col>&lt;dbl&gt;</th><th scope=col>&lt;dbl&gt;</th><th scope=col>&lt;dbl&gt;</th><th scope=col>&lt;dbl&gt;</th></tr>\n",
       "</thead>\n",
       "<tbody>\n",
       "\t<tr><th scope=row>CD8+ NKT-like cells</th><td>9</td><td>31</td><td> 800</td><td>158</td><td>33</td><td>0</td></tr>\n",
       "\t<tr><th scope=row>Classical Monocytes</th><td>5</td><td>23</td><td>  13</td><td>153</td><td>15</td><td>0</td></tr>\n",
       "\t<tr><th scope=row>Myeloid Dendritic cells</th><td>4</td><td>14</td><td>2844</td><td>136</td><td>33</td><td>0</td></tr>\n",
       "\t<tr><th scope=row>Naive B cells</th><td>3</td><td> 9</td><td>1281</td><td>119</td><td>31</td><td>0</td></tr>\n",
       "\t<tr><th scope=row>Naive CD4+ T cells</th><td>4</td><td>54</td><td>6327</td><td>142</td><td>29</td><td>5</td></tr>\n",
       "\t<tr><th scope=row>Natural killer  cells</th><td>0</td><td>28</td><td> 390</td><td>141</td><td>24</td><td>1</td></tr>\n",
       "\t<tr><th scope=row>Non-classical monocytes</th><td>3</td><td>20</td><td>1789</td><td>147</td><td>34</td><td>0</td></tr>\n",
       "\t<tr><th scope=row>Platelets</th><td>1</td><td>10</td><td>   4</td><td>142</td><td>23</td><td>0</td></tr>\n",
       "</tbody>\n",
       "</table>\n"
      ],
      "text/latex": [
       "A data.frame: 8 × 6\n",
       "\\begin{tabular}{r|llllll}\n",
       "  & perc1 & perc99 & random & aberrant\\_pos & aberrant\\_neg & decile+5\\\\\n",
       "  & <dbl> & <dbl> & <dbl> & <dbl> & <dbl> & <dbl>\\\\\n",
       "\\hline\n",
       "\tCD8+ NKT-like cells & 9 & 31 &  800 & 158 & 33 & 0\\\\\n",
       "\tClassical Monocytes & 5 & 23 &   13 & 153 & 15 & 0\\\\\n",
       "\tMyeloid Dendritic cells & 4 & 14 & 2844 & 136 & 33 & 0\\\\\n",
       "\tNaive B cells & 3 &  9 & 1281 & 119 & 31 & 0\\\\\n",
       "\tNaive CD4+ T cells & 4 & 54 & 6327 & 142 & 29 & 5\\\\\n",
       "\tNatural killer  cells & 0 & 28 &  390 & 141 & 24 & 1\\\\\n",
       "\tNon-classical monocytes & 3 & 20 & 1789 & 147 & 34 & 0\\\\\n",
       "\tPlatelets & 1 & 10 &    4 & 142 & 23 & 0\\\\\n",
       "\\end{tabular}\n"
      ],
      "text/markdown": [
       "\n",
       "A data.frame: 8 × 6\n",
       "\n",
       "| <!--/--> | perc1 &lt;dbl&gt; | perc99 &lt;dbl&gt; | random &lt;dbl&gt; | aberrant_pos &lt;dbl&gt; | aberrant_neg &lt;dbl&gt; | decile+5 &lt;dbl&gt; |\n",
       "|---|---|---|---|---|---|---|\n",
       "| CD8+ NKT-like cells | 9 | 31 |  800 | 158 | 33 | 0 |\n",
       "| Classical Monocytes | 5 | 23 |   13 | 153 | 15 | 0 |\n",
       "| Myeloid Dendritic cells | 4 | 14 | 2844 | 136 | 33 | 0 |\n",
       "| Naive B cells | 3 |  9 | 1281 | 119 | 31 | 0 |\n",
       "| Naive CD4+ T cells | 4 | 54 | 6327 | 142 | 29 | 5 |\n",
       "| Natural killer  cells | 0 | 28 |  390 | 141 | 24 | 1 |\n",
       "| Non-classical monocytes | 3 | 20 | 1789 | 147 | 34 | 0 |\n",
       "| Platelets | 1 | 10 |    4 | 142 | 23 | 0 |\n",
       "\n"
      ],
      "text/plain": [
       "                        perc1 perc99 random aberrant_pos aberrant_neg decile+5\n",
       "CD8+ NKT-like cells     9     31      800   158          33           0       \n",
       "Classical Monocytes     5     23       13   153          15           0       \n",
       "Myeloid Dendritic cells 4     14     2844   136          33           0       \n",
       "Naive B cells           3      9     1281   119          31           0       \n",
       "Naive CD4+ T cells      4     54     6327   142          29           5       \n",
       "Natural killer  cells   0     28      390   141          24           1       \n",
       "Non-classical monocytes 3     20     1789   147          34           0       \n",
       "Platelets               1     10        4   142          23           0       "
      ]
     },
     "metadata": {},
     "output_type": "display_data"
    }
   ],
   "source": [
    "df_results"
   ]
  },
  {
   "cell_type": "code",
   "execution_count": 15,
   "id": "f443a8cc",
   "metadata": {},
   "outputs": [
    {
     "data": {
      "text/html": [
       "<table class=\"dataframe\">\n",
       "<caption>A data.frame: 9 × 7</caption>\n",
       "<thead>\n",
       "\t<tr><th></th><th scope=col>perc1</th><th scope=col>perc99</th><th scope=col>random</th><th scope=col>aberrant_pos</th><th scope=col>aberrant_neg</th><th scope=col>decile+5</th><th scope=col>total</th></tr>\n",
       "\t<tr><th></th><th scope=col>&lt;dbl&gt;</th><th scope=col>&lt;dbl&gt;</th><th scope=col>&lt;dbl&gt;</th><th scope=col>&lt;dbl&gt;</th><th scope=col>&lt;dbl&gt;</th><th scope=col>&lt;dbl&gt;</th><th scope=col>&lt;dbl&gt;</th></tr>\n",
       "</thead>\n",
       "<tbody>\n",
       "\t<tr><th scope=row>CD8+ NKT-like cells</th><td> 9</td><td> 31</td><td>  800</td><td> 158</td><td> 33</td><td>0</td><td> 1031</td></tr>\n",
       "\t<tr><th scope=row>Classical Monocytes</th><td> 5</td><td> 23</td><td>   13</td><td> 153</td><td> 15</td><td>0</td><td>  209</td></tr>\n",
       "\t<tr><th scope=row>Myeloid Dendritic cells</th><td> 4</td><td> 14</td><td> 2844</td><td> 136</td><td> 33</td><td>0</td><td> 3031</td></tr>\n",
       "\t<tr><th scope=row>Naive B cells</th><td> 3</td><td>  9</td><td> 1281</td><td> 119</td><td> 31</td><td>0</td><td> 1443</td></tr>\n",
       "\t<tr><th scope=row>Naive CD4+ T cells</th><td> 4</td><td> 54</td><td> 6327</td><td> 142</td><td> 29</td><td>5</td><td> 6561</td></tr>\n",
       "\t<tr><th scope=row>Natural killer  cells</th><td> 0</td><td> 28</td><td>  390</td><td> 141</td><td> 24</td><td>1</td><td>  584</td></tr>\n",
       "\t<tr><th scope=row>Non-classical monocytes</th><td> 3</td><td> 20</td><td> 1789</td><td> 147</td><td> 34</td><td>0</td><td> 1993</td></tr>\n",
       "\t<tr><th scope=row>Platelets</th><td> 1</td><td> 10</td><td>    4</td><td> 142</td><td> 23</td><td>0</td><td>  180</td></tr>\n",
       "\t<tr><th scope=row>total</th><td>29</td><td>189</td><td>13448</td><td>1138</td><td>222</td><td>6</td><td>15032</td></tr>\n",
       "</tbody>\n",
       "</table>\n"
      ],
      "text/latex": [
       "A data.frame: 9 × 7\n",
       "\\begin{tabular}{r|lllllll}\n",
       "  & perc1 & perc99 & random & aberrant\\_pos & aberrant\\_neg & decile+5 & total\\\\\n",
       "  & <dbl> & <dbl> & <dbl> & <dbl> & <dbl> & <dbl> & <dbl>\\\\\n",
       "\\hline\n",
       "\tCD8+ NKT-like cells &  9 &  31 &   800 &  158 &  33 & 0 &  1031\\\\\n",
       "\tClassical Monocytes &  5 &  23 &    13 &  153 &  15 & 0 &   209\\\\\n",
       "\tMyeloid Dendritic cells &  4 &  14 &  2844 &  136 &  33 & 0 &  3031\\\\\n",
       "\tNaive B cells &  3 &   9 &  1281 &  119 &  31 & 0 &  1443\\\\\n",
       "\tNaive CD4+ T cells &  4 &  54 &  6327 &  142 &  29 & 5 &  6561\\\\\n",
       "\tNatural killer  cells &  0 &  28 &   390 &  141 &  24 & 1 &   584\\\\\n",
       "\tNon-classical monocytes &  3 &  20 &  1789 &  147 &  34 & 0 &  1993\\\\\n",
       "\tPlatelets &  1 &  10 &     4 &  142 &  23 & 0 &   180\\\\\n",
       "\ttotal & 29 & 189 & 13448 & 1138 & 222 & 6 & 15032\\\\\n",
       "\\end{tabular}\n"
      ],
      "text/markdown": [
       "\n",
       "A data.frame: 9 × 7\n",
       "\n",
       "| <!--/--> | perc1 &lt;dbl&gt; | perc99 &lt;dbl&gt; | random &lt;dbl&gt; | aberrant_pos &lt;dbl&gt; | aberrant_neg &lt;dbl&gt; | decile+5 &lt;dbl&gt; | total &lt;dbl&gt; |\n",
       "|---|---|---|---|---|---|---|---|\n",
       "| CD8+ NKT-like cells |  9 |  31 |   800 |  158 |  33 | 0 |  1031 |\n",
       "| Classical Monocytes |  5 |  23 |    13 |  153 |  15 | 0 |   209 |\n",
       "| Myeloid Dendritic cells |  4 |  14 |  2844 |  136 |  33 | 0 |  3031 |\n",
       "| Naive B cells |  3 |   9 |  1281 |  119 |  31 | 0 |  1443 |\n",
       "| Naive CD4+ T cells |  4 |  54 |  6327 |  142 |  29 | 5 |  6561 |\n",
       "| Natural killer  cells |  0 |  28 |   390 |  141 |  24 | 1 |   584 |\n",
       "| Non-classical monocytes |  3 |  20 |  1789 |  147 |  34 | 0 |  1993 |\n",
       "| Platelets |  1 |  10 |     4 |  142 |  23 | 0 |   180 |\n",
       "| total | 29 | 189 | 13448 | 1138 | 222 | 6 | 15032 |\n",
       "\n"
      ],
      "text/plain": [
       "                        perc1 perc99 random aberrant_pos aberrant_neg decile+5\n",
       "CD8+ NKT-like cells      9     31      800   158          33          0       \n",
       "Classical Monocytes      5     23       13   153          15          0       \n",
       "Myeloid Dendritic cells  4     14     2844   136          33          0       \n",
       "Naive B cells            3      9     1281   119          31          0       \n",
       "Naive CD4+ T cells       4     54     6327   142          29          5       \n",
       "Natural killer  cells    0     28      390   141          24          1       \n",
       "Non-classical monocytes  3     20     1789   147          34          0       \n",
       "Platelets                1     10        4   142          23          0       \n",
       "total                   29    189    13448  1138         222          6       \n",
       "                        total\n",
       "CD8+ NKT-like cells      1031\n",
       "Classical Monocytes       209\n",
       "Myeloid Dendritic cells  3031\n",
       "Naive B cells            1443\n",
       "Naive CD4+ T cells       6561\n",
       "Natural killer  cells     584\n",
       "Non-classical monocytes  1993\n",
       "Platelets                 180\n",
       "total                   15032"
      ]
     },
     "metadata": {},
     "output_type": "display_data"
    }
   ],
   "source": [
    "# Add Total columns and rows\n",
    "df_4publi = df_results\n",
    "df_4publi$total = unlist(apply(df_4publi, 1, sum))\n",
    "df_4publi[\"total\", ] = unlist(apply(t(df_4publi), 1, sum))\n",
    "df_4publi"
   ]
  },
  {
   "cell_type": "code",
   "execution_count": null,
   "id": "6f60870e",
   "metadata": {},
   "outputs": [],
   "source": []
  }
 ],
 "metadata": {
  "kernelspec": {
   "display_name": "R",
   "language": "R",
   "name": "ir"
  },
  "language_info": {
   "codemirror_mode": "r",
   "file_extension": ".r",
   "mimetype": "text/x-r-source",
   "name": "R",
   "pygments_lexer": "r",
   "version": "4.3.0"
  }
 },
 "nbformat": 4,
 "nbformat_minor": 5
}
