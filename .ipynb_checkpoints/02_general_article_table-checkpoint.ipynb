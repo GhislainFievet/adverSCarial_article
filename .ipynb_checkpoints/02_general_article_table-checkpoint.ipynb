{
 "cells": [
  {
   "cell_type": "markdown",
   "id": "0a9a867c",
   "metadata": {},
   "source": [
    "# Build png tables of single gene and max change number of attacks from previously computed data"
   ]
  },
  {
   "cell_type": "code",
   "execution_count": 2,
   "id": "87d41340",
   "metadata": {
    "scrolled": true
   },
   "outputs": [
    {
     "name": "stderr",
     "output_type": "stream",
     "text": [
      "\n",
      "Attaching package: ‘gridExtra’\n",
      "\n",
      "\n",
      "The following object is masked from ‘package:dplyr’:\n",
      "\n",
      "    combine\n",
      "\n",
      "\n"
     ]
    },
    {
     "data": {
      "text/html": [
       "<ol>\n",
       "\t<li><style>\n",
       ".list-inline {list-style: none; margin:0; padding: 0}\n",
       ".list-inline>li {display: inline-block}\n",
       ".list-inline>li:not(:last-child)::after {content: \"\\00b7\"; padding: 0 .5ex}\n",
       "</style>\n",
       "<ol class=list-inline><li>'IRdisplay'</li><li>'adverSCarial'</li><li>'HGNChelper'</li><li>'SeuratObject'</li><li>'Seurat'</li><li>'dplyr'</li><li>'stats'</li><li>'graphics'</li><li>'grDevices'</li><li>'utils'</li><li>'datasets'</li><li>'methods'</li><li>'base'</li></ol>\n",
       "</li>\n",
       "\t<li><style>\n",
       ".list-inline {list-style: none; margin:0; padding: 0}\n",
       ".list-inline>li {display: inline-block}\n",
       ".list-inline>li:not(:last-child)::after {content: \"\\00b7\"; padding: 0 .5ex}\n",
       "</style>\n",
       "<ol class=list-inline><li>'IRdisplay'</li><li>'adverSCarial'</li><li>'HGNChelper'</li><li>'SeuratObject'</li><li>'Seurat'</li><li>'dplyr'</li><li>'stats'</li><li>'graphics'</li><li>'grDevices'</li><li>'utils'</li><li>'datasets'</li><li>'methods'</li><li>'base'</li></ol>\n",
       "</li>\n",
       "\t<li><style>\n",
       ".list-inline {list-style: none; margin:0; padding: 0}\n",
       ".list-inline>li {display: inline-block}\n",
       ".list-inline>li:not(:last-child)::after {content: \"\\00b7\"; padding: 0 .5ex}\n",
       "</style>\n",
       "<ol class=list-inline><li>'IRdisplay'</li><li>'adverSCarial'</li><li>'HGNChelper'</li><li>'SeuratObject'</li><li>'Seurat'</li><li>'dplyr'</li><li>'stats'</li><li>'graphics'</li><li>'grDevices'</li><li>'utils'</li><li>'datasets'</li><li>'methods'</li><li>'base'</li></ol>\n",
       "</li>\n",
       "\t<li><style>\n",
       ".list-inline {list-style: none; margin:0; padding: 0}\n",
       ".list-inline>li {display: inline-block}\n",
       ".list-inline>li:not(:last-child)::after {content: \"\\00b7\"; padding: 0 .5ex}\n",
       "</style>\n",
       "<ol class=list-inline><li>'IRdisplay'</li><li>'adverSCarial'</li><li>'HGNChelper'</li><li>'SeuratObject'</li><li>'Seurat'</li><li>'dplyr'</li><li>'stats'</li><li>'graphics'</li><li>'grDevices'</li><li>'utils'</li><li>'datasets'</li><li>'methods'</li><li>'base'</li></ol>\n",
       "</li>\n",
       "\t<li><style>\n",
       ".list-inline {list-style: none; margin:0; padding: 0}\n",
       ".list-inline>li {display: inline-block}\n",
       ".list-inline>li:not(:last-child)::after {content: \"\\00b7\"; padding: 0 .5ex}\n",
       "</style>\n",
       "<ol class=list-inline><li>'IRdisplay'</li><li>'adverSCarial'</li><li>'HGNChelper'</li><li>'SeuratObject'</li><li>'Seurat'</li><li>'dplyr'</li><li>'stats'</li><li>'graphics'</li><li>'grDevices'</li><li>'utils'</li><li>'datasets'</li><li>'methods'</li><li>'base'</li></ol>\n",
       "</li>\n",
       "\t<li><style>\n",
       ".list-inline {list-style: none; margin:0; padding: 0}\n",
       ".list-inline>li {display: inline-block}\n",
       ".list-inline>li:not(:last-child)::after {content: \"\\00b7\"; padding: 0 .5ex}\n",
       "</style>\n",
       "<ol class=list-inline><li>'gridExtra'</li><li>'IRdisplay'</li><li>'adverSCarial'</li><li>'HGNChelper'</li><li>'SeuratObject'</li><li>'Seurat'</li><li>'dplyr'</li><li>'stats'</li><li>'graphics'</li><li>'grDevices'</li><li>'utils'</li><li>'datasets'</li><li>'methods'</li><li>'base'</li></ol>\n",
       "</li>\n",
       "</ol>\n"
      ],
      "text/latex": [
       "\\begin{enumerate}\n",
       "\\item \\begin{enumerate*}\n",
       "\\item 'IRdisplay'\n",
       "\\item 'adverSCarial'\n",
       "\\item 'HGNChelper'\n",
       "\\item 'SeuratObject'\n",
       "\\item 'Seurat'\n",
       "\\item 'dplyr'\n",
       "\\item 'stats'\n",
       "\\item 'graphics'\n",
       "\\item 'grDevices'\n",
       "\\item 'utils'\n",
       "\\item 'datasets'\n",
       "\\item 'methods'\n",
       "\\item 'base'\n",
       "\\end{enumerate*}\n",
       "\n",
       "\\item \\begin{enumerate*}\n",
       "\\item 'IRdisplay'\n",
       "\\item 'adverSCarial'\n",
       "\\item 'HGNChelper'\n",
       "\\item 'SeuratObject'\n",
       "\\item 'Seurat'\n",
       "\\item 'dplyr'\n",
       "\\item 'stats'\n",
       "\\item 'graphics'\n",
       "\\item 'grDevices'\n",
       "\\item 'utils'\n",
       "\\item 'datasets'\n",
       "\\item 'methods'\n",
       "\\item 'base'\n",
       "\\end{enumerate*}\n",
       "\n",
       "\\item \\begin{enumerate*}\n",
       "\\item 'IRdisplay'\n",
       "\\item 'adverSCarial'\n",
       "\\item 'HGNChelper'\n",
       "\\item 'SeuratObject'\n",
       "\\item 'Seurat'\n",
       "\\item 'dplyr'\n",
       "\\item 'stats'\n",
       "\\item 'graphics'\n",
       "\\item 'grDevices'\n",
       "\\item 'utils'\n",
       "\\item 'datasets'\n",
       "\\item 'methods'\n",
       "\\item 'base'\n",
       "\\end{enumerate*}\n",
       "\n",
       "\\item \\begin{enumerate*}\n",
       "\\item 'IRdisplay'\n",
       "\\item 'adverSCarial'\n",
       "\\item 'HGNChelper'\n",
       "\\item 'SeuratObject'\n",
       "\\item 'Seurat'\n",
       "\\item 'dplyr'\n",
       "\\item 'stats'\n",
       "\\item 'graphics'\n",
       "\\item 'grDevices'\n",
       "\\item 'utils'\n",
       "\\item 'datasets'\n",
       "\\item 'methods'\n",
       "\\item 'base'\n",
       "\\end{enumerate*}\n",
       "\n",
       "\\item \\begin{enumerate*}\n",
       "\\item 'IRdisplay'\n",
       "\\item 'adverSCarial'\n",
       "\\item 'HGNChelper'\n",
       "\\item 'SeuratObject'\n",
       "\\item 'Seurat'\n",
       "\\item 'dplyr'\n",
       "\\item 'stats'\n",
       "\\item 'graphics'\n",
       "\\item 'grDevices'\n",
       "\\item 'utils'\n",
       "\\item 'datasets'\n",
       "\\item 'methods'\n",
       "\\item 'base'\n",
       "\\end{enumerate*}\n",
       "\n",
       "\\item \\begin{enumerate*}\n",
       "\\item 'gridExtra'\n",
       "\\item 'IRdisplay'\n",
       "\\item 'adverSCarial'\n",
       "\\item 'HGNChelper'\n",
       "\\item 'SeuratObject'\n",
       "\\item 'Seurat'\n",
       "\\item 'dplyr'\n",
       "\\item 'stats'\n",
       "\\item 'graphics'\n",
       "\\item 'grDevices'\n",
       "\\item 'utils'\n",
       "\\item 'datasets'\n",
       "\\item 'methods'\n",
       "\\item 'base'\n",
       "\\end{enumerate*}\n",
       "\n",
       "\\end{enumerate}\n"
      ],
      "text/markdown": [
       "1. 1. 'IRdisplay'\n",
       "2. 'adverSCarial'\n",
       "3. 'HGNChelper'\n",
       "4. 'SeuratObject'\n",
       "5. 'Seurat'\n",
       "6. 'dplyr'\n",
       "7. 'stats'\n",
       "8. 'graphics'\n",
       "9. 'grDevices'\n",
       "10. 'utils'\n",
       "11. 'datasets'\n",
       "12. 'methods'\n",
       "13. 'base'\n",
       "\n",
       "\n",
       "\n",
       "2. 1. 'IRdisplay'\n",
       "2. 'adverSCarial'\n",
       "3. 'HGNChelper'\n",
       "4. 'SeuratObject'\n",
       "5. 'Seurat'\n",
       "6. 'dplyr'\n",
       "7. 'stats'\n",
       "8. 'graphics'\n",
       "9. 'grDevices'\n",
       "10. 'utils'\n",
       "11. 'datasets'\n",
       "12. 'methods'\n",
       "13. 'base'\n",
       "\n",
       "\n",
       "\n",
       "3. 1. 'IRdisplay'\n",
       "2. 'adverSCarial'\n",
       "3. 'HGNChelper'\n",
       "4. 'SeuratObject'\n",
       "5. 'Seurat'\n",
       "6. 'dplyr'\n",
       "7. 'stats'\n",
       "8. 'graphics'\n",
       "9. 'grDevices'\n",
       "10. 'utils'\n",
       "11. 'datasets'\n",
       "12. 'methods'\n",
       "13. 'base'\n",
       "\n",
       "\n",
       "\n",
       "4. 1. 'IRdisplay'\n",
       "2. 'adverSCarial'\n",
       "3. 'HGNChelper'\n",
       "4. 'SeuratObject'\n",
       "5. 'Seurat'\n",
       "6. 'dplyr'\n",
       "7. 'stats'\n",
       "8. 'graphics'\n",
       "9. 'grDevices'\n",
       "10. 'utils'\n",
       "11. 'datasets'\n",
       "12. 'methods'\n",
       "13. 'base'\n",
       "\n",
       "\n",
       "\n",
       "5. 1. 'IRdisplay'\n",
       "2. 'adverSCarial'\n",
       "3. 'HGNChelper'\n",
       "4. 'SeuratObject'\n",
       "5. 'Seurat'\n",
       "6. 'dplyr'\n",
       "7. 'stats'\n",
       "8. 'graphics'\n",
       "9. 'grDevices'\n",
       "10. 'utils'\n",
       "11. 'datasets'\n",
       "12. 'methods'\n",
       "13. 'base'\n",
       "\n",
       "\n",
       "\n",
       "6. 1. 'gridExtra'\n",
       "2. 'IRdisplay'\n",
       "3. 'adverSCarial'\n",
       "4. 'HGNChelper'\n",
       "5. 'SeuratObject'\n",
       "6. 'Seurat'\n",
       "7. 'dplyr'\n",
       "8. 'stats'\n",
       "9. 'graphics'\n",
       "10. 'grDevices'\n",
       "11. 'utils'\n",
       "12. 'datasets'\n",
       "13. 'methods'\n",
       "14. 'base'\n",
       "\n",
       "\n",
       "\n",
       "\n",
       "\n"
      ],
      "text/plain": [
       "[[1]]\n",
       " [1] \"IRdisplay\"    \"adverSCarial\" \"HGNChelper\"   \"SeuratObject\" \"Seurat\"      \n",
       " [6] \"dplyr\"        \"stats\"        \"graphics\"     \"grDevices\"    \"utils\"       \n",
       "[11] \"datasets\"     \"methods\"      \"base\"        \n",
       "\n",
       "[[2]]\n",
       " [1] \"IRdisplay\"    \"adverSCarial\" \"HGNChelper\"   \"SeuratObject\" \"Seurat\"      \n",
       " [6] \"dplyr\"        \"stats\"        \"graphics\"     \"grDevices\"    \"utils\"       \n",
       "[11] \"datasets\"     \"methods\"      \"base\"        \n",
       "\n",
       "[[3]]\n",
       " [1] \"IRdisplay\"    \"adverSCarial\" \"HGNChelper\"   \"SeuratObject\" \"Seurat\"      \n",
       " [6] \"dplyr\"        \"stats\"        \"graphics\"     \"grDevices\"    \"utils\"       \n",
       "[11] \"datasets\"     \"methods\"      \"base\"        \n",
       "\n",
       "[[4]]\n",
       " [1] \"IRdisplay\"    \"adverSCarial\" \"HGNChelper\"   \"SeuratObject\" \"Seurat\"      \n",
       " [6] \"dplyr\"        \"stats\"        \"graphics\"     \"grDevices\"    \"utils\"       \n",
       "[11] \"datasets\"     \"methods\"      \"base\"        \n",
       "\n",
       "[[5]]\n",
       " [1] \"IRdisplay\"    \"adverSCarial\" \"HGNChelper\"   \"SeuratObject\" \"Seurat\"      \n",
       " [6] \"dplyr\"        \"stats\"        \"graphics\"     \"grDevices\"    \"utils\"       \n",
       "[11] \"datasets\"     \"methods\"      \"base\"        \n",
       "\n",
       "[[6]]\n",
       " [1] \"gridExtra\"    \"IRdisplay\"    \"adverSCarial\" \"HGNChelper\"   \"SeuratObject\"\n",
       " [6] \"Seurat\"       \"dplyr\"        \"stats\"        \"graphics\"     \"grDevices\"   \n",
       "[11] \"utils\"        \"datasets\"     \"methods\"      \"base\"        \n"
      ]
     },
     "metadata": {},
     "output_type": "display_data"
    }
   ],
   "source": [
    "lapply(c(\"dplyr\",\"Seurat\",\"HGNChelper\", \"adverSCarial\", \"IRdisplay\",\"gridExtra\"), library, character.only = T)"
   ]
  },
  {
   "cell_type": "code",
   "execution_count": 5,
   "id": "22ab7f6f",
   "metadata": {},
   "outputs": [
    {
     "data": {
      "text/html": [
       "<style>\n",
       ".list-inline {list-style: none; margin:0; padding: 0}\n",
       ".list-inline>li {display: inline-block}\n",
       ".list-inline>li:not(:last-child)::after {content: \"\\00b7\"; padding: 0 .5ex}\n",
       "</style>\n",
       "<ol class=list-inline><li>'fctAbbNeg'</li><li>'fctAbbPos'</li><li>'fctRand'</li><li>'perc1'</li><li>'perc99'</li></ol>\n"
      ],
      "text/latex": [
       "\\begin{enumerate*}\n",
       "\\item 'fctAbbNeg'\n",
       "\\item 'fctAbbPos'\n",
       "\\item 'fctRand'\n",
       "\\item 'perc1'\n",
       "\\item 'perc99'\n",
       "\\end{enumerate*}\n"
      ],
      "text/markdown": [
       "1. 'fctAbbNeg'\n",
       "2. 'fctAbbPos'\n",
       "3. 'fctRand'\n",
       "4. 'perc1'\n",
       "5. 'perc99'\n",
       "\n",
       "\n"
      ],
      "text/plain": [
       "[1] \"fctAbbNeg\" \"fctAbbPos\" \"fctRand\"   \"perc1\"     \"perc99\"   "
      ]
     },
     "metadata": {},
     "output_type": "display_data"
    }
   ],
   "source": [
    "c_modifs = unique(unlist(lapply(list.files(\"results\"), function(x){\n",
    "    unlist(strsplit(x,\"_\"))[1]\n",
    "})))\n",
    "c_modifs"
   ]
  },
  {
   "cell_type": "code",
   "execution_count": 7,
   "id": "95c81e02",
   "metadata": {},
   "outputs": [
    {
     "data": {
      "text/html": [
       "<style>\n",
       ".list-inline {list-style: none; margin:0; padding: 0}\n",
       ".list-inline>li {display: inline-block}\n",
       ".list-inline>li:not(:last-child)::after {content: \"\\00b7\"; padding: 0 .5ex}\n",
       "</style>\n",
       "<ol class=list-inline><li>'CD8+ NKT-like cells'</li><li>'Classical Monocytes'</li><li>'Myeloid Dendritic cells'</li><li>'Naive B cells'</li><li>'Naive CD4+ T cells'</li><li><span style=white-space:pre-wrap>'Natural killer  cells'</span></li><li>'Non-classical monocytes'</li><li>'Platelets'</li></ol>\n"
      ],
      "text/latex": [
       "\\begin{enumerate*}\n",
       "\\item 'CD8+ NKT-like cells'\n",
       "\\item 'Classical Monocytes'\n",
       "\\item 'Myeloid Dendritic cells'\n",
       "\\item 'Naive B cells'\n",
       "\\item 'Naive CD4+ T cells'\n",
       "\\item 'Natural killer  cells'\n",
       "\\item 'Non-classical monocytes'\n",
       "\\item 'Platelets'\n",
       "\\end{enumerate*}\n"
      ],
      "text/markdown": [
       "1. 'CD8+ NKT-like cells'\n",
       "2. 'Classical Monocytes'\n",
       "3. 'Myeloid Dendritic cells'\n",
       "4. 'Naive B cells'\n",
       "5. 'Naive CD4+ T cells'\n",
       "6. <span style=white-space:pre-wrap>'Natural killer  cells'</span>\n",
       "7. 'Non-classical monocytes'\n",
       "8. 'Platelets'\n",
       "\n",
       "\n"
      ],
      "text/plain": [
       "[1] \"CD8+ NKT-like cells\"     \"Classical Monocytes\"    \n",
       "[3] \"Myeloid Dendritic cells\" \"Naive B cells\"          \n",
       "[5] \"Naive CD4+ T cells\"      \"Natural killer  cells\"  \n",
       "[7] \"Non-classical monocytes\" \"Platelets\"              "
      ]
     },
     "metadata": {},
     "output_type": "display_data"
    }
   ],
   "source": [
    "c_cell_type = unique(unlist(lapply(list.files(\"results\"), function(x){\n",
    "    temp_str = unlist(strsplit(x,\"_\"))[4]\n",
    "    unlist(strsplit(temp_str,\"\\\\.\"))[1]\n",
    "})))\n",
    "c_cell_type"
   ]
  },
  {
   "cell_type": "code",
   "execution_count": 10,
   "id": "0d36531b",
   "metadata": {},
   "outputs": [],
   "source": []
  },
  {
   "cell_type": "markdown",
   "id": "1464806e",
   "metadata": {},
   "source": [
    "## Table of single gene attacks"
   ]
  },
  {
   "cell_type": "code",
   "execution_count": 43,
   "id": "92681198",
   "metadata": {},
   "outputs": [
    {
     "data": {
      "text/html": [
       "<strong>png:</strong> 2"
      ],
      "text/latex": [
       "\\textbf{png:} 2"
      ],
      "text/markdown": [
       "**png:** 2"
      ],
      "text/plain": [
       "png \n",
       "  2 "
      ]
     },
     "metadata": {},
     "output_type": "display_data"
    }
   ],
   "source": [
    "df_results = data.frame(matrix(nrow=length(c_cell_type), ncol=length(c_modifs)))\n",
    "colnames(df_results) = c_modifs\n",
    "rownames(df_results) = c_cell_type\n",
    "df_results[,] = 0\n",
    "for ( str_ct in c_cell_type){\n",
    "    for ( str_mod in c_modifs){\n",
    "        str_path = paste0(\"results/\",str_mod, \"_min_change_\", str_ct,\".txt\")\n",
    "        if (file.info(str_path)$size>3){\n",
    "            df_temp = read.table(str_path)\n",
    "            df_results[str_ct, str_mod] = length(df_temp$genes)\n",
    "        }\n",
    "    }\n",
    "}\n",
    "\n",
    "df_results = df_results[,c(\"perc1\", \"perc99\", \"fctRand\", \"fctAbbPos\",  \"fctAbbNeg\")]\n",
    "colnames(df_results) = c(\"perc1\", \"perc99\", \"random\", \"aberrant_pos\", \"aberrant_neg\")\n",
    "\n",
    "png(\"im/overview_scale_min_change_table.png\", height = 50*nrow(df_results), width = 200*ncol(df_results))\n",
    "grid.table(df_results)\n",
    "dev.off()"
   ]
  },
  {
   "cell_type": "code",
   "execution_count": 44,
   "id": "997e6a71",
   "metadata": {},
   "outputs": [
    {
     "data": {
      "text/html": [
       "<table class=\"dataframe\">\n",
       "<caption>A data.frame: 8 × 5</caption>\n",
       "<thead>\n",
       "\t<tr><th></th><th scope=col>perc1</th><th scope=col>perc99</th><th scope=col>random</th><th scope=col>aberrant_pos</th><th scope=col>aberrant_neg</th></tr>\n",
       "\t<tr><th></th><th scope=col>&lt;dbl&gt;</th><th scope=col>&lt;dbl&gt;</th><th scope=col>&lt;dbl&gt;</th><th scope=col>&lt;dbl&gt;</th><th scope=col>&lt;dbl&gt;</th></tr>\n",
       "</thead>\n",
       "<tbody>\n",
       "\t<tr><th scope=row>CD8+ NKT-like cells</th><td>5</td><td>23</td><td>27</td><td>158</td><td>33</td></tr>\n",
       "\t<tr><th scope=row>Classical Monocytes</th><td>0</td><td>11</td><td> 6</td><td>152</td><td>30</td></tr>\n",
       "\t<tr><th scope=row>Myeloid Dendritic cells</th><td>1</td><td> 2</td><td> 3</td><td>145</td><td>34</td></tr>\n",
       "\t<tr><th scope=row>Naive B cells</th><td>1</td><td> 9</td><td> 5</td><td>151</td><td>33</td></tr>\n",
       "\t<tr><th scope=row>Naive CD4+ T cells</th><td>1</td><td>40</td><td>47</td><td>149</td><td>29</td></tr>\n",
       "\t<tr><th scope=row>Natural killer  cells</th><td>0</td><td> 5</td><td> 2</td><td>144</td><td>27</td></tr>\n",
       "\t<tr><th scope=row>Non-classical monocytes</th><td>0</td><td> 5</td><td> 1</td><td>154</td><td>34</td></tr>\n",
       "\t<tr><th scope=row>Platelets</th><td>0</td><td> 0</td><td> 0</td><td>155</td><td>26</td></tr>\n",
       "</tbody>\n",
       "</table>\n"
      ],
      "text/latex": [
       "A data.frame: 8 × 5\n",
       "\\begin{tabular}{r|lllll}\n",
       "  & perc1 & perc99 & random & aberrant\\_pos & aberrant\\_neg\\\\\n",
       "  & <dbl> & <dbl> & <dbl> & <dbl> & <dbl>\\\\\n",
       "\\hline\n",
       "\tCD8+ NKT-like cells & 5 & 23 & 27 & 158 & 33\\\\\n",
       "\tClassical Monocytes & 0 & 11 &  6 & 152 & 30\\\\\n",
       "\tMyeloid Dendritic cells & 1 &  2 &  3 & 145 & 34\\\\\n",
       "\tNaive B cells & 1 &  9 &  5 & 151 & 33\\\\\n",
       "\tNaive CD4+ T cells & 1 & 40 & 47 & 149 & 29\\\\\n",
       "\tNatural killer  cells & 0 &  5 &  2 & 144 & 27\\\\\n",
       "\tNon-classical monocytes & 0 &  5 &  1 & 154 & 34\\\\\n",
       "\tPlatelets & 0 &  0 &  0 & 155 & 26\\\\\n",
       "\\end{tabular}\n"
      ],
      "text/markdown": [
       "\n",
       "A data.frame: 8 × 5\n",
       "\n",
       "| <!--/--> | perc1 &lt;dbl&gt; | perc99 &lt;dbl&gt; | random &lt;dbl&gt; | aberrant_pos &lt;dbl&gt; | aberrant_neg &lt;dbl&gt; |\n",
       "|---|---|---|---|---|---|\n",
       "| CD8+ NKT-like cells | 5 | 23 | 27 | 158 | 33 |\n",
       "| Classical Monocytes | 0 | 11 |  6 | 152 | 30 |\n",
       "| Myeloid Dendritic cells | 1 |  2 |  3 | 145 | 34 |\n",
       "| Naive B cells | 1 |  9 |  5 | 151 | 33 |\n",
       "| Naive CD4+ T cells | 1 | 40 | 47 | 149 | 29 |\n",
       "| Natural killer  cells | 0 |  5 |  2 | 144 | 27 |\n",
       "| Non-classical monocytes | 0 |  5 |  1 | 154 | 34 |\n",
       "| Platelets | 0 |  0 |  0 | 155 | 26 |\n",
       "\n"
      ],
      "text/plain": [
       "                        perc1 perc99 random aberrant_pos aberrant_neg\n",
       "CD8+ NKT-like cells     5     23     27     158          33          \n",
       "Classical Monocytes     0     11      6     152          30          \n",
       "Myeloid Dendritic cells 1      2      3     145          34          \n",
       "Naive B cells           1      9      5     151          33          \n",
       "Naive CD4+ T cells      1     40     47     149          29          \n",
       "Natural killer  cells   0      5      2     144          27          \n",
       "Non-classical monocytes 0      5      1     154          34          \n",
       "Platelets               0      0      0     155          26          "
      ]
     },
     "metadata": {},
     "output_type": "display_data"
    }
   ],
   "source": [
    "df_results"
   ]
  },
  {
   "cell_type": "code",
   "execution_count": 45,
   "id": "0929cd63",
   "metadata": {},
   "outputs": [
    {
     "data": {
      "text/html": [
       "151"
      ],
      "text/latex": [
       "151"
      ],
      "text/markdown": [
       "151"
      ],
      "text/plain": [
       "[1] 151"
      ]
     },
     "metadata": {},
     "output_type": "display_data"
    }
   ],
   "source": [
    "mean(df_results$aberrant_pos)"
   ]
  },
  {
   "cell_type": "code",
   "execution_count": 46,
   "id": "2e679b0f",
   "metadata": {},
   "outputs": [
    {
     "data": {
      "text/html": [
       "30.75"
      ],
      "text/latex": [
       "30.75"
      ],
      "text/markdown": [
       "30.75"
      ],
      "text/plain": [
       "[1] 30.75"
      ]
     },
     "metadata": {},
     "output_type": "display_data"
    }
   ],
   "source": [
    "mean(df_results$aberrant_neg)"
   ]
  },
  {
   "cell_type": "code",
   "execution_count": 37,
   "id": "e160c985",
   "metadata": {},
   "outputs": [
    {
     "data": {
      "text/html": [
       "1"
      ],
      "text/latex": [
       "1"
      ],
      "text/markdown": [
       "1"
      ],
      "text/plain": [
       "[1] 1"
      ]
     },
     "metadata": {},
     "output_type": "display_data"
    }
   ],
   "source": [
    "mean(df_results$perc1)"
   ]
  },
  {
   "cell_type": "code",
   "execution_count": 38,
   "id": "ac0dde2d",
   "metadata": {},
   "outputs": [
    {
     "data": {
      "text/html": [
       "11.875"
      ],
      "text/latex": [
       "11.875"
      ],
      "text/markdown": [
       "11.875"
      ],
      "text/plain": [
       "[1] 11.875"
      ]
     },
     "metadata": {},
     "output_type": "display_data"
    }
   ],
   "source": [
    "mean(df_results$perc99)"
   ]
  },
  {
   "cell_type": "code",
   "execution_count": 39,
   "id": "83671b29",
   "metadata": {},
   "outputs": [
    {
     "data": {
      "text/html": [
       "11.375"
      ],
      "text/latex": [
       "11.375"
      ],
      "text/markdown": [
       "11.375"
      ],
      "text/plain": [
       "[1] 11.375"
      ]
     },
     "metadata": {},
     "output_type": "display_data"
    }
   ],
   "source": [
    "mean(df_results$fctRand)"
   ]
  },
  {
   "cell_type": "code",
   "execution_count": 36,
   "id": "e120611a",
   "metadata": {},
   "outputs": [
    {
     "data": {
      "text/html": [
       "158"
      ],
      "text/latex": [
       "158"
      ],
      "text/markdown": [
       "158"
      ],
      "text/plain": [
       "[1] 158"
      ]
     },
     "metadata": {},
     "output_type": "display_data"
    }
   ],
   "source": [
    "max(df_results)"
   ]
  },
  {
   "cell_type": "markdown",
   "id": "2db4598b",
   "metadata": {},
   "source": [
    "## Tables of max change and signature of max change attacks"
   ]
  },
  {
   "cell_type": "code",
   "execution_count": 41,
   "id": "25d2e110",
   "metadata": {},
   "outputs": [
    {
     "data": {
      "text/html": [
       "<strong>png:</strong> 2"
      ],
      "text/latex": [
       "\\textbf{png:} 2"
      ],
      "text/markdown": [
       "**png:** 2"
      ],
      "text/plain": [
       "png \n",
       "  2 "
      ]
     },
     "metadata": {},
     "output_type": "display_data"
    },
    {
     "data": {
      "text/html": [
       "<strong>png:</strong> 2"
      ],
      "text/latex": [
       "\\textbf{png:} 2"
      ],
      "text/markdown": [
       "**png:** 2"
      ],
      "text/plain": [
       "png \n",
       "  2 "
      ]
     },
     "metadata": {},
     "output_type": "display_data"
    }
   ],
   "source": [
    "df_results = data.frame(matrix(nrow=length(c_cell_type), ncol=length(c_modifs)))\n",
    "colnames(df_results) = c_modifs\n",
    "rownames(df_results) = c_cell_type\n",
    "df_results[,] = 0\n",
    "for ( str_ct in c_cell_type){\n",
    "    for ( str_mod in c_modifs){\n",
    "        str_path = paste0(\"results/\",str_mod, \"_max_change_\", str_ct,\".txt\")\n",
    "        if (file.info(str_path)$size>3){\n",
    "            df_temp = read.table(str_path)\n",
    "            df_results[str_ct, str_mod] = length(df_temp$x)\n",
    "        }\n",
    "    }\n",
    "}\n",
    "df_results = df_results[,c(\"perc1\", \"perc99\", \"fctRand\", \"fctAbbPos\",  \"fctAbbNeg\")]\n",
    "colnames(df_results) = c(\"perc1\", \"perc99\", \"random\", \"aberrant_pos\", \"aberrant_neg\")\n",
    "\n",
    "png(\"im/overview_scale_max_change_table.png\", height = 50*nrow(df_results), width = 200*ncol(df_results))\n",
    "grid.table(df_results)\n",
    "dev.off()\n",
    "\n",
    "max_genes = max(df_results)\n",
    "df_results = data.frame(matrix(nrow=length(c_cell_type), ncol=length(c_modifs)))\n",
    "colnames(df_results) = c_modifs\n",
    "rownames(df_results) = c_cell_type\n",
    "df_results[,] = 0\n",
    "for ( str_ct in c_cell_type){\n",
    "    for ( str_mod in c_modifs){\n",
    "        str_path = paste0(\"results/\",str_mod, \"_max_change_\", str_ct,\".txt\")\n",
    "        if (file.info(str_path)$size>3){\n",
    "            df_temp = read.table(str_path)\n",
    "            df_results[str_ct, str_mod] = max_genes - length(df_temp$x)\n",
    "        }\n",
    "    }\n",
    "}\n",
    "df_results = df_results[,c(\"perc1\", \"perc99\", \"fctRand\", \"fctAbbPos\",  \"fctAbbNeg\")]\n",
    "colnames(df_results) = c(\"perc1\", \"perc99\", \"random\", \"aberrant_pos\", \"aberrant_neg\")\n",
    "png(\"im/overview_scale_max_change_signature_table.png\", height = 50*nrow(df_results), width = 200*ncol(df_results))\n",
    "grid.table(df_results)\n",
    "dev.off()"
   ]
  },
  {
   "cell_type": "code",
   "execution_count": 42,
   "id": "74782ca5",
   "metadata": {},
   "outputs": [
    {
     "data": {
      "text/html": [
       "<table class=\"dataframe\">\n",
       "<caption>A data.frame: 8 × 5</caption>\n",
       "<thead>\n",
       "\t<tr><th></th><th scope=col>perc1</th><th scope=col>perc99</th><th scope=col>random</th><th scope=col>aberrant_pos</th><th scope=col>aberrant_neg</th></tr>\n",
       "\t<tr><th></th><th scope=col>&lt;dbl&gt;</th><th scope=col>&lt;dbl&gt;</th><th scope=col>&lt;dbl&gt;</th><th scope=col>&lt;dbl&gt;</th><th scope=col>&lt;dbl&gt;</th></tr>\n",
       "</thead>\n",
       "<tbody>\n",
       "\t<tr><th scope=row>CD8+ NKT-like cells</th><td>9</td><td>31</td><td> 800</td><td>158</td><td>33</td></tr>\n",
       "\t<tr><th scope=row>Classical Monocytes</th><td>5</td><td>23</td><td>  13</td><td>153</td><td>15</td></tr>\n",
       "\t<tr><th scope=row>Myeloid Dendritic cells</th><td>4</td><td>14</td><td>2844</td><td>136</td><td>33</td></tr>\n",
       "\t<tr><th scope=row>Naive B cells</th><td>3</td><td> 9</td><td>1281</td><td>119</td><td>31</td></tr>\n",
       "\t<tr><th scope=row>Naive CD4+ T cells</th><td>4</td><td>54</td><td>6327</td><td>142</td><td>29</td></tr>\n",
       "\t<tr><th scope=row>Natural killer  cells</th><td>0</td><td>28</td><td> 390</td><td>141</td><td>24</td></tr>\n",
       "\t<tr><th scope=row>Non-classical monocytes</th><td>3</td><td>20</td><td>1789</td><td>147</td><td>34</td></tr>\n",
       "\t<tr><th scope=row>Platelets</th><td>1</td><td>10</td><td>   4</td><td>142</td><td>23</td></tr>\n",
       "</tbody>\n",
       "</table>\n"
      ],
      "text/latex": [
       "A data.frame: 8 × 5\n",
       "\\begin{tabular}{r|lllll}\n",
       "  & perc1 & perc99 & random & aberrant\\_pos & aberrant\\_neg\\\\\n",
       "  & <dbl> & <dbl> & <dbl> & <dbl> & <dbl>\\\\\n",
       "\\hline\n",
       "\tCD8+ NKT-like cells & 9 & 31 &  800 & 158 & 33\\\\\n",
       "\tClassical Monocytes & 5 & 23 &   13 & 153 & 15\\\\\n",
       "\tMyeloid Dendritic cells & 4 & 14 & 2844 & 136 & 33\\\\\n",
       "\tNaive B cells & 3 &  9 & 1281 & 119 & 31\\\\\n",
       "\tNaive CD4+ T cells & 4 & 54 & 6327 & 142 & 29\\\\\n",
       "\tNatural killer  cells & 0 & 28 &  390 & 141 & 24\\\\\n",
       "\tNon-classical monocytes & 3 & 20 & 1789 & 147 & 34\\\\\n",
       "\tPlatelets & 1 & 10 &    4 & 142 & 23\\\\\n",
       "\\end{tabular}\n"
      ],
      "text/markdown": [
       "\n",
       "A data.frame: 8 × 5\n",
       "\n",
       "| <!--/--> | perc1 &lt;dbl&gt; | perc99 &lt;dbl&gt; | random &lt;dbl&gt; | aberrant_pos &lt;dbl&gt; | aberrant_neg &lt;dbl&gt; |\n",
       "|---|---|---|---|---|---|\n",
       "| CD8+ NKT-like cells | 9 | 31 |  800 | 158 | 33 |\n",
       "| Classical Monocytes | 5 | 23 |   13 | 153 | 15 |\n",
       "| Myeloid Dendritic cells | 4 | 14 | 2844 | 136 | 33 |\n",
       "| Naive B cells | 3 |  9 | 1281 | 119 | 31 |\n",
       "| Naive CD4+ T cells | 4 | 54 | 6327 | 142 | 29 |\n",
       "| Natural killer  cells | 0 | 28 |  390 | 141 | 24 |\n",
       "| Non-classical monocytes | 3 | 20 | 1789 | 147 | 34 |\n",
       "| Platelets | 1 | 10 |    4 | 142 | 23 |\n",
       "\n"
      ],
      "text/plain": [
       "                        perc1 perc99 random aberrant_pos aberrant_neg\n",
       "CD8+ NKT-like cells     9     31      800   158          33          \n",
       "Classical Monocytes     5     23       13   153          15          \n",
       "Myeloid Dendritic cells 4     14     2844   136          33          \n",
       "Naive B cells           3      9     1281   119          31          \n",
       "Naive CD4+ T cells      4     54     6327   142          29          \n",
       "Natural killer  cells   0     28      390   141          24          \n",
       "Non-classical monocytes 3     20     1789   147          34          \n",
       "Platelets               1     10        4   142          23          "
      ]
     },
     "metadata": {},
     "output_type": "display_data"
    }
   ],
   "source": [
    "df_results"
   ]
  },
  {
   "cell_type": "code",
   "execution_count": null,
   "id": "f443a8cc",
   "metadata": {},
   "outputs": [],
   "source": []
  }
 ],
 "metadata": {
  "kernelspec": {
   "display_name": "R",
   "language": "R",
   "name": "ir"
  },
  "language_info": {
   "codemirror_mode": "r",
   "file_extension": ".r",
   "mimetype": "text/x-r-source",
   "name": "R",
   "pygments_lexer": "r",
   "version": "4.3.0"
  }
 },
 "nbformat": 4,
 "nbformat_minor": 5
}
