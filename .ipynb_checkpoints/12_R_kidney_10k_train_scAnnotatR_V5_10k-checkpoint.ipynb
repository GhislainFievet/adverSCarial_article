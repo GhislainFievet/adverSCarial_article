{
 "cells": [
  {
   "cell_type": "markdown",
   "id": "0531c3da",
   "metadata": {},
   "source": [
    "# Attack on scAnnotatR on kidney 10k cells dataset\n",
    "\n",
    "- How to train a scAnnotatR classifier\n",
    "- How to format the classifier to use it with adverSCarial\n",
    "- How to run an IGD4C attack\n",
    "\n",
    "Nguyen, V., Griss, J. scAnnotatR: framework to accurately classify cell types in single-cell RNA-sequencing data. BMC Bioinformatics, 2022. 23(44) https://doi.org/10.1186/s12859-022-04574-5 "
   ]
  },
  {
   "cell_type": "code",
   "execution_count": 1,
   "id": "1f739233",
   "metadata": {
    "execution": {
     "iopub.execute_input": "2024-10-09T18:51:27.894190Z",
     "iopub.status.busy": "2024-10-09T18:51:27.892141Z",
     "iopub.status.idle": "2024-10-09T18:51:40.937299Z",
     "shell.execute_reply": "2024-10-09T18:51:40.935552Z"
    },
    "vscode": {
     "languageId": "r"
    }
   },
   "outputs": [
    {
     "name": "stderr",
     "output_type": "stream",
     "text": [
      "Loading required package: Seurat\n",
      "\n",
      "Loading required package: SeuratObject\n",
      "\n",
      "Loading required package: sp\n",
      "\n",
      "The legacy packages maptools, rgdal, and rgeos, underpinning the sp package,\n",
      "which was just loaded, will retire in October 2023.\n",
      "Please refer to R-spatial evolution reports for details, especially\n",
      "https://r-spatial.org/r/2023/05/15/evolution4.html.\n",
      "It may be desirable to make the sf package available;\n",
      "package maintainers should consider adding sf to Suggests:.\n",
      "The sp package is now running under evolution status 2\n",
      "     (status 2 uses the sf package in place of rgdal)\n",
      "\n",
      "\n",
      "Attaching package: ‘SeuratObject’\n",
      "\n",
      "\n",
      "The following objects are masked from ‘package:base’:\n",
      "\n",
      "    intersect, t\n",
      "\n",
      "\n",
      "Loading required package: SingleCellExperiment\n",
      "\n",
      "Loading required package: SummarizedExperiment\n",
      "\n",
      "Loading required package: MatrixGenerics\n",
      "\n",
      "Loading required package: matrixStats\n",
      "\n",
      "\n",
      "Attaching package: ‘MatrixGenerics’\n",
      "\n",
      "\n",
      "The following objects are masked from ‘package:matrixStats’:\n",
      "\n",
      "    colAlls, colAnyNAs, colAnys, colAvgsPerRowSet, colCollapse,\n",
      "    colCounts, colCummaxs, colCummins, colCumprods, colCumsums,\n",
      "    colDiffs, colIQRDiffs, colIQRs, colLogSumExps, colMadDiffs,\n",
      "    colMads, colMaxs, colMeans2, colMedians, colMins, colOrderStats,\n",
      "    colProds, colQuantiles, colRanges, colRanks, colSdDiffs, colSds,\n",
      "    colSums2, colTabulates, colVarDiffs, colVars, colWeightedMads,\n",
      "    colWeightedMeans, colWeightedMedians, colWeightedSds,\n",
      "    colWeightedVars, rowAlls, rowAnyNAs, rowAnys, rowAvgsPerColSet,\n",
      "    rowCollapse, rowCounts, rowCummaxs, rowCummins, rowCumprods,\n",
      "    rowCumsums, rowDiffs, rowIQRDiffs, rowIQRs, rowLogSumExps,\n",
      "    rowMadDiffs, rowMads, rowMaxs, rowMeans2, rowMedians, rowMins,\n",
      "    rowOrderStats, rowProds, rowQuantiles, rowRanges, rowRanks,\n",
      "    rowSdDiffs, rowSds, rowSums2, rowTabulates, rowVarDiffs, rowVars,\n",
      "    rowWeightedMads, rowWeightedMeans, rowWeightedMedians,\n",
      "    rowWeightedSds, rowWeightedVars\n",
      "\n",
      "\n",
      "Loading required package: GenomicRanges\n",
      "\n",
      "Loading required package: stats4\n",
      "\n",
      "Loading required package: BiocGenerics\n",
      "\n",
      "\n",
      "Attaching package: ‘BiocGenerics’\n",
      "\n",
      "\n",
      "The following object is masked from ‘package:SeuratObject’:\n",
      "\n",
      "    intersect\n",
      "\n",
      "\n",
      "The following objects are masked from ‘package:stats’:\n",
      "\n",
      "    IQR, mad, sd, var, xtabs\n",
      "\n",
      "\n",
      "The following objects are masked from ‘package:base’:\n",
      "\n",
      "    anyDuplicated, aperm, append, as.data.frame, basename, cbind,\n",
      "    colnames, dirname, do.call, duplicated, eval, evalq, Filter, Find,\n",
      "    get, grep, grepl, intersect, is.unsorted, lapply, Map, mapply,\n",
      "    match, mget, order, paste, pmax, pmax.int, pmin, pmin.int,\n",
      "    Position, rank, rbind, Reduce, rownames, sapply, setdiff, sort,\n",
      "    table, tapply, union, unique, unsplit, which.max, which.min\n",
      "\n",
      "\n",
      "Loading required package: S4Vectors\n",
      "\n",
      "\n",
      "Attaching package: ‘S4Vectors’\n",
      "\n",
      "\n",
      "The following object is masked from ‘package:utils’:\n",
      "\n",
      "    findMatches\n",
      "\n",
      "\n",
      "The following objects are masked from ‘package:base’:\n",
      "\n",
      "    expand.grid, I, unname\n",
      "\n",
      "\n",
      "Loading required package: IRanges\n",
      "\n",
      "\n",
      "Attaching package: ‘IRanges’\n",
      "\n",
      "\n",
      "The following object is masked from ‘package:sp’:\n",
      "\n",
      "    %over%\n",
      "\n",
      "\n",
      "Loading required package: GenomeInfoDb\n",
      "\n",
      "Loading required package: Biobase\n",
      "\n",
      "Welcome to Bioconductor\n",
      "\n",
      "    Vignettes contain introductory material; view with\n",
      "    'browseVignettes()'. To cite Bioconductor, see\n",
      "    'citation(\"Biobase\")', and for packages 'citation(\"pkgname\")'.\n",
      "\n",
      "\n",
      "\n",
      "Attaching package: ‘Biobase’\n",
      "\n",
      "\n",
      "The following object is masked from ‘package:MatrixGenerics’:\n",
      "\n",
      "    rowMedians\n",
      "\n",
      "\n",
      "The following objects are masked from ‘package:matrixStats’:\n",
      "\n",
      "    anyMissing, rowMedians\n",
      "\n",
      "\n",
      "\n",
      "Attaching package: ‘SummarizedExperiment’\n",
      "\n",
      "\n",
      "The following object is masked from ‘package:Seurat’:\n",
      "\n",
      "    Assays\n",
      "\n",
      "\n",
      "The following object is masked from ‘package:SeuratObject’:\n",
      "\n",
      "    Assays\n",
      "\n",
      "\n",
      "Warning message:\n",
      "“replacing previous import ‘ape::where’ by ‘dplyr::where’ when loading ‘scAnnotatR’”\n"
     ]
    }
   ],
   "source": [
    "library(scAnnotatR)\n",
    "library(IRdisplay)\n",
    "library(adverSCarial)"
   ]
  },
  {
   "cell_type": "markdown",
   "id": "678bb943",
   "metadata": {},
   "source": [
    "# scAnnotatR classifier training\n",
    "\n",
    "Load previously splitted train/test pbmc3k dataset\n",
    "https://cf.10xgenomics.com/samples/cell/pbmc3k/pbmc3k_filtered_gene_bc_matrices.tar.gz\n",
    "\n",
    "annotated from the Seurat tutorial method\n",
    "https://satijalab.org/seurat/articles/pbmc3k_tutorial"
   ]
  },
  {
   "cell_type": "code",
   "execution_count": 2,
   "id": "2d9e91a6",
   "metadata": {
    "execution": {
     "iopub.execute_input": "2024-10-09T18:51:40.967543Z",
     "iopub.status.busy": "2024-10-09T18:51:40.941530Z",
     "iopub.status.idle": "2024-10-09T18:51:40.977499Z",
     "shell.execute_reply": "2024-10-09T18:51:40.976272Z"
    }
   },
   "outputs": [],
   "source": [
    "c_basen = c(\"hgnc_axilla_10k\", \"hgnc_kidney_10k\", \"hgnc_liver_10k\")\n",
    "basen = c_basen[2]"
   ]
  },
  {
   "cell_type": "code",
   "execution_count": 3,
   "id": "8ea49383",
   "metadata": {
    "execution": {
     "iopub.execute_input": "2024-10-09T18:51:40.981540Z",
     "iopub.status.busy": "2024-10-09T18:51:40.980532Z",
     "iopub.status.idle": "2024-10-09T18:51:59.863028Z",
     "shell.execute_reply": "2024-10-09T18:51:59.861890Z"
    },
    "vscode": {
     "languageId": "r"
    }
   },
   "outputs": [],
   "source": [
    "se_train <- readRDS(paste0(\"data//v5/data//sc//\",basen,\"_train.rds\"))\n",
    "se_test <- readRDS(paste0(\"data//v5/data//sc//\",basen,\"_test.rds\"))"
   ]
  },
  {
   "cell_type": "code",
   "execution_count": 4,
   "id": "a48c75c0",
   "metadata": {
    "execution": {
     "iopub.execute_input": "2024-10-09T18:51:59.866802Z",
     "iopub.status.busy": "2024-10-09T18:51:59.865927Z",
     "iopub.status.idle": "2024-10-09T18:51:59.879119Z",
     "shell.execute_reply": "2024-10-09T18:51:59.878067Z"
    }
   },
   "outputs": [
    {
     "data": {
      "text/html": [
       "<style>\n",
       ".list-inline {list-style: none; margin:0; padding: 0}\n",
       ".list-inline>li {display: inline-block}\n",
       ".list-inline>li:not(:last-child)::after {content: \"\\00b7\"; padding: 0 .5ex}\n",
       "</style>\n",
       "<ol class=list-inline><li>kidney epithelial cell</li><li>kidney cell</li><li>epithelial cell of proximal tubule</li><li>mesenchymal cell</li><li>kidney loop of Henle epithelial cell</li><li>podocyte</li></ol>\n",
       "\n",
       "<details>\n",
       "\t<summary style=display:list-item;cursor:pointer>\n",
       "\t\t<strong>Levels</strong>:\n",
       "\t</summary>\n",
       "\t<style>\n",
       "\t.list-inline {list-style: none; margin:0; padding: 0}\n",
       "\t.list-inline>li {display: inline-block}\n",
       "\t.list-inline>li:not(:last-child)::after {content: \"\\00b7\"; padding: 0 .5ex}\n",
       "\t</style>\n",
       "\t<ol class=list-inline><li>'podocyte'</li><li>'epithelial cell of proximal tubule'</li><li>'kidney epithelial cell'</li><li>'mesenchymal cell'</li><li>'kidney cell'</li><li>'kidney loop of Henle epithelial cell'</li></ol>\n",
       "</details>"
      ],
      "text/latex": [
       "\\begin{enumerate*}\n",
       "\\item kidney epithelial cell\n",
       "\\item kidney cell\n",
       "\\item epithelial cell of proximal tubule\n",
       "\\item mesenchymal cell\n",
       "\\item kidney loop of Henle epithelial cell\n",
       "\\item podocyte\n",
       "\\end{enumerate*}\n",
       "\n",
       "\\emph{Levels}: \\begin{enumerate*}\n",
       "\\item 'podocyte'\n",
       "\\item 'epithelial cell of proximal tubule'\n",
       "\\item 'kidney epithelial cell'\n",
       "\\item 'mesenchymal cell'\n",
       "\\item 'kidney cell'\n",
       "\\item 'kidney loop of Henle epithelial cell'\n",
       "\\end{enumerate*}\n"
      ],
      "text/markdown": [
       "1. kidney epithelial cell\n",
       "2. kidney cell\n",
       "3. epithelial cell of proximal tubule\n",
       "4. mesenchymal cell\n",
       "5. kidney loop of Henle epithelial cell\n",
       "6. podocyte\n",
       "\n",
       "\n",
       "\n",
       "**Levels**: 1. 'podocyte'\n",
       "2. 'epithelial cell of proximal tubule'\n",
       "3. 'kidney epithelial cell'\n",
       "4. 'mesenchymal cell'\n",
       "5. 'kidney cell'\n",
       "6. 'kidney loop of Henle epithelial cell'\n",
       "\n",
       "\n"
      ],
      "text/plain": [
       "[1] kidney epithelial cell               kidney cell                         \n",
       "[3] epithelial cell of proximal tubule   mesenchymal cell                    \n",
       "[5] kidney loop of Henle epithelial cell podocyte                            \n",
       "6 Levels: podocyte ... kidney loop of Henle epithelial cell"
      ]
     },
     "metadata": {},
     "output_type": "display_data"
    }
   ],
   "source": [
    "unique(se_train@meta.data[['chr_seurat_cluster']])"
   ]
  },
  {
   "cell_type": "code",
   "execution_count": null,
   "id": "1e2dd2fe",
   "metadata": {},
   "outputs": [],
   "source": []
  },
  {
   "cell_type": "code",
   "execution_count": null,
   "id": "b066d62a",
   "metadata": {},
   "outputs": [],
   "source": []
  },
  {
   "cell_type": "code",
   "execution_count": null,
   "id": "38c3e5a4",
   "metadata": {},
   "outputs": [],
   "source": []
  },
  {
   "cell_type": "code",
   "execution_count": 5,
   "id": "b9def834",
   "metadata": {
    "execution": {
     "iopub.execute_input": "2024-10-09T18:51:59.883308Z",
     "iopub.status.busy": "2024-10-09T18:51:59.882330Z",
     "iopub.status.idle": "2024-10-09T18:51:59.926391Z",
     "shell.execute_reply": "2024-10-09T18:51:59.925216Z"
    }
   },
   "outputs": [],
   "source": [
    "Idents(se_train) <- \"chr_seurat_cluster\"\n",
    "Idents(se_test) <- \"chr_seurat_cluster\""
   ]
  },
  {
   "cell_type": "code",
   "execution_count": 6,
   "id": "8fdd272a",
   "metadata": {
    "execution": {
     "iopub.execute_input": "2024-10-09T18:51:59.930083Z",
     "iopub.status.busy": "2024-10-09T18:51:59.929181Z",
     "iopub.status.idle": "2024-10-09T18:51:59.954286Z",
     "shell.execute_reply": "2024-10-09T18:51:59.953204Z"
    }
   },
   "outputs": [
    {
     "data": {
      "text/html": [
       "<table class=\"dataframe\">\n",
       "<caption>A data.frame: 6 × 38</caption>\n",
       "<thead>\n",
       "\t<tr><th></th><th scope=col>orig.ident</th><th scope=col>nCount_RNA</th><th scope=col>nFeature_RNA</th><th scope=col>donor_id</th><th scope=col>self_reported_ethnicity_ontology_term_id</th><th scope=col>organism_ontology_term_id</th><th scope=col>sample_uuid</th><th scope=col>tissue_ontology_term_id</th><th scope=col>development_stage_ontology_term_id</th><th scope=col>suspension_depletion_factors</th><th scope=col>⋯</th><th scope=col>cell_type</th><th scope=col>assay</th><th scope=col>disease</th><th scope=col>organism</th><th scope=col>sex</th><th scope=col>tissue</th><th scope=col>self_reported_ethnicity</th><th scope=col>development_stage</th><th scope=col>observation_joinid</th><th scope=col>chr_seurat_cluster</th></tr>\n",
       "\t<tr><th></th><th scope=col>&lt;fct&gt;</th><th scope=col>&lt;dbl&gt;</th><th scope=col>&lt;int&gt;</th><th scope=col>&lt;fct&gt;</th><th scope=col>&lt;fct&gt;</th><th scope=col>&lt;fct&gt;</th><th scope=col>&lt;fct&gt;</th><th scope=col>&lt;fct&gt;</th><th scope=col>&lt;fct&gt;</th><th scope=col>&lt;fct&gt;</th><th scope=col>⋯</th><th scope=col>&lt;fct&gt;</th><th scope=col>&lt;fct&gt;</th><th scope=col>&lt;fct&gt;</th><th scope=col>&lt;fct&gt;</th><th scope=col>&lt;fct&gt;</th><th scope=col>&lt;fct&gt;</th><th scope=col>&lt;fct&gt;</th><th scope=col>&lt;fct&gt;</th><th scope=col>&lt;chr&gt;</th><th scope=col>&lt;fct&gt;</th></tr>\n",
       "</thead>\n",
       "<tbody>\n",
       "\t<tr><th scope=row>4834STDY7002875_F16_KI_45P_AACCGCGTCAGCAACT-1</th><td>4834STDY7002875</td><td>25599</td><td>5278</td><td>F16</td><td>unknown</td><td>NCBITaxon:9606</td><td>9fb476c8-5d24-46a0-9a2a-c600db55ec03</td><td>UBERON:0002113</td><td>HsapDv:0000046</td><td>na</td><td>⋯</td><td><span style=white-space:pre-wrap>kidney epithelial cell            </span></td><td>10x 3' v2</td><td>normal</td><td>Homo sapiens</td><td>male</td><td>kidney</td><td>unknown</td><td>9th week post-fertilization stage</td><td>ry~&lt;Rn&gt;88o</td><td><span style=white-space:pre-wrap>kidney epithelial cell            </span></td></tr>\n",
       "\t<tr><th scope=row>4834STDY7002875_F16_KI_45P_ACACCCTAGGACCACA-1</th><td>4834STDY7002875</td><td> 3695</td><td>1507</td><td>F16</td><td>unknown</td><td>NCBITaxon:9606</td><td>9fb476c8-5d24-46a0-9a2a-c600db55ec03</td><td>UBERON:0002113</td><td>HsapDv:0000046</td><td>na</td><td>⋯</td><td><span style=white-space:pre-wrap>kidney cell                       </span></td><td>10x 3' v2</td><td>normal</td><td>Homo sapiens</td><td>male</td><td>kidney</td><td>unknown</td><td>9th week post-fertilization stage</td><td>u5&amp;BpTdwN=</td><td><span style=white-space:pre-wrap>kidney cell                       </span></td></tr>\n",
       "\t<tr><th scope=row>4834STDY7002875_F16_KI_45P_ACTTACTAGACCACGA-1</th><td>4834STDY7002875</td><td> 6641</td><td>2367</td><td>F16</td><td>unknown</td><td>NCBITaxon:9606</td><td>9fb476c8-5d24-46a0-9a2a-c600db55ec03</td><td>UBERON:0002113</td><td>HsapDv:0000046</td><td>na</td><td>⋯</td><td>kidney epithelial cell            </td><td>10x 3' v2</td><td>normal</td><td>Homo sapiens</td><td>male</td><td>kidney</td><td>unknown</td><td>9th week post-fertilization stage</td><td>5fL1)P1%!3</td><td>kidney epithelial cell            </td></tr>\n",
       "\t<tr><th scope=row>4834STDY7002875_F16_KI_45P_ATCCACCGTAGTAGTA-1</th><td>4834STDY7002875</td><td>25388</td><td>5398</td><td>F16</td><td>unknown</td><td>NCBITaxon:9606</td><td>9fb476c8-5d24-46a0-9a2a-c600db55ec03</td><td>UBERON:0002113</td><td>HsapDv:0000046</td><td>na</td><td>⋯</td><td>epithelial cell of proximal tubule</td><td>10x 3' v2</td><td>normal</td><td>Homo sapiens</td><td>male</td><td>kidney</td><td>unknown</td><td>9th week post-fertilization stage</td><td>g3AADgsMln</td><td>epithelial cell of proximal tubule</td></tr>\n",
       "\t<tr><th scope=row>4834STDY7002875_F16_KI_45P_ATGGGAGTCCGAACGC-1</th><td>4834STDY7002875</td><td> 4096</td><td>1579</td><td>F16</td><td>unknown</td><td>NCBITaxon:9606</td><td>9fb476c8-5d24-46a0-9a2a-c600db55ec03</td><td>UBERON:0002113</td><td>HsapDv:0000046</td><td>na</td><td>⋯</td><td>kidney cell                       </td><td>10x 3' v2</td><td>normal</td><td>Homo sapiens</td><td>male</td><td>kidney</td><td>unknown</td><td>9th week post-fertilization stage</td><td>=RMmJ+-d40</td><td>kidney cell                       </td></tr>\n",
       "\t<tr><th scope=row>4834STDY7002875_F16_KI_45P_CACTCCACAGGAATCG-1</th><td>4834STDY7002875</td><td> 4489</td><td>1750</td><td>F16</td><td>unknown</td><td>NCBITaxon:9606</td><td>9fb476c8-5d24-46a0-9a2a-c600db55ec03</td><td>UBERON:0002113</td><td>HsapDv:0000046</td><td>na</td><td>⋯</td><td><span style=white-space:pre-wrap>mesenchymal cell                  </span></td><td>10x 3' v2</td><td>normal</td><td>Homo sapiens</td><td>male</td><td>kidney</td><td>unknown</td><td>9th week post-fertilization stage</td><td>Dq@I-&amp;cq92</td><td><span style=white-space:pre-wrap>mesenchymal cell                  </span></td></tr>\n",
       "</tbody>\n",
       "</table>\n"
      ],
      "text/latex": [
       "A data.frame: 6 × 38\n",
       "\\begin{tabular}{r|lllllllllllllllllllll}\n",
       "  & orig.ident & nCount\\_RNA & nFeature\\_RNA & donor\\_id & self\\_reported\\_ethnicity\\_ontology\\_term\\_id & organism\\_ontology\\_term\\_id & sample\\_uuid & tissue\\_ontology\\_term\\_id & development\\_stage\\_ontology\\_term\\_id & suspension\\_depletion\\_factors & ⋯ & cell\\_type & assay & disease & organism & sex & tissue & self\\_reported\\_ethnicity & development\\_stage & observation\\_joinid & chr\\_seurat\\_cluster\\\\\n",
       "  & <fct> & <dbl> & <int> & <fct> & <fct> & <fct> & <fct> & <fct> & <fct> & <fct> & ⋯ & <fct> & <fct> & <fct> & <fct> & <fct> & <fct> & <fct> & <fct> & <chr> & <fct>\\\\\n",
       "\\hline\n",
       "\t4834STDY7002875\\_F16\\_KI\\_45P\\_AACCGCGTCAGCAACT-1 & 4834STDY7002875 & 25599 & 5278 & F16 & unknown & NCBITaxon:9606 & 9fb476c8-5d24-46a0-9a2a-c600db55ec03 & UBERON:0002113 & HsapDv:0000046 & na & ⋯ & kidney epithelial cell             & 10x 3' v2 & normal & Homo sapiens & male & kidney & unknown & 9th week post-fertilization stage & ry\\textasciitilde{}<Rn>88o & kidney epithelial cell            \\\\\n",
       "\t4834STDY7002875\\_F16\\_KI\\_45P\\_ACACCCTAGGACCACA-1 & 4834STDY7002875 &  3695 & 1507 & F16 & unknown & NCBITaxon:9606 & 9fb476c8-5d24-46a0-9a2a-c600db55ec03 & UBERON:0002113 & HsapDv:0000046 & na & ⋯ & kidney cell                        & 10x 3' v2 & normal & Homo sapiens & male & kidney & unknown & 9th week post-fertilization stage & u5\\&BpTdwN= & kidney cell                       \\\\\n",
       "\t4834STDY7002875\\_F16\\_KI\\_45P\\_ACTTACTAGACCACGA-1 & 4834STDY7002875 &  6641 & 2367 & F16 & unknown & NCBITaxon:9606 & 9fb476c8-5d24-46a0-9a2a-c600db55ec03 & UBERON:0002113 & HsapDv:0000046 & na & ⋯ & kidney epithelial cell             & 10x 3' v2 & normal & Homo sapiens & male & kidney & unknown & 9th week post-fertilization stage & 5fL1)P1\\%!3 & kidney epithelial cell            \\\\\n",
       "\t4834STDY7002875\\_F16\\_KI\\_45P\\_ATCCACCGTAGTAGTA-1 & 4834STDY7002875 & 25388 & 5398 & F16 & unknown & NCBITaxon:9606 & 9fb476c8-5d24-46a0-9a2a-c600db55ec03 & UBERON:0002113 & HsapDv:0000046 & na & ⋯ & epithelial cell of proximal tubule & 10x 3' v2 & normal & Homo sapiens & male & kidney & unknown & 9th week post-fertilization stage & g3AADgsMln & epithelial cell of proximal tubule\\\\\n",
       "\t4834STDY7002875\\_F16\\_KI\\_45P\\_ATGGGAGTCCGAACGC-1 & 4834STDY7002875 &  4096 & 1579 & F16 & unknown & NCBITaxon:9606 & 9fb476c8-5d24-46a0-9a2a-c600db55ec03 & UBERON:0002113 & HsapDv:0000046 & na & ⋯ & kidney cell                        & 10x 3' v2 & normal & Homo sapiens & male & kidney & unknown & 9th week post-fertilization stage & =RMmJ+-d40 & kidney cell                       \\\\\n",
       "\t4834STDY7002875\\_F16\\_KI\\_45P\\_CACTCCACAGGAATCG-1 & 4834STDY7002875 &  4489 & 1750 & F16 & unknown & NCBITaxon:9606 & 9fb476c8-5d24-46a0-9a2a-c600db55ec03 & UBERON:0002113 & HsapDv:0000046 & na & ⋯ & mesenchymal cell                   & 10x 3' v2 & normal & Homo sapiens & male & kidney & unknown & 9th week post-fertilization stage & Dq@I-\\&cq92 & mesenchymal cell                  \\\\\n",
       "\\end{tabular}\n"
      ],
      "text/markdown": [
       "\n",
       "A data.frame: 6 × 38\n",
       "\n",
       "| <!--/--> | orig.ident &lt;fct&gt; | nCount_RNA &lt;dbl&gt; | nFeature_RNA &lt;int&gt; | donor_id &lt;fct&gt; | self_reported_ethnicity_ontology_term_id &lt;fct&gt; | organism_ontology_term_id &lt;fct&gt; | sample_uuid &lt;fct&gt; | tissue_ontology_term_id &lt;fct&gt; | development_stage_ontology_term_id &lt;fct&gt; | suspension_depletion_factors &lt;fct&gt; | ⋯ ⋯ | cell_type &lt;fct&gt; | assay &lt;fct&gt; | disease &lt;fct&gt; | organism &lt;fct&gt; | sex &lt;fct&gt; | tissue &lt;fct&gt; | self_reported_ethnicity &lt;fct&gt; | development_stage &lt;fct&gt; | observation_joinid &lt;chr&gt; | chr_seurat_cluster &lt;fct&gt; |\n",
       "|---|---|---|---|---|---|---|---|---|---|---|---|---|---|---|---|---|---|---|---|---|---|\n",
       "| 4834STDY7002875_F16_KI_45P_AACCGCGTCAGCAACT-1 | 4834STDY7002875 | 25599 | 5278 | F16 | unknown | NCBITaxon:9606 | 9fb476c8-5d24-46a0-9a2a-c600db55ec03 | UBERON:0002113 | HsapDv:0000046 | na | ⋯ | kidney epithelial cell             | 10x 3' v2 | normal | Homo sapiens | male | kidney | unknown | 9th week post-fertilization stage | ry~&lt;Rn&gt;88o | kidney epithelial cell             |\n",
       "| 4834STDY7002875_F16_KI_45P_ACACCCTAGGACCACA-1 | 4834STDY7002875 |  3695 | 1507 | F16 | unknown | NCBITaxon:9606 | 9fb476c8-5d24-46a0-9a2a-c600db55ec03 | UBERON:0002113 | HsapDv:0000046 | na | ⋯ | kidney cell                        | 10x 3' v2 | normal | Homo sapiens | male | kidney | unknown | 9th week post-fertilization stage | u5&amp;BpTdwN= | kidney cell                        |\n",
       "| 4834STDY7002875_F16_KI_45P_ACTTACTAGACCACGA-1 | 4834STDY7002875 |  6641 | 2367 | F16 | unknown | NCBITaxon:9606 | 9fb476c8-5d24-46a0-9a2a-c600db55ec03 | UBERON:0002113 | HsapDv:0000046 | na | ⋯ | kidney epithelial cell             | 10x 3' v2 | normal | Homo sapiens | male | kidney | unknown | 9th week post-fertilization stage | 5fL1)P1%!3 | kidney epithelial cell             |\n",
       "| 4834STDY7002875_F16_KI_45P_ATCCACCGTAGTAGTA-1 | 4834STDY7002875 | 25388 | 5398 | F16 | unknown | NCBITaxon:9606 | 9fb476c8-5d24-46a0-9a2a-c600db55ec03 | UBERON:0002113 | HsapDv:0000046 | na | ⋯ | epithelial cell of proximal tubule | 10x 3' v2 | normal | Homo sapiens | male | kidney | unknown | 9th week post-fertilization stage | g3AADgsMln | epithelial cell of proximal tubule |\n",
       "| 4834STDY7002875_F16_KI_45P_ATGGGAGTCCGAACGC-1 | 4834STDY7002875 |  4096 | 1579 | F16 | unknown | NCBITaxon:9606 | 9fb476c8-5d24-46a0-9a2a-c600db55ec03 | UBERON:0002113 | HsapDv:0000046 | na | ⋯ | kidney cell                        | 10x 3' v2 | normal | Homo sapiens | male | kidney | unknown | 9th week post-fertilization stage | =RMmJ+-d40 | kidney cell                        |\n",
       "| 4834STDY7002875_F16_KI_45P_CACTCCACAGGAATCG-1 | 4834STDY7002875 |  4489 | 1750 | F16 | unknown | NCBITaxon:9606 | 9fb476c8-5d24-46a0-9a2a-c600db55ec03 | UBERON:0002113 | HsapDv:0000046 | na | ⋯ | mesenchymal cell                   | 10x 3' v2 | normal | Homo sapiens | male | kidney | unknown | 9th week post-fertilization stage | Dq@I-&amp;cq92 | mesenchymal cell                   |\n",
       "\n"
      ],
      "text/plain": [
       "                                              orig.ident      nCount_RNA\n",
       "4834STDY7002875_F16_KI_45P_AACCGCGTCAGCAACT-1 4834STDY7002875 25599     \n",
       "4834STDY7002875_F16_KI_45P_ACACCCTAGGACCACA-1 4834STDY7002875  3695     \n",
       "4834STDY7002875_F16_KI_45P_ACTTACTAGACCACGA-1 4834STDY7002875  6641     \n",
       "4834STDY7002875_F16_KI_45P_ATCCACCGTAGTAGTA-1 4834STDY7002875 25388     \n",
       "4834STDY7002875_F16_KI_45P_ATGGGAGTCCGAACGC-1 4834STDY7002875  4096     \n",
       "4834STDY7002875_F16_KI_45P_CACTCCACAGGAATCG-1 4834STDY7002875  4489     \n",
       "                                              nFeature_RNA donor_id\n",
       "4834STDY7002875_F16_KI_45P_AACCGCGTCAGCAACT-1 5278         F16     \n",
       "4834STDY7002875_F16_KI_45P_ACACCCTAGGACCACA-1 1507         F16     \n",
       "4834STDY7002875_F16_KI_45P_ACTTACTAGACCACGA-1 2367         F16     \n",
       "4834STDY7002875_F16_KI_45P_ATCCACCGTAGTAGTA-1 5398         F16     \n",
       "4834STDY7002875_F16_KI_45P_ATGGGAGTCCGAACGC-1 1579         F16     \n",
       "4834STDY7002875_F16_KI_45P_CACTCCACAGGAATCG-1 1750         F16     \n",
       "                                              self_reported_ethnicity_ontology_term_id\n",
       "4834STDY7002875_F16_KI_45P_AACCGCGTCAGCAACT-1 unknown                                 \n",
       "4834STDY7002875_F16_KI_45P_ACACCCTAGGACCACA-1 unknown                                 \n",
       "4834STDY7002875_F16_KI_45P_ACTTACTAGACCACGA-1 unknown                                 \n",
       "4834STDY7002875_F16_KI_45P_ATCCACCGTAGTAGTA-1 unknown                                 \n",
       "4834STDY7002875_F16_KI_45P_ATGGGAGTCCGAACGC-1 unknown                                 \n",
       "4834STDY7002875_F16_KI_45P_CACTCCACAGGAATCG-1 unknown                                 \n",
       "                                              organism_ontology_term_id\n",
       "4834STDY7002875_F16_KI_45P_AACCGCGTCAGCAACT-1 NCBITaxon:9606           \n",
       "4834STDY7002875_F16_KI_45P_ACACCCTAGGACCACA-1 NCBITaxon:9606           \n",
       "4834STDY7002875_F16_KI_45P_ACTTACTAGACCACGA-1 NCBITaxon:9606           \n",
       "4834STDY7002875_F16_KI_45P_ATCCACCGTAGTAGTA-1 NCBITaxon:9606           \n",
       "4834STDY7002875_F16_KI_45P_ATGGGAGTCCGAACGC-1 NCBITaxon:9606           \n",
       "4834STDY7002875_F16_KI_45P_CACTCCACAGGAATCG-1 NCBITaxon:9606           \n",
       "                                              sample_uuid                         \n",
       "4834STDY7002875_F16_KI_45P_AACCGCGTCAGCAACT-1 9fb476c8-5d24-46a0-9a2a-c600db55ec03\n",
       "4834STDY7002875_F16_KI_45P_ACACCCTAGGACCACA-1 9fb476c8-5d24-46a0-9a2a-c600db55ec03\n",
       "4834STDY7002875_F16_KI_45P_ACTTACTAGACCACGA-1 9fb476c8-5d24-46a0-9a2a-c600db55ec03\n",
       "4834STDY7002875_F16_KI_45P_ATCCACCGTAGTAGTA-1 9fb476c8-5d24-46a0-9a2a-c600db55ec03\n",
       "4834STDY7002875_F16_KI_45P_ATGGGAGTCCGAACGC-1 9fb476c8-5d24-46a0-9a2a-c600db55ec03\n",
       "4834STDY7002875_F16_KI_45P_CACTCCACAGGAATCG-1 9fb476c8-5d24-46a0-9a2a-c600db55ec03\n",
       "                                              tissue_ontology_term_id\n",
       "4834STDY7002875_F16_KI_45P_AACCGCGTCAGCAACT-1 UBERON:0002113         \n",
       "4834STDY7002875_F16_KI_45P_ACACCCTAGGACCACA-1 UBERON:0002113         \n",
       "4834STDY7002875_F16_KI_45P_ACTTACTAGACCACGA-1 UBERON:0002113         \n",
       "4834STDY7002875_F16_KI_45P_ATCCACCGTAGTAGTA-1 UBERON:0002113         \n",
       "4834STDY7002875_F16_KI_45P_ATGGGAGTCCGAACGC-1 UBERON:0002113         \n",
       "4834STDY7002875_F16_KI_45P_CACTCCACAGGAATCG-1 UBERON:0002113         \n",
       "                                              development_stage_ontology_term_id\n",
       "4834STDY7002875_F16_KI_45P_AACCGCGTCAGCAACT-1 HsapDv:0000046                    \n",
       "4834STDY7002875_F16_KI_45P_ACACCCTAGGACCACA-1 HsapDv:0000046                    \n",
       "4834STDY7002875_F16_KI_45P_ACTTACTAGACCACGA-1 HsapDv:0000046                    \n",
       "4834STDY7002875_F16_KI_45P_ATCCACCGTAGTAGTA-1 HsapDv:0000046                    \n",
       "4834STDY7002875_F16_KI_45P_ATGGGAGTCCGAACGC-1 HsapDv:0000046                    \n",
       "4834STDY7002875_F16_KI_45P_CACTCCACAGGAATCG-1 HsapDv:0000046                    \n",
       "                                              suspension_depletion_factors ⋯\n",
       "4834STDY7002875_F16_KI_45P_AACCGCGTCAGCAACT-1 na                           ⋯\n",
       "4834STDY7002875_F16_KI_45P_ACACCCTAGGACCACA-1 na                           ⋯\n",
       "4834STDY7002875_F16_KI_45P_ACTTACTAGACCACGA-1 na                           ⋯\n",
       "4834STDY7002875_F16_KI_45P_ATCCACCGTAGTAGTA-1 na                           ⋯\n",
       "4834STDY7002875_F16_KI_45P_ATGGGAGTCCGAACGC-1 na                           ⋯\n",
       "4834STDY7002875_F16_KI_45P_CACTCCACAGGAATCG-1 na                           ⋯\n",
       "                                              cell_type                         \n",
       "4834STDY7002875_F16_KI_45P_AACCGCGTCAGCAACT-1 kidney epithelial cell            \n",
       "4834STDY7002875_F16_KI_45P_ACACCCTAGGACCACA-1 kidney cell                       \n",
       "4834STDY7002875_F16_KI_45P_ACTTACTAGACCACGA-1 kidney epithelial cell            \n",
       "4834STDY7002875_F16_KI_45P_ATCCACCGTAGTAGTA-1 epithelial cell of proximal tubule\n",
       "4834STDY7002875_F16_KI_45P_ATGGGAGTCCGAACGC-1 kidney cell                       \n",
       "4834STDY7002875_F16_KI_45P_CACTCCACAGGAATCG-1 mesenchymal cell                  \n",
       "                                              assay     disease organism    \n",
       "4834STDY7002875_F16_KI_45P_AACCGCGTCAGCAACT-1 10x 3' v2 normal  Homo sapiens\n",
       "4834STDY7002875_F16_KI_45P_ACACCCTAGGACCACA-1 10x 3' v2 normal  Homo sapiens\n",
       "4834STDY7002875_F16_KI_45P_ACTTACTAGACCACGA-1 10x 3' v2 normal  Homo sapiens\n",
       "4834STDY7002875_F16_KI_45P_ATCCACCGTAGTAGTA-1 10x 3' v2 normal  Homo sapiens\n",
       "4834STDY7002875_F16_KI_45P_ATGGGAGTCCGAACGC-1 10x 3' v2 normal  Homo sapiens\n",
       "4834STDY7002875_F16_KI_45P_CACTCCACAGGAATCG-1 10x 3' v2 normal  Homo sapiens\n",
       "                                              sex  tissue\n",
       "4834STDY7002875_F16_KI_45P_AACCGCGTCAGCAACT-1 male kidney\n",
       "4834STDY7002875_F16_KI_45P_ACACCCTAGGACCACA-1 male kidney\n",
       "4834STDY7002875_F16_KI_45P_ACTTACTAGACCACGA-1 male kidney\n",
       "4834STDY7002875_F16_KI_45P_ATCCACCGTAGTAGTA-1 male kidney\n",
       "4834STDY7002875_F16_KI_45P_ATGGGAGTCCGAACGC-1 male kidney\n",
       "4834STDY7002875_F16_KI_45P_CACTCCACAGGAATCG-1 male kidney\n",
       "                                              self_reported_ethnicity\n",
       "4834STDY7002875_F16_KI_45P_AACCGCGTCAGCAACT-1 unknown                \n",
       "4834STDY7002875_F16_KI_45P_ACACCCTAGGACCACA-1 unknown                \n",
       "4834STDY7002875_F16_KI_45P_ACTTACTAGACCACGA-1 unknown                \n",
       "4834STDY7002875_F16_KI_45P_ATCCACCGTAGTAGTA-1 unknown                \n",
       "4834STDY7002875_F16_KI_45P_ATGGGAGTCCGAACGC-1 unknown                \n",
       "4834STDY7002875_F16_KI_45P_CACTCCACAGGAATCG-1 unknown                \n",
       "                                              development_stage                \n",
       "4834STDY7002875_F16_KI_45P_AACCGCGTCAGCAACT-1 9th week post-fertilization stage\n",
       "4834STDY7002875_F16_KI_45P_ACACCCTAGGACCACA-1 9th week post-fertilization stage\n",
       "4834STDY7002875_F16_KI_45P_ACTTACTAGACCACGA-1 9th week post-fertilization stage\n",
       "4834STDY7002875_F16_KI_45P_ATCCACCGTAGTAGTA-1 9th week post-fertilization stage\n",
       "4834STDY7002875_F16_KI_45P_ATGGGAGTCCGAACGC-1 9th week post-fertilization stage\n",
       "4834STDY7002875_F16_KI_45P_CACTCCACAGGAATCG-1 9th week post-fertilization stage\n",
       "                                              observation_joinid\n",
       "4834STDY7002875_F16_KI_45P_AACCGCGTCAGCAACT-1 ry~<Rn>88o        \n",
       "4834STDY7002875_F16_KI_45P_ACACCCTAGGACCACA-1 u5&BpTdwN=        \n",
       "4834STDY7002875_F16_KI_45P_ACTTACTAGACCACGA-1 5fL1)P1%!3        \n",
       "4834STDY7002875_F16_KI_45P_ATCCACCGTAGTAGTA-1 g3AADgsMln        \n",
       "4834STDY7002875_F16_KI_45P_ATGGGAGTCCGAACGC-1 =RMmJ+-d40        \n",
       "4834STDY7002875_F16_KI_45P_CACTCCACAGGAATCG-1 Dq@I-&cq92        \n",
       "                                              chr_seurat_cluster                \n",
       "4834STDY7002875_F16_KI_45P_AACCGCGTCAGCAACT-1 kidney epithelial cell            \n",
       "4834STDY7002875_F16_KI_45P_ACACCCTAGGACCACA-1 kidney cell                       \n",
       "4834STDY7002875_F16_KI_45P_ACTTACTAGACCACGA-1 kidney epithelial cell            \n",
       "4834STDY7002875_F16_KI_45P_ATCCACCGTAGTAGTA-1 epithelial cell of proximal tubule\n",
       "4834STDY7002875_F16_KI_45P_ATGGGAGTCCGAACGC-1 kidney cell                       \n",
       "4834STDY7002875_F16_KI_45P_CACTCCACAGGAATCG-1 mesenchymal cell                  "
      ]
     },
     "metadata": {},
     "output_type": "display_data"
    }
   ],
   "source": [
    "head(se_train@meta.data)"
   ]
  },
  {
   "cell_type": "markdown",
   "id": "9b8f3d1f",
   "metadata": {},
   "source": [
    "## Function to get the most significant genes between a cluster and the other cells"
   ]
  },
  {
   "cell_type": "code",
   "execution_count": 7,
   "id": "46db0599",
   "metadata": {
    "execution": {
     "iopub.execute_input": "2024-10-09T18:51:59.958109Z",
     "iopub.status.busy": "2024-10-09T18:51:59.957205Z",
     "iopub.status.idle": "2024-10-09T18:51:59.965684Z",
     "shell.execute_reply": "2024-10-09T18:51:59.964617Z"
    }
   },
   "outputs": [],
   "source": [
    "getSignGenesNot <- function(expr, clusters, target, method=\"wilcox\", adjMethod=\"BH\", verbose=FALSE){\n",
    "        if (verbose) {message(\"Cluster \",target,\" vs all the other clusters\")}\n",
    "        pvals <- apply(t(expr), 1, function(x){\n",
    "            c1 <- x[clusters == target]\n",
    "            c1 <- c1[!is.na(c1)]\n",
    "            c2 <- x[clusters != target]\n",
    "            c2 <- c2[!is.na(c2)]\n",
    "            if ( length(c1) == 0 || length(c2) == 0){\n",
    "                return(1)\n",
    "            }\n",
    "            if (length(unique(c1))==1){\n",
    "                c1[1] = c1[1] + 0.00001\n",
    "            }\n",
    "            if (length(unique(c2))==1){\n",
    "                c2[1] = c2[1] + 0.00001\n",
    "            }\n",
    "            if (method==\"wilcox\"){\n",
    "                return(wilcox.test(c1, c2)$p.value)\n",
    "            }\n",
    "            if (method==\"ttest\"){\n",
    "                return(t.test(c1, c2)$p.value)\n",
    "            }\n",
    "        })\n",
    "        means <- apply(t(expr), 1, function(x){\n",
    "                c1 <- x[clusters == target]\n",
    "                c1 <- c1[!is.na(c1)]\n",
    "                c2 <- x[clusters != target]\n",
    "                c2 <- c2[!is.na(c2)]\n",
    "                if (length(c1) == 0){\n",
    "                    c1 = c(0)\n",
    "                }\n",
    "                if (length(c2) == 0){\n",
    "                    c2 = c(0)\n",
    "                }\n",
    "                return(mean(c1)-mean(c2))\n",
    "        })  \n",
    "        dfPvals <- data.frame(gene=colnames(expr), pval=unname(pvals), mean=means)\n",
    "        rownames(dfPvals) <- dfPvals$gene\n",
    "\n",
    "        for (clustInt in setdiff(unique(clusters), target)){\n",
    "            if(verbose){message(\"Cluster \", target, \" vs cluster \", clustInt)}\n",
    "            newPvals <- pvals <- apply(t(expr), 1, function(x){\n",
    "                c1 <- x[clusters == target]\n",
    "                c1 <- c1[!is.na(c1)]\n",
    "                c2 <- x[clusters == clustInt]\n",
    "                c2 <- c2[!is.na(c2)]\n",
    "                if ( length(c1) == 0 || length(c2) == 0){\n",
    "                    return(1)\n",
    "                }\n",
    "                if (length(unique(c1))==1){\n",
    "                    c1[1] = c1[1] + 0.001\n",
    "                }\n",
    "                if (length(unique(c2))==1){\n",
    "                    c2[1] = c2[1] + 0.001\n",
    "                }\n",
    "                if (method==\"wilcox\"){\n",
    "                    return(wilcox.test(c1, c2)$p.value)\n",
    "                }\n",
    "                if (method==\"ttest\"){\n",
    "                    return(t.test(c1, c2)$p.value)\n",
    "                }    \n",
    "            })\n",
    "            newMeans <- pvals <- apply(t(expr), 1, function(x){\n",
    "                c1 <- x[clusters == target]\n",
    "                c1 <- c1[!is.na(c1)]\n",
    "                c2 <- x[clusters == clustInt]\n",
    "                c2 <- c2[!is.na(c2)]\n",
    "                if (length(c1) == 0){\n",
    "                    c1 = c(0)\n",
    "                }\n",
    "                if (length(c2) == 0){\n",
    "                    c2 = c(0)\n",
    "                }\n",
    "                return(mean(c1)-mean(c2))\n",
    "            })  \n",
    "            if(verbose){message(sum(unname(newPvals) < dfPvals$pval),\" pvalues replaced by lower values\")}\n",
    "            dfPvals[unname(newPvals) < dfPvals$pval, \"pval\"] <- newPvals[unname(newPvals) < dfPvals$pval]\n",
    "            dfPvals[unname(newPvals) < dfPvals$pval, \"mean\"] <- newMeans[unname(newPvals) < dfPvals$pval]\n",
    "    }\n",
    "    dfPvals$adjPval <- p.adjust(dfPvals$pval, method=adjMethod)\n",
    "    dfPvals <- dfPvals[order(dfPvals$pval),]\n",
    "    return(dfPvals)\n",
    "}"
   ]
  },
  {
   "cell_type": "code",
   "execution_count": null,
   "id": "199e5725",
   "metadata": {},
   "outputs": [],
   "source": []
  },
  {
   "cell_type": "code",
   "execution_count": 8,
   "id": "12ce1a1c",
   "metadata": {
    "execution": {
     "iopub.execute_input": "2024-10-09T18:51:59.969484Z",
     "iopub.status.busy": "2024-10-09T18:51:59.968583Z",
     "iopub.status.idle": "2024-10-09T18:52:14.898244Z",
     "shell.execute_reply": "2024-10-09T18:52:14.805151Z"
    }
   },
   "outputs": [],
   "source": [
    "dfScaled <- as.data.frame(se_train@assays$RNA@layers$scale.data)\n",
    "colnames(dfScaled) <- rownames(se_train@assays$RNA@cells)\n",
    "rownames(dfScaled) <- rownames(se_train@assays$RNA@features)\n",
    "dfScaled <- as.data.frame(t(dfScaled))"
   ]
  },
  {
   "cell_type": "markdown",
   "id": "c63941ae",
   "metadata": {},
   "source": [
    "The scAnnotatR will build one classifier to predict each cell type, so we one-hot encode the cell type by adding a meta.data column for each cell type with binary information: cell type or \"unknown\"."
   ]
  },
  {
   "cell_type": "code",
   "execution_count": 9,
   "id": "74311bb0",
   "metadata": {
    "execution": {
     "iopub.execute_input": "2024-10-09T18:52:14.954962Z",
     "iopub.status.busy": "2024-10-09T18:52:14.951141Z",
     "iopub.status.idle": "2024-10-09T18:52:15.124329Z",
     "shell.execute_reply": "2024-10-09T18:52:15.122745Z"
    }
   },
   "outputs": [],
   "source": [
    "for (cellType in unique(se_train@meta.data$chr_seurat_cluster)){\n",
    "    se_train@meta.data[[cellType]] <- unlist(lapply(se_train@meta.data$chr_seurat_cluster, function(x){\n",
    "        if (x == cellType){\n",
    "            return(cellType)\n",
    "        } else {\n",
    "            return(\"unknown\")\n",
    "        }\n",
    "    }))\n",
    "}"
   ]
  },
  {
   "cell_type": "markdown",
   "id": "1945da64",
   "metadata": {},
   "source": [
    "## Train and export one classifier for each cell type"
   ]
  },
  {
   "cell_type": "code",
   "execution_count": 10,
   "id": "7bfd0f08",
   "metadata": {
    "execution": {
     "iopub.execute_input": "2024-10-09T18:52:15.129272Z",
     "iopub.status.busy": "2024-10-09T18:52:15.128216Z",
     "iopub.status.idle": "2024-10-09T19:12:03.984910Z",
     "shell.execute_reply": "2024-10-09T19:12:03.982166Z"
    }
   },
   "outputs": [
    {
     "data": {
      "text/html": [
       "'kidney epithelial cell'"
      ],
      "text/latex": [
       "'kidney epithelial cell'"
      ],
      "text/markdown": [
       "'kidney epithelial cell'"
      ],
      "text/plain": [
       "[1] \"kidney epithelial cell\""
      ]
     },
     "metadata": {},
     "output_type": "display_data"
    },
    {
     "name": "stderr",
     "output_type": "stream",
     "text": [
      "Loading required package: ggplot2\n",
      "\n",
      "Loading required package: lattice\n",
      "\n",
      "Saving new models to repr_data/classifiers/scAnnotatR/trainedClass_hgnc_kidney_10k/new_models.rda...\n",
      "\n",
      "Finished saving new model\n",
      "\n"
     ]
    },
    {
     "data": {
      "text/html": [
       "'kidney cell'"
      ],
      "text/latex": [
       "'kidney cell'"
      ],
      "text/markdown": [
       "'kidney cell'"
      ],
      "text/plain": [
       "[1] \"kidney cell\""
      ]
     },
     "metadata": {},
     "output_type": "display_data"
    },
    {
     "name": "stderr",
     "output_type": "stream",
     "text": [
      "Saving new models to repr_data/classifiers/scAnnotatR/trainedClass_hgnc_kidney_10k/new_models.rda...\n",
      "\n",
      "Finished saving new model\n",
      "\n"
     ]
    },
    {
     "data": {
      "text/html": [
       "'epithelial cell of proximal tubule'"
      ],
      "text/latex": [
       "'epithelial cell of proximal tubule'"
      ],
      "text/markdown": [
       "'epithelial cell of proximal tubule'"
      ],
      "text/plain": [
       "[1] \"epithelial cell of proximal tubule\""
      ]
     },
     "metadata": {},
     "output_type": "display_data"
    },
    {
     "name": "stderr",
     "output_type": "stream",
     "text": [
      "Saving new models to repr_data/classifiers/scAnnotatR/trainedClass_hgnc_kidney_10k/new_models.rda...\n",
      "\n",
      "Finished saving new model\n",
      "\n"
     ]
    },
    {
     "data": {
      "text/html": [
       "'mesenchymal cell'"
      ],
      "text/latex": [
       "'mesenchymal cell'"
      ],
      "text/markdown": [
       "'mesenchymal cell'"
      ],
      "text/plain": [
       "[1] \"mesenchymal cell\""
      ]
     },
     "metadata": {},
     "output_type": "display_data"
    },
    {
     "name": "stderr",
     "output_type": "stream",
     "text": [
      "Saving new models to repr_data/classifiers/scAnnotatR/trainedClass_hgnc_kidney_10k/new_models.rda...\n",
      "\n",
      "Finished saving new model\n",
      "\n"
     ]
    },
    {
     "data": {
      "text/html": [
       "'kidney loop of Henle epithelial cell'"
      ],
      "text/latex": [
       "'kidney loop of Henle epithelial cell'"
      ],
      "text/markdown": [
       "'kidney loop of Henle epithelial cell'"
      ],
      "text/plain": [
       "[1] \"kidney loop of Henle epithelial cell\""
      ]
     },
     "metadata": {},
     "output_type": "display_data"
    },
    {
     "name": "stderr",
     "output_type": "stream",
     "text": [
      "Saving new models to repr_data/classifiers/scAnnotatR/trainedClass_hgnc_kidney_10k/new_models.rda...\n",
      "\n",
      "Finished saving new model\n",
      "\n"
     ]
    },
    {
     "data": {
      "text/html": [
       "'podocyte'"
      ],
      "text/latex": [
       "'podocyte'"
      ],
      "text/markdown": [
       "'podocyte'"
      ],
      "text/plain": [
       "[1] \"podocyte\""
      ]
     },
     "metadata": {},
     "output_type": "display_data"
    },
    {
     "name": "stderr",
     "output_type": "stream",
     "text": [
      "Saving new models to repr_data/classifiers/scAnnotatR/trainedClass_hgnc_kidney_10k/new_models.rda...\n",
      "\n",
      "Finished saving new model\n",
      "\n"
     ]
    },
    {
     "data": {
      "text/plain": [
       "An object of class scAnnotatR for podocyte \n",
       "* 20 marker genes applied: ENSG00000230027, NTNG1, NPHS2, TNNT2, COL4A4, MME, FGF1, SYNPO, AIF1, CLIC5, FRMD1, THSD7A, MRGPRF, KLRB1, PTPRO, DDN, PTPRQ, SOST, CA10, NPHS1 \n",
       "* Predicting probability threshold: 0.5 \n",
       "* No parent model"
      ]
     },
     "metadata": {},
     "output_type": "display_data"
    }
   ],
   "source": [
    "listClassifiers <- list()\n",
    "for (cellType in unique(se_train@meta.data$chr_seurat_cluster)){\n",
    "    display(cellType)\n",
    "    sg <- getSignGenesNot(dfScaled,\n",
    "                   se_train@meta.data$chr_seurat_cluster,\n",
    "                   cellType)\n",
    "    # Selection of the 20 most significants with a minimum mean difference of 0.5 for the SVM\n",
    "    selectedMarkers <- rownames(sg[abs(sg$mean)>0.5,])[1:20]\n",
    "    classifier <- train_classifier(train_obj = se_train, cell_type = cellType, \n",
    "                                 marker_genes = selectedMarkers,\n",
    "                                 assay = 'RNA', tag_slot = cellType)\n",
    "    listClassifiers[[cellType]] <- classifier\n",
    "    \n",
    "    save_new_model(new_model = classifier,\n",
    "                   path_to_models = paste0(\"repr_data/classifiers/scAnnotatR/trainedClass_\", basen),\n",
    "               include.default = FALSE) \n",
    "}\n",
    "listClassifiers[[cellType]]"
   ]
  },
  {
   "cell_type": "markdown",
   "id": "e1522de4",
   "metadata": {},
   "source": [
    "# Format the Classifier\n",
    "To work with adverSCarial the classifier needs to be formated in a certain way."
   ]
  },
  {
   "cell_type": "code",
   "execution_count": 11,
   "id": "75460d09",
   "metadata": {
    "execution": {
     "iopub.execute_input": "2024-10-09T19:12:04.630419Z",
     "iopub.status.busy": "2024-10-09T19:12:04.628973Z",
     "iopub.status.idle": "2024-10-09T19:12:05.832584Z",
     "shell.execute_reply": "2024-10-09T19:12:05.829913Z"
    }
   },
   "outputs": [],
   "source": [
    "scAnnotatR_classifier = function(expr, clusters, target){\n",
    "    if (!\"scAnnotatR\" %in% loadedNamespaces()){\n",
    "        library(scAnnotatR)\n",
    "    }\n",
    "    if ( !exists(\"sca_default_models\")){\n",
    "        sca_default_models <<- load_models(paste0(\"repr_data/classifiers/scAnnotatR/trainedClass_\", basen))\n",
    "        sca_cell_types <<- names(sca_default_models)\n",
    "    }\n",
    "    \n",
    "    seurat.obj <- classify_cells(classify_obj = expr, \n",
    "                             assay = 'RNA', slot = 'scale.data',\n",
    "                             cell_types = sca_cell_types, \n",
    "                             path_to_models = paste0(\"repr_data/classifiers/scAnnotatR/trainedClass_\", basen))\n",
    "    typePredictions <- seurat.obj@meta.data[, stringr::str_replace_all( paste0(sca_cell_types, \"_p\"), \" \", \"_\")]\n",
    "    \n",
    "    pred_table <- table(seurat.obj@meta.data[clusters == target, \"most_probable_cell_type\"])\n",
    "    cluster_pred <- names(pred_table[order(pred_table, decreasing = TRUE)])[1]\n",
    "    odd <- unname(pred_table[cluster_pred]/sum(pred_table))\n",
    "    colnames(typePredictions) <- unlist(lapply(colnames(typePredictions), function(x){\n",
    "        unlist(strsplit(x,\"_p$\"))[1]\n",
    "    }))\n",
    "    typePredictions <- as.data.frame(t(typePredictions))\n",
    "    \n",
    "    result <- list(\n",
    "        # Cell type prediction for the cluster\n",
    "        prediction=stringr::str_replace_all(cluster_pred,\" \",\"_\"),\n",
    "        # Score of the predicted cell type\n",
    "        odd=odd, \n",
    "        # Score for each cell type for each cell\n",
    "        typePredictions=typePredictions,\n",
    "        # Cell type for each cell\n",
    "        cellTypes=seurat.obj@meta.data$most_probable_cell_type)\n",
    "    return(result)\n",
    "}"
   ]
  },
  {
   "cell_type": "markdown",
   "id": "41329ee4",
   "metadata": {},
   "source": [
    "# Adversarial attack of the microglial cell cells cluster"
   ]
  },
  {
   "cell_type": "code",
   "execution_count": 12,
   "id": "5fe01eb4",
   "metadata": {
    "execution": {
     "iopub.execute_input": "2024-10-09T19:12:05.872660Z",
     "iopub.status.busy": "2024-10-09T19:12:05.871419Z",
     "iopub.status.idle": "2024-10-09T19:12:05.884851Z",
     "shell.execute_reply": "2024-10-09T19:12:05.883428Z"
    }
   },
   "outputs": [],
   "source": [
    "so_pbmc_test <- se_test\n",
    "clusters_so = so_pbmc_test@meta.data$chr_seurat_cluster\n",
    "names(clusters_so) <- rownames(so_pbmc_test@meta.data)"
   ]
  },
  {
   "cell_type": "markdown",
   "id": "b505ee93",
   "metadata": {},
   "source": [
    "cell types clusters"
   ]
  },
  {
   "cell_type": "code",
   "execution_count": 13,
   "id": "c6210693",
   "metadata": {
    "execution": {
     "iopub.execute_input": "2024-10-09T19:12:05.892959Z",
     "iopub.status.busy": "2024-10-09T19:12:05.891494Z",
     "iopub.status.idle": "2024-10-09T19:12:05.905019Z",
     "shell.execute_reply": "2024-10-09T19:12:05.903804Z"
    }
   },
   "outputs": [
    {
     "data": {
      "text/html": [
       "<style>\n",
       ".list-inline {list-style: none; margin:0; padding: 0}\n",
       ".list-inline>li {display: inline-block}\n",
       ".list-inline>li:not(:last-child)::after {content: \"\\00b7\"; padding: 0 .5ex}\n",
       "</style>\n",
       "<ol class=list-inline><li>podocyte</li><li>kidney cell</li><li>kidney epithelial cell</li><li>epithelial cell of proximal tubule</li><li>mesenchymal cell</li><li>kidney loop of Henle epithelial cell</li></ol>\n",
       "\n",
       "<details>\n",
       "\t<summary style=display:list-item;cursor:pointer>\n",
       "\t\t<strong>Levels</strong>:\n",
       "\t</summary>\n",
       "\t<style>\n",
       "\t.list-inline {list-style: none; margin:0; padding: 0}\n",
       "\t.list-inline>li {display: inline-block}\n",
       "\t.list-inline>li:not(:last-child)::after {content: \"\\00b7\"; padding: 0 .5ex}\n",
       "\t</style>\n",
       "\t<ol class=list-inline><li>'podocyte'</li><li>'epithelial cell of proximal tubule'</li><li>'kidney epithelial cell'</li><li>'mesenchymal cell'</li><li>'kidney cell'</li><li>'kidney loop of Henle epithelial cell'</li></ol>\n",
       "</details>"
      ],
      "text/latex": [
       "\\begin{enumerate*}\n",
       "\\item podocyte\n",
       "\\item kidney cell\n",
       "\\item kidney epithelial cell\n",
       "\\item epithelial cell of proximal tubule\n",
       "\\item mesenchymal cell\n",
       "\\item kidney loop of Henle epithelial cell\n",
       "\\end{enumerate*}\n",
       "\n",
       "\\emph{Levels}: \\begin{enumerate*}\n",
       "\\item 'podocyte'\n",
       "\\item 'epithelial cell of proximal tubule'\n",
       "\\item 'kidney epithelial cell'\n",
       "\\item 'mesenchymal cell'\n",
       "\\item 'kidney cell'\n",
       "\\item 'kidney loop of Henle epithelial cell'\n",
       "\\end{enumerate*}\n"
      ],
      "text/markdown": [
       "1. podocyte\n",
       "2. kidney cell\n",
       "3. kidney epithelial cell\n",
       "4. epithelial cell of proximal tubule\n",
       "5. mesenchymal cell\n",
       "6. kidney loop of Henle epithelial cell\n",
       "\n",
       "\n",
       "\n",
       "**Levels**: 1. 'podocyte'\n",
       "2. 'epithelial cell of proximal tubule'\n",
       "3. 'kidney epithelial cell'\n",
       "4. 'mesenchymal cell'\n",
       "5. 'kidney cell'\n",
       "6. 'kidney loop of Henle epithelial cell'\n",
       "\n",
       "\n"
      ],
      "text/plain": [
       "[1] podocyte                             kidney cell                         \n",
       "[3] kidney epithelial cell               epithelial cell of proximal tubule  \n",
       "[5] mesenchymal cell                     kidney loop of Henle epithelial cell\n",
       "6 Levels: podocyte ... kidney loop of Henle epithelial cell"
      ]
     },
     "metadata": {},
     "output_type": "display_data"
    }
   ],
   "source": [
    "unique(clusters_so)"
   ]
  },
  {
   "cell_type": "markdown",
   "id": "7d92d4f6",
   "metadata": {},
   "source": [
    "We check if the classifier is working properly, it predicts the blood vessel endothelial cells cluster as blood vessel endothelial cells."
   ]
  },
  {
   "cell_type": "code",
   "execution_count": 14,
   "id": "c0243451",
   "metadata": {
    "execution": {
     "iopub.execute_input": "2024-10-09T19:12:05.910204Z",
     "iopub.status.busy": "2024-10-09T19:12:05.909211Z",
     "iopub.status.idle": "2024-10-09T19:12:49.749154Z",
     "shell.execute_reply": "2024-10-09T19:12:49.729454Z"
    }
   },
   "outputs": [],
   "source": [
    "class_results <- scAnnotatR_classifier(so_pbmc_test, clusters_so, 'podocyte')"
   ]
  },
  {
   "cell_type": "code",
   "execution_count": 15,
   "id": "bc6e9e4f",
   "metadata": {
    "execution": {
     "iopub.execute_input": "2024-10-09T19:12:49.787835Z",
     "iopub.status.busy": "2024-10-09T19:12:49.783220Z",
     "iopub.status.idle": "2024-10-09T19:12:49.831248Z",
     "shell.execute_reply": "2024-10-09T19:12:49.828618Z"
    }
   },
   "outputs": [
    {
     "data": {
      "text/html": [
       "'podocyte'"
      ],
      "text/latex": [
       "'podocyte'"
      ],
      "text/markdown": [
       "'podocyte'"
      ],
      "text/plain": [
       "[1] \"podocyte\""
      ]
     },
     "metadata": {},
     "output_type": "display_data"
    }
   ],
   "source": [
    "class_results$prediction"
   ]
  },
  {
   "cell_type": "code",
   "execution_count": 16,
   "id": "e88fd8c6",
   "metadata": {
    "execution": {
     "iopub.execute_input": "2024-10-09T19:12:49.841080Z",
     "iopub.status.busy": "2024-10-09T19:12:49.839161Z",
     "iopub.status.idle": "2024-10-09T19:12:59.206641Z",
     "shell.execute_reply": "2024-10-09T19:12:59.190732Z"
    }
   },
   "outputs": [],
   "source": [
    "dfScaled <- as.data.frame(so_pbmc_test@assays$RNA@layers$scale.data)\n",
    "colnames(dfScaled) <- rownames(so_pbmc_test@assays$RNA@cells)\n",
    "rownames(dfScaled) <- rownames(so_pbmc_test@assays$RNA@features)\n",
    "dfScaled <- t(dfScaled)"
   ]
  },
  {
   "cell_type": "code",
   "execution_count": 17,
   "id": "211db708",
   "metadata": {
    "execution": {
     "iopub.execute_input": "2024-10-09T19:12:59.251949Z",
     "iopub.status.busy": "2024-10-09T19:12:59.247898Z",
     "iopub.status.idle": "2024-10-09T19:12:59.295090Z",
     "shell.execute_reply": "2024-10-09T19:12:59.293788Z"
    }
   },
   "outputs": [
    {
     "data": {
      "text/html": [
       "<table class=\"dataframe\">\n",
       "<caption>A matrix: 5 × 5 of type dbl</caption>\n",
       "<thead>\n",
       "\t<tr><th></th><th scope=col>MIR1302-2HG</th><th scope=col>FAM138A</th><th scope=col>OR4F5</th><th scope=col>ENSG00000238009</th><th scope=col>ENSG00000239945</th></tr>\n",
       "</thead>\n",
       "<tbody>\n",
       "\t<tr><th scope=row>4834STDY7002875_F16_KI_45P_ACACTGAGTTGGAGGT-1</th><td>-0.02663278</td><td>0</td><td>0</td><td>-0.05416897</td><td>-0.01606875</td></tr>\n",
       "\t<tr><th scope=row>4834STDY7002875_F16_KI_45P_ACTTTCAGTTTGTGTG-1</th><td>-0.02663278</td><td>0</td><td>0</td><td>-0.05416897</td><td>-0.01606875</td></tr>\n",
       "\t<tr><th scope=row>4834STDY7002875_F16_KI_45P_CAACCTCAGGAGCGAG-1</th><td>-0.02663278</td><td>0</td><td>0</td><td>-0.05416897</td><td>-0.01606875</td></tr>\n",
       "\t<tr><th scope=row>4834STDY7002875_F16_KI_45P_CAGAATCTCGCCCTTA-1</th><td>-0.02663278</td><td>0</td><td>0</td><td>-0.05416897</td><td>-0.01606875</td></tr>\n",
       "\t<tr><th scope=row>4834STDY7002875_F16_KI_45P_CAGGTGCTCACGATGT-1</th><td>-0.02663278</td><td>0</td><td>0</td><td>-0.05416897</td><td>-0.01606875</td></tr>\n",
       "</tbody>\n",
       "</table>\n"
      ],
      "text/latex": [
       "A matrix: 5 × 5 of type dbl\n",
       "\\begin{tabular}{r|lllll}\n",
       "  & MIR1302-2HG & FAM138A & OR4F5 & ENSG00000238009 & ENSG00000239945\\\\\n",
       "\\hline\n",
       "\t4834STDY7002875\\_F16\\_KI\\_45P\\_ACACTGAGTTGGAGGT-1 & -0.02663278 & 0 & 0 & -0.05416897 & -0.01606875\\\\\n",
       "\t4834STDY7002875\\_F16\\_KI\\_45P\\_ACTTTCAGTTTGTGTG-1 & -0.02663278 & 0 & 0 & -0.05416897 & -0.01606875\\\\\n",
       "\t4834STDY7002875\\_F16\\_KI\\_45P\\_CAACCTCAGGAGCGAG-1 & -0.02663278 & 0 & 0 & -0.05416897 & -0.01606875\\\\\n",
       "\t4834STDY7002875\\_F16\\_KI\\_45P\\_CAGAATCTCGCCCTTA-1 & -0.02663278 & 0 & 0 & -0.05416897 & -0.01606875\\\\\n",
       "\t4834STDY7002875\\_F16\\_KI\\_45P\\_CAGGTGCTCACGATGT-1 & -0.02663278 & 0 & 0 & -0.05416897 & -0.01606875\\\\\n",
       "\\end{tabular}\n"
      ],
      "text/markdown": [
       "\n",
       "A matrix: 5 × 5 of type dbl\n",
       "\n",
       "| <!--/--> | MIR1302-2HG | FAM138A | OR4F5 | ENSG00000238009 | ENSG00000239945 |\n",
       "|---|---|---|---|---|---|\n",
       "| 4834STDY7002875_F16_KI_45P_ACACTGAGTTGGAGGT-1 | -0.02663278 | 0 | 0 | -0.05416897 | -0.01606875 |\n",
       "| 4834STDY7002875_F16_KI_45P_ACTTTCAGTTTGTGTG-1 | -0.02663278 | 0 | 0 | -0.05416897 | -0.01606875 |\n",
       "| 4834STDY7002875_F16_KI_45P_CAACCTCAGGAGCGAG-1 | -0.02663278 | 0 | 0 | -0.05416897 | -0.01606875 |\n",
       "| 4834STDY7002875_F16_KI_45P_CAGAATCTCGCCCTTA-1 | -0.02663278 | 0 | 0 | -0.05416897 | -0.01606875 |\n",
       "| 4834STDY7002875_F16_KI_45P_CAGGTGCTCACGATGT-1 | -0.02663278 | 0 | 0 | -0.05416897 | -0.01606875 |\n",
       "\n"
      ],
      "text/plain": [
       "                                              MIR1302-2HG FAM138A OR4F5\n",
       "4834STDY7002875_F16_KI_45P_ACACTGAGTTGGAGGT-1 -0.02663278 0       0    \n",
       "4834STDY7002875_F16_KI_45P_ACTTTCAGTTTGTGTG-1 -0.02663278 0       0    \n",
       "4834STDY7002875_F16_KI_45P_CAACCTCAGGAGCGAG-1 -0.02663278 0       0    \n",
       "4834STDY7002875_F16_KI_45P_CAGAATCTCGCCCTTA-1 -0.02663278 0       0    \n",
       "4834STDY7002875_F16_KI_45P_CAGGTGCTCACGATGT-1 -0.02663278 0       0    \n",
       "                                              ENSG00000238009 ENSG00000239945\n",
       "4834STDY7002875_F16_KI_45P_ACACTGAGTTGGAGGT-1 -0.05416897     -0.01606875    \n",
       "4834STDY7002875_F16_KI_45P_ACTTTCAGTTTGTGTG-1 -0.05416897     -0.01606875    \n",
       "4834STDY7002875_F16_KI_45P_CAACCTCAGGAGCGAG-1 -0.05416897     -0.01606875    \n",
       "4834STDY7002875_F16_KI_45P_CAGAATCTCGCCCTTA-1 -0.05416897     -0.01606875    \n",
       "4834STDY7002875_F16_KI_45P_CAGGTGCTCACGATGT-1 -0.05416897     -0.01606875    "
      ]
     },
     "metadata": {},
     "output_type": "display_data"
    }
   ],
   "source": [
    "dfScaled[1:5,1:5]"
   ]
  },
  {
   "cell_type": "markdown",
   "id": "11901e25",
   "metadata": {},
   "source": [
    "We use the adverSCarial getSignGenes function to get the most significant genes between clusters, ensuring that all pairs of clusters are equivalently representated."
   ]
  },
  {
   "cell_type": "code",
   "execution_count": 18,
   "id": "ffc37c13",
   "metadata": {
    "execution": {
     "iopub.execute_input": "2024-10-09T19:19:59.261130Z",
     "iopub.status.busy": "2024-10-09T19:19:59.257407Z",
     "iopub.status.idle": "2024-10-09T19:19:59.287585Z",
     "shell.execute_reply": "2024-10-09T19:19:59.284523Z"
    }
   },
   "outputs": [],
   "source": [
    "start_time <- Sys.time()"
   ]
  },
  {
   "cell_type": "code",
   "execution_count": 19,
   "id": "9e8a90a3",
   "metadata": {
    "execution": {
     "iopub.execute_input": "2024-10-09T19:12:59.301400Z",
     "iopub.status.busy": "2024-10-09T19:12:59.300286Z",
     "iopub.status.idle": "2024-10-09T19:19:59.009628Z",
     "shell.execute_reply": "2024-10-09T19:19:58.992077Z"
    }
   },
   "outputs": [],
   "source": [
    "sign_genes <- getSignGenes(dfScaled, clusters_so)"
   ]
  },
  {
   "cell_type": "code",
   "execution_count": 20,
   "id": "4b190a5b",
   "metadata": {
    "execution": {
     "iopub.execute_input": "2024-10-09T19:45:25.660410Z",
     "iopub.status.busy": "2024-10-09T19:45:25.658720Z",
     "iopub.status.idle": "2024-10-09T19:45:25.759017Z",
     "shell.execute_reply": "2024-10-09T19:45:25.756416Z"
    }
   },
   "outputs": [
    {
     "data": {
      "text/plain": [
       "Time difference of 23.38647 mins"
      ]
     },
     "metadata": {},
     "output_type": "display_data"
    }
   ],
   "source": [
    "Sys.time() - start_time"
   ]
  },
  {
   "cell_type": "code",
   "execution_count": 21,
   "id": "bd97e2f5",
   "metadata": {
    "execution": {
     "iopub.execute_input": "2024-10-09T19:19:59.144395Z",
     "iopub.status.busy": "2024-10-09T19:19:59.143116Z",
     "iopub.status.idle": "2024-10-09T19:19:59.208045Z",
     "shell.execute_reply": "2024-10-09T19:19:59.206775Z"
    }
   },
   "outputs": [
    {
     "data": {
      "text/html": [
       "<table class=\"dataframe\">\n",
       "<caption>A data.frame: 6 × 2</caption>\n",
       "<thead>\n",
       "\t<tr><th></th><th scope=col>gene</th><th scope=col>pval</th></tr>\n",
       "\t<tr><th></th><th scope=col>&lt;chr&gt;</th><th scope=col>&lt;dbl&gt;</th></tr>\n",
       "</thead>\n",
       "<tbody>\n",
       "\t<tr><th scope=row>NTNG1</th><td>NTNG1 </td><td>2.390279e-108</td></tr>\n",
       "\t<tr><th scope=row>AFP</th><td>AFP   </td><td>1.970196e-298</td></tr>\n",
       "\t<tr><th scope=row>PTGER3</th><td>PTGER3</td><td> 0.000000e+00</td></tr>\n",
       "\t<tr><th scope=row>DDN</th><td>DDN   </td><td>2.691151e-206</td></tr>\n",
       "\t<tr><th scope=row>EMX2</th><td>EMX2  </td><td> 0.000000e+00</td></tr>\n",
       "\t<tr><th scope=row>KCNJ1</th><td>KCNJ1 </td><td> 3.667415e-78</td></tr>\n",
       "</tbody>\n",
       "</table>\n"
      ],
      "text/latex": [
       "A data.frame: 6 × 2\n",
       "\\begin{tabular}{r|ll}\n",
       "  & gene & pval\\\\\n",
       "  & <chr> & <dbl>\\\\\n",
       "\\hline\n",
       "\tNTNG1 & NTNG1  & 2.390279e-108\\\\\n",
       "\tAFP & AFP    & 1.970196e-298\\\\\n",
       "\tPTGER3 & PTGER3 &  0.000000e+00\\\\\n",
       "\tDDN & DDN    & 2.691151e-206\\\\\n",
       "\tEMX2 & EMX2   &  0.000000e+00\\\\\n",
       "\tKCNJ1 & KCNJ1  &  3.667415e-78\\\\\n",
       "\\end{tabular}\n"
      ],
      "text/markdown": [
       "\n",
       "A data.frame: 6 × 2\n",
       "\n",
       "| <!--/--> | gene &lt;chr&gt; | pval &lt;dbl&gt; |\n",
       "|---|---|---|\n",
       "| NTNG1 | NTNG1  | 2.390279e-108 |\n",
       "| AFP | AFP    | 1.970196e-298 |\n",
       "| PTGER3 | PTGER3 |  0.000000e+00 |\n",
       "| DDN | DDN    | 2.691151e-206 |\n",
       "| EMX2 | EMX2   |  0.000000e+00 |\n",
       "| KCNJ1 | KCNJ1  |  3.667415e-78 |\n",
       "\n"
      ],
      "text/plain": [
       "       gene   pval         \n",
       "NTNG1  NTNG1  2.390279e-108\n",
       "AFP    AFP    1.970196e-298\n",
       "PTGER3 PTGER3  0.000000e+00\n",
       "DDN    DDN    2.691151e-206\n",
       "EMX2   EMX2    0.000000e+00\n",
       "KCNJ1  KCNJ1   3.667415e-78"
      ]
     },
     "metadata": {},
     "output_type": "display_data"
    }
   ],
   "source": [
    "head(sign_genes$results)"
   ]
  },
  {
   "cell_type": "markdown",
   "id": "36a916f6",
   "metadata": {},
   "source": [
    "We launch the attack with the advCGD function with alpha=2 and epsilon=2 parameters, which lead to a big modification on a few genes. You can try with alpha=1 and epsilon=1 to have small modifications of more genes."
   ]
  },
  {
   "cell_type": "code",
   "execution_count": 22,
   "id": "0adf26d7",
   "metadata": {
    "execution": {
     "iopub.execute_input": "2024-10-09T19:19:59.261130Z",
     "iopub.status.busy": "2024-10-09T19:19:59.257407Z",
     "iopub.status.idle": "2024-10-09T19:19:59.287585Z",
     "shell.execute_reply": "2024-10-09T19:19:59.284523Z"
    }
   },
   "outputs": [],
   "source": [
    "start_time <- Sys.time()"
   ]
  },
  {
   "cell_type": "code",
   "execution_count": 23,
   "id": "d17b3e12",
   "metadata": {
    "execution": {
     "iopub.execute_input": "2024-10-09T19:19:59.297647Z",
     "iopub.status.busy": "2024-10-09T19:19:59.295715Z",
     "iopub.status.idle": "2024-10-09T19:45:24.959590Z",
     "shell.execute_reply": "2024-10-09T19:45:24.913310Z"
    }
   },
   "outputs": [
    {
     "name": "stderr",
     "output_type": "stream",
     "text": [
      "podocyte\n",
      "\n",
      "53966\n",
      "\n",
      "5396\n",
      "\n",
      "139\n",
      "\n",
      "New cluster target: kidney_cell\n",
      "\n",
      "NTNG1 1\n",
      "\n",
      "Number of original annot podocyte : 130\n",
      "\n",
      " mean 0.989235801072765 delt 0\n",
      "\n",
      "Number of kidney_cell : 9\n",
      "\n",
      " mean 0.856478520706906 delt 0\n",
      "\n",
      "Number of modified cells 130\n",
      "\n",
      "AFP 2\n",
      "\n",
      "Number of original annot podocyte : 124\n",
      "\n",
      " mean 0.98284568222746 delt -0.00639011884530549\n",
      "\n",
      "Number of kidney_cell : 15\n",
      "\n",
      " mean 0.835370104254188 delt -0.0211084164527183\n",
      "\n",
      "Number of modified cells 0\n",
      "\n",
      "PTGER3 3\n",
      "\n",
      "Number of original annot podocyte : 124\n",
      "\n",
      " mean 0.98284568222746 delt 0\n",
      "\n",
      "Number of kidney_cell : 15\n",
      "\n",
      " mean 0.835370104254188 delt 0\n",
      "\n",
      "Number of modified cells 0\n",
      "\n",
      "DDN 4\n",
      "\n",
      "Number of original annot podocyte : 124\n",
      "\n",
      " mean 0.98284568222746 delt 0\n",
      "\n",
      "Number of kidney_cell : 15\n",
      "\n",
      " mean 0.835370104254188 delt 0\n",
      "\n",
      "Number of modified cells 124\n",
      "\n",
      "EMX2 5\n",
      "\n",
      "Number of original annot podocyte : 74\n",
      "\n",
      " mean 0.937174180434824 delt -0.0456715017926359\n",
      "\n",
      "Number of kidney_cell : 62\n",
      "\n",
      " mean 0.786687608994066 delt -0.0486824952601214\n",
      "\n",
      "Number of modified cells 77\n",
      "\n"
     ]
    }
   ],
   "source": [
    "igd4c_results <- advCGD(so_pbmc_test, clusters_so, 'podocyte',\n",
    "                          scAnnotatR_classifier, alpha=2,\n",
    "                          epsilon=2, slot=\"scale.data\",\n",
    "                          genes=sign_genes$results$gene[1:500],\n",
    "                         verbose=T)"
   ]
  },
  {
   "cell_type": "markdown",
   "id": "ace92c46",
   "metadata": {},
   "source": [
    "# Computation time"
   ]
  },
  {
   "cell_type": "code",
   "execution_count": 24,
   "id": "12d68a4e",
   "metadata": {
    "execution": {
     "iopub.execute_input": "2024-10-09T19:45:25.660410Z",
     "iopub.status.busy": "2024-10-09T19:45:25.658720Z",
     "iopub.status.idle": "2024-10-09T19:45:25.759017Z",
     "shell.execute_reply": "2024-10-09T19:45:25.756416Z"
    }
   },
   "outputs": [
    {
     "data": {
      "text/plain": [
       "Time difference of 4.427193 mins"
      ]
     },
     "metadata": {},
     "output_type": "display_data"
    }
   ],
   "source": [
    "Sys.time() - start_time"
   ]
  },
  {
   "cell_type": "markdown",
   "id": "d5896fe8",
   "metadata": {},
   "source": [
    "We can see the genes that have been modified"
   ]
  },
  {
   "cell_type": "code",
   "execution_count": 25,
   "id": "7b919c8f",
   "metadata": {
    "execution": {
     "iopub.execute_input": "2024-10-09T19:45:25.882269Z",
     "iopub.status.busy": "2024-10-09T19:45:25.878156Z",
     "iopub.status.idle": "2024-10-09T19:45:25.909955Z",
     "shell.execute_reply": "2024-10-09T19:45:25.907659Z"
    }
   },
   "outputs": [
    {
     "data": {
      "text/html": [
       "<style>\n",
       ".list-inline {list-style: none; margin:0; padding: 0}\n",
       ".list-inline>li {display: inline-block}\n",
       ".list-inline>li:not(:last-child)::after {content: \"\\00b7\"; padding: 0 .5ex}\n",
       "</style>\n",
       "<ol class=list-inline><li>'NTNG1'</li><li>'DDN'</li><li>'EMX2'</li></ol>\n"
      ],
      "text/latex": [
       "\\begin{enumerate*}\n",
       "\\item 'NTNG1'\n",
       "\\item 'DDN'\n",
       "\\item 'EMX2'\n",
       "\\end{enumerate*}\n"
      ],
      "text/markdown": [
       "1. 'NTNG1'\n",
       "2. 'DDN'\n",
       "3. 'EMX2'\n",
       "\n",
       "\n"
      ],
      "text/plain": [
       "[1] \"NTNG1\" \"DDN\"   \"EMX2\" "
      ]
     },
     "metadata": {},
     "output_type": "display_data"
    }
   ],
   "source": [
    "igd4c_results$modGenes"
   ]
  },
  {
   "cell_type": "markdown",
   "id": "8dd443b1",
   "metadata": {},
   "source": [
    "And the modified Seurat object"
   ]
  },
  {
   "cell_type": "code",
   "execution_count": 26,
   "id": "3461ddcb",
   "metadata": {
    "execution": {
     "iopub.execute_input": "2024-10-09T19:45:25.919977Z",
     "iopub.status.busy": "2024-10-09T19:45:25.918754Z",
     "iopub.status.idle": "2024-10-09T19:45:25.968961Z",
     "shell.execute_reply": "2024-10-09T19:45:25.964668Z"
    }
   },
   "outputs": [
    {
     "data": {
      "text/plain": [
       "An object of class Seurat \n",
       "32839 features across 5396 samples within 1 assay \n",
       "Active assay: RNA (32839 features, 0 variable features)\n",
       " 3 layers present: counts, data, scale.data"
      ]
     },
     "metadata": {},
     "output_type": "display_data"
    }
   ],
   "source": [
    "igd4c_results$expr"
   ]
  },
  {
   "cell_type": "markdown",
   "id": "6893b0e6",
   "metadata": {},
   "source": [
    "The blood vessel endothelial cell cluster is now classified as CD8 T cells"
   ]
  },
  {
   "cell_type": "code",
   "execution_count": 27,
   "id": "80e16f78",
   "metadata": {
    "execution": {
     "iopub.execute_input": "2024-10-09T19:45:25.978498Z",
     "iopub.status.busy": "2024-10-09T19:45:25.976958Z",
     "iopub.status.idle": "2024-10-09T19:45:32.548601Z",
     "shell.execute_reply": "2024-10-09T19:45:32.547353Z"
    }
   },
   "outputs": [
    {
     "data": {
      "text/html": [
       "'kidney_cell'"
      ],
      "text/latex": [
       "'kidney\\_cell'"
      ],
      "text/markdown": [
       "'kidney_cell'"
      ],
      "text/plain": [
       "[1] \"kidney_cell\""
      ]
     },
     "metadata": {},
     "output_type": "display_data"
    }
   ],
   "source": [
    "new_classification <- scAnnotatR_classifier(igd4c_results$expr, clusters_so, 'podocyte')\n",
    "new_classification$prediction"
   ]
  },
  {
   "cell_type": "code",
   "execution_count": null,
   "id": "2c5a24b2",
   "metadata": {},
   "outputs": [],
   "source": []
  },
  {
   "cell_type": "code",
   "execution_count": null,
   "id": "a52ca7b9",
   "metadata": {},
   "outputs": [],
   "source": []
  },
  {
   "cell_type": "code",
   "execution_count": 28,
   "id": "e0762f1b",
   "metadata": {
    "execution": {
     "iopub.execute_input": "2024-10-09T19:45:32.555948Z",
     "iopub.status.busy": "2024-10-09T19:45:32.554734Z",
     "iopub.status.idle": "2024-10-09T19:45:33.195875Z",
     "shell.execute_reply": "2024-10-09T19:45:33.193741Z"
    }
   },
   "outputs": [
    {
     "data": {
      "text/plain": [
       "R version 4.3.0 (2023-04-21)\n",
       "Platform: x86_64-pc-linux-gnu (64-bit)\n",
       "Running under: Ubuntu 22.04.1 LTS\n",
       "\n",
       "Matrix products: default\n",
       "BLAS:   /usr/lib/x86_64-linux-gnu/blas/libblas.so.3.10.0 \n",
       "LAPACK: /usr/lib/x86_64-linux-gnu/lapack/liblapack.so.3.10.0\n",
       "\n",
       "locale:\n",
       " [1] LC_CTYPE=en_US.UTF-8       LC_NUMERIC=C              \n",
       " [3] LC_TIME=fr_FR.UTF-8        LC_COLLATE=en_US.UTF-8    \n",
       " [5] LC_MONETARY=fr_FR.UTF-8    LC_MESSAGES=en_US.UTF-8   \n",
       " [7] LC_PAPER=fr_FR.UTF-8       LC_NAME=C                 \n",
       " [9] LC_ADDRESS=C               LC_TELEPHONE=C            \n",
       "[11] LC_MEASUREMENT=fr_FR.UTF-8 LC_IDENTIFICATION=C       \n",
       "\n",
       "time zone: Europe/Paris\n",
       "tzcode source: system (glibc)\n",
       "\n",
       "attached base packages:\n",
       "[1] stats4    stats     graphics  grDevices utils     datasets  methods  \n",
       "[8] base     \n",
       "\n",
       "other attached packages:\n",
       " [1] caret_6.0-94                lattice_0.21-8             \n",
       " [3] ggplot2_3.4.2               adverSCarial_1.3.6         \n",
       " [5] IRdisplay_1.1               scAnnotatR_1.8.0           \n",
       " [7] SingleCellExperiment_1.23.0 SummarizedExperiment_1.31.1\n",
       " [9] Biobase_2.61.0              GenomicRanges_1.53.1       \n",
       "[11] GenomeInfoDb_1.37.2         IRanges_2.35.2             \n",
       "[13] S4Vectors_0.39.1            BiocGenerics_0.47.0        \n",
       "[15] MatrixGenerics_1.13.0       matrixStats_1.0.0          \n",
       "[17] Seurat_5.1.0                SeuratObject_5.0.2         \n",
       "[19] sp_2.0-0                   \n",
       "\n",
       "loaded via a namespace (and not attached):\n",
       "  [1] RcppAnnoy_0.0.20              splines_4.3.0                \n",
       "  [3] later_1.3.1                   pbdZMQ_0.3-9                 \n",
       "  [5] bitops_1.0-7                  filelock_1.0.2               \n",
       "  [7] tibble_3.2.1                  polyclip_1.10-4              \n",
       "  [9] hardhat_1.3.1                 pROC_1.18.5                  \n",
       " [11] rpart_4.1.19                  fastDummies_1.7.4            \n",
       " [13] lifecycle_1.0.3               globals_0.16.2               \n",
       " [15] MASS_7.3-60                   magrittr_2.0.3               \n",
       " [17] plotly_4.10.2                 yaml_2.3.7                   \n",
       " [19] httpuv_1.6.11                 sctransform_0.4.1            \n",
       " [21] spam_2.11-0                   spatstat.sparse_3.0-2        \n",
       " [23] reticulate_1.36.1             cowplot_1.1.1                \n",
       " [25] pbapply_1.7-2                 DBI_1.1.3                    \n",
       " [27] RColorBrewer_1.1-3            lubridate_1.9.3              \n",
       " [29] abind_1.4-5                   zlibbioc_1.47.0              \n",
       " [31] Rtsne_0.16                    purrr_1.0.1                  \n",
       " [33] RCurl_1.98-1.12               nnet_7.3-19                  \n",
       " [35] rappdirs_0.3.3                ipred_0.9-14                 \n",
       " [37] lava_1.8.0                    GenomeInfoDbData_1.2.10      \n",
       " [39] data.tree_1.1.0               ggrepel_0.9.3                \n",
       " [41] irlba_2.3.5.1                 listenv_0.9.0                \n",
       " [43] spatstat.utils_3.0-3          goftest_1.2-3                \n",
       " [45] RSpectra_0.16-2               spatstat.random_3.1-5        \n",
       " [47] fitdistrplus_1.1-11           parallelly_1.36.0            \n",
       " [49] leiden_0.4.3                  codetools_0.2-19             \n",
       " [51] DelayedArray_0.27.5           tidyselect_1.2.0             \n",
       " [53] BiocFileCache_2.9.0           base64enc_0.1-3              \n",
       " [55] spatstat.explore_3.2-1        jsonlite_1.8.5               \n",
       " [57] e1071_1.7-14                  ellipsis_0.3.2               \n",
       " [59] progressr_0.13.0              iterators_1.0.14             \n",
       " [61] ggridges_0.5.4                survival_3.5-5               \n",
       " [63] foreach_1.5.2                 tools_4.3.0                  \n",
       " [65] ica_1.0-3                     Rcpp_1.0.10                  \n",
       " [67] glue_1.6.2                    prodlim_2023.08.28           \n",
       " [69] gridExtra_2.3                 SparseArray_1.1.10           \n",
       " [71] dplyr_1.1.2                   withr_2.5.0                  \n",
       " [73] BiocManager_1.30.21           fastmap_1.1.1                \n",
       " [75] fansi_1.0.4                   digest_0.6.32                \n",
       " [77] timechange_0.3.0              R6_2.5.1                     \n",
       " [79] mime_0.12                     colorspace_2.1-0             \n",
       " [81] scattermore_1.2               tensor_1.5                   \n",
       " [83] spatstat.data_3.0-1           RSQLite_2.3.1                \n",
       " [85] utf8_1.2.3                    tidyr_1.3.0                  \n",
       " [87] generics_0.1.3                recipes_1.0.10               \n",
       " [89] data.table_1.14.8             class_7.3-22                 \n",
       " [91] httr_1.4.6                    htmlwidgets_1.6.2            \n",
       " [93] S4Arrays_1.1.4                ModelMetrics_1.2.2.2         \n",
       " [95] uwot_0.1.15                   pkgconfig_2.0.3              \n",
       " [97] gtable_0.3.3                  timeDate_4032.109            \n",
       " [99] blob_1.2.4                    lmtest_0.9-40                \n",
       "[101] XVector_0.41.1                htmltools_0.5.5              \n",
       "[103] dotCall64_1.2                 scales_1.2.1                 \n",
       "[105] png_0.1-8                     gower_1.0.1                  \n",
       "[107] reshape2_1.4.4                uuid_1.1-0                   \n",
       "[109] nlme_3.1-162                  curl_5.0.1                   \n",
       "[111] proxy_0.4-27                  repr_1.1.6                   \n",
       "[113] zoo_1.8-12                    cachem_1.0.8                 \n",
       "[115] stringr_1.5.0                 BiocVersion_3.18.0           \n",
       "[117] KernSmooth_2.23-21            parallel_4.3.0               \n",
       "[119] miniUI_0.1.1.1                AnnotationDbi_1.63.1         \n",
       "[121] pillar_1.9.0                  grid_4.3.0                   \n",
       "[123] vctrs_0.6.3                   RANN_2.6.1                   \n",
       "[125] promises_1.2.0.1              dbplyr_2.3.2                 \n",
       "[127] xtable_1.8-4                  cluster_2.1.4                \n",
       "[129] evaluate_0.21                 cli_3.6.1                    \n",
       "[131] compiler_4.3.0                rlang_1.1.1                  \n",
       "[133] crayon_1.5.2                  future.apply_1.11.0          \n",
       "[135] plyr_1.8.8                    stringi_1.7.12               \n",
       "[137] viridisLite_0.4.2             deldir_1.0-9                 \n",
       "[139] Biostrings_2.69.1             munsell_0.5.0                \n",
       "[141] lazyeval_0.2.2                spatstat.geom_3.2-1          \n",
       "[143] Matrix_1.6-4                  IRkernel_1.3.2               \n",
       "[145] RcppHNSW_0.4.1                patchwork_1.1.2              \n",
       "[147] bit64_4.0.5                   future_1.32.0                \n",
       "[149] KEGGREST_1.41.0               shiny_1.7.4                  \n",
       "[151] interactiveDisplayBase_1.39.0 AnnotationHub_3.9.1          \n",
       "[153] kernlab_0.9-32                ROCR_1.0-11                  \n",
       "[155] igraph_1.5.0                  memoise_2.0.1                \n",
       "[157] bit_4.0.5                     ape_5.8                      "
      ]
     },
     "metadata": {},
     "output_type": "display_data"
    }
   ],
   "source": [
    "sessionInfo()"
   ]
  }
 ],
 "metadata": {
  "kernelspec": {
   "display_name": "R",
   "language": "R",
   "name": "ir"
  },
  "language_info": {
   "codemirror_mode": "r",
   "file_extension": ".r",
   "mimetype": "text/x-r-source",
   "name": "R",
   "pygments_lexer": "r",
   "version": "4.3.3"
  }
 },
 "nbformat": 4,
 "nbformat_minor": 5
}
