{
 "cells": [
  {
   "cell_type": "markdown",
   "id": "0531c3da",
   "metadata": {},
   "source": [
    "# Attack on scAnnotatR\n",
    "\n",
    "- How to train a scAnnotatR classifier\n",
    "- How to format the classifier to use it with adverSCarial\n",
    "- How to run an CGD attack\n",
    "\n",
    "Nguyen, V., Griss, J. scAnnotatR: framework to accurately classify cell types in single-cell RNA-sequencing data. BMC Bioinformatics, 2022. 23(44) https://doi.org/10.1186/s12859-022-04574-5 "
   ]
  },
  {
   "cell_type": "code",
   "execution_count": 1,
   "id": "1f739233",
   "metadata": {
    "vscode": {
     "languageId": "r"
    }
   },
   "outputs": [
    {
     "name": "stderr",
     "output_type": "stream",
     "text": [
      "Loading required package: Seurat\n",
      "\n",
      "Loading required package: SeuratObject\n",
      "\n",
      "Loading required package: sp\n",
      "\n",
      "The legacy packages maptools, rgdal, and rgeos, underpinning this package\n",
      "will retire shortly. Please refer to R-spatial evolution reports on\n",
      "https://r-spatial.org/r/2023/05/15/evolution4.html for details.\n",
      "This package is now running under evolution status 0 \n",
      "\n",
      "‘SeuratObject’ was built under R 4.3.0 but the current version is\n",
      "4.3.3; it is recomended that you reinstall ‘SeuratObject’ as the ABI\n",
      "for R may have changed\n",
      "\n",
      "\n",
      "Attaching package: ‘SeuratObject’\n",
      "\n",
      "\n",
      "The following object is masked from ‘package:base’:\n",
      "\n",
      "    intersect\n",
      "\n",
      "\n",
      "Loading required package: SingleCellExperiment\n",
      "\n",
      "Loading required package: SummarizedExperiment\n",
      "\n",
      "Loading required package: MatrixGenerics\n",
      "\n",
      "Loading required package: matrixStats\n",
      "\n",
      "\n",
      "Attaching package: ‘MatrixGenerics’\n",
      "\n",
      "\n",
      "The following objects are masked from ‘package:matrixStats’:\n",
      "\n",
      "    colAlls, colAnyNAs, colAnys, colAvgsPerRowSet, colCollapse,\n",
      "    colCounts, colCummaxs, colCummins, colCumprods, colCumsums,\n",
      "    colDiffs, colIQRDiffs, colIQRs, colLogSumExps, colMadDiffs,\n",
      "    colMads, colMaxs, colMeans2, colMedians, colMins, colOrderStats,\n",
      "    colProds, colQuantiles, colRanges, colRanks, colSdDiffs, colSds,\n",
      "    colSums2, colTabulates, colVarDiffs, colVars, colWeightedMads,\n",
      "    colWeightedMeans, colWeightedMedians, colWeightedSds,\n",
      "    colWeightedVars, rowAlls, rowAnyNAs, rowAnys, rowAvgsPerColSet,\n",
      "    rowCollapse, rowCounts, rowCummaxs, rowCummins, rowCumprods,\n",
      "    rowCumsums, rowDiffs, rowIQRDiffs, rowIQRs, rowLogSumExps,\n",
      "    rowMadDiffs, rowMads, rowMaxs, rowMeans2, rowMedians, rowMins,\n",
      "    rowOrderStats, rowProds, rowQuantiles, rowRanges, rowRanks,\n",
      "    rowSdDiffs, rowSds, rowSums2, rowTabulates, rowVarDiffs, rowVars,\n",
      "    rowWeightedMads, rowWeightedMeans, rowWeightedMedians,\n",
      "    rowWeightedSds, rowWeightedVars\n",
      "\n",
      "\n",
      "Loading required package: GenomicRanges\n",
      "\n",
      "Loading required package: stats4\n",
      "\n",
      "Loading required package: BiocGenerics\n",
      "\n",
      "\n",
      "Attaching package: ‘BiocGenerics’\n",
      "\n",
      "\n",
      "The following object is masked from ‘package:SeuratObject’:\n",
      "\n",
      "    intersect\n",
      "\n",
      "\n",
      "The following objects are masked from ‘package:stats’:\n",
      "\n",
      "    IQR, mad, sd, var, xtabs\n",
      "\n",
      "\n",
      "The following objects are masked from ‘package:base’:\n",
      "\n",
      "    anyDuplicated, aperm, append, as.data.frame, basename, cbind,\n",
      "    colnames, dirname, do.call, duplicated, eval, evalq, Filter, Find,\n",
      "    get, grep, grepl, intersect, is.unsorted, lapply, Map, mapply,\n",
      "    match, mget, order, paste, pmax, pmax.int, pmin, pmin.int,\n",
      "    Position, rank, rbind, Reduce, rownames, sapply, setdiff, sort,\n",
      "    table, tapply, union, unique, unsplit, which.max, which.min\n",
      "\n",
      "\n",
      "Loading required package: S4Vectors\n",
      "\n",
      "\n",
      "Attaching package: ‘S4Vectors’\n",
      "\n",
      "\n",
      "The following object is masked from ‘package:utils’:\n",
      "\n",
      "    findMatches\n",
      "\n",
      "\n",
      "The following objects are masked from ‘package:base’:\n",
      "\n",
      "    expand.grid, I, unname\n",
      "\n",
      "\n",
      "Loading required package: IRanges\n",
      "\n",
      "\n",
      "Attaching package: ‘IRanges’\n",
      "\n",
      "\n",
      "The following object is masked from ‘package:sp’:\n",
      "\n",
      "    %over%\n",
      "\n",
      "\n",
      "Loading required package: GenomeInfoDb\n",
      "\n",
      "Loading required package: Biobase\n",
      "\n",
      "Welcome to Bioconductor\n",
      "\n",
      "    Vignettes contain introductory material; view with\n",
      "    'browseVignettes()'. To cite Bioconductor, see\n",
      "    'citation(\"Biobase\")', and for packages 'citation(\"pkgname\")'.\n",
      "\n",
      "\n",
      "\n",
      "Attaching package: ‘Biobase’\n",
      "\n",
      "\n",
      "The following object is masked from ‘package:MatrixGenerics’:\n",
      "\n",
      "    rowMedians\n",
      "\n",
      "\n",
      "The following objects are masked from ‘package:matrixStats’:\n",
      "\n",
      "    anyMissing, rowMedians\n",
      "\n",
      "\n",
      "\n",
      "Attaching package: ‘SummarizedExperiment’\n",
      "\n",
      "\n",
      "The following object is masked from ‘package:Seurat’:\n",
      "\n",
      "    Assays\n",
      "\n",
      "\n",
      "The following object is masked from ‘package:SeuratObject’:\n",
      "\n",
      "    Assays\n",
      "\n",
      "\n",
      "“replacing previous import ‘ape::where’ by ‘dplyr::where’ when loading ‘scAnnotatR’”\n"
     ]
    }
   ],
   "source": [
    "library(scAnnotatR)\n",
    "library(IRdisplay)\n",
    "library(adverSCarial)"
   ]
  },
  {
   "cell_type": "markdown",
   "id": "678bb943",
   "metadata": {},
   "source": [
    "# scAnnotatR classifier training\n",
    "\n",
    "Load previously splitted train/test pbmc3k dataset\n",
    "https://cf.10xgenomics.com/samples/cell/pbmc3k/pbmc3k_filtered_gene_bc_matrices.tar.gz\n",
    "\n",
    "annotated from the Seurat tutorial method\n",
    "https://satijalab.org/seurat/articles/pbmc3k_tutorial"
   ]
  },
  {
   "cell_type": "code",
   "execution_count": 2,
   "id": "8ea49383",
   "metadata": {
    "vscode": {
     "languageId": "r"
    }
   },
   "outputs": [],
   "source": [
    "se_train <- readRDS(\"data//v2/pbmc_train.rds\")\n",
    "se_test <- readRDS(\"data//v2/pbmc_test.rds\")"
   ]
  },
  {
   "cell_type": "code",
   "execution_count": 3,
   "id": "b9def834",
   "metadata": {},
   "outputs": [],
   "source": [
    "Idents(se_train) <- \"chr_seurat_cluster\"\n",
    "Idents(se_test) <- \"chr_seurat_cluster\""
   ]
  },
  {
   "cell_type": "code",
   "execution_count": 4,
   "id": "8fdd272a",
   "metadata": {},
   "outputs": [
    {
     "data": {
      "text/html": [
       "<table class=\"dataframe\">\n",
       "<caption>A data.frame: 6 × 7</caption>\n",
       "<thead>\n",
       "\t<tr><th></th><th scope=col>orig.ident</th><th scope=col>nCount_RNA</th><th scope=col>nFeature_RNA</th><th scope=col>percent.mt</th><th scope=col>RNA_snn_res.0.5</th><th scope=col>seurat_clusters</th><th scope=col>chr_seurat_cluster</th></tr>\n",
       "\t<tr><th></th><th scope=col>&lt;fct&gt;</th><th scope=col>&lt;dbl&gt;</th><th scope=col>&lt;int&gt;</th><th scope=col>&lt;dbl&gt;</th><th scope=col>&lt;fct&gt;</th><th scope=col>&lt;fct&gt;</th><th scope=col>&lt;chr&gt;</th></tr>\n",
       "</thead>\n",
       "<tbody>\n",
       "\t<tr><th scope=row>AAACGCTGGTTCTT-1</th><td>pbmc3k</td><td>2260</td><td> 790</td><td>3.097345</td><td>4</td><td>4</td><td>CD8 T       </td></tr>\n",
       "\t<tr><th scope=row>AAACGCTGTAGCCA-1</th><td>pbmc3k</td><td>1275</td><td> 532</td><td>1.176471</td><td>0</td><td>0</td><td>Naive CD4 T </td></tr>\n",
       "\t<tr><th scope=row>AAACGCTGTTTCTG-1</th><td>pbmc3k</td><td>1103</td><td> 550</td><td>2.901179</td><td>5</td><td>5</td><td>FCGR3A+ Mono</td></tr>\n",
       "\t<tr><th scope=row>AAACTTGATCCAGA-1</th><td>pbmc3k</td><td>2388</td><td> 747</td><td>1.088777</td><td>0</td><td>0</td><td>Naive CD4 T </td></tr>\n",
       "\t<tr><th scope=row>AAAGAGACGCGAGA-1</th><td>pbmc3k</td><td>3033</td><td>1058</td><td>1.417738</td><td>1</td><td>1</td><td>CD14+ Mono  </td></tr>\n",
       "\t<tr><th scope=row>AAAGAGACGGACTT-1</th><td>pbmc3k</td><td>1151</td><td> 457</td><td>2.345786</td><td>0</td><td>0</td><td>Naive CD4 T </td></tr>\n",
       "</tbody>\n",
       "</table>\n"
      ],
      "text/latex": [
       "A data.frame: 6 × 7\n",
       "\\begin{tabular}{r|lllllll}\n",
       "  & orig.ident & nCount\\_RNA & nFeature\\_RNA & percent.mt & RNA\\_snn\\_res.0.5 & seurat\\_clusters & chr\\_seurat\\_cluster\\\\\n",
       "  & <fct> & <dbl> & <int> & <dbl> & <fct> & <fct> & <chr>\\\\\n",
       "\\hline\n",
       "\tAAACGCTGGTTCTT-1 & pbmc3k & 2260 &  790 & 3.097345 & 4 & 4 & CD8 T       \\\\\n",
       "\tAAACGCTGTAGCCA-1 & pbmc3k & 1275 &  532 & 1.176471 & 0 & 0 & Naive CD4 T \\\\\n",
       "\tAAACGCTGTTTCTG-1 & pbmc3k & 1103 &  550 & 2.901179 & 5 & 5 & FCGR3A+ Mono\\\\\n",
       "\tAAACTTGATCCAGA-1 & pbmc3k & 2388 &  747 & 1.088777 & 0 & 0 & Naive CD4 T \\\\\n",
       "\tAAAGAGACGCGAGA-1 & pbmc3k & 3033 & 1058 & 1.417738 & 1 & 1 & CD14+ Mono  \\\\\n",
       "\tAAAGAGACGGACTT-1 & pbmc3k & 1151 &  457 & 2.345786 & 0 & 0 & Naive CD4 T \\\\\n",
       "\\end{tabular}\n"
      ],
      "text/markdown": [
       "\n",
       "A data.frame: 6 × 7\n",
       "\n",
       "| <!--/--> | orig.ident &lt;fct&gt; | nCount_RNA &lt;dbl&gt; | nFeature_RNA &lt;int&gt; | percent.mt &lt;dbl&gt; | RNA_snn_res.0.5 &lt;fct&gt; | seurat_clusters &lt;fct&gt; | chr_seurat_cluster &lt;chr&gt; |\n",
       "|---|---|---|---|---|---|---|---|\n",
       "| AAACGCTGGTTCTT-1 | pbmc3k | 2260 |  790 | 3.097345 | 4 | 4 | CD8 T        |\n",
       "| AAACGCTGTAGCCA-1 | pbmc3k | 1275 |  532 | 1.176471 | 0 | 0 | Naive CD4 T  |\n",
       "| AAACGCTGTTTCTG-1 | pbmc3k | 1103 |  550 | 2.901179 | 5 | 5 | FCGR3A+ Mono |\n",
       "| AAACTTGATCCAGA-1 | pbmc3k | 2388 |  747 | 1.088777 | 0 | 0 | Naive CD4 T  |\n",
       "| AAAGAGACGCGAGA-1 | pbmc3k | 3033 | 1058 | 1.417738 | 1 | 1 | CD14+ Mono   |\n",
       "| AAAGAGACGGACTT-1 | pbmc3k | 1151 |  457 | 2.345786 | 0 | 0 | Naive CD4 T  |\n",
       "\n"
      ],
      "text/plain": [
       "                 orig.ident nCount_RNA nFeature_RNA percent.mt RNA_snn_res.0.5\n",
       "AAACGCTGGTTCTT-1 pbmc3k     2260        790         3.097345   4              \n",
       "AAACGCTGTAGCCA-1 pbmc3k     1275        532         1.176471   0              \n",
       "AAACGCTGTTTCTG-1 pbmc3k     1103        550         2.901179   5              \n",
       "AAACTTGATCCAGA-1 pbmc3k     2388        747         1.088777   0              \n",
       "AAAGAGACGCGAGA-1 pbmc3k     3033       1058         1.417738   1              \n",
       "AAAGAGACGGACTT-1 pbmc3k     1151        457         2.345786   0              \n",
       "                 seurat_clusters chr_seurat_cluster\n",
       "AAACGCTGGTTCTT-1 4               CD8 T             \n",
       "AAACGCTGTAGCCA-1 0               Naive CD4 T       \n",
       "AAACGCTGTTTCTG-1 5               FCGR3A+ Mono      \n",
       "AAACTTGATCCAGA-1 0               Naive CD4 T       \n",
       "AAAGAGACGCGAGA-1 1               CD14+ Mono        \n",
       "AAAGAGACGGACTT-1 0               Naive CD4 T       "
      ]
     },
     "metadata": {},
     "output_type": "display_data"
    }
   ],
   "source": [
    "head(se_train@meta.data)"
   ]
  },
  {
   "cell_type": "markdown",
   "id": "9b8f3d1f",
   "metadata": {},
   "source": [
    "## Function to get the most significant genes between a cluster and the other cells"
   ]
  },
  {
   "cell_type": "code",
   "execution_count": 14,
   "id": "46db0599",
   "metadata": {},
   "outputs": [],
   "source": [
    "getSignGenesNot <- function(expr, clusters, target, method=\"wilcox\", adjMethod=\"BH\", verbose=FALSE){\n",
    "        if (verbose) {message(\"Cluster \",target,\" vs all the other clusters\")}\n",
    "        pvals <- apply(t(expr), 1, function(x){\n",
    "            c1 <- x[clusters == target]\n",
    "            c1 <- c1[!is.na(c1)]\n",
    "            c2 <- x[clusters != target]\n",
    "            c2 <- c2[!is.na(c2)]\n",
    "            if ( length(c1) == 0 || length(c2) == 0){\n",
    "                return(1)\n",
    "            }\n",
    "            if (length(unique(c1))==1){\n",
    "                c1[1] = c1[1] + 0.00001\n",
    "            }\n",
    "            if (length(unique(c2))==1){\n",
    "                c2[1] = c2[1] + 0.00001\n",
    "            }\n",
    "            if (method==\"wilcox\"){\n",
    "                return(wilcox.test(c1, c2)$p.value)\n",
    "            }\n",
    "            if (method==\"ttest\"){\n",
    "                return(t.test(c1, c2)$p.value)\n",
    "            }\n",
    "        })\n",
    "        means <- apply(t(expr), 1, function(x){\n",
    "                c1 <- x[clusters == target]\n",
    "                c1 <- c1[!is.na(c1)]\n",
    "                c2 <- x[clusters != target]\n",
    "                c2 <- c2[!is.na(c2)]\n",
    "                if (length(c1) == 0){\n",
    "                    c1 = c(0)\n",
    "                }\n",
    "                if (length(c2) == 0){\n",
    "                    c2 = c(0)\n",
    "                }\n",
    "                return(mean(c1)-mean(c2))\n",
    "        })  \n",
    "        dfPvals <- data.frame(gene=colnames(expr), pval=unname(pvals), mean=means)\n",
    "        rownames(dfPvals) <- dfPvals$gene\n",
    "\n",
    "        for (clustInt in setdiff(unique(clusters), target)){\n",
    "            if(verbose){message(\"Cluster \", target, \" vs cluster \", clustInt)}\n",
    "            newPvals <- pvals <- apply(t(expr), 1, function(x){\n",
    "                c1 <- x[clusters == target]\n",
    "                c1 <- c1[!is.na(c1)]\n",
    "                c2 <- x[clusters == clustInt]\n",
    "                c2 <- c2[!is.na(c2)]\n",
    "                if ( length(c1) == 0 || length(c2) == 0){\n",
    "                    return(1)\n",
    "                }\n",
    "                if (length(unique(c1))==1){\n",
    "                    c1[1] = c1[1] + 0.001\n",
    "                }\n",
    "                if (length(unique(c2))==1){\n",
    "                    c2[1] = c2[1] + 0.001\n",
    "                }\n",
    "                if (method==\"wilcox\"){\n",
    "                    return(wilcox.test(c1, c2)$p.value)\n",
    "                }\n",
    "                if (method==\"ttest\"){\n",
    "                    return(t.test(c1, c2)$p.value)\n",
    "                }    \n",
    "            })\n",
    "            newMeans <- pvals <- apply(t(expr), 1, function(x){\n",
    "                c1 <- x[clusters == target]\n",
    "                c1 <- c1[!is.na(c1)]\n",
    "                c2 <- x[clusters == clustInt]\n",
    "                c2 <- c2[!is.na(c2)]\n",
    "                if (length(c1) == 0){\n",
    "                    c1 = c(0)\n",
    "                }\n",
    "                if (length(c2) == 0){\n",
    "                    c2 = c(0)\n",
    "                }\n",
    "                return(mean(c1)-mean(c2))\n",
    "            })  \n",
    "            if(verbose){message(sum(unname(newPvals) < dfPvals$pval),\" pvalues replaced by lower values\")}\n",
    "            dfPvals[unname(newPvals) < dfPvals$pval, \"pval\"] <- newPvals[unname(newPvals) < dfPvals$pval]\n",
    "            dfPvals[unname(newPvals) < dfPvals$pval, \"mean\"] <- newMeans[unname(newPvals) < dfPvals$pval]\n",
    "    }\n",
    "    dfPvals$adjPval <- p.adjust(dfPvals$pval, method=adjMethod)\n",
    "    dfPvals <- dfPvals[order(dfPvals$pval),]\n",
    "    return(dfPvals)\n",
    "}"
   ]
  },
  {
   "cell_type": "code",
   "execution_count": null,
   "id": "199e5725",
   "metadata": {},
   "outputs": [],
   "source": []
  },
  {
   "cell_type": "code",
   "execution_count": 5,
   "id": "12ce1a1c",
   "metadata": {},
   "outputs": [],
   "source": [
    "dfScaled <- as.data.frame(se_train@assays$RNA@layers$scale.data)\n",
    "colnames(dfScaled) <- rownames(se_train@assays$RNA@cells)\n",
    "rownames(dfScaled) <- rownames(se_train@assays$RNA@features)\n",
    "dfScaled <- as.data.frame(t(dfScaled))"
   ]
  },
  {
   "cell_type": "markdown",
   "id": "c63941ae",
   "metadata": {},
   "source": [
    "The scAnnotatR will build one classifier to predict each cell type, so we one-hot encode the cell type by adding a meta.data column for each cell type with binary information: cell type or \"unknown\"."
   ]
  },
  {
   "cell_type": "code",
   "execution_count": 22,
   "id": "74311bb0",
   "metadata": {},
   "outputs": [],
   "source": [
    "for (cellType in unique(se_train@meta.data$chr_seurat_cluster)){\n",
    "    se_train@meta.data[[cellType]] <- unlist(lapply(se_train@meta.data$chr_seurat_cluster, function(x){\n",
    "        if (x == cellType){\n",
    "            return(cellType)\n",
    "        } else {\n",
    "            return(\"unknown\")\n",
    "        }\n",
    "    }))\n",
    "}"
   ]
  },
  {
   "cell_type": "markdown",
   "id": "1945da64",
   "metadata": {},
   "source": [
    "## Train and export one classifier for each cell type"
   ]
  },
  {
   "cell_type": "code",
   "execution_count": 23,
   "id": "7bfd0f08",
   "metadata": {},
   "outputs": [
    {
     "data": {
      "text/html": [
       "'CD8 T'"
      ],
      "text/latex": [
       "'CD8 T'"
      ],
      "text/markdown": [
       "'CD8 T'"
      ],
      "text/plain": [
       "[1] \"CD8 T\""
      ]
     },
     "metadata": {},
     "output_type": "display_data"
    },
    {
     "name": "stderr",
     "output_type": "stream",
     "text": [
      "Loading required package: ggplot2\n",
      "\n",
      "Loading required package: lattice\n",
      "\n",
      "Saving new models to repr_data//classifiers//scAnnotatR//trainedModels/new_models.rda...\n",
      "\n",
      "Finished saving new model\n",
      "\n"
     ]
    },
    {
     "data": {
      "text/html": [
       "'Naive CD4 T'"
      ],
      "text/latex": [
       "'Naive CD4 T'"
      ],
      "text/markdown": [
       "'Naive CD4 T'"
      ],
      "text/plain": [
       "[1] \"Naive CD4 T\""
      ]
     },
     "metadata": {},
     "output_type": "display_data"
    },
    {
     "name": "stderr",
     "output_type": "stream",
     "text": [
      "Saving new models to repr_data//classifiers//scAnnotatR//trainedModels/new_models.rda...\n",
      "\n",
      "Finished saving new model\n",
      "\n"
     ]
    },
    {
     "data": {
      "text/html": [
       "'FCGR3A+ Mono'"
      ],
      "text/latex": [
       "'FCGR3A+ Mono'"
      ],
      "text/markdown": [
       "'FCGR3A+ Mono'"
      ],
      "text/plain": [
       "[1] \"FCGR3A+ Mono\""
      ]
     },
     "metadata": {},
     "output_type": "display_data"
    },
    {
     "name": "stderr",
     "output_type": "stream",
     "text": [
      "Saving new models to repr_data//classifiers//scAnnotatR//trainedModels/new_models.rda...\n",
      "\n",
      "Finished saving new model\n",
      "\n"
     ]
    },
    {
     "data": {
      "text/html": [
       "'CD14+ Mono'"
      ],
      "text/latex": [
       "'CD14+ Mono'"
      ],
      "text/markdown": [
       "'CD14+ Mono'"
      ],
      "text/plain": [
       "[1] \"CD14+ Mono\""
      ]
     },
     "metadata": {},
     "output_type": "display_data"
    },
    {
     "name": "stderr",
     "output_type": "stream",
     "text": [
      "Saving new models to repr_data//classifiers//scAnnotatR//trainedModels/new_models.rda...\n",
      "\n",
      "Finished saving new model\n",
      "\n"
     ]
    },
    {
     "data": {
      "text/html": [
       "'Memory CD4 T'"
      ],
      "text/latex": [
       "'Memory CD4 T'"
      ],
      "text/markdown": [
       "'Memory CD4 T'"
      ],
      "text/plain": [
       "[1] \"Memory CD4 T\""
      ]
     },
     "metadata": {},
     "output_type": "display_data"
    },
    {
     "name": "stderr",
     "output_type": "stream",
     "text": [
      "Saving new models to repr_data//classifiers//scAnnotatR//trainedModels/new_models.rda...\n",
      "\n",
      "Finished saving new model\n",
      "\n"
     ]
    },
    {
     "data": {
      "text/html": [
       "'B'"
      ],
      "text/latex": [
       "'B'"
      ],
      "text/markdown": [
       "'B'"
      ],
      "text/plain": [
       "[1] \"B\""
      ]
     },
     "metadata": {},
     "output_type": "display_data"
    },
    {
     "name": "stderr",
     "output_type": "stream",
     "text": [
      "Saving new models to repr_data//classifiers//scAnnotatR//trainedModels/new_models.rda...\n",
      "\n",
      "Finished saving new model\n",
      "\n"
     ]
    },
    {
     "data": {
      "text/html": [
       "'NK'"
      ],
      "text/latex": [
       "'NK'"
      ],
      "text/markdown": [
       "'NK'"
      ],
      "text/plain": [
       "[1] \"NK\""
      ]
     },
     "metadata": {},
     "output_type": "display_data"
    },
    {
     "name": "stderr",
     "output_type": "stream",
     "text": [
      "Saving new models to repr_data//classifiers//scAnnotatR//trainedModels/new_models.rda...\n",
      "\n",
      "Finished saving new model\n",
      "\n"
     ]
    },
    {
     "data": {
      "text/html": [
       "'DC'"
      ],
      "text/latex": [
       "'DC'"
      ],
      "text/markdown": [
       "'DC'"
      ],
      "text/plain": [
       "[1] \"DC\""
      ]
     },
     "metadata": {},
     "output_type": "display_data"
    },
    {
     "name": "stderr",
     "output_type": "stream",
     "text": [
      "Saving new models to repr_data//classifiers//scAnnotatR//trainedModels/new_models.rda...\n",
      "\n",
      "Finished saving new model\n",
      "\n"
     ]
    },
    {
     "data": {
      "text/html": [
       "'Platelet'"
      ],
      "text/latex": [
       "'Platelet'"
      ],
      "text/markdown": [
       "'Platelet'"
      ],
      "text/plain": [
       "[1] \"Platelet\""
      ]
     },
     "metadata": {},
     "output_type": "display_data"
    },
    {
     "name": "stderr",
     "output_type": "stream",
     "text": [
      "“There were missing values in resampled performance measures.”\n",
      "Saving new models to repr_data//classifiers//scAnnotatR//trainedModels/new_models.rda...\n",
      "\n",
      "Finished saving new model\n",
      "\n"
     ]
    },
    {
     "data": {
      "text/plain": [
       "An object of class scAnnotatR for Platelet \n",
       "* 20 marker genes applied: C2orf88, TMEM40, HGD, GP9, PF4, SPARC, LY6G6F, TREML1, PTCRA, AC147651.3, GNG11, AP001189.4, CMTM5, GP1BA, ITGA2B, ITGB3, RP11-879F14.2, CLDN5, SEPT5, PVALB \n",
       "* Predicting probability threshold: 0.5 \n",
       "* No parent model"
      ]
     },
     "metadata": {},
     "output_type": "display_data"
    }
   ],
   "source": [
    "listClassifiers <- list()\n",
    "for (cellType in unique(se_train@meta.data$chr_seurat_cluster)){\n",
    "    display(cellType)\n",
    "    sg <- getSignGenesNot(dfScaled,\n",
    "                   se_train@meta.data$chr_seurat_cluster,\n",
    "                   cellType)\n",
    "    # Selection of the 20 most significants with a minimum mean difference of 0.5 for the SVM\n",
    "    selectedMarkers <- rownames(sg[abs(sg$mean)>0.5,])[1:20]\n",
    "    classifier <- train_classifier(train_obj = se_train, cell_type = cellType, \n",
    "                                 marker_genes = selectedMarkers,\n",
    "                                 assay = 'RNA', tag_slot = cellType)\n",
    "    listClassifiers[[cellType]] <- classifier\n",
    "    \n",
    "    save_new_model(new_model = classifier, path_to_models = \"repr_data/classifiers/scAnnotatR/trainedModels\",\n",
    "               include.default = FALSE) \n",
    "}\n",
    "listClassifiers[[cellType]]"
   ]
  },
  {
   "cell_type": "markdown",
   "id": "e1522de4",
   "metadata": {},
   "source": [
    "# Format the Classifier\n",
    "To work with adverSCarial the classifier needs to be formated in a certain way."
   ]
  },
  {
   "cell_type": "code",
   "execution_count": 24,
   "id": "75460d09",
   "metadata": {},
   "outputs": [],
   "source": [
    "scAnnotatR_classifier = function(expr, clusters, target){\n",
    "    if (!\"scAnnotatR\" %in% loadedNamespaces()){\n",
    "        library(scAnnotatR)\n",
    "    }\n",
    "    if ( !exists(\"sca_default_models\")){\n",
    "        sca_default_models <<- load_models(\"repr_data/classifiers/scAnnotatR/trainedModels\")\n",
    "        sca_cell_types <<- names(sca_default_models)\n",
    "    }\n",
    "    \n",
    "    seurat.obj <- classify_cells(classify_obj = expr, \n",
    "                             assay = 'RNA', slot = 'scale.data',\n",
    "                             cell_types = sca_cell_types, \n",
    "                             path_to_models = \"repr_data/classifiers/scAnnotatR/trainedModels\")\n",
    "    typePredictions <- seurat.obj@meta.data[, stringr::str_replace_all( paste0(sca_cell_types, \"_p\"), \" \", \"_\")]\n",
    "    \n",
    "    pred_table <- table(seurat.obj@meta.data[clusters == target, \"most_probable_cell_type\"])\n",
    "    cluster_pred <- names(pred_table[order(pred_table, decreasing = TRUE)])[1]\n",
    "    odd <- unname(pred_table[cluster_pred]/sum(pred_table))\n",
    "    colnames(typePredictions) <- unlist(lapply(colnames(typePredictions), function(x){\n",
    "        unlist(strsplit(x,\"_p$\"))[1]\n",
    "    }))\n",
    "    typePredictions <- as.data.frame(t(typePredictions))\n",
    "    \n",
    "    result <- list(\n",
    "        # Cell type prediction for the cluster\n",
    "        prediction=stringr::str_replace_all(cluster_pred,\" \",\"_\"),\n",
    "        # Score of the predicted cell type\n",
    "        odd=odd, \n",
    "        # Score for each cell type for each cell\n",
    "        typePredictions=typePredictions,\n",
    "        # Cell type for each cell\n",
    "        cellTypes=seurat.obj@meta.data$most_probable_cell_type)\n",
    "    return(result)\n",
    "}"
   ]
  },
  {
   "cell_type": "markdown",
   "id": "41329ee4",
   "metadata": {},
   "source": [
    "# Adversarial attack of the NK (Natural Killer) cells cluster"
   ]
  },
  {
   "cell_type": "code",
   "execution_count": 25,
   "id": "5fe01eb4",
   "metadata": {},
   "outputs": [],
   "source": [
    "so_pbmc_test <- se_test\n",
    "clusters_so = so_pbmc_test@meta.data$chr_seurat_cluster\n",
    "names(clusters_so) <- rownames(so_pbmc_test@meta.data)"
   ]
  },
  {
   "cell_type": "markdown",
   "id": "b505ee93",
   "metadata": {},
   "source": [
    "cell types clusters"
   ]
  },
  {
   "cell_type": "code",
   "execution_count": 26,
   "id": "c6210693",
   "metadata": {},
   "outputs": [
    {
     "data": {
      "text/html": [
       "<style>\n",
       ".list-inline {list-style: none; margin:0; padding: 0}\n",
       ".list-inline>li {display: inline-block}\n",
       ".list-inline>li:not(:last-child)::after {content: \"\\00b7\"; padding: 0 .5ex}\n",
       "</style>\n",
       "<ol class=list-inline><li>'Memory CD4 T'</li><li>'B'</li><li>'CD14+ Mono'</li><li>'NK'</li><li>'CD8 T'</li><li>'Naive CD4 T'</li><li>'FCGR3A+ Mono'</li><li>'DC'</li><li>'Platelet'</li></ol>\n"
      ],
      "text/latex": [
       "\\begin{enumerate*}\n",
       "\\item 'Memory CD4 T'\n",
       "\\item 'B'\n",
       "\\item 'CD14+ Mono'\n",
       "\\item 'NK'\n",
       "\\item 'CD8 T'\n",
       "\\item 'Naive CD4 T'\n",
       "\\item 'FCGR3A+ Mono'\n",
       "\\item 'DC'\n",
       "\\item 'Platelet'\n",
       "\\end{enumerate*}\n"
      ],
      "text/markdown": [
       "1. 'Memory CD4 T'\n",
       "2. 'B'\n",
       "3. 'CD14+ Mono'\n",
       "4. 'NK'\n",
       "5. 'CD8 T'\n",
       "6. 'Naive CD4 T'\n",
       "7. 'FCGR3A+ Mono'\n",
       "8. 'DC'\n",
       "9. 'Platelet'\n",
       "\n",
       "\n"
      ],
      "text/plain": [
       "[1] \"Memory CD4 T\" \"B\"            \"CD14+ Mono\"   \"NK\"           \"CD8 T\"       \n",
       "[6] \"Naive CD4 T\"  \"FCGR3A+ Mono\" \"DC\"           \"Platelet\"    "
      ]
     },
     "metadata": {},
     "output_type": "display_data"
    }
   ],
   "source": [
    "unique(clusters_so)"
   ]
  },
  {
   "cell_type": "markdown",
   "id": "7d92d4f6",
   "metadata": {},
   "source": [
    "We check if the classifier is working properly, it predicts the NK cells cluster as NK cells"
   ]
  },
  {
   "cell_type": "code",
   "execution_count": 48,
   "id": "c0243451",
   "metadata": {},
   "outputs": [],
   "source": [
    "class_results <- scAnnotatR_classifier(so_pbmc_test, clusters_so, 'NK')"
   ]
  },
  {
   "cell_type": "code",
   "execution_count": 49,
   "id": "bc6e9e4f",
   "metadata": {},
   "outputs": [
    {
     "data": {
      "text/html": [
       "'NK'"
      ],
      "text/latex": [
       "'NK'"
      ],
      "text/markdown": [
       "'NK'"
      ],
      "text/plain": [
       "[1] \"NK\""
      ]
     },
     "metadata": {},
     "output_type": "display_data"
    }
   ],
   "source": [
    "class_results$prediction"
   ]
  },
  {
   "cell_type": "code",
   "execution_count": 36,
   "id": "e88fd8c6",
   "metadata": {},
   "outputs": [],
   "source": [
    "dfScaled <- as.data.frame(so_pbmc_test@assays$RNA@layers$scale.data)\n",
    "colnames(dfScaled) <- rownames(so_pbmc_test@assays$RNA@cells)\n",
    "rownames(dfScaled) <- rownames(so_pbmc_test@assays$RNA@features)\n",
    "dfScaled <- t(dfScaled)"
   ]
  },
  {
   "cell_type": "code",
   "execution_count": 37,
   "id": "211db708",
   "metadata": {},
   "outputs": [
    {
     "data": {
      "text/html": [
       "<table class=\"dataframe\">\n",
       "<caption>A matrix: 5 × 5 of type dbl</caption>\n",
       "<thead>\n",
       "\t<tr><th></th><th scope=col>AL627309.1</th><th scope=col>AP006222.2</th><th scope=col>RP11-206L10.2</th><th scope=col>RP11-206L10.9</th><th scope=col>LINC00115</th></tr>\n",
       "</thead>\n",
       "<tbody>\n",
       "\t<tr><th scope=row>AAACATACAACCAC-1</th><td>-0.05812316</td><td>-0.03357571</td><td>-0.04166819</td><td>-0.03364562</td><td>-0.08223981</td></tr>\n",
       "\t<tr><th scope=row>AAACATTGAGCTAC-1</th><td>-0.05812316</td><td>-0.03357571</td><td>-0.04166819</td><td>-0.03364562</td><td>-0.08223981</td></tr>\n",
       "\t<tr><th scope=row>AAACATTGATCAGC-1</th><td>-0.05812316</td><td>-0.03357571</td><td>-0.04166819</td><td>-0.03364562</td><td>-0.08223981</td></tr>\n",
       "\t<tr><th scope=row>AAACCGTGCTTCCG-1</th><td>-0.05812316</td><td>-0.03357571</td><td>-0.04166819</td><td>-0.03364562</td><td>-0.08223981</td></tr>\n",
       "\t<tr><th scope=row>AAACCGTGTATGCG-1</th><td>-0.05812316</td><td>-0.03357571</td><td>-0.04166819</td><td>-0.03364562</td><td>-0.08223981</td></tr>\n",
       "</tbody>\n",
       "</table>\n"
      ],
      "text/latex": [
       "A matrix: 5 × 5 of type dbl\n",
       "\\begin{tabular}{r|lllll}\n",
       "  & AL627309.1 & AP006222.2 & RP11-206L10.2 & RP11-206L10.9 & LINC00115\\\\\n",
       "\\hline\n",
       "\tAAACATACAACCAC-1 & -0.05812316 & -0.03357571 & -0.04166819 & -0.03364562 & -0.08223981\\\\\n",
       "\tAAACATTGAGCTAC-1 & -0.05812316 & -0.03357571 & -0.04166819 & -0.03364562 & -0.08223981\\\\\n",
       "\tAAACATTGATCAGC-1 & -0.05812316 & -0.03357571 & -0.04166819 & -0.03364562 & -0.08223981\\\\\n",
       "\tAAACCGTGCTTCCG-1 & -0.05812316 & -0.03357571 & -0.04166819 & -0.03364562 & -0.08223981\\\\\n",
       "\tAAACCGTGTATGCG-1 & -0.05812316 & -0.03357571 & -0.04166819 & -0.03364562 & -0.08223981\\\\\n",
       "\\end{tabular}\n"
      ],
      "text/markdown": [
       "\n",
       "A matrix: 5 × 5 of type dbl\n",
       "\n",
       "| <!--/--> | AL627309.1 | AP006222.2 | RP11-206L10.2 | RP11-206L10.9 | LINC00115 |\n",
       "|---|---|---|---|---|---|\n",
       "| AAACATACAACCAC-1 | -0.05812316 | -0.03357571 | -0.04166819 | -0.03364562 | -0.08223981 |\n",
       "| AAACATTGAGCTAC-1 | -0.05812316 | -0.03357571 | -0.04166819 | -0.03364562 | -0.08223981 |\n",
       "| AAACATTGATCAGC-1 | -0.05812316 | -0.03357571 | -0.04166819 | -0.03364562 | -0.08223981 |\n",
       "| AAACCGTGCTTCCG-1 | -0.05812316 | -0.03357571 | -0.04166819 | -0.03364562 | -0.08223981 |\n",
       "| AAACCGTGTATGCG-1 | -0.05812316 | -0.03357571 | -0.04166819 | -0.03364562 | -0.08223981 |\n",
       "\n"
      ],
      "text/plain": [
       "                 AL627309.1  AP006222.2  RP11-206L10.2 RP11-206L10.9\n",
       "AAACATACAACCAC-1 -0.05812316 -0.03357571 -0.04166819   -0.03364562  \n",
       "AAACATTGAGCTAC-1 -0.05812316 -0.03357571 -0.04166819   -0.03364562  \n",
       "AAACATTGATCAGC-1 -0.05812316 -0.03357571 -0.04166819   -0.03364562  \n",
       "AAACCGTGCTTCCG-1 -0.05812316 -0.03357571 -0.04166819   -0.03364562  \n",
       "AAACCGTGTATGCG-1 -0.05812316 -0.03357571 -0.04166819   -0.03364562  \n",
       "                 LINC00115  \n",
       "AAACATACAACCAC-1 -0.08223981\n",
       "AAACATTGAGCTAC-1 -0.08223981\n",
       "AAACATTGATCAGC-1 -0.08223981\n",
       "AAACCGTGCTTCCG-1 -0.08223981\n",
       "AAACCGTGTATGCG-1 -0.08223981"
      ]
     },
     "metadata": {},
     "output_type": "display_data"
    }
   ],
   "source": [
    "dfScaled[1:5,1:5]"
   ]
  },
  {
   "cell_type": "markdown",
   "id": "11901e25",
   "metadata": {},
   "source": [
    "We use the adverSCarial getSignGenes function to get the most significant genes between clusters, ensuring that all pairs of clusters are equivalently representated."
   ]
  },
  {
   "cell_type": "code",
   "execution_count": 38,
   "id": "9e8a90a3",
   "metadata": {},
   "outputs": [
    {
     "name": "stderr",
     "output_type": "stream",
     "text": []
    }
   ],
   "source": [
    "sign_genes <- getSignGenes(dfScaled, clusters_so)"
   ]
  },
  {
   "cell_type": "code",
   "execution_count": 40,
   "id": "bd97e2f5",
   "metadata": {},
   "outputs": [
    {
     "data": {
      "text/html": [
       "<table class=\"dataframe\">\n",
       "<caption>A data.frame: 6 × 2</caption>\n",
       "<thead>\n",
       "\t<tr><th></th><th scope=col>gene</th><th scope=col>pval</th></tr>\n",
       "\t<tr><th></th><th scope=col>&lt;chr&gt;</th><th scope=col>&lt;dbl&gt;</th></tr>\n",
       "</thead>\n",
       "<tbody>\n",
       "\t<tr><th scope=row>HLA-DRA</th><td>HLA-DRA</td><td>1.004947e-70</td></tr>\n",
       "\t<tr><th scope=row>PRF1</th><td>PRF1   </td><td>6.443834e-62</td></tr>\n",
       "\t<tr><th scope=row>NKG7</th><td>NKG7   </td><td>1.070165e-79</td></tr>\n",
       "\t<tr><th scope=row>FCER1A</th><td>FCER1A </td><td>2.765930e-18</td></tr>\n",
       "\t<tr><th scope=row>TYROBP</th><td>TYROBP </td><td>8.127634e-85</td></tr>\n",
       "\t<tr><th scope=row>IL32</th><td>IL32   </td><td>1.260937e-66</td></tr>\n",
       "</tbody>\n",
       "</table>\n"
      ],
      "text/latex": [
       "A data.frame: 6 × 2\n",
       "\\begin{tabular}{r|ll}\n",
       "  & gene & pval\\\\\n",
       "  & <chr> & <dbl>\\\\\n",
       "\\hline\n",
       "\tHLA-DRA & HLA-DRA & 1.004947e-70\\\\\n",
       "\tPRF1 & PRF1    & 6.443834e-62\\\\\n",
       "\tNKG7 & NKG7    & 1.070165e-79\\\\\n",
       "\tFCER1A & FCER1A  & 2.765930e-18\\\\\n",
       "\tTYROBP & TYROBP  & 8.127634e-85\\\\\n",
       "\tIL32 & IL32    & 1.260937e-66\\\\\n",
       "\\end{tabular}\n"
      ],
      "text/markdown": [
       "\n",
       "A data.frame: 6 × 2\n",
       "\n",
       "| <!--/--> | gene &lt;chr&gt; | pval &lt;dbl&gt; |\n",
       "|---|---|---|\n",
       "| HLA-DRA | HLA-DRA | 1.004947e-70 |\n",
       "| PRF1 | PRF1    | 6.443834e-62 |\n",
       "| NKG7 | NKG7    | 1.070165e-79 |\n",
       "| FCER1A | FCER1A  | 2.765930e-18 |\n",
       "| TYROBP | TYROBP  | 8.127634e-85 |\n",
       "| IL32 | IL32    | 1.260937e-66 |\n",
       "\n"
      ],
      "text/plain": [
       "        gene    pval        \n",
       "HLA-DRA HLA-DRA 1.004947e-70\n",
       "PRF1    PRF1    6.443834e-62\n",
       "NKG7    NKG7    1.070165e-79\n",
       "FCER1A  FCER1A  2.765930e-18\n",
       "TYROBP  TYROBP  8.127634e-85\n",
       "IL32    IL32    1.260937e-66"
      ]
     },
     "metadata": {},
     "output_type": "display_data"
    }
   ],
   "source": [
    "head(sign_genes$results)"
   ]
  },
  {
   "cell_type": "markdown",
   "id": "36a916f6",
   "metadata": {},
   "source": [
    "We launch the attack with the advCGD function with alpha=2 and epsilon=2 parameters, which lead to a big modification on a few genes. You can try with alpha=1 and epsilon=1 to have small modifications of more genes."
   ]
  },
  {
   "cell_type": "code",
   "execution_count": 43,
   "id": "d17b3e12",
   "metadata": {},
   "outputs": [
    {
     "name": "stderr",
     "output_type": "stream",
     "text": [
      "NK\n",
      "\n",
      "13189\n",
      "\n",
      "1318\n",
      "\n",
      "72\n",
      "\n",
      "New cluster target: CD8_T\n",
      "\n",
      "HLA-DRA 1\n",
      "\n",
      "Number of original annot NK : 70\n",
      "\n",
      " mean 0.987004631106661 delt 0\n",
      "\n",
      "Number of CD8_T : 2\n",
      "\n",
      " mean 0.958532596757498 delt 0\n",
      "\n",
      "Number of modified cells 0\n",
      "\n",
      "PRF1 2\n",
      "\n",
      "Number of original annot NK : 70\n",
      "\n",
      " mean 0.987004631106661 delt 0\n",
      "\n",
      "Number of CD8_T : 2\n",
      "\n",
      " mean 0.958532596757498 delt 0\n",
      "\n",
      "Number of modified cells 70\n",
      "\n",
      "NKG7 3\n",
      "\n",
      "Number of original annot NK : 70\n",
      "\n",
      " mean 0.957668058445093 delt -0.0293365726615682\n",
      "\n",
      "Number of CD8_T : 2\n",
      "\n",
      " mean 0.958532596757498 delt 0\n",
      "\n",
      "Number of modified cells 70\n",
      "\n",
      "FCER1A 4\n",
      "\n",
      "Number of original annot NK : 71\n",
      "\n",
      " mean 0.965101381254414 delt 0.0074333228093213\n",
      "\n",
      "Number of CD8_T : 1\n",
      "\n",
      " mean 0.975073064539234 delt 0.0165404677817356\n",
      "\n",
      "Number of modified cells 0\n",
      "\n",
      "TYROBP 5\n",
      "\n",
      "Number of original annot NK : 71\n",
      "\n",
      " mean 0.965101381254414 delt 0\n",
      "\n",
      "Number of CD8_T : 1\n",
      "\n",
      " mean 0.975073064539234 delt 0\n",
      "\n",
      "Number of modified cells 71\n",
      "\n"
     ]
    }
   ],
   "source": [
    "cgd_results_nk <- advCGD(so_pbmc_test, clusters_so, 'NK',\n",
    "                          scAnnotatR_classifier, alpha=2,\n",
    "                          epsilon=2, slot=\"scale.data\",\n",
    "                          genes=sign_genes$results$gene[1:500],\n",
    "                         verbose=T)"
   ]
  },
  {
   "cell_type": "markdown",
   "id": "d5896fe8",
   "metadata": {},
   "source": [
    "We can see the genes that have been modified"
   ]
  },
  {
   "cell_type": "code",
   "execution_count": 50,
   "id": "7b919c8f",
   "metadata": {},
   "outputs": [
    {
     "data": {
      "text/html": [
       "<style>\n",
       ".list-inline {list-style: none; margin:0; padding: 0}\n",
       ".list-inline>li {display: inline-block}\n",
       ".list-inline>li:not(:last-child)::after {content: \"\\00b7\"; padding: 0 .5ex}\n",
       "</style>\n",
       "<ol class=list-inline><li>'PRF1'</li><li>'NKG7'</li><li>'TYROBP'</li></ol>\n"
      ],
      "text/latex": [
       "\\begin{enumerate*}\n",
       "\\item 'PRF1'\n",
       "\\item 'NKG7'\n",
       "\\item 'TYROBP'\n",
       "\\end{enumerate*}\n"
      ],
      "text/markdown": [
       "1. 'PRF1'\n",
       "2. 'NKG7'\n",
       "3. 'TYROBP'\n",
       "\n",
       "\n"
      ],
      "text/plain": [
       "[1] \"PRF1\"   \"NKG7\"   \"TYROBP\""
      ]
     },
     "metadata": {},
     "output_type": "display_data"
    }
   ],
   "source": [
    "cgd_results_nk$modGenes"
   ]
  },
  {
   "cell_type": "markdown",
   "id": "8dd443b1",
   "metadata": {},
   "source": [
    "And the modified Seurat object"
   ]
  },
  {
   "cell_type": "code",
   "execution_count": 52,
   "id": "3461ddcb",
   "metadata": {},
   "outputs": [
    {
     "data": {
      "text/plain": [
       "An object of class Seurat \n",
       "13714 features across 1318 samples within 1 assay \n",
       "Active assay: RNA (13714 features, 2000 variable features)\n",
       " 3 layers present: counts, data, scale.data\n",
       " 2 dimensional reductions calculated: pca, umap"
      ]
     },
     "metadata": {},
     "output_type": "display_data"
    }
   ],
   "source": [
    "cgd_results_nk$expr"
   ]
  },
  {
   "cell_type": "markdown",
   "id": "6893b0e6",
   "metadata": {},
   "source": [
    "The NK cluster is now classified as CD8 T cells"
   ]
  },
  {
   "cell_type": "code",
   "execution_count": 46,
   "id": "80e16f78",
   "metadata": {},
   "outputs": [
    {
     "data": {
      "text/html": [
       "'CD8_T'"
      ],
      "text/latex": [
       "'CD8\\_T'"
      ],
      "text/markdown": [
       "'CD8_T'"
      ],
      "text/plain": [
       "[1] \"CD8_T\""
      ]
     },
     "metadata": {},
     "output_type": "display_data"
    }
   ],
   "source": [
    "new_classification <- scAnnotatR_classifier(cgd_results_nk$expr, clusters_so, 'NK')\n",
    "new_classification$prediction"
   ]
  },
  {
   "cell_type": "code",
   "execution_count": null,
   "id": "2c5a24b2",
   "metadata": {},
   "outputs": [],
   "source": []
  },
  {
   "cell_type": "code",
   "execution_count": null,
   "id": "a52ca7b9",
   "metadata": {},
   "outputs": [],
   "source": []
  },
  {
   "cell_type": "code",
   "execution_count": 55,
   "id": "e0762f1b",
   "metadata": {},
   "outputs": [
    {
     "data": {
      "text/plain": [
       "R version 4.3.3 (2024-02-29)\n",
       "Platform: x86_64-pc-linux-gnu (64-bit)\n",
       "Running under: Ubuntu 20.04.4 LTS\n",
       "\n",
       "Matrix products: default\n",
       "BLAS:   /usr/lib/x86_64-linux-gnu/blas/libblas.so.3.9.0 \n",
       "LAPACK: /usr/lib/x86_64-linux-gnu/lapack/liblapack.so.3.9.0\n",
       "\n",
       "locale:\n",
       " [1] LC_CTYPE=en_US.UTF-8       LC_NUMERIC=C              \n",
       " [3] LC_TIME=fr_FR.UTF-8        LC_COLLATE=en_US.UTF-8    \n",
       " [5] LC_MONETARY=fr_FR.UTF-8    LC_MESSAGES=en_US.UTF-8   \n",
       " [7] LC_PAPER=fr_FR.UTF-8       LC_NAME=C                 \n",
       " [9] LC_ADDRESS=C               LC_TELEPHONE=C            \n",
       "[11] LC_MEASUREMENT=fr_FR.UTF-8 LC_IDENTIFICATION=C       \n",
       "\n",
       "time zone: Europe/Paris\n",
       "tzcode source: system (glibc)\n",
       "\n",
       "attached base packages:\n",
       "[1] stats4    stats     graphics  grDevices utils     datasets  methods  \n",
       "[8] base     \n",
       "\n",
       "other attached packages:\n",
       " [1] caret_6.0-94                lattice_0.21-8             \n",
       " [3] ggplot2_3.4.4               adverSCarial_1.3.3         \n",
       " [5] IRdisplay_1.1               scAnnotatR_1.8.0           \n",
       " [7] SingleCellExperiment_1.23.0 SummarizedExperiment_1.31.1\n",
       " [9] Biobase_2.61.0              GenomicRanges_1.53.1       \n",
       "[11] GenomeInfoDb_1.37.1         IRanges_2.35.1             \n",
       "[13] S4Vectors_0.39.1            BiocGenerics_0.47.0        \n",
       "[15] MatrixGenerics_1.13.0       matrixStats_1.0.0          \n",
       "[17] Seurat_5.0.3                SeuratObject_5.0.1         \n",
       "[19] sp_1.6-1                   \n",
       "\n",
       "loaded via a namespace (and not attached):\n",
       "  [1] RcppAnnoy_0.0.20              splines_4.3.3                \n",
       "  [3] later_1.3.1                   pbdZMQ_0.3-9                 \n",
       "  [5] bitops_1.0-7                  filelock_1.0.2               \n",
       "  [7] tibble_3.2.1                  polyclip_1.10-4              \n",
       "  [9] hardhat_1.3.0                 pROC_1.18.2                  \n",
       " [11] rpart_4.1.19                  fastDummies_1.7.3            \n",
       " [13] lifecycle_1.0.4               globals_0.16.2               \n",
       " [15] MASS_7.3-60                   magrittr_2.0.3               \n",
       " [17] plotly_4.10.2                 yaml_2.3.7                   \n",
       " [19] httpuv_1.6.11                 sctransform_0.4.1            \n",
       " [21] spam_2.10-0                   spatstat.sparse_3.0-1        \n",
       " [23] reticulate_1.36.1             cowplot_1.1.1                \n",
       " [25] pbapply_1.7-0                 DBI_1.1.3                    \n",
       " [27] RColorBrewer_1.1-3            lubridate_1.9.2              \n",
       " [29] abind_1.4-5                   zlibbioc_1.47.0              \n",
       " [31] Rtsne_0.16                    purrr_1.0.1                  \n",
       " [33] RCurl_1.98-1.12               nnet_7.3-19                  \n",
       " [35] rappdirs_0.3.3                ipred_0.9-14                 \n",
       " [37] lava_1.7.2.1                  GenomeInfoDbData_1.2.10      \n",
       " [39] data.tree_1.1.0               ggrepel_0.9.3                \n",
       " [41] irlba_2.3.5.1                 listenv_0.9.0                \n",
       " [43] spatstat.utils_3.0-3          goftest_1.2-3                \n",
       " [45] RSpectra_0.16-1               spatstat.random_3.1-5        \n",
       " [47] fitdistrplus_1.1-11           parallelly_1.36.0            \n",
       " [49] leiden_0.4.3                  codetools_0.2-19             \n",
       " [51] DelayedArray_0.27.5           tidyselect_1.2.0             \n",
       " [53] BiocFileCache_2.9.0           base64enc_0.1-3              \n",
       " [55] spatstat.explore_3.2-1        jsonlite_1.8.8               \n",
       " [57] e1071_1.7-13                  ellipsis_0.3.2               \n",
       " [59] progressr_0.13.0              iterators_1.0.14             \n",
       " [61] ggridges_0.5.4                survival_3.5-5               \n",
       " [63] foreach_1.5.2                 tools_4.3.3                  \n",
       " [65] ica_1.0-3                     Rcpp_1.0.12                  \n",
       " [67] glue_1.7.0                    prodlim_2023.03.31           \n",
       " [69] gridExtra_2.3                 SparseArray_1.1.10           \n",
       " [71] dplyr_1.1.2                   withr_3.0.0                  \n",
       " [73] BiocManager_1.30.22           fastmap_1.1.1                \n",
       " [75] fansi_1.0.6                   digest_0.6.31                \n",
       " [77] timechange_0.2.0              R6_2.5.1                     \n",
       " [79] mime_0.12                     colorspace_2.1-0             \n",
       " [81] scattermore_1.2               tensor_1.5                   \n",
       " [83] spatstat.data_3.0-1           RSQLite_2.3.1                \n",
       " [85] utf8_1.2.4                    tidyr_1.3.0                  \n",
       " [87] generics_0.1.3                recipes_1.0.6                \n",
       " [89] data.table_1.14.8             class_7.3-22                 \n",
       " [91] httr_1.4.6                    htmlwidgets_1.6.2            \n",
       " [93] S4Arrays_1.1.4                ModelMetrics_1.2.2.2         \n",
       " [95] uwot_0.1.14                   pkgconfig_2.0.3              \n",
       " [97] gtable_0.3.4                  timeDate_4022.108            \n",
       " [99] blob_1.2.4                    lmtest_0.9-40                \n",
       "[101] XVector_0.41.1                htmltools_0.5.5              \n",
       "[103] dotCall64_1.1-1               scales_1.3.0                 \n",
       "[105] png_0.1-8                     gower_1.0.1                  \n",
       "[107] reshape2_1.4.4                uuid_1.1-0                   \n",
       "[109] nlme_3.1-162                  curl_5.0.1                   \n",
       "[111] proxy_0.4-27                  repr_1.1.6                   \n",
       "[113] zoo_1.8-12                    cachem_1.0.8                 \n",
       "[115] stringr_1.5.0                 BiocVersion_3.18.0           \n",
       "[117] KernSmooth_2.23-21            parallel_4.3.3               \n",
       "[119] miniUI_0.1.1.1                AnnotationDbi_1.63.1         \n",
       "[121] pillar_1.9.0                  grid_4.3.3                   \n",
       "[123] vctrs_0.6.5                   RANN_2.6.1                   \n",
       "[125] promises_1.2.0.1              dbplyr_2.3.2                 \n",
       "[127] xtable_1.8-4                  cluster_2.1.4                \n",
       "[129] evaluate_0.21                 cli_3.6.2                    \n",
       "[131] compiler_4.3.3                rlang_1.1.3                  \n",
       "[133] crayon_1.5.2                  future.apply_1.11.0          \n",
       "[135] plyr_1.8.8                    stringi_1.7.12               \n",
       "[137] viridisLite_0.4.2             deldir_1.0-9                 \n",
       "[139] Biostrings_2.69.1             munsell_0.5.1                \n",
       "[141] lazyeval_0.2.2                spatstat.geom_3.2-1          \n",
       "[143] Matrix_1.6-5                  IRkernel_1.3.2               \n",
       "[145] RcppHNSW_0.4.1                patchwork_1.1.2              \n",
       "[147] bit64_4.0.5                   future_1.32.0                \n",
       "[149] KEGGREST_1.41.0               shiny_1.7.4                  \n",
       "[151] interactiveDisplayBase_1.39.0 AnnotationHub_3.9.1          \n",
       "[153] kernlab_0.9-32                ROCR_1.0-11                  \n",
       "[155] igraph_2.0.3                  memoise_2.0.1                \n",
       "[157] bit_4.0.5                     ape_5.8                      "
      ]
     },
     "metadata": {},
     "output_type": "display_data"
    }
   ],
   "source": [
    "sessionInfo()"
   ]
  }
 ],
 "metadata": {
  "kernelspec": {
   "display_name": "R",
   "language": "R",
   "name": "ir"
  },
  "language_info": {
   "codemirror_mode": "r",
   "file_extension": ".r",
   "mimetype": "text/x-r-source",
   "name": "R",
   "pygments_lexer": "r",
   "version": "4.3.3"
  }
 },
 "nbformat": 4,
 "nbformat_minor": 5
}
