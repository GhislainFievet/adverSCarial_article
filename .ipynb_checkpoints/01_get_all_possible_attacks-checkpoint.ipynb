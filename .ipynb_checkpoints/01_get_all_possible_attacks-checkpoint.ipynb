{
 "cells": [
  {
   "cell_type": "markdown",
   "id": "5afa8fc1",
   "metadata": {},
   "source": [
    "# Run all default adverSCarial attacks on all clusters, on pbmc3k dataset, on scType classifier. Store results as text files."
   ]
  },
  {
   "cell_type": "code",
   "execution_count": 1,
   "id": "fd49312d",
   "metadata": {
    "scrolled": true
   },
   "outputs": [
    {
     "name": "stderr",
     "output_type": "stream",
     "text": [
      "\n",
      "Attaching package: ‘dplyr’\n",
      "\n",
      "\n",
      "The following objects are masked from ‘package:stats’:\n",
      "\n",
      "    filter, lag\n",
      "\n",
      "\n",
      "The following objects are masked from ‘package:base’:\n",
      "\n",
      "    intersect, setdiff, setequal, union\n",
      "\n",
      "\n",
      "The legacy packages maptools, rgdal, and rgeos, underpinning the sp package,\n",
      "which was just loaded, will retire in October 2023.\n",
      "Please refer to R-spatial evolution reports for details, especially\n",
      "https://r-spatial.org/r/2023/05/15/evolution4.html.\n",
      "It may be desirable to make the sf package available;\n",
      "package maintainers should consider adding sf to Suggests:.\n",
      "The sp package is now running under evolution status 2\n",
      "     (status 2 uses the sf package in place of rgdal)\n",
      "\n",
      "Attaching SeuratObject\n",
      "\n"
     ]
    },
    {
     "data": {
      "text/html": [
       "<ol>\n",
       "\t<li><style>\n",
       ".list-inline {list-style: none; margin:0; padding: 0}\n",
       ".list-inline>li {display: inline-block}\n",
       ".list-inline>li:not(:last-child)::after {content: \"\\00b7\"; padding: 0 .5ex}\n",
       "</style>\n",
       "<ol class=list-inline><li>'dplyr'</li><li>'stats'</li><li>'graphics'</li><li>'grDevices'</li><li>'utils'</li><li>'datasets'</li><li>'methods'</li><li>'base'</li></ol>\n",
       "</li>\n",
       "\t<li><style>\n",
       ".list-inline {list-style: none; margin:0; padding: 0}\n",
       ".list-inline>li {display: inline-block}\n",
       ".list-inline>li:not(:last-child)::after {content: \"\\00b7\"; padding: 0 .5ex}\n",
       "</style>\n",
       "<ol class=list-inline><li>'SeuratObject'</li><li>'Seurat'</li><li>'dplyr'</li><li>'stats'</li><li>'graphics'</li><li>'grDevices'</li><li>'utils'</li><li>'datasets'</li><li>'methods'</li><li>'base'</li></ol>\n",
       "</li>\n",
       "\t<li><style>\n",
       ".list-inline {list-style: none; margin:0; padding: 0}\n",
       ".list-inline>li {display: inline-block}\n",
       ".list-inline>li:not(:last-child)::after {content: \"\\00b7\"; padding: 0 .5ex}\n",
       "</style>\n",
       "<ol class=list-inline><li>'HGNChelper'</li><li>'SeuratObject'</li><li>'Seurat'</li><li>'dplyr'</li><li>'stats'</li><li>'graphics'</li><li>'grDevices'</li><li>'utils'</li><li>'datasets'</li><li>'methods'</li><li>'base'</li></ol>\n",
       "</li>\n",
       "\t<li><style>\n",
       ".list-inline {list-style: none; margin:0; padding: 0}\n",
       ".list-inline>li {display: inline-block}\n",
       ".list-inline>li:not(:last-child)::after {content: \"\\00b7\"; padding: 0 .5ex}\n",
       "</style>\n",
       "<ol class=list-inline><li>'adverSCarial'</li><li>'HGNChelper'</li><li>'SeuratObject'</li><li>'Seurat'</li><li>'dplyr'</li><li>'stats'</li><li>'graphics'</li><li>'grDevices'</li><li>'utils'</li><li>'datasets'</li><li>'methods'</li><li>'base'</li></ol>\n",
       "</li>\n",
       "\t<li><style>\n",
       ".list-inline {list-style: none; margin:0; padding: 0}\n",
       ".list-inline>li {display: inline-block}\n",
       ".list-inline>li:not(:last-child)::after {content: \"\\00b7\"; padding: 0 .5ex}\n",
       "</style>\n",
       "<ol class=list-inline><li>'IRdisplay'</li><li>'adverSCarial'</li><li>'HGNChelper'</li><li>'SeuratObject'</li><li>'Seurat'</li><li>'dplyr'</li><li>'stats'</li><li>'graphics'</li><li>'grDevices'</li><li>'utils'</li><li>'datasets'</li><li>'methods'</li><li>'base'</li></ol>\n",
       "</li>\n",
       "</ol>\n"
      ],
      "text/latex": [
       "\\begin{enumerate}\n",
       "\\item \\begin{enumerate*}\n",
       "\\item 'dplyr'\n",
       "\\item 'stats'\n",
       "\\item 'graphics'\n",
       "\\item 'grDevices'\n",
       "\\item 'utils'\n",
       "\\item 'datasets'\n",
       "\\item 'methods'\n",
       "\\item 'base'\n",
       "\\end{enumerate*}\n",
       "\n",
       "\\item \\begin{enumerate*}\n",
       "\\item 'SeuratObject'\n",
       "\\item 'Seurat'\n",
       "\\item 'dplyr'\n",
       "\\item 'stats'\n",
       "\\item 'graphics'\n",
       "\\item 'grDevices'\n",
       "\\item 'utils'\n",
       "\\item 'datasets'\n",
       "\\item 'methods'\n",
       "\\item 'base'\n",
       "\\end{enumerate*}\n",
       "\n",
       "\\item \\begin{enumerate*}\n",
       "\\item 'HGNChelper'\n",
       "\\item 'SeuratObject'\n",
       "\\item 'Seurat'\n",
       "\\item 'dplyr'\n",
       "\\item 'stats'\n",
       "\\item 'graphics'\n",
       "\\item 'grDevices'\n",
       "\\item 'utils'\n",
       "\\item 'datasets'\n",
       "\\item 'methods'\n",
       "\\item 'base'\n",
       "\\end{enumerate*}\n",
       "\n",
       "\\item \\begin{enumerate*}\n",
       "\\item 'adverSCarial'\n",
       "\\item 'HGNChelper'\n",
       "\\item 'SeuratObject'\n",
       "\\item 'Seurat'\n",
       "\\item 'dplyr'\n",
       "\\item 'stats'\n",
       "\\item 'graphics'\n",
       "\\item 'grDevices'\n",
       "\\item 'utils'\n",
       "\\item 'datasets'\n",
       "\\item 'methods'\n",
       "\\item 'base'\n",
       "\\end{enumerate*}\n",
       "\n",
       "\\item \\begin{enumerate*}\n",
       "\\item 'IRdisplay'\n",
       "\\item 'adverSCarial'\n",
       "\\item 'HGNChelper'\n",
       "\\item 'SeuratObject'\n",
       "\\item 'Seurat'\n",
       "\\item 'dplyr'\n",
       "\\item 'stats'\n",
       "\\item 'graphics'\n",
       "\\item 'grDevices'\n",
       "\\item 'utils'\n",
       "\\item 'datasets'\n",
       "\\item 'methods'\n",
       "\\item 'base'\n",
       "\\end{enumerate*}\n",
       "\n",
       "\\end{enumerate}\n"
      ],
      "text/markdown": [
       "1. 1. 'dplyr'\n",
       "2. 'stats'\n",
       "3. 'graphics'\n",
       "4. 'grDevices'\n",
       "5. 'utils'\n",
       "6. 'datasets'\n",
       "7. 'methods'\n",
       "8. 'base'\n",
       "\n",
       "\n",
       "\n",
       "2. 1. 'SeuratObject'\n",
       "2. 'Seurat'\n",
       "3. 'dplyr'\n",
       "4. 'stats'\n",
       "5. 'graphics'\n",
       "6. 'grDevices'\n",
       "7. 'utils'\n",
       "8. 'datasets'\n",
       "9. 'methods'\n",
       "10. 'base'\n",
       "\n",
       "\n",
       "\n",
       "3. 1. 'HGNChelper'\n",
       "2. 'SeuratObject'\n",
       "3. 'Seurat'\n",
       "4. 'dplyr'\n",
       "5. 'stats'\n",
       "6. 'graphics'\n",
       "7. 'grDevices'\n",
       "8. 'utils'\n",
       "9. 'datasets'\n",
       "10. 'methods'\n",
       "11. 'base'\n",
       "\n",
       "\n",
       "\n",
       "4. 1. 'adverSCarial'\n",
       "2. 'HGNChelper'\n",
       "3. 'SeuratObject'\n",
       "4. 'Seurat'\n",
       "5. 'dplyr'\n",
       "6. 'stats'\n",
       "7. 'graphics'\n",
       "8. 'grDevices'\n",
       "9. 'utils'\n",
       "10. 'datasets'\n",
       "11. 'methods'\n",
       "12. 'base'\n",
       "\n",
       "\n",
       "\n",
       "5. 1. 'IRdisplay'\n",
       "2. 'adverSCarial'\n",
       "3. 'HGNChelper'\n",
       "4. 'SeuratObject'\n",
       "5. 'Seurat'\n",
       "6. 'dplyr'\n",
       "7. 'stats'\n",
       "8. 'graphics'\n",
       "9. 'grDevices'\n",
       "10. 'utils'\n",
       "11. 'datasets'\n",
       "12. 'methods'\n",
       "13. 'base'\n",
       "\n",
       "\n",
       "\n",
       "\n",
       "\n"
      ],
      "text/plain": [
       "[[1]]\n",
       "[1] \"dplyr\"     \"stats\"     \"graphics\"  \"grDevices\" \"utils\"     \"datasets\" \n",
       "[7] \"methods\"   \"base\"     \n",
       "\n",
       "[[2]]\n",
       " [1] \"SeuratObject\" \"Seurat\"       \"dplyr\"        \"stats\"        \"graphics\"    \n",
       " [6] \"grDevices\"    \"utils\"        \"datasets\"     \"methods\"      \"base\"        \n",
       "\n",
       "[[3]]\n",
       " [1] \"HGNChelper\"   \"SeuratObject\" \"Seurat\"       \"dplyr\"        \"stats\"       \n",
       " [6] \"graphics\"     \"grDevices\"    \"utils\"        \"datasets\"     \"methods\"     \n",
       "[11] \"base\"        \n",
       "\n",
       "[[4]]\n",
       " [1] \"adverSCarial\" \"HGNChelper\"   \"SeuratObject\" \"Seurat\"       \"dplyr\"       \n",
       " [6] \"stats\"        \"graphics\"     \"grDevices\"    \"utils\"        \"datasets\"    \n",
       "[11] \"methods\"      \"base\"        \n",
       "\n",
       "[[5]]\n",
       " [1] \"IRdisplay\"    \"adverSCarial\" \"HGNChelper\"   \"SeuratObject\" \"Seurat\"      \n",
       " [6] \"dplyr\"        \"stats\"        \"graphics\"     \"grDevices\"    \"utils\"       \n",
       "[11] \"datasets\"     \"methods\"      \"base\"        \n"
      ]
     },
     "metadata": {},
     "output_type": "display_data"
    }
   ],
   "source": [
    "lapply(c(\"dplyr\",\"Seurat\",\"HGNChelper\", \"adverSCarial\", \"IRdisplay\"), library, character.only = T)"
   ]
  },
  {
   "cell_type": "code",
   "execution_count": 2,
   "id": "7f577fb1",
   "metadata": {},
   "outputs": [
    {
     "name": "stderr",
     "output_type": "stream",
     "text": [
      "Warning message:\n",
      "“Feature names cannot have underscores ('_'), replacing with dashes ('-')”\n"
     ]
    }
   ],
   "source": [
    "pbmc.data <- Read10X(data.dir = \"pbmc3k_filtered_gene_bc_matrices/filtered_gene_bc_matrices//hg19\")\n",
    "# Initialize the Seurat object with the raw data.\n",
    "pbmc <- CreateSeuratObject(counts = pbmc.data, project = \"pbmc3k\", min.cells = 3, min.features = 200)"
   ]
  },
  {
   "cell_type": "code",
   "execution_count": 3,
   "id": "61c0bafb",
   "metadata": {},
   "outputs": [
    {
     "name": "stderr",
     "output_type": "stream",
     "text": [
      "Centering and scaling data matrix\n",
      "\n",
      "PC_ 1 \n",
      "Positive:  MALAT1, LTB, IL32, CD2, ACAP1, STK17A, CTSW, CD247, CCL5, GIMAP5 \n",
      "\t   AQP3, GZMA, CST7, TRAF3IP3, MAL, HOPX, ITM2A, GZMK, MYC, BEX2 \n",
      "\t   GIMAP7, ETS1, LDLRAP1, ZAP70, LYAR, RIC3, TNFAIP8, KLRG1, SAMD3, NKG7 \n",
      "Negative:  CST3, TYROBP, LST1, AIF1, FTL, FCN1, LYZ, FTH1, S100A9, FCER1G \n",
      "\t   TYMP, CFD, LGALS1, CTSS, S100A8, SERPINA1, LGALS2, SPI1, IFITM3, PSAP \n",
      "\t   CFP, SAT1, IFI30, COTL1, S100A11, NPC2, LGALS3, GSTP1, PYCARD, NCF2 \n",
      "PC_ 2 \n",
      "Positive:  CD79A, MS4A1, TCL1A, HLA-DQA1, HLA-DRA, HLA-DQB1, LINC00926, CD79B, HLA-DRB1, CD74 \n",
      "\t   HLA-DPB1, HLA-DMA, HLA-DQA2, HLA-DRB5, HLA-DPA1, HLA-DMB, FCRLA, HVCN1, LTB, BLNK \n",
      "\t   KIAA0125, P2RX5, IRF8, IGLL5, SWAP70, ARHGAP24, SMIM14, PPP1R14A, FCRL2, C16orf74 \n",
      "Negative:  NKG7, PRF1, CST7, GZMA, GZMB, FGFBP2, CTSW, GNLY, GZMH, SPON2 \n",
      "\t   CCL4, FCGR3A, CCL5, CD247, XCL2, CLIC3, AKR1C3, SRGN, HOPX, CTSC \n",
      "\t   TTC38, S100A4, ANXA1, IL32, IGFBP7, ID2, ACTB, XCL1, APOBEC3G, SAMD3 \n",
      "PC_ 3 \n",
      "Positive:  HLA-DQA1, CD79A, CD79B, HLA-DQB1, HLA-DPB1, CD74, HLA-DPA1, MS4A1, HLA-DRB1, HLA-DRB5 \n",
      "\t   HLA-DRA, HLA-DQA2, TCL1A, LINC00926, HLA-DMB, HLA-DMA, HVCN1, FCRLA, IRF8, BLNK \n",
      "\t   KIAA0125, SMIM14, PLD4, IGLL5, P2RX5, TMSB10, SWAP70, LAT2, MALAT1, IGJ \n",
      "Negative:  PPBP, PF4, SDPR, SPARC, GNG11, NRGN, GP9, RGS18, TUBB1, CLU \n",
      "\t   HIST1H2AC, AP001189.4, ITGA2B, CD9, TMEM40, CA2, PTCRA, ACRBP, MMD, TREML1 \n",
      "\t   NGFRAP1, F13A1, RUFY1, SEPT5, MPP1, CMTM5, TSC22D1, MYL9, RP11-367G6.3, GP1BA \n",
      "PC_ 4 \n",
      "Positive:  HLA-DQA1, CD79A, CD79B, HIST1H2AC, HLA-DQB1, PF4, MS4A1, SDPR, CD74, PPBP \n",
      "\t   HLA-DPB1, GNG11, HLA-DQA2, SPARC, HLA-DRB1, HLA-DPA1, GP9, TCL1A, HLA-DRA, LINC00926 \n",
      "\t   NRGN, RGS18, HLA-DRB5, PTCRA, CD9, AP001189.4, CA2, CLU, TUBB1, ITGA2B \n",
      "Negative:  VIM, S100A8, S100A6, S100A4, S100A9, TMSB10, IL32, GIMAP7, LGALS2, S100A10 \n",
      "\t   RBP7, FCN1, MAL, LYZ, S100A12, MS4A6A, CD2, FYB, S100A11, FOLR3 \n",
      "\t   GIMAP4, AQP3, ANXA1, AIF1, MALAT1, GIMAP5, IL8, IFI6, TRABD2A, TMSB4X \n",
      "PC_ 5 \n",
      "Positive:  GZMB, FGFBP2, NKG7, GNLY, PRF1, CCL4, CST7, SPON2, GZMA, CLIC3 \n",
      "\t   GZMH, XCL2, CTSW, TTC38, AKR1C3, CCL5, IGFBP7, XCL1, CCL3, S100A8 \n",
      "\t   TYROBP, HOPX, CD160, HAVCR2, S100A9, FCER1G, PTGDR, LGALS2, RBP7, S100A12 \n",
      "Negative:  LTB, VIM, AQP3, PPA1, MAL, KIAA0101, CD2, CYTIP, CORO1B, FYB \n",
      "\t   IL32, TRADD, ANXA5, TUBA1B, HN1, TYMS, PTGES3, ITM2A, COTL1, GPR183 \n",
      "\t   TNFAIP8, ACTG1, TRAF3IP3, ATP5C1, GIMAP4, ZWINT, PRDX1, LDLRAP1, ABRACL, NGFRAP1 \n",
      "\n",
      "Computing nearest neighbor graph\n",
      "\n",
      "Computing SNN\n",
      "\n"
     ]
    },
    {
     "name": "stdout",
     "output_type": "stream",
     "text": [
      "Modularity Optimizer version 1.3.0 by Ludo Waltman and Nees Jan van Eck\n",
      "\n",
      "Number of nodes: 2700\n",
      "Number of edges: 97892\n",
      "\n",
      "Running Louvain algorithm...\n",
      "Maximum modularity in 10 random starts: 0.8314\n",
      "Number of communities: 11\n",
      "Elapsed time: 0 seconds\n"
     ]
    },
    {
     "name": "stderr",
     "output_type": "stream",
     "text": [
      "Warning message:\n",
      "“The default method for RunUMAP has changed from calling Python UMAP via reticulate to the R-native UWOT using the cosine metric\n",
      "To use Python UMAP via reticulate, set umap.method to 'umap-learn' and metric to 'correlation'\n",
      "This message will be shown once per session”\n",
      "10:41:45 UMAP embedding parameters a = 0.9922 b = 1.112\n",
      "\n",
      "10:41:45 Read 2700 rows and found 10 numeric columns\n",
      "\n",
      "10:41:45 Using Annoy for neighbor search, n_neighbors = 30\n",
      "\n",
      "10:41:45 Building Annoy index with metric = cosine, n_trees = 50\n",
      "\n",
      "0%   10   20   30   40   50   60   70   80   90   100%\n",
      "\n",
      "[----|----|----|----|----|----|----|----|----|----|\n",
      "\n",
      "*\n",
      "*\n",
      "*\n",
      "*\n",
      "*\n",
      "*\n",
      "*\n",
      "*\n",
      "*\n",
      "*\n",
      "*\n",
      "*\n",
      "*\n",
      "*\n",
      "*\n",
      "*\n",
      "*\n",
      "*\n",
      "*\n",
      "*\n",
      "*\n",
      "*\n",
      "*\n",
      "*\n",
      "*\n",
      "*\n",
      "*\n",
      "*\n",
      "*\n",
      "*\n",
      "*\n",
      "*\n",
      "*\n",
      "*\n",
      "*\n",
      "*\n",
      "*\n",
      "*\n",
      "*\n",
      "*\n",
      "*\n",
      "*\n",
      "*\n",
      "*\n",
      "*\n",
      "*\n",
      "*\n",
      "*\n",
      "*\n",
      "*\n",
      "|\n",
      "\n",
      "10:41:46 Writing NN index file to temp file /tmp/RtmpwmVEdy/file147375246d369\n",
      "\n",
      "10:41:46 Searching Annoy index using 1 thread, search_k = 3000\n",
      "\n",
      "10:41:47 Annoy recall = 100%\n",
      "\n",
      "10:41:47 Commencing smooth kNN distance calibration using 1 thread\n",
      " with target n_neighbors = 30\n",
      "\n",
      "10:41:47 Initializing from normalized Laplacian + noise (using irlba)\n",
      "\n",
      "10:41:48 Commencing optimization for 500 epochs, with 107868 positive edges\n",
      "\n",
      "10:41:51 Optimization finished\n",
      "\n"
     ]
    }
   ],
   "source": [
    "# Apply scType process, based on Seurat process\n",
    "pbmc[[\"percent.mt\"]] <- PercentageFeatureSet(pbmc, pattern = \"^MT-\")\n",
    "# pbmc <- subset(pbmc, subset = nFeature_RNA > 200 & nFeature_RNA < 2500 & percent.mt < 5) # make some filtering based on QC metrics visualizations, see Seurat tutorial: https://satijalab.org/seurat/articles/pbmc3k_tutorial.html\n",
    "pbmc <- NormalizeData(pbmc, normalization.method = \"LogNormalize\", scale.factor = 10000)\n",
    "pbmc <- FindVariableFeatures(pbmc, selection.method = \"vst\", nfeatures = 2000)\n",
    "\n",
    "# scale and run PCA\n",
    "pbmc <- ScaleData(pbmc, features = rownames(pbmc))\n",
    "pbmc <- RunPCA(pbmc, features = VariableFeatures(object = pbmc))\n",
    "\n",
    "# Check number of PC components (we selected 10 PCs for downstream analysis, based on Elbow plot)\n",
    "# ElbowPlot(pbmc)\n",
    "\n",
    "# cluster and visualize\n",
    "pbmc <- FindNeighbors(pbmc, dims = 1:10)\n",
    "pbmc <- FindClusters(pbmc, resolution = 0.8)\n",
    "pbmc <- RunUMAP(pbmc, dims = 1:10)\n",
    "# DimPlot(pbmc, reduction = \"umap\")"
   ]
  },
  {
   "cell_type": "markdown",
   "id": "bd8b4513",
   "metadata": {},
   "source": [
    "# Classifier"
   ]
  },
  {
   "cell_type": "code",
   "execution_count": 6,
   "id": "832f7f7e",
   "metadata": {},
   "outputs": [],
   "source": [
    "# Format the classifier to be handled in adverSCarial functions\n",
    "Class_sctype = function(expr, clusters, target){\n",
    "    expr = t(expr)\n",
    "    if ( !exists(\"sctype_score\")){\n",
    "        source(\"https://raw.githubusercontent.com/IanevskiAleksandr/sc-type/master/R/sctype_score_.R\")\n",
    "    }\n",
    "    if (!exists(\"gs_list\")){\n",
    "        source(\"https://raw.githubusercontent.com/IanevskiAleksandr/sc-type/master/R/gene_sets_prepare.R\")\n",
    "        db_ = \"https://raw.githubusercontent.com/IanevskiAleksandr/sc-type/master/ScTypeDB_full.xlsx\";\n",
    "        tissue = \"Immune system\" # e.g. Immune system,Pancreas,Liver,Eye,Kidney,Brain,Lung,Adrenal,Heart,Intestine,Muscle,Placenta,Spleen,Stomach,Thymus \n",
    "        # prepare gene sets\n",
    "        gs_list = gene_sets_prepare(db_, tissue)\n",
    "    }\n",
    "    \n",
    "    es.max = sctype_score(scRNAseqData = expr, scaled = T, \n",
    "                          gs = gs_list$gs_positive, gs2 = gs_list$gs_negative)\n",
    "    \n",
    "    if (sum(clusters == target) == 0 ){\n",
    "        return( c(\"UNDETERMINED\",1))\n",
    "    }\n",
    "    table_cell_type <<- table(apply(t(es.max[, clusters == target]), 1, function(x){\n",
    "        names(x[x == max(x)])[1]\n",
    "    }))\n",
    "    str_class <- names(table_cell_type[order(table_cell_type, decreasing=T)][1])\n",
    "    c(str_class, 1)\n",
    "}"
   ]
  },
  {
   "cell_type": "markdown",
   "id": "29818beb",
   "metadata": {},
   "source": [
    "# Make tables"
   ]
  },
  {
   "cell_type": "code",
   "execution_count": 9,
   "id": "4dc9eec1",
   "metadata": {},
   "outputs": [
    {
     "data": {
      "text/html": [
       "'1'"
      ],
      "text/latex": [
       "'1'"
      ],
      "text/markdown": [
       "'1'"
      ],
      "text/plain": [
       "[1] \"1\""
      ]
     },
     "metadata": {},
     "output_type": "display_data"
    },
    {
     "data": {
      "text/html": [
       "'2'"
      ],
      "text/latex": [
       "'2'"
      ],
      "text/markdown": [
       "'2'"
      ],
      "text/plain": [
       "[1] \"2\""
      ]
     },
     "metadata": {},
     "output_type": "display_data"
    },
    {
     "data": {
      "text/html": [
       "'7'"
      ],
      "text/latex": [
       "'7'"
      ],
      "text/markdown": [
       "'7'"
      ],
      "text/plain": [
       "[1] \"7\""
      ]
     },
     "metadata": {},
     "output_type": "display_data"
    },
    {
     "data": {
      "text/html": [
       "'8'"
      ],
      "text/latex": [
       "'8'"
      ],
      "text/markdown": [
       "'8'"
      ],
      "text/plain": [
       "[1] \"8\""
      ]
     },
     "metadata": {},
     "output_type": "display_data"
    },
    {
     "data": {
      "text/html": [
       "'3'"
      ],
      "text/latex": [
       "'3'"
      ],
      "text/markdown": [
       "'3'"
      ],
      "text/plain": [
       "[1] \"3\""
      ]
     },
     "metadata": {},
     "output_type": "display_data"
    },
    {
     "data": {
      "text/html": [
       "'6'"
      ],
      "text/latex": [
       "'6'"
      ],
      "text/markdown": [
       "'6'"
      ],
      "text/plain": [
       "[1] \"6\""
      ]
     },
     "metadata": {},
     "output_type": "display_data"
    },
    {
     "data": {
      "text/html": [
       "'0'"
      ],
      "text/latex": [
       "'0'"
      ],
      "text/markdown": [
       "'0'"
      ],
      "text/plain": [
       "[1] \"0\""
      ]
     },
     "metadata": {},
     "output_type": "display_data"
    },
    {
     "data": {
      "text/html": [
       "'4'"
      ],
      "text/latex": [
       "'4'"
      ],
      "text/markdown": [
       "'4'"
      ],
      "text/plain": [
       "[1] \"4\""
      ]
     },
     "metadata": {},
     "output_type": "display_data"
    },
    {
     "data": {
      "text/html": [
       "'5'"
      ],
      "text/latex": [
       "'5'"
      ],
      "text/markdown": [
       "'5'"
      ],
      "text/plain": [
       "[1] \"5\""
      ]
     },
     "metadata": {},
     "output_type": "display_data"
    },
    {
     "data": {
      "text/html": [
       "'9'"
      ],
      "text/latex": [
       "'9'"
      ],
      "text/markdown": [
       "'9'"
      ],
      "text/plain": [
       "[1] \"9\""
      ]
     },
     "metadata": {},
     "output_type": "display_data"
    },
    {
     "data": {
      "text/html": [
       "'10'"
      ],
      "text/latex": [
       "'10'"
      ],
      "text/markdown": [
       "'10'"
      ],
      "text/plain": [
       "[1] \"10\""
      ]
     },
     "metadata": {},
     "output_type": "display_data"
    }
   ],
   "source": [
    "pbmc@meta.data$clust_sc_type = \"\"\n",
    "for (seur_clust in unique(pbmc@meta.data$seurat_clusters)){\n",
    "    display(seur_clust)\n",
    "    pbmc@meta.data$clust_sc_type[pbmc@meta.data$seurat_clusters == seur_clust] = Class_sctype(t(pbmc[[\"RNA\"]]@scale.data), pbmc@meta.data$seurat_clusters, seur_clust)[1]\n",
    "}"
   ]
  },
  {
   "cell_type": "code",
   "execution_count": 12,
   "id": "686b2d9a",
   "metadata": {},
   "outputs": [],
   "source": [
    "for ( my_str in unique(pbmc@meta.data$clust_sc_type)){\n",
    "    display(my_str)\n",
    "    min_temp = advMinChange(as.data.frame(t(pbmc[[\"RNA\"]]@scale.data)), pbmc@meta.data$clust_sc_type,\n",
    "                              my_str, Class_sctype, verbose=T, argForClassif=\"data.frame\", advMethod=\"perc1\")\n",
    "    df_4export = data.frame(genes = names(min_temp@values),\n",
    "           cell_type=unname(unlist(lapply(min_temp@values, function(x)x[1]))))\n",
    "    write.table(df_4export, paste0(\"results/perc1_min_change_\",my_str,\".txt\"))\n",
    "}"
   ]
  },
  {
   "cell_type": "code",
   "execution_count": null,
   "id": "b574d0c2",
   "metadata": {},
   "outputs": [],
   "source": [
    "for ( my_str in unique(pbmc@meta.data$clust_sc_type)){\n",
    "    display(my_str)\n",
    "    min_temp = advMinChange(as.data.frame(t(pbmc[[\"RNA\"]]@scale.data)), pbmc@meta.data$clust_sc_type,\n",
    "                              my_str, Class_sctype, verbose=T, argForClassif=\"data.frame\", advMethod=\"perc99\")\n",
    "    df_4export = data.frame(genes = names(min_temp@values),\n",
    "           cell_type=unname(unlist(lapply(min_temp@values, function(x)x[1]))))\n",
    "    write.table(df_4export, paste0(\"results/perc99_min_change_\",my_str,\".txt\"))\n",
    "}"
   ]
  },
  {
   "cell_type": "code",
   "execution_count": null,
   "id": "5a26e145",
   "metadata": {},
   "outputs": [],
   "source": [
    "for ( my_str in unique(pbmc@meta.data$clust_sc_type)){\n",
    "    display(my_str)\n",
    "    min_temp = advMinChange(as.data.frame(t(pbmc[[\"RNA\"]]@scale.data)), pbmc@meta.data$clust_sc_type,\n",
    "                              my_str, Class_sctype, verbose=T, argForClassif=\"data.frame\",\n",
    "                            advMethod=\"positive_aberrant\")\n",
    "    df_4export = data.frame(genes = names(min_temp@values),\n",
    "           cell_type=unname(unlist(lapply(min_temp@values, function(x)x[1]))))\n",
    "    write.table(df_4export, paste0(\"results/fctAbbPos_min_change_\",my_str,\".txt\"))\n",
    "}"
   ]
  },
  {
   "cell_type": "code",
   "execution_count": null,
   "id": "b51f82bd",
   "metadata": {},
   "outputs": [],
   "source": [
    "for ( my_str in unique(pbmc@meta.data$clust_sc_type)){\n",
    "    display(my_str)\n",
    "    min_temp = advMinChange(as.data.frame(t(pbmc[[\"RNA\"]]@scale.data)), pbmc@meta.data$clust_sc_type,\n",
    "                              my_str, Class_sctype, verbose=T, argForClassif=\"data.frame\",\n",
    "                            advMethod=\"random\")\n",
    "    df_4export = data.frame(genes = names(min_temp@values),\n",
    "           cell_type=unname(unlist(lapply(min_temp@values, function(x)x[1]))))\n",
    "    write.table(df_4export, paste0(\"results/fctRand_min_change_\",my_str,\".txt\"))\n",
    "}"
   ]
  },
  {
   "cell_type": "code",
   "execution_count": null,
   "id": "d4615362",
   "metadata": {},
   "outputs": [],
   "source": [
    "for ( my_str in unique(pbmc@meta.data$clust_sc_type)){\n",
    "    display(my_str)\n",
    "    min_temp = advMinChange(as.data.frame(t(pbmc[[\"RNA\"]]@scale.data)), pbmc@meta.data$clust_sc_type,\n",
    "                              my_str, Class_sctype, verbose=T, argForClassif=\"data.frame\",\n",
    "                            advMethod=\"negative_aberrant\")\n",
    "    df_4export = data.frame(genes = names(min_temp@values),\n",
    "           cell_type=unname(unlist(lapply(min_temp@values, function(x)x[1]))))\n",
    "    write.table(df_4export, paste0(\"results/fctAbbNeg_min_change_\",my_str,\".txt\"))\n",
    "}"
   ]
  },
  {
   "cell_type": "code",
   "execution_count": null,
   "id": "2b87ee29",
   "metadata": {},
   "outputs": [],
   "source": [
    "for ( my_str in unique(pbmc@meta.data$clust_sc_type)){\n",
    "    display(my_str)\n",
    "    max_temp = advMaxChange(as.data.frame(t(pbmc[[\"RNA\"]]@scale.data)), pbmc@meta.data$clust_sc_type,\n",
    "                              my_str, Class_sctype, verbose=T, argForClassif=\"data.frame\",\n",
    "                            advMethod=\"perc1\")\n",
    "    write.table(max_temp@values, paste0(\"results/perc1_max_change_\",my_str,\".txt\"))\n",
    "}"
   ]
  },
  {
   "cell_type": "code",
   "execution_count": null,
   "id": "fcbc07b0",
   "metadata": {},
   "outputs": [],
   "source": [
    "for ( my_str in unique(pbmc@meta.data$clust_sc_type)){\n",
    "    display(my_str)\n",
    "    max_temp = advMaxChange(as.data.frame(t(pbmc[[\"RNA\"]]@scale.data)), pbmc@meta.data$clust_sc_type,\n",
    "                              my_str, Class_sctype, verbose=T, argForClassif=\"data.frame\",\n",
    "                            advMethod=\"perc99\")\n",
    "    write.table(max_temp@values, paste0(\"results/perc99_max_change_\",my_str,\".txt\"))\n",
    "}"
   ]
  },
  {
   "cell_type": "code",
   "execution_count": 13,
   "id": "9711deb2",
   "metadata": {},
   "outputs": [],
   "source": [
    "for ( my_str in unique(pbmc@meta.data$clust_sc_type)){\n",
    "    display(my_str)\n",
    "    max_temp = advMaxChange(as.data.frame(t(pbmc[[\"RNA\"]]@scale.data)), pbmc@meta.data$clust_sc_type,\n",
    "                              my_str, Class_sctype, verbose=T, argForClassif=\"data.frame\",\n",
    "                            advMethod=\"positive_aberrant\")\n",
    "    write.table(max_temp@values, paste0(\"results/fctAbbPos_max_change_\",my_str,\".txt\"))\n",
    "}"
   ]
  },
  {
   "cell_type": "code",
   "execution_count": null,
   "id": "e2764b24",
   "metadata": {},
   "outputs": [],
   "source": [
    "for ( my_str in unique(pbmc@meta.data$clust_sc_type)){\n",
    "    display(my_str)\n",
    "    max_temp = advMaxChange(as.data.frame(t(pbmc[[\"RNA\"]]@scale.data)), pbmc@meta.data$clust_sc_type,\n",
    "                              my_str, Class_sctype, verbose=T, argForClassif=\"data.frame\",\n",
    "                            advMethod=\"random\")\n",
    "    write.table(max_temp@values, paste0(\"results/fctRand_max_change_\",my_str,\".txt\"))\n",
    "}"
   ]
  },
  {
   "cell_type": "code",
   "execution_count": null,
   "id": "3f6f57d0",
   "metadata": {},
   "outputs": [],
   "source": [
    "for ( my_str in unique(pbmc@meta.data$clust_sc_type)){\n",
    "    display(my_str)\n",
    "    max_temp = advMaxChange(as.data.frame(t(pbmc[[\"RNA\"]]@scale.data)), pbmc@meta.data$clust_sc_type,\n",
    "                              my_str, Class_sctype, verbose=T, argForClassif=\"data.frame\",\n",
    "                            advMethod=\"negative_aberrant\")\n",
    "    write.table(max_temp@values, paste0(\"results/fctAbbNeg_max_change_\",my_str,\".txt\"))\n",
    "}"
   ]
  },
  {
   "cell_type": "code",
   "execution_count": null,
   "id": "d8144fb6",
   "metadata": {},
   "outputs": [],
   "source": []
  }
 ],
 "metadata": {
  "kernelspec": {
   "display_name": "R",
   "language": "R",
   "name": "ir"
  },
  "language_info": {
   "codemirror_mode": "r",
   "file_extension": ".r",
   "mimetype": "text/x-r-source",
   "name": "R",
   "pygments_lexer": "r",
   "version": "4.3.0"
  }
 },
 "nbformat": 4,
 "nbformat_minor": 5
}
