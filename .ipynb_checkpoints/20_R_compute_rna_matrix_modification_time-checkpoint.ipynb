{
 "cells": [
  {
   "cell_type": "markdown",
   "id": "de1d0262",
   "metadata": {},
   "source": [
    "# Compute time to modify a single gene value on a cell type cluster, for each cell type for each dataset ."
   ]
  },
  {
   "cell_type": "code",
   "execution_count": 1,
   "id": "d5400675",
   "metadata": {
    "scrolled": true,
    "vscode": {
     "languageId": "r"
    }
   },
   "outputs": [
    {
     "name": "stderr",
     "output_type": "stream",
     "text": [
      "\n",
      "Attaching package: ‘dplyr’\n",
      "\n",
      "\n",
      "The following objects are masked from ‘package:stats’:\n",
      "\n",
      "    filter, lag\n",
      "\n",
      "\n",
      "The following objects are masked from ‘package:base’:\n",
      "\n",
      "    intersect, setdiff, setequal, union\n",
      "\n",
      "\n",
      "Loading required package: SeuratObject\n",
      "\n",
      "Loading required package: sp\n",
      "\n",
      "The legacy packages maptools, rgdal, and rgeos, underpinning the sp package,\n",
      "which was just loaded, will retire in October 2023.\n",
      "Please refer to R-spatial evolution reports for details, especially\n",
      "https://r-spatial.org/r/2023/05/15/evolution4.html.\n",
      "It may be desirable to make the sf package available;\n",
      "package maintainers should consider adding sf to Suggests:.\n",
      "The sp package is now running under evolution status 2\n",
      "     (status 2 uses the sf package in place of rgdal)\n",
      "\n",
      "\n",
      "Attaching package: ‘SeuratObject’\n",
      "\n",
      "\n",
      "The following objects are masked from ‘package:base’:\n",
      "\n",
      "    intersect, t\n",
      "\n",
      "\n"
     ]
    },
    {
     "data": {
      "text/html": [
       "<ol>\n",
       "\t<li><style>\n",
       ".list-inline {list-style: none; margin:0; padding: 0}\n",
       ".list-inline>li {display: inline-block}\n",
       ".list-inline>li:not(:last-child)::after {content: \"\\00b7\"; padding: 0 .5ex}\n",
       "</style>\n",
       "<ol class=list-inline><li>'dplyr'</li><li>'stats'</li><li>'graphics'</li><li>'grDevices'</li><li>'utils'</li><li>'datasets'</li><li>'methods'</li><li>'base'</li></ol>\n",
       "</li>\n",
       "\t<li><style>\n",
       ".list-inline {list-style: none; margin:0; padding: 0}\n",
       ".list-inline>li {display: inline-block}\n",
       ".list-inline>li:not(:last-child)::after {content: \"\\00b7\"; padding: 0 .5ex}\n",
       "</style>\n",
       "<ol class=list-inline><li>'Seurat'</li><li>'SeuratObject'</li><li>'sp'</li><li>'dplyr'</li><li>'stats'</li><li>'graphics'</li><li>'grDevices'</li><li>'utils'</li><li>'datasets'</li><li>'methods'</li><li>'base'</li></ol>\n",
       "</li>\n",
       "\t<li><style>\n",
       ".list-inline {list-style: none; margin:0; padding: 0}\n",
       ".list-inline>li {display: inline-block}\n",
       ".list-inline>li:not(:last-child)::after {content: \"\\00b7\"; padding: 0 .5ex}\n",
       "</style>\n",
       "<ol class=list-inline><li>'HGNChelper'</li><li>'Seurat'</li><li>'SeuratObject'</li><li>'sp'</li><li>'dplyr'</li><li>'stats'</li><li>'graphics'</li><li>'grDevices'</li><li>'utils'</li><li>'datasets'</li><li>'methods'</li><li>'base'</li></ol>\n",
       "</li>\n",
       "\t<li><style>\n",
       ".list-inline {list-style: none; margin:0; padding: 0}\n",
       ".list-inline>li {display: inline-block}\n",
       ".list-inline>li:not(:last-child)::after {content: \"\\00b7\"; padding: 0 .5ex}\n",
       "</style>\n",
       "<ol class=list-inline><li>'adverSCarial'</li><li>'HGNChelper'</li><li>'Seurat'</li><li>'SeuratObject'</li><li>'sp'</li><li>'dplyr'</li><li>'stats'</li><li>'graphics'</li><li>'grDevices'</li><li>'utils'</li><li>'datasets'</li><li>'methods'</li><li>'base'</li></ol>\n",
       "</li>\n",
       "\t<li><style>\n",
       ".list-inline {list-style: none; margin:0; padding: 0}\n",
       ".list-inline>li {display: inline-block}\n",
       ".list-inline>li:not(:last-child)::after {content: \"\\00b7\"; padding: 0 .5ex}\n",
       "</style>\n",
       "<ol class=list-inline><li>'IRdisplay'</li><li>'adverSCarial'</li><li>'HGNChelper'</li><li>'Seurat'</li><li>'SeuratObject'</li><li>'sp'</li><li>'dplyr'</li><li>'stats'</li><li>'graphics'</li><li>'grDevices'</li><li>'utils'</li><li>'datasets'</li><li>'methods'</li><li>'base'</li></ol>\n",
       "</li>\n",
       "</ol>\n"
      ],
      "text/latex": [
       "\\begin{enumerate}\n",
       "\\item \\begin{enumerate*}\n",
       "\\item 'dplyr'\n",
       "\\item 'stats'\n",
       "\\item 'graphics'\n",
       "\\item 'grDevices'\n",
       "\\item 'utils'\n",
       "\\item 'datasets'\n",
       "\\item 'methods'\n",
       "\\item 'base'\n",
       "\\end{enumerate*}\n",
       "\n",
       "\\item \\begin{enumerate*}\n",
       "\\item 'Seurat'\n",
       "\\item 'SeuratObject'\n",
       "\\item 'sp'\n",
       "\\item 'dplyr'\n",
       "\\item 'stats'\n",
       "\\item 'graphics'\n",
       "\\item 'grDevices'\n",
       "\\item 'utils'\n",
       "\\item 'datasets'\n",
       "\\item 'methods'\n",
       "\\item 'base'\n",
       "\\end{enumerate*}\n",
       "\n",
       "\\item \\begin{enumerate*}\n",
       "\\item 'HGNChelper'\n",
       "\\item 'Seurat'\n",
       "\\item 'SeuratObject'\n",
       "\\item 'sp'\n",
       "\\item 'dplyr'\n",
       "\\item 'stats'\n",
       "\\item 'graphics'\n",
       "\\item 'grDevices'\n",
       "\\item 'utils'\n",
       "\\item 'datasets'\n",
       "\\item 'methods'\n",
       "\\item 'base'\n",
       "\\end{enumerate*}\n",
       "\n",
       "\\item \\begin{enumerate*}\n",
       "\\item 'adverSCarial'\n",
       "\\item 'HGNChelper'\n",
       "\\item 'Seurat'\n",
       "\\item 'SeuratObject'\n",
       "\\item 'sp'\n",
       "\\item 'dplyr'\n",
       "\\item 'stats'\n",
       "\\item 'graphics'\n",
       "\\item 'grDevices'\n",
       "\\item 'utils'\n",
       "\\item 'datasets'\n",
       "\\item 'methods'\n",
       "\\item 'base'\n",
       "\\end{enumerate*}\n",
       "\n",
       "\\item \\begin{enumerate*}\n",
       "\\item 'IRdisplay'\n",
       "\\item 'adverSCarial'\n",
       "\\item 'HGNChelper'\n",
       "\\item 'Seurat'\n",
       "\\item 'SeuratObject'\n",
       "\\item 'sp'\n",
       "\\item 'dplyr'\n",
       "\\item 'stats'\n",
       "\\item 'graphics'\n",
       "\\item 'grDevices'\n",
       "\\item 'utils'\n",
       "\\item 'datasets'\n",
       "\\item 'methods'\n",
       "\\item 'base'\n",
       "\\end{enumerate*}\n",
       "\n",
       "\\end{enumerate}\n"
      ],
      "text/markdown": [
       "1. 1. 'dplyr'\n",
       "2. 'stats'\n",
       "3. 'graphics'\n",
       "4. 'grDevices'\n",
       "5. 'utils'\n",
       "6. 'datasets'\n",
       "7. 'methods'\n",
       "8. 'base'\n",
       "\n",
       "\n",
       "\n",
       "2. 1. 'Seurat'\n",
       "2. 'SeuratObject'\n",
       "3. 'sp'\n",
       "4. 'dplyr'\n",
       "5. 'stats'\n",
       "6. 'graphics'\n",
       "7. 'grDevices'\n",
       "8. 'utils'\n",
       "9. 'datasets'\n",
       "10. 'methods'\n",
       "11. 'base'\n",
       "\n",
       "\n",
       "\n",
       "3. 1. 'HGNChelper'\n",
       "2. 'Seurat'\n",
       "3. 'SeuratObject'\n",
       "4. 'sp'\n",
       "5. 'dplyr'\n",
       "6. 'stats'\n",
       "7. 'graphics'\n",
       "8. 'grDevices'\n",
       "9. 'utils'\n",
       "10. 'datasets'\n",
       "11. 'methods'\n",
       "12. 'base'\n",
       "\n",
       "\n",
       "\n",
       "4. 1. 'adverSCarial'\n",
       "2. 'HGNChelper'\n",
       "3. 'Seurat'\n",
       "4. 'SeuratObject'\n",
       "5. 'sp'\n",
       "6. 'dplyr'\n",
       "7. 'stats'\n",
       "8. 'graphics'\n",
       "9. 'grDevices'\n",
       "10. 'utils'\n",
       "11. 'datasets'\n",
       "12. 'methods'\n",
       "13. 'base'\n",
       "\n",
       "\n",
       "\n",
       "5. 1. 'IRdisplay'\n",
       "2. 'adverSCarial'\n",
       "3. 'HGNChelper'\n",
       "4. 'Seurat'\n",
       "5. 'SeuratObject'\n",
       "6. 'sp'\n",
       "7. 'dplyr'\n",
       "8. 'stats'\n",
       "9. 'graphics'\n",
       "10. 'grDevices'\n",
       "11. 'utils'\n",
       "12. 'datasets'\n",
       "13. 'methods'\n",
       "14. 'base'\n",
       "\n",
       "\n",
       "\n",
       "\n",
       "\n"
      ],
      "text/plain": [
       "[[1]]\n",
       "[1] \"dplyr\"     \"stats\"     \"graphics\"  \"grDevices\" \"utils\"     \"datasets\" \n",
       "[7] \"methods\"   \"base\"     \n",
       "\n",
       "[[2]]\n",
       " [1] \"Seurat\"       \"SeuratObject\" \"sp\"           \"dplyr\"        \"stats\"       \n",
       " [6] \"graphics\"     \"grDevices\"    \"utils\"        \"datasets\"     \"methods\"     \n",
       "[11] \"base\"        \n",
       "\n",
       "[[3]]\n",
       " [1] \"HGNChelper\"   \"Seurat\"       \"SeuratObject\" \"sp\"           \"dplyr\"       \n",
       " [6] \"stats\"        \"graphics\"     \"grDevices\"    \"utils\"        \"datasets\"    \n",
       "[11] \"methods\"      \"base\"        \n",
       "\n",
       "[[4]]\n",
       " [1] \"adverSCarial\" \"HGNChelper\"   \"Seurat\"       \"SeuratObject\" \"sp\"          \n",
       " [6] \"dplyr\"        \"stats\"        \"graphics\"     \"grDevices\"    \"utils\"       \n",
       "[11] \"datasets\"     \"methods\"      \"base\"        \n",
       "\n",
       "[[5]]\n",
       " [1] \"IRdisplay\"    \"adverSCarial\" \"HGNChelper\"   \"Seurat\"       \"SeuratObject\"\n",
       " [6] \"sp\"           \"dplyr\"        \"stats\"        \"graphics\"     \"grDevices\"   \n",
       "[11] \"utils\"        \"datasets\"     \"methods\"      \"base\"        \n"
      ]
     },
     "metadata": {},
     "output_type": "display_data"
    }
   ],
   "source": [
    "lapply(c(\"dplyr\",\"Seurat\",\"HGNChelper\", \"adverSCarial\", \"IRdisplay\"), library, character.only = T)\n",
    "options(warn=-1)"
   ]
  },
  {
   "cell_type": "code",
   "execution_count": 2,
   "id": "77cf0d5b",
   "metadata": {},
   "outputs": [],
   "source": [
    "bd <- \"data/\"\n",
    "\n",
    "my_computer= \"c1\"\n",
    "\n",
    "source(\"load_classifiers_v5.r\")"
   ]
  },
  {
   "cell_type": "raw",
   "id": "0fc6b4b9",
   "metadata": {},
   "source": [
    "# Uncomment to reinit table\n",
    "df_times <- data.frame(modifs=c(-1,-1), classifier=c(-1,-1), ct=c(-1,-1), ds=c(-1,-1),\n",
    "                      run_time=c(-1,-1), misc=c(-1,-1))\n",
    "# rownames(df_times) = c(\"c1;singleGene;CHETAH;pbmc_3k;B;perc99;T\", \"c1;singleGene;CHETAH;axilla_10k;fibroblast;perc99;T\")\n",
    "df_times"
   ]
  },
  {
   "cell_type": "code",
   "execution_count": 3,
   "id": "fa1d47b8",
   "metadata": {},
   "outputs": [],
   "source": [
    "c_paths <- list(pbmc_3k=list(so=paste0(bd, \"v2//pbmc_test.rds\"),\n",
    "                             sce=paste0(bd, \"v2//sce_pbmc_test.rds\"),\n",
    "                             df=paste0(bd, \"v2//seurat_scaled_pbmc_test.txt\")),\n",
    "                kidney_10k=list(so=paste0(bd, \"v5/data/sc/hgnc_kidney_10k_test.rds\"),\n",
    "                               sce=paste0(bd, \"v5/data/sc/sce_hgnc_kidney_10k_test.rds\"),\n",
    "                               df=paste0(bd, \"v5/data/sc/hgnc_kidney_10k_test.txt\")),\n",
    "                liver_10k=list(so=paste0(bd, \"v5/data/sc/hgnc_liver_10k_test.rds\"),\n",
    "                               sce=paste0(bd, \"v5/data/sc/sce_hgnc_liver_10k_test.rds\"),\n",
    "                               df=paste0(bd, \"v5/data/sc/hgnc_liver_10k_test.txt\")),\n",
    "                axilla_10k=list(so=paste0(bd, \"v5/data/sc/hgnc_axilla_10k_test.rds\"),\n",
    "                               sce=paste0(bd, \"v5/data/sc/sce_hgnc_axilla_10k_test.rds\"),\n",
    "                               df=paste0(bd, \"v5/data/sc/hgnc_axilla_10k_test.txt\"))\n",
    "               )"
   ]
  },
  {
   "cell_type": "code",
   "execution_count": 4,
   "id": "d875c212",
   "metadata": {},
   "outputs": [],
   "source": [
    "lsg <- list(pbmc_3k= read.table(\"data//v2/sign_genes.txt\")$gene,\n",
    "           liver_10k = read.table(\"data//v5/data/sign/sign_liver_10k.txt\")$gene,\n",
    "           kidney_10k = read.table(\"data//v5/data/sign/sign_kidney_10k.txt\")$gene,\n",
    "           axilla_10k = read.table(\"data//v5/data/sign/sign_axilla_10k.txt\")$gene)"
   ]
  },
  {
   "cell_type": "code",
   "execution_count": null,
   "id": "7baa35c6",
   "metadata": {},
   "outputs": [],
   "source": []
  },
  {
   "cell_type": "code",
   "execution_count": 5,
   "id": "aee17675",
   "metadata": {},
   "outputs": [],
   "source": [
    "c_corres <- readRDS(\"data//v5/type_corres.rds\")"
   ]
  },
  {
   "cell_type": "code",
   "execution_count": 6,
   "id": "f7ce0cf4",
   "metadata": {},
   "outputs": [
    {
     "data": {
      "text/html": [
       "<style>\n",
       ".list-inline {list-style: none; margin:0; padding: 0}\n",
       ".list-inline>li {display: inline-block}\n",
       ".list-inline>li:not(:last-child)::after {content: \"\\00b7\"; padding: 0 .5ex}\n",
       "</style>\n",
       "<ol class=list-inline><li>'Memory CD4 T'</li><li>'B'</li><li>'CD14+ Mono'</li><li>'NK'</li><li>'CD8 T'</li><li>'Naive CD4 T'</li><li>'FCGR3A+ Mono'</li><li>'DC'</li><li>'Platelet'</li></ol>\n"
      ],
      "text/latex": [
       "\\begin{enumerate*}\n",
       "\\item 'Memory CD4 T'\n",
       "\\item 'B'\n",
       "\\item 'CD14+ Mono'\n",
       "\\item 'NK'\n",
       "\\item 'CD8 T'\n",
       "\\item 'Naive CD4 T'\n",
       "\\item 'FCGR3A+ Mono'\n",
       "\\item 'DC'\n",
       "\\item 'Platelet'\n",
       "\\end{enumerate*}\n"
      ],
      "text/markdown": [
       "1. 'Memory CD4 T'\n",
       "2. 'B'\n",
       "3. 'CD14+ Mono'\n",
       "4. 'NK'\n",
       "5. 'CD8 T'\n",
       "6. 'Naive CD4 T'\n",
       "7. 'FCGR3A+ Mono'\n",
       "8. 'DC'\n",
       "9. 'Platelet'\n",
       "\n",
       "\n"
      ],
      "text/plain": [
       "[1] \"Memory CD4 T\" \"B\"            \"CD14+ Mono\"   \"NK\"           \"CD8 T\"       \n",
       "[6] \"Naive CD4 T\"  \"FCGR3A+ Mono\" \"DC\"           \"Platelet\"    "
      ]
     },
     "metadata": {},
     "output_type": "display_data"
    }
   ],
   "source": [
    "ct_pbmc <- unique(unlist(lapply(grep(\"pbmc\",names(c_corres), value=T), function(x){\n",
    "    unlist(strsplit(x,\"__\"))[3]\n",
    "})))\n",
    "ct_pbmc"
   ]
  },
  {
   "cell_type": "code",
   "execution_count": 7,
   "id": "bdafd1c9",
   "metadata": {},
   "outputs": [
    {
     "data": {
      "text/html": [
       "<style>\n",
       ".list-inline {list-style: none; margin:0; padding: 0}\n",
       ".list-inline>li {display: inline-block}\n",
       ".list-inline>li:not(:last-child)::after {content: \"\\00b7\"; padding: 0 .5ex}\n",
       "</style>\n",
       "<ol class=list-inline><li>'malignant cell'</li><li>'blood vessel endothelial cell'</li><li>'fibroblast'</li><li>'macrophage'</li><li>'blood vessel smooth muscle cell'</li><li>'T cell'</li></ol>\n"
      ],
      "text/latex": [
       "\\begin{enumerate*}\n",
       "\\item 'malignant cell'\n",
       "\\item 'blood vessel endothelial cell'\n",
       "\\item 'fibroblast'\n",
       "\\item 'macrophage'\n",
       "\\item 'blood vessel smooth muscle cell'\n",
       "\\item 'T cell'\n",
       "\\end{enumerate*}\n"
      ],
      "text/markdown": [
       "1. 'malignant cell'\n",
       "2. 'blood vessel endothelial cell'\n",
       "3. 'fibroblast'\n",
       "4. 'macrophage'\n",
       "5. 'blood vessel smooth muscle cell'\n",
       "6. 'T cell'\n",
       "\n",
       "\n"
      ],
      "text/plain": [
       "[1] \"malignant cell\"                  \"blood vessel endothelial cell\"  \n",
       "[3] \"fibroblast\"                      \"macrophage\"                     \n",
       "[5] \"blood vessel smooth muscle cell\" \"T cell\"                         "
      ]
     },
     "metadata": {},
     "output_type": "display_data"
    }
   ],
   "source": [
    "ct_axilla <- unique(unlist(lapply(grep(\"axilla\",names(c_corres), value=T), function(x){\n",
    "    unlist(strsplit(x,\"__\"))[3]\n",
    "})))\n",
    "ct_axilla"
   ]
  },
  {
   "cell_type": "code",
   "execution_count": 8,
   "id": "2352702f",
   "metadata": {},
   "outputs": [
    {
     "data": {
      "text/html": [
       "<style>\n",
       ".list-inline {list-style: none; margin:0; padding: 0}\n",
       ".list-inline>li {display: inline-block}\n",
       ".list-inline>li:not(:last-child)::after {content: \"\\00b7\"; padding: 0 .5ex}\n",
       "</style>\n",
       "<ol class=list-inline><li>'malignant cell'</li><li>'endothelial cell'</li><li>'blood vessel smooth muscle cell'</li><li>'macrophage'</li><li>'monocyte'</li><li>'mature NK T cell'</li></ol>\n"
      ],
      "text/latex": [
       "\\begin{enumerate*}\n",
       "\\item 'malignant cell'\n",
       "\\item 'endothelial cell'\n",
       "\\item 'blood vessel smooth muscle cell'\n",
       "\\item 'macrophage'\n",
       "\\item 'monocyte'\n",
       "\\item 'mature NK T cell'\n",
       "\\end{enumerate*}\n"
      ],
      "text/markdown": [
       "1. 'malignant cell'\n",
       "2. 'endothelial cell'\n",
       "3. 'blood vessel smooth muscle cell'\n",
       "4. 'macrophage'\n",
       "5. 'monocyte'\n",
       "6. 'mature NK T cell'\n",
       "\n",
       "\n"
      ],
      "text/plain": [
       "[1] \"malignant cell\"                  \"endothelial cell\"               \n",
       "[3] \"blood vessel smooth muscle cell\" \"macrophage\"                     \n",
       "[5] \"monocyte\"                        \"mature NK T cell\"               "
      ]
     },
     "metadata": {},
     "output_type": "display_data"
    }
   ],
   "source": [
    "ct_liver <- unique(unlist(lapply(grep(\"liver\",names(c_corres), value=T), function(x){\n",
    "    unlist(strsplit(x,\"__\"))[3]\n",
    "})))\n",
    "ct_liver"
   ]
  },
  {
   "cell_type": "code",
   "execution_count": 9,
   "id": "4527da13",
   "metadata": {},
   "outputs": [
    {
     "data": {
      "text/html": [
       "<style>\n",
       ".list-inline {list-style: none; margin:0; padding: 0}\n",
       ".list-inline>li {display: inline-block}\n",
       ".list-inline>li:not(:last-child)::after {content: \"\\00b7\"; padding: 0 .5ex}\n",
       "</style>\n",
       "<ol class=list-inline><li>'kidney epithelial cell'</li><li>'kidney cell'</li><li>'podocyte'</li><li>'epithelial cell of proximal tubule'</li><li>'mesenchymal cell'</li><li>'kidney loop of Henle epithelial cell'</li></ol>\n"
      ],
      "text/latex": [
       "\\begin{enumerate*}\n",
       "\\item 'kidney epithelial cell'\n",
       "\\item 'kidney cell'\n",
       "\\item 'podocyte'\n",
       "\\item 'epithelial cell of proximal tubule'\n",
       "\\item 'mesenchymal cell'\n",
       "\\item 'kidney loop of Henle epithelial cell'\n",
       "\\end{enumerate*}\n"
      ],
      "text/markdown": [
       "1. 'kidney epithelial cell'\n",
       "2. 'kidney cell'\n",
       "3. 'podocyte'\n",
       "4. 'epithelial cell of proximal tubule'\n",
       "5. 'mesenchymal cell'\n",
       "6. 'kidney loop of Henle epithelial cell'\n",
       "\n",
       "\n"
      ],
      "text/plain": [
       "[1] \"kidney epithelial cell\"              \n",
       "[2] \"kidney cell\"                         \n",
       "[3] \"podocyte\"                            \n",
       "[4] \"epithelial cell of proximal tubule\"  \n",
       "[5] \"mesenchymal cell\"                    \n",
       "[6] \"kidney loop of Henle epithelial cell\""
      ]
     },
     "metadata": {},
     "output_type": "display_data"
    }
   ],
   "source": [
    "ct_kidney <- unique(unlist(lapply(grep(\"kidney\",names(c_corres), value=T), function(x){\n",
    "    unlist(strsplit(x,\"__\"))[3]\n",
    "})))\n",
    "ct_kidney"
   ]
  },
  {
   "cell_type": "code",
   "execution_count": 10,
   "id": "1f31c6fb",
   "metadata": {},
   "outputs": [],
   "source": [
    "l_cts <- list(\"pbmc_3k\"=ct_pbmc, \"kidney_10k\"=ct_kidney,\n",
    "              \"liver_10k\"=ct_liver, \"axilla_10k\"=ct_axilla)"
   ]
  },
  {
   "cell_type": "code",
   "execution_count": null,
   "id": "b33454f7",
   "metadata": {},
   "outputs": [],
   "source": []
  },
  {
   "cell_type": "code",
   "execution_count": 11,
   "id": "0c215d69",
   "metadata": {},
   "outputs": [
    {
     "data": {
      "text/html": [
       "<style>\n",
       ".list-inline {list-style: none; margin:0; padding: 0}\n",
       ".list-inline>li {display: inline-block}\n",
       ".list-inline>li:not(:last-child)::after {content: \"\\00b7\"; padding: 0 .5ex}\n",
       "</style>\n",
       "<ol class=list-inline><li>'c1;scType;pbmc_3k;Memory CD4 T'</li><li>'c1;scType;pbmc_3k;B'</li><li>'c1;scType;pbmc_3k;CD14+ Mono'</li><li>'c1;scType;pbmc_3k;NK'</li><li>'c1;scType;pbmc_3k;CD8 T'</li><li>'c1;scType;pbmc_3k;Naive CD4 T'</li><li>'c1;scType;pbmc_3k;FCGR3A+ Mono'</li><li>'c1;scType;pbmc_3k;DC'</li><li>'c1;scType;pbmc_3k;Platelet'</li><li>'c1;scType;kidney_10k;kidney epithelial cell'</li><li>'c1;scType;kidney_10k;kidney cell'</li><li>'c1;scType;kidney_10k;podocyte'</li><li>'c1;scType;kidney_10k;epithelial cell of proximal tubule'</li><li>'c1;scType;kidney_10k;mesenchymal cell'</li><li>'c1;scType;kidney_10k;kidney loop of Henle epithelial cell'</li><li>'c1;scType;liver_10k;malignant cell'</li><li>'c1;scType;liver_10k;endothelial cell'</li><li>'c1;scType;liver_10k;blood vessel smooth muscle cell'</li><li>'c1;scType;liver_10k;macrophage'</li><li>'c1;scType;liver_10k;monocyte'</li><li>'c1;scType;liver_10k;mature NK T cell'</li><li>'c1;scType;axilla_10k;malignant cell'</li><li>'c1;scType;axilla_10k;blood vessel endothelial cell'</li><li>'c1;scType;axilla_10k;fibroblast'</li><li>'c1;scType;axilla_10k;macrophage'</li><li>'c1;scType;axilla_10k;blood vessel smooth muscle cell'</li><li>'c1;scType;axilla_10k;T cell'</li><li>'c2;scType;axilla_10k;T cell'</li><li>'c2;scType;axilla_10k;blood vessel smooth muscle cell'</li><li>'c2;scType;axilla_10k;macrophage'</li><li>'c2;scType;axilla_10k;fibroblast'</li><li>'c2;scType;axilla_10k;blood vessel endothelial cell'</li><li>'c2;scType;axilla_10k;malignant cell'</li><li>'c2;scType;liver_10k;mature NK T cell'</li><li>'c2;scType;liver_10k;monocyte'</li><li>'c2;scType;liver_10k;macrophage'</li><li>'c2;scType;liver_10k;blood vessel smooth muscle cell'</li><li>'c2;scType;liver_10k;endothelial cell'</li><li>'c2;scType;liver_10k;malignant cell'</li><li>'c2;scType;kidney_10k;kidney loop of Henle epithelial cell'</li><li>'c2;scType;kidney_10k;mesenchymal cell'</li><li>'c2;scType;kidney_10k;epithelial cell of proximal tubule'</li><li>'c2;scType;kidney_10k;podocyte'</li><li>'c2;scType;kidney_10k;kidney cell'</li><li>'c2;scType;kidney_10k;kidney epithelial cell'</li><li>'c2;scType;pbmc_3k;Platelet'</li><li>'c2;scType;pbmc_3k;DC'</li><li>'c2;scType;pbmc_3k;FCGR3A+ Mono'</li><li>'c2;scType;pbmc_3k;Naive CD4 T'</li><li>'c2;scType;pbmc_3k;CD8 T'</li><li>'c2;scType;pbmc_3k;NK'</li><li>'c2;scType;pbmc_3k;CD14+ Mono'</li><li>'c2;scType;pbmc_3k;B'</li><li>'c2;scType;pbmc_3k;Memory CD4 T'</li></ol>\n"
      ],
      "text/latex": [
       "\\begin{enumerate*}\n",
       "\\item 'c1;scType;pbmc\\_3k;Memory CD4 T'\n",
       "\\item 'c1;scType;pbmc\\_3k;B'\n",
       "\\item 'c1;scType;pbmc\\_3k;CD14+ Mono'\n",
       "\\item 'c1;scType;pbmc\\_3k;NK'\n",
       "\\item 'c1;scType;pbmc\\_3k;CD8 T'\n",
       "\\item 'c1;scType;pbmc\\_3k;Naive CD4 T'\n",
       "\\item 'c1;scType;pbmc\\_3k;FCGR3A+ Mono'\n",
       "\\item 'c1;scType;pbmc\\_3k;DC'\n",
       "\\item 'c1;scType;pbmc\\_3k;Platelet'\n",
       "\\item 'c1;scType;kidney\\_10k;kidney epithelial cell'\n",
       "\\item 'c1;scType;kidney\\_10k;kidney cell'\n",
       "\\item 'c1;scType;kidney\\_10k;podocyte'\n",
       "\\item 'c1;scType;kidney\\_10k;epithelial cell of proximal tubule'\n",
       "\\item 'c1;scType;kidney\\_10k;mesenchymal cell'\n",
       "\\item 'c1;scType;kidney\\_10k;kidney loop of Henle epithelial cell'\n",
       "\\item 'c1;scType;liver\\_10k;malignant cell'\n",
       "\\item 'c1;scType;liver\\_10k;endothelial cell'\n",
       "\\item 'c1;scType;liver\\_10k;blood vessel smooth muscle cell'\n",
       "\\item 'c1;scType;liver\\_10k;macrophage'\n",
       "\\item 'c1;scType;liver\\_10k;monocyte'\n",
       "\\item 'c1;scType;liver\\_10k;mature NK T cell'\n",
       "\\item 'c1;scType;axilla\\_10k;malignant cell'\n",
       "\\item 'c1;scType;axilla\\_10k;blood vessel endothelial cell'\n",
       "\\item 'c1;scType;axilla\\_10k;fibroblast'\n",
       "\\item 'c1;scType;axilla\\_10k;macrophage'\n",
       "\\item 'c1;scType;axilla\\_10k;blood vessel smooth muscle cell'\n",
       "\\item 'c1;scType;axilla\\_10k;T cell'\n",
       "\\item 'c2;scType;axilla\\_10k;T cell'\n",
       "\\item 'c2;scType;axilla\\_10k;blood vessel smooth muscle cell'\n",
       "\\item 'c2;scType;axilla\\_10k;macrophage'\n",
       "\\item 'c2;scType;axilla\\_10k;fibroblast'\n",
       "\\item 'c2;scType;axilla\\_10k;blood vessel endothelial cell'\n",
       "\\item 'c2;scType;axilla\\_10k;malignant cell'\n",
       "\\item 'c2;scType;liver\\_10k;mature NK T cell'\n",
       "\\item 'c2;scType;liver\\_10k;monocyte'\n",
       "\\item 'c2;scType;liver\\_10k;macrophage'\n",
       "\\item 'c2;scType;liver\\_10k;blood vessel smooth muscle cell'\n",
       "\\item 'c2;scType;liver\\_10k;endothelial cell'\n",
       "\\item 'c2;scType;liver\\_10k;malignant cell'\n",
       "\\item 'c2;scType;kidney\\_10k;kidney loop of Henle epithelial cell'\n",
       "\\item 'c2;scType;kidney\\_10k;mesenchymal cell'\n",
       "\\item 'c2;scType;kidney\\_10k;epithelial cell of proximal tubule'\n",
       "\\item 'c2;scType;kidney\\_10k;podocyte'\n",
       "\\item 'c2;scType;kidney\\_10k;kidney cell'\n",
       "\\item 'c2;scType;kidney\\_10k;kidney epithelial cell'\n",
       "\\item 'c2;scType;pbmc\\_3k;Platelet'\n",
       "\\item 'c2;scType;pbmc\\_3k;DC'\n",
       "\\item 'c2;scType;pbmc\\_3k;FCGR3A+ Mono'\n",
       "\\item 'c2;scType;pbmc\\_3k;Naive CD4 T'\n",
       "\\item 'c2;scType;pbmc\\_3k;CD8 T'\n",
       "\\item 'c2;scType;pbmc\\_3k;NK'\n",
       "\\item 'c2;scType;pbmc\\_3k;CD14+ Mono'\n",
       "\\item 'c2;scType;pbmc\\_3k;B'\n",
       "\\item 'c2;scType;pbmc\\_3k;Memory CD4 T'\n",
       "\\end{enumerate*}\n"
      ],
      "text/markdown": [
       "1. 'c1;scType;pbmc_3k;Memory CD4 T'\n",
       "2. 'c1;scType;pbmc_3k;B'\n",
       "3. 'c1;scType;pbmc_3k;CD14+ Mono'\n",
       "4. 'c1;scType;pbmc_3k;NK'\n",
       "5. 'c1;scType;pbmc_3k;CD8 T'\n",
       "6. 'c1;scType;pbmc_3k;Naive CD4 T'\n",
       "7. 'c1;scType;pbmc_3k;FCGR3A+ Mono'\n",
       "8. 'c1;scType;pbmc_3k;DC'\n",
       "9. 'c1;scType;pbmc_3k;Platelet'\n",
       "10. 'c1;scType;kidney_10k;kidney epithelial cell'\n",
       "11. 'c1;scType;kidney_10k;kidney cell'\n",
       "12. 'c1;scType;kidney_10k;podocyte'\n",
       "13. 'c1;scType;kidney_10k;epithelial cell of proximal tubule'\n",
       "14. 'c1;scType;kidney_10k;mesenchymal cell'\n",
       "15. 'c1;scType;kidney_10k;kidney loop of Henle epithelial cell'\n",
       "16. 'c1;scType;liver_10k;malignant cell'\n",
       "17. 'c1;scType;liver_10k;endothelial cell'\n",
       "18. 'c1;scType;liver_10k;blood vessel smooth muscle cell'\n",
       "19. 'c1;scType;liver_10k;macrophage'\n",
       "20. 'c1;scType;liver_10k;monocyte'\n",
       "21. 'c1;scType;liver_10k;mature NK T cell'\n",
       "22. 'c1;scType;axilla_10k;malignant cell'\n",
       "23. 'c1;scType;axilla_10k;blood vessel endothelial cell'\n",
       "24. 'c1;scType;axilla_10k;fibroblast'\n",
       "25. 'c1;scType;axilla_10k;macrophage'\n",
       "26. 'c1;scType;axilla_10k;blood vessel smooth muscle cell'\n",
       "27. 'c1;scType;axilla_10k;T cell'\n",
       "28. 'c2;scType;axilla_10k;T cell'\n",
       "29. 'c2;scType;axilla_10k;blood vessel smooth muscle cell'\n",
       "30. 'c2;scType;axilla_10k;macrophage'\n",
       "31. 'c2;scType;axilla_10k;fibroblast'\n",
       "32. 'c2;scType;axilla_10k;blood vessel endothelial cell'\n",
       "33. 'c2;scType;axilla_10k;malignant cell'\n",
       "34. 'c2;scType;liver_10k;mature NK T cell'\n",
       "35. 'c2;scType;liver_10k;monocyte'\n",
       "36. 'c2;scType;liver_10k;macrophage'\n",
       "37. 'c2;scType;liver_10k;blood vessel smooth muscle cell'\n",
       "38. 'c2;scType;liver_10k;endothelial cell'\n",
       "39. 'c2;scType;liver_10k;malignant cell'\n",
       "40. 'c2;scType;kidney_10k;kidney loop of Henle epithelial cell'\n",
       "41. 'c2;scType;kidney_10k;mesenchymal cell'\n",
       "42. 'c2;scType;kidney_10k;epithelial cell of proximal tubule'\n",
       "43. 'c2;scType;kidney_10k;podocyte'\n",
       "44. 'c2;scType;kidney_10k;kidney cell'\n",
       "45. 'c2;scType;kidney_10k;kidney epithelial cell'\n",
       "46. 'c2;scType;pbmc_3k;Platelet'\n",
       "47. 'c2;scType;pbmc_3k;DC'\n",
       "48. 'c2;scType;pbmc_3k;FCGR3A+ Mono'\n",
       "49. 'c2;scType;pbmc_3k;Naive CD4 T'\n",
       "50. 'c2;scType;pbmc_3k;CD8 T'\n",
       "51. 'c2;scType;pbmc_3k;NK'\n",
       "52. 'c2;scType;pbmc_3k;CD14+ Mono'\n",
       "53. 'c2;scType;pbmc_3k;B'\n",
       "54. 'c2;scType;pbmc_3k;Memory CD4 T'\n",
       "\n",
       "\n"
      ],
      "text/plain": [
       " [1] \"c1;scType;pbmc_3k;Memory CD4 T\"                           \n",
       " [2] \"c1;scType;pbmc_3k;B\"                                      \n",
       " [3] \"c1;scType;pbmc_3k;CD14+ Mono\"                             \n",
       " [4] \"c1;scType;pbmc_3k;NK\"                                     \n",
       " [5] \"c1;scType;pbmc_3k;CD8 T\"                                  \n",
       " [6] \"c1;scType;pbmc_3k;Naive CD4 T\"                            \n",
       " [7] \"c1;scType;pbmc_3k;FCGR3A+ Mono\"                           \n",
       " [8] \"c1;scType;pbmc_3k;DC\"                                     \n",
       " [9] \"c1;scType;pbmc_3k;Platelet\"                               \n",
       "[10] \"c1;scType;kidney_10k;kidney epithelial cell\"              \n",
       "[11] \"c1;scType;kidney_10k;kidney cell\"                         \n",
       "[12] \"c1;scType;kidney_10k;podocyte\"                            \n",
       "[13] \"c1;scType;kidney_10k;epithelial cell of proximal tubule\"  \n",
       "[14] \"c1;scType;kidney_10k;mesenchymal cell\"                    \n",
       "[15] \"c1;scType;kidney_10k;kidney loop of Henle epithelial cell\"\n",
       "[16] \"c1;scType;liver_10k;malignant cell\"                       \n",
       "[17] \"c1;scType;liver_10k;endothelial cell\"                     \n",
       "[18] \"c1;scType;liver_10k;blood vessel smooth muscle cell\"      \n",
       "[19] \"c1;scType;liver_10k;macrophage\"                           \n",
       "[20] \"c1;scType;liver_10k;monocyte\"                             \n",
       "[21] \"c1;scType;liver_10k;mature NK T cell\"                     \n",
       "[22] \"c1;scType;axilla_10k;malignant cell\"                      \n",
       "[23] \"c1;scType;axilla_10k;blood vessel endothelial cell\"       \n",
       "[24] \"c1;scType;axilla_10k;fibroblast\"                          \n",
       "[25] \"c1;scType;axilla_10k;macrophage\"                          \n",
       "[26] \"c1;scType;axilla_10k;blood vessel smooth muscle cell\"     \n",
       "[27] \"c1;scType;axilla_10k;T cell\"                              \n",
       "[28] \"c2;scType;axilla_10k;T cell\"                              \n",
       "[29] \"c2;scType;axilla_10k;blood vessel smooth muscle cell\"     \n",
       "[30] \"c2;scType;axilla_10k;macrophage\"                          \n",
       "[31] \"c2;scType;axilla_10k;fibroblast\"                          \n",
       "[32] \"c2;scType;axilla_10k;blood vessel endothelial cell\"       \n",
       "[33] \"c2;scType;axilla_10k;malignant cell\"                      \n",
       "[34] \"c2;scType;liver_10k;mature NK T cell\"                     \n",
       "[35] \"c2;scType;liver_10k;monocyte\"                             \n",
       "[36] \"c2;scType;liver_10k;macrophage\"                           \n",
       "[37] \"c2;scType;liver_10k;blood vessel smooth muscle cell\"      \n",
       "[38] \"c2;scType;liver_10k;endothelial cell\"                     \n",
       "[39] \"c2;scType;liver_10k;malignant cell\"                       \n",
       "[40] \"c2;scType;kidney_10k;kidney loop of Henle epithelial cell\"\n",
       "[41] \"c2;scType;kidney_10k;mesenchymal cell\"                    \n",
       "[42] \"c2;scType;kidney_10k;epithelial cell of proximal tubule\"  \n",
       "[43] \"c2;scType;kidney_10k;podocyte\"                            \n",
       "[44] \"c2;scType;kidney_10k;kidney cell\"                         \n",
       "[45] \"c2;scType;kidney_10k;kidney epithelial cell\"              \n",
       "[46] \"c2;scType;pbmc_3k;Platelet\"                               \n",
       "[47] \"c2;scType;pbmc_3k;DC\"                                     \n",
       "[48] \"c2;scType;pbmc_3k;FCGR3A+ Mono\"                           \n",
       "[49] \"c2;scType;pbmc_3k;Naive CD4 T\"                            \n",
       "[50] \"c2;scType;pbmc_3k;CD8 T\"                                  \n",
       "[51] \"c2;scType;pbmc_3k;NK\"                                     \n",
       "[52] \"c2;scType;pbmc_3k;CD14+ Mono\"                             \n",
       "[53] \"c2;scType;pbmc_3k;B\"                                      \n",
       "[54] \"c2;scType;pbmc_3k;Memory CD4 T\"                           "
      ]
     },
     "metadata": {},
     "output_type": "display_data"
    }
   ],
   "source": [
    "c_ids2run = c()\n",
    "for (str_class in c(\"scType\")){\n",
    "    for (str_ds in names(l_cts)){\n",
    "        for (str_ct in l_cts[[str_ds]]){\n",
    "            c_ids2run <- c(c_ids2run, paste0(str_class,\";\",str_ds,\";\",str_ct))\n",
    "        }\n",
    "    }\n",
    "}\n",
    "c_ids2run <- c(paste0(\"c1;\",c_ids2run), paste0(\"c2;\", c_ids2run[length(c_ids2run):1]))\n",
    "# c_ids2run <- c(paste0(\"c1;\",c_ids2run), paste0(\"c2;\", c_ids2run))\n",
    "c_ids2run"
   ]
  },
  {
   "cell_type": "code",
   "execution_count": null,
   "id": "63250e7d",
   "metadata": {},
   "outputs": [],
   "source": []
  },
  {
   "cell_type": "raw",
   "id": "01df30c8",
   "metadata": {},
   "source": [
    "df_times[c_ids2run,]=-1\n",
    "df_times"
   ]
  },
  {
   "cell_type": "raw",
   "id": "7c77a80d",
   "metadata": {},
   "source": [
    "saveRDS(df_times, \"data//v5/df_modif_times.rds\")"
   ]
  },
  {
   "cell_type": "code",
   "execution_count": null,
   "id": "d63da566",
   "metadata": {},
   "outputs": [],
   "source": []
  },
  {
   "cell_type": "code",
   "execution_count": 12,
   "id": "ede5496a",
   "metadata": {},
   "outputs": [
    {
     "data": {
      "text/html": [
       "<table class=\"dataframe\">\n",
       "<caption>A data.frame: 56 × 6</caption>\n",
       "<thead>\n",
       "\t<tr><th></th><th scope=col>modifs</th><th scope=col>classifier</th><th scope=col>ct</th><th scope=col>ds</th><th scope=col>run_time</th><th scope=col>misc</th></tr>\n",
       "\t<tr><th></th><th scope=col>&lt;dbl&gt;</th><th scope=col>&lt;dbl&gt;</th><th scope=col>&lt;dbl&gt;</th><th scope=col>&lt;dbl&gt;</th><th scope=col>&lt;dbl&gt;</th><th scope=col>&lt;dbl&gt;</th></tr>\n",
       "</thead>\n",
       "<tbody>\n",
       "\t<tr><th scope=row>1</th><td>-1</td><td>-1</td><td>-1</td><td>-1</td><td>-1.0000000</td><td>-1</td></tr>\n",
       "\t<tr><th scope=row>2</th><td>-1</td><td>-1</td><td>-1</td><td>-1</td><td>-1.0000000</td><td>-1</td></tr>\n",
       "\t<tr><th scope=row>c1;scType;pbmc_3k;Memory CD4 T</th><td>-1</td><td>-1</td><td>-1</td><td>-1</td><td>-1.0000000</td><td>-1</td></tr>\n",
       "\t<tr><th scope=row>c1;scType;pbmc_3k;B</th><td>-1</td><td>-1</td><td>-1</td><td>-1</td><td>-1.0000000</td><td>-1</td></tr>\n",
       "\t<tr><th scope=row>c1;scType;pbmc_3k;CD14+ Mono</th><td>-1</td><td>-1</td><td>-1</td><td>-1</td><td>-1.0000000</td><td>-1</td></tr>\n",
       "\t<tr><th scope=row>c1;scType;pbmc_3k;NK</th><td>-1</td><td>-1</td><td>-1</td><td>-1</td><td>-1.0000000</td><td>-1</td></tr>\n",
       "\t<tr><th scope=row>c1;scType;pbmc_3k;CD8 T</th><td>-1</td><td>-1</td><td>-1</td><td>-1</td><td>-1.0000000</td><td>-1</td></tr>\n",
       "\t<tr><th scope=row>c1;scType;pbmc_3k;Naive CD4 T</th><td>-1</td><td>-1</td><td>-1</td><td>-1</td><td>-1.0000000</td><td>-1</td></tr>\n",
       "\t<tr><th scope=row>c1;scType;pbmc_3k;FCGR3A+ Mono</th><td>-1</td><td>-1</td><td>-1</td><td>-1</td><td>-1.0000000</td><td>-1</td></tr>\n",
       "\t<tr><th scope=row>c1;scType;pbmc_3k;DC</th><td>-1</td><td>-1</td><td>-1</td><td>-1</td><td>-1.0000000</td><td>-1</td></tr>\n",
       "\t<tr><th scope=row>c1;scType;pbmc_3k;Platelet</th><td>-1</td><td>-1</td><td>-1</td><td>-1</td><td>-1.0000000</td><td>-1</td></tr>\n",
       "\t<tr><th scope=row>c1;scType;kidney_10k;kidney epithelial cell</th><td>-1</td><td>-1</td><td>-1</td><td>-1</td><td>-1.0000000</td><td>-1</td></tr>\n",
       "\t<tr><th scope=row>c1;scType;kidney_10k;kidney cell</th><td>-1</td><td>-1</td><td>-1</td><td>-1</td><td>-1.0000000</td><td>-1</td></tr>\n",
       "\t<tr><th scope=row>c1;scType;kidney_10k;podocyte</th><td>-1</td><td>-1</td><td>-1</td><td>-1</td><td>-1.0000000</td><td>-1</td></tr>\n",
       "\t<tr><th scope=row>c1;scType;kidney_10k;epithelial cell of proximal tubule</th><td>-1</td><td>-1</td><td>-1</td><td>-1</td><td>-1.0000000</td><td>-1</td></tr>\n",
       "\t<tr><th scope=row>c1;scType;kidney_10k;mesenchymal cell</th><td>-1</td><td>-1</td><td>-1</td><td>-1</td><td>-1.0000000</td><td>-1</td></tr>\n",
       "\t<tr><th scope=row>c1;scType;kidney_10k;kidney loop of Henle epithelial cell</th><td>-1</td><td>-1</td><td>-1</td><td>-1</td><td>-1.0000000</td><td>-1</td></tr>\n",
       "\t<tr><th scope=row>c1;scType;liver_10k;malignant cell</th><td>-1</td><td>-1</td><td>-1</td><td>-1</td><td>-1.0000000</td><td>-1</td></tr>\n",
       "\t<tr><th scope=row>c1;scType;liver_10k;endothelial cell</th><td>-1</td><td>-1</td><td>-1</td><td>-1</td><td>-1.0000000</td><td>-1</td></tr>\n",
       "\t<tr><th scope=row>c1;scType;liver_10k;blood vessel smooth muscle cell</th><td>-1</td><td>-1</td><td>-1</td><td>-1</td><td>-1.0000000</td><td>-1</td></tr>\n",
       "\t<tr><th scope=row>c1;scType;liver_10k;macrophage</th><td>-1</td><td>-1</td><td>-1</td><td>-1</td><td>-1.0000000</td><td>-1</td></tr>\n",
       "\t<tr><th scope=row>c1;scType;liver_10k;monocyte</th><td>-1</td><td>-1</td><td>-1</td><td>-1</td><td>-1.0000000</td><td>-1</td></tr>\n",
       "\t<tr><th scope=row>c1;scType;liver_10k;mature NK T cell</th><td>-1</td><td>-1</td><td>-1</td><td>-1</td><td>-1.0000000</td><td>-1</td></tr>\n",
       "\t<tr><th scope=row>c1;scType;axilla_10k;malignant cell</th><td>-1</td><td>-1</td><td>-1</td><td>-1</td><td>-1.0000000</td><td>-1</td></tr>\n",
       "\t<tr><th scope=row>c1;scType;axilla_10k;blood vessel endothelial cell</th><td>-1</td><td>-1</td><td>-1</td><td>-1</td><td>-1.0000000</td><td>-1</td></tr>\n",
       "\t<tr><th scope=row>c1;scType;axilla_10k;fibroblast</th><td>-1</td><td>-1</td><td>-1</td><td>-1</td><td>-1.0000000</td><td>-1</td></tr>\n",
       "\t<tr><th scope=row>c1;scType;axilla_10k;macrophage</th><td>-1</td><td>-1</td><td>-1</td><td>-1</td><td>-1.0000000</td><td>-1</td></tr>\n",
       "\t<tr><th scope=row>c1;scType;axilla_10k;blood vessel smooth muscle cell</th><td>-1</td><td>-1</td><td>-1</td><td>-1</td><td>-1.0000000</td><td>-1</td></tr>\n",
       "\t<tr><th scope=row>c1;scType;axilla_10k;T cell</th><td>-1</td><td>-1</td><td>-1</td><td>-1</td><td>-1.0000000</td><td>-1</td></tr>\n",
       "\t<tr><th scope=row>c2;scType;axilla_10k;T cell</th><td>-1</td><td>-1</td><td>-1</td><td>-1</td><td> 6.9075842</td><td>-1</td></tr>\n",
       "\t<tr><th scope=row>c2;scType;axilla_10k;blood vessel smooth muscle cell</th><td>-1</td><td>-1</td><td>-1</td><td>-1</td><td> 7.4472220</td><td>-1</td></tr>\n",
       "\t<tr><th scope=row>c2;scType;axilla_10k;macrophage</th><td>-1</td><td>-1</td><td>-1</td><td>-1</td><td> 4.3051889</td><td>-1</td></tr>\n",
       "\t<tr><th scope=row>c2;scType;axilla_10k;fibroblast</th><td>-1</td><td>-1</td><td>-1</td><td>-1</td><td>19.4733021</td><td>-1</td></tr>\n",
       "\t<tr><th scope=row>c2;scType;axilla_10k;blood vessel endothelial cell</th><td>-1</td><td>-1</td><td>-1</td><td>-1</td><td>11.1207747</td><td>-1</td></tr>\n",
       "\t<tr><th scope=row>c2;scType;axilla_10k;malignant cell</th><td>-1</td><td>-1</td><td>-1</td><td>-1</td><td>16.5087471</td><td>-1</td></tr>\n",
       "\t<tr><th scope=row>c2;scType;liver_10k;mature NK T cell</th><td>-1</td><td>-1</td><td>-1</td><td>-1</td><td> 8.0492675</td><td>-1</td></tr>\n",
       "\t<tr><th scope=row>c2;scType;liver_10k;monocyte</th><td>-1</td><td>-1</td><td>-1</td><td>-1</td><td> 2.1946607</td><td>-1</td></tr>\n",
       "\t<tr><th scope=row>c2;scType;liver_10k;macrophage</th><td>-1</td><td>-1</td><td>-1</td><td>-1</td><td> 8.5248697</td><td>-1</td></tr>\n",
       "\t<tr><th scope=row>c2;scType;liver_10k;blood vessel smooth muscle cell</th><td>-1</td><td>-1</td><td>-1</td><td>-1</td><td> 1.9420846</td><td>-1</td></tr>\n",
       "\t<tr><th scope=row>c2;scType;liver_10k;endothelial cell</th><td>-1</td><td>-1</td><td>-1</td><td>-1</td><td> 1.7951071</td><td>-1</td></tr>\n",
       "\t<tr><th scope=row>c2;scType;liver_10k;malignant cell</th><td>-1</td><td>-1</td><td>-1</td><td>-1</td><td> 2.2242737</td><td>-1</td></tr>\n",
       "\t<tr><th scope=row>c2;scType;kidney_10k;kidney loop of Henle epithelial cell</th><td>-1</td><td>-1</td><td>-1</td><td>-1</td><td> 5.9940536</td><td>-1</td></tr>\n",
       "\t<tr><th scope=row>c2;scType;kidney_10k;mesenchymal cell</th><td>-1</td><td>-1</td><td>-1</td><td>-1</td><td>12.9182546</td><td>-1</td></tr>\n",
       "\t<tr><th scope=row>c2;scType;kidney_10k;epithelial cell of proximal tubule</th><td>-1</td><td>-1</td><td>-1</td><td>-1</td><td> 2.7780950</td><td>-1</td></tr>\n",
       "\t<tr><th scope=row>c2;scType;kidney_10k;podocyte</th><td>-1</td><td>-1</td><td>-1</td><td>-1</td><td>13.1573253</td><td>-1</td></tr>\n",
       "\t<tr><th scope=row>c2;scType;kidney_10k;kidney cell</th><td>-1</td><td>-1</td><td>-1</td><td>-1</td><td> 8.3272038</td><td>-1</td></tr>\n",
       "\t<tr><th scope=row>c2;scType;kidney_10k;kidney epithelial cell</th><td>-1</td><td>-1</td><td>-1</td><td>-1</td><td>38.3660998</td><td>-1</td></tr>\n",
       "\t<tr><th scope=row>c2;scType;pbmc_3k;Platelet</th><td>-1</td><td>-1</td><td>-1</td><td>-1</td><td> 2.1972752</td><td>-1</td></tr>\n",
       "\t<tr><th scope=row>c2;scType;pbmc_3k;DC</th><td>-1</td><td>-1</td><td>-1</td><td>-1</td><td> 5.6388071</td><td>-1</td></tr>\n",
       "\t<tr><th scope=row>c2;scType;pbmc_3k;FCGR3A+ Mono</th><td>-1</td><td>-1</td><td>-1</td><td>-1</td><td> 1.1574850</td><td>-1</td></tr>\n",
       "\t<tr><th scope=row>c2;scType;pbmc_3k;Naive CD4 T</th><td>-1</td><td>-1</td><td>-1</td><td>-1</td><td> 0.8134842</td><td>-1</td></tr>\n",
       "\t<tr><th scope=row>c2;scType;pbmc_3k;CD8 T</th><td>-1</td><td>-1</td><td>-1</td><td>-1</td><td>19.0655210</td><td>-1</td></tr>\n",
       "\t<tr><th scope=row>c2;scType;pbmc_3k;NK</th><td>-1</td><td>-1</td><td>-1</td><td>-1</td><td> 0.5502934</td><td>-1</td></tr>\n",
       "\t<tr><th scope=row>c2;scType;pbmc_3k;CD14+ Mono</th><td>-1</td><td>-1</td><td>-1</td><td>-1</td><td> 4.3796666</td><td>-1</td></tr>\n",
       "\t<tr><th scope=row>c2;scType;pbmc_3k;B</th><td>-1</td><td>-1</td><td>-1</td><td>-1</td><td>31.8662832</td><td>-1</td></tr>\n",
       "\t<tr><th scope=row>c2;scType;pbmc_3k;Memory CD4 T</th><td>-1</td><td>-1</td><td>-1</td><td>-1</td><td> 8.2440343</td><td>-1</td></tr>\n",
       "</tbody>\n",
       "</table>\n"
      ],
      "text/latex": [
       "A data.frame: 56 × 6\n",
       "\\begin{tabular}{r|llllll}\n",
       "  & modifs & classifier & ct & ds & run\\_time & misc\\\\\n",
       "  & <dbl> & <dbl> & <dbl> & <dbl> & <dbl> & <dbl>\\\\\n",
       "\\hline\n",
       "\t1 & -1 & -1 & -1 & -1 & -1.0000000 & -1\\\\\n",
       "\t2 & -1 & -1 & -1 & -1 & -1.0000000 & -1\\\\\n",
       "\tc1;scType;pbmc\\_3k;Memory CD4 T & -1 & -1 & -1 & -1 & -1.0000000 & -1\\\\\n",
       "\tc1;scType;pbmc\\_3k;B & -1 & -1 & -1 & -1 & -1.0000000 & -1\\\\\n",
       "\tc1;scType;pbmc\\_3k;CD14+ Mono & -1 & -1 & -1 & -1 & -1.0000000 & -1\\\\\n",
       "\tc1;scType;pbmc\\_3k;NK & -1 & -1 & -1 & -1 & -1.0000000 & -1\\\\\n",
       "\tc1;scType;pbmc\\_3k;CD8 T & -1 & -1 & -1 & -1 & -1.0000000 & -1\\\\\n",
       "\tc1;scType;pbmc\\_3k;Naive CD4 T & -1 & -1 & -1 & -1 & -1.0000000 & -1\\\\\n",
       "\tc1;scType;pbmc\\_3k;FCGR3A+ Mono & -1 & -1 & -1 & -1 & -1.0000000 & -1\\\\\n",
       "\tc1;scType;pbmc\\_3k;DC & -1 & -1 & -1 & -1 & -1.0000000 & -1\\\\\n",
       "\tc1;scType;pbmc\\_3k;Platelet & -1 & -1 & -1 & -1 & -1.0000000 & -1\\\\\n",
       "\tc1;scType;kidney\\_10k;kidney epithelial cell & -1 & -1 & -1 & -1 & -1.0000000 & -1\\\\\n",
       "\tc1;scType;kidney\\_10k;kidney cell & -1 & -1 & -1 & -1 & -1.0000000 & -1\\\\\n",
       "\tc1;scType;kidney\\_10k;podocyte & -1 & -1 & -1 & -1 & -1.0000000 & -1\\\\\n",
       "\tc1;scType;kidney\\_10k;epithelial cell of proximal tubule & -1 & -1 & -1 & -1 & -1.0000000 & -1\\\\\n",
       "\tc1;scType;kidney\\_10k;mesenchymal cell & -1 & -1 & -1 & -1 & -1.0000000 & -1\\\\\n",
       "\tc1;scType;kidney\\_10k;kidney loop of Henle epithelial cell & -1 & -1 & -1 & -1 & -1.0000000 & -1\\\\\n",
       "\tc1;scType;liver\\_10k;malignant cell & -1 & -1 & -1 & -1 & -1.0000000 & -1\\\\\n",
       "\tc1;scType;liver\\_10k;endothelial cell & -1 & -1 & -1 & -1 & -1.0000000 & -1\\\\\n",
       "\tc1;scType;liver\\_10k;blood vessel smooth muscle cell & -1 & -1 & -1 & -1 & -1.0000000 & -1\\\\\n",
       "\tc1;scType;liver\\_10k;macrophage & -1 & -1 & -1 & -1 & -1.0000000 & -1\\\\\n",
       "\tc1;scType;liver\\_10k;monocyte & -1 & -1 & -1 & -1 & -1.0000000 & -1\\\\\n",
       "\tc1;scType;liver\\_10k;mature NK T cell & -1 & -1 & -1 & -1 & -1.0000000 & -1\\\\\n",
       "\tc1;scType;axilla\\_10k;malignant cell & -1 & -1 & -1 & -1 & -1.0000000 & -1\\\\\n",
       "\tc1;scType;axilla\\_10k;blood vessel endothelial cell & -1 & -1 & -1 & -1 & -1.0000000 & -1\\\\\n",
       "\tc1;scType;axilla\\_10k;fibroblast & -1 & -1 & -1 & -1 & -1.0000000 & -1\\\\\n",
       "\tc1;scType;axilla\\_10k;macrophage & -1 & -1 & -1 & -1 & -1.0000000 & -1\\\\\n",
       "\tc1;scType;axilla\\_10k;blood vessel smooth muscle cell & -1 & -1 & -1 & -1 & -1.0000000 & -1\\\\\n",
       "\tc1;scType;axilla\\_10k;T cell & -1 & -1 & -1 & -1 & -1.0000000 & -1\\\\\n",
       "\tc2;scType;axilla\\_10k;T cell & -1 & -1 & -1 & -1 &  6.9075842 & -1\\\\\n",
       "\tc2;scType;axilla\\_10k;blood vessel smooth muscle cell & -1 & -1 & -1 & -1 &  7.4472220 & -1\\\\\n",
       "\tc2;scType;axilla\\_10k;macrophage & -1 & -1 & -1 & -1 &  4.3051889 & -1\\\\\n",
       "\tc2;scType;axilla\\_10k;fibroblast & -1 & -1 & -1 & -1 & 19.4733021 & -1\\\\\n",
       "\tc2;scType;axilla\\_10k;blood vessel endothelial cell & -1 & -1 & -1 & -1 & 11.1207747 & -1\\\\\n",
       "\tc2;scType;axilla\\_10k;malignant cell & -1 & -1 & -1 & -1 & 16.5087471 & -1\\\\\n",
       "\tc2;scType;liver\\_10k;mature NK T cell & -1 & -1 & -1 & -1 &  8.0492675 & -1\\\\\n",
       "\tc2;scType;liver\\_10k;monocyte & -1 & -1 & -1 & -1 &  2.1946607 & -1\\\\\n",
       "\tc2;scType;liver\\_10k;macrophage & -1 & -1 & -1 & -1 &  8.5248697 & -1\\\\\n",
       "\tc2;scType;liver\\_10k;blood vessel smooth muscle cell & -1 & -1 & -1 & -1 &  1.9420846 & -1\\\\\n",
       "\tc2;scType;liver\\_10k;endothelial cell & -1 & -1 & -1 & -1 &  1.7951071 & -1\\\\\n",
       "\tc2;scType;liver\\_10k;malignant cell & -1 & -1 & -1 & -1 &  2.2242737 & -1\\\\\n",
       "\tc2;scType;kidney\\_10k;kidney loop of Henle epithelial cell & -1 & -1 & -1 & -1 &  5.9940536 & -1\\\\\n",
       "\tc2;scType;kidney\\_10k;mesenchymal cell & -1 & -1 & -1 & -1 & 12.9182546 & -1\\\\\n",
       "\tc2;scType;kidney\\_10k;epithelial cell of proximal tubule & -1 & -1 & -1 & -1 &  2.7780950 & -1\\\\\n",
       "\tc2;scType;kidney\\_10k;podocyte & -1 & -1 & -1 & -1 & 13.1573253 & -1\\\\\n",
       "\tc2;scType;kidney\\_10k;kidney cell & -1 & -1 & -1 & -1 &  8.3272038 & -1\\\\\n",
       "\tc2;scType;kidney\\_10k;kidney epithelial cell & -1 & -1 & -1 & -1 & 38.3660998 & -1\\\\\n",
       "\tc2;scType;pbmc\\_3k;Platelet & -1 & -1 & -1 & -1 &  2.1972752 & -1\\\\\n",
       "\tc2;scType;pbmc\\_3k;DC & -1 & -1 & -1 & -1 &  5.6388071 & -1\\\\\n",
       "\tc2;scType;pbmc\\_3k;FCGR3A+ Mono & -1 & -1 & -1 & -1 &  1.1574850 & -1\\\\\n",
       "\tc2;scType;pbmc\\_3k;Naive CD4 T & -1 & -1 & -1 & -1 &  0.8134842 & -1\\\\\n",
       "\tc2;scType;pbmc\\_3k;CD8 T & -1 & -1 & -1 & -1 & 19.0655210 & -1\\\\\n",
       "\tc2;scType;pbmc\\_3k;NK & -1 & -1 & -1 & -1 &  0.5502934 & -1\\\\\n",
       "\tc2;scType;pbmc\\_3k;CD14+ Mono & -1 & -1 & -1 & -1 &  4.3796666 & -1\\\\\n",
       "\tc2;scType;pbmc\\_3k;B & -1 & -1 & -1 & -1 & 31.8662832 & -1\\\\\n",
       "\tc2;scType;pbmc\\_3k;Memory CD4 T & -1 & -1 & -1 & -1 &  8.2440343 & -1\\\\\n",
       "\\end{tabular}\n"
      ],
      "text/markdown": [
       "\n",
       "A data.frame: 56 × 6\n",
       "\n",
       "| <!--/--> | modifs &lt;dbl&gt; | classifier &lt;dbl&gt; | ct &lt;dbl&gt; | ds &lt;dbl&gt; | run_time &lt;dbl&gt; | misc &lt;dbl&gt; |\n",
       "|---|---|---|---|---|---|---|\n",
       "| 1 | -1 | -1 | -1 | -1 | -1.0000000 | -1 |\n",
       "| 2 | -1 | -1 | -1 | -1 | -1.0000000 | -1 |\n",
       "| c1;scType;pbmc_3k;Memory CD4 T | -1 | -1 | -1 | -1 | -1.0000000 | -1 |\n",
       "| c1;scType;pbmc_3k;B | -1 | -1 | -1 | -1 | -1.0000000 | -1 |\n",
       "| c1;scType;pbmc_3k;CD14+ Mono | -1 | -1 | -1 | -1 | -1.0000000 | -1 |\n",
       "| c1;scType;pbmc_3k;NK | -1 | -1 | -1 | -1 | -1.0000000 | -1 |\n",
       "| c1;scType;pbmc_3k;CD8 T | -1 | -1 | -1 | -1 | -1.0000000 | -1 |\n",
       "| c1;scType;pbmc_3k;Naive CD4 T | -1 | -1 | -1 | -1 | -1.0000000 | -1 |\n",
       "| c1;scType;pbmc_3k;FCGR3A+ Mono | -1 | -1 | -1 | -1 | -1.0000000 | -1 |\n",
       "| c1;scType;pbmc_3k;DC | -1 | -1 | -1 | -1 | -1.0000000 | -1 |\n",
       "| c1;scType;pbmc_3k;Platelet | -1 | -1 | -1 | -1 | -1.0000000 | -1 |\n",
       "| c1;scType;kidney_10k;kidney epithelial cell | -1 | -1 | -1 | -1 | -1.0000000 | -1 |\n",
       "| c1;scType;kidney_10k;kidney cell | -1 | -1 | -1 | -1 | -1.0000000 | -1 |\n",
       "| c1;scType;kidney_10k;podocyte | -1 | -1 | -1 | -1 | -1.0000000 | -1 |\n",
       "| c1;scType;kidney_10k;epithelial cell of proximal tubule | -1 | -1 | -1 | -1 | -1.0000000 | -1 |\n",
       "| c1;scType;kidney_10k;mesenchymal cell | -1 | -1 | -1 | -1 | -1.0000000 | -1 |\n",
       "| c1;scType;kidney_10k;kidney loop of Henle epithelial cell | -1 | -1 | -1 | -1 | -1.0000000 | -1 |\n",
       "| c1;scType;liver_10k;malignant cell | -1 | -1 | -1 | -1 | -1.0000000 | -1 |\n",
       "| c1;scType;liver_10k;endothelial cell | -1 | -1 | -1 | -1 | -1.0000000 | -1 |\n",
       "| c1;scType;liver_10k;blood vessel smooth muscle cell | -1 | -1 | -1 | -1 | -1.0000000 | -1 |\n",
       "| c1;scType;liver_10k;macrophage | -1 | -1 | -1 | -1 | -1.0000000 | -1 |\n",
       "| c1;scType;liver_10k;monocyte | -1 | -1 | -1 | -1 | -1.0000000 | -1 |\n",
       "| c1;scType;liver_10k;mature NK T cell | -1 | -1 | -1 | -1 | -1.0000000 | -1 |\n",
       "| c1;scType;axilla_10k;malignant cell | -1 | -1 | -1 | -1 | -1.0000000 | -1 |\n",
       "| c1;scType;axilla_10k;blood vessel endothelial cell | -1 | -1 | -1 | -1 | -1.0000000 | -1 |\n",
       "| c1;scType;axilla_10k;fibroblast | -1 | -1 | -1 | -1 | -1.0000000 | -1 |\n",
       "| c1;scType;axilla_10k;macrophage | -1 | -1 | -1 | -1 | -1.0000000 | -1 |\n",
       "| c1;scType;axilla_10k;blood vessel smooth muscle cell | -1 | -1 | -1 | -1 | -1.0000000 | -1 |\n",
       "| c1;scType;axilla_10k;T cell | -1 | -1 | -1 | -1 | -1.0000000 | -1 |\n",
       "| c2;scType;axilla_10k;T cell | -1 | -1 | -1 | -1 |  6.9075842 | -1 |\n",
       "| c2;scType;axilla_10k;blood vessel smooth muscle cell | -1 | -1 | -1 | -1 |  7.4472220 | -1 |\n",
       "| c2;scType;axilla_10k;macrophage | -1 | -1 | -1 | -1 |  4.3051889 | -1 |\n",
       "| c2;scType;axilla_10k;fibroblast | -1 | -1 | -1 | -1 | 19.4733021 | -1 |\n",
       "| c2;scType;axilla_10k;blood vessel endothelial cell | -1 | -1 | -1 | -1 | 11.1207747 | -1 |\n",
       "| c2;scType;axilla_10k;malignant cell | -1 | -1 | -1 | -1 | 16.5087471 | -1 |\n",
       "| c2;scType;liver_10k;mature NK T cell | -1 | -1 | -1 | -1 |  8.0492675 | -1 |\n",
       "| c2;scType;liver_10k;monocyte | -1 | -1 | -1 | -1 |  2.1946607 | -1 |\n",
       "| c2;scType;liver_10k;macrophage | -1 | -1 | -1 | -1 |  8.5248697 | -1 |\n",
       "| c2;scType;liver_10k;blood vessel smooth muscle cell | -1 | -1 | -1 | -1 |  1.9420846 | -1 |\n",
       "| c2;scType;liver_10k;endothelial cell | -1 | -1 | -1 | -1 |  1.7951071 | -1 |\n",
       "| c2;scType;liver_10k;malignant cell | -1 | -1 | -1 | -1 |  2.2242737 | -1 |\n",
       "| c2;scType;kidney_10k;kidney loop of Henle epithelial cell | -1 | -1 | -1 | -1 |  5.9940536 | -1 |\n",
       "| c2;scType;kidney_10k;mesenchymal cell | -1 | -1 | -1 | -1 | 12.9182546 | -1 |\n",
       "| c2;scType;kidney_10k;epithelial cell of proximal tubule | -1 | -1 | -1 | -1 |  2.7780950 | -1 |\n",
       "| c2;scType;kidney_10k;podocyte | -1 | -1 | -1 | -1 | 13.1573253 | -1 |\n",
       "| c2;scType;kidney_10k;kidney cell | -1 | -1 | -1 | -1 |  8.3272038 | -1 |\n",
       "| c2;scType;kidney_10k;kidney epithelial cell | -1 | -1 | -1 | -1 | 38.3660998 | -1 |\n",
       "| c2;scType;pbmc_3k;Platelet | -1 | -1 | -1 | -1 |  2.1972752 | -1 |\n",
       "| c2;scType;pbmc_3k;DC | -1 | -1 | -1 | -1 |  5.6388071 | -1 |\n",
       "| c2;scType;pbmc_3k;FCGR3A+ Mono | -1 | -1 | -1 | -1 |  1.1574850 | -1 |\n",
       "| c2;scType;pbmc_3k;Naive CD4 T | -1 | -1 | -1 | -1 |  0.8134842 | -1 |\n",
       "| c2;scType;pbmc_3k;CD8 T | -1 | -1 | -1 | -1 | 19.0655210 | -1 |\n",
       "| c2;scType;pbmc_3k;NK | -1 | -1 | -1 | -1 |  0.5502934 | -1 |\n",
       "| c2;scType;pbmc_3k;CD14+ Mono | -1 | -1 | -1 | -1 |  4.3796666 | -1 |\n",
       "| c2;scType;pbmc_3k;B | -1 | -1 | -1 | -1 | 31.8662832 | -1 |\n",
       "| c2;scType;pbmc_3k;Memory CD4 T | -1 | -1 | -1 | -1 |  8.2440343 | -1 |\n",
       "\n"
      ],
      "text/plain": [
       "                                                          modifs classifier ct\n",
       "1                                                         -1     -1         -1\n",
       "2                                                         -1     -1         -1\n",
       "c1;scType;pbmc_3k;Memory CD4 T                            -1     -1         -1\n",
       "c1;scType;pbmc_3k;B                                       -1     -1         -1\n",
       "c1;scType;pbmc_3k;CD14+ Mono                              -1     -1         -1\n",
       "c1;scType;pbmc_3k;NK                                      -1     -1         -1\n",
       "c1;scType;pbmc_3k;CD8 T                                   -1     -1         -1\n",
       "c1;scType;pbmc_3k;Naive CD4 T                             -1     -1         -1\n",
       "c1;scType;pbmc_3k;FCGR3A+ Mono                            -1     -1         -1\n",
       "c1;scType;pbmc_3k;DC                                      -1     -1         -1\n",
       "c1;scType;pbmc_3k;Platelet                                -1     -1         -1\n",
       "c1;scType;kidney_10k;kidney epithelial cell               -1     -1         -1\n",
       "c1;scType;kidney_10k;kidney cell                          -1     -1         -1\n",
       "c1;scType;kidney_10k;podocyte                             -1     -1         -1\n",
       "c1;scType;kidney_10k;epithelial cell of proximal tubule   -1     -1         -1\n",
       "c1;scType;kidney_10k;mesenchymal cell                     -1     -1         -1\n",
       "c1;scType;kidney_10k;kidney loop of Henle epithelial cell -1     -1         -1\n",
       "c1;scType;liver_10k;malignant cell                        -1     -1         -1\n",
       "c1;scType;liver_10k;endothelial cell                      -1     -1         -1\n",
       "c1;scType;liver_10k;blood vessel smooth muscle cell       -1     -1         -1\n",
       "c1;scType;liver_10k;macrophage                            -1     -1         -1\n",
       "c1;scType;liver_10k;monocyte                              -1     -1         -1\n",
       "c1;scType;liver_10k;mature NK T cell                      -1     -1         -1\n",
       "c1;scType;axilla_10k;malignant cell                       -1     -1         -1\n",
       "c1;scType;axilla_10k;blood vessel endothelial cell        -1     -1         -1\n",
       "c1;scType;axilla_10k;fibroblast                           -1     -1         -1\n",
       "c1;scType;axilla_10k;macrophage                           -1     -1         -1\n",
       "c1;scType;axilla_10k;blood vessel smooth muscle cell      -1     -1         -1\n",
       "c1;scType;axilla_10k;T cell                               -1     -1         -1\n",
       "c2;scType;axilla_10k;T cell                               -1     -1         -1\n",
       "c2;scType;axilla_10k;blood vessel smooth muscle cell      -1     -1         -1\n",
       "c2;scType;axilla_10k;macrophage                           -1     -1         -1\n",
       "c2;scType;axilla_10k;fibroblast                           -1     -1         -1\n",
       "c2;scType;axilla_10k;blood vessel endothelial cell        -1     -1         -1\n",
       "c2;scType;axilla_10k;malignant cell                       -1     -1         -1\n",
       "c2;scType;liver_10k;mature NK T cell                      -1     -1         -1\n",
       "c2;scType;liver_10k;monocyte                              -1     -1         -1\n",
       "c2;scType;liver_10k;macrophage                            -1     -1         -1\n",
       "c2;scType;liver_10k;blood vessel smooth muscle cell       -1     -1         -1\n",
       "c2;scType;liver_10k;endothelial cell                      -1     -1         -1\n",
       "c2;scType;liver_10k;malignant cell                        -1     -1         -1\n",
       "c2;scType;kidney_10k;kidney loop of Henle epithelial cell -1     -1         -1\n",
       "c2;scType;kidney_10k;mesenchymal cell                     -1     -1         -1\n",
       "c2;scType;kidney_10k;epithelial cell of proximal tubule   -1     -1         -1\n",
       "c2;scType;kidney_10k;podocyte                             -1     -1         -1\n",
       "c2;scType;kidney_10k;kidney cell                          -1     -1         -1\n",
       "c2;scType;kidney_10k;kidney epithelial cell               -1     -1         -1\n",
       "c2;scType;pbmc_3k;Platelet                                -1     -1         -1\n",
       "c2;scType;pbmc_3k;DC                                      -1     -1         -1\n",
       "c2;scType;pbmc_3k;FCGR3A+ Mono                            -1     -1         -1\n",
       "c2;scType;pbmc_3k;Naive CD4 T                             -1     -1         -1\n",
       "c2;scType;pbmc_3k;CD8 T                                   -1     -1         -1\n",
       "c2;scType;pbmc_3k;NK                                      -1     -1         -1\n",
       "c2;scType;pbmc_3k;CD14+ Mono                              -1     -1         -1\n",
       "c2;scType;pbmc_3k;B                                       -1     -1         -1\n",
       "c2;scType;pbmc_3k;Memory CD4 T                            -1     -1         -1\n",
       "                                                          ds run_time   misc\n",
       "1                                                         -1 -1.0000000 -1  \n",
       "2                                                         -1 -1.0000000 -1  \n",
       "c1;scType;pbmc_3k;Memory CD4 T                            -1 -1.0000000 -1  \n",
       "c1;scType;pbmc_3k;B                                       -1 -1.0000000 -1  \n",
       "c1;scType;pbmc_3k;CD14+ Mono                              -1 -1.0000000 -1  \n",
       "c1;scType;pbmc_3k;NK                                      -1 -1.0000000 -1  \n",
       "c1;scType;pbmc_3k;CD8 T                                   -1 -1.0000000 -1  \n",
       "c1;scType;pbmc_3k;Naive CD4 T                             -1 -1.0000000 -1  \n",
       "c1;scType;pbmc_3k;FCGR3A+ Mono                            -1 -1.0000000 -1  \n",
       "c1;scType;pbmc_3k;DC                                      -1 -1.0000000 -1  \n",
       "c1;scType;pbmc_3k;Platelet                                -1 -1.0000000 -1  \n",
       "c1;scType;kidney_10k;kidney epithelial cell               -1 -1.0000000 -1  \n",
       "c1;scType;kidney_10k;kidney cell                          -1 -1.0000000 -1  \n",
       "c1;scType;kidney_10k;podocyte                             -1 -1.0000000 -1  \n",
       "c1;scType;kidney_10k;epithelial cell of proximal tubule   -1 -1.0000000 -1  \n",
       "c1;scType;kidney_10k;mesenchymal cell                     -1 -1.0000000 -1  \n",
       "c1;scType;kidney_10k;kidney loop of Henle epithelial cell -1 -1.0000000 -1  \n",
       "c1;scType;liver_10k;malignant cell                        -1 -1.0000000 -1  \n",
       "c1;scType;liver_10k;endothelial cell                      -1 -1.0000000 -1  \n",
       "c1;scType;liver_10k;blood vessel smooth muscle cell       -1 -1.0000000 -1  \n",
       "c1;scType;liver_10k;macrophage                            -1 -1.0000000 -1  \n",
       "c1;scType;liver_10k;monocyte                              -1 -1.0000000 -1  \n",
       "c1;scType;liver_10k;mature NK T cell                      -1 -1.0000000 -1  \n",
       "c1;scType;axilla_10k;malignant cell                       -1 -1.0000000 -1  \n",
       "c1;scType;axilla_10k;blood vessel endothelial cell        -1 -1.0000000 -1  \n",
       "c1;scType;axilla_10k;fibroblast                           -1 -1.0000000 -1  \n",
       "c1;scType;axilla_10k;macrophage                           -1 -1.0000000 -1  \n",
       "c1;scType;axilla_10k;blood vessel smooth muscle cell      -1 -1.0000000 -1  \n",
       "c1;scType;axilla_10k;T cell                               -1 -1.0000000 -1  \n",
       "c2;scType;axilla_10k;T cell                               -1  6.9075842 -1  \n",
       "c2;scType;axilla_10k;blood vessel smooth muscle cell      -1  7.4472220 -1  \n",
       "c2;scType;axilla_10k;macrophage                           -1  4.3051889 -1  \n",
       "c2;scType;axilla_10k;fibroblast                           -1 19.4733021 -1  \n",
       "c2;scType;axilla_10k;blood vessel endothelial cell        -1 11.1207747 -1  \n",
       "c2;scType;axilla_10k;malignant cell                       -1 16.5087471 -1  \n",
       "c2;scType;liver_10k;mature NK T cell                      -1  8.0492675 -1  \n",
       "c2;scType;liver_10k;monocyte                              -1  2.1946607 -1  \n",
       "c2;scType;liver_10k;macrophage                            -1  8.5248697 -1  \n",
       "c2;scType;liver_10k;blood vessel smooth muscle cell       -1  1.9420846 -1  \n",
       "c2;scType;liver_10k;endothelial cell                      -1  1.7951071 -1  \n",
       "c2;scType;liver_10k;malignant cell                        -1  2.2242737 -1  \n",
       "c2;scType;kidney_10k;kidney loop of Henle epithelial cell -1  5.9940536 -1  \n",
       "c2;scType;kidney_10k;mesenchymal cell                     -1 12.9182546 -1  \n",
       "c2;scType;kidney_10k;epithelial cell of proximal tubule   -1  2.7780950 -1  \n",
       "c2;scType;kidney_10k;podocyte                             -1 13.1573253 -1  \n",
       "c2;scType;kidney_10k;kidney cell                          -1  8.3272038 -1  \n",
       "c2;scType;kidney_10k;kidney epithelial cell               -1 38.3660998 -1  \n",
       "c2;scType;pbmc_3k;Platelet                                -1  2.1972752 -1  \n",
       "c2;scType;pbmc_3k;DC                                      -1  5.6388071 -1  \n",
       "c2;scType;pbmc_3k;FCGR3A+ Mono                            -1  1.1574850 -1  \n",
       "c2;scType;pbmc_3k;Naive CD4 T                             -1  0.8134842 -1  \n",
       "c2;scType;pbmc_3k;CD8 T                                   -1 19.0655210 -1  \n",
       "c2;scType;pbmc_3k;NK                                      -1  0.5502934 -1  \n",
       "c2;scType;pbmc_3k;CD14+ Mono                              -1  4.3796666 -1  \n",
       "c2;scType;pbmc_3k;B                                       -1 31.8662832 -1  \n",
       "c2;scType;pbmc_3k;Memory CD4 T                            -1  8.2440343 -1  "
      ]
     },
     "metadata": {},
     "output_type": "display_data"
    }
   ],
   "source": [
    "df_times <- readRDS(\"data//v5/df_modif_times.rds\")\n",
    "df_times"
   ]
  },
  {
   "cell_type": "code",
   "execution_count": 13,
   "id": "05a1b616",
   "metadata": {},
   "outputs": [
    {
     "data": {
      "text/html": [
       "<table class=\"dataframe\">\n",
       "<caption>A data.frame: 27 × 6</caption>\n",
       "<thead>\n",
       "\t<tr><th></th><th scope=col>modifs</th><th scope=col>classifier</th><th scope=col>ct</th><th scope=col>ds</th><th scope=col>run_time</th><th scope=col>misc</th></tr>\n",
       "\t<tr><th></th><th scope=col>&lt;dbl&gt;</th><th scope=col>&lt;dbl&gt;</th><th scope=col>&lt;dbl&gt;</th><th scope=col>&lt;dbl&gt;</th><th scope=col>&lt;dbl&gt;</th><th scope=col>&lt;dbl&gt;</th></tr>\n",
       "</thead>\n",
       "<tbody>\n",
       "\t<tr><th scope=row>c2;scType;axilla_10k;T cell</th><td>-1</td><td>-1</td><td>-1</td><td>-1</td><td> 6.9075842</td><td>-1</td></tr>\n",
       "\t<tr><th scope=row>c2;scType;axilla_10k;blood vessel smooth muscle cell</th><td>-1</td><td>-1</td><td>-1</td><td>-1</td><td> 7.4472220</td><td>-1</td></tr>\n",
       "\t<tr><th scope=row>c2;scType;axilla_10k;macrophage</th><td>-1</td><td>-1</td><td>-1</td><td>-1</td><td> 4.3051889</td><td>-1</td></tr>\n",
       "\t<tr><th scope=row>c2;scType;axilla_10k;fibroblast</th><td>-1</td><td>-1</td><td>-1</td><td>-1</td><td>19.4733021</td><td>-1</td></tr>\n",
       "\t<tr><th scope=row>c2;scType;axilla_10k;blood vessel endothelial cell</th><td>-1</td><td>-1</td><td>-1</td><td>-1</td><td>11.1207747</td><td>-1</td></tr>\n",
       "\t<tr><th scope=row>c2;scType;axilla_10k;malignant cell</th><td>-1</td><td>-1</td><td>-1</td><td>-1</td><td>16.5087471</td><td>-1</td></tr>\n",
       "\t<tr><th scope=row>c2;scType;liver_10k;mature NK T cell</th><td>-1</td><td>-1</td><td>-1</td><td>-1</td><td> 8.0492675</td><td>-1</td></tr>\n",
       "\t<tr><th scope=row>c2;scType;liver_10k;monocyte</th><td>-1</td><td>-1</td><td>-1</td><td>-1</td><td> 2.1946607</td><td>-1</td></tr>\n",
       "\t<tr><th scope=row>c2;scType;liver_10k;macrophage</th><td>-1</td><td>-1</td><td>-1</td><td>-1</td><td> 8.5248697</td><td>-1</td></tr>\n",
       "\t<tr><th scope=row>c2;scType;liver_10k;blood vessel smooth muscle cell</th><td>-1</td><td>-1</td><td>-1</td><td>-1</td><td> 1.9420846</td><td>-1</td></tr>\n",
       "\t<tr><th scope=row>c2;scType;liver_10k;endothelial cell</th><td>-1</td><td>-1</td><td>-1</td><td>-1</td><td> 1.7951071</td><td>-1</td></tr>\n",
       "\t<tr><th scope=row>c2;scType;liver_10k;malignant cell</th><td>-1</td><td>-1</td><td>-1</td><td>-1</td><td> 2.2242737</td><td>-1</td></tr>\n",
       "\t<tr><th scope=row>c2;scType;kidney_10k;kidney loop of Henle epithelial cell</th><td>-1</td><td>-1</td><td>-1</td><td>-1</td><td> 5.9940536</td><td>-1</td></tr>\n",
       "\t<tr><th scope=row>c2;scType;kidney_10k;mesenchymal cell</th><td>-1</td><td>-1</td><td>-1</td><td>-1</td><td>12.9182546</td><td>-1</td></tr>\n",
       "\t<tr><th scope=row>c2;scType;kidney_10k;epithelial cell of proximal tubule</th><td>-1</td><td>-1</td><td>-1</td><td>-1</td><td> 2.7780950</td><td>-1</td></tr>\n",
       "\t<tr><th scope=row>c2;scType;kidney_10k;podocyte</th><td>-1</td><td>-1</td><td>-1</td><td>-1</td><td>13.1573253</td><td>-1</td></tr>\n",
       "\t<tr><th scope=row>c2;scType;kidney_10k;kidney cell</th><td>-1</td><td>-1</td><td>-1</td><td>-1</td><td> 8.3272038</td><td>-1</td></tr>\n",
       "\t<tr><th scope=row>c2;scType;kidney_10k;kidney epithelial cell</th><td>-1</td><td>-1</td><td>-1</td><td>-1</td><td>38.3660998</td><td>-1</td></tr>\n",
       "\t<tr><th scope=row>c2;scType;pbmc_3k;Platelet</th><td>-1</td><td>-1</td><td>-1</td><td>-1</td><td> 2.1972752</td><td>-1</td></tr>\n",
       "\t<tr><th scope=row>c2;scType;pbmc_3k;DC</th><td>-1</td><td>-1</td><td>-1</td><td>-1</td><td> 5.6388071</td><td>-1</td></tr>\n",
       "\t<tr><th scope=row>c2;scType;pbmc_3k;FCGR3A+ Mono</th><td>-1</td><td>-1</td><td>-1</td><td>-1</td><td> 1.1574850</td><td>-1</td></tr>\n",
       "\t<tr><th scope=row>c2;scType;pbmc_3k;Naive CD4 T</th><td>-1</td><td>-1</td><td>-1</td><td>-1</td><td> 0.8134842</td><td>-1</td></tr>\n",
       "\t<tr><th scope=row>c2;scType;pbmc_3k;CD8 T</th><td>-1</td><td>-1</td><td>-1</td><td>-1</td><td>19.0655210</td><td>-1</td></tr>\n",
       "\t<tr><th scope=row>c2;scType;pbmc_3k;NK</th><td>-1</td><td>-1</td><td>-1</td><td>-1</td><td> 0.5502934</td><td>-1</td></tr>\n",
       "\t<tr><th scope=row>c2;scType;pbmc_3k;CD14+ Mono</th><td>-1</td><td>-1</td><td>-1</td><td>-1</td><td> 4.3796666</td><td>-1</td></tr>\n",
       "\t<tr><th scope=row>c2;scType;pbmc_3k;B</th><td>-1</td><td>-1</td><td>-1</td><td>-1</td><td>31.8662832</td><td>-1</td></tr>\n",
       "\t<tr><th scope=row>c2;scType;pbmc_3k;Memory CD4 T</th><td>-1</td><td>-1</td><td>-1</td><td>-1</td><td> 8.2440343</td><td>-1</td></tr>\n",
       "</tbody>\n",
       "</table>\n"
      ],
      "text/latex": [
       "A data.frame: 27 × 6\n",
       "\\begin{tabular}{r|llllll}\n",
       "  & modifs & classifier & ct & ds & run\\_time & misc\\\\\n",
       "  & <dbl> & <dbl> & <dbl> & <dbl> & <dbl> & <dbl>\\\\\n",
       "\\hline\n",
       "\tc2;scType;axilla\\_10k;T cell & -1 & -1 & -1 & -1 &  6.9075842 & -1\\\\\n",
       "\tc2;scType;axilla\\_10k;blood vessel smooth muscle cell & -1 & -1 & -1 & -1 &  7.4472220 & -1\\\\\n",
       "\tc2;scType;axilla\\_10k;macrophage & -1 & -1 & -1 & -1 &  4.3051889 & -1\\\\\n",
       "\tc2;scType;axilla\\_10k;fibroblast & -1 & -1 & -1 & -1 & 19.4733021 & -1\\\\\n",
       "\tc2;scType;axilla\\_10k;blood vessel endothelial cell & -1 & -1 & -1 & -1 & 11.1207747 & -1\\\\\n",
       "\tc2;scType;axilla\\_10k;malignant cell & -1 & -1 & -1 & -1 & 16.5087471 & -1\\\\\n",
       "\tc2;scType;liver\\_10k;mature NK T cell & -1 & -1 & -1 & -1 &  8.0492675 & -1\\\\\n",
       "\tc2;scType;liver\\_10k;monocyte & -1 & -1 & -1 & -1 &  2.1946607 & -1\\\\\n",
       "\tc2;scType;liver\\_10k;macrophage & -1 & -1 & -1 & -1 &  8.5248697 & -1\\\\\n",
       "\tc2;scType;liver\\_10k;blood vessel smooth muscle cell & -1 & -1 & -1 & -1 &  1.9420846 & -1\\\\\n",
       "\tc2;scType;liver\\_10k;endothelial cell & -1 & -1 & -1 & -1 &  1.7951071 & -1\\\\\n",
       "\tc2;scType;liver\\_10k;malignant cell & -1 & -1 & -1 & -1 &  2.2242737 & -1\\\\\n",
       "\tc2;scType;kidney\\_10k;kidney loop of Henle epithelial cell & -1 & -1 & -1 & -1 &  5.9940536 & -1\\\\\n",
       "\tc2;scType;kidney\\_10k;mesenchymal cell & -1 & -1 & -1 & -1 & 12.9182546 & -1\\\\\n",
       "\tc2;scType;kidney\\_10k;epithelial cell of proximal tubule & -1 & -1 & -1 & -1 &  2.7780950 & -1\\\\\n",
       "\tc2;scType;kidney\\_10k;podocyte & -1 & -1 & -1 & -1 & 13.1573253 & -1\\\\\n",
       "\tc2;scType;kidney\\_10k;kidney cell & -1 & -1 & -1 & -1 &  8.3272038 & -1\\\\\n",
       "\tc2;scType;kidney\\_10k;kidney epithelial cell & -1 & -1 & -1 & -1 & 38.3660998 & -1\\\\\n",
       "\tc2;scType;pbmc\\_3k;Platelet & -1 & -1 & -1 & -1 &  2.1972752 & -1\\\\\n",
       "\tc2;scType;pbmc\\_3k;DC & -1 & -1 & -1 & -1 &  5.6388071 & -1\\\\\n",
       "\tc2;scType;pbmc\\_3k;FCGR3A+ Mono & -1 & -1 & -1 & -1 &  1.1574850 & -1\\\\\n",
       "\tc2;scType;pbmc\\_3k;Naive CD4 T & -1 & -1 & -1 & -1 &  0.8134842 & -1\\\\\n",
       "\tc2;scType;pbmc\\_3k;CD8 T & -1 & -1 & -1 & -1 & 19.0655210 & -1\\\\\n",
       "\tc2;scType;pbmc\\_3k;NK & -1 & -1 & -1 & -1 &  0.5502934 & -1\\\\\n",
       "\tc2;scType;pbmc\\_3k;CD14+ Mono & -1 & -1 & -1 & -1 &  4.3796666 & -1\\\\\n",
       "\tc2;scType;pbmc\\_3k;B & -1 & -1 & -1 & -1 & 31.8662832 & -1\\\\\n",
       "\tc2;scType;pbmc\\_3k;Memory CD4 T & -1 & -1 & -1 & -1 &  8.2440343 & -1\\\\\n",
       "\\end{tabular}\n"
      ],
      "text/markdown": [
       "\n",
       "A data.frame: 27 × 6\n",
       "\n",
       "| <!--/--> | modifs &lt;dbl&gt; | classifier &lt;dbl&gt; | ct &lt;dbl&gt; | ds &lt;dbl&gt; | run_time &lt;dbl&gt; | misc &lt;dbl&gt; |\n",
       "|---|---|---|---|---|---|---|\n",
       "| c2;scType;axilla_10k;T cell | -1 | -1 | -1 | -1 |  6.9075842 | -1 |\n",
       "| c2;scType;axilla_10k;blood vessel smooth muscle cell | -1 | -1 | -1 | -1 |  7.4472220 | -1 |\n",
       "| c2;scType;axilla_10k;macrophage | -1 | -1 | -1 | -1 |  4.3051889 | -1 |\n",
       "| c2;scType;axilla_10k;fibroblast | -1 | -1 | -1 | -1 | 19.4733021 | -1 |\n",
       "| c2;scType;axilla_10k;blood vessel endothelial cell | -1 | -1 | -1 | -1 | 11.1207747 | -1 |\n",
       "| c2;scType;axilla_10k;malignant cell | -1 | -1 | -1 | -1 | 16.5087471 | -1 |\n",
       "| c2;scType;liver_10k;mature NK T cell | -1 | -1 | -1 | -1 |  8.0492675 | -1 |\n",
       "| c2;scType;liver_10k;monocyte | -1 | -1 | -1 | -1 |  2.1946607 | -1 |\n",
       "| c2;scType;liver_10k;macrophage | -1 | -1 | -1 | -1 |  8.5248697 | -1 |\n",
       "| c2;scType;liver_10k;blood vessel smooth muscle cell | -1 | -1 | -1 | -1 |  1.9420846 | -1 |\n",
       "| c2;scType;liver_10k;endothelial cell | -1 | -1 | -1 | -1 |  1.7951071 | -1 |\n",
       "| c2;scType;liver_10k;malignant cell | -1 | -1 | -1 | -1 |  2.2242737 | -1 |\n",
       "| c2;scType;kidney_10k;kidney loop of Henle epithelial cell | -1 | -1 | -1 | -1 |  5.9940536 | -1 |\n",
       "| c2;scType;kidney_10k;mesenchymal cell | -1 | -1 | -1 | -1 | 12.9182546 | -1 |\n",
       "| c2;scType;kidney_10k;epithelial cell of proximal tubule | -1 | -1 | -1 | -1 |  2.7780950 | -1 |\n",
       "| c2;scType;kidney_10k;podocyte | -1 | -1 | -1 | -1 | 13.1573253 | -1 |\n",
       "| c2;scType;kidney_10k;kidney cell | -1 | -1 | -1 | -1 |  8.3272038 | -1 |\n",
       "| c2;scType;kidney_10k;kidney epithelial cell | -1 | -1 | -1 | -1 | 38.3660998 | -1 |\n",
       "| c2;scType;pbmc_3k;Platelet | -1 | -1 | -1 | -1 |  2.1972752 | -1 |\n",
       "| c2;scType;pbmc_3k;DC | -1 | -1 | -1 | -1 |  5.6388071 | -1 |\n",
       "| c2;scType;pbmc_3k;FCGR3A+ Mono | -1 | -1 | -1 | -1 |  1.1574850 | -1 |\n",
       "| c2;scType;pbmc_3k;Naive CD4 T | -1 | -1 | -1 | -1 |  0.8134842 | -1 |\n",
       "| c2;scType;pbmc_3k;CD8 T | -1 | -1 | -1 | -1 | 19.0655210 | -1 |\n",
       "| c2;scType;pbmc_3k;NK | -1 | -1 | -1 | -1 |  0.5502934 | -1 |\n",
       "| c2;scType;pbmc_3k;CD14+ Mono | -1 | -1 | -1 | -1 |  4.3796666 | -1 |\n",
       "| c2;scType;pbmc_3k;B | -1 | -1 | -1 | -1 | 31.8662832 | -1 |\n",
       "| c2;scType;pbmc_3k;Memory CD4 T | -1 | -1 | -1 | -1 |  8.2440343 | -1 |\n",
       "\n"
      ],
      "text/plain": [
       "                                                          modifs classifier ct\n",
       "c2;scType;axilla_10k;T cell                               -1     -1         -1\n",
       "c2;scType;axilla_10k;blood vessel smooth muscle cell      -1     -1         -1\n",
       "c2;scType;axilla_10k;macrophage                           -1     -1         -1\n",
       "c2;scType;axilla_10k;fibroblast                           -1     -1         -1\n",
       "c2;scType;axilla_10k;blood vessel endothelial cell        -1     -1         -1\n",
       "c2;scType;axilla_10k;malignant cell                       -1     -1         -1\n",
       "c2;scType;liver_10k;mature NK T cell                      -1     -1         -1\n",
       "c2;scType;liver_10k;monocyte                              -1     -1         -1\n",
       "c2;scType;liver_10k;macrophage                            -1     -1         -1\n",
       "c2;scType;liver_10k;blood vessel smooth muscle cell       -1     -1         -1\n",
       "c2;scType;liver_10k;endothelial cell                      -1     -1         -1\n",
       "c2;scType;liver_10k;malignant cell                        -1     -1         -1\n",
       "c2;scType;kidney_10k;kidney loop of Henle epithelial cell -1     -1         -1\n",
       "c2;scType;kidney_10k;mesenchymal cell                     -1     -1         -1\n",
       "c2;scType;kidney_10k;epithelial cell of proximal tubule   -1     -1         -1\n",
       "c2;scType;kidney_10k;podocyte                             -1     -1         -1\n",
       "c2;scType;kidney_10k;kidney cell                          -1     -1         -1\n",
       "c2;scType;kidney_10k;kidney epithelial cell               -1     -1         -1\n",
       "c2;scType;pbmc_3k;Platelet                                -1     -1         -1\n",
       "c2;scType;pbmc_3k;DC                                      -1     -1         -1\n",
       "c2;scType;pbmc_3k;FCGR3A+ Mono                            -1     -1         -1\n",
       "c2;scType;pbmc_3k;Naive CD4 T                             -1     -1         -1\n",
       "c2;scType;pbmc_3k;CD8 T                                   -1     -1         -1\n",
       "c2;scType;pbmc_3k;NK                                      -1     -1         -1\n",
       "c2;scType;pbmc_3k;CD14+ Mono                              -1     -1         -1\n",
       "c2;scType;pbmc_3k;B                                       -1     -1         -1\n",
       "c2;scType;pbmc_3k;Memory CD4 T                            -1     -1         -1\n",
       "                                                          ds run_time   misc\n",
       "c2;scType;axilla_10k;T cell                               -1  6.9075842 -1  \n",
       "c2;scType;axilla_10k;blood vessel smooth muscle cell      -1  7.4472220 -1  \n",
       "c2;scType;axilla_10k;macrophage                           -1  4.3051889 -1  \n",
       "c2;scType;axilla_10k;fibroblast                           -1 19.4733021 -1  \n",
       "c2;scType;axilla_10k;blood vessel endothelial cell        -1 11.1207747 -1  \n",
       "c2;scType;axilla_10k;malignant cell                       -1 16.5087471 -1  \n",
       "c2;scType;liver_10k;mature NK T cell                      -1  8.0492675 -1  \n",
       "c2;scType;liver_10k;monocyte                              -1  2.1946607 -1  \n",
       "c2;scType;liver_10k;macrophage                            -1  8.5248697 -1  \n",
       "c2;scType;liver_10k;blood vessel smooth muscle cell       -1  1.9420846 -1  \n",
       "c2;scType;liver_10k;endothelial cell                      -1  1.7951071 -1  \n",
       "c2;scType;liver_10k;malignant cell                        -1  2.2242737 -1  \n",
       "c2;scType;kidney_10k;kidney loop of Henle epithelial cell -1  5.9940536 -1  \n",
       "c2;scType;kidney_10k;mesenchymal cell                     -1 12.9182546 -1  \n",
       "c2;scType;kidney_10k;epithelial cell of proximal tubule   -1  2.7780950 -1  \n",
       "c2;scType;kidney_10k;podocyte                             -1 13.1573253 -1  \n",
       "c2;scType;kidney_10k;kidney cell                          -1  8.3272038 -1  \n",
       "c2;scType;kidney_10k;kidney epithelial cell               -1 38.3660998 -1  \n",
       "c2;scType;pbmc_3k;Platelet                                -1  2.1972752 -1  \n",
       "c2;scType;pbmc_3k;DC                                      -1  5.6388071 -1  \n",
       "c2;scType;pbmc_3k;FCGR3A+ Mono                            -1  1.1574850 -1  \n",
       "c2;scType;pbmc_3k;Naive CD4 T                             -1  0.8134842 -1  \n",
       "c2;scType;pbmc_3k;CD8 T                                   -1 19.0655210 -1  \n",
       "c2;scType;pbmc_3k;NK                                      -1  0.5502934 -1  \n",
       "c2;scType;pbmc_3k;CD14+ Mono                              -1  4.3796666 -1  \n",
       "c2;scType;pbmc_3k;B                                       -1 31.8662832 -1  \n",
       "c2;scType;pbmc_3k;Memory CD4 T                            -1  8.2440343 -1  "
      ]
     },
     "metadata": {},
     "output_type": "display_data"
    }
   ],
   "source": [
    "df_times[df_times$run_time != -1,]\n"
   ]
  },
  {
   "cell_type": "code",
   "execution_count": 14,
   "id": "191c5135",
   "metadata": {},
   "outputs": [
    {
     "data": {
      "text/html": [
       "<table class=\"dataframe\">\n",
       "<caption>A data.frame: 1 × 6</caption>\n",
       "<thead>\n",
       "\t<tr><th></th><th scope=col>modifs</th><th scope=col>classifier</th><th scope=col>ct</th><th scope=col>ds</th><th scope=col>run_time</th><th scope=col>misc</th></tr>\n",
       "\t<tr><th></th><th scope=col>&lt;dbl&gt;</th><th scope=col>&lt;dbl&gt;</th><th scope=col>&lt;dbl&gt;</th><th scope=col>&lt;dbl&gt;</th><th scope=col>&lt;dbl&gt;</th><th scope=col>&lt;dbl&gt;</th></tr>\n",
       "</thead>\n",
       "<tbody>\n",
       "\t<tr><th scope=row>NA</th><td>NA</td><td>NA</td><td>NA</td><td>NA</td><td>NA</td><td>NA</td></tr>\n",
       "</tbody>\n",
       "</table>\n"
      ],
      "text/latex": [
       "A data.frame: 1 × 6\n",
       "\\begin{tabular}{r|llllll}\n",
       "  & modifs & classifier & ct & ds & run\\_time & misc\\\\\n",
       "  & <dbl> & <dbl> & <dbl> & <dbl> & <dbl> & <dbl>\\\\\n",
       "\\hline\n",
       "\tNA & NA & NA & NA & NA & NA & NA\\\\\n",
       "\\end{tabular}\n"
      ],
      "text/markdown": [
       "\n",
       "A data.frame: 1 × 6\n",
       "\n",
       "| <!--/--> | modifs &lt;dbl&gt; | classifier &lt;dbl&gt; | ct &lt;dbl&gt; | ds &lt;dbl&gt; | run_time &lt;dbl&gt; | misc &lt;dbl&gt; |\n",
       "|---|---|---|---|---|---|---|\n",
       "| NA | NA | NA | NA | NA | NA | NA |\n",
       "\n"
      ],
      "text/plain": [
       "   modifs classifier ct ds run_time misc\n",
       "NA NA     NA         NA NA NA       NA  "
      ]
     },
     "metadata": {},
     "output_type": "display_data"
    }
   ],
   "source": [
    "df_times['c2;MLP;axilla_10k;T cell',]"
   ]
  },
  {
   "cell_type": "code",
   "execution_count": null,
   "id": "c194b9c1",
   "metadata": {},
   "outputs": [],
   "source": []
  },
  {
   "cell_type": "code",
   "execution_count": null,
   "id": "454c362f",
   "metadata": {},
   "outputs": [],
   "source": []
  },
  {
   "cell_type": "code",
   "execution_count": 15,
   "id": "880d8451",
   "metadata": {},
   "outputs": [],
   "source": [
    "myHourFormat <- function(start_time){\n",
    "    diff_secs <- as.numeric(difftime(Sys.time(),start_time, units = \"secs\"))\n",
    "\n",
    "    # Extraction des heures, minutes et secondes\n",
    "    heures <- floor(diff_secs / 3600)\n",
    "    minutes <- floor((diff_secs %% 3600) / 60)\n",
    "    secondes <- round(diff_secs %% 60)\n",
    "\n",
    "    # Formatage du temps écoulé\n",
    "    temps_formate <- sprintf(\"%02d:%02d:%02d\", heures, minutes, secondes)\n",
    "    return(temps_formate)    \n",
    "}\n"
   ]
  },
  {
   "cell_type": "code",
   "execution_count": null,
   "id": "15c87273",
   "metadata": {},
   "outputs": [],
   "source": []
  },
  {
   "cell_type": "raw",
   "id": "e282711f",
   "metadata": {},
   "source": [
    "df_times[1,1] = myHourFormat(t1)"
   ]
  },
  {
   "cell_type": "raw",
   "id": "71db1d35",
   "metadata": {},
   "source": [
    "df_times"
   ]
  },
  {
   "cell_type": "code",
   "execution_count": null,
   "id": "814113b1",
   "metadata": {},
   "outputs": [],
   "source": []
  },
  {
   "cell_type": "raw",
   "id": "ac522fc3",
   "metadata": {},
   "source": [
    "c_basen = c(\"hgnc_axilla_10k\", \"hgnc_kidney_10k\", \"hgnc_liver_10k\")\n",
    "c_b2 = c(\"kidney_10k\", \"liver_10k\", \"axilla_10k\" )\n",
    "c_b2 = c(\"axilla_10k\", \"kidney_10k\", \"liver_10k\")\n",
    "c_strClass <- c(\"RF\", \"MLP\", \"scType\", \"scAnnotatR\")\n",
    "c_strClass <- c(\"RF\", \"scType\", \"scAnnotatR\")\n",
    "c_strClass <- c(\"scType\")\n",
    "c_strClass <- c(\"MLP\")\n",
    "\n",
    "# c_epsilon_alpha = c(0.5,1,2)\n",
    "chosenClusters <- list(axilla_10k=c(\"blood vessel endothelial cell\", \"fibroblast\"),\n",
    "                      kidney_10k=c(\"kidney cell\", \"podocyte\", \"mesenchymal cell\", \"epithelial cell of proximal tubule\"),\n",
    "                      liver_10k=c(\"endothelial cell\", \"macrophage\"))\n",
    "cModifs <- c(\"negativeAberrant\", \"decile+5\",\"positiveAberrant\",\"perc99\", \"perc1\")"
   ]
  },
  {
   "cell_type": "raw",
   "id": "c3cb5a2f",
   "metadata": {},
   "source": [
    "c_atts <- list(at1=c(\"kidney_10k\",\"MLP\", \"positiveAberrant\", \"kidney cell\"),\n",
    "              at2=c(\"kidney_10k\",\"scType\", \"perc1\", \"podocyte\"),\n",
    "              at3=c(\"kidney_10k\",\"scAnnotatR\", \"perc99\", \"mesenchymal cell\"))\n",
    "c_atts <- list(\n",
    "#     at00=c(\"kidney_10k\",\"CHETAH\", \"perc99\", \"mesenchymal cell\"),\n",
    "#     at01=c(\"kidney_10k\",\"CHETAH\", \"perc99\", \"podocyte\"),\n",
    "#                at11=c(\"kidney_10k\",\"CHETAH\", \"perc1\", \"podocyte\"),\n",
    "    at0=c(\"kidney_10k\",\"CHETAH\", \"perc99\", \"kidney cell\"),\n",
    "    at1=c(\"kidney_10k\",\"scAnnotatR\", \"perc1\", \"kidney cell\"),\n",
    "              at2=c(\"kidney_10k\",\"scAnnotatR\", \"perc1\", \"podocyte\"),\n",
    "              at3=c(\"kidney_10k\",\"scAnnotatR\", \"perc1\", \"mesenchymal cell\"),\n",
    "              at4=c(\"kidney_10k\",\"scAnnotatR\", \"perc99\", \"kidney cell\"),\n",
    "              at5=c(\"kidney_10k\",\"scAnnotatR\", \"perc99\", \"podocyte\"))"
   ]
  },
  {
   "cell_type": "raw",
   "id": "bc861dad",
   "metadata": {},
   "source": [
    "for (a_a in c_atts){\n",
    "    display(a_a)\n",
    "}"
   ]
  },
  {
   "cell_type": "code",
   "execution_count": 16,
   "id": "62095d81",
   "metadata": {},
   "outputs": [],
   "source": [
    "?advModifications"
   ]
  },
  {
   "cell_type": "code",
   "execution_count": 17,
   "id": "46d2d253",
   "metadata": {},
   "outputs": [
    {
     "data": {
      "text/html": [
       "<style>\n",
       ".list-inline {list-style: none; margin:0; padding: 0}\n",
       ".list-inline>li {display: inline-block}\n",
       ".list-inline>li:not(:last-child)::after {content: \"\\00b7\"; padding: 0 .5ex}\n",
       "</style>\n",
       "<ol class=list-inline><li>'c1;scType;pbmc_3k;Memory CD4 T'</li><li>'c1;scType;pbmc_3k;B'</li><li>'c1;scType;pbmc_3k;CD14+ Mono'</li><li>'c1;scType;pbmc_3k;NK'</li><li>'c1;scType;pbmc_3k;CD8 T'</li><li>'c1;scType;pbmc_3k;Naive CD4 T'</li><li>'c1;scType;pbmc_3k;FCGR3A+ Mono'</li><li>'c1;scType;pbmc_3k;DC'</li><li>'c1;scType;pbmc_3k;Platelet'</li><li>'c1;scType;kidney_10k;kidney epithelial cell'</li></ol>\n"
      ],
      "text/latex": [
       "\\begin{enumerate*}\n",
       "\\item 'c1;scType;pbmc\\_3k;Memory CD4 T'\n",
       "\\item 'c1;scType;pbmc\\_3k;B'\n",
       "\\item 'c1;scType;pbmc\\_3k;CD14+ Mono'\n",
       "\\item 'c1;scType;pbmc\\_3k;NK'\n",
       "\\item 'c1;scType;pbmc\\_3k;CD8 T'\n",
       "\\item 'c1;scType;pbmc\\_3k;Naive CD4 T'\n",
       "\\item 'c1;scType;pbmc\\_3k;FCGR3A+ Mono'\n",
       "\\item 'c1;scType;pbmc\\_3k;DC'\n",
       "\\item 'c1;scType;pbmc\\_3k;Platelet'\n",
       "\\item 'c1;scType;kidney\\_10k;kidney epithelial cell'\n",
       "\\end{enumerate*}\n"
      ],
      "text/markdown": [
       "1. 'c1;scType;pbmc_3k;Memory CD4 T'\n",
       "2. 'c1;scType;pbmc_3k;B'\n",
       "3. 'c1;scType;pbmc_3k;CD14+ Mono'\n",
       "4. 'c1;scType;pbmc_3k;NK'\n",
       "5. 'c1;scType;pbmc_3k;CD8 T'\n",
       "6. 'c1;scType;pbmc_3k;Naive CD4 T'\n",
       "7. 'c1;scType;pbmc_3k;FCGR3A+ Mono'\n",
       "8. 'c1;scType;pbmc_3k;DC'\n",
       "9. 'c1;scType;pbmc_3k;Platelet'\n",
       "10. 'c1;scType;kidney_10k;kidney epithelial cell'\n",
       "\n",
       "\n"
      ],
      "text/plain": [
       " [1] \"c1;scType;pbmc_3k;Memory CD4 T\"             \n",
       " [2] \"c1;scType;pbmc_3k;B\"                        \n",
       " [3] \"c1;scType;pbmc_3k;CD14+ Mono\"               \n",
       " [4] \"c1;scType;pbmc_3k;NK\"                       \n",
       " [5] \"c1;scType;pbmc_3k;CD8 T\"                    \n",
       " [6] \"c1;scType;pbmc_3k;Naive CD4 T\"              \n",
       " [7] \"c1;scType;pbmc_3k;FCGR3A+ Mono\"             \n",
       " [8] \"c1;scType;pbmc_3k;DC\"                       \n",
       " [9] \"c1;scType;pbmc_3k;Platelet\"                 \n",
       "[10] \"c1;scType;kidney_10k;kidney epithelial cell\""
      ]
     },
     "metadata": {},
     "output_type": "display_data"
    }
   ],
   "source": [
    "c_ids2run[1:10]"
   ]
  },
  {
   "cell_type": "code",
   "execution_count": 18,
   "id": "ea8a8b92",
   "metadata": {},
   "outputs": [
    {
     "data": {
      "text/html": [
       "'c1;scType;pbmc_3k;Memory CD4 T'"
      ],
      "text/latex": [
       "'c1;scType;pbmc\\_3k;Memory CD4 T'"
      ],
      "text/markdown": [
       "'c1;scType;pbmc_3k;Memory CD4 T'"
      ],
      "text/plain": [
       "[1] \"c1;scType;pbmc_3k;Memory CD4 T\""
      ]
     },
     "metadata": {},
     "output_type": "display_data"
    },
    {
     "data": {
      "text/html": [
       "'c1;scType;pbmc_3k;Memory CD4 T'"
      ],
      "text/latex": [
       "'c1;scType;pbmc\\_3k;Memory CD4 T'"
      ],
      "text/markdown": [
       "'c1;scType;pbmc_3k;Memory CD4 T'"
      ],
      "text/plain": [
       "[1] \"c1;scType;pbmc_3k;Memory CD4 T\""
      ]
     },
     "metadata": {},
     "output_type": "display_data"
    },
    {
     "name": "stderr",
     "output_type": "stream",
     "text": [
      "pbmc_3k\n",
      "\n",
      "scType\n",
      "\n"
     ]
    },
    {
     "data": {
      "text/html": [
       "'scType'"
      ],
      "text/latex": [
       "'scType'"
      ],
      "text/markdown": [
       "'scType'"
      ],
      "text/plain": [
       "[1] \"scType\""
      ]
     },
     "metadata": {},
     "output_type": "display_data"
    },
    {
     "data": {
      "text/html": [
       "'data.frame'"
      ],
      "text/latex": [
       "'data.frame'"
      ],
      "text/markdown": [
       "'data.frame'"
      ],
      "text/plain": [
       "[1] \"data.frame\""
      ]
     },
     "metadata": {},
     "output_type": "display_data"
    },
    {
     "name": "stderr",
     "output_type": "stream",
     "text": [
      "Memory CD4 T\n",
      "\n"
     ]
    },
    {
     "data": {
      "text/plain": [
       "<1318 x 13714> DelayedMatrix object of type \"double\":\n",
       "                  AL627309.1  AP006222.2 ...    PNRC2.1   SRSF10.1\n",
       "AAACATACAACCAC-1 -0.05812316 -0.03357571   . -0.2038562 -0.1593487\n",
       "AAACATTGATCAGC-1 -0.05812316 -0.03357571   . -0.2038562 -0.1593487\n",
       "AAACGCACTGGTAC-1 -0.05812316 -0.03357571   . -0.2038562 -0.1593487\n",
       "AAATGTTGCCACAA-1 -0.05812316 -0.03357571   . -0.2038562 -0.1593487\n",
       "AACACGTGCAGAGG-1 -0.05812316 -0.03357571   . -0.2038562 -0.1593487\n",
       "             ...           .           .   .          .          .\n",
       "ATCATCTGACACCA-1 -0.05812316 -0.03357571   . -0.2038562 -0.1593487\n",
       "GACGCTCTCTCTCG-1 -0.05812316 -0.03357571   . -0.2038562 -0.1593487\n",
       "GAGTTGTGGTAGCT-1 -0.05812316 -0.03357571   . -0.2038562 -0.1593487\n",
       "GGAACACTTCAGAC-1 -0.05812316 -0.03357571   . -0.2038562 -0.1593487\n",
       "TTACGTACGTTCAG-1 -0.05812316 -0.03357571   . -0.2038562 -0.1593487"
      ]
     },
     "metadata": {},
     "output_type": "display_data"
    },
    {
     "data": {
      "text/html": [
       "'c1;scType;pbmc_3k;B'"
      ],
      "text/latex": [
       "'c1;scType;pbmc\\_3k;B'"
      ],
      "text/markdown": [
       "'c1;scType;pbmc_3k;B'"
      ],
      "text/plain": [
       "[1] \"c1;scType;pbmc_3k;B\""
      ]
     },
     "metadata": {},
     "output_type": "display_data"
    },
    {
     "data": {
      "text/html": [
       "'c1;scType;pbmc_3k;B'"
      ],
      "text/latex": [
       "'c1;scType;pbmc\\_3k;B'"
      ],
      "text/markdown": [
       "'c1;scType;pbmc_3k;B'"
      ],
      "text/plain": [
       "[1] \"c1;scType;pbmc_3k;B\""
      ]
     },
     "metadata": {},
     "output_type": "display_data"
    },
    {
     "name": "stderr",
     "output_type": "stream",
     "text": [
      "pbmc_3k\n",
      "\n",
      "scType\n",
      "\n"
     ]
    },
    {
     "data": {
      "text/html": [
       "'scType'"
      ],
      "text/latex": [
       "'scType'"
      ],
      "text/markdown": [
       "'scType'"
      ],
      "text/plain": [
       "[1] \"scType\""
      ]
     },
     "metadata": {},
     "output_type": "display_data"
    },
    {
     "data": {
      "text/html": [
       "'data.frame'"
      ],
      "text/latex": [
       "'data.frame'"
      ],
      "text/markdown": [
       "'data.frame'"
      ],
      "text/plain": [
       "[1] \"data.frame\""
      ]
     },
     "metadata": {},
     "output_type": "display_data"
    },
    {
     "name": "stderr",
     "output_type": "stream",
     "text": [
      "B\n",
      "\n"
     ]
    },
    {
     "data": {
      "text/plain": [
       "<1318 x 13714> DelayedMatrix object of type \"double\":\n",
       "                  AL627309.1  AP006222.2 ...    PNRC2.1   SRSF10.1\n",
       "AAACATACAACCAC-1 -0.05812316 -0.03357571   . -0.2038562 -0.1593487\n",
       "AAACATTGATCAGC-1 -0.05812316 -0.03357571   . -0.2038562 -0.1593487\n",
       "AAACGCACTGGTAC-1 -0.05812316 -0.03357571   . -0.2038562 -0.1593487\n",
       "AAATGTTGCCACAA-1 -0.05812316 -0.03357571   . -0.2038562 -0.1593487\n",
       "AACACGTGCAGAGG-1 -0.05812316 -0.03357571   . -0.2038562 -0.1593487\n",
       "             ...           .           .   .          .          .\n",
       "ATCATCTGACACCA-1 -0.05812316 -0.03357571   . -0.2038562 -0.1593487\n",
       "GACGCTCTCTCTCG-1 -0.05812316 -0.03357571   . -0.2038562 -0.1593487\n",
       "GAGTTGTGGTAGCT-1 -0.05812316 -0.03357571   . -0.2038562 -0.1593487\n",
       "GGAACACTTCAGAC-1 -0.05812316 -0.03357571   . -0.2038562 -0.1593487\n",
       "TTACGTACGTTCAG-1 -0.05812316 -0.03357571   . -0.2038562 -0.1593487"
      ]
     },
     "metadata": {},
     "output_type": "display_data"
    },
    {
     "data": {
      "text/html": [
       "'c1;scType;pbmc_3k;CD14+ Mono'"
      ],
      "text/latex": [
       "'c1;scType;pbmc\\_3k;CD14+ Mono'"
      ],
      "text/markdown": [
       "'c1;scType;pbmc_3k;CD14+ Mono'"
      ],
      "text/plain": [
       "[1] \"c1;scType;pbmc_3k;CD14+ Mono\""
      ]
     },
     "metadata": {},
     "output_type": "display_data"
    },
    {
     "data": {
      "text/html": [
       "'c1;scType;pbmc_3k;CD14+ Mono'"
      ],
      "text/latex": [
       "'c1;scType;pbmc\\_3k;CD14+ Mono'"
      ],
      "text/markdown": [
       "'c1;scType;pbmc_3k;CD14+ Mono'"
      ],
      "text/plain": [
       "[1] \"c1;scType;pbmc_3k;CD14+ Mono\""
      ]
     },
     "metadata": {},
     "output_type": "display_data"
    },
    {
     "name": "stderr",
     "output_type": "stream",
     "text": [
      "pbmc_3k\n",
      "\n",
      "scType\n",
      "\n"
     ]
    },
    {
     "data": {
      "text/html": [
       "'scType'"
      ],
      "text/latex": [
       "'scType'"
      ],
      "text/markdown": [
       "'scType'"
      ],
      "text/plain": [
       "[1] \"scType\""
      ]
     },
     "metadata": {},
     "output_type": "display_data"
    },
    {
     "data": {
      "text/html": [
       "'data.frame'"
      ],
      "text/latex": [
       "'data.frame'"
      ],
      "text/markdown": [
       "'data.frame'"
      ],
      "text/plain": [
       "[1] \"data.frame\""
      ]
     },
     "metadata": {},
     "output_type": "display_data"
    },
    {
     "name": "stderr",
     "output_type": "stream",
     "text": [
      "CD14+ Mono\n",
      "\n"
     ]
    },
    {
     "data": {
      "text/plain": [
       "<1318 x 13714> DelayedMatrix object of type \"double\":\n",
       "                  AL627309.1  AP006222.2 ...    PNRC2.1   SRSF10.1\n",
       "AAACATACAACCAC-1 -0.05812316 -0.03357571   . -0.2038562 -0.1593487\n",
       "AAACATTGATCAGC-1 -0.05812316 -0.03357571   . -0.2038562 -0.1593487\n",
       "AAACGCACTGGTAC-1 -0.05812316 -0.03357571   . -0.2038562 -0.1593487\n",
       "AAATGTTGCCACAA-1 -0.05812316 -0.03357571   . -0.2038562 -0.1593487\n",
       "AACACGTGCAGAGG-1 -0.05812316 -0.03357571   . -0.2038562 -0.1593487\n",
       "             ...           .           .   .          .          .\n",
       "ATCATCTGACACCA-1 -0.05812316 -0.03357571   . -0.2038562 -0.1593487\n",
       "GACGCTCTCTCTCG-1 -0.05812316 -0.03357571   . -0.2038562 -0.1593487\n",
       "GAGTTGTGGTAGCT-1 -0.05812316 -0.03357571   . -0.2038562 -0.1593487\n",
       "GGAACACTTCAGAC-1 -0.05812316 -0.03357571   . -0.2038562 -0.1593487\n",
       "TTACGTACGTTCAG-1 -0.05812316 -0.03357571   . -0.2038562 -0.1593487"
      ]
     },
     "metadata": {},
     "output_type": "display_data"
    },
    {
     "data": {
      "text/html": [
       "'c1;scType;pbmc_3k;NK'"
      ],
      "text/latex": [
       "'c1;scType;pbmc\\_3k;NK'"
      ],
      "text/markdown": [
       "'c1;scType;pbmc_3k;NK'"
      ],
      "text/plain": [
       "[1] \"c1;scType;pbmc_3k;NK\""
      ]
     },
     "metadata": {},
     "output_type": "display_data"
    },
    {
     "data": {
      "text/html": [
       "'c1;scType;pbmc_3k;NK'"
      ],
      "text/latex": [
       "'c1;scType;pbmc\\_3k;NK'"
      ],
      "text/markdown": [
       "'c1;scType;pbmc_3k;NK'"
      ],
      "text/plain": [
       "[1] \"c1;scType;pbmc_3k;NK\""
      ]
     },
     "metadata": {},
     "output_type": "display_data"
    },
    {
     "name": "stderr",
     "output_type": "stream",
     "text": [
      "pbmc_3k\n",
      "\n",
      "scType\n",
      "\n"
     ]
    },
    {
     "data": {
      "text/html": [
       "'scType'"
      ],
      "text/latex": [
       "'scType'"
      ],
      "text/markdown": [
       "'scType'"
      ],
      "text/plain": [
       "[1] \"scType\""
      ]
     },
     "metadata": {},
     "output_type": "display_data"
    },
    {
     "data": {
      "text/html": [
       "'data.frame'"
      ],
      "text/latex": [
       "'data.frame'"
      ],
      "text/markdown": [
       "'data.frame'"
      ],
      "text/plain": [
       "[1] \"data.frame\""
      ]
     },
     "metadata": {},
     "output_type": "display_data"
    },
    {
     "name": "stderr",
     "output_type": "stream",
     "text": [
      "NK\n",
      "\n"
     ]
    },
    {
     "data": {
      "text/plain": [
       "<1318 x 13714> DelayedMatrix object of type \"double\":\n",
       "                  AL627309.1  AP006222.2 ...    PNRC2.1   SRSF10.1\n",
       "AAACATACAACCAC-1 -0.05812316 -0.03357571   . -0.2038562 -0.1593487\n",
       "AAACATTGATCAGC-1 -0.05812316 -0.03357571   . -0.2038562 -0.1593487\n",
       "AAACGCACTGGTAC-1 -0.05812316 -0.03357571   . -0.2038562 -0.1593487\n",
       "AAATGTTGCCACAA-1 -0.05812316 -0.03357571   . -0.2038562 -0.1593487\n",
       "AACACGTGCAGAGG-1 -0.05812316 -0.03357571   . -0.2038562 -0.1593487\n",
       "             ...           .           .   .          .          .\n",
       "ATCATCTGACACCA-1 -0.05812316 -0.03357571   . -0.2038562 -0.1593487\n",
       "GACGCTCTCTCTCG-1 -0.05812316 -0.03357571   . -0.2038562 -0.1593487\n",
       "GAGTTGTGGTAGCT-1 -0.05812316 -0.03357571   . -0.2038562 -0.1593487\n",
       "GGAACACTTCAGAC-1 -0.05812316 -0.03357571   . -0.2038562 -0.1593487\n",
       "TTACGTACGTTCAG-1 -0.05812316 -0.03357571   . -0.2038562 -0.1593487"
      ]
     },
     "metadata": {},
     "output_type": "display_data"
    },
    {
     "data": {
      "text/html": [
       "'c1;scType;pbmc_3k;CD8 T'"
      ],
      "text/latex": [
       "'c1;scType;pbmc\\_3k;CD8 T'"
      ],
      "text/markdown": [
       "'c1;scType;pbmc_3k;CD8 T'"
      ],
      "text/plain": [
       "[1] \"c1;scType;pbmc_3k;CD8 T\""
      ]
     },
     "metadata": {},
     "output_type": "display_data"
    },
    {
     "data": {
      "text/html": [
       "'c1;scType;pbmc_3k;CD8 T'"
      ],
      "text/latex": [
       "'c1;scType;pbmc\\_3k;CD8 T'"
      ],
      "text/markdown": [
       "'c1;scType;pbmc_3k;CD8 T'"
      ],
      "text/plain": [
       "[1] \"c1;scType;pbmc_3k;CD8 T\""
      ]
     },
     "metadata": {},
     "output_type": "display_data"
    },
    {
     "name": "stderr",
     "output_type": "stream",
     "text": [
      "pbmc_3k\n",
      "\n",
      "scType\n",
      "\n"
     ]
    },
    {
     "data": {
      "text/html": [
       "'scType'"
      ],
      "text/latex": [
       "'scType'"
      ],
      "text/markdown": [
       "'scType'"
      ],
      "text/plain": [
       "[1] \"scType\""
      ]
     },
     "metadata": {},
     "output_type": "display_data"
    },
    {
     "data": {
      "text/html": [
       "'data.frame'"
      ],
      "text/latex": [
       "'data.frame'"
      ],
      "text/markdown": [
       "'data.frame'"
      ],
      "text/plain": [
       "[1] \"data.frame\""
      ]
     },
     "metadata": {},
     "output_type": "display_data"
    },
    {
     "name": "stderr",
     "output_type": "stream",
     "text": [
      "CD8 T\n",
      "\n"
     ]
    },
    {
     "data": {
      "text/plain": [
       "<1318 x 13714> DelayedMatrix object of type \"double\":\n",
       "                  AL627309.1  AP006222.2 ...    PNRC2.1   SRSF10.1\n",
       "AAACATACAACCAC-1 -0.05812316 -0.03357571   . -0.2038562 -0.1593487\n",
       "AAACATTGATCAGC-1 -0.05812316 -0.03357571   . -0.2038562 -0.1593487\n",
       "AAACGCACTGGTAC-1 -0.05812316 -0.03357571   . -0.2038562 -0.1593487\n",
       "AAATGTTGCCACAA-1 -0.05812316 -0.03357571   . -0.2038562 -0.1593487\n",
       "AACACGTGCAGAGG-1 -0.05812316 -0.03357571   . -0.2038562 -0.1593487\n",
       "             ...           .           .   .          .          .\n",
       "ATCATCTGACACCA-1 -0.05812316 -0.03357571   . -0.2038562 -0.1593487\n",
       "GACGCTCTCTCTCG-1 -0.05812316 -0.03357571   . -0.2038562 -0.1593487\n",
       "GAGTTGTGGTAGCT-1 -0.05812316 -0.03357571   . -0.2038562 -0.1593487\n",
       "GGAACACTTCAGAC-1 -0.05812316 -0.03357571   . -0.2038562 -0.1593487\n",
       "TTACGTACGTTCAG-1 -0.05812316 -0.03357571   . -0.2038562 -0.1593487"
      ]
     },
     "metadata": {},
     "output_type": "display_data"
    },
    {
     "data": {
      "text/html": [
       "'c1;scType;pbmc_3k;Naive CD4 T'"
      ],
      "text/latex": [
       "'c1;scType;pbmc\\_3k;Naive CD4 T'"
      ],
      "text/markdown": [
       "'c1;scType;pbmc_3k;Naive CD4 T'"
      ],
      "text/plain": [
       "[1] \"c1;scType;pbmc_3k;Naive CD4 T\""
      ]
     },
     "metadata": {},
     "output_type": "display_data"
    },
    {
     "data": {
      "text/html": [
       "'c1;scType;pbmc_3k;Naive CD4 T'"
      ],
      "text/latex": [
       "'c1;scType;pbmc\\_3k;Naive CD4 T'"
      ],
      "text/markdown": [
       "'c1;scType;pbmc_3k;Naive CD4 T'"
      ],
      "text/plain": [
       "[1] \"c1;scType;pbmc_3k;Naive CD4 T\""
      ]
     },
     "metadata": {},
     "output_type": "display_data"
    },
    {
     "name": "stderr",
     "output_type": "stream",
     "text": [
      "pbmc_3k\n",
      "\n",
      "scType\n",
      "\n"
     ]
    },
    {
     "data": {
      "text/html": [
       "'scType'"
      ],
      "text/latex": [
       "'scType'"
      ],
      "text/markdown": [
       "'scType'"
      ],
      "text/plain": [
       "[1] \"scType\""
      ]
     },
     "metadata": {},
     "output_type": "display_data"
    },
    {
     "data": {
      "text/html": [
       "'data.frame'"
      ],
      "text/latex": [
       "'data.frame'"
      ],
      "text/markdown": [
       "'data.frame'"
      ],
      "text/plain": [
       "[1] \"data.frame\""
      ]
     },
     "metadata": {},
     "output_type": "display_data"
    },
    {
     "name": "stderr",
     "output_type": "stream",
     "text": [
      "Naive CD4 T\n",
      "\n"
     ]
    },
    {
     "data": {
      "text/plain": [
       "<1318 x 13714> DelayedMatrix object of type \"double\":\n",
       "                  AL627309.1  AP006222.2 ...    PNRC2.1   SRSF10.1\n",
       "AAACATACAACCAC-1 -0.05812316 -0.03357571   . -0.2038562 -0.1593487\n",
       "AAACATTGATCAGC-1 -0.05812316 -0.03357571   . -0.2038562 -0.1593487\n",
       "AAACGCACTGGTAC-1 -0.05812316 -0.03357571   . -0.2038562 -0.1593487\n",
       "AAATGTTGCCACAA-1 -0.05812316 -0.03357571   . -0.2038562 -0.1593487\n",
       "AACACGTGCAGAGG-1 -0.05812316 -0.03357571   . -0.2038562 -0.1593487\n",
       "             ...           .           .   .          .          .\n",
       "ATCATCTGACACCA-1 -0.05812316 -0.03357571   . -0.2038562 -0.1593487\n",
       "GACGCTCTCTCTCG-1 -0.05812316 -0.03357571   . -0.2038562 -0.1593487\n",
       "GAGTTGTGGTAGCT-1 -0.05812316 -0.03357571   . -0.2038562 -0.1593487\n",
       "GGAACACTTCAGAC-1 -0.05812316 -0.03357571   . -0.2038562 -0.1593487\n",
       "TTACGTACGTTCAG-1 -0.05812316 -0.03357571   . -0.2038562 -0.1593487"
      ]
     },
     "metadata": {},
     "output_type": "display_data"
    },
    {
     "data": {
      "text/html": [
       "'c1;scType;pbmc_3k;FCGR3A+ Mono'"
      ],
      "text/latex": [
       "'c1;scType;pbmc\\_3k;FCGR3A+ Mono'"
      ],
      "text/markdown": [
       "'c1;scType;pbmc_3k;FCGR3A+ Mono'"
      ],
      "text/plain": [
       "[1] \"c1;scType;pbmc_3k;FCGR3A+ Mono\""
      ]
     },
     "metadata": {},
     "output_type": "display_data"
    },
    {
     "data": {
      "text/html": [
       "'c1;scType;pbmc_3k;FCGR3A+ Mono'"
      ],
      "text/latex": [
       "'c1;scType;pbmc\\_3k;FCGR3A+ Mono'"
      ],
      "text/markdown": [
       "'c1;scType;pbmc_3k;FCGR3A+ Mono'"
      ],
      "text/plain": [
       "[1] \"c1;scType;pbmc_3k;FCGR3A+ Mono\""
      ]
     },
     "metadata": {},
     "output_type": "display_data"
    },
    {
     "name": "stderr",
     "output_type": "stream",
     "text": [
      "pbmc_3k\n",
      "\n",
      "scType\n",
      "\n"
     ]
    },
    {
     "data": {
      "text/html": [
       "'scType'"
      ],
      "text/latex": [
       "'scType'"
      ],
      "text/markdown": [
       "'scType'"
      ],
      "text/plain": [
       "[1] \"scType\""
      ]
     },
     "metadata": {},
     "output_type": "display_data"
    },
    {
     "data": {
      "text/html": [
       "'data.frame'"
      ],
      "text/latex": [
       "'data.frame'"
      ],
      "text/markdown": [
       "'data.frame'"
      ],
      "text/plain": [
       "[1] \"data.frame\""
      ]
     },
     "metadata": {},
     "output_type": "display_data"
    },
    {
     "name": "stderr",
     "output_type": "stream",
     "text": [
      "FCGR3A+ Mono\n",
      "\n"
     ]
    },
    {
     "data": {
      "text/plain": [
       "<1318 x 13714> DelayedMatrix object of type \"double\":\n",
       "                  AL627309.1  AP006222.2 ...    PNRC2.1   SRSF10.1\n",
       "AAACATACAACCAC-1 -0.05812316 -0.03357571   . -0.2038562 -0.1593487\n",
       "AAACATTGATCAGC-1 -0.05812316 -0.03357571   . -0.2038562 -0.1593487\n",
       "AAACGCACTGGTAC-1 -0.05812316 -0.03357571   . -0.2038562 -0.1593487\n",
       "AAATGTTGCCACAA-1 -0.05812316 -0.03357571   . -0.2038562 -0.1593487\n",
       "AACACGTGCAGAGG-1 -0.05812316 -0.03357571   . -0.2038562 -0.1593487\n",
       "             ...           .           .   .          .          .\n",
       "ATCATCTGACACCA-1 -0.05812316 -0.03357571   . -0.2038562 -0.1593487\n",
       "GACGCTCTCTCTCG-1 -0.05812316 -0.03357571   . -0.2038562 -0.1593487\n",
       "GAGTTGTGGTAGCT-1 -0.05812316 -0.03357571   . -0.2038562 -0.1593487\n",
       "GGAACACTTCAGAC-1 -0.05812316 -0.03357571   . -0.2038562 -0.1593487\n",
       "TTACGTACGTTCAG-1 -0.05812316 -0.03357571   . -0.2038562 -0.1593487"
      ]
     },
     "metadata": {},
     "output_type": "display_data"
    },
    {
     "data": {
      "text/html": [
       "'c1;scType;pbmc_3k;DC'"
      ],
      "text/latex": [
       "'c1;scType;pbmc\\_3k;DC'"
      ],
      "text/markdown": [
       "'c1;scType;pbmc_3k;DC'"
      ],
      "text/plain": [
       "[1] \"c1;scType;pbmc_3k;DC\""
      ]
     },
     "metadata": {},
     "output_type": "display_data"
    },
    {
     "data": {
      "text/html": [
       "'c1;scType;pbmc_3k;DC'"
      ],
      "text/latex": [
       "'c1;scType;pbmc\\_3k;DC'"
      ],
      "text/markdown": [
       "'c1;scType;pbmc_3k;DC'"
      ],
      "text/plain": [
       "[1] \"c1;scType;pbmc_3k;DC\""
      ]
     },
     "metadata": {},
     "output_type": "display_data"
    },
    {
     "name": "stderr",
     "output_type": "stream",
     "text": [
      "pbmc_3k\n",
      "\n",
      "scType\n",
      "\n"
     ]
    },
    {
     "data": {
      "text/html": [
       "'scType'"
      ],
      "text/latex": [
       "'scType'"
      ],
      "text/markdown": [
       "'scType'"
      ],
      "text/plain": [
       "[1] \"scType\""
      ]
     },
     "metadata": {},
     "output_type": "display_data"
    },
    {
     "data": {
      "text/html": [
       "'data.frame'"
      ],
      "text/latex": [
       "'data.frame'"
      ],
      "text/markdown": [
       "'data.frame'"
      ],
      "text/plain": [
       "[1] \"data.frame\""
      ]
     },
     "metadata": {},
     "output_type": "display_data"
    },
    {
     "name": "stderr",
     "output_type": "stream",
     "text": [
      "DC\n",
      "\n"
     ]
    },
    {
     "data": {
      "text/plain": [
       "<1318 x 13714> DelayedMatrix object of type \"double\":\n",
       "                  AL627309.1  AP006222.2 ...    PNRC2.1   SRSF10.1\n",
       "AAACATACAACCAC-1 -0.05812316 -0.03357571   . -0.2038562 -0.1593487\n",
       "AAACATTGATCAGC-1 -0.05812316 -0.03357571   . -0.2038562 -0.1593487\n",
       "AAACGCACTGGTAC-1 -0.05812316 -0.03357571   . -0.2038562 -0.1593487\n",
       "AAATGTTGCCACAA-1 -0.05812316 -0.03357571   . -0.2038562 -0.1593487\n",
       "AACACGTGCAGAGG-1 -0.05812316 -0.03357571   . -0.2038562 -0.1593487\n",
       "             ...           .           .   .          .          .\n",
       "ATCATCTGACACCA-1 -0.05812316 -0.03357571   . -0.2038562 -0.1593487\n",
       "GACGCTCTCTCTCG-1 -0.05812316 -0.03357571   . -0.2038562 -0.1593487\n",
       "GAGTTGTGGTAGCT-1 -0.05812316 -0.03357571   . -0.2038562 -0.1593487\n",
       "GGAACACTTCAGAC-1 -0.05812316 -0.03357571   . -0.2038562 -0.1593487\n",
       "TTACGTACGTTCAG-1 -0.05812316 -0.03357571   . -0.2038562 -0.1593487"
      ]
     },
     "metadata": {},
     "output_type": "display_data"
    },
    {
     "data": {
      "text/html": [
       "'c1;scType;pbmc_3k;Platelet'"
      ],
      "text/latex": [
       "'c1;scType;pbmc\\_3k;Platelet'"
      ],
      "text/markdown": [
       "'c1;scType;pbmc_3k;Platelet'"
      ],
      "text/plain": [
       "[1] \"c1;scType;pbmc_3k;Platelet\""
      ]
     },
     "metadata": {},
     "output_type": "display_data"
    },
    {
     "data": {
      "text/html": [
       "'c1;scType;pbmc_3k;Platelet'"
      ],
      "text/latex": [
       "'c1;scType;pbmc\\_3k;Platelet'"
      ],
      "text/markdown": [
       "'c1;scType;pbmc_3k;Platelet'"
      ],
      "text/plain": [
       "[1] \"c1;scType;pbmc_3k;Platelet\""
      ]
     },
     "metadata": {},
     "output_type": "display_data"
    },
    {
     "name": "stderr",
     "output_type": "stream",
     "text": [
      "pbmc_3k\n",
      "\n",
      "scType\n",
      "\n"
     ]
    },
    {
     "data": {
      "text/html": [
       "'scType'"
      ],
      "text/latex": [
       "'scType'"
      ],
      "text/markdown": [
       "'scType'"
      ],
      "text/plain": [
       "[1] \"scType\""
      ]
     },
     "metadata": {},
     "output_type": "display_data"
    },
    {
     "data": {
      "text/html": [
       "'data.frame'"
      ],
      "text/latex": [
       "'data.frame'"
      ],
      "text/markdown": [
       "'data.frame'"
      ],
      "text/plain": [
       "[1] \"data.frame\""
      ]
     },
     "metadata": {},
     "output_type": "display_data"
    },
    {
     "name": "stderr",
     "output_type": "stream",
     "text": [
      "Platelet\n",
      "\n"
     ]
    },
    {
     "data": {
      "text/plain": [
       "<1318 x 13714> DelayedMatrix object of type \"double\":\n",
       "                  AL627309.1  AP006222.2 ...    PNRC2.1   SRSF10.1\n",
       "AAACATACAACCAC-1 -0.05812316 -0.03357571   . -0.2038562 -0.1593487\n",
       "AAACATTGATCAGC-1 -0.05812316 -0.03357571   . -0.2038562 -0.1593487\n",
       "AAACGCACTGGTAC-1 -0.05812316 -0.03357571   . -0.2038562 -0.1593487\n",
       "AAATGTTGCCACAA-1 -0.05812316 -0.03357571   . -0.2038562 -0.1593487\n",
       "AACACGTGCAGAGG-1 -0.05812316 -0.03357571   . -0.2038562 -0.1593487\n",
       "             ...           .           .   .          .          .\n",
       "ATCATCTGACACCA-1 -0.05812316 -0.03357571   . -0.2038562 -0.1593487\n",
       "GACGCTCTCTCTCG-1 -0.05812316 -0.03357571   . -0.2038562 -0.1593487\n",
       "GAGTTGTGGTAGCT-1 -0.05812316 -0.03357571   . -0.2038562 -0.1593487\n",
       "GGAACACTTCAGAC-1 -0.05812316 -0.03357571   . -0.2038562 -0.1593487\n",
       "TTACGTACGTTCAG-1 -0.05812316 -0.03357571   . -0.2038562 -0.1593487"
      ]
     },
     "metadata": {},
     "output_type": "display_data"
    },
    {
     "data": {
      "text/html": [
       "'c1;scType;kidney_10k;kidney epithelial cell'"
      ],
      "text/latex": [
       "'c1;scType;kidney\\_10k;kidney epithelial cell'"
      ],
      "text/markdown": [
       "'c1;scType;kidney_10k;kidney epithelial cell'"
      ],
      "text/plain": [
       "[1] \"c1;scType;kidney_10k;kidney epithelial cell\""
      ]
     },
     "metadata": {},
     "output_type": "display_data"
    },
    {
     "data": {
      "text/html": [
       "'c1;scType;kidney_10k;kidney epithelial cell'"
      ],
      "text/latex": [
       "'c1;scType;kidney\\_10k;kidney epithelial cell'"
      ],
      "text/markdown": [
       "'c1;scType;kidney_10k;kidney epithelial cell'"
      ],
      "text/plain": [
       "[1] \"c1;scType;kidney_10k;kidney epithelial cell\""
      ]
     },
     "metadata": {},
     "output_type": "display_data"
    },
    {
     "name": "stderr",
     "output_type": "stream",
     "text": [
      "kidney_10k\n",
      "\n",
      "scType\n",
      "\n"
     ]
    },
    {
     "data": {
      "text/html": [
       "'scType'"
      ],
      "text/latex": [
       "'scType'"
      ],
      "text/markdown": [
       "'scType'"
      ],
      "text/plain": [
       "[1] \"scType\""
      ]
     },
     "metadata": {},
     "output_type": "display_data"
    },
    {
     "data": {
      "text/html": [
       "'data.frame'"
      ],
      "text/latex": [
       "'data.frame'"
      ],
      "text/markdown": [
       "'data.frame'"
      ],
      "text/plain": [
       "[1] \"data.frame\""
      ]
     },
     "metadata": {},
     "output_type": "display_data"
    },
    {
     "name": "stderr",
     "output_type": "stream",
     "text": [
      "kidney epithelial cell\n",
      "\n"
     ]
    },
    {
     "data": {
      "text/plain": [
       "<5396 x 32839> DelayedMatrix object of type \"double\":\n",
       "                                                  MIR1302.2HG ...\n",
       "4834STDY7002875_F16_KI_45P_CAGAATCTCGCCCTTA-1     -0.02663278   .\n",
       "4834STDY7002875_F16_KI_45P_CCTTCCCTCTGAGGGA-1     -0.02663278   .\n",
       "4834STDY7002875_F16_KI_45P_CGCGTTTAGGTGATTA-1     -0.02663278   .\n",
       "4834STDY7002875_F16_KI_45P_CTACCCAAGCTTATCG-1     -0.02663278   .\n",
       "4834STDY7002875_F16_KI_45P_TTCTCCTTCGAGAGCA-1     -0.02663278   .\n",
       "                                          ...               .   .\n",
       " FCAImmP7579215_F45_KI_45N_CATGACACATGTAAGA-1     -0.02663278   .\n",
       " FCAImmP7579215_F45_KI_45N_CGAGAAGTCACAATGC-1     -0.02663278   .\n",
       " FCAImmP7579215_F45_KI_45N_CTCTGGTTCAGGTTCA-1     -0.02663278   .\n",
       " FCAImmP7579215_F45_KI_45N_CTGCTGTTCATTGCCC-1     -0.02663278   .\n",
       " FCAImmP7579215_F45_KI_45N_GTTCATTTCCTGCAGG-1     -0.02663278   .\n",
       "                                              ENSG00000268674\n",
       "4834STDY7002875_F16_KI_45P_CAGAATCTCGCCCTTA-1               0\n",
       "4834STDY7002875_F16_KI_45P_CCTTCCCTCTGAGGGA-1               0\n",
       "4834STDY7002875_F16_KI_45P_CGCGTTTAGGTGATTA-1               0\n",
       "4834STDY7002875_F16_KI_45P_CTACCCAAGCTTATCG-1               0\n",
       "4834STDY7002875_F16_KI_45P_TTCTCCTTCGAGAGCA-1               0\n",
       "                                          ...               .\n",
       " FCAImmP7579215_F45_KI_45N_CATGACACATGTAAGA-1               0\n",
       " FCAImmP7579215_F45_KI_45N_CGAGAAGTCACAATGC-1               0\n",
       " FCAImmP7579215_F45_KI_45N_CTCTGGTTCAGGTTCA-1               0\n",
       " FCAImmP7579215_F45_KI_45N_CTGCTGTTCATTGCCC-1               0\n",
       " FCAImmP7579215_F45_KI_45N_GTTCATTTCCTGCAGG-1               0"
      ]
     },
     "metadata": {},
     "output_type": "display_data"
    },
    {
     "data": {
      "text/html": [
       "'c1;scType;kidney_10k;kidney cell'"
      ],
      "text/latex": [
       "'c1;scType;kidney\\_10k;kidney cell'"
      ],
      "text/markdown": [
       "'c1;scType;kidney_10k;kidney cell'"
      ],
      "text/plain": [
       "[1] \"c1;scType;kidney_10k;kidney cell\""
      ]
     },
     "metadata": {},
     "output_type": "display_data"
    },
    {
     "data": {
      "text/html": [
       "'c1;scType;kidney_10k;kidney cell'"
      ],
      "text/latex": [
       "'c1;scType;kidney\\_10k;kidney cell'"
      ],
      "text/markdown": [
       "'c1;scType;kidney_10k;kidney cell'"
      ],
      "text/plain": [
       "[1] \"c1;scType;kidney_10k;kidney cell\""
      ]
     },
     "metadata": {},
     "output_type": "display_data"
    },
    {
     "name": "stderr",
     "output_type": "stream",
     "text": [
      "kidney_10k\n",
      "\n",
      "scType\n",
      "\n"
     ]
    },
    {
     "data": {
      "text/html": [
       "'scType'"
      ],
      "text/latex": [
       "'scType'"
      ],
      "text/markdown": [
       "'scType'"
      ],
      "text/plain": [
       "[1] \"scType\""
      ]
     },
     "metadata": {},
     "output_type": "display_data"
    },
    {
     "data": {
      "text/html": [
       "'data.frame'"
      ],
      "text/latex": [
       "'data.frame'"
      ],
      "text/markdown": [
       "'data.frame'"
      ],
      "text/plain": [
       "[1] \"data.frame\""
      ]
     },
     "metadata": {},
     "output_type": "display_data"
    },
    {
     "name": "stderr",
     "output_type": "stream",
     "text": [
      "kidney cell\n",
      "\n"
     ]
    },
    {
     "data": {
      "text/plain": [
       "<5396 x 32839> DelayedMatrix object of type \"double\":\n",
       "                                                  MIR1302.2HG ...\n",
       "4834STDY7002875_F16_KI_45P_CAGAATCTCGCCCTTA-1     -0.02663278   .\n",
       "4834STDY7002875_F16_KI_45P_CCTTCCCTCTGAGGGA-1     -0.02663278   .\n",
       "4834STDY7002875_F16_KI_45P_CGCGTTTAGGTGATTA-1     -0.02663278   .\n",
       "4834STDY7002875_F16_KI_45P_CTACCCAAGCTTATCG-1     -0.02663278   .\n",
       "4834STDY7002875_F16_KI_45P_TTCTCCTTCGAGAGCA-1     -0.02663278   .\n",
       "                                          ...               .   .\n",
       " FCAImmP7579215_F45_KI_45N_CATGACACATGTAAGA-1     -0.02663278   .\n",
       " FCAImmP7579215_F45_KI_45N_CGAGAAGTCACAATGC-1     -0.02663278   .\n",
       " FCAImmP7579215_F45_KI_45N_CTCTGGTTCAGGTTCA-1     -0.02663278   .\n",
       " FCAImmP7579215_F45_KI_45N_CTGCTGTTCATTGCCC-1     -0.02663278   .\n",
       " FCAImmP7579215_F45_KI_45N_GTTCATTTCCTGCAGG-1     -0.02663278   .\n",
       "                                              ENSG00000268674\n",
       "4834STDY7002875_F16_KI_45P_CAGAATCTCGCCCTTA-1               0\n",
       "4834STDY7002875_F16_KI_45P_CCTTCCCTCTGAGGGA-1               0\n",
       "4834STDY7002875_F16_KI_45P_CGCGTTTAGGTGATTA-1               0\n",
       "4834STDY7002875_F16_KI_45P_CTACCCAAGCTTATCG-1               0\n",
       "4834STDY7002875_F16_KI_45P_TTCTCCTTCGAGAGCA-1               0\n",
       "                                          ...               .\n",
       " FCAImmP7579215_F45_KI_45N_CATGACACATGTAAGA-1               0\n",
       " FCAImmP7579215_F45_KI_45N_CGAGAAGTCACAATGC-1               0\n",
       " FCAImmP7579215_F45_KI_45N_CTCTGGTTCAGGTTCA-1               0\n",
       " FCAImmP7579215_F45_KI_45N_CTGCTGTTCATTGCCC-1               0\n",
       " FCAImmP7579215_F45_KI_45N_GTTCATTTCCTGCAGG-1               0"
      ]
     },
     "metadata": {},
     "output_type": "display_data"
    },
    {
     "data": {
      "text/html": [
       "'c1;scType;kidney_10k;podocyte'"
      ],
      "text/latex": [
       "'c1;scType;kidney\\_10k;podocyte'"
      ],
      "text/markdown": [
       "'c1;scType;kidney_10k;podocyte'"
      ],
      "text/plain": [
       "[1] \"c1;scType;kidney_10k;podocyte\""
      ]
     },
     "metadata": {},
     "output_type": "display_data"
    },
    {
     "data": {
      "text/html": [
       "'c1;scType;kidney_10k;podocyte'"
      ],
      "text/latex": [
       "'c1;scType;kidney\\_10k;podocyte'"
      ],
      "text/markdown": [
       "'c1;scType;kidney_10k;podocyte'"
      ],
      "text/plain": [
       "[1] \"c1;scType;kidney_10k;podocyte\""
      ]
     },
     "metadata": {},
     "output_type": "display_data"
    },
    {
     "name": "stderr",
     "output_type": "stream",
     "text": [
      "kidney_10k\n",
      "\n",
      "scType\n",
      "\n"
     ]
    },
    {
     "data": {
      "text/html": [
       "'scType'"
      ],
      "text/latex": [
       "'scType'"
      ],
      "text/markdown": [
       "'scType'"
      ],
      "text/plain": [
       "[1] \"scType\""
      ]
     },
     "metadata": {},
     "output_type": "display_data"
    },
    {
     "data": {
      "text/html": [
       "'data.frame'"
      ],
      "text/latex": [
       "'data.frame'"
      ],
      "text/markdown": [
       "'data.frame'"
      ],
      "text/plain": [
       "[1] \"data.frame\""
      ]
     },
     "metadata": {},
     "output_type": "display_data"
    },
    {
     "name": "stderr",
     "output_type": "stream",
     "text": [
      "podocyte\n",
      "\n"
     ]
    },
    {
     "data": {
      "text/plain": [
       "<5396 x 32839> DelayedMatrix object of type \"double\":\n",
       "                                                  MIR1302.2HG ...\n",
       "4834STDY7002875_F16_KI_45P_CAGAATCTCGCCCTTA-1     -0.02663278   .\n",
       "4834STDY7002875_F16_KI_45P_CCTTCCCTCTGAGGGA-1     -0.02663278   .\n",
       "4834STDY7002875_F16_KI_45P_CGCGTTTAGGTGATTA-1     -0.02663278   .\n",
       "4834STDY7002875_F16_KI_45P_CTACCCAAGCTTATCG-1     -0.02663278   .\n",
       "4834STDY7002875_F16_KI_45P_TTCTCCTTCGAGAGCA-1     -0.02663278   .\n",
       "                                          ...               .   .\n",
       " FCAImmP7579215_F45_KI_45N_CATGACACATGTAAGA-1     -0.02663278   .\n",
       " FCAImmP7579215_F45_KI_45N_CGAGAAGTCACAATGC-1     -0.02663278   .\n",
       " FCAImmP7579215_F45_KI_45N_CTCTGGTTCAGGTTCA-1     -0.02663278   .\n",
       " FCAImmP7579215_F45_KI_45N_CTGCTGTTCATTGCCC-1     -0.02663278   .\n",
       " FCAImmP7579215_F45_KI_45N_GTTCATTTCCTGCAGG-1     -0.02663278   .\n",
       "                                              ENSG00000268674\n",
       "4834STDY7002875_F16_KI_45P_CAGAATCTCGCCCTTA-1               0\n",
       "4834STDY7002875_F16_KI_45P_CCTTCCCTCTGAGGGA-1               0\n",
       "4834STDY7002875_F16_KI_45P_CGCGTTTAGGTGATTA-1               0\n",
       "4834STDY7002875_F16_KI_45P_CTACCCAAGCTTATCG-1               0\n",
       "4834STDY7002875_F16_KI_45P_TTCTCCTTCGAGAGCA-1               0\n",
       "                                          ...               .\n",
       " FCAImmP7579215_F45_KI_45N_CATGACACATGTAAGA-1               0\n",
       " FCAImmP7579215_F45_KI_45N_CGAGAAGTCACAATGC-1               0\n",
       " FCAImmP7579215_F45_KI_45N_CTCTGGTTCAGGTTCA-1               0\n",
       " FCAImmP7579215_F45_KI_45N_CTGCTGTTCATTGCCC-1               0\n",
       " FCAImmP7579215_F45_KI_45N_GTTCATTTCCTGCAGG-1               0"
      ]
     },
     "metadata": {},
     "output_type": "display_data"
    },
    {
     "data": {
      "text/html": [
       "'c1;scType;kidney_10k;epithelial cell of proximal tubule'"
      ],
      "text/latex": [
       "'c1;scType;kidney\\_10k;epithelial cell of proximal tubule'"
      ],
      "text/markdown": [
       "'c1;scType;kidney_10k;epithelial cell of proximal tubule'"
      ],
      "text/plain": [
       "[1] \"c1;scType;kidney_10k;epithelial cell of proximal tubule\""
      ]
     },
     "metadata": {},
     "output_type": "display_data"
    },
    {
     "data": {
      "text/html": [
       "'c1;scType;kidney_10k;epithelial cell of proximal tubule'"
      ],
      "text/latex": [
       "'c1;scType;kidney\\_10k;epithelial cell of proximal tubule'"
      ],
      "text/markdown": [
       "'c1;scType;kidney_10k;epithelial cell of proximal tubule'"
      ],
      "text/plain": [
       "[1] \"c1;scType;kidney_10k;epithelial cell of proximal tubule\""
      ]
     },
     "metadata": {},
     "output_type": "display_data"
    },
    {
     "name": "stderr",
     "output_type": "stream",
     "text": [
      "kidney_10k\n",
      "\n",
      "scType\n",
      "\n"
     ]
    },
    {
     "data": {
      "text/html": [
       "'scType'"
      ],
      "text/latex": [
       "'scType'"
      ],
      "text/markdown": [
       "'scType'"
      ],
      "text/plain": [
       "[1] \"scType\""
      ]
     },
     "metadata": {},
     "output_type": "display_data"
    },
    {
     "data": {
      "text/html": [
       "'data.frame'"
      ],
      "text/latex": [
       "'data.frame'"
      ],
      "text/markdown": [
       "'data.frame'"
      ],
      "text/plain": [
       "[1] \"data.frame\""
      ]
     },
     "metadata": {},
     "output_type": "display_data"
    },
    {
     "name": "stderr",
     "output_type": "stream",
     "text": [
      "epithelial cell of proximal tubule\n",
      "\n"
     ]
    },
    {
     "data": {
      "text/plain": [
       "<5396 x 32839> DelayedMatrix object of type \"double\":\n",
       "                                                  MIR1302.2HG ...\n",
       "4834STDY7002875_F16_KI_45P_CAGAATCTCGCCCTTA-1     -0.02663278   .\n",
       "4834STDY7002875_F16_KI_45P_CCTTCCCTCTGAGGGA-1     -0.02663278   .\n",
       "4834STDY7002875_F16_KI_45P_CGCGTTTAGGTGATTA-1     -0.02663278   .\n",
       "4834STDY7002875_F16_KI_45P_CTACCCAAGCTTATCG-1     -0.02663278   .\n",
       "4834STDY7002875_F16_KI_45P_TTCTCCTTCGAGAGCA-1     -0.02663278   .\n",
       "                                          ...               .   .\n",
       " FCAImmP7579215_F45_KI_45N_CATGACACATGTAAGA-1     -0.02663278   .\n",
       " FCAImmP7579215_F45_KI_45N_CGAGAAGTCACAATGC-1     -0.02663278   .\n",
       " FCAImmP7579215_F45_KI_45N_CTCTGGTTCAGGTTCA-1     -0.02663278   .\n",
       " FCAImmP7579215_F45_KI_45N_CTGCTGTTCATTGCCC-1     -0.02663278   .\n",
       " FCAImmP7579215_F45_KI_45N_GTTCATTTCCTGCAGG-1     -0.02663278   .\n",
       "                                              ENSG00000268674\n",
       "4834STDY7002875_F16_KI_45P_CAGAATCTCGCCCTTA-1               0\n",
       "4834STDY7002875_F16_KI_45P_CCTTCCCTCTGAGGGA-1               0\n",
       "4834STDY7002875_F16_KI_45P_CGCGTTTAGGTGATTA-1               0\n",
       "4834STDY7002875_F16_KI_45P_CTACCCAAGCTTATCG-1               0\n",
       "4834STDY7002875_F16_KI_45P_TTCTCCTTCGAGAGCA-1               0\n",
       "                                          ...               .\n",
       " FCAImmP7579215_F45_KI_45N_CATGACACATGTAAGA-1               0\n",
       " FCAImmP7579215_F45_KI_45N_CGAGAAGTCACAATGC-1               0\n",
       " FCAImmP7579215_F45_KI_45N_CTCTGGTTCAGGTTCA-1               0\n",
       " FCAImmP7579215_F45_KI_45N_CTGCTGTTCATTGCCC-1               0\n",
       " FCAImmP7579215_F45_KI_45N_GTTCATTTCCTGCAGG-1               0"
      ]
     },
     "metadata": {},
     "output_type": "display_data"
    },
    {
     "data": {
      "text/html": [
       "'c1;scType;kidney_10k;mesenchymal cell'"
      ],
      "text/latex": [
       "'c1;scType;kidney\\_10k;mesenchymal cell'"
      ],
      "text/markdown": [
       "'c1;scType;kidney_10k;mesenchymal cell'"
      ],
      "text/plain": [
       "[1] \"c1;scType;kidney_10k;mesenchymal cell\""
      ]
     },
     "metadata": {},
     "output_type": "display_data"
    },
    {
     "data": {
      "text/html": [
       "'c1;scType;kidney_10k;mesenchymal cell'"
      ],
      "text/latex": [
       "'c1;scType;kidney\\_10k;mesenchymal cell'"
      ],
      "text/markdown": [
       "'c1;scType;kidney_10k;mesenchymal cell'"
      ],
      "text/plain": [
       "[1] \"c1;scType;kidney_10k;mesenchymal cell\""
      ]
     },
     "metadata": {},
     "output_type": "display_data"
    },
    {
     "name": "stderr",
     "output_type": "stream",
     "text": [
      "kidney_10k\n",
      "\n",
      "scType\n",
      "\n"
     ]
    },
    {
     "data": {
      "text/html": [
       "'scType'"
      ],
      "text/latex": [
       "'scType'"
      ],
      "text/markdown": [
       "'scType'"
      ],
      "text/plain": [
       "[1] \"scType\""
      ]
     },
     "metadata": {},
     "output_type": "display_data"
    },
    {
     "data": {
      "text/html": [
       "'data.frame'"
      ],
      "text/latex": [
       "'data.frame'"
      ],
      "text/markdown": [
       "'data.frame'"
      ],
      "text/plain": [
       "[1] \"data.frame\""
      ]
     },
     "metadata": {},
     "output_type": "display_data"
    },
    {
     "name": "stderr",
     "output_type": "stream",
     "text": [
      "mesenchymal cell\n",
      "\n"
     ]
    },
    {
     "data": {
      "text/plain": [
       "<5396 x 32839> DelayedMatrix object of type \"double\":\n",
       "                                                  MIR1302.2HG ...\n",
       "4834STDY7002875_F16_KI_45P_CAGAATCTCGCCCTTA-1     -0.02663278   .\n",
       "4834STDY7002875_F16_KI_45P_CCTTCCCTCTGAGGGA-1     -0.02663278   .\n",
       "4834STDY7002875_F16_KI_45P_CGCGTTTAGGTGATTA-1     -0.02663278   .\n",
       "4834STDY7002875_F16_KI_45P_CTACCCAAGCTTATCG-1     -0.02663278   .\n",
       "4834STDY7002875_F16_KI_45P_TTCTCCTTCGAGAGCA-1     -0.02663278   .\n",
       "                                          ...               .   .\n",
       " FCAImmP7579215_F45_KI_45N_CATGACACATGTAAGA-1     -0.02663278   .\n",
       " FCAImmP7579215_F45_KI_45N_CGAGAAGTCACAATGC-1     -0.02663278   .\n",
       " FCAImmP7579215_F45_KI_45N_CTCTGGTTCAGGTTCA-1     -0.02663278   .\n",
       " FCAImmP7579215_F45_KI_45N_CTGCTGTTCATTGCCC-1     -0.02663278   .\n",
       " FCAImmP7579215_F45_KI_45N_GTTCATTTCCTGCAGG-1     -0.02663278   .\n",
       "                                              ENSG00000268674\n",
       "4834STDY7002875_F16_KI_45P_CAGAATCTCGCCCTTA-1               0\n",
       "4834STDY7002875_F16_KI_45P_CCTTCCCTCTGAGGGA-1               0\n",
       "4834STDY7002875_F16_KI_45P_CGCGTTTAGGTGATTA-1               0\n",
       "4834STDY7002875_F16_KI_45P_CTACCCAAGCTTATCG-1               0\n",
       "4834STDY7002875_F16_KI_45P_TTCTCCTTCGAGAGCA-1               0\n",
       "                                          ...               .\n",
       " FCAImmP7579215_F45_KI_45N_CATGACACATGTAAGA-1               0\n",
       " FCAImmP7579215_F45_KI_45N_CGAGAAGTCACAATGC-1               0\n",
       " FCAImmP7579215_F45_KI_45N_CTCTGGTTCAGGTTCA-1               0\n",
       " FCAImmP7579215_F45_KI_45N_CTGCTGTTCATTGCCC-1               0\n",
       " FCAImmP7579215_F45_KI_45N_GTTCATTTCCTGCAGG-1               0"
      ]
     },
     "metadata": {},
     "output_type": "display_data"
    },
    {
     "data": {
      "text/html": [
       "'c1;scType;kidney_10k;kidney loop of Henle epithelial cell'"
      ],
      "text/latex": [
       "'c1;scType;kidney\\_10k;kidney loop of Henle epithelial cell'"
      ],
      "text/markdown": [
       "'c1;scType;kidney_10k;kidney loop of Henle epithelial cell'"
      ],
      "text/plain": [
       "[1] \"c1;scType;kidney_10k;kidney loop of Henle epithelial cell\""
      ]
     },
     "metadata": {},
     "output_type": "display_data"
    },
    {
     "data": {
      "text/html": [
       "'c1;scType;kidney_10k;kidney loop of Henle epithelial cell'"
      ],
      "text/latex": [
       "'c1;scType;kidney\\_10k;kidney loop of Henle epithelial cell'"
      ],
      "text/markdown": [
       "'c1;scType;kidney_10k;kidney loop of Henle epithelial cell'"
      ],
      "text/plain": [
       "[1] \"c1;scType;kidney_10k;kidney loop of Henle epithelial cell\""
      ]
     },
     "metadata": {},
     "output_type": "display_data"
    },
    {
     "name": "stderr",
     "output_type": "stream",
     "text": [
      "kidney_10k\n",
      "\n",
      "scType\n",
      "\n"
     ]
    },
    {
     "data": {
      "text/html": [
       "'scType'"
      ],
      "text/latex": [
       "'scType'"
      ],
      "text/markdown": [
       "'scType'"
      ],
      "text/plain": [
       "[1] \"scType\""
      ]
     },
     "metadata": {},
     "output_type": "display_data"
    },
    {
     "data": {
      "text/html": [
       "'data.frame'"
      ],
      "text/latex": [
       "'data.frame'"
      ],
      "text/markdown": [
       "'data.frame'"
      ],
      "text/plain": [
       "[1] \"data.frame\""
      ]
     },
     "metadata": {},
     "output_type": "display_data"
    },
    {
     "name": "stderr",
     "output_type": "stream",
     "text": [
      "kidney loop of Henle epithelial cell\n",
      "\n"
     ]
    },
    {
     "data": {
      "text/plain": [
       "<5396 x 32839> DelayedMatrix object of type \"double\":\n",
       "                                                  MIR1302.2HG ...\n",
       "4834STDY7002875_F16_KI_45P_CAGAATCTCGCCCTTA-1     -0.02663278   .\n",
       "4834STDY7002875_F16_KI_45P_CCTTCCCTCTGAGGGA-1     -0.02663278   .\n",
       "4834STDY7002875_F16_KI_45P_CGCGTTTAGGTGATTA-1     -0.02663278   .\n",
       "4834STDY7002875_F16_KI_45P_CTACCCAAGCTTATCG-1     -0.02663278   .\n",
       "4834STDY7002875_F16_KI_45P_TTCTCCTTCGAGAGCA-1     -0.02663278   .\n",
       "                                          ...               .   .\n",
       " FCAImmP7579215_F45_KI_45N_CATGACACATGTAAGA-1     -0.02663278   .\n",
       " FCAImmP7579215_F45_KI_45N_CGAGAAGTCACAATGC-1     -0.02663278   .\n",
       " FCAImmP7579215_F45_KI_45N_CTCTGGTTCAGGTTCA-1     -0.02663278   .\n",
       " FCAImmP7579215_F45_KI_45N_CTGCTGTTCATTGCCC-1     -0.02663278   .\n",
       " FCAImmP7579215_F45_KI_45N_GTTCATTTCCTGCAGG-1     -0.02663278   .\n",
       "                                              ENSG00000268674\n",
       "4834STDY7002875_F16_KI_45P_CAGAATCTCGCCCTTA-1               0\n",
       "4834STDY7002875_F16_KI_45P_CCTTCCCTCTGAGGGA-1               0\n",
       "4834STDY7002875_F16_KI_45P_CGCGTTTAGGTGATTA-1               0\n",
       "4834STDY7002875_F16_KI_45P_CTACCCAAGCTTATCG-1               0\n",
       "4834STDY7002875_F16_KI_45P_TTCTCCTTCGAGAGCA-1               0\n",
       "                                          ...               .\n",
       " FCAImmP7579215_F45_KI_45N_CATGACACATGTAAGA-1               0\n",
       " FCAImmP7579215_F45_KI_45N_CGAGAAGTCACAATGC-1               0\n",
       " FCAImmP7579215_F45_KI_45N_CTCTGGTTCAGGTTCA-1               0\n",
       " FCAImmP7579215_F45_KI_45N_CTGCTGTTCATTGCCC-1               0\n",
       " FCAImmP7579215_F45_KI_45N_GTTCATTTCCTGCAGG-1               0"
      ]
     },
     "metadata": {},
     "output_type": "display_data"
    },
    {
     "data": {
      "text/html": [
       "'c1;scType;liver_10k;malignant cell'"
      ],
      "text/latex": [
       "'c1;scType;liver\\_10k;malignant cell'"
      ],
      "text/markdown": [
       "'c1;scType;liver_10k;malignant cell'"
      ],
      "text/plain": [
       "[1] \"c1;scType;liver_10k;malignant cell\""
      ]
     },
     "metadata": {},
     "output_type": "display_data"
    },
    {
     "data": {
      "text/html": [
       "'c1;scType;liver_10k;malignant cell'"
      ],
      "text/latex": [
       "'c1;scType;liver\\_10k;malignant cell'"
      ],
      "text/markdown": [
       "'c1;scType;liver_10k;malignant cell'"
      ],
      "text/plain": [
       "[1] \"c1;scType;liver_10k;malignant cell\""
      ]
     },
     "metadata": {},
     "output_type": "display_data"
    },
    {
     "name": "stderr",
     "output_type": "stream",
     "text": [
      "liver_10k\n",
      "\n",
      "scType\n",
      "\n"
     ]
    },
    {
     "data": {
      "text/html": [
       "'scType'"
      ],
      "text/latex": [
       "'scType'"
      ],
      "text/markdown": [
       "'scType'"
      ],
      "text/plain": [
       "[1] \"scType\""
      ]
     },
     "metadata": {},
     "output_type": "display_data"
    },
    {
     "data": {
      "text/html": [
       "'data.frame'"
      ],
      "text/latex": [
       "'data.frame'"
      ],
      "text/markdown": [
       "'data.frame'"
      ],
      "text/plain": [
       "[1] \"data.frame\""
      ]
     },
     "metadata": {},
     "output_type": "display_data"
    },
    {
     "name": "stderr",
     "output_type": "stream",
     "text": [
      "malignant cell\n",
      "\n"
     ]
    },
    {
     "data": {
      "text/plain": [
       "<5000 x 25571> DelayedMatrix object of type \"double\":\n",
       "                                                   ENSG00000238009 ...\n",
       "HTAPP-944-SMP-7479-TST-channel1_ACCTACCGTTCCTAAG-1       1.7450717   .\n",
       "HTAPP-944-SMP-7479-TST-channel1_CATGCCTAGAGCCCAA-1      -0.1656401   .\n",
       "HTAPP-944-SMP-7479-TST-channel1_ATTTCTGTCGCCAATA-1      -0.1656401   .\n",
       "HTAPP-944-SMP-7479-TST-channel1_TTGAGTGTCTAGACCA-1      -0.1656401   .\n",
       "HTAPP-944-SMP-7479-TST-channel1_AGACACTGTCTCGACG-1      -0.1656401   .\n",
       "                                               ...               .   .\n",
       "HTAPP-944-SMP-7479-TST-channel2_ACTTCCGTCTCTGACC-1      -0.1656401   .\n",
       "HTAPP-944-SMP-7479-TST-channel2_GATCCCTAGGTAGCAC-1      -0.1656401   .\n",
       "HTAPP-944-SMP-7479-TST-channel2_AGGAATAAGGAAGTAG-1      -0.1656401   .\n",
       "HTAPP-944-SMP-7479-TST-channel2_TCCAGAAAGAGCATCG-1      -0.1656401   .\n",
       "HTAPP-944-SMP-7479-TST-channel2_ATTGTTCAGCTCCGAC-1      -0.1656401   .\n",
       "                                                   ENSG00000271254\n",
       "HTAPP-944-SMP-7479-TST-channel1_ACCTACCGTTCCTAAG-1     -0.09222194\n",
       "HTAPP-944-SMP-7479-TST-channel1_CATGCCTAGAGCCCAA-1     -0.09222194\n",
       "HTAPP-944-SMP-7479-TST-channel1_ATTTCTGTCGCCAATA-1     -0.09222194\n",
       "HTAPP-944-SMP-7479-TST-channel1_TTGAGTGTCTAGACCA-1     -0.09222194\n",
       "HTAPP-944-SMP-7479-TST-channel1_AGACACTGTCTCGACG-1     -0.09222194\n",
       "                                               ...               .\n",
       "HTAPP-944-SMP-7479-TST-channel2_ACTTCCGTCTCTGACC-1     -0.09222194\n",
       "HTAPP-944-SMP-7479-TST-channel2_GATCCCTAGGTAGCAC-1     -0.09222194\n",
       "HTAPP-944-SMP-7479-TST-channel2_AGGAATAAGGAAGTAG-1     -0.09222194\n",
       "HTAPP-944-SMP-7479-TST-channel2_TCCAGAAAGAGCATCG-1     -0.09222194\n",
       "HTAPP-944-SMP-7479-TST-channel2_ATTGTTCAGCTCCGAC-1     -0.09222194"
      ]
     },
     "metadata": {},
     "output_type": "display_data"
    },
    {
     "data": {
      "text/html": [
       "'c1;scType;liver_10k;endothelial cell'"
      ],
      "text/latex": [
       "'c1;scType;liver\\_10k;endothelial cell'"
      ],
      "text/markdown": [
       "'c1;scType;liver_10k;endothelial cell'"
      ],
      "text/plain": [
       "[1] \"c1;scType;liver_10k;endothelial cell\""
      ]
     },
     "metadata": {},
     "output_type": "display_data"
    },
    {
     "data": {
      "text/html": [
       "'c1;scType;liver_10k;endothelial cell'"
      ],
      "text/latex": [
       "'c1;scType;liver\\_10k;endothelial cell'"
      ],
      "text/markdown": [
       "'c1;scType;liver_10k;endothelial cell'"
      ],
      "text/plain": [
       "[1] \"c1;scType;liver_10k;endothelial cell\""
      ]
     },
     "metadata": {},
     "output_type": "display_data"
    },
    {
     "name": "stderr",
     "output_type": "stream",
     "text": [
      "liver_10k\n",
      "\n",
      "scType\n",
      "\n"
     ]
    },
    {
     "data": {
      "text/html": [
       "'scType'"
      ],
      "text/latex": [
       "'scType'"
      ],
      "text/markdown": [
       "'scType'"
      ],
      "text/plain": [
       "[1] \"scType\""
      ]
     },
     "metadata": {},
     "output_type": "display_data"
    },
    {
     "data": {
      "text/html": [
       "'data.frame'"
      ],
      "text/latex": [
       "'data.frame'"
      ],
      "text/markdown": [
       "'data.frame'"
      ],
      "text/plain": [
       "[1] \"data.frame\""
      ]
     },
     "metadata": {},
     "output_type": "display_data"
    },
    {
     "name": "stderr",
     "output_type": "stream",
     "text": [
      "endothelial cell\n",
      "\n"
     ]
    },
    {
     "data": {
      "text/plain": [
       "<5000 x 25571> DelayedMatrix object of type \"double\":\n",
       "                                                   ENSG00000238009 ...\n",
       "HTAPP-944-SMP-7479-TST-channel1_ACCTACCGTTCCTAAG-1       1.7450717   .\n",
       "HTAPP-944-SMP-7479-TST-channel1_CATGCCTAGAGCCCAA-1      -0.1656401   .\n",
       "HTAPP-944-SMP-7479-TST-channel1_ATTTCTGTCGCCAATA-1      -0.1656401   .\n",
       "HTAPP-944-SMP-7479-TST-channel1_TTGAGTGTCTAGACCA-1      -0.1656401   .\n",
       "HTAPP-944-SMP-7479-TST-channel1_AGACACTGTCTCGACG-1      -0.1656401   .\n",
       "                                               ...               .   .\n",
       "HTAPP-944-SMP-7479-TST-channel2_ACTTCCGTCTCTGACC-1      -0.1656401   .\n",
       "HTAPP-944-SMP-7479-TST-channel2_GATCCCTAGGTAGCAC-1      -0.1656401   .\n",
       "HTAPP-944-SMP-7479-TST-channel2_AGGAATAAGGAAGTAG-1      -0.1656401   .\n",
       "HTAPP-944-SMP-7479-TST-channel2_TCCAGAAAGAGCATCG-1      -0.1656401   .\n",
       "HTAPP-944-SMP-7479-TST-channel2_ATTGTTCAGCTCCGAC-1      -0.1656401   .\n",
       "                                                   ENSG00000271254\n",
       "HTAPP-944-SMP-7479-TST-channel1_ACCTACCGTTCCTAAG-1     -0.09222194\n",
       "HTAPP-944-SMP-7479-TST-channel1_CATGCCTAGAGCCCAA-1     -0.09222194\n",
       "HTAPP-944-SMP-7479-TST-channel1_ATTTCTGTCGCCAATA-1     -0.09222194\n",
       "HTAPP-944-SMP-7479-TST-channel1_TTGAGTGTCTAGACCA-1     -0.09222194\n",
       "HTAPP-944-SMP-7479-TST-channel1_AGACACTGTCTCGACG-1     -0.09222194\n",
       "                                               ...               .\n",
       "HTAPP-944-SMP-7479-TST-channel2_ACTTCCGTCTCTGACC-1     -0.09222194\n",
       "HTAPP-944-SMP-7479-TST-channel2_GATCCCTAGGTAGCAC-1     -0.09222194\n",
       "HTAPP-944-SMP-7479-TST-channel2_AGGAATAAGGAAGTAG-1     -0.09222194\n",
       "HTAPP-944-SMP-7479-TST-channel2_TCCAGAAAGAGCATCG-1     -0.09222194\n",
       "HTAPP-944-SMP-7479-TST-channel2_ATTGTTCAGCTCCGAC-1     -0.09222194"
      ]
     },
     "metadata": {},
     "output_type": "display_data"
    },
    {
     "data": {
      "text/html": [
       "'c1;scType;liver_10k;blood vessel smooth muscle cell'"
      ],
      "text/latex": [
       "'c1;scType;liver\\_10k;blood vessel smooth muscle cell'"
      ],
      "text/markdown": [
       "'c1;scType;liver_10k;blood vessel smooth muscle cell'"
      ],
      "text/plain": [
       "[1] \"c1;scType;liver_10k;blood vessel smooth muscle cell\""
      ]
     },
     "metadata": {},
     "output_type": "display_data"
    },
    {
     "data": {
      "text/html": [
       "'c1;scType;liver_10k;blood vessel smooth muscle cell'"
      ],
      "text/latex": [
       "'c1;scType;liver\\_10k;blood vessel smooth muscle cell'"
      ],
      "text/markdown": [
       "'c1;scType;liver_10k;blood vessel smooth muscle cell'"
      ],
      "text/plain": [
       "[1] \"c1;scType;liver_10k;blood vessel smooth muscle cell\""
      ]
     },
     "metadata": {},
     "output_type": "display_data"
    },
    {
     "name": "stderr",
     "output_type": "stream",
     "text": [
      "liver_10k\n",
      "\n",
      "scType\n",
      "\n"
     ]
    },
    {
     "data": {
      "text/html": [
       "'scType'"
      ],
      "text/latex": [
       "'scType'"
      ],
      "text/markdown": [
       "'scType'"
      ],
      "text/plain": [
       "[1] \"scType\""
      ]
     },
     "metadata": {},
     "output_type": "display_data"
    },
    {
     "data": {
      "text/html": [
       "'data.frame'"
      ],
      "text/latex": [
       "'data.frame'"
      ],
      "text/markdown": [
       "'data.frame'"
      ],
      "text/plain": [
       "[1] \"data.frame\""
      ]
     },
     "metadata": {},
     "output_type": "display_data"
    },
    {
     "name": "stderr",
     "output_type": "stream",
     "text": [
      "blood vessel smooth muscle cell\n",
      "\n"
     ]
    },
    {
     "data": {
      "text/plain": [
       "<5000 x 25571> DelayedMatrix object of type \"double\":\n",
       "                                                   ENSG00000238009 ...\n",
       "HTAPP-944-SMP-7479-TST-channel1_ACCTACCGTTCCTAAG-1       1.7450717   .\n",
       "HTAPP-944-SMP-7479-TST-channel1_CATGCCTAGAGCCCAA-1      -0.1656401   .\n",
       "HTAPP-944-SMP-7479-TST-channel1_ATTTCTGTCGCCAATA-1      -0.1656401   .\n",
       "HTAPP-944-SMP-7479-TST-channel1_TTGAGTGTCTAGACCA-1      -0.1656401   .\n",
       "HTAPP-944-SMP-7479-TST-channel1_AGACACTGTCTCGACG-1      -0.1656401   .\n",
       "                                               ...               .   .\n",
       "HTAPP-944-SMP-7479-TST-channel2_ACTTCCGTCTCTGACC-1      -0.1656401   .\n",
       "HTAPP-944-SMP-7479-TST-channel2_GATCCCTAGGTAGCAC-1      -0.1656401   .\n",
       "HTAPP-944-SMP-7479-TST-channel2_AGGAATAAGGAAGTAG-1      -0.1656401   .\n",
       "HTAPP-944-SMP-7479-TST-channel2_TCCAGAAAGAGCATCG-1      -0.1656401   .\n",
       "HTAPP-944-SMP-7479-TST-channel2_ATTGTTCAGCTCCGAC-1      -0.1656401   .\n",
       "                                                   ENSG00000271254\n",
       "HTAPP-944-SMP-7479-TST-channel1_ACCTACCGTTCCTAAG-1     -0.09222194\n",
       "HTAPP-944-SMP-7479-TST-channel1_CATGCCTAGAGCCCAA-1     -0.09222194\n",
       "HTAPP-944-SMP-7479-TST-channel1_ATTTCTGTCGCCAATA-1     -0.09222194\n",
       "HTAPP-944-SMP-7479-TST-channel1_TTGAGTGTCTAGACCA-1     -0.09222194\n",
       "HTAPP-944-SMP-7479-TST-channel1_AGACACTGTCTCGACG-1     -0.09222194\n",
       "                                               ...               .\n",
       "HTAPP-944-SMP-7479-TST-channel2_ACTTCCGTCTCTGACC-1     -0.09222194\n",
       "HTAPP-944-SMP-7479-TST-channel2_GATCCCTAGGTAGCAC-1     -0.09222194\n",
       "HTAPP-944-SMP-7479-TST-channel2_AGGAATAAGGAAGTAG-1     -0.09222194\n",
       "HTAPP-944-SMP-7479-TST-channel2_TCCAGAAAGAGCATCG-1     -0.09222194\n",
       "HTAPP-944-SMP-7479-TST-channel2_ATTGTTCAGCTCCGAC-1     -0.09222194"
      ]
     },
     "metadata": {},
     "output_type": "display_data"
    },
    {
     "data": {
      "text/html": [
       "'c1;scType;liver_10k;macrophage'"
      ],
      "text/latex": [
       "'c1;scType;liver\\_10k;macrophage'"
      ],
      "text/markdown": [
       "'c1;scType;liver_10k;macrophage'"
      ],
      "text/plain": [
       "[1] \"c1;scType;liver_10k;macrophage\""
      ]
     },
     "metadata": {},
     "output_type": "display_data"
    },
    {
     "data": {
      "text/html": [
       "'c1;scType;liver_10k;macrophage'"
      ],
      "text/latex": [
       "'c1;scType;liver\\_10k;macrophage'"
      ],
      "text/markdown": [
       "'c1;scType;liver_10k;macrophage'"
      ],
      "text/plain": [
       "[1] \"c1;scType;liver_10k;macrophage\""
      ]
     },
     "metadata": {},
     "output_type": "display_data"
    },
    {
     "name": "stderr",
     "output_type": "stream",
     "text": [
      "liver_10k\n",
      "\n",
      "scType\n",
      "\n"
     ]
    },
    {
     "data": {
      "text/html": [
       "'scType'"
      ],
      "text/latex": [
       "'scType'"
      ],
      "text/markdown": [
       "'scType'"
      ],
      "text/plain": [
       "[1] \"scType\""
      ]
     },
     "metadata": {},
     "output_type": "display_data"
    },
    {
     "data": {
      "text/html": [
       "'data.frame'"
      ],
      "text/latex": [
       "'data.frame'"
      ],
      "text/markdown": [
       "'data.frame'"
      ],
      "text/plain": [
       "[1] \"data.frame\""
      ]
     },
     "metadata": {},
     "output_type": "display_data"
    },
    {
     "name": "stderr",
     "output_type": "stream",
     "text": [
      "macrophage\n",
      "\n"
     ]
    },
    {
     "data": {
      "text/plain": [
       "<5000 x 25571> DelayedMatrix object of type \"double\":\n",
       "                                                   ENSG00000238009 ...\n",
       "HTAPP-944-SMP-7479-TST-channel1_ACCTACCGTTCCTAAG-1       1.7450717   .\n",
       "HTAPP-944-SMP-7479-TST-channel1_CATGCCTAGAGCCCAA-1      -0.1656401   .\n",
       "HTAPP-944-SMP-7479-TST-channel1_ATTTCTGTCGCCAATA-1      -0.1656401   .\n",
       "HTAPP-944-SMP-7479-TST-channel1_TTGAGTGTCTAGACCA-1      -0.1656401   .\n",
       "HTAPP-944-SMP-7479-TST-channel1_AGACACTGTCTCGACG-1      -0.1656401   .\n",
       "                                               ...               .   .\n",
       "HTAPP-944-SMP-7479-TST-channel2_ACTTCCGTCTCTGACC-1      -0.1656401   .\n",
       "HTAPP-944-SMP-7479-TST-channel2_GATCCCTAGGTAGCAC-1      -0.1656401   .\n",
       "HTAPP-944-SMP-7479-TST-channel2_AGGAATAAGGAAGTAG-1      -0.1656401   .\n",
       "HTAPP-944-SMP-7479-TST-channel2_TCCAGAAAGAGCATCG-1      -0.1656401   .\n",
       "HTAPP-944-SMP-7479-TST-channel2_ATTGTTCAGCTCCGAC-1      -0.1656401   .\n",
       "                                                   ENSG00000271254\n",
       "HTAPP-944-SMP-7479-TST-channel1_ACCTACCGTTCCTAAG-1     -0.09222194\n",
       "HTAPP-944-SMP-7479-TST-channel1_CATGCCTAGAGCCCAA-1     -0.09222194\n",
       "HTAPP-944-SMP-7479-TST-channel1_ATTTCTGTCGCCAATA-1     -0.09222194\n",
       "HTAPP-944-SMP-7479-TST-channel1_TTGAGTGTCTAGACCA-1     -0.09222194\n",
       "HTAPP-944-SMP-7479-TST-channel1_AGACACTGTCTCGACG-1     -0.09222194\n",
       "                                               ...               .\n",
       "HTAPP-944-SMP-7479-TST-channel2_ACTTCCGTCTCTGACC-1     -0.09222194\n",
       "HTAPP-944-SMP-7479-TST-channel2_GATCCCTAGGTAGCAC-1     -0.09222194\n",
       "HTAPP-944-SMP-7479-TST-channel2_AGGAATAAGGAAGTAG-1     -0.09222194\n",
       "HTAPP-944-SMP-7479-TST-channel2_TCCAGAAAGAGCATCG-1     -0.09222194\n",
       "HTAPP-944-SMP-7479-TST-channel2_ATTGTTCAGCTCCGAC-1     -0.09222194"
      ]
     },
     "metadata": {},
     "output_type": "display_data"
    },
    {
     "data": {
      "text/html": [
       "'c1;scType;liver_10k;monocyte'"
      ],
      "text/latex": [
       "'c1;scType;liver\\_10k;monocyte'"
      ],
      "text/markdown": [
       "'c1;scType;liver_10k;monocyte'"
      ],
      "text/plain": [
       "[1] \"c1;scType;liver_10k;monocyte\""
      ]
     },
     "metadata": {},
     "output_type": "display_data"
    },
    {
     "data": {
      "text/html": [
       "'c1;scType;liver_10k;monocyte'"
      ],
      "text/latex": [
       "'c1;scType;liver\\_10k;monocyte'"
      ],
      "text/markdown": [
       "'c1;scType;liver_10k;monocyte'"
      ],
      "text/plain": [
       "[1] \"c1;scType;liver_10k;monocyte\""
      ]
     },
     "metadata": {},
     "output_type": "display_data"
    },
    {
     "name": "stderr",
     "output_type": "stream",
     "text": [
      "liver_10k\n",
      "\n",
      "scType\n",
      "\n"
     ]
    },
    {
     "data": {
      "text/html": [
       "'scType'"
      ],
      "text/latex": [
       "'scType'"
      ],
      "text/markdown": [
       "'scType'"
      ],
      "text/plain": [
       "[1] \"scType\""
      ]
     },
     "metadata": {},
     "output_type": "display_data"
    },
    {
     "data": {
      "text/html": [
       "'data.frame'"
      ],
      "text/latex": [
       "'data.frame'"
      ],
      "text/markdown": [
       "'data.frame'"
      ],
      "text/plain": [
       "[1] \"data.frame\""
      ]
     },
     "metadata": {},
     "output_type": "display_data"
    },
    {
     "name": "stderr",
     "output_type": "stream",
     "text": [
      "monocyte\n",
      "\n"
     ]
    },
    {
     "data": {
      "text/plain": [
       "<5000 x 25571> DelayedMatrix object of type \"double\":\n",
       "                                                   ENSG00000238009 ...\n",
       "HTAPP-944-SMP-7479-TST-channel1_ACCTACCGTTCCTAAG-1       1.7450717   .\n",
       "HTAPP-944-SMP-7479-TST-channel1_CATGCCTAGAGCCCAA-1      -0.1656401   .\n",
       "HTAPP-944-SMP-7479-TST-channel1_ATTTCTGTCGCCAATA-1      -0.1656401   .\n",
       "HTAPP-944-SMP-7479-TST-channel1_TTGAGTGTCTAGACCA-1      -0.1656401   .\n",
       "HTAPP-944-SMP-7479-TST-channel1_AGACACTGTCTCGACG-1      -0.1656401   .\n",
       "                                               ...               .   .\n",
       "HTAPP-944-SMP-7479-TST-channel2_ACTTCCGTCTCTGACC-1      -0.1656401   .\n",
       "HTAPP-944-SMP-7479-TST-channel2_GATCCCTAGGTAGCAC-1      -0.1656401   .\n",
       "HTAPP-944-SMP-7479-TST-channel2_AGGAATAAGGAAGTAG-1      -0.1656401   .\n",
       "HTAPP-944-SMP-7479-TST-channel2_TCCAGAAAGAGCATCG-1      -0.1656401   .\n",
       "HTAPP-944-SMP-7479-TST-channel2_ATTGTTCAGCTCCGAC-1      -0.1656401   .\n",
       "                                                   ENSG00000271254\n",
       "HTAPP-944-SMP-7479-TST-channel1_ACCTACCGTTCCTAAG-1     -0.09222194\n",
       "HTAPP-944-SMP-7479-TST-channel1_CATGCCTAGAGCCCAA-1     -0.09222194\n",
       "HTAPP-944-SMP-7479-TST-channel1_ATTTCTGTCGCCAATA-1     -0.09222194\n",
       "HTAPP-944-SMP-7479-TST-channel1_TTGAGTGTCTAGACCA-1     -0.09222194\n",
       "HTAPP-944-SMP-7479-TST-channel1_AGACACTGTCTCGACG-1     -0.09222194\n",
       "                                               ...               .\n",
       "HTAPP-944-SMP-7479-TST-channel2_ACTTCCGTCTCTGACC-1     -0.09222194\n",
       "HTAPP-944-SMP-7479-TST-channel2_GATCCCTAGGTAGCAC-1     -0.09222194\n",
       "HTAPP-944-SMP-7479-TST-channel2_AGGAATAAGGAAGTAG-1     -0.09222194\n",
       "HTAPP-944-SMP-7479-TST-channel2_TCCAGAAAGAGCATCG-1     -0.09222194\n",
       "HTAPP-944-SMP-7479-TST-channel2_ATTGTTCAGCTCCGAC-1     -0.09222194"
      ]
     },
     "metadata": {},
     "output_type": "display_data"
    },
    {
     "data": {
      "text/html": [
       "'c1;scType;liver_10k;mature NK T cell'"
      ],
      "text/latex": [
       "'c1;scType;liver\\_10k;mature NK T cell'"
      ],
      "text/markdown": [
       "'c1;scType;liver_10k;mature NK T cell'"
      ],
      "text/plain": [
       "[1] \"c1;scType;liver_10k;mature NK T cell\""
      ]
     },
     "metadata": {},
     "output_type": "display_data"
    },
    {
     "data": {
      "text/html": [
       "'c1;scType;liver_10k;mature NK T cell'"
      ],
      "text/latex": [
       "'c1;scType;liver\\_10k;mature NK T cell'"
      ],
      "text/markdown": [
       "'c1;scType;liver_10k;mature NK T cell'"
      ],
      "text/plain": [
       "[1] \"c1;scType;liver_10k;mature NK T cell\""
      ]
     },
     "metadata": {},
     "output_type": "display_data"
    },
    {
     "name": "stderr",
     "output_type": "stream",
     "text": [
      "liver_10k\n",
      "\n",
      "scType\n",
      "\n"
     ]
    },
    {
     "data": {
      "text/html": [
       "'scType'"
      ],
      "text/latex": [
       "'scType'"
      ],
      "text/markdown": [
       "'scType'"
      ],
      "text/plain": [
       "[1] \"scType\""
      ]
     },
     "metadata": {},
     "output_type": "display_data"
    },
    {
     "data": {
      "text/html": [
       "'data.frame'"
      ],
      "text/latex": [
       "'data.frame'"
      ],
      "text/markdown": [
       "'data.frame'"
      ],
      "text/plain": [
       "[1] \"data.frame\""
      ]
     },
     "metadata": {},
     "output_type": "display_data"
    },
    {
     "name": "stderr",
     "output_type": "stream",
     "text": [
      "mature NK T cell\n",
      "\n"
     ]
    },
    {
     "data": {
      "text/plain": [
       "<5000 x 25571> DelayedMatrix object of type \"double\":\n",
       "                                                   ENSG00000238009 ...\n",
       "HTAPP-944-SMP-7479-TST-channel1_ACCTACCGTTCCTAAG-1       1.7450717   .\n",
       "HTAPP-944-SMP-7479-TST-channel1_CATGCCTAGAGCCCAA-1      -0.1656401   .\n",
       "HTAPP-944-SMP-7479-TST-channel1_ATTTCTGTCGCCAATA-1      -0.1656401   .\n",
       "HTAPP-944-SMP-7479-TST-channel1_TTGAGTGTCTAGACCA-1      -0.1656401   .\n",
       "HTAPP-944-SMP-7479-TST-channel1_AGACACTGTCTCGACG-1      -0.1656401   .\n",
       "                                               ...               .   .\n",
       "HTAPP-944-SMP-7479-TST-channel2_ACTTCCGTCTCTGACC-1      -0.1656401   .\n",
       "HTAPP-944-SMP-7479-TST-channel2_GATCCCTAGGTAGCAC-1      -0.1656401   .\n",
       "HTAPP-944-SMP-7479-TST-channel2_AGGAATAAGGAAGTAG-1      -0.1656401   .\n",
       "HTAPP-944-SMP-7479-TST-channel2_TCCAGAAAGAGCATCG-1      -0.1656401   .\n",
       "HTAPP-944-SMP-7479-TST-channel2_ATTGTTCAGCTCCGAC-1      -0.1656401   .\n",
       "                                                   ENSG00000271254\n",
       "HTAPP-944-SMP-7479-TST-channel1_ACCTACCGTTCCTAAG-1     -0.09222194\n",
       "HTAPP-944-SMP-7479-TST-channel1_CATGCCTAGAGCCCAA-1     -0.09222194\n",
       "HTAPP-944-SMP-7479-TST-channel1_ATTTCTGTCGCCAATA-1     -0.09222194\n",
       "HTAPP-944-SMP-7479-TST-channel1_TTGAGTGTCTAGACCA-1     -0.09222194\n",
       "HTAPP-944-SMP-7479-TST-channel1_AGACACTGTCTCGACG-1     -0.09222194\n",
       "                                               ...               .\n",
       "HTAPP-944-SMP-7479-TST-channel2_ACTTCCGTCTCTGACC-1     -0.09222194\n",
       "HTAPP-944-SMP-7479-TST-channel2_GATCCCTAGGTAGCAC-1     -0.09222194\n",
       "HTAPP-944-SMP-7479-TST-channel2_AGGAATAAGGAAGTAG-1     -0.09222194\n",
       "HTAPP-944-SMP-7479-TST-channel2_TCCAGAAAGAGCATCG-1     -0.09222194\n",
       "HTAPP-944-SMP-7479-TST-channel2_ATTGTTCAGCTCCGAC-1     -0.09222194"
      ]
     },
     "metadata": {},
     "output_type": "display_data"
    },
    {
     "data": {
      "text/html": [
       "'c1;scType;axilla_10k;malignant cell'"
      ],
      "text/latex": [
       "'c1;scType;axilla\\_10k;malignant cell'"
      ],
      "text/markdown": [
       "'c1;scType;axilla_10k;malignant cell'"
      ],
      "text/plain": [
       "[1] \"c1;scType;axilla_10k;malignant cell\""
      ]
     },
     "metadata": {},
     "output_type": "display_data"
    },
    {
     "data": {
      "text/html": [
       "'c1;scType;axilla_10k;malignant cell'"
      ],
      "text/latex": [
       "'c1;scType;axilla\\_10k;malignant cell'"
      ],
      "text/markdown": [
       "'c1;scType;axilla_10k;malignant cell'"
      ],
      "text/plain": [
       "[1] \"c1;scType;axilla_10k;malignant cell\""
      ]
     },
     "metadata": {},
     "output_type": "display_data"
    },
    {
     "name": "stderr",
     "output_type": "stream",
     "text": [
      "axilla_10k\n",
      "\n",
      "scType\n",
      "\n"
     ]
    },
    {
     "data": {
      "text/html": [
       "'scType'"
      ],
      "text/latex": [
       "'scType'"
      ],
      "text/markdown": [
       "'scType'"
      ],
      "text/plain": [
       "[1] \"scType\""
      ]
     },
     "metadata": {},
     "output_type": "display_data"
    },
    {
     "data": {
      "text/html": [
       "'data.frame'"
      ],
      "text/latex": [
       "'data.frame'"
      ],
      "text/markdown": [
       "'data.frame'"
      ],
      "text/plain": [
       "[1] \"data.frame\""
      ]
     },
     "metadata": {},
     "output_type": "display_data"
    },
    {
     "name": "stderr",
     "output_type": "stream",
     "text": [
      "malignant cell\n",
      "\n"
     ]
    },
    {
     "data": {
      "text/plain": [
       "<5312 x 25345> DelayedMatrix object of type \"double\":\n",
       "                                                   ENSG00000238009 ...\n",
       "HTAPP-878-SMP-7149-TST-channel1_GATGTTGCAAACGTGG-1      -0.2027578   .\n",
       "HTAPP-878-SMP-7149-TST-channel1_CTTTCAAGTAGGTACG-1      -0.2027578   .\n",
       "HTAPP-878-SMP-7149-TST-channel1_CACCGTTGTTCTGACA-1      -0.2027578   .\n",
       "HTAPP-878-SMP-7149-TST-channel1_GAGTTTGCACAACGTT-1       1.5589332   .\n",
       "HTAPP-878-SMP-7149-TST-channel1_GATGACTTCTTTGCTA-1      -0.2027578   .\n",
       "                                               ...               .   .\n",
       "HTAPP-878-SMP-7149-TST-channel2_GCGATCGGTACTCGCG-1      -0.2027578   .\n",
       "HTAPP-878-SMP-7149-TST-channel2_TCACGGGCAGCTTTCC-1      -0.2027578   .\n",
       "HTAPP-878-SMP-7149-TST-channel2_CTCCACAGTGTCATTG-1      -0.2027578   .\n",
       "HTAPP-878-SMP-7149-TST-channel2_CATGAGTAGCTAAATG-1      -0.2027578   .\n",
       "HTAPP-878-SMP-7149-TST-channel2_GGTTCTCGTGGCTCTG-1      -0.2027578   .\n",
       "                                                   ENSG00000271254\n",
       "HTAPP-878-SMP-7149-TST-channel1_GATGTTGCAAACGTGG-1      -0.1079948\n",
       "HTAPP-878-SMP-7149-TST-channel1_CTTTCAAGTAGGTACG-1      -0.1079948\n",
       "HTAPP-878-SMP-7149-TST-channel1_CACCGTTGTTCTGACA-1      -0.1079948\n",
       "HTAPP-878-SMP-7149-TST-channel1_GAGTTTGCACAACGTT-1      -0.1079948\n",
       "HTAPP-878-SMP-7149-TST-channel1_GATGACTTCTTTGCTA-1      -0.1079948\n",
       "                                               ...               .\n",
       "HTAPP-878-SMP-7149-TST-channel2_GCGATCGGTACTCGCG-1      -0.1079948\n",
       "HTAPP-878-SMP-7149-TST-channel2_TCACGGGCAGCTTTCC-1      -0.1079948\n",
       "HTAPP-878-SMP-7149-TST-channel2_CTCCACAGTGTCATTG-1      -0.1079948\n",
       "HTAPP-878-SMP-7149-TST-channel2_CATGAGTAGCTAAATG-1      -0.1079948\n",
       "HTAPP-878-SMP-7149-TST-channel2_GGTTCTCGTGGCTCTG-1      -0.1079948"
      ]
     },
     "metadata": {},
     "output_type": "display_data"
    },
    {
     "data": {
      "text/html": [
       "'c1;scType;axilla_10k;blood vessel endothelial cell'"
      ],
      "text/latex": [
       "'c1;scType;axilla\\_10k;blood vessel endothelial cell'"
      ],
      "text/markdown": [
       "'c1;scType;axilla_10k;blood vessel endothelial cell'"
      ],
      "text/plain": [
       "[1] \"c1;scType;axilla_10k;blood vessel endothelial cell\""
      ]
     },
     "metadata": {},
     "output_type": "display_data"
    },
    {
     "data": {
      "text/html": [
       "'c1;scType;axilla_10k;blood vessel endothelial cell'"
      ],
      "text/latex": [
       "'c1;scType;axilla\\_10k;blood vessel endothelial cell'"
      ],
      "text/markdown": [
       "'c1;scType;axilla_10k;blood vessel endothelial cell'"
      ],
      "text/plain": [
       "[1] \"c1;scType;axilla_10k;blood vessel endothelial cell\""
      ]
     },
     "metadata": {},
     "output_type": "display_data"
    },
    {
     "name": "stderr",
     "output_type": "stream",
     "text": [
      "axilla_10k\n",
      "\n",
      "scType\n",
      "\n"
     ]
    },
    {
     "data": {
      "text/html": [
       "'scType'"
      ],
      "text/latex": [
       "'scType'"
      ],
      "text/markdown": [
       "'scType'"
      ],
      "text/plain": [
       "[1] \"scType\""
      ]
     },
     "metadata": {},
     "output_type": "display_data"
    },
    {
     "data": {
      "text/html": [
       "'data.frame'"
      ],
      "text/latex": [
       "'data.frame'"
      ],
      "text/markdown": [
       "'data.frame'"
      ],
      "text/plain": [
       "[1] \"data.frame\""
      ]
     },
     "metadata": {},
     "output_type": "display_data"
    },
    {
     "name": "stderr",
     "output_type": "stream",
     "text": [
      "blood vessel endothelial cell\n",
      "\n"
     ]
    },
    {
     "data": {
      "text/plain": [
       "<5312 x 25345> DelayedMatrix object of type \"double\":\n",
       "                                                   ENSG00000238009 ...\n",
       "HTAPP-878-SMP-7149-TST-channel1_GATGTTGCAAACGTGG-1      -0.2027578   .\n",
       "HTAPP-878-SMP-7149-TST-channel1_CTTTCAAGTAGGTACG-1      -0.2027578   .\n",
       "HTAPP-878-SMP-7149-TST-channel1_CACCGTTGTTCTGACA-1      -0.2027578   .\n",
       "HTAPP-878-SMP-7149-TST-channel1_GAGTTTGCACAACGTT-1       1.5589332   .\n",
       "HTAPP-878-SMP-7149-TST-channel1_GATGACTTCTTTGCTA-1      -0.2027578   .\n",
       "                                               ...               .   .\n",
       "HTAPP-878-SMP-7149-TST-channel2_GCGATCGGTACTCGCG-1      -0.2027578   .\n",
       "HTAPP-878-SMP-7149-TST-channel2_TCACGGGCAGCTTTCC-1      -0.2027578   .\n",
       "HTAPP-878-SMP-7149-TST-channel2_CTCCACAGTGTCATTG-1      -0.2027578   .\n",
       "HTAPP-878-SMP-7149-TST-channel2_CATGAGTAGCTAAATG-1      -0.2027578   .\n",
       "HTAPP-878-SMP-7149-TST-channel2_GGTTCTCGTGGCTCTG-1      -0.2027578   .\n",
       "                                                   ENSG00000271254\n",
       "HTAPP-878-SMP-7149-TST-channel1_GATGTTGCAAACGTGG-1      -0.1079948\n",
       "HTAPP-878-SMP-7149-TST-channel1_CTTTCAAGTAGGTACG-1      -0.1079948\n",
       "HTAPP-878-SMP-7149-TST-channel1_CACCGTTGTTCTGACA-1      -0.1079948\n",
       "HTAPP-878-SMP-7149-TST-channel1_GAGTTTGCACAACGTT-1      -0.1079948\n",
       "HTAPP-878-SMP-7149-TST-channel1_GATGACTTCTTTGCTA-1      -0.1079948\n",
       "                                               ...               .\n",
       "HTAPP-878-SMP-7149-TST-channel2_GCGATCGGTACTCGCG-1      -0.1079948\n",
       "HTAPP-878-SMP-7149-TST-channel2_TCACGGGCAGCTTTCC-1      -0.1079948\n",
       "HTAPP-878-SMP-7149-TST-channel2_CTCCACAGTGTCATTG-1      -0.1079948\n",
       "HTAPP-878-SMP-7149-TST-channel2_CATGAGTAGCTAAATG-1      -0.1079948\n",
       "HTAPP-878-SMP-7149-TST-channel2_GGTTCTCGTGGCTCTG-1      -0.1079948"
      ]
     },
     "metadata": {},
     "output_type": "display_data"
    },
    {
     "data": {
      "text/html": [
       "'c1;scType;axilla_10k;fibroblast'"
      ],
      "text/latex": [
       "'c1;scType;axilla\\_10k;fibroblast'"
      ],
      "text/markdown": [
       "'c1;scType;axilla_10k;fibroblast'"
      ],
      "text/plain": [
       "[1] \"c1;scType;axilla_10k;fibroblast\""
      ]
     },
     "metadata": {},
     "output_type": "display_data"
    },
    {
     "data": {
      "text/html": [
       "'c1;scType;axilla_10k;fibroblast'"
      ],
      "text/latex": [
       "'c1;scType;axilla\\_10k;fibroblast'"
      ],
      "text/markdown": [
       "'c1;scType;axilla_10k;fibroblast'"
      ],
      "text/plain": [
       "[1] \"c1;scType;axilla_10k;fibroblast\""
      ]
     },
     "metadata": {},
     "output_type": "display_data"
    },
    {
     "name": "stderr",
     "output_type": "stream",
     "text": [
      "axilla_10k\n",
      "\n",
      "scType\n",
      "\n"
     ]
    },
    {
     "data": {
      "text/html": [
       "'scType'"
      ],
      "text/latex": [
       "'scType'"
      ],
      "text/markdown": [
       "'scType'"
      ],
      "text/plain": [
       "[1] \"scType\""
      ]
     },
     "metadata": {},
     "output_type": "display_data"
    },
    {
     "data": {
      "text/html": [
       "'data.frame'"
      ],
      "text/latex": [
       "'data.frame'"
      ],
      "text/markdown": [
       "'data.frame'"
      ],
      "text/plain": [
       "[1] \"data.frame\""
      ]
     },
     "metadata": {},
     "output_type": "display_data"
    },
    {
     "name": "stderr",
     "output_type": "stream",
     "text": [
      "fibroblast\n",
      "\n"
     ]
    },
    {
     "data": {
      "text/plain": [
       "<5312 x 25345> DelayedMatrix object of type \"double\":\n",
       "                                                   ENSG00000238009 ...\n",
       "HTAPP-878-SMP-7149-TST-channel1_GATGTTGCAAACGTGG-1      -0.2027578   .\n",
       "HTAPP-878-SMP-7149-TST-channel1_CTTTCAAGTAGGTACG-1      -0.2027578   .\n",
       "HTAPP-878-SMP-7149-TST-channel1_CACCGTTGTTCTGACA-1      -0.2027578   .\n",
       "HTAPP-878-SMP-7149-TST-channel1_GAGTTTGCACAACGTT-1       1.5589332   .\n",
       "HTAPP-878-SMP-7149-TST-channel1_GATGACTTCTTTGCTA-1      -0.2027578   .\n",
       "                                               ...               .   .\n",
       "HTAPP-878-SMP-7149-TST-channel2_GCGATCGGTACTCGCG-1      -0.2027578   .\n",
       "HTAPP-878-SMP-7149-TST-channel2_TCACGGGCAGCTTTCC-1      -0.2027578   .\n",
       "HTAPP-878-SMP-7149-TST-channel2_CTCCACAGTGTCATTG-1      -0.2027578   .\n",
       "HTAPP-878-SMP-7149-TST-channel2_CATGAGTAGCTAAATG-1      -0.2027578   .\n",
       "HTAPP-878-SMP-7149-TST-channel2_GGTTCTCGTGGCTCTG-1      -0.2027578   .\n",
       "                                                   ENSG00000271254\n",
       "HTAPP-878-SMP-7149-TST-channel1_GATGTTGCAAACGTGG-1      -0.1079948\n",
       "HTAPP-878-SMP-7149-TST-channel1_CTTTCAAGTAGGTACG-1      -0.1079948\n",
       "HTAPP-878-SMP-7149-TST-channel1_CACCGTTGTTCTGACA-1      -0.1079948\n",
       "HTAPP-878-SMP-7149-TST-channel1_GAGTTTGCACAACGTT-1      -0.1079948\n",
       "HTAPP-878-SMP-7149-TST-channel1_GATGACTTCTTTGCTA-1      -0.1079948\n",
       "                                               ...               .\n",
       "HTAPP-878-SMP-7149-TST-channel2_GCGATCGGTACTCGCG-1      -0.1079948\n",
       "HTAPP-878-SMP-7149-TST-channel2_TCACGGGCAGCTTTCC-1      -0.1079948\n",
       "HTAPP-878-SMP-7149-TST-channel2_CTCCACAGTGTCATTG-1      -0.1079948\n",
       "HTAPP-878-SMP-7149-TST-channel2_CATGAGTAGCTAAATG-1      -0.1079948\n",
       "HTAPP-878-SMP-7149-TST-channel2_GGTTCTCGTGGCTCTG-1      -0.1079948"
      ]
     },
     "metadata": {},
     "output_type": "display_data"
    },
    {
     "data": {
      "text/html": [
       "'c1;scType;axilla_10k;macrophage'"
      ],
      "text/latex": [
       "'c1;scType;axilla\\_10k;macrophage'"
      ],
      "text/markdown": [
       "'c1;scType;axilla_10k;macrophage'"
      ],
      "text/plain": [
       "[1] \"c1;scType;axilla_10k;macrophage\""
      ]
     },
     "metadata": {},
     "output_type": "display_data"
    },
    {
     "data": {
      "text/html": [
       "'c1;scType;axilla_10k;macrophage'"
      ],
      "text/latex": [
       "'c1;scType;axilla\\_10k;macrophage'"
      ],
      "text/markdown": [
       "'c1;scType;axilla_10k;macrophage'"
      ],
      "text/plain": [
       "[1] \"c1;scType;axilla_10k;macrophage\""
      ]
     },
     "metadata": {},
     "output_type": "display_data"
    },
    {
     "name": "stderr",
     "output_type": "stream",
     "text": [
      "axilla_10k\n",
      "\n",
      "scType\n",
      "\n"
     ]
    },
    {
     "data": {
      "text/html": [
       "'scType'"
      ],
      "text/latex": [
       "'scType'"
      ],
      "text/markdown": [
       "'scType'"
      ],
      "text/plain": [
       "[1] \"scType\""
      ]
     },
     "metadata": {},
     "output_type": "display_data"
    },
    {
     "data": {
      "text/html": [
       "'data.frame'"
      ],
      "text/latex": [
       "'data.frame'"
      ],
      "text/markdown": [
       "'data.frame'"
      ],
      "text/plain": [
       "[1] \"data.frame\""
      ]
     },
     "metadata": {},
     "output_type": "display_data"
    },
    {
     "name": "stderr",
     "output_type": "stream",
     "text": [
      "macrophage\n",
      "\n"
     ]
    },
    {
     "data": {
      "text/plain": [
       "<5312 x 25345> DelayedMatrix object of type \"double\":\n",
       "                                                   ENSG00000238009 ...\n",
       "HTAPP-878-SMP-7149-TST-channel1_GATGTTGCAAACGTGG-1      -0.2027578   .\n",
       "HTAPP-878-SMP-7149-TST-channel1_CTTTCAAGTAGGTACG-1      -0.2027578   .\n",
       "HTAPP-878-SMP-7149-TST-channel1_CACCGTTGTTCTGACA-1      -0.2027578   .\n",
       "HTAPP-878-SMP-7149-TST-channel1_GAGTTTGCACAACGTT-1       1.5589332   .\n",
       "HTAPP-878-SMP-7149-TST-channel1_GATGACTTCTTTGCTA-1      -0.2027578   .\n",
       "                                               ...               .   .\n",
       "HTAPP-878-SMP-7149-TST-channel2_GCGATCGGTACTCGCG-1      -0.2027578   .\n",
       "HTAPP-878-SMP-7149-TST-channel2_TCACGGGCAGCTTTCC-1      -0.2027578   .\n",
       "HTAPP-878-SMP-7149-TST-channel2_CTCCACAGTGTCATTG-1      -0.2027578   .\n",
       "HTAPP-878-SMP-7149-TST-channel2_CATGAGTAGCTAAATG-1      -0.2027578   .\n",
       "HTAPP-878-SMP-7149-TST-channel2_GGTTCTCGTGGCTCTG-1      -0.2027578   .\n",
       "                                                   ENSG00000271254\n",
       "HTAPP-878-SMP-7149-TST-channel1_GATGTTGCAAACGTGG-1      -0.1079948\n",
       "HTAPP-878-SMP-7149-TST-channel1_CTTTCAAGTAGGTACG-1      -0.1079948\n",
       "HTAPP-878-SMP-7149-TST-channel1_CACCGTTGTTCTGACA-1      -0.1079948\n",
       "HTAPP-878-SMP-7149-TST-channel1_GAGTTTGCACAACGTT-1      -0.1079948\n",
       "HTAPP-878-SMP-7149-TST-channel1_GATGACTTCTTTGCTA-1      -0.1079948\n",
       "                                               ...               .\n",
       "HTAPP-878-SMP-7149-TST-channel2_GCGATCGGTACTCGCG-1      -0.1079948\n",
       "HTAPP-878-SMP-7149-TST-channel2_TCACGGGCAGCTTTCC-1      -0.1079948\n",
       "HTAPP-878-SMP-7149-TST-channel2_CTCCACAGTGTCATTG-1      -0.1079948\n",
       "HTAPP-878-SMP-7149-TST-channel2_CATGAGTAGCTAAATG-1      -0.1079948\n",
       "HTAPP-878-SMP-7149-TST-channel2_GGTTCTCGTGGCTCTG-1      -0.1079948"
      ]
     },
     "metadata": {},
     "output_type": "display_data"
    },
    {
     "data": {
      "text/html": [
       "'c1;scType;axilla_10k;blood vessel smooth muscle cell'"
      ],
      "text/latex": [
       "'c1;scType;axilla\\_10k;blood vessel smooth muscle cell'"
      ],
      "text/markdown": [
       "'c1;scType;axilla_10k;blood vessel smooth muscle cell'"
      ],
      "text/plain": [
       "[1] \"c1;scType;axilla_10k;blood vessel smooth muscle cell\""
      ]
     },
     "metadata": {},
     "output_type": "display_data"
    },
    {
     "data": {
      "text/html": [
       "'c1;scType;axilla_10k;blood vessel smooth muscle cell'"
      ],
      "text/latex": [
       "'c1;scType;axilla\\_10k;blood vessel smooth muscle cell'"
      ],
      "text/markdown": [
       "'c1;scType;axilla_10k;blood vessel smooth muscle cell'"
      ],
      "text/plain": [
       "[1] \"c1;scType;axilla_10k;blood vessel smooth muscle cell\""
      ]
     },
     "metadata": {},
     "output_type": "display_data"
    },
    {
     "name": "stderr",
     "output_type": "stream",
     "text": [
      "axilla_10k\n",
      "\n",
      "scType\n",
      "\n"
     ]
    },
    {
     "data": {
      "text/html": [
       "'scType'"
      ],
      "text/latex": [
       "'scType'"
      ],
      "text/markdown": [
       "'scType'"
      ],
      "text/plain": [
       "[1] \"scType\""
      ]
     },
     "metadata": {},
     "output_type": "display_data"
    },
    {
     "data": {
      "text/html": [
       "'data.frame'"
      ],
      "text/latex": [
       "'data.frame'"
      ],
      "text/markdown": [
       "'data.frame'"
      ],
      "text/plain": [
       "[1] \"data.frame\""
      ]
     },
     "metadata": {},
     "output_type": "display_data"
    },
    {
     "name": "stderr",
     "output_type": "stream",
     "text": [
      "blood vessel smooth muscle cell\n",
      "\n"
     ]
    },
    {
     "data": {
      "text/plain": [
       "<5312 x 25345> DelayedMatrix object of type \"double\":\n",
       "                                                   ENSG00000238009 ...\n",
       "HTAPP-878-SMP-7149-TST-channel1_GATGTTGCAAACGTGG-1      -0.2027578   .\n",
       "HTAPP-878-SMP-7149-TST-channel1_CTTTCAAGTAGGTACG-1      -0.2027578   .\n",
       "HTAPP-878-SMP-7149-TST-channel1_CACCGTTGTTCTGACA-1      -0.2027578   .\n",
       "HTAPP-878-SMP-7149-TST-channel1_GAGTTTGCACAACGTT-1       1.5589332   .\n",
       "HTAPP-878-SMP-7149-TST-channel1_GATGACTTCTTTGCTA-1      -0.2027578   .\n",
       "                                               ...               .   .\n",
       "HTAPP-878-SMP-7149-TST-channel2_GCGATCGGTACTCGCG-1      -0.2027578   .\n",
       "HTAPP-878-SMP-7149-TST-channel2_TCACGGGCAGCTTTCC-1      -0.2027578   .\n",
       "HTAPP-878-SMP-7149-TST-channel2_CTCCACAGTGTCATTG-1      -0.2027578   .\n",
       "HTAPP-878-SMP-7149-TST-channel2_CATGAGTAGCTAAATG-1      -0.2027578   .\n",
       "HTAPP-878-SMP-7149-TST-channel2_GGTTCTCGTGGCTCTG-1      -0.2027578   .\n",
       "                                                   ENSG00000271254\n",
       "HTAPP-878-SMP-7149-TST-channel1_GATGTTGCAAACGTGG-1      -0.1079948\n",
       "HTAPP-878-SMP-7149-TST-channel1_CTTTCAAGTAGGTACG-1      -0.1079948\n",
       "HTAPP-878-SMP-7149-TST-channel1_CACCGTTGTTCTGACA-1      -0.1079948\n",
       "HTAPP-878-SMP-7149-TST-channel1_GAGTTTGCACAACGTT-1      -0.1079948\n",
       "HTAPP-878-SMP-7149-TST-channel1_GATGACTTCTTTGCTA-1      -0.1079948\n",
       "                                               ...               .\n",
       "HTAPP-878-SMP-7149-TST-channel2_GCGATCGGTACTCGCG-1      -0.1079948\n",
       "HTAPP-878-SMP-7149-TST-channel2_TCACGGGCAGCTTTCC-1      -0.1079948\n",
       "HTAPP-878-SMP-7149-TST-channel2_CTCCACAGTGTCATTG-1      -0.1079948\n",
       "HTAPP-878-SMP-7149-TST-channel2_CATGAGTAGCTAAATG-1      -0.1079948\n",
       "HTAPP-878-SMP-7149-TST-channel2_GGTTCTCGTGGCTCTG-1      -0.1079948"
      ]
     },
     "metadata": {},
     "output_type": "display_data"
    },
    {
     "data": {
      "text/html": [
       "'c1;scType;axilla_10k;T cell'"
      ],
      "text/latex": [
       "'c1;scType;axilla\\_10k;T cell'"
      ],
      "text/markdown": [
       "'c1;scType;axilla_10k;T cell'"
      ],
      "text/plain": [
       "[1] \"c1;scType;axilla_10k;T cell\""
      ]
     },
     "metadata": {},
     "output_type": "display_data"
    },
    {
     "data": {
      "text/html": [
       "'c1;scType;axilla_10k;T cell'"
      ],
      "text/latex": [
       "'c1;scType;axilla\\_10k;T cell'"
      ],
      "text/markdown": [
       "'c1;scType;axilla_10k;T cell'"
      ],
      "text/plain": [
       "[1] \"c1;scType;axilla_10k;T cell\""
      ]
     },
     "metadata": {},
     "output_type": "display_data"
    },
    {
     "name": "stderr",
     "output_type": "stream",
     "text": [
      "axilla_10k\n",
      "\n",
      "scType\n",
      "\n"
     ]
    },
    {
     "data": {
      "text/html": [
       "'scType'"
      ],
      "text/latex": [
       "'scType'"
      ],
      "text/markdown": [
       "'scType'"
      ],
      "text/plain": [
       "[1] \"scType\""
      ]
     },
     "metadata": {},
     "output_type": "display_data"
    },
    {
     "data": {
      "text/html": [
       "'data.frame'"
      ],
      "text/latex": [
       "'data.frame'"
      ],
      "text/markdown": [
       "'data.frame'"
      ],
      "text/plain": [
       "[1] \"data.frame\""
      ]
     },
     "metadata": {},
     "output_type": "display_data"
    },
    {
     "name": "stderr",
     "output_type": "stream",
     "text": [
      "T cell\n",
      "\n"
     ]
    },
    {
     "data": {
      "text/plain": [
       "<5312 x 25345> DelayedMatrix object of type \"double\":\n",
       "                                                   ENSG00000238009 ...\n",
       "HTAPP-878-SMP-7149-TST-channel1_GATGTTGCAAACGTGG-1      -0.2027578   .\n",
       "HTAPP-878-SMP-7149-TST-channel1_CTTTCAAGTAGGTACG-1      -0.2027578   .\n",
       "HTAPP-878-SMP-7149-TST-channel1_CACCGTTGTTCTGACA-1      -0.2027578   .\n",
       "HTAPP-878-SMP-7149-TST-channel1_GAGTTTGCACAACGTT-1       1.5589332   .\n",
       "HTAPP-878-SMP-7149-TST-channel1_GATGACTTCTTTGCTA-1      -0.2027578   .\n",
       "                                               ...               .   .\n",
       "HTAPP-878-SMP-7149-TST-channel2_GCGATCGGTACTCGCG-1      -0.2027578   .\n",
       "HTAPP-878-SMP-7149-TST-channel2_TCACGGGCAGCTTTCC-1      -0.2027578   .\n",
       "HTAPP-878-SMP-7149-TST-channel2_CTCCACAGTGTCATTG-1      -0.2027578   .\n",
       "HTAPP-878-SMP-7149-TST-channel2_CATGAGTAGCTAAATG-1      -0.2027578   .\n",
       "HTAPP-878-SMP-7149-TST-channel2_GGTTCTCGTGGCTCTG-1      -0.2027578   .\n",
       "                                                   ENSG00000271254\n",
       "HTAPP-878-SMP-7149-TST-channel1_GATGTTGCAAACGTGG-1      -0.1079948\n",
       "HTAPP-878-SMP-7149-TST-channel1_CTTTCAAGTAGGTACG-1      -0.1079948\n",
       "HTAPP-878-SMP-7149-TST-channel1_CACCGTTGTTCTGACA-1      -0.1079948\n",
       "HTAPP-878-SMP-7149-TST-channel1_GAGTTTGCACAACGTT-1      -0.1079948\n",
       "HTAPP-878-SMP-7149-TST-channel1_GATGACTTCTTTGCTA-1      -0.1079948\n",
       "                                               ...               .\n",
       "HTAPP-878-SMP-7149-TST-channel2_GCGATCGGTACTCGCG-1      -0.1079948\n",
       "HTAPP-878-SMP-7149-TST-channel2_TCACGGGCAGCTTTCC-1      -0.1079948\n",
       "HTAPP-878-SMP-7149-TST-channel2_CTCCACAGTGTCATTG-1      -0.1079948\n",
       "HTAPP-878-SMP-7149-TST-channel2_CATGAGTAGCTAAATG-1      -0.1079948\n",
       "HTAPP-878-SMP-7149-TST-channel2_GGTTCTCGTGGCTCTG-1      -0.1079948"
      ]
     },
     "metadata": {},
     "output_type": "display_data"
    }
   ],
   "source": [
    "only_myComp_ids <- grep(paste0(\"^\",my_computer), c_ids2run, value=T)\n",
    "for (str_id in only_myComp_ids){\n",
    "    display(str_id)\n",
    "    a_a = unlist(strsplit(str_id, \";\"))\n",
    "#     my_comp <- a_a[1]\n",
    "\n",
    "    baseClass <- a_a[2]\n",
    "    basen <- a_a[3]\n",
    "    myCluster <- a_a[4]\n",
    "    \n",
    "    if (!str_id %in% rownames(df_times)){\n",
    "        df_times[str_id,] = -1\n",
    "    }\n",
    "    if (nchar(as.character(df_times[str_id,\"run_time\"])) == 2){\n",
    "        display(str_id)\n",
    "# for (a_a in c_atts){\n",
    "#     basen = a_a[1]\n",
    "#     baseClass = a_a[2]\n",
    "#     modif = a_a[3]\n",
    "#     myCluster = a_a[4]\n",
    "# for (basen in c_b2){\n",
    "        message(basen)\n",
    "        my_path <- paste0(bd, \"v5/data/sc/hgnc_\", basen, \"_test.txt\")\n",
    "        my_path <- c_paths[[basen]]$df\n",
    "        if (!file.exists(my_path)){\n",
    "            message(my_path, \" not available\")\n",
    "            next\n",
    "        }\n",
    "        df_pbmc_test <- read.table(my_path)\n",
    "        expr_df <- df_pbmc_test[, -which(names(df_pbmc_test) == \"y\")]\n",
    "        clusters_df <- df_pbmc_test$y\n",
    "        names(clusters_df) <- rownames(df_pbmc_test)\n",
    "\n",
    "#         sign_path <- paste0(paste0(bd, \"v5/data/sign/sign_\", basen, \".txt\"))\n",
    "#         if (!file.exists(sign_path)){\n",
    "#             message(sign_path, \" not available, computing getSignGenes\")\n",
    "#             dfSG <- getSignGenes(expr_df, clusters_df, verbose=T)\n",
    "#             write.table(dfSG$results, sign_path)\n",
    "#         }\n",
    "#         mySignGenes <- read.table(sign_path)\n",
    "\n",
    "        message(baseClass)\n",
    "        strClassifier <- paste0(baseClass, \"_\", basen)\n",
    "        if ( baseClass == \"scType\" || basen==\"pbmc_3k\"){\n",
    "            strClassifier <- baseClass\n",
    "        }\n",
    "        display(strClassifier)\n",
    "        myClassifier <- classifList[[strClassifier]]$fct\n",
    "        inputType <- classifList[[strClassifier]]$inputType\n",
    "\n",
    "        display(inputType)\n",
    "        mySlot <- classifList[[strClassifier]]$slot\n",
    "        expr <- \"\"\n",
    "\n",
    "        if(inputType == \"data.frame\"){\n",
    "            expr <- expr_df\n",
    "            clusters <- clusters_df\n",
    "        }\n",
    "        if(tolower(inputType) == \"seurat\"){\n",
    "            my_path <- paste0(bd, \"v5/data/sc/hgnc_\", basen, \"_test.rds\")\n",
    "            my_path <- c_paths[[basen]]$so\n",
    "            if (!file.exists(my_path)){\n",
    "                message(my_path, \" not available\")\n",
    "                break\n",
    "            }\n",
    "            so_pbmc_test <- readRDS(my_path)\n",
    "\n",
    "            clusters_so = so_pbmc_test@meta.data$chr_seurat_cluster\n",
    "            names(clusters_so) <- rownames(so_pbmc_test@meta.data)\n",
    "\n",
    "            expr <- so_pbmc_test\n",
    "            clusters <- clusters_so\n",
    "        }\n",
    "        if (tolower(inputType) == \"singlecellexperiment\"){\n",
    "            my_path1 <- paste0(bd, \"v5/data/sc/hgnc_\",basen,\"_test.rds\")\n",
    "            my_path1 <- c_paths[[basen]]$so\n",
    "            my_path2 <- paste0(bd, \"v5/data/sc/sce_hgnc_\",basen,\"_test.rds\")\n",
    "            my_path2 <- c_paths[[basen]]$sce\n",
    "            if (!file.exists(my_path1) || !file.exists(my_path2)){\n",
    "                message(my_path1, \" or \", my_path2,\" not available\")\n",
    "                break\n",
    "            }\n",
    "            so_pbmc_test <- readRDS(my_path1)\n",
    "            clusters_so = so_pbmc_test@meta.data$chr_seurat_cluster\n",
    "            names(clusters_so) <- rownames(so_pbmc_test@meta.data)\n",
    "\n",
    "            sce_pbmc_test <- readRDS(my_path2)\n",
    "            clusters_sce = so_pbmc_test@meta.data$chr_seurat_cluster\n",
    "            names(clusters_sce) <- rownames(so_pbmc_test@meta.data)\n",
    "\n",
    "            expr <- sce_pbmc_test\n",
    "            clusters <- clusters_sce\n",
    "        }\n",
    "        message(myCluster)\n",
    "        my_clusters = as.character(unname(clusters))\n",
    "        if ( inputType == \"SingleCellExperiment\"){\n",
    "            my_clusters = as.character(expr@colData$chr_seurat_cluster)\n",
    "        }\n",
    "        \n",
    "        t1 <- Sys.time()\n",
    "        class_res <- advModifications(expr, \"GAPDH\", my_clusters, myCluster)\n",
    "        display(class_res)\n",
    "        new_time <- difftime(Sys.time(), t1, units = \"secs\")\n",
    "        df_times <- readRDS(\"data//v5/df_modif_times.rds\")\n",
    "        df_times[str_id, \"run_time\"] <- new_time\n",
    "        saveRDS(df_times, \"data//v5/df_modif_times.rds\")\n",
    "    } else {\n",
    "        display(paste(str_id, \" already done\"))\n",
    "    }\n",
    "}\n"
   ]
  },
  {
   "cell_type": "code",
   "execution_count": 19,
   "id": "945267ce",
   "metadata": {},
   "outputs": [
    {
     "data": {
      "text/html": [
       "<table class=\"dataframe\">\n",
       "<caption>A data.frame: 56 × 6</caption>\n",
       "<thead>\n",
       "\t<tr><th></th><th scope=col>modifs</th><th scope=col>classifier</th><th scope=col>ct</th><th scope=col>ds</th><th scope=col>run_time</th><th scope=col>misc</th></tr>\n",
       "\t<tr><th></th><th scope=col>&lt;dbl&gt;</th><th scope=col>&lt;dbl&gt;</th><th scope=col>&lt;dbl&gt;</th><th scope=col>&lt;dbl&gt;</th><th scope=col>&lt;dbl&gt;</th><th scope=col>&lt;dbl&gt;</th></tr>\n",
       "</thead>\n",
       "<tbody>\n",
       "\t<tr><th scope=row>1</th><td>-1</td><td>-1</td><td>-1</td><td>-1</td><td>-1.0000000</td><td>-1</td></tr>\n",
       "\t<tr><th scope=row>2</th><td>-1</td><td>-1</td><td>-1</td><td>-1</td><td>-1.0000000</td><td>-1</td></tr>\n",
       "\t<tr><th scope=row>c1;scType;pbmc_3k;Memory CD4 T</th><td>-1</td><td>-1</td><td>-1</td><td>-1</td><td> 3.8227537</td><td>-1</td></tr>\n",
       "\t<tr><th scope=row>c1;scType;pbmc_3k;B</th><td>-1</td><td>-1</td><td>-1</td><td>-1</td><td> 0.5913293</td><td>-1</td></tr>\n",
       "\t<tr><th scope=row>c1;scType;pbmc_3k;CD14+ Mono</th><td>-1</td><td>-1</td><td>-1</td><td>-1</td><td> 0.4780073</td><td>-1</td></tr>\n",
       "\t<tr><th scope=row>c1;scType;pbmc_3k;NK</th><td>-1</td><td>-1</td><td>-1</td><td>-1</td><td> 0.4705262</td><td>-1</td></tr>\n",
       "\t<tr><th scope=row>c1;scType;pbmc_3k;CD8 T</th><td>-1</td><td>-1</td><td>-1</td><td>-1</td><td> 0.4895785</td><td>-1</td></tr>\n",
       "\t<tr><th scope=row>c1;scType;pbmc_3k;Naive CD4 T</th><td>-1</td><td>-1</td><td>-1</td><td>-1</td><td> 0.4634564</td><td>-1</td></tr>\n",
       "\t<tr><th scope=row>c1;scType;pbmc_3k;FCGR3A+ Mono</th><td>-1</td><td>-1</td><td>-1</td><td>-1</td><td> 0.4660211</td><td>-1</td></tr>\n",
       "\t<tr><th scope=row>c1;scType;pbmc_3k;DC</th><td>-1</td><td>-1</td><td>-1</td><td>-1</td><td> 0.4775803</td><td>-1</td></tr>\n",
       "\t<tr><th scope=row>c1;scType;pbmc_3k;Platelet</th><td>-1</td><td>-1</td><td>-1</td><td>-1</td><td> 0.4697165</td><td>-1</td></tr>\n",
       "\t<tr><th scope=row>c1;scType;kidney_10k;kidney epithelial cell</th><td>-1</td><td>-1</td><td>-1</td><td>-1</td><td> 0.9931834</td><td>-1</td></tr>\n",
       "\t<tr><th scope=row>c1;scType;kidney_10k;kidney cell</th><td>-1</td><td>-1</td><td>-1</td><td>-1</td><td> 0.9710867</td><td>-1</td></tr>\n",
       "\t<tr><th scope=row>c1;scType;kidney_10k;podocyte</th><td>-1</td><td>-1</td><td>-1</td><td>-1</td><td> 0.9578941</td><td>-1</td></tr>\n",
       "\t<tr><th scope=row>c1;scType;kidney_10k;epithelial cell of proximal tubule</th><td>-1</td><td>-1</td><td>-1</td><td>-1</td><td> 2.1197126</td><td>-1</td></tr>\n",
       "\t<tr><th scope=row>c1;scType;kidney_10k;mesenchymal cell</th><td>-1</td><td>-1</td><td>-1</td><td>-1</td><td> 4.6424403</td><td>-1</td></tr>\n",
       "\t<tr><th scope=row>c1;scType;kidney_10k;kidney loop of Henle epithelial cell</th><td>-1</td><td>-1</td><td>-1</td><td>-1</td><td> 1.8280592</td><td>-1</td></tr>\n",
       "\t<tr><th scope=row>c1;scType;liver_10k;malignant cell</th><td>-1</td><td>-1</td><td>-1</td><td>-1</td><td> 0.7918675</td><td>-1</td></tr>\n",
       "\t<tr><th scope=row>c1;scType;liver_10k;endothelial cell</th><td>-1</td><td>-1</td><td>-1</td><td>-1</td><td> 0.7212138</td><td>-1</td></tr>\n",
       "\t<tr><th scope=row>c1;scType;liver_10k;blood vessel smooth muscle cell</th><td>-1</td><td>-1</td><td>-1</td><td>-1</td><td> 2.3856821</td><td>-1</td></tr>\n",
       "\t<tr><th scope=row>c1;scType;liver_10k;macrophage</th><td>-1</td><td>-1</td><td>-1</td><td>-1</td><td> 0.7617826</td><td>-1</td></tr>\n",
       "\t<tr><th scope=row>c1;scType;liver_10k;monocyte</th><td>-1</td><td>-1</td><td>-1</td><td>-1</td><td> 0.7520194</td><td>-1</td></tr>\n",
       "\t<tr><th scope=row>c1;scType;liver_10k;mature NK T cell</th><td>-1</td><td>-1</td><td>-1</td><td>-1</td><td> 0.7839687</td><td>-1</td></tr>\n",
       "\t<tr><th scope=row>c1;scType;axilla_10k;malignant cell</th><td>-1</td><td>-1</td><td>-1</td><td>-1</td><td> 0.7430904</td><td>-1</td></tr>\n",
       "\t<tr><th scope=row>c1;scType;axilla_10k;blood vessel endothelial cell</th><td>-1</td><td>-1</td><td>-1</td><td>-1</td><td> 0.7506957</td><td>-1</td></tr>\n",
       "\t<tr><th scope=row>c1;scType;axilla_10k;fibroblast</th><td>-1</td><td>-1</td><td>-1</td><td>-1</td><td> 0.7479694</td><td>-1</td></tr>\n",
       "\t<tr><th scope=row>c1;scType;axilla_10k;macrophage</th><td>-1</td><td>-1</td><td>-1</td><td>-1</td><td> 0.7706778</td><td>-1</td></tr>\n",
       "\t<tr><th scope=row>c1;scType;axilla_10k;blood vessel smooth muscle cell</th><td>-1</td><td>-1</td><td>-1</td><td>-1</td><td> 0.7516716</td><td>-1</td></tr>\n",
       "\t<tr><th scope=row>c1;scType;axilla_10k;T cell</th><td>-1</td><td>-1</td><td>-1</td><td>-1</td><td> 0.7506056</td><td>-1</td></tr>\n",
       "\t<tr><th scope=row>c2;scType;axilla_10k;T cell</th><td>-1</td><td>-1</td><td>-1</td><td>-1</td><td> 6.9075842</td><td>-1</td></tr>\n",
       "\t<tr><th scope=row>c2;scType;axilla_10k;blood vessel smooth muscle cell</th><td>-1</td><td>-1</td><td>-1</td><td>-1</td><td> 7.4472220</td><td>-1</td></tr>\n",
       "\t<tr><th scope=row>c2;scType;axilla_10k;macrophage</th><td>-1</td><td>-1</td><td>-1</td><td>-1</td><td> 4.3051889</td><td>-1</td></tr>\n",
       "\t<tr><th scope=row>c2;scType;axilla_10k;fibroblast</th><td>-1</td><td>-1</td><td>-1</td><td>-1</td><td>19.4733021</td><td>-1</td></tr>\n",
       "\t<tr><th scope=row>c2;scType;axilla_10k;blood vessel endothelial cell</th><td>-1</td><td>-1</td><td>-1</td><td>-1</td><td>11.1207747</td><td>-1</td></tr>\n",
       "\t<tr><th scope=row>c2;scType;axilla_10k;malignant cell</th><td>-1</td><td>-1</td><td>-1</td><td>-1</td><td>16.5087471</td><td>-1</td></tr>\n",
       "\t<tr><th scope=row>c2;scType;liver_10k;mature NK T cell</th><td>-1</td><td>-1</td><td>-1</td><td>-1</td><td> 8.0492675</td><td>-1</td></tr>\n",
       "\t<tr><th scope=row>c2;scType;liver_10k;monocyte</th><td>-1</td><td>-1</td><td>-1</td><td>-1</td><td> 2.1946607</td><td>-1</td></tr>\n",
       "\t<tr><th scope=row>c2;scType;liver_10k;macrophage</th><td>-1</td><td>-1</td><td>-1</td><td>-1</td><td> 8.5248697</td><td>-1</td></tr>\n",
       "\t<tr><th scope=row>c2;scType;liver_10k;blood vessel smooth muscle cell</th><td>-1</td><td>-1</td><td>-1</td><td>-1</td><td> 1.9420846</td><td>-1</td></tr>\n",
       "\t<tr><th scope=row>c2;scType;liver_10k;endothelial cell</th><td>-1</td><td>-1</td><td>-1</td><td>-1</td><td> 1.7951071</td><td>-1</td></tr>\n",
       "\t<tr><th scope=row>c2;scType;liver_10k;malignant cell</th><td>-1</td><td>-1</td><td>-1</td><td>-1</td><td> 2.2242737</td><td>-1</td></tr>\n",
       "\t<tr><th scope=row>c2;scType;kidney_10k;kidney loop of Henle epithelial cell</th><td>-1</td><td>-1</td><td>-1</td><td>-1</td><td> 5.9940536</td><td>-1</td></tr>\n",
       "\t<tr><th scope=row>c2;scType;kidney_10k;mesenchymal cell</th><td>-1</td><td>-1</td><td>-1</td><td>-1</td><td>12.9182546</td><td>-1</td></tr>\n",
       "\t<tr><th scope=row>c2;scType;kidney_10k;epithelial cell of proximal tubule</th><td>-1</td><td>-1</td><td>-1</td><td>-1</td><td> 2.7780950</td><td>-1</td></tr>\n",
       "\t<tr><th scope=row>c2;scType;kidney_10k;podocyte</th><td>-1</td><td>-1</td><td>-1</td><td>-1</td><td>13.1573253</td><td>-1</td></tr>\n",
       "\t<tr><th scope=row>c2;scType;kidney_10k;kidney cell</th><td>-1</td><td>-1</td><td>-1</td><td>-1</td><td> 8.3272038</td><td>-1</td></tr>\n",
       "\t<tr><th scope=row>c2;scType;kidney_10k;kidney epithelial cell</th><td>-1</td><td>-1</td><td>-1</td><td>-1</td><td>38.3660998</td><td>-1</td></tr>\n",
       "\t<tr><th scope=row>c2;scType;pbmc_3k;Platelet</th><td>-1</td><td>-1</td><td>-1</td><td>-1</td><td> 2.1972752</td><td>-1</td></tr>\n",
       "\t<tr><th scope=row>c2;scType;pbmc_3k;DC</th><td>-1</td><td>-1</td><td>-1</td><td>-1</td><td> 5.6388071</td><td>-1</td></tr>\n",
       "\t<tr><th scope=row>c2;scType;pbmc_3k;FCGR3A+ Mono</th><td>-1</td><td>-1</td><td>-1</td><td>-1</td><td> 1.1574850</td><td>-1</td></tr>\n",
       "\t<tr><th scope=row>c2;scType;pbmc_3k;Naive CD4 T</th><td>-1</td><td>-1</td><td>-1</td><td>-1</td><td> 0.8134842</td><td>-1</td></tr>\n",
       "\t<tr><th scope=row>c2;scType;pbmc_3k;CD8 T</th><td>-1</td><td>-1</td><td>-1</td><td>-1</td><td>19.0655210</td><td>-1</td></tr>\n",
       "\t<tr><th scope=row>c2;scType;pbmc_3k;NK</th><td>-1</td><td>-1</td><td>-1</td><td>-1</td><td> 0.5502934</td><td>-1</td></tr>\n",
       "\t<tr><th scope=row>c2;scType;pbmc_3k;CD14+ Mono</th><td>-1</td><td>-1</td><td>-1</td><td>-1</td><td> 4.3796666</td><td>-1</td></tr>\n",
       "\t<tr><th scope=row>c2;scType;pbmc_3k;B</th><td>-1</td><td>-1</td><td>-1</td><td>-1</td><td>31.8662832</td><td>-1</td></tr>\n",
       "\t<tr><th scope=row>c2;scType;pbmc_3k;Memory CD4 T</th><td>-1</td><td>-1</td><td>-1</td><td>-1</td><td> 8.2440343</td><td>-1</td></tr>\n",
       "</tbody>\n",
       "</table>\n"
      ],
      "text/latex": [
       "A data.frame: 56 × 6\n",
       "\\begin{tabular}{r|llllll}\n",
       "  & modifs & classifier & ct & ds & run\\_time & misc\\\\\n",
       "  & <dbl> & <dbl> & <dbl> & <dbl> & <dbl> & <dbl>\\\\\n",
       "\\hline\n",
       "\t1 & -1 & -1 & -1 & -1 & -1.0000000 & -1\\\\\n",
       "\t2 & -1 & -1 & -1 & -1 & -1.0000000 & -1\\\\\n",
       "\tc1;scType;pbmc\\_3k;Memory CD4 T & -1 & -1 & -1 & -1 &  3.8227537 & -1\\\\\n",
       "\tc1;scType;pbmc\\_3k;B & -1 & -1 & -1 & -1 &  0.5913293 & -1\\\\\n",
       "\tc1;scType;pbmc\\_3k;CD14+ Mono & -1 & -1 & -1 & -1 &  0.4780073 & -1\\\\\n",
       "\tc1;scType;pbmc\\_3k;NK & -1 & -1 & -1 & -1 &  0.4705262 & -1\\\\\n",
       "\tc1;scType;pbmc\\_3k;CD8 T & -1 & -1 & -1 & -1 &  0.4895785 & -1\\\\\n",
       "\tc1;scType;pbmc\\_3k;Naive CD4 T & -1 & -1 & -1 & -1 &  0.4634564 & -1\\\\\n",
       "\tc1;scType;pbmc\\_3k;FCGR3A+ Mono & -1 & -1 & -1 & -1 &  0.4660211 & -1\\\\\n",
       "\tc1;scType;pbmc\\_3k;DC & -1 & -1 & -1 & -1 &  0.4775803 & -1\\\\\n",
       "\tc1;scType;pbmc\\_3k;Platelet & -1 & -1 & -1 & -1 &  0.4697165 & -1\\\\\n",
       "\tc1;scType;kidney\\_10k;kidney epithelial cell & -1 & -1 & -1 & -1 &  0.9931834 & -1\\\\\n",
       "\tc1;scType;kidney\\_10k;kidney cell & -1 & -1 & -1 & -1 &  0.9710867 & -1\\\\\n",
       "\tc1;scType;kidney\\_10k;podocyte & -1 & -1 & -1 & -1 &  0.9578941 & -1\\\\\n",
       "\tc1;scType;kidney\\_10k;epithelial cell of proximal tubule & -1 & -1 & -1 & -1 &  2.1197126 & -1\\\\\n",
       "\tc1;scType;kidney\\_10k;mesenchymal cell & -1 & -1 & -1 & -1 &  4.6424403 & -1\\\\\n",
       "\tc1;scType;kidney\\_10k;kidney loop of Henle epithelial cell & -1 & -1 & -1 & -1 &  1.8280592 & -1\\\\\n",
       "\tc1;scType;liver\\_10k;malignant cell & -1 & -1 & -1 & -1 &  0.7918675 & -1\\\\\n",
       "\tc1;scType;liver\\_10k;endothelial cell & -1 & -1 & -1 & -1 &  0.7212138 & -1\\\\\n",
       "\tc1;scType;liver\\_10k;blood vessel smooth muscle cell & -1 & -1 & -1 & -1 &  2.3856821 & -1\\\\\n",
       "\tc1;scType;liver\\_10k;macrophage & -1 & -1 & -1 & -1 &  0.7617826 & -1\\\\\n",
       "\tc1;scType;liver\\_10k;monocyte & -1 & -1 & -1 & -1 &  0.7520194 & -1\\\\\n",
       "\tc1;scType;liver\\_10k;mature NK T cell & -1 & -1 & -1 & -1 &  0.7839687 & -1\\\\\n",
       "\tc1;scType;axilla\\_10k;malignant cell & -1 & -1 & -1 & -1 &  0.7430904 & -1\\\\\n",
       "\tc1;scType;axilla\\_10k;blood vessel endothelial cell & -1 & -1 & -1 & -1 &  0.7506957 & -1\\\\\n",
       "\tc1;scType;axilla\\_10k;fibroblast & -1 & -1 & -1 & -1 &  0.7479694 & -1\\\\\n",
       "\tc1;scType;axilla\\_10k;macrophage & -1 & -1 & -1 & -1 &  0.7706778 & -1\\\\\n",
       "\tc1;scType;axilla\\_10k;blood vessel smooth muscle cell & -1 & -1 & -1 & -1 &  0.7516716 & -1\\\\\n",
       "\tc1;scType;axilla\\_10k;T cell & -1 & -1 & -1 & -1 &  0.7506056 & -1\\\\\n",
       "\tc2;scType;axilla\\_10k;T cell & -1 & -1 & -1 & -1 &  6.9075842 & -1\\\\\n",
       "\tc2;scType;axilla\\_10k;blood vessel smooth muscle cell & -1 & -1 & -1 & -1 &  7.4472220 & -1\\\\\n",
       "\tc2;scType;axilla\\_10k;macrophage & -1 & -1 & -1 & -1 &  4.3051889 & -1\\\\\n",
       "\tc2;scType;axilla\\_10k;fibroblast & -1 & -1 & -1 & -1 & 19.4733021 & -1\\\\\n",
       "\tc2;scType;axilla\\_10k;blood vessel endothelial cell & -1 & -1 & -1 & -1 & 11.1207747 & -1\\\\\n",
       "\tc2;scType;axilla\\_10k;malignant cell & -1 & -1 & -1 & -1 & 16.5087471 & -1\\\\\n",
       "\tc2;scType;liver\\_10k;mature NK T cell & -1 & -1 & -1 & -1 &  8.0492675 & -1\\\\\n",
       "\tc2;scType;liver\\_10k;monocyte & -1 & -1 & -1 & -1 &  2.1946607 & -1\\\\\n",
       "\tc2;scType;liver\\_10k;macrophage & -1 & -1 & -1 & -1 &  8.5248697 & -1\\\\\n",
       "\tc2;scType;liver\\_10k;blood vessel smooth muscle cell & -1 & -1 & -1 & -1 &  1.9420846 & -1\\\\\n",
       "\tc2;scType;liver\\_10k;endothelial cell & -1 & -1 & -1 & -1 &  1.7951071 & -1\\\\\n",
       "\tc2;scType;liver\\_10k;malignant cell & -1 & -1 & -1 & -1 &  2.2242737 & -1\\\\\n",
       "\tc2;scType;kidney\\_10k;kidney loop of Henle epithelial cell & -1 & -1 & -1 & -1 &  5.9940536 & -1\\\\\n",
       "\tc2;scType;kidney\\_10k;mesenchymal cell & -1 & -1 & -1 & -1 & 12.9182546 & -1\\\\\n",
       "\tc2;scType;kidney\\_10k;epithelial cell of proximal tubule & -1 & -1 & -1 & -1 &  2.7780950 & -1\\\\\n",
       "\tc2;scType;kidney\\_10k;podocyte & -1 & -1 & -1 & -1 & 13.1573253 & -1\\\\\n",
       "\tc2;scType;kidney\\_10k;kidney cell & -1 & -1 & -1 & -1 &  8.3272038 & -1\\\\\n",
       "\tc2;scType;kidney\\_10k;kidney epithelial cell & -1 & -1 & -1 & -1 & 38.3660998 & -1\\\\\n",
       "\tc2;scType;pbmc\\_3k;Platelet & -1 & -1 & -1 & -1 &  2.1972752 & -1\\\\\n",
       "\tc2;scType;pbmc\\_3k;DC & -1 & -1 & -1 & -1 &  5.6388071 & -1\\\\\n",
       "\tc2;scType;pbmc\\_3k;FCGR3A+ Mono & -1 & -1 & -1 & -1 &  1.1574850 & -1\\\\\n",
       "\tc2;scType;pbmc\\_3k;Naive CD4 T & -1 & -1 & -1 & -1 &  0.8134842 & -1\\\\\n",
       "\tc2;scType;pbmc\\_3k;CD8 T & -1 & -1 & -1 & -1 & 19.0655210 & -1\\\\\n",
       "\tc2;scType;pbmc\\_3k;NK & -1 & -1 & -1 & -1 &  0.5502934 & -1\\\\\n",
       "\tc2;scType;pbmc\\_3k;CD14+ Mono & -1 & -1 & -1 & -1 &  4.3796666 & -1\\\\\n",
       "\tc2;scType;pbmc\\_3k;B & -1 & -1 & -1 & -1 & 31.8662832 & -1\\\\\n",
       "\tc2;scType;pbmc\\_3k;Memory CD4 T & -1 & -1 & -1 & -1 &  8.2440343 & -1\\\\\n",
       "\\end{tabular}\n"
      ],
      "text/markdown": [
       "\n",
       "A data.frame: 56 × 6\n",
       "\n",
       "| <!--/--> | modifs &lt;dbl&gt; | classifier &lt;dbl&gt; | ct &lt;dbl&gt; | ds &lt;dbl&gt; | run_time &lt;dbl&gt; | misc &lt;dbl&gt; |\n",
       "|---|---|---|---|---|---|---|\n",
       "| 1 | -1 | -1 | -1 | -1 | -1.0000000 | -1 |\n",
       "| 2 | -1 | -1 | -1 | -1 | -1.0000000 | -1 |\n",
       "| c1;scType;pbmc_3k;Memory CD4 T | -1 | -1 | -1 | -1 |  3.8227537 | -1 |\n",
       "| c1;scType;pbmc_3k;B | -1 | -1 | -1 | -1 |  0.5913293 | -1 |\n",
       "| c1;scType;pbmc_3k;CD14+ Mono | -1 | -1 | -1 | -1 |  0.4780073 | -1 |\n",
       "| c1;scType;pbmc_3k;NK | -1 | -1 | -1 | -1 |  0.4705262 | -1 |\n",
       "| c1;scType;pbmc_3k;CD8 T | -1 | -1 | -1 | -1 |  0.4895785 | -1 |\n",
       "| c1;scType;pbmc_3k;Naive CD4 T | -1 | -1 | -1 | -1 |  0.4634564 | -1 |\n",
       "| c1;scType;pbmc_3k;FCGR3A+ Mono | -1 | -1 | -1 | -1 |  0.4660211 | -1 |\n",
       "| c1;scType;pbmc_3k;DC | -1 | -1 | -1 | -1 |  0.4775803 | -1 |\n",
       "| c1;scType;pbmc_3k;Platelet | -1 | -1 | -1 | -1 |  0.4697165 | -1 |\n",
       "| c1;scType;kidney_10k;kidney epithelial cell | -1 | -1 | -1 | -1 |  0.9931834 | -1 |\n",
       "| c1;scType;kidney_10k;kidney cell | -1 | -1 | -1 | -1 |  0.9710867 | -1 |\n",
       "| c1;scType;kidney_10k;podocyte | -1 | -1 | -1 | -1 |  0.9578941 | -1 |\n",
       "| c1;scType;kidney_10k;epithelial cell of proximal tubule | -1 | -1 | -1 | -1 |  2.1197126 | -1 |\n",
       "| c1;scType;kidney_10k;mesenchymal cell | -1 | -1 | -1 | -1 |  4.6424403 | -1 |\n",
       "| c1;scType;kidney_10k;kidney loop of Henle epithelial cell | -1 | -1 | -1 | -1 |  1.8280592 | -1 |\n",
       "| c1;scType;liver_10k;malignant cell | -1 | -1 | -1 | -1 |  0.7918675 | -1 |\n",
       "| c1;scType;liver_10k;endothelial cell | -1 | -1 | -1 | -1 |  0.7212138 | -1 |\n",
       "| c1;scType;liver_10k;blood vessel smooth muscle cell | -1 | -1 | -1 | -1 |  2.3856821 | -1 |\n",
       "| c1;scType;liver_10k;macrophage | -1 | -1 | -1 | -1 |  0.7617826 | -1 |\n",
       "| c1;scType;liver_10k;monocyte | -1 | -1 | -1 | -1 |  0.7520194 | -1 |\n",
       "| c1;scType;liver_10k;mature NK T cell | -1 | -1 | -1 | -1 |  0.7839687 | -1 |\n",
       "| c1;scType;axilla_10k;malignant cell | -1 | -1 | -1 | -1 |  0.7430904 | -1 |\n",
       "| c1;scType;axilla_10k;blood vessel endothelial cell | -1 | -1 | -1 | -1 |  0.7506957 | -1 |\n",
       "| c1;scType;axilla_10k;fibroblast | -1 | -1 | -1 | -1 |  0.7479694 | -1 |\n",
       "| c1;scType;axilla_10k;macrophage | -1 | -1 | -1 | -1 |  0.7706778 | -1 |\n",
       "| c1;scType;axilla_10k;blood vessel smooth muscle cell | -1 | -1 | -1 | -1 |  0.7516716 | -1 |\n",
       "| c1;scType;axilla_10k;T cell | -1 | -1 | -1 | -1 |  0.7506056 | -1 |\n",
       "| c2;scType;axilla_10k;T cell | -1 | -1 | -1 | -1 |  6.9075842 | -1 |\n",
       "| c2;scType;axilla_10k;blood vessel smooth muscle cell | -1 | -1 | -1 | -1 |  7.4472220 | -1 |\n",
       "| c2;scType;axilla_10k;macrophage | -1 | -1 | -1 | -1 |  4.3051889 | -1 |\n",
       "| c2;scType;axilla_10k;fibroblast | -1 | -1 | -1 | -1 | 19.4733021 | -1 |\n",
       "| c2;scType;axilla_10k;blood vessel endothelial cell | -1 | -1 | -1 | -1 | 11.1207747 | -1 |\n",
       "| c2;scType;axilla_10k;malignant cell | -1 | -1 | -1 | -1 | 16.5087471 | -1 |\n",
       "| c2;scType;liver_10k;mature NK T cell | -1 | -1 | -1 | -1 |  8.0492675 | -1 |\n",
       "| c2;scType;liver_10k;monocyte | -1 | -1 | -1 | -1 |  2.1946607 | -1 |\n",
       "| c2;scType;liver_10k;macrophage | -1 | -1 | -1 | -1 |  8.5248697 | -1 |\n",
       "| c2;scType;liver_10k;blood vessel smooth muscle cell | -1 | -1 | -1 | -1 |  1.9420846 | -1 |\n",
       "| c2;scType;liver_10k;endothelial cell | -1 | -1 | -1 | -1 |  1.7951071 | -1 |\n",
       "| c2;scType;liver_10k;malignant cell | -1 | -1 | -1 | -1 |  2.2242737 | -1 |\n",
       "| c2;scType;kidney_10k;kidney loop of Henle epithelial cell | -1 | -1 | -1 | -1 |  5.9940536 | -1 |\n",
       "| c2;scType;kidney_10k;mesenchymal cell | -1 | -1 | -1 | -1 | 12.9182546 | -1 |\n",
       "| c2;scType;kidney_10k;epithelial cell of proximal tubule | -1 | -1 | -1 | -1 |  2.7780950 | -1 |\n",
       "| c2;scType;kidney_10k;podocyte | -1 | -1 | -1 | -1 | 13.1573253 | -1 |\n",
       "| c2;scType;kidney_10k;kidney cell | -1 | -1 | -1 | -1 |  8.3272038 | -1 |\n",
       "| c2;scType;kidney_10k;kidney epithelial cell | -1 | -1 | -1 | -1 | 38.3660998 | -1 |\n",
       "| c2;scType;pbmc_3k;Platelet | -1 | -1 | -1 | -1 |  2.1972752 | -1 |\n",
       "| c2;scType;pbmc_3k;DC | -1 | -1 | -1 | -1 |  5.6388071 | -1 |\n",
       "| c2;scType;pbmc_3k;FCGR3A+ Mono | -1 | -1 | -1 | -1 |  1.1574850 | -1 |\n",
       "| c2;scType;pbmc_3k;Naive CD4 T | -1 | -1 | -1 | -1 |  0.8134842 | -1 |\n",
       "| c2;scType;pbmc_3k;CD8 T | -1 | -1 | -1 | -1 | 19.0655210 | -1 |\n",
       "| c2;scType;pbmc_3k;NK | -1 | -1 | -1 | -1 |  0.5502934 | -1 |\n",
       "| c2;scType;pbmc_3k;CD14+ Mono | -1 | -1 | -1 | -1 |  4.3796666 | -1 |\n",
       "| c2;scType;pbmc_3k;B | -1 | -1 | -1 | -1 | 31.8662832 | -1 |\n",
       "| c2;scType;pbmc_3k;Memory CD4 T | -1 | -1 | -1 | -1 |  8.2440343 | -1 |\n",
       "\n"
      ],
      "text/plain": [
       "                                                          modifs classifier ct\n",
       "1                                                         -1     -1         -1\n",
       "2                                                         -1     -1         -1\n",
       "c1;scType;pbmc_3k;Memory CD4 T                            -1     -1         -1\n",
       "c1;scType;pbmc_3k;B                                       -1     -1         -1\n",
       "c1;scType;pbmc_3k;CD14+ Mono                              -1     -1         -1\n",
       "c1;scType;pbmc_3k;NK                                      -1     -1         -1\n",
       "c1;scType;pbmc_3k;CD8 T                                   -1     -1         -1\n",
       "c1;scType;pbmc_3k;Naive CD4 T                             -1     -1         -1\n",
       "c1;scType;pbmc_3k;FCGR3A+ Mono                            -1     -1         -1\n",
       "c1;scType;pbmc_3k;DC                                      -1     -1         -1\n",
       "c1;scType;pbmc_3k;Platelet                                -1     -1         -1\n",
       "c1;scType;kidney_10k;kidney epithelial cell               -1     -1         -1\n",
       "c1;scType;kidney_10k;kidney cell                          -1     -1         -1\n",
       "c1;scType;kidney_10k;podocyte                             -1     -1         -1\n",
       "c1;scType;kidney_10k;epithelial cell of proximal tubule   -1     -1         -1\n",
       "c1;scType;kidney_10k;mesenchymal cell                     -1     -1         -1\n",
       "c1;scType;kidney_10k;kidney loop of Henle epithelial cell -1     -1         -1\n",
       "c1;scType;liver_10k;malignant cell                        -1     -1         -1\n",
       "c1;scType;liver_10k;endothelial cell                      -1     -1         -1\n",
       "c1;scType;liver_10k;blood vessel smooth muscle cell       -1     -1         -1\n",
       "c1;scType;liver_10k;macrophage                            -1     -1         -1\n",
       "c1;scType;liver_10k;monocyte                              -1     -1         -1\n",
       "c1;scType;liver_10k;mature NK T cell                      -1     -1         -1\n",
       "c1;scType;axilla_10k;malignant cell                       -1     -1         -1\n",
       "c1;scType;axilla_10k;blood vessel endothelial cell        -1     -1         -1\n",
       "c1;scType;axilla_10k;fibroblast                           -1     -1         -1\n",
       "c1;scType;axilla_10k;macrophage                           -1     -1         -1\n",
       "c1;scType;axilla_10k;blood vessel smooth muscle cell      -1     -1         -1\n",
       "c1;scType;axilla_10k;T cell                               -1     -1         -1\n",
       "c2;scType;axilla_10k;T cell                               -1     -1         -1\n",
       "c2;scType;axilla_10k;blood vessel smooth muscle cell      -1     -1         -1\n",
       "c2;scType;axilla_10k;macrophage                           -1     -1         -1\n",
       "c2;scType;axilla_10k;fibroblast                           -1     -1         -1\n",
       "c2;scType;axilla_10k;blood vessel endothelial cell        -1     -1         -1\n",
       "c2;scType;axilla_10k;malignant cell                       -1     -1         -1\n",
       "c2;scType;liver_10k;mature NK T cell                      -1     -1         -1\n",
       "c2;scType;liver_10k;monocyte                              -1     -1         -1\n",
       "c2;scType;liver_10k;macrophage                            -1     -1         -1\n",
       "c2;scType;liver_10k;blood vessel smooth muscle cell       -1     -1         -1\n",
       "c2;scType;liver_10k;endothelial cell                      -1     -1         -1\n",
       "c2;scType;liver_10k;malignant cell                        -1     -1         -1\n",
       "c2;scType;kidney_10k;kidney loop of Henle epithelial cell -1     -1         -1\n",
       "c2;scType;kidney_10k;mesenchymal cell                     -1     -1         -1\n",
       "c2;scType;kidney_10k;epithelial cell of proximal tubule   -1     -1         -1\n",
       "c2;scType;kidney_10k;podocyte                             -1     -1         -1\n",
       "c2;scType;kidney_10k;kidney cell                          -1     -1         -1\n",
       "c2;scType;kidney_10k;kidney epithelial cell               -1     -1         -1\n",
       "c2;scType;pbmc_3k;Platelet                                -1     -1         -1\n",
       "c2;scType;pbmc_3k;DC                                      -1     -1         -1\n",
       "c2;scType;pbmc_3k;FCGR3A+ Mono                            -1     -1         -1\n",
       "c2;scType;pbmc_3k;Naive CD4 T                             -1     -1         -1\n",
       "c2;scType;pbmc_3k;CD8 T                                   -1     -1         -1\n",
       "c2;scType;pbmc_3k;NK                                      -1     -1         -1\n",
       "c2;scType;pbmc_3k;CD14+ Mono                              -1     -1         -1\n",
       "c2;scType;pbmc_3k;B                                       -1     -1         -1\n",
       "c2;scType;pbmc_3k;Memory CD4 T                            -1     -1         -1\n",
       "                                                          ds run_time   misc\n",
       "1                                                         -1 -1.0000000 -1  \n",
       "2                                                         -1 -1.0000000 -1  \n",
       "c1;scType;pbmc_3k;Memory CD4 T                            -1  3.8227537 -1  \n",
       "c1;scType;pbmc_3k;B                                       -1  0.5913293 -1  \n",
       "c1;scType;pbmc_3k;CD14+ Mono                              -1  0.4780073 -1  \n",
       "c1;scType;pbmc_3k;NK                                      -1  0.4705262 -1  \n",
       "c1;scType;pbmc_3k;CD8 T                                   -1  0.4895785 -1  \n",
       "c1;scType;pbmc_3k;Naive CD4 T                             -1  0.4634564 -1  \n",
       "c1;scType;pbmc_3k;FCGR3A+ Mono                            -1  0.4660211 -1  \n",
       "c1;scType;pbmc_3k;DC                                      -1  0.4775803 -1  \n",
       "c1;scType;pbmc_3k;Platelet                                -1  0.4697165 -1  \n",
       "c1;scType;kidney_10k;kidney epithelial cell               -1  0.9931834 -1  \n",
       "c1;scType;kidney_10k;kidney cell                          -1  0.9710867 -1  \n",
       "c1;scType;kidney_10k;podocyte                             -1  0.9578941 -1  \n",
       "c1;scType;kidney_10k;epithelial cell of proximal tubule   -1  2.1197126 -1  \n",
       "c1;scType;kidney_10k;mesenchymal cell                     -1  4.6424403 -1  \n",
       "c1;scType;kidney_10k;kidney loop of Henle epithelial cell -1  1.8280592 -1  \n",
       "c1;scType;liver_10k;malignant cell                        -1  0.7918675 -1  \n",
       "c1;scType;liver_10k;endothelial cell                      -1  0.7212138 -1  \n",
       "c1;scType;liver_10k;blood vessel smooth muscle cell       -1  2.3856821 -1  \n",
       "c1;scType;liver_10k;macrophage                            -1  0.7617826 -1  \n",
       "c1;scType;liver_10k;monocyte                              -1  0.7520194 -1  \n",
       "c1;scType;liver_10k;mature NK T cell                      -1  0.7839687 -1  \n",
       "c1;scType;axilla_10k;malignant cell                       -1  0.7430904 -1  \n",
       "c1;scType;axilla_10k;blood vessel endothelial cell        -1  0.7506957 -1  \n",
       "c1;scType;axilla_10k;fibroblast                           -1  0.7479694 -1  \n",
       "c1;scType;axilla_10k;macrophage                           -1  0.7706778 -1  \n",
       "c1;scType;axilla_10k;blood vessel smooth muscle cell      -1  0.7516716 -1  \n",
       "c1;scType;axilla_10k;T cell                               -1  0.7506056 -1  \n",
       "c2;scType;axilla_10k;T cell                               -1  6.9075842 -1  \n",
       "c2;scType;axilla_10k;blood vessel smooth muscle cell      -1  7.4472220 -1  \n",
       "c2;scType;axilla_10k;macrophage                           -1  4.3051889 -1  \n",
       "c2;scType;axilla_10k;fibroblast                           -1 19.4733021 -1  \n",
       "c2;scType;axilla_10k;blood vessel endothelial cell        -1 11.1207747 -1  \n",
       "c2;scType;axilla_10k;malignant cell                       -1 16.5087471 -1  \n",
       "c2;scType;liver_10k;mature NK T cell                      -1  8.0492675 -1  \n",
       "c2;scType;liver_10k;monocyte                              -1  2.1946607 -1  \n",
       "c2;scType;liver_10k;macrophage                            -1  8.5248697 -1  \n",
       "c2;scType;liver_10k;blood vessel smooth muscle cell       -1  1.9420846 -1  \n",
       "c2;scType;liver_10k;endothelial cell                      -1  1.7951071 -1  \n",
       "c2;scType;liver_10k;malignant cell                        -1  2.2242737 -1  \n",
       "c2;scType;kidney_10k;kidney loop of Henle epithelial cell -1  5.9940536 -1  \n",
       "c2;scType;kidney_10k;mesenchymal cell                     -1 12.9182546 -1  \n",
       "c2;scType;kidney_10k;epithelial cell of proximal tubule   -1  2.7780950 -1  \n",
       "c2;scType;kidney_10k;podocyte                             -1 13.1573253 -1  \n",
       "c2;scType;kidney_10k;kidney cell                          -1  8.3272038 -1  \n",
       "c2;scType;kidney_10k;kidney epithelial cell               -1 38.3660998 -1  \n",
       "c2;scType;pbmc_3k;Platelet                                -1  2.1972752 -1  \n",
       "c2;scType;pbmc_3k;DC                                      -1  5.6388071 -1  \n",
       "c2;scType;pbmc_3k;FCGR3A+ Mono                            -1  1.1574850 -1  \n",
       "c2;scType;pbmc_3k;Naive CD4 T                             -1  0.8134842 -1  \n",
       "c2;scType;pbmc_3k;CD8 T                                   -1 19.0655210 -1  \n",
       "c2;scType;pbmc_3k;NK                                      -1  0.5502934 -1  \n",
       "c2;scType;pbmc_3k;CD14+ Mono                              -1  4.3796666 -1  \n",
       "c2;scType;pbmc_3k;B                                       -1 31.8662832 -1  \n",
       "c2;scType;pbmc_3k;Memory CD4 T                            -1  8.2440343 -1  "
      ]
     },
     "metadata": {},
     "output_type": "display_data"
    }
   ],
   "source": [
    "df_times"
   ]
  },
  {
   "cell_type": "code",
   "execution_count": null,
   "id": "a8bac4a0",
   "metadata": {},
   "outputs": [],
   "source": []
  }
 ],
 "metadata": {
  "kernelspec": {
   "display_name": "R",
   "language": "R",
   "name": "ir"
  },
  "language_info": {
   "codemirror_mode": "r",
   "file_extension": ".r",
   "mimetype": "text/x-r-source",
   "name": "R",
   "pygments_lexer": "r",
   "version": "4.3.3"
  }
 },
 "nbformat": 4,
 "nbformat_minor": 5
}
