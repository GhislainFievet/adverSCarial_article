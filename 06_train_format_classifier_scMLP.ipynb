{
 "cells": [
  {
   "cell_type": "markdown",
   "id": "1a742115",
   "metadata": {},
   "source": [
    "# Train scMLP, a multi layer perceptron-based classifier\n",
    "\n",
    "- Train a MLP classifier\n",
    "- Format the classifier to use it with adverSCarial\n",
    "- Run a single-gene attack"
   ]
  },
  {
   "cell_type": "code",
   "execution_count": 1,
   "id": "c8178359",
   "metadata": {},
   "outputs": [],
   "source": [
    "library(reticulate)\n",
    "use_python(\"/usr/bin/python3\", required = TRUE)"
   ]
  },
  {
   "cell_type": "code",
   "execution_count": 2,
   "id": "11b05ec0",
   "metadata": {},
   "outputs": [
    {
     "name": "stderr",
     "output_type": "stream",
     "text": [
      "\n",
      "Attaching package: ‘dplyr’\n",
      "\n",
      "\n",
      "The following objects are masked from ‘package:stats’:\n",
      "\n",
      "    filter, lag\n",
      "\n",
      "\n",
      "The following objects are masked from ‘package:base’:\n",
      "\n",
      "    intersect, setdiff, setequal, union\n",
      "\n",
      "\n"
     ]
    }
   ],
   "source": [
    "library(keras)\n",
    "library(dplyr)\n",
    "library(adverSCarial)"
   ]
  },
  {
   "cell_type": "code",
   "execution_count": null,
   "id": "3487eb4c",
   "metadata": {},
   "outputs": [],
   "source": []
  },
  {
   "cell_type": "code",
   "execution_count": 3,
   "id": "70ca0c89",
   "metadata": {},
   "outputs": [
    {
     "data": {
      "text/plain": [
       "[1] ‘2.15.0’"
      ]
     },
     "metadata": {},
     "output_type": "display_data"
    }
   ],
   "source": [
    "packageVersion(\"keras\")"
   ]
  },
  {
   "cell_type": "code",
   "execution_count": null,
   "id": "7aee9554",
   "metadata": {},
   "outputs": [],
   "source": []
  },
  {
   "cell_type": "markdown",
   "id": "d2648163",
   "metadata": {},
   "source": [
    "# Load data"
   ]
  },
  {
   "cell_type": "code",
   "execution_count": 4,
   "id": "0cfe9ea5",
   "metadata": {},
   "outputs": [],
   "source": [
    "df_train <- read.table(\"data//v2//seurat_scaled_pbmc_train.txt\")\n",
    "df_test <- read.table(\"data//v2//seurat_scaled_pbmc_test.txt\")"
   ]
  },
  {
   "cell_type": "code",
   "execution_count": 5,
   "id": "e7571fdb",
   "metadata": {},
   "outputs": [
    {
     "data": {
      "text/html": [
       "<table class=\"dataframe\">\n",
       "<caption>A data.frame: 5 × 6</caption>\n",
       "<thead>\n",
       "\t<tr><th></th><th scope=col>AL627309.1</th><th scope=col>AP006222.2</th><th scope=col>RP11.206L10.2</th><th scope=col>RP11.206L10.9</th><th scope=col>LINC00115</th><th scope=col>y</th></tr>\n",
       "\t<tr><th></th><th scope=col>&lt;dbl&gt;</th><th scope=col>&lt;dbl&gt;</th><th scope=col>&lt;dbl&gt;</th><th scope=col>&lt;dbl&gt;</th><th scope=col>&lt;dbl&gt;</th><th scope=col>&lt;chr&gt;</th></tr>\n",
       "</thead>\n",
       "<tbody>\n",
       "\t<tr><th scope=row>TCCCGATGAGATCC-1</th><td>-0.05812316</td><td>-0.03357571</td><td>-0.04166819</td><td>-0.03364562</td><td>-0.08223981</td><td>Memory CD4 T</td></tr>\n",
       "\t<tr><th scope=row>TTCATGTGTGGTGT-1</th><td>-0.05812316</td><td>-0.03357571</td><td>-0.04166819</td><td>-0.03364562</td><td>-0.08223981</td><td>Memory CD4 T</td></tr>\n",
       "\t<tr><th scope=row>CCAGTGCTAACCAC-1</th><td>-0.05812316</td><td>-0.03357571</td><td>-0.04166819</td><td>-0.03364562</td><td>-0.08223981</td><td>Memory CD4 T</td></tr>\n",
       "\t<tr><th scope=row>AACTCTTGCAGGAG-1</th><td>-0.05812316</td><td>-0.03357571</td><td>-0.04166819</td><td>-0.03364562</td><td>-0.08223981</td><td>Memory CD4 T</td></tr>\n",
       "\t<tr><th scope=row>CGAGCCGAGGCGAA-1</th><td>-0.05812316</td><td>-0.03357571</td><td>-0.04166819</td><td>-0.03364562</td><td>-0.08223981</td><td>Memory CD4 T</td></tr>\n",
       "</tbody>\n",
       "</table>\n"
      ],
      "text/latex": [
       "A data.frame: 5 × 6\n",
       "\\begin{tabular}{r|llllll}\n",
       "  & AL627309.1 & AP006222.2 & RP11.206L10.2 & RP11.206L10.9 & LINC00115 & y\\\\\n",
       "  & <dbl> & <dbl> & <dbl> & <dbl> & <dbl> & <chr>\\\\\n",
       "\\hline\n",
       "\tTCCCGATGAGATCC-1 & -0.05812316 & -0.03357571 & -0.04166819 & -0.03364562 & -0.08223981 & Memory CD4 T\\\\\n",
       "\tTTCATGTGTGGTGT-1 & -0.05812316 & -0.03357571 & -0.04166819 & -0.03364562 & -0.08223981 & Memory CD4 T\\\\\n",
       "\tCCAGTGCTAACCAC-1 & -0.05812316 & -0.03357571 & -0.04166819 & -0.03364562 & -0.08223981 & Memory CD4 T\\\\\n",
       "\tAACTCTTGCAGGAG-1 & -0.05812316 & -0.03357571 & -0.04166819 & -0.03364562 & -0.08223981 & Memory CD4 T\\\\\n",
       "\tCGAGCCGAGGCGAA-1 & -0.05812316 & -0.03357571 & -0.04166819 & -0.03364562 & -0.08223981 & Memory CD4 T\\\\\n",
       "\\end{tabular}\n"
      ],
      "text/markdown": [
       "\n",
       "A data.frame: 5 × 6\n",
       "\n",
       "| <!--/--> | AL627309.1 &lt;dbl&gt; | AP006222.2 &lt;dbl&gt; | RP11.206L10.2 &lt;dbl&gt; | RP11.206L10.9 &lt;dbl&gt; | LINC00115 &lt;dbl&gt; | y &lt;chr&gt; |\n",
       "|---|---|---|---|---|---|---|\n",
       "| TCCCGATGAGATCC-1 | -0.05812316 | -0.03357571 | -0.04166819 | -0.03364562 | -0.08223981 | Memory CD4 T |\n",
       "| TTCATGTGTGGTGT-1 | -0.05812316 | -0.03357571 | -0.04166819 | -0.03364562 | -0.08223981 | Memory CD4 T |\n",
       "| CCAGTGCTAACCAC-1 | -0.05812316 | -0.03357571 | -0.04166819 | -0.03364562 | -0.08223981 | Memory CD4 T |\n",
       "| AACTCTTGCAGGAG-1 | -0.05812316 | -0.03357571 | -0.04166819 | -0.03364562 | -0.08223981 | Memory CD4 T |\n",
       "| CGAGCCGAGGCGAA-1 | -0.05812316 | -0.03357571 | -0.04166819 | -0.03364562 | -0.08223981 | Memory CD4 T |\n",
       "\n"
      ],
      "text/plain": [
       "                 AL627309.1  AP006222.2  RP11.206L10.2 RP11.206L10.9\n",
       "TCCCGATGAGATCC-1 -0.05812316 -0.03357571 -0.04166819   -0.03364562  \n",
       "TTCATGTGTGGTGT-1 -0.05812316 -0.03357571 -0.04166819   -0.03364562  \n",
       "CCAGTGCTAACCAC-1 -0.05812316 -0.03357571 -0.04166819   -0.03364562  \n",
       "AACTCTTGCAGGAG-1 -0.05812316 -0.03357571 -0.04166819   -0.03364562  \n",
       "CGAGCCGAGGCGAA-1 -0.05812316 -0.03357571 -0.04166819   -0.03364562  \n",
       "                 LINC00115   y           \n",
       "TCCCGATGAGATCC-1 -0.08223981 Memory CD4 T\n",
       "TTCATGTGTGGTGT-1 -0.08223981 Memory CD4 T\n",
       "CCAGTGCTAACCAC-1 -0.08223981 Memory CD4 T\n",
       "AACTCTTGCAGGAG-1 -0.08223981 Memory CD4 T\n",
       "CGAGCCGAGGCGAA-1 -0.08223981 Memory CD4 T"
      ]
     },
     "metadata": {},
     "output_type": "display_data"
    }
   ],
   "source": [
    "df_train[1:5, c(colnames(df_train)[1:5],\"y\")]"
   ]
  },
  {
   "cell_type": "code",
   "execution_count": 26,
   "id": "49df2a78",
   "metadata": {},
   "outputs": [
    {
     "data": {
      "text/plain": [
       "\n",
       "           B   CD14+ Mono        CD8 T           DC FCGR3A+ Mono Memory CD4 T \n",
       "         172          240          140           16           81          236 \n",
       " Naive CD4 T           NK     Platelet \n",
       "         356           72            7 "
      ]
     },
     "metadata": {},
     "output_type": "display_data"
    }
   ],
   "source": [
    "# Unbalanced data\n",
    "table(df_train$y)"
   ]
  },
  {
   "cell_type": "code",
   "execution_count": 7,
   "id": "2dd14ac6",
   "metadata": {},
   "outputs": [],
   "source": [
    "# Generate boostrap data\n",
    "generate_bootstrap_samples <- function(subset_df, target_count) {\n",
    "  n_needed <- target_count - nrow(subset_df)\n",
    "  bootstrap_samples <- data.frame(matrix(ncol = ncol(subset_df), nrow = n_needed))\n",
    "  \n",
    "  names(bootstrap_samples) <- names(subset_df)\n",
    "  \n",
    "  for (col in names(subset_df)) {\n",
    "    sampled_values <- sample(subset_df[[col]], n_needed, replace = TRUE)\n",
    "    bootstrap_samples[[col]] <- sampled_values\n",
    "  }\n",
    "  \n",
    "  return(bootstrap_samples)\n",
    "}\n"
   ]
  },
  {
   "cell_type": "code",
   "execution_count": 8,
   "id": "af1b66c6",
   "metadata": {},
   "outputs": [],
   "source": [
    "# Generate a balanced dataset by using boostrap data if necessary\n",
    "balance_data <- function(df, label_column, target_count) {\n",
    "  balanced_df <- data.frame()\n",
    "  \n",
    "  labels <- unique(df[[label_column]])\n",
    "  \n",
    "  for (label in labels) {\n",
    "    subset_df <- df[df[[label_column]] == label, ]\n",
    "    \n",
    "    if (nrow(subset_df) >= target_count) {\n",
    "      subset_balanced <- subset_df[sample(nrow(subset_df), target_count), ]\n",
    "    } else {\n",
    "      extra_samples <- generate_bootstrap_samples(subset_df, target_count)\n",
    "      subset_balanced <- rbind(subset_df, extra_samples)\n",
    "    }\n",
    "    \n",
    "    balanced_df <- rbind(balanced_df, subset_balanced)\n",
    "  }\n",
    "  \n",
    "  return(balanced_df)\n",
    "}\n"
   ]
  },
  {
   "cell_type": "code",
   "execution_count": 9,
   "id": "9603d2d9",
   "metadata": {},
   "outputs": [],
   "source": [
    "df_train_boot <- balance_data(df_train, \"y\", 100)"
   ]
  },
  {
   "cell_type": "code",
   "execution_count": 27,
   "id": "9162d72d",
   "metadata": {},
   "outputs": [
    {
     "data": {
      "text/plain": [
       "\n",
       "           B   CD14+ Mono        CD8 T           DC FCGR3A+ Mono Memory CD4 T \n",
       "         100          100          100          100          100          100 \n",
       " Naive CD4 T           NK     Platelet \n",
       "         100          100          100 "
      ]
     },
     "metadata": {},
     "output_type": "display_data"
    }
   ],
   "source": [
    "# Balanced data\n",
    "table(df_train_boot$y)"
   ]
  },
  {
   "cell_type": "code",
   "execution_count": 10,
   "id": "e0e1c376",
   "metadata": {},
   "outputs": [],
   "source": [
    "# Prepare data\n",
    "x_train <- as.matrix(df_train_boot[, -which(names(df_train_boot) == \"y\")])\n",
    "x_test <- as.matrix(df_test[, -which(names(df_test) == \"y\")])\n",
    "\n",
    "\n",
    "# One hot encoding\n",
    "y_train <- model.matrix(~ df_train_boot$y - 1)\n",
    "y_test <- model.matrix(~ df_test$y - 1)"
   ]
  },
  {
   "cell_type": "code",
   "execution_count": 11,
   "id": "86ff0fbf",
   "metadata": {},
   "outputs": [],
   "source": [
    "# Architecture of the model\n",
    "model <- keras_model_sequential() %>%\n",
    "  layer_dense(units = 128, activation = 'relu', input_shape = c(ncol(x_train))) %>%\n",
    "  layer_dropout(rate = 0.5) %>%\n",
    "  layer_dense(units = 64, activation = 'relu') %>%\n",
    "  layer_dropout(rate = 0.5) %>%\n",
    "  layer_dense(units = length(unique(df_train$y)), activation = 'softmax')\n",
    "\n",
    "# Compilation\n",
    "model %>% compile(\n",
    "  loss = 'categorical_crossentropy',\n",
    "  optimizer = optimizer_adam(),\n",
    "  metrics = c('accuracy')\n",
    ")\n"
   ]
  },
  {
   "cell_type": "code",
   "execution_count": 12,
   "id": "5b220e96",
   "metadata": {},
   "outputs": [],
   "source": [
    "# Train the model\n",
    "history <- model %>% fit(\n",
    "  x_train, y_train,\n",
    "  epochs = 20,\n",
    "  batch_size = 32,\n",
    "  validation_split = 0.2\n",
    ")"
   ]
  },
  {
   "cell_type": "code",
   "execution_count": 13,
   "id": "6b0573c3",
   "metadata": {},
   "outputs": [],
   "source": [
    "# Faire des prédictions\n",
    "predictions <- model %>% predict(x_test)"
   ]
  },
  {
   "cell_type": "code",
   "execution_count": 14,
   "id": "b97291d7",
   "metadata": {},
   "outputs": [],
   "source": [
    "save_model_hdf5(model, \"repr_data/classifiers/scMLP/dl_model.h5\")"
   ]
  },
  {
   "cell_type": "code",
   "execution_count": 16,
   "id": "2c26dbc8",
   "metadata": {},
   "outputs": [],
   "source": [
    "write.table(sub(\"df_train_boot\\\\$y\",\"\",unique(colnames(y_train))),\n",
    "            \"repr_data/classifiers/scMLP/new_colnames.txt\", row.names=F, col.names=F)"
   ]
  },
  {
   "cell_type": "markdown",
   "id": "4056c3eb",
   "metadata": {},
   "source": [
    "# Format the Classifier\n",
    "To work with adverSCarial the classifier needs to be formated in a certain way."
   ]
  },
  {
   "cell_type": "code",
   "execution_count": 18,
   "id": "2c4b2b1c",
   "metadata": {},
   "outputs": [],
   "source": [
    "scMLP_classifier <- function(expr, clusters, target){\n",
    "    expr = as.matrix(expr)\n",
    "    message(\"load model\")\n",
    "    library(reticulate)\n",
    "    use_python(\"/usr/bin/python3\", required = TRUE)\n",
    "    library(keras)\n",
    "    mlpModel <<- load_model_hdf5(\"repr_data/classifiers/scMLP/dl_model.h5\")\n",
    "    newColnames <<- read.table(\"repr_data/classifiers/scMLP/new_colnames.txt\")$V1\n",
    "    \n",
    "    predictions <- predict(mlpModel, expr)\n",
    "    colnames(predictions) <- newColnames\n",
    "    rownames(predictions) <- rownames(expr)\n",
    "    predictions <- as.data.frame(predictions)\n",
    "    \n",
    "    if (sum(clusters == target) == 0 ){\n",
    "        return( c(\"UNDETERMINED\",1))\n",
    "    }\n",
    "    \n",
    "    cell_types <- apply(predictions[clusters == target,], 1, function(x){\n",
    "        names(x[x == max(x)])[1]\n",
    "    })\n",
    "    table_cell_type <<- table(cell_types)\n",
    "    str_class <- names(table_cell_type[order(table_cell_type, decreasing=T)][1])\n",
    "    resSCMLP <- list(\n",
    "        # Cell type prediction for the cluster\n",
    "        prediction=str_class,\n",
    "        # Score of the predicted cell type\n",
    "        odd=1,\n",
    "        # Score for each cell type for each cell\n",
    "        typePredictions=as.data.frame(t(predictions)),\n",
    "        # Cell type for each cell\n",
    "        cellTypes=cell_types)\n",
    "\n",
    "    return(resSCMLP)\n",
    "}\n"
   ]
  },
  {
   "cell_type": "code",
   "execution_count": 19,
   "id": "23b7b687",
   "metadata": {},
   "outputs": [],
   "source": [
    "expr_df <- df_test[, -which(names(df_test) == \"y\")]\n",
    "clusters_df <- df_test$y\n",
    "names(clusters_df) <- rownames(df_test)"
   ]
  },
  {
   "cell_type": "markdown",
   "id": "fa9610ce",
   "metadata": {},
   "source": [
    "Classification of a cluster."
   ]
  },
  {
   "cell_type": "code",
   "execution_count": 20,
   "id": "f81ddbcb",
   "metadata": {},
   "outputs": [
    {
     "name": "stderr",
     "output_type": "stream",
     "text": [
      "load model\n",
      "\n"
     ]
    }
   ],
   "source": [
    "myPreds <- scMLP_classifier(expr_df, clusters_df, \"NK\")"
   ]
  },
  {
   "cell_type": "code",
   "execution_count": 21,
   "id": "843a94e4",
   "metadata": {},
   "outputs": [
    {
     "data": {
      "text/html": [
       "'NK'"
      ],
      "text/latex": [
       "'NK'"
      ],
      "text/markdown": [
       "'NK'"
      ],
      "text/plain": [
       "[1] \"NK\""
      ]
     },
     "metadata": {},
     "output_type": "display_data"
    }
   ],
   "source": [
    "# Cell type prediction for the cluster\n",
    "myPreds$prediction"
   ]
  },
  {
   "cell_type": "code",
   "execution_count": 22,
   "id": "52445f50",
   "metadata": {},
   "outputs": [
    {
     "data": {
      "text/html": [
       "<table class=\"dataframe\">\n",
       "<caption>A data.frame: 5 × 5</caption>\n",
       "<thead>\n",
       "\t<tr><th></th><th scope=col>AAACATACAACCAC-1</th><th scope=col>AAACATTGATCAGC-1</th><th scope=col>AAACGCACTGGTAC-1</th><th scope=col>AAATGTTGCCACAA-1</th><th scope=col>AACACGTGCAGAGG-1</th></tr>\n",
       "\t<tr><th></th><th scope=col>&lt;dbl&gt;</th><th scope=col>&lt;dbl&gt;</th><th scope=col>&lt;dbl&gt;</th><th scope=col>&lt;dbl&gt;</th><th scope=col>&lt;dbl&gt;</th></tr>\n",
       "</thead>\n",
       "<tbody>\n",
       "\t<tr><th scope=row>B</th><td>0.0006802717</td><td>2.453048e-09</td><td>0.003732960</td><td>0.0004155398</td><td>0.0019878533</td></tr>\n",
       "\t<tr><th scope=row>CD14+ Mono</th><td>0.0004720952</td><td>2.920255e-08</td><td>0.005437304</td><td>0.0042161699</td><td>0.0007037706</td></tr>\n",
       "\t<tr><th scope=row>CD8 T</th><td>0.0462912805</td><td>3.352702e-03</td><td>0.152427167</td><td>0.2917648554</td><td>0.0910318717</td></tr>\n",
       "\t<tr><th scope=row>DC</th><td>0.0021782795</td><td>3.081934e-06</td><td>0.025633126</td><td>0.0205157008</td><td>0.0072182380</td></tr>\n",
       "\t<tr><th scope=row>FCGR3A+ Mono</th><td>0.0006689421</td><td>1.103449e-07</td><td>0.006230432</td><td>0.0082531357</td><td>0.0007133698</td></tr>\n",
       "</tbody>\n",
       "</table>\n"
      ],
      "text/latex": [
       "A data.frame: 5 × 5\n",
       "\\begin{tabular}{r|lllll}\n",
       "  & AAACATACAACCAC-1 & AAACATTGATCAGC-1 & AAACGCACTGGTAC-1 & AAATGTTGCCACAA-1 & AACACGTGCAGAGG-1\\\\\n",
       "  & <dbl> & <dbl> & <dbl> & <dbl> & <dbl>\\\\\n",
       "\\hline\n",
       "\tB & 0.0006802717 & 2.453048e-09 & 0.003732960 & 0.0004155398 & 0.0019878533\\\\\n",
       "\tCD14+ Mono & 0.0004720952 & 2.920255e-08 & 0.005437304 & 0.0042161699 & 0.0007037706\\\\\n",
       "\tCD8 T & 0.0462912805 & 3.352702e-03 & 0.152427167 & 0.2917648554 & 0.0910318717\\\\\n",
       "\tDC & 0.0021782795 & 3.081934e-06 & 0.025633126 & 0.0205157008 & 0.0072182380\\\\\n",
       "\tFCGR3A+ Mono & 0.0006689421 & 1.103449e-07 & 0.006230432 & 0.0082531357 & 0.0007133698\\\\\n",
       "\\end{tabular}\n"
      ],
      "text/markdown": [
       "\n",
       "A data.frame: 5 × 5\n",
       "\n",
       "| <!--/--> | AAACATACAACCAC-1 &lt;dbl&gt; | AAACATTGATCAGC-1 &lt;dbl&gt; | AAACGCACTGGTAC-1 &lt;dbl&gt; | AAATGTTGCCACAA-1 &lt;dbl&gt; | AACACGTGCAGAGG-1 &lt;dbl&gt; |\n",
       "|---|---|---|---|---|---|\n",
       "| B | 0.0006802717 | 2.453048e-09 | 0.003732960 | 0.0004155398 | 0.0019878533 |\n",
       "| CD14+ Mono | 0.0004720952 | 2.920255e-08 | 0.005437304 | 0.0042161699 | 0.0007037706 |\n",
       "| CD8 T | 0.0462912805 | 3.352702e-03 | 0.152427167 | 0.2917648554 | 0.0910318717 |\n",
       "| DC | 0.0021782795 | 3.081934e-06 | 0.025633126 | 0.0205157008 | 0.0072182380 |\n",
       "| FCGR3A+ Mono | 0.0006689421 | 1.103449e-07 | 0.006230432 | 0.0082531357 | 0.0007133698 |\n",
       "\n"
      ],
      "text/plain": [
       "             AAACATACAACCAC-1 AAACATTGATCAGC-1 AAACGCACTGGTAC-1\n",
       "B            0.0006802717     2.453048e-09     0.003732960     \n",
       "CD14+ Mono   0.0004720952     2.920255e-08     0.005437304     \n",
       "CD8 T        0.0462912805     3.352702e-03     0.152427167     \n",
       "DC           0.0021782795     3.081934e-06     0.025633126     \n",
       "FCGR3A+ Mono 0.0006689421     1.103449e-07     0.006230432     \n",
       "             AAATGTTGCCACAA-1 AACACGTGCAGAGG-1\n",
       "B            0.0004155398     0.0019878533    \n",
       "CD14+ Mono   0.0042161699     0.0007037706    \n",
       "CD8 T        0.2917648554     0.0910318717    \n",
       "DC           0.0205157008     0.0072182380    \n",
       "FCGR3A+ Mono 0.0082531357     0.0007133698    "
      ]
     },
     "metadata": {},
     "output_type": "display_data"
    }
   ],
   "source": [
    "# Score for each cell type for each cell\n",
    "myPreds$typePredictions[1:5,1:5]"
   ]
  },
  {
   "cell_type": "code",
   "execution_count": 23,
   "id": "598f7eeb",
   "metadata": {},
   "outputs": [
    {
     "data": {
      "text/html": [
       "<style>\n",
       ".dl-inline {width: auto; margin:0; padding: 0}\n",
       ".dl-inline>dt, .dl-inline>dd {float: none; width: auto; display: inline-block}\n",
       ".dl-inline>dt::after {content: \":\\0020\"; padding-right: .5ex}\n",
       ".dl-inline>dt:not(:first-of-type) {padding-left: .5ex}\n",
       "</style><dl class=dl-inline><dt>AAACCGTGTATGCG-1</dt><dd>'NK'</dd><dt>AACGCCCTCGTACA-1</dt><dd>'NK'</dd><dt>AAGATTACCTCAAG-1</dt><dd>'NK'</dd><dt>AAGCAAGAGGTGTT-1</dt><dd>'NK'</dd><dt>ACAAATTGTTGCGA-1</dt><dd>'NK'</dd><dt>ACAGGTACTGGTGT-1</dt><dd>'NK'</dd></dl>\n"
      ],
      "text/latex": [
       "\\begin{description*}\n",
       "\\item[AAACCGTGTATGCG-1] 'NK'\n",
       "\\item[AACGCCCTCGTACA-1] 'NK'\n",
       "\\item[AAGATTACCTCAAG-1] 'NK'\n",
       "\\item[AAGCAAGAGGTGTT-1] 'NK'\n",
       "\\item[ACAAATTGTTGCGA-1] 'NK'\n",
       "\\item[ACAGGTACTGGTGT-1] 'NK'\n",
       "\\end{description*}\n"
      ],
      "text/markdown": [
       "AAACCGTGTATGCG-1\n",
       ":   'NK'AACGCCCTCGTACA-1\n",
       ":   'NK'AAGATTACCTCAAG-1\n",
       ":   'NK'AAGCAAGAGGTGTT-1\n",
       ":   'NK'ACAAATTGTTGCGA-1\n",
       ":   'NK'ACAGGTACTGGTGT-1\n",
       ":   'NK'\n",
       "\n"
      ],
      "text/plain": [
       "AAACCGTGTATGCG-1 AACGCCCTCGTACA-1 AAGATTACCTCAAG-1 AAGCAAGAGGTGTT-1 \n",
       "            \"NK\"             \"NK\"             \"NK\"             \"NK\" \n",
       "ACAAATTGTTGCGA-1 ACAGGTACTGGTGT-1 \n",
       "            \"NK\"             \"NK\" "
      ]
     },
     "metadata": {},
     "output_type": "display_data"
    }
   ],
   "source": [
    "# Cell type for each cell\n",
    "head(myPreds$cellTypes)"
   ]
  },
  {
   "cell_type": "code",
   "execution_count": 24,
   "id": "24ef0f03",
   "metadata": {},
   "outputs": [
    {
     "name": "stderr",
     "output_type": "stream",
     "text": [
      "load model\n",
      "\n",
      "Cell type: Memory CD4 T, prediction: Memory CD4 T\n",
      "\n",
      "load model\n",
      "\n",
      "Cell type: B, prediction: B\n",
      "\n",
      "load model\n",
      "\n",
      "Cell type: CD14+ Mono, prediction: CD14+ Mono\n",
      "\n",
      "load model\n",
      "\n",
      "Cell type: NK, prediction: NK\n",
      "\n",
      "load model\n",
      "\n",
      "Cell type: CD8 T, prediction: CD8 T\n",
      "\n",
      "load model\n",
      "\n",
      "Cell type: Naive CD4 T, prediction: Naive CD4 T\n",
      "\n",
      "load model\n",
      "\n",
      "Cell type: FCGR3A+ Mono, prediction: FCGR3A+ Mono\n",
      "\n",
      "load model\n",
      "\n",
      "Cell type: DC, prediction: DC\n",
      "\n",
      "load model\n",
      "\n",
      "Cell type: Platelet, prediction: NK\n",
      "\n"
     ]
    }
   ],
   "source": [
    "for ( myClust in unique(clusters_df)){\n",
    "    myPreds <- scMLP_classifier(expr_df, clusters_df, myClust)\n",
    "    message(\"Cell type: \", myClust, \", prediction: \", myPreds$prediction)\n",
    "}\n"
   ]
  },
  {
   "cell_type": "markdown",
   "id": "4e911b58",
   "metadata": {},
   "source": [
    "## The function RF_classifier can be used as classifier with the adverSCarial package functions"
   ]
  },
  {
   "cell_type": "markdown",
   "id": "374b9a17",
   "metadata": {},
   "source": [
    "# Run a single-gene attack\n",
    "Example of single-gene attack with the positive-aberrant modification on the NK cluster.\n",
    "The argument returnFirstFound=T indicates that the process should stop the attack when a successful attack is detected and return the corresponding gene"
   ]
  },
  {
   "cell_type": "code",
   "execution_count": 32,
   "id": "f70d65b6",
   "metadata": {},
   "outputs": [
    {
     "name": "stderr",
     "output_type": "stream",
     "text": [
      "predictWithNewValue data.frame data.frame\n",
      "\n",
      "load model\n",
      "\n",
      "Split number: 1/100\n",
      "\n",
      "predictWithNewValue data.frame data.frame\n",
      "\n",
      "load model\n",
      "\n",
      "cellType: DC\n",
      "\n",
      "classifTarget: NK\n",
      "\n",
      "target: NK\n",
      "\n",
      "predictWithNewValue data.frame data.frame\n",
      "\n",
      "load model\n",
      "\n",
      "cellType: CD8 T\n",
      "\n",
      "classifTarget: NK\n",
      "\n",
      "target: NK\n",
      "\n",
      "predictWithNewValue data.frame data.frame\n",
      "\n",
      "load model\n",
      "\n",
      "cellType: DC\n",
      "\n",
      "classifTarget: NK\n",
      "\n",
      "target: NK\n",
      "\n",
      "predictWithNewValue data.frame data.frame\n",
      "\n",
      "load model\n",
      "\n",
      "cellType: CD8 T\n",
      "\n",
      "classifTarget: NK\n",
      "\n",
      "target: NK\n",
      "\n",
      "predictWithNewValue data.frame data.frame\n",
      "\n",
      "load model\n",
      "\n",
      "cellType: NK\n",
      "\n",
      "classifTarget: NK\n",
      "\n",
      "target: NK\n",
      "\n",
      "predictWithNewValue data.frame data.frame\n",
      "\n",
      "load model\n",
      "\n",
      "cellType: Memory CD4 T\n",
      "\n",
      "classifTarget: NK\n",
      "\n",
      "target: NK\n",
      "\n",
      "predictWithNewValue data.frame data.frame\n",
      "\n",
      "load model\n",
      "\n",
      "cellType: Memory CD4 T\n",
      "\n",
      "classifTarget: NK\n",
      "\n",
      "target: NK\n",
      "\n",
      "predictWithNewValue data.frame data.frame\n",
      "\n",
      "load model\n",
      "\n",
      "cellType: CD14+ Mono\n",
      "\n",
      "classifTarget: NK\n",
      "\n",
      "target: NK\n",
      "\n"
     ]
    }
   ],
   "source": [
    "myAttack <- advSingleGene(expr_df, clusters_df, \"NK\", scMLP_classifier, returnFirstFound = T, advMethod = \"positive_aberrant\")"
   ]
  },
  {
   "cell_type": "code",
   "execution_count": 33,
   "id": "35980ae9",
   "metadata": {},
   "outputs": [
    {
     "data": {
      "text/plain": [
       "$CYP1B1\n",
       "[1] \"CD14+ Mono\" \"1\"         \n"
      ]
     },
     "metadata": {},
     "output_type": "display_data"
    }
   ],
   "source": [
    "myAttack"
   ]
  },
  {
   "cell_type": "markdown",
   "id": "a2c0f35d",
   "metadata": {},
   "source": [
    "Build the modified RNA expression matrix."
   ]
  },
  {
   "cell_type": "code",
   "execution_count": 34,
   "id": "a524b610",
   "metadata": {},
   "outputs": [],
   "source": [
    "mod_expr_df <- advModifications(expr_df, clusters=clusters_df, target=\"NK\", genes=names(myAttack@values)[1], advMethod = \"positive_aberrant\")"
   ]
  },
  {
   "cell_type": "markdown",
   "id": "9558f93c",
   "metadata": {},
   "source": [
    "Check if the attack was successful."
   ]
  },
  {
   "cell_type": "code",
   "execution_count": 35,
   "id": "cd868437",
   "metadata": {},
   "outputs": [
    {
     "name": "stderr",
     "output_type": "stream",
     "text": [
      "load model\n",
      "\n"
     ]
    },
    {
     "data": {
      "text/html": [
       "'CD14+ Mono'"
      ],
      "text/latex": [
       "'CD14+ Mono'"
      ],
      "text/markdown": [
       "'CD14+ Mono'"
      ],
      "text/plain": [
       "[1] \"CD14+ Mono\""
      ]
     },
     "metadata": {},
     "output_type": "display_data"
    }
   ],
   "source": [
    "mod_myPreds <- scMLP_classifier(mod_expr_df, clusters_df, \"NK\")\n",
    "mod_myPreds$prediction"
   ]
  },
  {
   "cell_type": "code",
   "execution_count": null,
   "id": "b2e5e842",
   "metadata": {},
   "outputs": [],
   "source": []
  },
  {
   "cell_type": "code",
   "execution_count": null,
   "id": "d606b722",
   "metadata": {},
   "outputs": [],
   "source": []
  },
  {
   "cell_type": "code",
   "execution_count": 36,
   "id": "5492f4a2",
   "metadata": {},
   "outputs": [
    {
     "data": {
      "text/plain": [
       "R version 4.3.3 (2024-02-29)\n",
       "Platform: x86_64-pc-linux-gnu (64-bit)\n",
       "Running under: Ubuntu 20.04.4 LTS\n",
       "\n",
       "Matrix products: default\n",
       "BLAS:   /usr/lib/x86_64-linux-gnu/blas/libblas.so.3.9.0 \n",
       "LAPACK: /usr/lib/x86_64-linux-gnu/lapack/liblapack.so.3.9.0\n",
       "\n",
       "locale:\n",
       " [1] LC_CTYPE=en_US.UTF-8       LC_NUMERIC=C              \n",
       " [3] LC_TIME=fr_FR.UTF-8        LC_COLLATE=en_US.UTF-8    \n",
       " [5] LC_MONETARY=fr_FR.UTF-8    LC_MESSAGES=en_US.UTF-8   \n",
       " [7] LC_PAPER=fr_FR.UTF-8       LC_NAME=C                 \n",
       " [9] LC_ADDRESS=C               LC_TELEPHONE=C            \n",
       "[11] LC_MEASUREMENT=fr_FR.UTF-8 LC_IDENTIFICATION=C       \n",
       "\n",
       "time zone: Europe/Paris\n",
       "tzcode source: system (glibc)\n",
       "\n",
       "attached base packages:\n",
       "[1] stats     graphics  grDevices utils     datasets  methods   base     \n",
       "\n",
       "other attached packages:\n",
       "[1] adverSCarial_1.3.6 dplyr_1.1.2        keras_2.15.0       reticulate_1.36.1 \n",
       "\n",
       "loaded via a namespace (and not attached):\n",
       " [1] Matrix_1.6-5          jsonlite_1.8.8        compiler_4.3.3       \n",
       " [4] crayon_1.5.2          tidyselect_1.2.0      Rcpp_1.0.12          \n",
       " [7] zeallot_0.1.0         IRdisplay_1.1         tensorflow_2.16.0    \n",
       "[10] IRanges_2.35.1        tfruns_1.5.3          png_0.1-8            \n",
       "[13] uuid_1.1-0            fastmap_1.1.1         IRkernel_1.3.2       \n",
       "[16] lattice_0.21-8        XVector_0.41.1        R6_2.5.1             \n",
       "[19] S4Arrays_1.1.4        generics_0.1.3        BiocGenerics_0.47.0  \n",
       "[22] tibble_3.2.1          DelayedArray_0.27.5   MatrixGenerics_1.13.0\n",
       "[25] pillar_1.9.0          rlang_1.1.3           utf8_1.2.4           \n",
       "[28] repr_1.1.6            SparseArray_1.1.10    cli_3.6.2            \n",
       "[31] magrittr_2.0.3        zlibbioc_1.47.0       digest_0.6.31        \n",
       "[34] grid_4.3.3            base64enc_0.1-3       pbdZMQ_0.3-9         \n",
       "[37] lifecycle_1.0.4       S4Vectors_0.39.1      vctrs_0.6.5          \n",
       "[40] evaluate_0.21         glue_1.7.0            whisker_0.4.1        \n",
       "[43] stats4_4.3.3          fansi_1.0.6           matrixStats_1.0.0    \n",
       "[46] tools_4.3.3           pkgconfig_2.0.3       htmltools_0.5.5      "
      ]
     },
     "metadata": {},
     "output_type": "display_data"
    }
   ],
   "source": [
    "sessionInfo()"
   ]
  },
  {
   "cell_type": "code",
   "execution_count": null,
   "id": "b915e6ce",
   "metadata": {},
   "outputs": [],
   "source": []
  }
 ],
 "metadata": {
  "kernelspec": {
   "display_name": "R",
   "language": "R",
   "name": "ir"
  },
  "language_info": {
   "codemirror_mode": "r",
   "file_extension": ".r",
   "mimetype": "text/x-r-source",
   "name": "R",
   "pygments_lexer": "r",
   "version": "4.3.3"
  }
 },
 "nbformat": 4,
 "nbformat_minor": 5
}
