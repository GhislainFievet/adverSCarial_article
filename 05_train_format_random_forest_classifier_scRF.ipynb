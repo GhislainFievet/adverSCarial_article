{
 "cells": [
  {
   "cell_type": "markdown",
   "id": "0a125d3c",
   "metadata": {},
   "source": [
    "# Train scRF, a random forest-based classifier\n",
    "\n",
    "- How to train a random forest classifier\n",
    "- How to format the classifier to use it with adverSCarial"
   ]
  },
  {
   "cell_type": "code",
   "execution_count": 1,
   "id": "11b05ec0",
   "metadata": {},
   "outputs": [
    {
     "name": "stderr",
     "output_type": "stream",
     "text": [
      "randomForest 4.7-1.1\n",
      "\n",
      "Type rfNews() to see new features/changes/bug fixes.\n",
      "\n",
      "\n",
      "Attaching package: ‘dplyr’\n",
      "\n",
      "\n",
      "The following object is masked from ‘package:randomForest’:\n",
      "\n",
      "    combine\n",
      "\n",
      "\n",
      "The following objects are masked from ‘package:stats’:\n",
      "\n",
      "    filter, lag\n",
      "\n",
      "\n",
      "The following objects are masked from ‘package:base’:\n",
      "\n",
      "    intersect, setdiff, setequal, union\n",
      "\n",
      "\n"
     ]
    }
   ],
   "source": [
    "library(randomForest)\n",
    "library(dplyr)"
   ]
  },
  {
   "cell_type": "code",
   "execution_count": 2,
   "id": "bef22ea3",
   "metadata": {},
   "outputs": [
    {
     "data": {
      "text/plain": [
       "[1] ‘4.7.1.1’"
      ]
     },
     "metadata": {},
     "output_type": "display_data"
    }
   ],
   "source": [
    "packageVersion(\"randomForest\")"
   ]
  },
  {
   "cell_type": "code",
   "execution_count": 3,
   "id": "0cfe9ea5",
   "metadata": {},
   "outputs": [],
   "source": [
    "df_train <- read.table(\"data//v2//seurat_scaled_pbmc_train.txt\")\n",
    "df_test <- read.table(\"data//v2//seurat_scaled_pbmc_test.txt\")"
   ]
  },
  {
   "cell_type": "code",
   "execution_count": 4,
   "id": "f24fd647",
   "metadata": {},
   "outputs": [
    {
     "data": {
      "text/plain": [
       "\n",
       "           B   CD14+ Mono        CD8 T           DC FCGR3A+ Mono Memory CD4 T \n",
       "         172          240          140           16           81          236 \n",
       " Naive CD4 T           NK     Platelet \n",
       "         356           72            7 "
      ]
     },
     "metadata": {},
     "output_type": "display_data"
    }
   ],
   "source": [
    "# Unbalanced training set\n",
    "table(df_train$y)"
   ]
  },
  {
   "cell_type": "code",
   "execution_count": 5,
   "id": "e7571fdb",
   "metadata": {},
   "outputs": [
    {
     "data": {
      "text/html": [
       "<table class=\"dataframe\">\n",
       "<caption>A data.frame: 5 × 6</caption>\n",
       "<thead>\n",
       "\t<tr><th></th><th scope=col>AL627309.1</th><th scope=col>AP006222.2</th><th scope=col>RP11.206L10.2</th><th scope=col>RP11.206L10.9</th><th scope=col>LINC00115</th><th scope=col>y</th></tr>\n",
       "\t<tr><th></th><th scope=col>&lt;dbl&gt;</th><th scope=col>&lt;dbl&gt;</th><th scope=col>&lt;dbl&gt;</th><th scope=col>&lt;dbl&gt;</th><th scope=col>&lt;dbl&gt;</th><th scope=col>&lt;chr&gt;</th></tr>\n",
       "</thead>\n",
       "<tbody>\n",
       "\t<tr><th scope=row>TCCCGATGAGATCC-1</th><td>-0.05812316</td><td>-0.03357571</td><td>-0.04166819</td><td>-0.03364562</td><td>-0.08223981</td><td>Memory CD4 T</td></tr>\n",
       "\t<tr><th scope=row>TTCATGTGTGGTGT-1</th><td>-0.05812316</td><td>-0.03357571</td><td>-0.04166819</td><td>-0.03364562</td><td>-0.08223981</td><td>Memory CD4 T</td></tr>\n",
       "\t<tr><th scope=row>CCAGTGCTAACCAC-1</th><td>-0.05812316</td><td>-0.03357571</td><td>-0.04166819</td><td>-0.03364562</td><td>-0.08223981</td><td>Memory CD4 T</td></tr>\n",
       "\t<tr><th scope=row>AACTCTTGCAGGAG-1</th><td>-0.05812316</td><td>-0.03357571</td><td>-0.04166819</td><td>-0.03364562</td><td>-0.08223981</td><td>Memory CD4 T</td></tr>\n",
       "\t<tr><th scope=row>CGAGCCGAGGCGAA-1</th><td>-0.05812316</td><td>-0.03357571</td><td>-0.04166819</td><td>-0.03364562</td><td>-0.08223981</td><td>Memory CD4 T</td></tr>\n",
       "</tbody>\n",
       "</table>\n"
      ],
      "text/latex": [
       "A data.frame: 5 × 6\n",
       "\\begin{tabular}{r|llllll}\n",
       "  & AL627309.1 & AP006222.2 & RP11.206L10.2 & RP11.206L10.9 & LINC00115 & y\\\\\n",
       "  & <dbl> & <dbl> & <dbl> & <dbl> & <dbl> & <chr>\\\\\n",
       "\\hline\n",
       "\tTCCCGATGAGATCC-1 & -0.05812316 & -0.03357571 & -0.04166819 & -0.03364562 & -0.08223981 & Memory CD4 T\\\\\n",
       "\tTTCATGTGTGGTGT-1 & -0.05812316 & -0.03357571 & -0.04166819 & -0.03364562 & -0.08223981 & Memory CD4 T\\\\\n",
       "\tCCAGTGCTAACCAC-1 & -0.05812316 & -0.03357571 & -0.04166819 & -0.03364562 & -0.08223981 & Memory CD4 T\\\\\n",
       "\tAACTCTTGCAGGAG-1 & -0.05812316 & -0.03357571 & -0.04166819 & -0.03364562 & -0.08223981 & Memory CD4 T\\\\\n",
       "\tCGAGCCGAGGCGAA-1 & -0.05812316 & -0.03357571 & -0.04166819 & -0.03364562 & -0.08223981 & Memory CD4 T\\\\\n",
       "\\end{tabular}\n"
      ],
      "text/markdown": [
       "\n",
       "A data.frame: 5 × 6\n",
       "\n",
       "| <!--/--> | AL627309.1 &lt;dbl&gt; | AP006222.2 &lt;dbl&gt; | RP11.206L10.2 &lt;dbl&gt; | RP11.206L10.9 &lt;dbl&gt; | LINC00115 &lt;dbl&gt; | y &lt;chr&gt; |\n",
       "|---|---|---|---|---|---|---|\n",
       "| TCCCGATGAGATCC-1 | -0.05812316 | -0.03357571 | -0.04166819 | -0.03364562 | -0.08223981 | Memory CD4 T |\n",
       "| TTCATGTGTGGTGT-1 | -0.05812316 | -0.03357571 | -0.04166819 | -0.03364562 | -0.08223981 | Memory CD4 T |\n",
       "| CCAGTGCTAACCAC-1 | -0.05812316 | -0.03357571 | -0.04166819 | -0.03364562 | -0.08223981 | Memory CD4 T |\n",
       "| AACTCTTGCAGGAG-1 | -0.05812316 | -0.03357571 | -0.04166819 | -0.03364562 | -0.08223981 | Memory CD4 T |\n",
       "| CGAGCCGAGGCGAA-1 | -0.05812316 | -0.03357571 | -0.04166819 | -0.03364562 | -0.08223981 | Memory CD4 T |\n",
       "\n"
      ],
      "text/plain": [
       "                 AL627309.1  AP006222.2  RP11.206L10.2 RP11.206L10.9\n",
       "TCCCGATGAGATCC-1 -0.05812316 -0.03357571 -0.04166819   -0.03364562  \n",
       "TTCATGTGTGGTGT-1 -0.05812316 -0.03357571 -0.04166819   -0.03364562  \n",
       "CCAGTGCTAACCAC-1 -0.05812316 -0.03357571 -0.04166819   -0.03364562  \n",
       "AACTCTTGCAGGAG-1 -0.05812316 -0.03357571 -0.04166819   -0.03364562  \n",
       "CGAGCCGAGGCGAA-1 -0.05812316 -0.03357571 -0.04166819   -0.03364562  \n",
       "                 LINC00115   y           \n",
       "TCCCGATGAGATCC-1 -0.08223981 Memory CD4 T\n",
       "TTCATGTGTGGTGT-1 -0.08223981 Memory CD4 T\n",
       "CCAGTGCTAACCAC-1 -0.08223981 Memory CD4 T\n",
       "AACTCTTGCAGGAG-1 -0.08223981 Memory CD4 T\n",
       "CGAGCCGAGGCGAA-1 -0.08223981 Memory CD4 T"
      ]
     },
     "metadata": {},
     "output_type": "display_data"
    }
   ],
   "source": [
    "df_train[1:5, c(colnames(df_train)[1:5],\"y\")]"
   ]
  },
  {
   "cell_type": "code",
   "execution_count": 6,
   "id": "49df2a78",
   "metadata": {},
   "outputs": [
    {
     "data": {
      "text/html": [
       "<style>\n",
       ".list-inline {list-style: none; margin:0; padding: 0}\n",
       ".list-inline>li {display: inline-block}\n",
       ".list-inline>li:not(:last-child)::after {content: \"\\00b7\"; padding: 0 .5ex}\n",
       "</style>\n",
       "<ol class=list-inline><li>'Memory CD4 T'</li><li>'Memory CD4 T'</li><li>'Memory CD4 T'</li><li>'Memory CD4 T'</li><li>'Memory CD4 T'</li><li>'Memory CD4 T'</li></ol>\n"
      ],
      "text/latex": [
       "\\begin{enumerate*}\n",
       "\\item 'Memory CD4 T'\n",
       "\\item 'Memory CD4 T'\n",
       "\\item 'Memory CD4 T'\n",
       "\\item 'Memory CD4 T'\n",
       "\\item 'Memory CD4 T'\n",
       "\\item 'Memory CD4 T'\n",
       "\\end{enumerate*}\n"
      ],
      "text/markdown": [
       "1. 'Memory CD4 T'\n",
       "2. 'Memory CD4 T'\n",
       "3. 'Memory CD4 T'\n",
       "4. 'Memory CD4 T'\n",
       "5. 'Memory CD4 T'\n",
       "6. 'Memory CD4 T'\n",
       "\n",
       "\n"
      ],
      "text/plain": [
       "[1] \"Memory CD4 T\" \"Memory CD4 T\" \"Memory CD4 T\" \"Memory CD4 T\" \"Memory CD4 T\"\n",
       "[6] \"Memory CD4 T\""
      ]
     },
     "metadata": {},
     "output_type": "display_data"
    }
   ],
   "source": [
    "head(df_train$y)"
   ]
  },
  {
   "cell_type": "code",
   "execution_count": 7,
   "id": "2dd14ac6",
   "metadata": {},
   "outputs": [],
   "source": [
    "# Generate boostrap data\n",
    "generate_bootstrap_samples <- function(subset_df, target_count) {\n",
    "  n_needed <- target_count - nrow(subset_df)\n",
    "  bootstrap_samples <- data.frame(matrix(ncol = ncol(subset_df), nrow = n_needed))\n",
    "  \n",
    "  names(bootstrap_samples) <- names(subset_df)\n",
    "  \n",
    "  for (col in names(subset_df)) {\n",
    "    sampled_values <- sample(subset_df[[col]], n_needed, replace = TRUE)\n",
    "    bootstrap_samples[[col]] <- sampled_values\n",
    "  }\n",
    "  \n",
    "  return(bootstrap_samples)\n",
    "}\n"
   ]
  },
  {
   "cell_type": "code",
   "execution_count": 8,
   "id": "af1b66c6",
   "metadata": {},
   "outputs": [],
   "source": [
    "# Generate a balanced dataset by using boostrap data if necessary\n",
    "balance_data <- function(df, label_column, target_count) {\n",
    "  balanced_df <- data.frame()\n",
    "  \n",
    "  labels <- unique(df[[label_column]])\n",
    "  \n",
    "  for (label in labels) {\n",
    "    subset_df <- df[df[[label_column]] == label, ]\n",
    "    \n",
    "    if (nrow(subset_df) >= target_count) {\n",
    "      subset_balanced <- subset_df[sample(nrow(subset_df), target_count), ]\n",
    "    } else {\n",
    "      extra_samples <- generate_bootstrap_samples(subset_df, target_count)\n",
    "      subset_balanced <- rbind(subset_df, extra_samples)\n",
    "    }\n",
    "    \n",
    "    balanced_df <- rbind(balanced_df, subset_balanced)\n",
    "  }\n",
    "  \n",
    "  return(balanced_df)\n",
    "}\n"
   ]
  },
  {
   "cell_type": "code",
   "execution_count": 9,
   "id": "9603d2d9",
   "metadata": {},
   "outputs": [],
   "source": [
    "df_train_boot <- balance_data(df_train, \"y\", 100)"
   ]
  },
  {
   "cell_type": "code",
   "execution_count": 10,
   "id": "b1ede439",
   "metadata": {},
   "outputs": [
    {
     "data": {
      "text/html": [
       "<style>\n",
       ".list-inline {list-style: none; margin:0; padding: 0}\n",
       ".list-inline>li {display: inline-block}\n",
       ".list-inline>li:not(:last-child)::after {content: \"\\00b7\"; padding: 0 .5ex}\n",
       "</style>\n",
       "<ol class=list-inline><li>900</li><li>13715</li></ol>\n"
      ],
      "text/latex": [
       "\\begin{enumerate*}\n",
       "\\item 900\n",
       "\\item 13715\n",
       "\\end{enumerate*}\n"
      ],
      "text/markdown": [
       "1. 900\n",
       "2. 13715\n",
       "\n",
       "\n"
      ],
      "text/plain": [
       "[1]   900 13715"
      ]
     },
     "metadata": {},
     "output_type": "display_data"
    }
   ],
   "source": [
    "dim(df_train_boot)"
   ]
  },
  {
   "cell_type": "code",
   "execution_count": 15,
   "id": "e0e1c376",
   "metadata": {},
   "outputs": [],
   "source": [
    "# Prepare data\n",
    "x_train <- as.matrix(df_train_boot[, -which(names(df_train_boot) == \"y\")])\n",
    "x_test <- as.matrix(df_test[, -which(names(df_test) == \"y\")])"
   ]
  },
  {
   "cell_type": "code",
   "execution_count": 16,
   "id": "503560a4",
   "metadata": {},
   "outputs": [],
   "source": [
    "y_train <- as.factor(df_train_boot$y)\n",
    "y_test <- as.factor(df_test$y)"
   ]
  },
  {
   "cell_type": "code",
   "execution_count": 37,
   "id": "d4a4b5bf",
   "metadata": {},
   "outputs": [
    {
     "data": {
      "text/plain": [
       "y_train\n",
       "           B   CD14+ Mono        CD8 T           DC FCGR3A+ Mono Memory CD4 T \n",
       "         100          100          100          100          100          100 \n",
       " Naive CD4 T           NK     Platelet \n",
       "         100          100          100 "
      ]
     },
     "metadata": {},
     "output_type": "display_data"
    }
   ],
   "source": [
    "# Balanced training set\n",
    "table(y_train)"
   ]
  },
  {
   "cell_type": "markdown",
   "id": "64992fc8",
   "metadata": {},
   "source": [
    "Train model with default values"
   ]
  },
  {
   "cell_type": "code",
   "execution_count": 18,
   "id": "081b90f5",
   "metadata": {},
   "outputs": [],
   "source": [
    "rf_model <- randomForest(x_train, y_train)"
   ]
  },
  {
   "cell_type": "code",
   "execution_count": 23,
   "id": "6ce1ac9a",
   "metadata": {},
   "outputs": [],
   "source": [
    "saveRDS(rf_model, \"repr_data/classifiers/scRF/random_forest_model.rds\")"
   ]
  },
  {
   "cell_type": "code",
   "execution_count": 24,
   "id": "3b79e48e",
   "metadata": {},
   "outputs": [],
   "source": [
    "rfModel <- readRDS(\"repr_data/classifiers/scRF/random_forest_model.rds\")"
   ]
  },
  {
   "cell_type": "markdown",
   "id": "94b97ccb",
   "metadata": {},
   "source": [
    "# Format the Classifier\n",
    "To work with adverSCarial the classifier needs to be formated in a certain way."
   ]
  },
  {
   "cell_type": "code",
   "execution_count": 39,
   "id": "4229b008",
   "metadata": {},
   "outputs": [],
   "source": [
    "RF_classifier <- function(expr, clusters, target){\n",
    "    library(randomForest)\n",
    "    # Load the model\n",
    "    rfModel <- readRDS(\"repr_data/classifiers/scRF/random_forest_model.rds\")\n",
    "    # Predict with the model\n",
    "    predictions <- predict(rfModel, expr, type=\"prob\")\n",
    "    if (sum(clusters == target) == 0 ){\n",
    "        return( c(\"UNDETERMINED\",1))\n",
    "    }\n",
    "    # Get the cell type with the highest odds\n",
    "    cell_types <- apply(predictions[clusters == target,], 1, function(x){\n",
    "        names(x[x == max(x)])[1]\n",
    "    })\n",
    "    table_cell_type <<- table(cell_types)\n",
    "    str_class <- names(table_cell_type[order(table_cell_type, decreasing=T)][1])\n",
    "    resSCtype <- list(\n",
    "        # Cell type prediction for the cluster\n",
    "        prediction=str_class,\n",
    "        # Score of the predicted cell type\n",
    "        odd=1,\n",
    "        # Score for each cell type for each cell\n",
    "        typePredictions=as.data.frame(t(predictions)),\n",
    "        # Cell type for each cell\n",
    "        cellTypes=cell_types)\n",
    "\n",
    "    return(resSCtype)\n",
    "}"
   ]
  },
  {
   "cell_type": "code",
   "execution_count": 26,
   "id": "8c40b6e9",
   "metadata": {},
   "outputs": [],
   "source": [
    "df_pbmc_test <- df_test\n",
    "expr_df <- df_pbmc_test[, -which(names(df_pbmc_test) == \"y\")]\n",
    "clusters_df <- df_pbmc_test$y\n",
    "names(clusters_df) <- rownames(df_pbmc_test)"
   ]
  },
  {
   "cell_type": "markdown",
   "id": "fb0e256c",
   "metadata": {},
   "source": [
    "Classification of a cluster."
   ]
  },
  {
   "cell_type": "code",
   "execution_count": 40,
   "id": "8951f950",
   "metadata": {},
   "outputs": [],
   "source": [
    "myPreds <- RF_classifier(expr_df, clusters_df, \"NK\")"
   ]
  },
  {
   "cell_type": "code",
   "execution_count": 34,
   "id": "08ce6b69",
   "metadata": {},
   "outputs": [
    {
     "data": {
      "text/html": [
       "'NK'"
      ],
      "text/latex": [
       "'NK'"
      ],
      "text/markdown": [
       "'NK'"
      ],
      "text/plain": [
       "[1] \"NK\""
      ]
     },
     "metadata": {},
     "output_type": "display_data"
    }
   ],
   "source": [
    "# Cell type prediction for the cluster\n",
    "myPreds$prediction"
   ]
  },
  {
   "cell_type": "code",
   "execution_count": 35,
   "id": "1cabb369",
   "metadata": {},
   "outputs": [
    {
     "data": {
      "text/html": [
       "<table class=\"dataframe\">\n",
       "<caption>A data.frame: 5 × 5</caption>\n",
       "<thead>\n",
       "\t<tr><th></th><th scope=col>AAACATACAACCAC-1</th><th scope=col>AAACATTGATCAGC-1</th><th scope=col>AAACGCACTGGTAC-1</th><th scope=col>AAATGTTGCCACAA-1</th><th scope=col>AACACGTGCAGAGG-1</th></tr>\n",
       "\t<tr><th></th><th scope=col>&lt;dbl&gt;</th><th scope=col>&lt;dbl&gt;</th><th scope=col>&lt;dbl&gt;</th><th scope=col>&lt;dbl&gt;</th><th scope=col>&lt;dbl&gt;</th></tr>\n",
       "</thead>\n",
       "<tbody>\n",
       "\t<tr><th scope=row>B</th><td>0.052</td><td>0.076</td><td>0.102</td><td>0.080</td><td>0.106</td></tr>\n",
       "\t<tr><th scope=row>CD14+ Mono</th><td>0.016</td><td>0.040</td><td>0.038</td><td>0.054</td><td>0.034</td></tr>\n",
       "\t<tr><th scope=row>CD8 T</th><td>0.254</td><td>0.190</td><td>0.198</td><td>0.242</td><td>0.228</td></tr>\n",
       "\t<tr><th scope=row>DC</th><td>0.012</td><td>0.018</td><td>0.022</td><td>0.040</td><td>0.030</td></tr>\n",
       "\t<tr><th scope=row>FCGR3A+ Mono</th><td>0.008</td><td>0.020</td><td>0.020</td><td>0.036</td><td>0.026</td></tr>\n",
       "</tbody>\n",
       "</table>\n"
      ],
      "text/latex": [
       "A data.frame: 5 × 5\n",
       "\\begin{tabular}{r|lllll}\n",
       "  & AAACATACAACCAC-1 & AAACATTGATCAGC-1 & AAACGCACTGGTAC-1 & AAATGTTGCCACAA-1 & AACACGTGCAGAGG-1\\\\\n",
       "  & <dbl> & <dbl> & <dbl> & <dbl> & <dbl>\\\\\n",
       "\\hline\n",
       "\tB & 0.052 & 0.076 & 0.102 & 0.080 & 0.106\\\\\n",
       "\tCD14+ Mono & 0.016 & 0.040 & 0.038 & 0.054 & 0.034\\\\\n",
       "\tCD8 T & 0.254 & 0.190 & 0.198 & 0.242 & 0.228\\\\\n",
       "\tDC & 0.012 & 0.018 & 0.022 & 0.040 & 0.030\\\\\n",
       "\tFCGR3A+ Mono & 0.008 & 0.020 & 0.020 & 0.036 & 0.026\\\\\n",
       "\\end{tabular}\n"
      ],
      "text/markdown": [
       "\n",
       "A data.frame: 5 × 5\n",
       "\n",
       "| <!--/--> | AAACATACAACCAC-1 &lt;dbl&gt; | AAACATTGATCAGC-1 &lt;dbl&gt; | AAACGCACTGGTAC-1 &lt;dbl&gt; | AAATGTTGCCACAA-1 &lt;dbl&gt; | AACACGTGCAGAGG-1 &lt;dbl&gt; |\n",
       "|---|---|---|---|---|---|\n",
       "| B | 0.052 | 0.076 | 0.102 | 0.080 | 0.106 |\n",
       "| CD14+ Mono | 0.016 | 0.040 | 0.038 | 0.054 | 0.034 |\n",
       "| CD8 T | 0.254 | 0.190 | 0.198 | 0.242 | 0.228 |\n",
       "| DC | 0.012 | 0.018 | 0.022 | 0.040 | 0.030 |\n",
       "| FCGR3A+ Mono | 0.008 | 0.020 | 0.020 | 0.036 | 0.026 |\n",
       "\n"
      ],
      "text/plain": [
       "             AAACATACAACCAC-1 AAACATTGATCAGC-1 AAACGCACTGGTAC-1\n",
       "B            0.052            0.076            0.102           \n",
       "CD14+ Mono   0.016            0.040            0.038           \n",
       "CD8 T        0.254            0.190            0.198           \n",
       "DC           0.012            0.018            0.022           \n",
       "FCGR3A+ Mono 0.008            0.020            0.020           \n",
       "             AAATGTTGCCACAA-1 AACACGTGCAGAGG-1\n",
       "B            0.080            0.106           \n",
       "CD14+ Mono   0.054            0.034           \n",
       "CD8 T        0.242            0.228           \n",
       "DC           0.040            0.030           \n",
       "FCGR3A+ Mono 0.036            0.026           "
      ]
     },
     "metadata": {},
     "output_type": "display_data"
    }
   ],
   "source": [
    "# Score for each cell type for each cell\n",
    "myPreds$typePredictions[1:5,1:5]"
   ]
  },
  {
   "cell_type": "code",
   "execution_count": 36,
   "id": "af0c5c1b",
   "metadata": {},
   "outputs": [
    {
     "data": {
      "text/html": [
       "<style>\n",
       ".dl-inline {width: auto; margin:0; padding: 0}\n",
       ".dl-inline>dt, .dl-inline>dd {float: none; width: auto; display: inline-block}\n",
       ".dl-inline>dt::after {content: \":\\0020\"; padding-right: .5ex}\n",
       ".dl-inline>dt:not(:first-of-type) {padding-left: .5ex}\n",
       "</style><dl class=dl-inline><dt>AAACCGTGTATGCG-1</dt><dd>'NK'</dd><dt>AACGCCCTCGTACA-1</dt><dd>'NK'</dd><dt>AAGATTACCTCAAG-1</dt><dd>'NK'</dd><dt>AAGCAAGAGGTGTT-1</dt><dd>'NK'</dd><dt>ACAAATTGTTGCGA-1</dt><dd>'NK'</dd><dt>ACAGGTACTGGTGT-1</dt><dd>'NK'</dd></dl>\n"
      ],
      "text/latex": [
       "\\begin{description*}\n",
       "\\item[AAACCGTGTATGCG-1] 'NK'\n",
       "\\item[AACGCCCTCGTACA-1] 'NK'\n",
       "\\item[AAGATTACCTCAAG-1] 'NK'\n",
       "\\item[AAGCAAGAGGTGTT-1] 'NK'\n",
       "\\item[ACAAATTGTTGCGA-1] 'NK'\n",
       "\\item[ACAGGTACTGGTGT-1] 'NK'\n",
       "\\end{description*}\n"
      ],
      "text/markdown": [
       "AAACCGTGTATGCG-1\n",
       ":   'NK'AACGCCCTCGTACA-1\n",
       ":   'NK'AAGATTACCTCAAG-1\n",
       ":   'NK'AAGCAAGAGGTGTT-1\n",
       ":   'NK'ACAAATTGTTGCGA-1\n",
       ":   'NK'ACAGGTACTGGTGT-1\n",
       ":   'NK'\n",
       "\n"
      ],
      "text/plain": [
       "AAACCGTGTATGCG-1 AACGCCCTCGTACA-1 AAGATTACCTCAAG-1 AAGCAAGAGGTGTT-1 \n",
       "            \"NK\"             \"NK\"             \"NK\"             \"NK\" \n",
       "ACAAATTGTTGCGA-1 ACAGGTACTGGTGT-1 \n",
       "            \"NK\"             \"NK\" "
      ]
     },
     "metadata": {},
     "output_type": "display_data"
    }
   ],
   "source": [
    "# Cell type for each cell\n",
    "head(myPreds$cellTypes)"
   ]
  },
  {
   "cell_type": "markdown",
   "id": "47646f95",
   "metadata": {},
   "source": [
    "## Check the prediction for each cell type"
   ]
  },
  {
   "cell_type": "code",
   "execution_count": 41,
   "id": "6e5d6c09",
   "metadata": {},
   "outputs": [
    {
     "name": "stderr",
     "output_type": "stream",
     "text": [
      "Cell type: Memory CD4 T, prediction: Memory CD4 T\n",
      "\n",
      "Cell type: B, prediction: B\n",
      "\n",
      "Cell type: CD14+ Mono, prediction: CD14+ Mono\n",
      "\n",
      "Cell type: NK, prediction: NK\n",
      "\n",
      "Cell type: CD8 T, prediction: CD8 T\n",
      "\n",
      "Cell type: Naive CD4 T, prediction: Naive CD4 T\n",
      "\n",
      "Cell type: FCGR3A+ Mono, prediction: FCGR3A+ Mono\n",
      "\n",
      "Cell type: DC, prediction: DC\n",
      "\n",
      "Cell type: Platelet, prediction: Platelet\n",
      "\n"
     ]
    }
   ],
   "source": [
    "for ( myClust in unique(clusters_df)){\n",
    "    myPreds <- RF_classifier(expr_df, clusters_df, myClust)\n",
    "    message(\"Cell type: \", myClust, \", prediction: \", myPreds$prediction)\n",
    "}\n"
   ]
  },
  {
   "cell_type": "markdown",
   "id": "6482e290",
   "metadata": {},
   "source": [
    "## The function RF_classifier can be used as classifier with the adverSCarial package functions"
   ]
  },
  {
   "cell_type": "code",
   "execution_count": null,
   "id": "fddb1dbd",
   "metadata": {},
   "outputs": [],
   "source": []
  },
  {
   "cell_type": "code",
   "execution_count": 38,
   "id": "22be808a",
   "metadata": {},
   "outputs": [
    {
     "data": {
      "text/plain": [
       "R version 4.3.3 (2024-02-29)\n",
       "Platform: x86_64-pc-linux-gnu (64-bit)\n",
       "Running under: Ubuntu 20.04.4 LTS\n",
       "\n",
       "Matrix products: default\n",
       "BLAS:   /usr/lib/x86_64-linux-gnu/blas/libblas.so.3.9.0 \n",
       "LAPACK: /usr/lib/x86_64-linux-gnu/lapack/liblapack.so.3.9.0\n",
       "\n",
       "locale:\n",
       " [1] LC_CTYPE=en_US.UTF-8       LC_NUMERIC=C              \n",
       " [3] LC_TIME=fr_FR.UTF-8        LC_COLLATE=en_US.UTF-8    \n",
       " [5] LC_MONETARY=fr_FR.UTF-8    LC_MESSAGES=en_US.UTF-8   \n",
       " [7] LC_PAPER=fr_FR.UTF-8       LC_NAME=C                 \n",
       " [9] LC_ADDRESS=C               LC_TELEPHONE=C            \n",
       "[11] LC_MEASUREMENT=fr_FR.UTF-8 LC_IDENTIFICATION=C       \n",
       "\n",
       "time zone: Europe/Paris\n",
       "tzcode source: system (glibc)\n",
       "\n",
       "attached base packages:\n",
       "[1] stats     graphics  grDevices utils     datasets  methods   base     \n",
       "\n",
       "other attached packages:\n",
       "[1] dplyr_1.1.2          randomForest_4.7-1.1\n",
       "\n",
       "loaded via a namespace (and not attached):\n",
       " [1] digest_0.6.31    IRdisplay_1.1    R6_2.5.1         utf8_1.2.4      \n",
       " [5] base64enc_0.1-3  fastmap_1.1.1    tidyselect_1.2.0 magrittr_2.0.3  \n",
       " [9] glue_1.7.0       tibble_3.2.1     pkgconfig_2.0.3  htmltools_0.5.5 \n",
       "[13] generics_0.1.3   repr_1.1.6       lifecycle_1.0.4  cli_3.6.2       \n",
       "[17] fansi_1.0.6      vctrs_0.6.5      pbdZMQ_0.3-9     compiler_4.3.3  \n",
       "[21] tools_4.3.3      evaluate_0.21    pillar_1.9.0     crayon_1.5.2    \n",
       "[25] rlang_1.1.3      jsonlite_1.8.8   IRkernel_1.3.2   uuid_1.1-0      "
      ]
     },
     "metadata": {},
     "output_type": "display_data"
    }
   ],
   "source": [
    "sessionInfo()"
   ]
  }
 ],
 "metadata": {
  "kernelspec": {
   "display_name": "R",
   "language": "R",
   "name": "ir"
  },
  "language_info": {
   "codemirror_mode": "r",
   "file_extension": ".r",
   "mimetype": "text/x-r-source",
   "name": "R",
   "pygments_lexer": "r",
   "version": "4.3.3"
  }
 },
 "nbformat": 4,
 "nbformat_minor": 5
}
